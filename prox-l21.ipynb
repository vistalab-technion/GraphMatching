{
 "cells": [
  {
   "cell_type": "code",
   "execution_count": 3,
   "metadata": {},
   "outputs": [],
   "source": [
    "#import jax.numpy as np\n",
    "import matplotlib.pyplot as plt\n",
    "#from scipy.optimize import minimize\n",
    "import numpy as np\n",
    "#plt.rcParams[\"figure.figsize\"] = (25,25)\n",
    "from jax.config import config\n",
    "config.update(\"jax_enable_x64\", True)\n",
    "import networkx as nx\n",
    "from scipy.optimize import minimize\n",
    "import jax.numpy as nnp\n",
    "from jax import grad\n",
    "import random\n",
    "\n",
    "import laplacians as lp\n",
    "import opt_helpers as oh\n"
   ]
  },
  {
   "cell_type": "markdown",
   "metadata": {},
   "source": [
    "data"
   ]
  },
  {
   "cell_type": "code",
   "execution_count": 4,
   "metadata": {},
   "outputs": [],
   "source": [
    "#numbers of edges connecting part and graph\n",
    "n_con=0\n",
    "\n",
    "#full graph including the part\n",
    "full_graph='data/can_processed_'+str(n_con)+'.txt'\n",
    "#part of the graph\n",
    "part_graph='data/can_sub_'+str(n_con)+'.txt'\n",
    "#nodes of the part of the graph\n",
    "nodes_part='data/can_subnodes_0.txt'"
   ]
  },
  {
   "cell_type": "markdown",
   "metadata": {},
   "source": [
    "initialization - ground truth plus uniformly distributed noise. Rest of the graph gets initialized with $rest$, with noise in intervall $[-\\frac{noise}{2},\\frac{noise}{2}]$ added.\n"
   ]
  },
  {
   "cell_type": "code",
   "execution_count": 5,
   "metadata": {},
   "outputs": [],
   "source": [
    "diag_val=0.0\n",
    "noise=5.0\n",
    "rest=1.0\n",
    "\n",
    "#damping factor\n",
    "mu=1.0\n",
    "\n",
    "A=lp.edgelist_to_adjmatrix(full_graph)\n",
    "full_size=np.shape(A)[0]\n",
    "\n",
    "\n",
    "subset_nodes=np.loadtxt(nodes_part).astype(int)-1\n",
    "x0=lp.init_orig_subgraph(subset_nodes,full_size, noise,rest)\n",
    "\n",
    "diag_init=np.diag(x0)\n",
    "x0=np.ndarray.flatten(x0)"
   ]
  },
  {
   "cell_type": "markdown",
   "metadata": {},
   "source": [
    "load/prepare real graph + make colormap for rest and part"
   ]
  },
  {
   "cell_type": "code",
   "execution_count": 6,
   "metadata": {},
   "outputs": [],
   "source": [
    "A = lp.edgelist_to_adjmatrix(full_graph)\n",
    "A_part= lp.edgelist_to_adjmatrix(part_graph)\n",
    "\n",
    "\n",
    "G=nx.from_numpy_matrix(A)\n",
    "\n",
    "\n",
    "G_part=nx.from_numpy_matrix(A_part)\n",
    "\n",
    "\n",
    "well=nx.to_numpy_matrix(G)\n",
    "\n",
    "\n",
    "#colormap\n",
    "\n",
    "subset_nodes=np.loadtxt(nodes_part).astype(int)-1\n",
    "G_part=nx.from_numpy_matrix(A_part)\n",
    "color_map=[]\n",
    "for node in G:\n",
    "    if node in subset_nodes:\n",
    "        color_map.append('blue')\n",
    "    else: \n",
    "        color_map.append('green')     \n",
    "        "
   ]
  },
  {
   "cell_type": "markdown",
   "metadata": {},
   "source": [
    "calculate Laplacians and Eigendecomposition"
   ]
  },
  {
   "cell_type": "code",
   "execution_count": 7,
   "metadata": {},
   "outputs": [],
   "source": [
    "\n",
    "\n",
    "size_part=G_part.number_of_nodes()\n",
    "size_rest=G.number_of_nodes()-size_part\n",
    "\n",
    "full_size=size_part + size_rest\n",
    "\n",
    "A_full = nx.adjacency_matrix(G)\n",
    "A_part = nx.adjacency_matrix(G_part)\n",
    "\n",
    "Deg_part= lp.make_degree_matrix(A_part)\n",
    "Deg_full = lp.make_degree_matrix(A_full)\n",
    "\n",
    "    #calculate Laplacians\n",
    "L_full, D_full, V_full= lp.decompose_laplacian_unnorm(A_full, Deg_full, size_part+size_rest)\n",
    "L_part, D_part, V_part= lp.decompose_laplacian_unnorm(A_part, Deg_part,size_part)\n",
    "\n",
    "    \n",
    "   "
   ]
  },
  {
   "cell_type": "markdown",
   "metadata": {},
   "source": [
    "proximal operator of l21- norm"
   ]
  },
  {
   "cell_type": "code",
   "execution_count": 33,
   "metadata": {},
   "outputs": [],
   "source": [
    "def prox_l21(X,lamb):\n",
    "    res=0.0\n",
    "    for i in range(np.shape(X)[0]):\n",
    "        res=res+prox_l2(X[i,:],lamb)\n",
    "    return res\n",
    "\n",
    "def prox_l2(x,lamb):\n",
    "    return np.maximum(1.0-(lamb/np.linalg.norm(x, ord=2.0)),0.0)*x"
   ]
  },
  {
   "cell_type": "markdown",
   "metadata": {},
   "source": [
    "test"
   ]
  },
  {
   "cell_type": "code",
   "execution_count": 34,
   "metadata": {},
   "outputs": [
    {
     "name": "stdout",
     "output_type": "stream",
     "text": [
      "[[0.61995605 0.19698273 0.07149614 0.83245972 0.80862241 0.14531751\n",
      "  0.07224188 0.10831237 0.15553789 0.78823915]\n",
      " [0.18305134 0.976946   0.94075472 0.84546961 0.52915441 0.06189722\n",
      "  0.06643525 0.58982571 0.62500367 0.097574  ]\n",
      " [0.57143293 0.03312445 0.67777551 0.48234072 0.85420176 0.467167\n",
      "  0.12700606 0.05149184 0.22991501 0.27651606]\n",
      " [0.20067943 0.5660133  0.97139104 0.66751767 0.83236486 0.4432028\n",
      "  0.64507261 0.31810507 0.78163462 0.71801551]\n",
      " [0.64241075 0.65286283 0.2200348  0.13031271 0.6311381  0.24264858\n",
      "  0.41085299 0.67970607 0.1882885  0.25735901]\n",
      " [0.1252655  0.91194565 0.93711558 0.07287486 0.90960044 0.4685104\n",
      "  0.97484401 0.34553922 0.40273666 0.94347007]\n",
      " [0.19811369 0.63288947 0.43636825 0.24460249 0.9985825  0.45137264\n",
      "  0.0478147  0.57720886 0.73851048 0.87727788]\n",
      " [0.76099241 0.26802905 0.40965378 0.77629629 0.53604216 0.07752549\n",
      "  0.77130867 0.95613854 0.18012436 0.48792742]\n",
      " [0.23390787 0.43515092 0.40254654 0.2872278  0.35694805 0.08079882\n",
      "  0.78850823 0.99896854 0.96268056 0.94309709]\n",
      " [0.20286126 0.00558589 0.97287377 0.3772271  0.30342545 0.28168261\n",
      "  0.17520878 0.75584234 0.83639962 0.443457  ]]\n",
      "--------------\n",
      "[3.51551018 4.42980405 5.71172763 4.44978496 6.37946803 2.5671581\n",
      " 3.86544798 5.08517333 4.82664563 5.5173882 ]\n"
     ]
    }
   ],
   "source": [
    "X=np.random.rand(10,10)\n",
    "print(X)\n",
    "print(\"--------------\")\n",
    "print(prox_l21(X,0.1))"
   ]
  },
  {
   "cell_type": "code",
   "execution_count": null,
   "metadata": {},
   "outputs": [],
   "source": []
  },
  {
   "cell_type": "code",
   "execution_count": null,
   "metadata": {},
   "outputs": [],
   "source": []
  },
  {
   "cell_type": "code",
   "execution_count": null,
   "metadata": {},
   "outputs": [],
   "source": []
  },
  {
   "cell_type": "code",
   "execution_count": null,
   "metadata": {},
   "outputs": [],
   "source": []
  },
  {
   "cell_type": "code",
   "execution_count": null,
   "metadata": {},
   "outputs": [],
   "source": []
  },
  {
   "cell_type": "code",
   "execution_count": null,
   "metadata": {},
   "outputs": [],
   "source": []
  },
  {
   "cell_type": "code",
   "execution_count": null,
   "metadata": {},
   "outputs": [],
   "source": []
  }
 ],
 "metadata": {
  "kernelspec": {
   "display_name": "Python 3",
   "language": "python",
   "name": "python3"
  },
  "language_info": {
   "codemirror_mode": {
    "name": "ipython",
    "version": 3
   },
   "file_extension": ".py",
   "mimetype": "text/x-python",
   "name": "python",
   "nbconvert_exporter": "python",
   "pygments_lexer": "ipython3",
   "version": "3.7.4"
  }
 },
 "nbformat": 4,
 "nbformat_minor": 4
}
