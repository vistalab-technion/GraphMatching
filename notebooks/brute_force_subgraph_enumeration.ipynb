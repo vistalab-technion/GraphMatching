{
 "cells": [
  {
   "cell_type": "code",
   "execution_count": 1,
   "metadata": {
    "collapsed": true
   },
   "outputs": [],
   "source": [
    "import networkx as nx\n",
    "import os\n",
    "from subgraph_matching_via_nn.data.data_loaders import load_graph\n",
    "from common.graph_utils import SubGraphGenerator\n",
    "from common.logger import TimeLogging"
   ]
  },
  {
   "cell_type": "code",
   "execution_count": 2,
   "outputs": [],
   "source": [
    "circuit_base_dir = 'C:\\\\Users\\\\kogan\\\\OneDrive\\\\Desktop\\\\Research\\\\AMIT\\\\GraphMatching\\\\subgraph_matching_via_nn\\\\data\\\\subcircuits\\\\'\n",
    "# circuit_base_dir = '/home/sanketh/DANI/GraphMatching/subgraph_matching_via_nn/data/subcircuits/'\n",
    "\n",
    "circuit_file_name = 'comp1_4'\n",
    "file_rel_path = 'full_graph.p'"
   ],
   "metadata": {
    "collapsed": false,
    "pycharm": {
     "name": "#%%\n"
    }
   }
  },
  {
   "cell_type": "code",
   "execution_count": 3,
   "outputs": [],
   "source": [
    "circuit_dir = f\"{circuit_base_dir}{circuit_file_name}{os.sep}\"\n",
    "loader_params = {\n",
    " 'data_path' : str(circuit_dir),\n",
    " 'g_full_path': file_rel_path,\n",
    " 'g_sub_path': file_rel_path}\n",
    "\n",
    "sub_graph = \\\n",
    "    load_graph(type='subcircuit',\n",
    "               loader_params=loader_params)"
   ],
   "metadata": {
    "collapsed": false,
    "pycharm": {
     "name": "#%%\n"
    }
   }
  },
  {
   "cell_type": "code",
   "execution_count": 4,
   "outputs": [
    {
     "name": "stdout",
     "output_type": "stream",
     "text": [
      "starting generating subgraphs\n",
      "start generate_k_subgraphs\n",
      "enter generate_k_subgraphs\n",
      "total time for finished all_connected_subgraphs:2s\n",
      "279875\n",
      "total time for finished splitting graphs list into 35 chunks:0s\n"
     ]
    },
    {
     "name": "stderr",
     "output_type": "stream",
     "text": [
      "Graphs construction: 100%|██████████| 35/35 [00:58<00:00,  1.67s/it]"
     ]
    },
    {
     "name": "stdout",
     "output_type": "stream",
     "text": [
      "279875\n",
      "total time for end generate_k_subgraphs:61s\n",
      "279875\n"
     ]
    },
    {
     "name": "stderr",
     "output_type": "stream",
     "text": [
      "\n"
     ]
    }
   ],
   "source": [
    "source_graph = sub_graph.G\n",
    "print(\"starting generating subgraphs\")\n",
    "curr_time = TimeLogging.log_time(None, \"start generate_k_subgraphs\")\n",
    "k_subgraphs = SubGraphGenerator.generate_k_subgraphs(source_graph, k=7)\n",
    "curr_time = TimeLogging.log_time(curr_time, \"end generate_k_subgraphs\")\n",
    "print(len(k_subgraphs))"
   ],
   "metadata": {
    "collapsed": false,
    "pycharm": {
     "name": "#%%\n"
    }
   }
  },
  {
   "cell_type": "code",
   "execution_count": 4,
   "outputs": [],
   "source": [],
   "metadata": {
    "collapsed": false,
    "pycharm": {
     "name": "#%%\n"
    }
   }
  }
 ],
 "metadata": {
  "kernelspec": {
   "display_name": "Python 3",
   "language": "python",
   "name": "python3"
  },
  "language_info": {
   "codemirror_mode": {
    "name": "ipython",
    "version": 2
   },
   "file_extension": ".py",
   "mimetype": "text/x-python",
   "name": "python",
   "nbconvert_exporter": "python",
   "pygments_lexer": "ipython2",
   "version": "2.7.6"
  }
 },
 "nbformat": 4,
 "nbformat_minor": 0
}