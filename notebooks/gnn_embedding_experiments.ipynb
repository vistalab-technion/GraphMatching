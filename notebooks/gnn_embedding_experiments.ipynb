{
 "cells": [
  {
   "cell_type": "markdown",
   "metadata": {
    "collapsed": false,
    "jupyter": {
     "outputs_hidden": false
    }
   },
   "source": [
    "Imports"
   ]
  },
  {
   "cell_type": "code",
   "execution_count": 1,
   "metadata": {},
   "outputs": [],
   "source": [
    "import sys\n",
    "\n",
    "import networkx as nx\n",
    "\n",
    "sys.path.append(\"/home/sanketh/DANI/GraphMatching/\")\n",
    "\n",
    "import torch.multiprocessing as mp\n",
    "mp.set_start_method(\"spawn\")"
   ]
  },
  {
   "cell_type": "code",
   "execution_count": 2,
   "metadata": {
    "collapsed": false,
    "jupyter": {
     "outputs_hidden": false
    },
    "pycharm": {
     "name": "#%%\n"
    }
   },
   "outputs": [],
   "source": [
    "import pathlib\n",
    "import os\n",
    "import numpy as np\n",
    "import torch\n",
    "from torch import optim\n",
    "import itertools\n",
    "from common.parallel_computation import tqdm_joblib\n",
    "import random\n",
    "from tqdm import tqdm\n",
    "from joblib import Parallel, delayed\n",
    "from os import cpu_count\n",
    "import pickle\n",
    "from livelossplot import PlotLosses\n",
    "import time\n",
    "from common.logger import TimeLogging\n",
    "from subgraph_matching_via_nn.data.data_loaders import load_graph\n",
    "from powerful_gnns.models.graphcnn import GraphCNN\n",
    "from powerful_gnns.util import separate_data\n",
    "from powerful_gnns.classifier_training import train, test\n",
    "from common.EmbeddingCalculationsService import pairwise_l2_distance, show_distance_matrix, \\\n",
    "    calculate_energy_based_hidden_rep\n",
    "from subgraph_matching_via_nn.training.PairSampleInfo import Pair_Sample_Info\n",
    "from subgraph_matching_via_nn.data.annotated_graph import AnnotatedGraph\n",
    "from subgraph_matching_via_nn.training.trainer.S2VGraphEmbeddingSimilarityMetricTrainer import \\\n",
    "    S2VGraphEmbeddingSimilarityMetricTrainer\n",
    "from common.graph_data_experiments_utils import *"
   ]
  },
  {
   "cell_type": "code",
   "execution_count": 3,
   "metadata": {},
   "outputs": [],
   "source": [
    "processes_device_ids = [\"cuda\"] #[0, 2, 3, 4, 5, 6, 7]"
   ]
  },
  {
   "cell_type": "code",
   "execution_count": 4,
   "metadata": {
    "collapsed": false,
    "jupyter": {
     "outputs_hidden": false
    },
    "pycharm": {
     "name": "#%%\n"
    }
   },
   "outputs": [],
   "source": [
    "goal_subcircuit_name = 'alu'\n",
    "DATA_PATH = 'C:/Users/kogan/OneDrive/Desktop/Research/AMIT/GraphMatching/subgraph_matching_via_nn/data/subcircuits/'\n",
    "DATA_PATH = '../subgraph_matching_via_nn/data/subcircuits/'\n",
    "\n",
    "desktop = pathlib.Path(DATA_PATH)\n",
    "subgraphs = []\n",
    "labels = []\n",
    "for circuit_dir in desktop.iterdir():\n",
    "    if circuit_dir.is_dir():\n",
    "        for subcircuit_file in circuit_dir.iterdir():\n",
    "            if subcircuit_file.is_file():\n",
    "                file_name = subcircuit_file.name\n",
    "                if file_name == 'full_graph.p':\n",
    "                    file_rel_path = f\"{os.sep}{file_name}\"\n",
    "                    loader_params = {\n",
    "                     'data_path' : str(circuit_dir),\n",
    "                     'g_full_path': file_rel_path,\n",
    "                     'g_sub_path': file_rel_path}\n",
    "\n",
    "                    sub_graph = \\\n",
    "                        load_graph(type='subcircuit',\n",
    "                                   loader_params=loader_params)\n",
    "\n",
    "                    if goal_subcircuit_name in circuit_dir.name:\n",
    "                        labels.append(1)\n",
    "                    else:\n",
    "                        # continue #TODO?\n",
    "                        labels.append(0)\n",
    "                    subgraphs.append(sub_graph)\n",
    "\n",
    "labels = np.array(labels, dtype='float32')\n",
    "N = len(subgraphs)\n",
    "N_training = int(2 / 3 * N)"
   ]
  },
  {
   "cell_type": "code",
   "execution_count": 5,
   "metadata": {
    "collapsed": false,
    "jupyter": {
     "outputs_hidden": false
    },
    "pycharm": {
     "name": "#%%\n"
    }
   },
   "outputs": [],
   "source": [
    "subgraphs = []\n",
    "labels = []\n",
    "\n",
    "subgraphs_for_classification = []\n",
    "\n",
    "circuit_base_dir = 'C:\\\\Users\\\\kogan\\\\OneDrive\\\\Desktop\\\\Research\\\\AMIT\\\\GraphMatching\\\\subgraph_matching_via_nn\\\\data\\\\subcircuits\\\\'\n",
    "# circuit_base_dir = '/home/sanketh/DANI/GraphMatching/subgraph_matching_via_nn/data/subcircuits/'\n",
    "CIRCUIT_DUPLICATES_AMOUNT = 5\n",
    "REFERENCE_GRAPH_ORIGINAL_LABEL = 1\n",
    "REFERENCE_GRAPH_ORIGINAL_INDEX = 0\n",
    "\n",
    "for circuit_file_name in ['adder_4', 'alu_4', 'alu_8', 'alu_16', 'alu_32', 'mul_4_4', 'mul_4_8', 'mul_8_8', 'mul_16_16', 'mul_16_32']:\n",
    "    file_rel_path = 'full_graph.p'\n",
    "    circuit_dir = f\"{circuit_base_dir}{circuit_file_name}{os.sep}\"\n",
    "    loader_params = {\n",
    "     'data_path' : str(circuit_dir),\n",
    "     'g_full_path': file_rel_path,\n",
    "     'g_sub_path': file_rel_path}\n",
    "\n",
    "    sub_graph = \\\n",
    "        load_graph(type='subcircuit',\n",
    "                   loader_params=loader_params)\n",
    "    subgraphs.append(sub_graph)\n",
    "    for i in range(CIRCUIT_DUPLICATES_AMOUNT):\n",
    "        subgraphs_for_classification.append(sub_graph)\n",
    "        labels.append(0)\n",
    "for i in range(CIRCUIT_DUPLICATES_AMOUNT):\n",
    "    labels[REFERENCE_GRAPH_ORIGINAL_INDEX * CIRCUIT_DUPLICATES_AMOUNT + i] = REFERENCE_GRAPH_ORIGINAL_LABEL\n",
    "\n",
    "zipped_graphs_and_labels = list(zip(subgraphs_for_classification, labels))\n",
    "random.shuffle(zipped_graphs_and_labels)\n",
    "unzipped_graphs_and_labels = list(zip(*zipped_graphs_and_labels))\n",
    "subgraphs_for_classification = unzipped_graphs_and_labels[0]\n",
    "labels = unzipped_graphs_and_labels[1]\n",
    "\n",
    "N = len(subgraphs_for_classification)\n",
    "N_training = int(2 / 3 * N)"
   ]
  },
  {
   "cell_type": "markdown",
   "metadata": {
    "collapsed": false,
    "jupyter": {
     "outputs_hidden": false
    }
   },
   "source": [
    "Transform graphs into S2VGraph-s"
   ]
  },
  {
   "cell_type": "code",
   "execution_count": 6,
   "metadata": {
    "collapsed": false,
    "jupyter": {
     "outputs_hidden": false
    },
    "pycharm": {
     "name": "#%%\n"
    }
   },
   "outputs": [],
   "source": [
    "device = 'cpu' if torch.cuda.is_available() else 'cpu'"
   ]
  },
  {
   "cell_type": "code",
   "execution_count": 7,
   "metadata": {
    "collapsed": false,
    "jupyter": {
     "outputs_hidden": false
    },
    "pycharm": {
     "name": "#%%\n"
    }
   },
   "outputs": [
    {
     "name": "stdout",
     "output_type": "stream",
     "text": [
      "# classes: 2\n",
      "# maximum node tag: 48\n",
      "# data: 50\n"
     ]
    }
   ],
   "source": [
    "graphs, num_classes = transform_into_s2vgraphs(subgraphs_for_classification, labels, device)"
   ]
  },
  {
   "cell_type": "markdown",
   "metadata": {
    "collapsed": false,
    "jupyter": {
     "outputs_hidden": false
    }
   },
   "source": [
    "Setup model and training"
   ]
  },
  {
   "cell_type": "code",
   "execution_count": 8,
   "metadata": {
    "collapsed": false,
    "jupyter": {
     "outputs_hidden": false
    },
    "pycharm": {
     "name": "#%%\n"
    }
   },
   "outputs": [],
   "source": [
    "#set up seeds and gpu device\n",
    "torch.manual_seed(0)\n",
    "np.random.seed(0)\n",
    "if torch.cuda.is_available():\n",
    "    torch.cuda.manual_seed_all(0)\n",
    "\n",
    "##k-fold cross validation. Conduct an experiment on the fold specified by args.fold_idx.\n",
    "# train_graphs, test_graphs = separate_data(graphs, seed=0, fold_idx=0, n_splits=1)\n",
    "# train_graphs = graphs[:4]\n",
    "# test_graphs = graphs[4:]\n",
    "train_graphs = graphs[:N_training]\n",
    "test_graphs = graphs[N_training:]\n",
    "\n",
    "model = GraphCNN(num_layers=5, num_mlp_layers = 2, input_dim=train_graphs[0].node_features.shape[1], hidden_dim=64, output_dim=num_classes, final_dropout=0.5, learn_eps=False, graph_pooling_type=\"sum\", neighbor_pooling_type=\"sum\", device=device)\n",
    "\n",
    "optimizer = optim.Adam(model.parameters(), lr=0.01)\n",
    "scheduler = optim.lr_scheduler.StepLR(optimizer, step_size=50, gamma=0.5)"
   ]
  },
  {
   "cell_type": "markdown",
   "metadata": {
    "collapsed": false,
    "jupyter": {
     "outputs_hidden": false
    }
   },
   "source": [
    "Train and Test"
   ]
  },
  {
   "cell_type": "code",
   "execution_count": 9,
   "metadata": {
    "collapsed": false,
    "jupyter": {
     "outputs_hidden": false
    },
    "pycharm": {
     "name": "#%%\n"
    }
   },
   "outputs": [
    {
     "name": "stderr",
     "output_type": "stream",
     "text": [
      "ERROR:root:Internal Python error in the inspect module.\n",
      "Below is the traceback from this internal error.\n",
      "\n"
     ]
    },
    {
     "name": "stdout",
     "output_type": "stream",
     "text": [
      "Traceback (most recent call last):\n",
      "  File \"c:\\users\\kogan\\appdata\\local\\programs\\python\\python38\\lib\\inspect.py\", line 2987, in _bind\n",
      "    arg_val = kwargs.pop(param_name)\n",
      "KeyError: 'required'\n",
      "\n",
      "During handling of the above exception, another exception occurred:\n",
      "\n",
      "Traceback (most recent call last):\n",
      "  File \"c:\\users\\kogan\\.virtualenvs\\subcircuit_recognition-mmb-fima\\lib\\site-packages\\IPython\\core\\interactiveshell.py\", line 3331, in run_code\n",
      "    exec(code_obj, self.user_global_ns, self.user_ns)\n",
      "  File \"<ipython-input-9-d49f7aed7e85>\", line 23, in <module>\n",
      "    liveloss.send()\n",
      "  File \"c:\\users\\kogan\\.virtualenvs\\subcircuit_recognition-mmb-fima\\lib\\site-packages\\livelossplot\\plot_losses.py\", line 41, in send\n",
      "    output.send(self.logger)\n",
      "  File \"c:\\users\\kogan\\.virtualenvs\\subcircuit_recognition-mmb-fima\\lib\\site-packages\\livelossplot\\outputs\\matplotlib_plot.py\", line 70, in send\n",
      "    self._after_plots(fig)\n",
      "  File \"c:\\users\\kogan\\.virtualenvs\\subcircuit_recognition-mmb-fima\\lib\\site-packages\\livelossplot\\outputs\\matplotlib_plot.py\", line 103, in _default_after_plots\n",
      "    fig.tight_layout()\n",
      "  File \"c:\\users\\kogan\\.virtualenvs\\subcircuit_recognition-mmb-fima\\lib\\site-packages\\matplotlib\\figure.py\", line 3164, in tight_layout\n",
      "    kwargs = get_tight_layout_figure(\n",
      "  File \"c:\\users\\kogan\\.virtualenvs\\subcircuit_recognition-mmb-fima\\lib\\site-packages\\matplotlib\\tight_layout.py\", line 312, in get_tight_layout_figure\n",
      "    kwargs = auto_adjust_subplotpars(fig, renderer,\n",
      "  File \"c:\\users\\kogan\\.virtualenvs\\subcircuit_recognition-mmb-fima\\lib\\site-packages\\matplotlib\\tight_layout.py\", line 84, in auto_adjust_subplotpars\n",
      "    bb += [ax.get_tightbbox(renderer, for_layout_only=True)]\n",
      "  File \"c:\\users\\kogan\\.virtualenvs\\subcircuit_recognition-mmb-fima\\lib\\site-packages\\matplotlib\\axes\\_base.py\", line 4439, in get_tightbbox\n",
      "    bb_yaxis = self.yaxis.get_tightbbox(\n",
      "  File \"c:\\users\\kogan\\.virtualenvs\\subcircuit_recognition-mmb-fima\\lib\\site-packages\\matplotlib\\axis.py\", line 1086, in get_tightbbox\n",
      "    ticks_to_draw = self._update_ticks()\n",
      "  File \"c:\\users\\kogan\\.virtualenvs\\subcircuit_recognition-mmb-fima\\lib\\site-packages\\matplotlib\\axis.py\", line 1030, in _update_ticks\n",
      "    major_ticks = self.get_major_ticks(len(major_locs))\n",
      "  File \"c:\\users\\kogan\\.virtualenvs\\subcircuit_recognition-mmb-fima\\lib\\site-packages\\matplotlib\\axis.py\", line 1359, in get_major_ticks\n",
      "    tick = self._get_tick(major=True)\n",
      "  File \"c:\\users\\kogan\\.virtualenvs\\subcircuit_recognition-mmb-fima\\lib\\site-packages\\matplotlib\\axis.py\", line 2332, in _get_tick\n",
      "    return YTick(self.axes, 0, major=major, **tick_kw)\n",
      "  File \"c:\\users\\kogan\\.virtualenvs\\subcircuit_recognition-mmb-fima\\lib\\site-packages\\matplotlib\\axis.py\", line 505, in __init__\n",
      "    self.label1.set(\n",
      "  File \"c:\\users\\kogan\\.virtualenvs\\subcircuit_recognition-mmb-fima\\lib\\site-packages\\matplotlib\\artist.py\", line 1154, in set\n",
      "    kwargs = cbook.normalize_kwargs(kwargs, self)\n",
      "  File \"c:\\users\\kogan\\.virtualenvs\\subcircuit_recognition-mmb-fima\\lib\\site-packages\\matplotlib\\_api\\deprecation.py\", line 431, in wrapper\n",
      "    return func(*inner_args, **inner_kwargs)\n",
      "  File \"c:\\users\\kogan\\.virtualenvs\\subcircuit_recognition-mmb-fima\\lib\\site-packages\\matplotlib\\_api\\deprecation.py\", line 431, in wrapper\n",
      "    return func(*inner_args, **inner_kwargs)\n",
      "  File \"c:\\users\\kogan\\.virtualenvs\\subcircuit_recognition-mmb-fima\\lib\\site-packages\\matplotlib\\_api\\deprecation.py\", line 406, in wrapper\n",
      "    arguments = signature.bind(*inner_args, **inner_kwargs).arguments\n",
      "  File \"c:\\users\\kogan\\appdata\\local\\programs\\python\\python38\\lib\\inspect.py\", line 3025, in bind\n",
      "    return self._bind(args, kwargs)\n",
      "  File \"c:\\users\\kogan\\appdata\\local\\programs\\python\\python38\\lib\\inspect.py\", line 2988, in _bind\n",
      "    except KeyError:\n",
      "KeyboardInterrupt\n",
      "\n",
      "During handling of the above exception, another exception occurred:\n",
      "\n",
      "Traceback (most recent call last):\n",
      "  File \"c:\\users\\kogan\\.virtualenvs\\subcircuit_recognition-mmb-fima\\lib\\site-packages\\IPython\\core\\interactiveshell.py\", line 2044, in showtraceback\n",
      "    stb = value._render_traceback_()\n",
      "AttributeError: 'KeyboardInterrupt' object has no attribute '_render_traceback_'\n",
      "\n",
      "During handling of the above exception, another exception occurred:\n",
      "\n",
      "Traceback (most recent call last):\n",
      "  File \"c:\\users\\kogan\\.virtualenvs\\subcircuit_recognition-mmb-fima\\lib\\site-packages\\IPython\\core\\ultratb.py\", line 1151, in get_records\n",
      "    return _fixed_getinnerframes(etb, number_of_lines_of_context, tb_offset)\n",
      "  File \"c:\\users\\kogan\\.virtualenvs\\subcircuit_recognition-mmb-fima\\lib\\site-packages\\IPython\\core\\ultratb.py\", line 319, in wrapped\n",
      "    return f(*args, **kwargs)\n",
      "  File \"c:\\users\\kogan\\.virtualenvs\\subcircuit_recognition-mmb-fima\\lib\\site-packages\\IPython\\core\\ultratb.py\", line 353, in _fixed_getinnerframes\n",
      "    records = fix_frame_records_filenames(inspect.getinnerframes(etb, context))\n",
      "  File \"c:\\users\\kogan\\appdata\\local\\programs\\python\\python38\\lib\\inspect.py\", line 1503, in getinnerframes\n",
      "    frameinfo = (tb.tb_frame,) + getframeinfo(tb, context)\n",
      "  File \"c:\\users\\kogan\\appdata\\local\\programs\\python\\python38\\lib\\inspect.py\", line 1461, in getframeinfo\n",
      "    filename = getsourcefile(frame) or getfile(frame)\n",
      "  File \"c:\\users\\kogan\\appdata\\local\\programs\\python\\python38\\lib\\inspect.py\", line 708, in getsourcefile\n",
      "    if getattr(getmodule(object, filename), '__loader__', None) is not None:\n",
      "  File \"c:\\users\\kogan\\appdata\\local\\programs\\python\\python38\\lib\\inspect.py\", line 754, in getmodule\n",
      "    os.path.realpath(f)] = module.__name__\n",
      "  File \"c:\\users\\kogan\\appdata\\local\\programs\\python\\python38\\lib\\ntpath.py\", line 614, in realpath\n",
      "    path = _getfinalpathname(path)\n",
      "KeyboardInterrupt\n"
     ]
    },
    {
     "ename": "TypeError",
     "evalue": "can only concatenate str (not \"list\") to str",
     "output_type": "error",
     "traceback": [
      "\u001B[1;31m---------------------------------------------------------------------------\u001B[0m",
      "\u001B[1;31mKeyError\u001B[0m                                  Traceback (most recent call last)",
      "\u001B[1;32mc:\\users\\kogan\\appdata\\local\\programs\\python\\python38\\lib\\inspect.py\u001B[0m in \u001B[0;36m_bind\u001B[1;34m(self, args, kwargs, partial)\u001B[0m\n\u001B[0;32m   2986\u001B[0m             \u001B[1;32mtry\u001B[0m\u001B[1;33m:\u001B[0m\u001B[1;33m\u001B[0m\u001B[1;33m\u001B[0m\u001B[0m\n\u001B[1;32m-> 2987\u001B[1;33m                 \u001B[0marg_val\u001B[0m \u001B[1;33m=\u001B[0m \u001B[0mkwargs\u001B[0m\u001B[1;33m.\u001B[0m\u001B[0mpop\u001B[0m\u001B[1;33m(\u001B[0m\u001B[0mparam_name\u001B[0m\u001B[1;33m)\u001B[0m\u001B[1;33m\u001B[0m\u001B[1;33m\u001B[0m\u001B[0m\n\u001B[0m\u001B[0;32m   2988\u001B[0m             \u001B[1;32mexcept\u001B[0m \u001B[0mKeyError\u001B[0m\u001B[1;33m:\u001B[0m\u001B[1;33m\u001B[0m\u001B[1;33m\u001B[0m\u001B[0m\n",
      "\u001B[1;31mKeyError\u001B[0m: 'required'",
      "\nDuring handling of the above exception, another exception occurred:\n",
      "\u001B[1;31mKeyboardInterrupt\u001B[0m                         Traceback (most recent call last)",
      "\u001B[1;32mc:\\users\\kogan\\.virtualenvs\\subcircuit_recognition-mmb-fima\\lib\\site-packages\\IPython\\core\\interactiveshell.py\u001B[0m in \u001B[0;36mrun_code\u001B[1;34m(self, code_obj, result, async_)\u001B[0m\n\u001B[0;32m   3330\u001B[0m                 \u001B[1;32melse\u001B[0m\u001B[1;33m:\u001B[0m\u001B[1;33m\u001B[0m\u001B[1;33m\u001B[0m\u001B[0m\n\u001B[1;32m-> 3331\u001B[1;33m                     \u001B[0mexec\u001B[0m\u001B[1;33m(\u001B[0m\u001B[0mcode_obj\u001B[0m\u001B[1;33m,\u001B[0m \u001B[0mself\u001B[0m\u001B[1;33m.\u001B[0m\u001B[0muser_global_ns\u001B[0m\u001B[1;33m,\u001B[0m \u001B[0mself\u001B[0m\u001B[1;33m.\u001B[0m\u001B[0muser_ns\u001B[0m\u001B[1;33m)\u001B[0m\u001B[1;33m\u001B[0m\u001B[1;33m\u001B[0m\u001B[0m\n\u001B[0m\u001B[0;32m   3332\u001B[0m             \u001B[1;32mfinally\u001B[0m\u001B[1;33m:\u001B[0m\u001B[1;33m\u001B[0m\u001B[1;33m\u001B[0m\u001B[0m\n",
      "\u001B[1;32m<ipython-input-9-d49f7aed7e85>\u001B[0m in \u001B[0;36m<module>\u001B[1;34m\u001B[0m\n\u001B[0;32m     22\u001B[0m         \u001B[0mliveloss\u001B[0m\u001B[1;33m.\u001B[0m\u001B[0mupdate\u001B[0m\u001B[1;33m(\u001B[0m\u001B[1;33m{\u001B[0m\u001B[1;34m'train error'\u001B[0m\u001B[1;33m:\u001B[0m \u001B[0mavg_loss\u001B[0m\u001B[1;33m.\u001B[0m\u001B[0mitem\u001B[0m\u001B[1;33m(\u001B[0m\u001B[1;33m)\u001B[0m\u001B[1;33m}\u001B[0m\u001B[1;33m)\u001B[0m\u001B[1;33m\u001B[0m\u001B[1;33m\u001B[0m\u001B[0m\n\u001B[1;32m---> 23\u001B[1;33m         \u001B[0mliveloss\u001B[0m\u001B[1;33m.\u001B[0m\u001B[0msend\u001B[0m\u001B[1;33m(\u001B[0m\u001B[1;33m)\u001B[0m\u001B[1;33m\u001B[0m\u001B[1;33m\u001B[0m\u001B[0m\n\u001B[0m",
      "\u001B[1;32mc:\\users\\kogan\\.virtualenvs\\subcircuit_recognition-mmb-fima\\lib\\site-packages\\livelossplot\\plot_losses.py\u001B[0m in \u001B[0;36msend\u001B[1;34m(self)\u001B[0m\n\u001B[0;32m     40\u001B[0m         \u001B[1;32mfor\u001B[0m \u001B[0moutput\u001B[0m \u001B[1;32min\u001B[0m \u001B[0mself\u001B[0m\u001B[1;33m.\u001B[0m\u001B[0moutputs\u001B[0m\u001B[1;33m:\u001B[0m\u001B[1;33m\u001B[0m\u001B[1;33m\u001B[0m\u001B[0m\n\u001B[1;32m---> 41\u001B[1;33m             \u001B[0moutput\u001B[0m\u001B[1;33m.\u001B[0m\u001B[0msend\u001B[0m\u001B[1;33m(\u001B[0m\u001B[0mself\u001B[0m\u001B[1;33m.\u001B[0m\u001B[0mlogger\u001B[0m\u001B[1;33m)\u001B[0m\u001B[1;33m\u001B[0m\u001B[1;33m\u001B[0m\u001B[0m\n\u001B[0m\u001B[0;32m     42\u001B[0m \u001B[1;33m\u001B[0m\u001B[0m\n",
      "\u001B[1;32mc:\\users\\kogan\\.virtualenvs\\subcircuit_recognition-mmb-fima\\lib\\site-packages\\livelossplot\\outputs\\matplotlib_plot.py\u001B[0m in \u001B[0;36msend\u001B[1;34m(self, logger)\u001B[0m\n\u001B[0;32m     69\u001B[0m \u001B[1;33m\u001B[0m\u001B[0m\n\u001B[1;32m---> 70\u001B[1;33m         \u001B[0mself\u001B[0m\u001B[1;33m.\u001B[0m\u001B[0m_after_plots\u001B[0m\u001B[1;33m(\u001B[0m\u001B[0mfig\u001B[0m\u001B[1;33m)\u001B[0m\u001B[1;33m\u001B[0m\u001B[1;33m\u001B[0m\u001B[0m\n\u001B[0m\u001B[0;32m     71\u001B[0m \u001B[1;33m\u001B[0m\u001B[0m\n",
      "\u001B[1;32mc:\\users\\kogan\\.virtualenvs\\subcircuit_recognition-mmb-fima\\lib\\site-packages\\livelossplot\\outputs\\matplotlib_plot.py\u001B[0m in \u001B[0;36m_default_after_plots\u001B[1;34m(self, fig)\u001B[0m\n\u001B[0;32m    102\u001B[0m         \"\"\"\n\u001B[1;32m--> 103\u001B[1;33m         \u001B[0mfig\u001B[0m\u001B[1;33m.\u001B[0m\u001B[0mtight_layout\u001B[0m\u001B[1;33m(\u001B[0m\u001B[1;33m)\u001B[0m\u001B[1;33m\u001B[0m\u001B[1;33m\u001B[0m\u001B[0m\n\u001B[0m\u001B[0;32m    104\u001B[0m         \u001B[1;32mif\u001B[0m \u001B[0mself\u001B[0m\u001B[1;33m.\u001B[0m\u001B[0mfigpath\u001B[0m \u001B[1;32mis\u001B[0m \u001B[1;32mnot\u001B[0m \u001B[1;32mNone\u001B[0m\u001B[1;33m:\u001B[0m\u001B[1;33m\u001B[0m\u001B[1;33m\u001B[0m\u001B[0m\n",
      "\u001B[1;32mc:\\users\\kogan\\.virtualenvs\\subcircuit_recognition-mmb-fima\\lib\\site-packages\\matplotlib\\figure.py\u001B[0m in \u001B[0;36mtight_layout\u001B[1;34m(self, pad, h_pad, w_pad, rect)\u001B[0m\n\u001B[0;32m   3163\u001B[0m         \u001B[1;32mwith\u001B[0m \u001B[0mctx\u001B[0m\u001B[1;33m:\u001B[0m\u001B[1;33m\u001B[0m\u001B[1;33m\u001B[0m\u001B[0m\n\u001B[1;32m-> 3164\u001B[1;33m             kwargs = get_tight_layout_figure(\n\u001B[0m\u001B[0;32m   3165\u001B[0m                 \u001B[0mself\u001B[0m\u001B[1;33m,\u001B[0m \u001B[0mself\u001B[0m\u001B[1;33m.\u001B[0m\u001B[0maxes\u001B[0m\u001B[1;33m,\u001B[0m \u001B[0msubplotspec_list\u001B[0m\u001B[1;33m,\u001B[0m \u001B[0mrenderer\u001B[0m\u001B[1;33m,\u001B[0m\u001B[1;33m\u001B[0m\u001B[1;33m\u001B[0m\u001B[0m\n",
      "\u001B[1;32mc:\\users\\kogan\\.virtualenvs\\subcircuit_recognition-mmb-fima\\lib\\site-packages\\matplotlib\\tight_layout.py\u001B[0m in \u001B[0;36mget_tight_layout_figure\u001B[1;34m(fig, axes_list, subplotspec_list, renderer, pad, h_pad, w_pad, rect)\u001B[0m\n\u001B[0;32m    311\u001B[0m \u001B[1;33m\u001B[0m\u001B[0m\n\u001B[1;32m--> 312\u001B[1;33m     kwargs = auto_adjust_subplotpars(fig, renderer,\n\u001B[0m\u001B[0;32m    313\u001B[0m                                      \u001B[0mnrows_ncols\u001B[0m\u001B[1;33m=\u001B[0m\u001B[1;33m(\u001B[0m\u001B[0mmax_nrows\u001B[0m\u001B[1;33m,\u001B[0m \u001B[0mmax_ncols\u001B[0m\u001B[1;33m)\u001B[0m\u001B[1;33m,\u001B[0m\u001B[1;33m\u001B[0m\u001B[1;33m\u001B[0m\u001B[0m\n",
      "\u001B[1;32mc:\\users\\kogan\\.virtualenvs\\subcircuit_recognition-mmb-fima\\lib\\site-packages\\matplotlib\\tight_layout.py\u001B[0m in \u001B[0;36mauto_adjust_subplotpars\u001B[1;34m(fig, renderer, nrows_ncols, num1num2_list, subplot_list, ax_bbox_list, pad, h_pad, w_pad, rect)\u001B[0m\n\u001B[0;32m     83\u001B[0m                 \u001B[1;32mtry\u001B[0m\u001B[1;33m:\u001B[0m\u001B[1;33m\u001B[0m\u001B[1;33m\u001B[0m\u001B[0m\n\u001B[1;32m---> 84\u001B[1;33m                     \u001B[0mbb\u001B[0m \u001B[1;33m+=\u001B[0m \u001B[1;33m[\u001B[0m\u001B[0max\u001B[0m\u001B[1;33m.\u001B[0m\u001B[0mget_tightbbox\u001B[0m\u001B[1;33m(\u001B[0m\u001B[0mrenderer\u001B[0m\u001B[1;33m,\u001B[0m \u001B[0mfor_layout_only\u001B[0m\u001B[1;33m=\u001B[0m\u001B[1;32mTrue\u001B[0m\u001B[1;33m)\u001B[0m\u001B[1;33m]\u001B[0m\u001B[1;33m\u001B[0m\u001B[1;33m\u001B[0m\u001B[0m\n\u001B[0m\u001B[0;32m     85\u001B[0m                 \u001B[1;32mexcept\u001B[0m \u001B[0mTypeError\u001B[0m\u001B[1;33m:\u001B[0m\u001B[1;33m\u001B[0m\u001B[1;33m\u001B[0m\u001B[0m\n",
      "\u001B[1;32mc:\\users\\kogan\\.virtualenvs\\subcircuit_recognition-mmb-fima\\lib\\site-packages\\matplotlib\\axes\\_base.py\u001B[0m in \u001B[0;36mget_tightbbox\u001B[1;34m(self, renderer, call_axes_locator, bbox_extra_artists, for_layout_only)\u001B[0m\n\u001B[0;32m   4438\u001B[0m                 \u001B[1;32mtry\u001B[0m\u001B[1;33m:\u001B[0m\u001B[1;33m\u001B[0m\u001B[1;33m\u001B[0m\u001B[0m\n\u001B[1;32m-> 4439\u001B[1;33m                     bb_yaxis = self.yaxis.get_tightbbox(\n\u001B[0m\u001B[0;32m   4440\u001B[0m                         renderer, for_layout_only=for_layout_only)\n",
      "\u001B[1;32mc:\\users\\kogan\\.virtualenvs\\subcircuit_recognition-mmb-fima\\lib\\site-packages\\matplotlib\\axis.py\u001B[0m in \u001B[0;36mget_tightbbox\u001B[1;34m(self, renderer, for_layout_only)\u001B[0m\n\u001B[0;32m   1085\u001B[0m \u001B[1;33m\u001B[0m\u001B[0m\n\u001B[1;32m-> 1086\u001B[1;33m         \u001B[0mticks_to_draw\u001B[0m \u001B[1;33m=\u001B[0m \u001B[0mself\u001B[0m\u001B[1;33m.\u001B[0m\u001B[0m_update_ticks\u001B[0m\u001B[1;33m(\u001B[0m\u001B[1;33m)\u001B[0m\u001B[1;33m\u001B[0m\u001B[1;33m\u001B[0m\u001B[0m\n\u001B[0m\u001B[0;32m   1087\u001B[0m \u001B[1;33m\u001B[0m\u001B[0m\n",
      "\u001B[1;32mc:\\users\\kogan\\.virtualenvs\\subcircuit_recognition-mmb-fima\\lib\\site-packages\\matplotlib\\axis.py\u001B[0m in \u001B[0;36m_update_ticks\u001B[1;34m(self)\u001B[0m\n\u001B[0;32m   1029\u001B[0m         \u001B[0mmajor_labels\u001B[0m \u001B[1;33m=\u001B[0m \u001B[0mself\u001B[0m\u001B[1;33m.\u001B[0m\u001B[0mmajor\u001B[0m\u001B[1;33m.\u001B[0m\u001B[0mformatter\u001B[0m\u001B[1;33m.\u001B[0m\u001B[0mformat_ticks\u001B[0m\u001B[1;33m(\u001B[0m\u001B[0mmajor_locs\u001B[0m\u001B[1;33m)\u001B[0m\u001B[1;33m\u001B[0m\u001B[1;33m\u001B[0m\u001B[0m\n\u001B[1;32m-> 1030\u001B[1;33m         \u001B[0mmajor_ticks\u001B[0m \u001B[1;33m=\u001B[0m \u001B[0mself\u001B[0m\u001B[1;33m.\u001B[0m\u001B[0mget_major_ticks\u001B[0m\u001B[1;33m(\u001B[0m\u001B[0mlen\u001B[0m\u001B[1;33m(\u001B[0m\u001B[0mmajor_locs\u001B[0m\u001B[1;33m)\u001B[0m\u001B[1;33m)\u001B[0m\u001B[1;33m\u001B[0m\u001B[1;33m\u001B[0m\u001B[0m\n\u001B[0m\u001B[0;32m   1031\u001B[0m         \u001B[0mself\u001B[0m\u001B[1;33m.\u001B[0m\u001B[0mmajor\u001B[0m\u001B[1;33m.\u001B[0m\u001B[0mformatter\u001B[0m\u001B[1;33m.\u001B[0m\u001B[0mset_locs\u001B[0m\u001B[1;33m(\u001B[0m\u001B[0mmajor_locs\u001B[0m\u001B[1;33m)\u001B[0m\u001B[1;33m\u001B[0m\u001B[1;33m\u001B[0m\u001B[0m\n",
      "\u001B[1;32mc:\\users\\kogan\\.virtualenvs\\subcircuit_recognition-mmb-fima\\lib\\site-packages\\matplotlib\\axis.py\u001B[0m in \u001B[0;36mget_major_ticks\u001B[1;34m(self, numticks)\u001B[0m\n\u001B[0;32m   1358\u001B[0m             \u001B[1;31m# Update the new tick label properties from the old.\u001B[0m\u001B[1;33m\u001B[0m\u001B[1;33m\u001B[0m\u001B[1;33m\u001B[0m\u001B[0m\n\u001B[1;32m-> 1359\u001B[1;33m             \u001B[0mtick\u001B[0m \u001B[1;33m=\u001B[0m \u001B[0mself\u001B[0m\u001B[1;33m.\u001B[0m\u001B[0m_get_tick\u001B[0m\u001B[1;33m(\u001B[0m\u001B[0mmajor\u001B[0m\u001B[1;33m=\u001B[0m\u001B[1;32mTrue\u001B[0m\u001B[1;33m)\u001B[0m\u001B[1;33m\u001B[0m\u001B[1;33m\u001B[0m\u001B[0m\n\u001B[0m\u001B[0;32m   1360\u001B[0m             \u001B[0mself\u001B[0m\u001B[1;33m.\u001B[0m\u001B[0mmajorTicks\u001B[0m\u001B[1;33m.\u001B[0m\u001B[0mappend\u001B[0m\u001B[1;33m(\u001B[0m\u001B[0mtick\u001B[0m\u001B[1;33m)\u001B[0m\u001B[1;33m\u001B[0m\u001B[1;33m\u001B[0m\u001B[0m\n",
      "\u001B[1;32mc:\\users\\kogan\\.virtualenvs\\subcircuit_recognition-mmb-fima\\lib\\site-packages\\matplotlib\\axis.py\u001B[0m in \u001B[0;36m_get_tick\u001B[1;34m(self, major)\u001B[0m\n\u001B[0;32m   2331\u001B[0m             \u001B[0mtick_kw\u001B[0m \u001B[1;33m=\u001B[0m \u001B[0mself\u001B[0m\u001B[1;33m.\u001B[0m\u001B[0m_minor_tick_kw\u001B[0m\u001B[1;33m\u001B[0m\u001B[1;33m\u001B[0m\u001B[0m\n\u001B[1;32m-> 2332\u001B[1;33m         \u001B[1;32mreturn\u001B[0m \u001B[0mYTick\u001B[0m\u001B[1;33m(\u001B[0m\u001B[0mself\u001B[0m\u001B[1;33m.\u001B[0m\u001B[0maxes\u001B[0m\u001B[1;33m,\u001B[0m \u001B[1;36m0\u001B[0m\u001B[1;33m,\u001B[0m \u001B[0mmajor\u001B[0m\u001B[1;33m=\u001B[0m\u001B[0mmajor\u001B[0m\u001B[1;33m,\u001B[0m \u001B[1;33m**\u001B[0m\u001B[0mtick_kw\u001B[0m\u001B[1;33m)\u001B[0m\u001B[1;33m\u001B[0m\u001B[1;33m\u001B[0m\u001B[0m\n\u001B[0m\u001B[0;32m   2333\u001B[0m \u001B[1;33m\u001B[0m\u001B[0m\n",
      "\u001B[1;32mc:\\users\\kogan\\.virtualenvs\\subcircuit_recognition-mmb-fima\\lib\\site-packages\\matplotlib\\axis.py\u001B[0m in \u001B[0;36m__init__\u001B[1;34m(self, *args, **kwargs)\u001B[0m\n\u001B[0;32m    504\u001B[0m         \u001B[0mtrans\u001B[0m\u001B[1;33m,\u001B[0m \u001B[0mva\u001B[0m\u001B[1;33m,\u001B[0m \u001B[0mha\u001B[0m \u001B[1;33m=\u001B[0m \u001B[0mself\u001B[0m\u001B[1;33m.\u001B[0m\u001B[0m_get_text1_transform\u001B[0m\u001B[1;33m(\u001B[0m\u001B[1;33m)\u001B[0m\u001B[1;33m\u001B[0m\u001B[1;33m\u001B[0m\u001B[0m\n\u001B[1;32m--> 505\u001B[1;33m         self.label1.set(\n\u001B[0m\u001B[0;32m    506\u001B[0m             \u001B[0mx\u001B[0m\u001B[1;33m=\u001B[0m\u001B[1;36m0\u001B[0m\u001B[1;33m,\u001B[0m \u001B[0my\u001B[0m\u001B[1;33m=\u001B[0m\u001B[1;36m0\u001B[0m\u001B[1;33m,\u001B[0m\u001B[1;33m\u001B[0m\u001B[1;33m\u001B[0m\u001B[0m\n",
      "\u001B[1;32mc:\\users\\kogan\\.virtualenvs\\subcircuit_recognition-mmb-fima\\lib\\site-packages\\matplotlib\\artist.py\u001B[0m in \u001B[0;36mset\u001B[1;34m(self, **kwargs)\u001B[0m\n\u001B[0;32m   1153\u001B[0m         \u001B[1;34m\"\"\"A property batch setter.  Pass *kwargs* to set properties.\"\"\"\u001B[0m\u001B[1;33m\u001B[0m\u001B[1;33m\u001B[0m\u001B[0m\n\u001B[1;32m-> 1154\u001B[1;33m         \u001B[0mkwargs\u001B[0m \u001B[1;33m=\u001B[0m \u001B[0mcbook\u001B[0m\u001B[1;33m.\u001B[0m\u001B[0mnormalize_kwargs\u001B[0m\u001B[1;33m(\u001B[0m\u001B[0mkwargs\u001B[0m\u001B[1;33m,\u001B[0m \u001B[0mself\u001B[0m\u001B[1;33m)\u001B[0m\u001B[1;33m\u001B[0m\u001B[1;33m\u001B[0m\u001B[0m\n\u001B[0m\u001B[0;32m   1155\u001B[0m         \u001B[0mmove_color_to_start\u001B[0m \u001B[1;33m=\u001B[0m \u001B[1;32mFalse\u001B[0m\u001B[1;33m\u001B[0m\u001B[1;33m\u001B[0m\u001B[0m\n",
      "\u001B[1;32mc:\\users\\kogan\\.virtualenvs\\subcircuit_recognition-mmb-fima\\lib\\site-packages\\matplotlib\\_api\\deprecation.py\u001B[0m in \u001B[0;36mwrapper\u001B[1;34m(*inner_args, **inner_kwargs)\u001B[0m\n\u001B[0;32m    430\u001B[0m                 **kwargs)\n\u001B[1;32m--> 431\u001B[1;33m         \u001B[1;32mreturn\u001B[0m \u001B[0mfunc\u001B[0m\u001B[1;33m(\u001B[0m\u001B[1;33m*\u001B[0m\u001B[0minner_args\u001B[0m\u001B[1;33m,\u001B[0m \u001B[1;33m**\u001B[0m\u001B[0minner_kwargs\u001B[0m\u001B[1;33m)\u001B[0m\u001B[1;33m\u001B[0m\u001B[1;33m\u001B[0m\u001B[0m\n\u001B[0m\u001B[0;32m    432\u001B[0m \u001B[1;33m\u001B[0m\u001B[0m\n",
      "\u001B[1;32mc:\\users\\kogan\\.virtualenvs\\subcircuit_recognition-mmb-fima\\lib\\site-packages\\matplotlib\\_api\\deprecation.py\u001B[0m in \u001B[0;36mwrapper\u001B[1;34m(*inner_args, **inner_kwargs)\u001B[0m\n\u001B[0;32m    430\u001B[0m                 **kwargs)\n\u001B[1;32m--> 431\u001B[1;33m         \u001B[1;32mreturn\u001B[0m \u001B[0mfunc\u001B[0m\u001B[1;33m(\u001B[0m\u001B[1;33m*\u001B[0m\u001B[0minner_args\u001B[0m\u001B[1;33m,\u001B[0m \u001B[1;33m**\u001B[0m\u001B[0minner_kwargs\u001B[0m\u001B[1;33m)\u001B[0m\u001B[1;33m\u001B[0m\u001B[1;33m\u001B[0m\u001B[0m\n\u001B[0m\u001B[0;32m    432\u001B[0m \u001B[1;33m\u001B[0m\u001B[0m\n",
      "\u001B[1;32mc:\\users\\kogan\\.virtualenvs\\subcircuit_recognition-mmb-fima\\lib\\site-packages\\matplotlib\\_api\\deprecation.py\u001B[0m in \u001B[0;36mwrapper\u001B[1;34m(*inner_args, **inner_kwargs)\u001B[0m\n\u001B[0;32m    405\u001B[0m     \u001B[1;32mdef\u001B[0m \u001B[0mwrapper\u001B[0m\u001B[1;33m(\u001B[0m\u001B[1;33m*\u001B[0m\u001B[0minner_args\u001B[0m\u001B[1;33m,\u001B[0m \u001B[1;33m**\u001B[0m\u001B[0minner_kwargs\u001B[0m\u001B[1;33m)\u001B[0m\u001B[1;33m:\u001B[0m\u001B[1;33m\u001B[0m\u001B[1;33m\u001B[0m\u001B[0m\n\u001B[1;32m--> 406\u001B[1;33m         \u001B[0marguments\u001B[0m \u001B[1;33m=\u001B[0m \u001B[0msignature\u001B[0m\u001B[1;33m.\u001B[0m\u001B[0mbind\u001B[0m\u001B[1;33m(\u001B[0m\u001B[1;33m*\u001B[0m\u001B[0minner_args\u001B[0m\u001B[1;33m,\u001B[0m \u001B[1;33m**\u001B[0m\u001B[0minner_kwargs\u001B[0m\u001B[1;33m)\u001B[0m\u001B[1;33m.\u001B[0m\u001B[0marguments\u001B[0m\u001B[1;33m\u001B[0m\u001B[1;33m\u001B[0m\u001B[0m\n\u001B[0m\u001B[0;32m    407\u001B[0m         \u001B[1;32mif\u001B[0m \u001B[0mis_varargs\u001B[0m \u001B[1;32mand\u001B[0m \u001B[0marguments\u001B[0m\u001B[1;33m.\u001B[0m\u001B[0mget\u001B[0m\u001B[1;33m(\u001B[0m\u001B[0mname\u001B[0m\u001B[1;33m)\u001B[0m\u001B[1;33m:\u001B[0m\u001B[1;33m\u001B[0m\u001B[1;33m\u001B[0m\u001B[0m\n",
      "\u001B[1;32mc:\\users\\kogan\\appdata\\local\\programs\\python\\python38\\lib\\inspect.py\u001B[0m in \u001B[0;36mbind\u001B[1;34m(self, *args, **kwargs)\u001B[0m\n\u001B[0;32m   3024\u001B[0m         \"\"\"\n\u001B[1;32m-> 3025\u001B[1;33m         \u001B[1;32mreturn\u001B[0m \u001B[0mself\u001B[0m\u001B[1;33m.\u001B[0m\u001B[0m_bind\u001B[0m\u001B[1;33m(\u001B[0m\u001B[0margs\u001B[0m\u001B[1;33m,\u001B[0m \u001B[0mkwargs\u001B[0m\u001B[1;33m)\u001B[0m\u001B[1;33m\u001B[0m\u001B[1;33m\u001B[0m\u001B[0m\n\u001B[0m\u001B[0;32m   3026\u001B[0m \u001B[1;33m\u001B[0m\u001B[0m\n",
      "\u001B[1;32mc:\\users\\kogan\\appdata\\local\\programs\\python\\python38\\lib\\inspect.py\u001B[0m in \u001B[0;36m_bind\u001B[1;34m(self, args, kwargs, partial)\u001B[0m\n\u001B[0;32m   2987\u001B[0m                 \u001B[0marg_val\u001B[0m \u001B[1;33m=\u001B[0m \u001B[0mkwargs\u001B[0m\u001B[1;33m.\u001B[0m\u001B[0mpop\u001B[0m\u001B[1;33m(\u001B[0m\u001B[0mparam_name\u001B[0m\u001B[1;33m)\u001B[0m\u001B[1;33m\u001B[0m\u001B[1;33m\u001B[0m\u001B[0m\n\u001B[1;32m-> 2988\u001B[1;33m             \u001B[1;32mexcept\u001B[0m \u001B[0mKeyError\u001B[0m\u001B[1;33m:\u001B[0m\u001B[1;33m\u001B[0m\u001B[1;33m\u001B[0m\u001B[0m\n\u001B[0m\u001B[0;32m   2989\u001B[0m                 \u001B[1;31m# We have no value for this parameter.  It's fine though,\u001B[0m\u001B[1;33m\u001B[0m\u001B[1;33m\u001B[0m\u001B[1;33m\u001B[0m\u001B[0m\n",
      "\u001B[1;31mKeyboardInterrupt\u001B[0m: ",
      "\nDuring handling of the above exception, another exception occurred:\n",
      "\u001B[1;31mAttributeError\u001B[0m                            Traceback (most recent call last)",
      "\u001B[1;32mc:\\users\\kogan\\.virtualenvs\\subcircuit_recognition-mmb-fima\\lib\\site-packages\\IPython\\core\\interactiveshell.py\u001B[0m in \u001B[0;36mshowtraceback\u001B[1;34m(self, exc_tuple, filename, tb_offset, exception_only, running_compiled_code)\u001B[0m\n\u001B[0;32m   2043\u001B[0m                         \u001B[1;31m# in the engines. This should return a list of strings.\u001B[0m\u001B[1;33m\u001B[0m\u001B[1;33m\u001B[0m\u001B[1;33m\u001B[0m\u001B[0m\n\u001B[1;32m-> 2044\u001B[1;33m                         \u001B[0mstb\u001B[0m \u001B[1;33m=\u001B[0m \u001B[0mvalue\u001B[0m\u001B[1;33m.\u001B[0m\u001B[0m_render_traceback_\u001B[0m\u001B[1;33m(\u001B[0m\u001B[1;33m)\u001B[0m\u001B[1;33m\u001B[0m\u001B[1;33m\u001B[0m\u001B[0m\n\u001B[0m\u001B[0;32m   2045\u001B[0m                     \u001B[1;32mexcept\u001B[0m \u001B[0mException\u001B[0m\u001B[1;33m:\u001B[0m\u001B[1;33m\u001B[0m\u001B[1;33m\u001B[0m\u001B[0m\n",
      "\u001B[1;31mAttributeError\u001B[0m: 'KeyboardInterrupt' object has no attribute '_render_traceback_'",
      "\nDuring handling of the above exception, another exception occurred:\n",
      "\u001B[1;31mTypeError\u001B[0m                                 Traceback (most recent call last)",
      "\u001B[1;32mc:\\users\\kogan\\.virtualenvs\\subcircuit_recognition-mmb-fima\\lib\\site-packages\\IPython\\core\\interactiveshell.py\u001B[0m in \u001B[0;36mrun_code\u001B[1;34m(self, code_obj, result, async_)\u001B[0m\n\u001B[0;32m   3346\u001B[0m             \u001B[1;32mif\u001B[0m \u001B[0mresult\u001B[0m \u001B[1;32mis\u001B[0m \u001B[1;32mnot\u001B[0m \u001B[1;32mNone\u001B[0m\u001B[1;33m:\u001B[0m\u001B[1;33m\u001B[0m\u001B[1;33m\u001B[0m\u001B[0m\n\u001B[0;32m   3347\u001B[0m                 \u001B[0mresult\u001B[0m\u001B[1;33m.\u001B[0m\u001B[0merror_in_exec\u001B[0m \u001B[1;33m=\u001B[0m \u001B[0msys\u001B[0m\u001B[1;33m.\u001B[0m\u001B[0mexc_info\u001B[0m\u001B[1;33m(\u001B[0m\u001B[1;33m)\u001B[0m\u001B[1;33m[\u001B[0m\u001B[1;36m1\u001B[0m\u001B[1;33m]\u001B[0m\u001B[1;33m\u001B[0m\u001B[1;33m\u001B[0m\u001B[0m\n\u001B[1;32m-> 3348\u001B[1;33m             \u001B[0mself\u001B[0m\u001B[1;33m.\u001B[0m\u001B[0mshowtraceback\u001B[0m\u001B[1;33m(\u001B[0m\u001B[0mrunning_compiled_code\u001B[0m\u001B[1;33m=\u001B[0m\u001B[1;32mTrue\u001B[0m\u001B[1;33m)\u001B[0m\u001B[1;33m\u001B[0m\u001B[1;33m\u001B[0m\u001B[0m\n\u001B[0m\u001B[0;32m   3349\u001B[0m         \u001B[1;32melse\u001B[0m\u001B[1;33m:\u001B[0m\u001B[1;33m\u001B[0m\u001B[1;33m\u001B[0m\u001B[0m\n\u001B[0;32m   3350\u001B[0m             \u001B[0moutflag\u001B[0m \u001B[1;33m=\u001B[0m \u001B[1;32mFalse\u001B[0m\u001B[1;33m\u001B[0m\u001B[1;33m\u001B[0m\u001B[0m\n",
      "\u001B[1;32mc:\\users\\kogan\\.virtualenvs\\subcircuit_recognition-mmb-fima\\lib\\site-packages\\IPython\\core\\interactiveshell.py\u001B[0m in \u001B[0;36mshowtraceback\u001B[1;34m(self, exc_tuple, filename, tb_offset, exception_only, running_compiled_code)\u001B[0m\n\u001B[0;32m   2044\u001B[0m                         \u001B[0mstb\u001B[0m \u001B[1;33m=\u001B[0m \u001B[0mvalue\u001B[0m\u001B[1;33m.\u001B[0m\u001B[0m_render_traceback_\u001B[0m\u001B[1;33m(\u001B[0m\u001B[1;33m)\u001B[0m\u001B[1;33m\u001B[0m\u001B[1;33m\u001B[0m\u001B[0m\n\u001B[0;32m   2045\u001B[0m                     \u001B[1;32mexcept\u001B[0m \u001B[0mException\u001B[0m\u001B[1;33m:\u001B[0m\u001B[1;33m\u001B[0m\u001B[1;33m\u001B[0m\u001B[0m\n\u001B[1;32m-> 2046\u001B[1;33m                         stb = self.InteractiveTB.structured_traceback(etype,\n\u001B[0m\u001B[0;32m   2047\u001B[0m                                             value, tb, tb_offset=tb_offset)\n\u001B[0;32m   2048\u001B[0m \u001B[1;33m\u001B[0m\u001B[0m\n",
      "\u001B[1;32mc:\\users\\kogan\\.virtualenvs\\subcircuit_recognition-mmb-fima\\lib\\site-packages\\IPython\\core\\ultratb.py\u001B[0m in \u001B[0;36mstructured_traceback\u001B[1;34m(self, etype, value, tb, tb_offset, number_of_lines_of_context)\u001B[0m\n\u001B[0;32m   1415\u001B[0m         \u001B[1;32melse\u001B[0m\u001B[1;33m:\u001B[0m\u001B[1;33m\u001B[0m\u001B[1;33m\u001B[0m\u001B[0m\n\u001B[0;32m   1416\u001B[0m             \u001B[0mself\u001B[0m\u001B[1;33m.\u001B[0m\u001B[0mtb\u001B[0m \u001B[1;33m=\u001B[0m \u001B[0mtb\u001B[0m\u001B[1;33m\u001B[0m\u001B[1;33m\u001B[0m\u001B[0m\n\u001B[1;32m-> 1417\u001B[1;33m         return FormattedTB.structured_traceback(\n\u001B[0m\u001B[0;32m   1418\u001B[0m             self, etype, value, tb, tb_offset, number_of_lines_of_context)\n\u001B[0;32m   1419\u001B[0m \u001B[1;33m\u001B[0m\u001B[0m\n",
      "\u001B[1;32mc:\\users\\kogan\\.virtualenvs\\subcircuit_recognition-mmb-fima\\lib\\site-packages\\IPython\\core\\ultratb.py\u001B[0m in \u001B[0;36mstructured_traceback\u001B[1;34m(self, etype, value, tb, tb_offset, number_of_lines_of_context)\u001B[0m\n\u001B[0;32m   1315\u001B[0m         \u001B[1;32mif\u001B[0m \u001B[0mmode\u001B[0m \u001B[1;32min\u001B[0m \u001B[0mself\u001B[0m\u001B[1;33m.\u001B[0m\u001B[0mverbose_modes\u001B[0m\u001B[1;33m:\u001B[0m\u001B[1;33m\u001B[0m\u001B[1;33m\u001B[0m\u001B[0m\n\u001B[0;32m   1316\u001B[0m             \u001B[1;31m# Verbose modes need a full traceback\u001B[0m\u001B[1;33m\u001B[0m\u001B[1;33m\u001B[0m\u001B[1;33m\u001B[0m\u001B[0m\n\u001B[1;32m-> 1317\u001B[1;33m             return VerboseTB.structured_traceback(\n\u001B[0m\u001B[0;32m   1318\u001B[0m                 \u001B[0mself\u001B[0m\u001B[1;33m,\u001B[0m \u001B[0metype\u001B[0m\u001B[1;33m,\u001B[0m \u001B[0mvalue\u001B[0m\u001B[1;33m,\u001B[0m \u001B[0mtb\u001B[0m\u001B[1;33m,\u001B[0m \u001B[0mtb_offset\u001B[0m\u001B[1;33m,\u001B[0m \u001B[0mnumber_of_lines_of_context\u001B[0m\u001B[1;33m\u001B[0m\u001B[1;33m\u001B[0m\u001B[0m\n\u001B[0;32m   1319\u001B[0m             )\n",
      "\u001B[1;32mc:\\users\\kogan\\.virtualenvs\\subcircuit_recognition-mmb-fima\\lib\\site-packages\\IPython\\core\\ultratb.py\u001B[0m in \u001B[0;36mstructured_traceback\u001B[1;34m(self, etype, evalue, etb, tb_offset, number_of_lines_of_context)\u001B[0m\n\u001B[0;32m   1184\u001B[0m         \u001B[0mexception\u001B[0m \u001B[1;33m=\u001B[0m \u001B[0mself\u001B[0m\u001B[1;33m.\u001B[0m\u001B[0mget_parts_of_chained_exception\u001B[0m\u001B[1;33m(\u001B[0m\u001B[0mevalue\u001B[0m\u001B[1;33m)\u001B[0m\u001B[1;33m\u001B[0m\u001B[1;33m\u001B[0m\u001B[0m\n\u001B[0;32m   1185\u001B[0m         \u001B[1;32mif\u001B[0m \u001B[0mexception\u001B[0m\u001B[1;33m:\u001B[0m\u001B[1;33m\u001B[0m\u001B[1;33m\u001B[0m\u001B[0m\n\u001B[1;32m-> 1186\u001B[1;33m             \u001B[0mformatted_exceptions\u001B[0m \u001B[1;33m+=\u001B[0m \u001B[0mself\u001B[0m\u001B[1;33m.\u001B[0m\u001B[0mprepare_chained_exception_message\u001B[0m\u001B[1;33m(\u001B[0m\u001B[0mevalue\u001B[0m\u001B[1;33m.\u001B[0m\u001B[0m__cause__\u001B[0m\u001B[1;33m)\u001B[0m\u001B[1;33m\u001B[0m\u001B[1;33m\u001B[0m\u001B[0m\n\u001B[0m\u001B[0;32m   1187\u001B[0m             \u001B[0metype\u001B[0m\u001B[1;33m,\u001B[0m \u001B[0mevalue\u001B[0m\u001B[1;33m,\u001B[0m \u001B[0metb\u001B[0m \u001B[1;33m=\u001B[0m \u001B[0mexception\u001B[0m\u001B[1;33m\u001B[0m\u001B[1;33m\u001B[0m\u001B[0m\n\u001B[0;32m   1188\u001B[0m         \u001B[1;32melse\u001B[0m\u001B[1;33m:\u001B[0m\u001B[1;33m\u001B[0m\u001B[1;33m\u001B[0m\u001B[0m\n",
      "\u001B[1;31mTypeError\u001B[0m: can only concatenate str (not \"list\") to str"
     ]
    },
    {
     "data": {
      "text/plain": "<Figure size 864x576 with 2 Axes>",
      "image/png": "[encoded data removed]"
     },
     "metadata": {
      "needs_background": "light"
     },
     "output_type": "display_data"
    }
   ],
   "source": [
    "liveloss = PlotLosses(mode='notebook')\n",
    "\n",
    "filename = \"\"\n",
    "epochs = 20\n",
    "k_update_plot = 1\n",
    "\n",
    "for epoch in range(1, epochs + 1):\n",
    "    scheduler.step()\n",
    "\n",
    "    avg_loss = train(iters_per_epoch=50, batch_size=len(train_graphs), model=model, device=device, train_graphs=train_graphs, optimizer=optimizer, epoch=epoch)\n",
    "    acc_train, acc_test = test(model, device, train_graphs, test_graphs, epoch)\n",
    "\n",
    "    if not filename == \"\":\n",
    "        with open(filename, 'w') as f:\n",
    "            f.write(\"%f %f %f\" % (avg_loss, acc_train, acc_test))\n",
    "            f.write(\"\\n\")\n",
    "    print(\"\")\n",
    "\n",
    "    print(model.eps)\n",
    "\n",
    "    if epoch % k_update_plot == 0:\n",
    "        liveloss.update({'train error': avg_loss.item()})\n",
    "        liveloss.send()"
   ]
  },
  {
   "cell_type": "code",
   "execution_count": 10,
   "metadata": {
    "pycharm": {
     "name": "#%%\n"
    }
   },
   "outputs": [
    {
     "data": {
      "text/plain": "1.0"
     },
     "execution_count": 10,
     "metadata": {},
     "output_type": "execute_result"
    }
   ],
   "source": [
    "acc_train"
   ]
  },
  {
   "cell_type": "code",
   "execution_count": 11,
   "metadata": {
    "pycharm": {
     "name": "#%%\n"
    }
   },
   "outputs": [
    {
     "data": {
      "text/plain": "1.0"
     },
     "execution_count": 11,
     "metadata": {},
     "output_type": "execute_result"
    }
   ],
   "source": [
    "acc_test"
   ]
  },
  {
   "cell_type": "markdown",
   "metadata": {
    "collapsed": false,
    "jupyter": {
     "outputs_hidden": false
    }
   },
   "source": [
    "Show predictions"
   ]
  },
  {
   "cell_type": "code",
   "execution_count": 12,
   "metadata": {
    "collapsed": false,
    "jupyter": {
     "outputs_hidden": false
    },
    "pycharm": {
     "name": "#%%\n"
    }
   },
   "outputs": [
    {
     "name": "stdout",
     "output_type": "stream",
     "text": [
      "tensor([[0],\n",
      "        [0],\n",
      "        [0],\n",
      "        [0],\n",
      "        [0],\n",
      "        [0],\n",
      "        [0],\n",
      "        [1],\n",
      "        [0],\n",
      "        [0],\n",
      "        [0],\n",
      "        [0],\n",
      "        [0],\n",
      "        [1],\n",
      "        [0],\n",
      "        [0],\n",
      "        [0],\n",
      "        [0],\n",
      "        [0],\n",
      "        [0],\n",
      "        [0],\n",
      "        [0],\n",
      "        [0],\n",
      "        [0],\n",
      "        [0],\n",
      "        [0],\n",
      "        [0],\n",
      "        [0],\n",
      "        [0],\n",
      "        [0],\n",
      "        [0],\n",
      "        [0],\n",
      "        [1]])\n"
     ]
    }
   ],
   "source": [
    "model.eval()\n",
    "pred = model(train_graphs).max(1, keepdim=True)[1]\n",
    "print(pred)"
   ]
  },
  {
   "cell_type": "code",
   "execution_count": 13,
   "metadata": {
    "collapsed": false,
    "jupyter": {
     "outputs_hidden": false
    },
    "pycharm": {
     "name": "#%%\n"
    }
   },
   "outputs": [
    {
     "name": "stdout",
     "output_type": "stream",
     "text": [
      "tensor([[0],\n",
      "        [0],\n",
      "        [0],\n",
      "        [0],\n",
      "        [0],\n",
      "        [0],\n",
      "        [0],\n",
      "        [0],\n",
      "        [1],\n",
      "        [0],\n",
      "        [0],\n",
      "        [0],\n",
      "        [1],\n",
      "        [0],\n",
      "        [0],\n",
      "        [0],\n",
      "        [0]])\n"
     ]
    }
   ],
   "source": [
    "pred = model(test_graphs).max(1, keepdim=True)[1]\n",
    "print(pred)"
   ]
  },
  {
   "cell_type": "markdown",
   "metadata": {
    "collapsed": false,
    "jupyter": {
     "outputs_hidden": false
    }
   },
   "source": [
    "show all distances matrix (margin)"
   ]
  },
  {
   "cell_type": "code",
   "execution_count": 9,
   "metadata": {
    "collapsed": false,
    "jupyter": {
     "outputs_hidden": false
    },
    "pycharm": {
     "name": "#%%\n"
    }
   },
   "outputs": [
    {
     "name": "stdout",
     "output_type": "stream",
     "text": [
      "# classes: 2\n",
      "# maximum node tag: 48\n",
      "# data: 10\n"
     ]
    }
   ],
   "source": [
    "# keep only one instance of each graph\n",
    "graphs, num_classes = transform_into_s2vgraphs(subgraphs, labels, device)\n",
    "\n",
    "all_embeddings = model.get_embedding(graphs)"
   ]
  },
  {
   "cell_type": "code",
   "execution_count": 10,
   "metadata": {
    "collapsed": false,
    "jupyter": {
     "outputs_hidden": false
    },
    "pycharm": {
     "name": "#%%\n"
    }
   },
   "outputs": [
    {
     "data": {
      "text/plain": "<Figure size 432x288 with 2 Axes>",
      "image/png": "[encoded data removed]"
     },
     "metadata": {
      "needs_background": "light"
     },
     "output_type": "display_data"
    },
    {
     "data": {
      "text/plain": "<Figure size 432x288 with 2 Axes>",
      "image/png": "[encoded data removed]"
     },
     "metadata": {
      "needs_background": "light"
     },
     "output_type": "display_data"
    }
   ],
   "source": [
    "l2_dists = pairwise_l2_distance(all_embeddings)[REFERENCE_GRAPH_ORIGINAL_INDEX].reshape(-1, 1)\n",
    "\n",
    "rounding_constant = 10 ** 3\n",
    "cos_dists = (torch.round(calculate_energy_based_hidden_rep(all_embeddings, threshold=-1) * rounding_constant) / rounding_constant)[REFERENCE_GRAPH_ORIGINAL_INDEX].reshape(-1, 1)\n",
    "\n",
    "show_distance_matrix(l2_dists, \"l2-distances\")\n",
    "show_distance_matrix(cos_dists, \"cosine-distances\")"
   ]
  },
  {
   "cell_type": "markdown",
   "metadata": {
    "collapsed": false,
    "jupyter": {
     "outputs_hidden": false
    }
   },
   "source": [
    "what is the smallest margin?"
   ]
  },
  {
   "cell_type": "code",
   "execution_count": 11,
   "metadata": {
    "collapsed": false,
    "jupyter": {
     "outputs_hidden": false
    },
    "pycharm": {
     "name": "#%%\n"
    }
   },
   "outputs": [
    {
     "name": "stdout",
     "output_type": "stream",
     "text": [
      "43.02388000488281\n",
      "0.007000000216066837\n"
     ]
    }
   ],
   "source": [
    "print(get_min_non_diagonal_entry(l2_dists, device, REFERENCE_GRAPH_ORIGINAL_INDEX))\n",
    "print(get_min_non_diagonal_entry(cos_dists, device, REFERENCE_GRAPH_ORIGINAL_INDEX))"
   ]
  },
  {
   "cell_type": "markdown",
   "metadata": {
    "collapsed": false,
    "jupyter": {
     "outputs_hidden": false
    }
   },
   "source": [
    "Contrastive loss training"
   ]
  },
  {
   "cell_type": "markdown",
   "metadata": {
    "collapsed": false,
    "jupyter": {
     "outputs_hidden": false
    }
   },
   "source": [
    "Assemble graph pairs data"
   ]
  },
  {
   "cell_type": "code",
   "execution_count": 12,
   "metadata": {
    "pycharm": {
     "name": "#%%\n"
    }
   },
   "outputs": [],
   "source": [
    "train_samples_list = []\n",
    "reference_subgraph = subgraphs[REFERENCE_GRAPH_ORIGINAL_INDEX]\n",
    "negative_examples_subgraphs = subgraphs[:REFERENCE_GRAPH_ORIGINAL_INDEX] + subgraphs[REFERENCE_GRAPH_ORIGINAL_INDEX+1:]\n",
    "\n",
    "for subgraph in subgraphs:\n",
    "    if subgraph == reference_subgraph:\n",
    "        is_negative_example = False\n",
    "    else:\n",
    "        is_negative_example = True\n",
    "\n",
    "    G1_annotated = AnnotatedGraph(subgraph.G)\n",
    "    G2_annotated = AnnotatedGraph(reference_subgraph.G)\n",
    "    train_samples_list.append(Pair_Sample_Info(\n",
    "        subgraph=G1_annotated,\n",
    "        masked_graph=G2_annotated,\n",
    "        is_negative_sample=torch.tensor(is_negative_example)))\n",
    "\n",
    "val_samples_list = train_samples_list"
   ]
  },
  {
   "cell_type": "markdown",
   "metadata": {
    "collapsed": false,
    "jupyter": {
     "outputs_hidden": false
    }
   },
   "source": [
    "Define GNN model"
   ]
  },
  {
   "cell_type": "code",
   "execution_count": 13,
   "metadata": {
    "collapsed": false,
    "jupyter": {
     "outputs_hidden": false
    },
    "pycharm": {
     "name": "#%%\n"
    }
   },
   "outputs": [],
   "source": [
    "# input dim matches the node mask (w) shape\n",
    "input_dim = S2VGraphEmbeddingSimilarityMetricTrainer.get_model_expected_input_dim(train_samples_list[0])\n",
    "model_factory_func = lambda device: GraphCNN(num_layers=5, num_mlp_layers = 2, input_dim=input_dim, hidden_dim=64, output_dim=num_classes, final_dropout=0.5, learn_eps=False, graph_pooling_type=\"sum\", neighbor_pooling_type=\"sum\", device=device)"
   ]
  },
  {
   "cell_type": "markdown",
   "metadata": {
    "collapsed": false,
    "jupyter": {
     "outputs_hidden": false
    }
   },
   "source": [
    "Define graph metric to train, and the trainer"
   ]
  },
  {
   "cell_type": "code",
   "execution_count": 14,
   "metadata": {
    "collapsed": false,
    "jupyter": {
     "outputs_hidden": false
    },
    "pycharm": {
     "name": "#%%\n"
    }
   },
   "outputs": [],
   "source": [
    "solver_params = {\n",
    "    \"device\": device,\n",
    "    \"lr\": 1e-3, \"weight_decay\": 1e-3,\n",
    "    \"max_epochs\": 50,\n",
    "    \"cycle_patience\": 5, \"step_size_up\": 10, \"step_size_down\": 10,\n",
    "    \"loss_convergence_threshold\": None,\n",
    "    \"train_loss_convergence_threshold\": 1e-3,\n",
    "    \"successive_convergence_min_iterations_amount\": 5,\n",
    "    \"margin_loss_margin_value\": 5,\n",
    "    \"max_grad_norm\": 0.1,\n",
    "    \"k_update_plot\": 1,\n",
    "    \"train_monitoring_epochs_pace\": 5,\n",
    "    \"batch_size\": len(subgraphs),\n",
    "    \"num_workers\": 0,\n",
    "    \"is_use_model_compliation\": False, #Only supported for Pytorch > 2.0\n",
    "    \"model_checkpoint_epochs_pace\": 10,\n",
    "}\n",
    "\n",
    "problem_params = {\"input_dim\": input_dim}\n",
    "\n",
    "trainer, graph_metric_nn, model = init_embedding_net_and_trainer(model_factory_func, solver_params, problem_params)"
   ]
  },
  {
   "cell_type": "markdown",
   "metadata": {
    "collapsed": false,
    "jupyter": {
     "outputs_hidden": false
    }
   },
   "source": [
    "Train"
   ]
  },
  {
   "cell_type": "code",
   "execution_count": null,
   "metadata": {
    "collapsed": false,
    "jupyter": {
     "outputs_hidden": false
    },
    "pycharm": {
     "name": "#%%\n"
    }
   },
   "outputs": [],
   "source": [
    "# show_distances_heatmap(generate_s2v_graphs([graph.g for graph in graphs], device), model, device)"
   ]
  },
  {
   "cell_type": "code",
   "execution_count": null,
   "metadata": {
    "collapsed": false,
    "jupyter": {
     "outputs_hidden": false
    },
    "pycharm": {
     "name": "#%%\n"
    }
   },
   "outputs": [],
   "source": [
    "trainer.train(processes_device_ids=['cpu'], use_existing_data_loaders=False, train_samples_list=train_samples_list, val_samples_list=val_samples_list)"
   ]
  },
  {
   "cell_type": "code",
   "execution_count": null,
   "metadata": {
    "pycharm": {
     "name": "#%%\n"
    }
   },
   "outputs": [],
   "source": [
    "show_distances_heatmap(generate_s2v_graphs([graph.g for graph in graphs], device), model, device)"
   ]
  },
  {
   "cell_type": "markdown",
   "metadata": {
    "collapsed": false,
    "jupyter": {
     "outputs_hidden": false
    }
   },
   "source": [
    "Add ged=1 examples as positive examples"
   ]
  },
  {
   "cell_type": "code",
   "execution_count": null,
   "metadata": {
    "collapsed": false,
    "jupyter": {
     "outputs_hidden": false
    },
    "pycharm": {
     "name": "#%%\n"
    }
   },
   "outputs": [],
   "source": [
    "# generate subgraphs for which ged(subgraph, reference_subgraph)==1\n",
    "perturbed_graphs = list(generate_perturbed_graphs(reference_subgraph.G_sub))\n",
    "for perturbed_graph in perturbed_graphs:\n",
    "    is_negative_example = False\n",
    "\n",
    "    G1_annotated = AnnotatedGraph(perturbed_graph)\n",
    "    G2_annotated = AnnotatedGraph(reference_subgraph.G)\n",
    "    train_samples_list.append(Pair_Sample_Info(\n",
    "        subgraph=G1_annotated,\n",
    "        masked_graph=G2_annotated,\n",
    "        is_negative_sample=torch.tensor(is_negative_example)))"
   ]
  },
  {
   "cell_type": "code",
   "execution_count": null,
   "metadata": {
    "collapsed": false,
    "jupyter": {
     "outputs_hidden": false
    },
    "pycharm": {
     "name": "#%%\n"
    }
   },
   "outputs": [],
   "source": [
    "len(train_samples_list)"
   ]
  },
  {
   "cell_type": "code",
   "execution_count": null,
   "metadata": {
    "collapsed": false,
    "jupyter": {
     "outputs_hidden": false
    },
    "pycharm": {
     "name": "#%%\n"
    }
   },
   "outputs": [],
   "source": [
    "val_samples_list = train_samples_list\n",
    "model_factory_func = lambda device: GraphCNN(num_layers=5, num_mlp_layers = 2, input_dim=input_dim, hidden_dim=64, output_dim=num_classes, final_dropout=0.5, learn_eps=False, graph_pooling_type=\"sum\", neighbor_pooling_type=\"sum\", device=device)\n",
    "solver_params[\"batch_size\"] = len(train_samples_list)\n",
    "\n",
    "trainer, graph_metric_nn, model = init_embedding_net_and_trainer(model_factory_func, solver_params, problem_params)\n",
    "\n",
    "trainer.train(processes_device_ids=['cpu'], use_existing_data_loaders=False, train_samples_list=train_samples_list, val_samples_list=val_samples_list)"
   ]
  },
  {
   "cell_type": "code",
   "execution_count": null,
   "metadata": {
    "collapsed": false,
    "jupyter": {
     "outputs_hidden": false
    },
    "pycharm": {
     "name": "#%%\n"
    }
   },
   "outputs": [],
   "source": [
    "all_s2v_graphs = generate_s2v_graphs([subgraph.G for subgraph in subgraphs] + perturbed_graphs, device)\n",
    "# show_distances_heatmap(all_s2v_graphs, model, device)"
   ]
  },
  {
   "cell_type": "code",
   "execution_count": null,
   "metadata": {
    "collapsed": false,
    "jupyter": {
     "outputs_hidden": false
    },
    "pycharm": {
     "name": "#%%\n"
    }
   },
   "outputs": [],
   "source": [
    "show_distances_heatmap(all_s2v_graphs[:len(subgraphs)], model, device)"
   ]
  },
  {
   "cell_type": "code",
   "execution_count": null,
   "metadata": {
    "collapsed": false,
    "jupyter": {
     "outputs_hidden": false
    },
    "pycharm": {
     "name": "#%%\n"
    }
   },
   "outputs": [],
   "source": [
    "reference_s2v_graph = all_s2v_graphs[REFERENCE_GRAPH_ORIGINAL_INDEX]\n",
    "reference_graph_with_positive_examples = [reference_s2v_graph] + all_s2v_graphs[len(subgraphs):]\n",
    "reference_graph_with_negative_examples = [all_s2v_graphs[i] for i in range(len(all_s2v_graphs[:len(subgraphs)]))]"
   ]
  },
  {
   "cell_type": "code",
   "execution_count": null,
   "metadata": {
    "pycharm": {
     "name": "#%%\n"
    }
   },
   "outputs": [],
   "source": [
    "show_distances_heatmap(reference_graph_with_positive_examples, model, device, show_min_off_diagonal=False)"
   ]
  },
  {
   "cell_type": "code",
   "execution_count": null,
   "metadata": {
    "pycharm": {
     "name": "#%%\n"
    }
   },
   "outputs": [],
   "source": [
    "show_distances_heatmap(reference_graph_with_negative_examples, model, device, show_min_off_diagonal=True)"
   ]
  },
  {
   "cell_type": "code",
   "execution_count": null,
   "metadata": {
    "collapsed": false,
    "jupyter": {
     "outputs_hidden": false
    },
    "pycharm": {
     "name": "#%%\n"
    }
   },
   "outputs": [],
   "source": [
    "_ = graph_metric_nn.eval()"
   ]
  },
  {
   "cell_type": "code",
   "execution_count": null,
   "metadata": {
    "collapsed": false,
    "jupyter": {
     "outputs_hidden": false
    },
    "pycharm": {
     "name": "#%%\n"
    }
   },
   "outputs": [],
   "source": [
    "positive_distances = []\n",
    "for positive_example_second_graph in reference_graph_with_positive_examples:\n",
    "    distance = graph_metric_nn.forward([(reference_s2v_graph, positive_example_second_graph)]).item()\n",
    "    positive_distances.append(distance)\n",
    "    if distance > solver_params['margin_loss_margin_value']:\n",
    "        print(f\"positive loss term not zero, as distance for this positive example pair is {distance}\")\n",
    "\n",
    "negative_distances = []\n",
    "for negative_example_second_graph in reference_graph_with_negative_examples:\n",
    "    if negative_example_second_graph == reference_s2v_graph:\n",
    "        continue #ignore the same graph with itself\n",
    "    distance = graph_metric_nn.forward([(reference_s2v_graph, negative_example_second_graph)]).item()\n",
    "    negative_distances.append(distance)\n",
    "    if distance < solver_params['margin_loss_margin_value']:\n",
    "        print(f\"negative loss term not zero, as distance for this negative example pair is {distance}\")"
   ]
  },
  {
   "cell_type": "code",
   "execution_count": null,
   "metadata": {
    "collapsed": false,
    "jupyter": {
     "outputs_hidden": false
    },
    "pycharm": {
     "name": "#%%\n"
    }
   },
   "outputs": [],
   "source": [
    "max(positive_distances)"
   ]
  },
  {
   "cell_type": "code",
   "execution_count": null,
   "metadata": {
    "collapsed": false,
    "jupyter": {
     "outputs_hidden": false
    },
    "pycharm": {
     "name": "#%%\n"
    }
   },
   "outputs": [],
   "source": [
    "min(negative_distances)"
   ]
  },
  {
   "cell_type": "markdown",
   "metadata": {
    "collapsed": false,
    "jupyter": {
     "outputs_hidden": false
    }
   },
   "source": [
    "k-subgraphs experiment"
   ]
  },
  {
   "cell_type": "code",
   "execution_count": null,
   "metadata": {
    "collapsed": false,
    "jupyter": {
     "outputs_hidden": false
    },
    "pycharm": {
     "name": "#%%\n"
    }
   },
   "outputs": [],
   "source": [
    "K = 11\n",
    "full_graph = reference_subgraph.G\n",
    "\n",
    "subgraphs_iterator = itertools.combinations(full_graph, K)\n",
    "k_subgraphs = [full_graph.subgraph(s) for s in subgraphs_iterator]\n",
    "k_subgraph_annotated_graphs = [AnnotatedGraph(g, label=i) for i, g in enumerate(k_subgraphs)]\n",
    "\n",
    "train_samples_list = []\n",
    "isomorphic_pairs = []\n",
    "train_sample_indices_tuple_list = []"
   ]
  },
  {
   "cell_type": "code",
   "execution_count": null,
   "metadata": {
    "collapsed": false,
    "jupyter": {
     "outputs_hidden": false
    },
    "pycharm": {
     "name": "#%%\n"
    }
   },
   "outputs": [],
   "source": [
    "for subgraph_counter1, SG_annotated_1 in enumerate(k_subgraph_annotated_graphs):\n",
    "    for subgraph_counter2 in range(subgraph_counter1+1, len(k_subgraph_annotated_graphs)):\n",
    "        SG_annotated_2 = k_subgraph_annotated_graphs[subgraph_counter2]\n",
    "        train_samples_list.append(compare_graphs_and_generate_pair_example(SG_annotated_1, SG_annotated_2, isomorphic_pairs))\n",
    "        train_sample_indices_tuple_list.append((subgraph_counter1, subgraph_counter2))\n",
    "        # if train_samples_list[-1].is_negative_sample == False:\n",
    "        #     print(f\"{subgraph_counter1} vs {subgraph_counter2}\")"
   ]
  },
  {
   "cell_type": "code",
   "execution_count": null,
   "metadata": {
    "pycharm": {
     "name": "#%%\n"
    }
   },
   "outputs": [],
   "source": [
    "used_train_samples_list = train_samples_list[:10_000]"
   ]
  },
  {
   "cell_type": "code",
   "execution_count": null,
   "metadata": {
    "pycharm": {
     "name": "#%%\n"
    }
   },
   "outputs": [],
   "source": [
    "model_factory_func = lambda device: GraphCNN(num_layers=5, num_mlp_layers = 2, input_dim=input_dim, hidden_dim=128, output_dim=num_classes, final_dropout=0.5, learn_eps=False, graph_pooling_type=\"sum\", neighbor_pooling_type=\"sum\", device=device)\n",
    "solver_params[\"batch_size\"] = 512\n",
    "solver_params[\"k_update_plot\"] = 1\n",
    "solver_params[\"lr\"] = 1e-1\n",
    "solver_params[\"max_epochs\"] = 50\n",
    "trainer, graph_metric_nn, model = init_embedding_net_and_trainer(model_factory_func, solver_params, problem_params, graph_metric_nn_checkpoint_path=None)\n",
    "\n",
    "trainer.train(processes_device_ids=[0], use_existing_data_loaders=False, train_samples_list=used_train_samples_list, val_samples_list=[])"
   ]
  },
  {
   "cell_type": "code",
   "execution_count": null,
   "metadata": {
    "pycharm": {
     "name": "#%%\n"
    }
   },
   "outputs": [],
   "source": [
    "trainer, graph_metric_nn, model = init_embedding_net_and_trainer(model_factory_func, solver_params, problem_params, graph_metric_nn_checkpoint_path=\"./mp/1704585490.4369323/best_model_state_dict.pt\")\n",
    "_ = graph_metric_nn.eval()"
   ]
  },
  {
   "cell_type": "code",
   "execution_count": null,
   "metadata": {
    "pycharm": {
     "name": "#%%\n"
    }
   },
   "outputs": [],
   "source": [
    "train_positive_distances, train_negative_distances = get_examples_distances(trainer, graph_metric_nn, used_train_samples_list)\n",
    "plot_histogram(train_positive_distances, \"positive pair distances\", min_range=0, max_range=20)\n",
    "plot_histogram(train_negative_distances, \"negative pair distances\", min_range=0, max_range=20)\n",
    "calc_margin_loss(torch.tensor(train_positive_distances+train_negative_distances), torch.cat((torch.ones(len(train_positive_distances)), torch.zeros(len(train_negative_distances)))), margin = solver_params['margin_loss_margin_value'])"
   ]
  },
  {
   "cell_type": "code",
   "execution_count": null,
   "metadata": {
    "collapsed": false,
    "jupyter": {
     "outputs_hidden": false
    },
    "pycharm": {
     "name": "#%%\n"
    }
   },
   "outputs": [],
   "source": [
    "# ged_pairs_dump_base_path = f\".{os.sep}ged_pairs\n",
    "\n",
    "# loaded_ged_examples = []\n",
    "# for i, doc_path in enumerate(pathlib.Path(ged_pairs_dump_base_path).rglob(\"*.p*\")):\n",
    "#     k_subgraph_ged_pairs_list = pickle.load(open(doc_path, 'rb'))\n",
    "#     loaded_ged_examples += k_subgraph_ged_pairs_list\n",
    "#     print(i)\n",
    "\n",
    "# if not os.path.exists(ged_pairs_dump_base_path):\n",
    "#     os.makedirs(ged_pairs_dump_base_path)\n",
    "#\n",
    "# # k_subgraph_to_perturbed_graphs_map = {}\n",
    "# def generate_ged_paris(subgraph_counter1):\n",
    "#     train_samples_list = []\n",
    "#     SG1 = k_subgraph_annotated_graphs[subgraph_counter1]\n",
    "#     ged1_perturbed_graphs = list(generate_perturbed_graphs(SG1.g))\n",
    "#     for ged1_perturbed_graph in ged1_perturbed_graphs:\n",
    "#         # positive example\n",
    "#         train_samples_list.append(generate_pair_example(SG1, AnnotatedGraph(ged1_perturbed_graph), is_negative_example = False))\n",
    "#\n",
    "#         ged2_perturbed_graphs = list(generate_perturbed_graphs(ged1_perturbed_graph))\n",
    "#         for ged2_perturbed_graph in ged2_perturbed_graphs:\n",
    "#             # could be positive or negative example\n",
    "#             train_samples_list.append(compare_graphs_and_generate_pair_example(k_subgraph_annotated_graphs[subgraph_counter1], AnnotatedGraph(ged2_perturbed_graph)))\n",
    "#\n",
    "#     path = os.path.join(ged_pairs_dump_base_path, f\"subgraph_{subgraph_counter1}.p\")\n",
    "#     with open(path, 'wb') as f:\n",
    "#         pickle.dump(train_samples_list, f)\n",
    "#     return train_samples_list\n",
    "#\n",
    "# total_tasks = len(k_subgraphs)\n",
    "# with tqdm_joblib(tqdm(desc=\"My calculation\", total=total_tasks)) as progress_bar:\n",
    "#     #Parallel(n_jobs=16)(delayed(long_task)() for i in range(10))\n",
    "#\n",
    "#     ged_examples = Parallel(n_jobs=int(cpu_count()), prefer='processes')(\n",
    "#         delayed(generate_ged_paris)(subgraph_counter1=subgraph_counter1)\n",
    "#         for subgraph_counter1 in range(total_tasks)\n",
    "#     )\n",
    "#\n",
    "# # generate subgraphs for which GED==1\n",
    "# for subgraph_counter1, SG1 in enumerate(k_subgraphs):\n",
    "#     print(subgraph_counter1)\n",
    "#     ged1_perturbed_graphs = list(generate_perturbed_graphs(SG1))\n",
    "#     for ged1_perturbed_graph in ged1_perturbed_graphs:\n",
    "#         # positive example\n",
    "#         train_samples_list.append(generate_pair_example(SG1, ged1_perturbed_graph, is_negative_example = False))\n",
    "#         #\n",
    "#         # ged2_perturbed_graphs = list(generate_perturbed_graphs(ged1_perturbed_graph))\n",
    "#         # for ged2_perturbed_graph in ged2_perturbed_graphs:\n",
    "#         #     # could be positive or negative example\n",
    "#         #     train_samples_list.append(compare_graphs_and_generate_pair_example(k_subgraph_annotated_graphs[subgraph_counter1], AnnotatedGraph(ged2_perturbed_graph)))\n",
    "#     # k_subgraph_to_perturbed_graphs_map[SG1] = perturbed_graphs\n",
    "\n",
    "#\n",
    "#\n",
    "# # generate all pairs examples\n",
    "# for SG1, SG1_perturbed_graphs in k_subgraph_to_perturbed_graphs_map.items():\n",
    "#     for SG2, SG2_perturbed_graphs in k_subgraph_to_perturbed_graphs_map.items():\n",
    "#\n",
    "#         if SG1 == SG2:\n",
    "#             continue # trivial pairs, or pairs already considered\n",
    "#\n",
    "#         for SG2_perturbed_graph in SG2_perturbed_graphs:\n",
    "#             train_samples_list.append(compare_graphs_and_generate_pair_example(SG1, SG2_perturbed_graph))\n",
    "#\n",
    "#         for SG1_perturbed_graph in SG1_perturbed_graphs:\n",
    "#             train_samples_list.append(compare_graphs_and_generate_pair_example(SG1_perturbed_graph, SG2))"
   ]
  },
  {
   "cell_type": "code",
   "execution_count": null,
   "metadata": {
    "collapsed": false,
    "jupyter": {
     "outputs_hidden": false
    },
    "pycharm": {
     "name": "#%%\n"
    }
   },
   "outputs": [],
   "source": [
    "random_k_subgraphs = generate_k_subgraph(reference_subgraph, k=9)"
   ]
  },
  {
   "cell_type": "code",
   "execution_count": null,
   "metadata": {},
   "outputs": [],
   "source": [
    "len(random_k_subgraphs)"
   ]
  },
  {
   "cell_type": "code",
   "execution_count": null,
   "metadata": {
    "collapsed": false,
    "jupyter": {
     "outputs_hidden": false
    },
    "pycharm": {
     "name": "#%%\n"
    }
   },
   "outputs": [],
   "source": [
    "POSITIVE_EXAMPLES_GED_DIST_pairs_n = 20 #2000\n",
    "POSITIVE_EXAMPLES_GED_DIST = 1\n",
    "POSITIVE_EXAMPLES_k_subgraphs = random_k_subgraphs\n",
    "\n",
    "NEGATIVE_EXAMPLES_GED_DIST_pairs_n = 20\n",
    "NEGATIVE_EXAMPLES_GED_DIST = 4 #4\n",
    "NEGATIVE_EXAMPLES_k_subgraphs = random_k_subgraphs#[:20]\n",
    "\n",
    "ged_examples1, ged_examples2 = generate_positive_and_negative_ged_pairs(POSITIVE_EXAMPLES_k_subgraphs, POSITIVE_EXAMPLES_GED_DIST, POSITIVE_EXAMPLES_GED_DIST_pairs_n, NEGATIVE_EXAMPLES_k_subgraphs, NEGATIVE_EXAMPLES_GED_DIST, NEGATIVE_EXAMPLES_GED_DIST_pairs_n)\n",
    "\n",
    "ged_examples = ged_examples1 + ged_examples2\n",
    "random.shuffle(ged_examples)\n",
    "\n",
    "train_ratio = 0.7\n",
    "train_ged_examples_amount = int(len(ged_examples) * train_ratio)\n",
    "train_ged_examples = ged_examples[:train_ged_examples_amount]\n",
    "eval_ged_examples = ged_examples[train_ged_examples_amount:]"
   ]
  },
  {
   "cell_type": "code",
   "execution_count": null,
   "metadata": {
    "collapsed": false,
    "jupyter": {
     "outputs_hidden": false
    },
    "pycharm": {
     "name": "#%%\n"
    }
   },
   "outputs": [],
   "source": [
    "len(train_ged_examples)"
   ]
  },
  {
   "cell_type": "code",
   "execution_count": null,
   "metadata": {},
   "outputs": [],
   "source": [
    "len(ged_examples2)"
   ]
  },
  {
   "cell_type": "code",
   "execution_count": null,
   "metadata": {
    "collapsed": false,
    "jupyter": {
     "outputs_hidden": false
    },
    "pycharm": {
     "name": "#%%\n"
    }
   },
   "outputs": [],
   "source": [
    "len(ged_examples1)"
   ]
  },
  {
   "cell_type": "code",
   "execution_count": null,
   "metadata": {
    "collapsed": false,
    "jupyter": {
     "outputs_hidden": false
    },
    "pycharm": {
     "name": "#%%\n"
    }
   },
   "outputs": [],
   "source": [
    "for k_subgraph in k_subgraphs:\n",
    "    if k_subgraphs[0].nodes == k_subgraph.nodes:\n",
    "        print(\"yes\")"
   ]
  },
  {
   "cell_type": "code",
   "execution_count": null,
   "metadata": {
    "collapsed": false,
    "jupyter": {
     "outputs_hidden": false
    },
    "pycharm": {
     "name": "#%%\n"
    }
   },
   "outputs": [],
   "source": [
    "len(k_subgraphs)"
   ]
  },
  {
   "cell_type": "code",
   "execution_count": null,
   "metadata": {
    "collapsed": false,
    "jupyter": {
     "outputs_hidden": false
    },
    "pycharm": {
     "name": "#%%\n"
    }
   },
   "outputs": [],
   "source": [
    "len(train_ged_examples)"
   ]
  },
  {
   "cell_type": "markdown",
   "metadata": {},
   "source": [
    "check 1-WL distance"
   ]
  },
  {
   "cell_type": "code",
   "execution_count": null,
   "metadata": {},
   "outputs": [],
   "source": [
    "# optimized single call for WL distance calculation\n",
    "### NOTE: Wl dist is not stable (depends which batch of graph you applied it with) ###\n",
    "# wl_dist_matrix = get_graph_wl_distances(k_subgraphs, node_label=False)\n",
    "\n",
    "# negative_pairs_wl_distances = []\n",
    "# positive_pairs_wl_distances = []\n",
    "#\n",
    "# positive_pairs_index_to_dist_map = {}\n",
    "# negative_pairs_index_to_dist_map = {}\n",
    "#\n",
    "# for i, train_sample in enumerate(train_samples_list):\n",
    "#     is_negative_sample = train_sample.is_negative_sample\n",
    "#     graph1 = train_sample.subgraph\n",
    "#     graph2 = train_sample.masked_graph\n",
    "#\n",
    "#     # s2v_graphs = generate_s2v_graphs([graph1.g, graph2.g], device, print_stats=False)\n",
    "#\n",
    "#     # distance = graph_metric_nn.forward([(s2v_graphs[0], s2v_graphs[1])]).item()\n",
    "#\n",
    "#     # wl_dist = get_graph_wl_distances([graph1.g, graph2.g], node_label=False)[0][1]\n",
    "#\n",
    "#     graph1_index, graph2_index = train_sample_indices_tuple_list[i]\n",
    "#     wl_dist = wl_dist_matrix[graph1_index][graph2_index]\n",
    "#     wl_dist = round(wl_dist, 6)\n",
    "#\n",
    "#     if is_negative_sample:\n",
    "#         negative_pairs_wl_distances.append(wl_dist)\n",
    "#         negative_pairs_index_to_dist_map[i] = wl_dist\n",
    "#     else:\n",
    "#         positive_pairs_wl_distances.append(wl_dist)\n",
    "#         positive_pairs_index_to_dist_map[i] = wl_dist"
   ]
  },
  {
   "cell_type": "code",
   "execution_count": null,
   "metadata": {},
   "outputs": [],
   "source": [
    "# _, _ = show_wl_dist_histograms(ged_1_examples, ged_2_examples, max_examples_amount = 1_000)"
   ]
  },
  {
   "cell_type": "code",
   "execution_count": null,
   "metadata": {},
   "outputs": [],
   "source": [
    "# margin = 0.001\n",
    "# calc_margin_loss(torch.tensor(positive_pairs_wl_distances+negative_pairs_wl_distances), torch.cat((torch.ones(len(positive_pairs_wl_distances)), torch.zeros(len(negative_pairs_wl_distances)))), margin)"
   ]
  },
  {
   "cell_type": "markdown",
   "metadata": {},
   "source": [
    "Fit GNN on k subgraph GED pairs"
   ]
  },
  {
   "cell_type": "code",
   "execution_count": null,
   "metadata": {
    "collapsed": false,
    "jupyter": {
     "outputs_hidden": false
    },
    "pycharm": {
     "name": "#%%\n"
    }
   },
   "outputs": [],
   "source": [
    "# disable debugging overhead operations\n",
    "torch.autograd.set_detect_anomaly(mode=False)"
   ]
  },
  {
   "cell_type": "code",
   "execution_count": null,
   "metadata": {},
   "outputs": [],
   "source": [
    "solver_params['margin_loss_margin_value'] = 0.5 #0.25 #0.01"
   ]
  },
  {
   "cell_type": "code",
   "execution_count": null,
   "metadata": {},
   "outputs": [],
   "source": [
    "# used_train_samples_amount = 50_000\n",
    "used_train_samples_list = train_ged_examples#[:used_train_samples_amount] #Needed due to performance issues"
   ]
  },
  {
   "cell_type": "code",
   "execution_count": null,
   "metadata": {
    "collapsed": false,
    "jupyter": {
     "outputs_hidden": false
    },
    "pycharm": {
     "name": "#%%\n"
    }
   },
   "outputs": [],
   "source": [
    "len(used_train_samples_list)"
   ]
  },
  {
   "cell_type": "code",
   "execution_count": null,
   "metadata": {},
   "outputs": [],
   "source": [
    "last_checkpoint_model_path = None\n",
    "\n",
    "# val_samples_list = used_train_samples_list\n",
    "model_factory_func = lambda device: GraphCNN(num_layers=5, num_mlp_layers = 2, input_dim=input_dim, hidden_dim=128, output_dim=num_classes, final_dropout=0.5, learn_eps=False, graph_pooling_type=\"sum\", neighbor_pooling_type=\"sum\", device=device)\n",
    "solver_params[\"batch_size\"] = 512 * 8 #32 #2048 #1024 #512\n",
    "solver_params[\"k_update_plot\"] = 1\n",
    "solver_params[\"lr\"] = 1e-1\n",
    "solver_params[\"max_epochs\"] = 200 #480--\n",
    "trainer, graph_metric_nn, model = init_embedding_net_and_trainer(model_factory_func, solver_params, problem_params, graph_metric_nn_checkpoint_path=last_checkpoint_model_path)\n",
    "\n",
    "# trainer.set_existing_data_loader_paths(\n",
    "#     ['./dataloaders/1702148493.0283618.p',\n",
    "#  './dataloaders/1702148497.9922142.p',\n",
    "#  './dataloaders/1702148502.9499629.p',\n",
    "#  './dataloaders/1702148511.1819935.p'],\n",
    "# []\n",
    "# )"
   ]
  },
  {
   "cell_type": "code",
   "execution_count": null,
   "metadata": {
    "scrolled": true
   },
   "outputs": [],
   "source": [
    "trainer.train(processes_device_ids=processes_device_ids, use_existing_data_loaders=False, train_samples_list=used_train_samples_list, val_samples_list=[])"
   ]
  },
  {
   "cell_type": "code",
   "execution_count": null,
   "metadata": {},
   "outputs": [],
   "source": [
    "# GED2 -> \"./mp/1703271648.8009052/best_model_state_dict.pt\", not seperable well\n",
    "# GED4 - > \"\"./mp/1703279923.1549501/best_model_state_dict.pt\", seperable well (not perfect but close)"
   ]
  },
  {
   "cell_type": "code",
   "execution_count": null,
   "metadata": {},
   "outputs": [],
   "source": [
    "trainer, graph_metric_nn, model = init_embedding_net_and_trainer(model_factory_func, solver_params, problem_params, graph_metric_nn_checkpoint_path=\"./mp/1703411975.73806/best_model_state_dict.pt\")\n",
    "_ = graph_metric_nn.eval()"
   ]
  },
  {
   "cell_type": "code",
   "execution_count": null,
   "metadata": {},
   "outputs": [],
   "source": [
    "train_positive_distances, train_negative_distances = get_examples_distances(trainer, graph_metric_nn, used_train_samples_list)"
   ]
  },
  {
   "cell_type": "code",
   "execution_count": null,
   "metadata": {},
   "outputs": [],
   "source": [
    "len(train_negative_distances) / len(train_positive_distances)"
   ]
  },
  {
   "cell_type": "code",
   "execution_count": null,
   "metadata": {},
   "outputs": [],
   "source": [
    "plot_histogram(train_positive_distances, \"train positive examples\", min_range=0, max_range=1)"
   ]
  },
  {
   "cell_type": "code",
   "execution_count": null,
   "metadata": {
    "scrolled": true
   },
   "outputs": [],
   "source": [
    "plot_histogram(train_negative_distances, \"train negative examples\", min_range=0, max_range=10)"
   ]
  },
  {
   "cell_type": "code",
   "execution_count": null,
   "metadata": {},
   "outputs": [],
   "source": [
    "calc_margin_loss(torch.tensor(train_positive_distances+train_negative_distances), torch.cat((torch.ones(len(train_positive_distances)), torch.zeros(len(train_negative_distances)))), margin = solver_params['margin_loss_margin_value'])"
   ]
  },
  {
   "cell_type": "markdown",
   "metadata": {},
   "source": [
    "Train again without rebuilding data loaders, and without the val_loader"
   ]
  },
  {
   "cell_type": "code",
   "execution_count": null,
   "metadata": {},
   "outputs": [],
   "source": [
    "# model_factory_func = lambda device: GraphCNN(num_layers=5, num_mlp_layers = 2, input_dim=input_dim, hidden_dim=64, output_dim=num_classes, final_dropout=0.5, learn_eps=False, graph_pooling_type=\"sum\", neighbor_pooling_type=\"sum\", device=device)\n",
    "# new_trainer, graph_metric_nn, model = init_embedding_net_and_trainer(model_factory_func, solver_params, problem_params)\n",
    "\n",
    "# new_trainer.previous_train_loader_paths = trainer.previous_train_loader_paths\n",
    "# new_trainer.previous_val_loader_paths = [None for device_id in processes_device_ids] #trainer.previous_val_loader_paths\n",
    "# new_trainer.train(processes_device_ids=processes_device_ids, use_existing_data_loaders=True)"
   ]
  },
  {
   "cell_type": "code",
   "execution_count": null,
   "metadata": {},
   "outputs": [],
   "source": [
    "_, _ = calc_performance_metrics(graph_metric_nn, used_train_samples_list, train_positive_distances, train_negative_distances, solver_params, device)"
   ]
  },
  {
   "cell_type": "markdown",
   "metadata": {},
   "source": [
    "Generalization error"
   ]
  },
  {
   "cell_type": "code",
   "execution_count": null,
   "metadata": {},
   "outputs": [],
   "source": [
    "eval_positive_distances, eval_negative_distances = get_examples_distances(trainer, graph_metric_nn, eval_ged_examples)"
   ]
  },
  {
   "cell_type": "code",
   "execution_count": null,
   "metadata": {},
   "outputs": [],
   "source": [
    "plot_histogram(eval_positive_distances, \"eval positive examples\", max_range=10)"
   ]
  },
  {
   "cell_type": "code",
   "execution_count": null,
   "metadata": {},
   "outputs": [],
   "source": [
    "plot_histogram(eval_negative_distances, \"eval negative examples\", max_range=10)"
   ]
  },
  {
   "cell_type": "code",
   "execution_count": null,
   "metadata": {},
   "outputs": [],
   "source": [
    "calc_margin_loss(torch.tensor(eval_positive_distances+eval_negative_distances), torch.cat((torch.ones(len(eval_positive_distances)), torch.zeros(len(eval_negative_distances)))), margin = solver_params['margin_loss_margin_value'])"
   ]
  },
  {
   "cell_type": "code",
   "execution_count": null,
   "metadata": {},
   "outputs": [],
   "source": [
    "_, _ = calc_performance_metrics(graph_metric_nn, eval_ged_examples, eval_positive_distances, eval_negative_distances, solver_params, device)"
   ]
  },
  {
   "cell_type": "markdown",
   "metadata": {
    "collapsed": false,
    "jupyter": {
     "outputs_hidden": false
    }
   },
   "source": [
    "Execution time profiling"
   ]
  },
  {
   "cell_type": "code",
   "execution_count": null,
   "metadata": {
    "collapsed": false,
    "jupyter": {
     "outputs_hidden": false
    },
    "pycharm": {
     "name": "#%%\n"
    }
   },
   "outputs": [],
   "source": [
    "# from cProfile import Profile\n",
    "# from pstats import SortKey, Stats\n",
    "\n",
    "# with Profile() as profile:\n",
    "#     new_trainer.train(processes_device_ids=processes_device_ids, use_existing_data_loaders=True)\n",
    "#     (\n",
    "#     Stats(profile)\n",
    "#         .strip_dirs()\n",
    "#         .sort_stats(SortKey.CUMULATIVE)\n",
    "#         .print_stats()\n",
    "#     )"
   ]
  },
  {
   "cell_type": "markdown",
   "metadata": {},
   "source": [
    "## save used_train_samples_list"
   ]
  },
  {
   "cell_type": "code",
   "execution_count": null,
   "metadata": {},
   "outputs": [],
   "source": [
    "ref_graphs_with_negative_eaxmples = set([annotated_graph.label for annotated_graph in NEGATIVE_EXAMPLES_k_subgraphs])\n",
    "ref_graphs_with_positive_eaxmples = set([annotated_graph.label for annotated_graph in POSITIVE_EXAMPLES_k_subgraphs])\n",
    "reg_graphs_with_negative_and_positive_examples = ref_graphs_with_negative_eaxmples.intersection(ref_graphs_with_positive_eaxmples)\n",
    "\n",
    "reference_graph_to_pairs_for_training_list_map = {}\n",
    "\n",
    "for pair in used_train_samples_list:\n",
    "    ref_graph = pair.subgraph\n",
    "    ref_graph_label = pair.subgraph.label\n",
    "\n",
    "    if ref_graph_label not in reg_graphs_with_negative_and_positive_examples:\n",
    "        continue\n",
    "    \n",
    "    paired_graph = pair.masked_graph\n",
    "\n",
    "    lst = []\n",
    "    if ref_graph_label in reference_graph_to_pairs_for_training_list_map:\n",
    "        lst = reference_graph_to_pairs_for_training_list_map[ref_graph_label]\n",
    "    lst.append(pair)\n",
    "    reference_graph_to_pairs_for_training_list_map[ref_graph_label] = lst"
   ]
  },
  {
   "cell_type": "code",
   "execution_count": null,
   "metadata": {},
   "outputs": [],
   "source": [
    "dump_base_path = f\".{os.sep}ged_train_subset\"\n",
    "if not os.path.exists(dump_base_path):\n",
    "    os.makedirs(dump_base_path)\n",
    "\n",
    "dump_path = os.path.join(dump_base_path, f\"{str(time.time())}.p\")\n",
    "with open(dump_path, 'wb') as f:\n",
    "    pickle.dump(reference_graph_to_pairs_for_training_list_map, f)"
   ]
  },
  {
   "cell_type": "code",
   "execution_count": null,
   "metadata": {},
   "outputs": [],
   "source": [
    "p_ctr = 0\n",
    "n_ctr = 0\n",
    "for k, v in reference_graph_to_pairs_for_training_list_map.items():\n",
    "    for example in v:\n",
    "        if example.is_negative_sample:\n",
    "            n_ctr += 1\n",
    "        else:\n",
    "            p_ctr += 1"
   ]
  },
  {
   "cell_type": "code",
   "execution_count": null,
   "metadata": {},
   "outputs": [],
   "source": [
    "p_ctr"
   ]
  },
  {
   "cell_type": "code",
   "execution_count": null,
   "metadata": {},
   "outputs": [],
   "source": [
    "n_ctr"
   ]
  },
  {
   "cell_type": "markdown",
   "metadata": {},
   "source": [
    "Capacity test"
   ]
  },
  {
   "cell_type": "code",
   "execution_count": null,
   "metadata": {},
   "outputs": [],
   "source": [
    "hidden_dim = 16\n",
    "num_layers = 5\n",
    "num_mlp_layers = 2\n",
    "model_factory_func = lambda device: GraphCNN(num_layers=num_layers, num_mlp_layers = num_mlp_layers, input_dim=input_dim, hidden_dim=hidden_dim, output_dim=1, final_dropout=0.5, learn_eps=False, graph_pooling_type=\"sum\", neighbor_pooling_type=\"sum\", device=device)\n",
    "solver_params[\"batch_size\"] = 512 * 8\n",
    "solver_params[\"k_update_plot\"] = 10\n",
    "solver_params[\"lr\"] = 1e-1\n",
    "solver_params[\"max_epochs\"] = 200\n",
    "current_trainer, graph_metric_nn, model = init_embedding_net_and_trainer(model_factory_func, solver_params, problem_params, graph_metric_nn_checkpoint_path=\"./mp/1705969912.0095499/best_model_state_dict.pt\")"
   ]
  },
  {
   "cell_type": "code",
   "execution_count": null,
   "metadata": {},
   "outputs": [],
   "source": [
    "trainer = None\n",
    "hid_dim_to_val_loss_map = {}\n",
    "for hid_dim in [16, 32, 64, 128, 256, 512, 1024, 2048]:\n",
    "    trainer, graph_metric_nn, best_val_loss = train_model_with_hyperparams(used_train_samples_list, solver_params, problem_params, processes_device_ids, hidden_dim=hid_dim, trainer=trainer)\n",
    "    hid_dim_to_val_loss_map[hid_dim] = best_val_loss\n",
    "    print(f\"{hid_dim}: {best_val_loss}\")"
   ]
  },
  {
   "cell_type": "code",
   "execution_count": null,
   "metadata": {},
   "outputs": [],
   "source": [
    "print(hid_dim_to_val_loss_map)\n",
    "plot_map(hid_dim_to_val_loss_map, \"hidden_dim\", \"val loss\", \"model performance vs model capacity\")"
   ]
  },
  {
   "cell_type": "markdown",
   "metadata": {},
   "source": [
    "Expressivity test"
   ]
  },
  {
   "cell_type": "code",
   "execution_count": null,
   "metadata": {},
   "outputs": [],
   "source": [
    "positive_GED_k_to_negative_GED_k_to_val_loss_map = {}\n",
    "pairs_n = 800\n",
    "positive_examples_k_subgraphs = random_k_subgraphs[:20]\n",
    "ged_positive_examples_cache_map = {}\n",
    "ged_negative_examples_cache_map = {}\n",
    "\n",
    "for positive_GED_k in [2, 3, 4, 5, 6, 7]:\n",
    "    negative_GED_k_to_val_loss_map = {}\n",
    "    positive_GED_k_to_negative_GED_k_to_val_loss_map[positive_GED_k] = negative_GED_k_to_val_loss_map\n",
    "\n",
    "    # prepare positive pairs dataset\n",
    "    with tqdm_joblib(tqdm(desc=\"My calculation\", total=len(positive_examples_k_subgraphs))) as progress_bar:\n",
    "        ged_positive_examples = Parallel(n_jobs=int(cpu_count()), prefer='processes')(\n",
    "            delayed(generate_random_ged_paris)(annotated_subgraph=annotated_subgraph, ged_dist=positive_GED_k, pairs_n=pairs_n, is_negative_example=False, force_exactly_pairs_n=False)\n",
    "            for annotated_subgraph in positive_examples_k_subgraphs\n",
    "        )\n",
    "    ged_positive_examples = [elem for lst in ged_positive_examples for elem in lst]\n",
    "    ged_positive_examples_cache_map[positive_GED_k] = ged_positive_examples\n",
    "    print(f\"#pos examples = {len(ged_positive_examples)}\")\n",
    "\n",
    "    for negative_GED_k in range(positive_GED_k + 1, 9):\n",
    "        print(f\"expressivity test for positive_GED_k={positive_GED_k} & negative_GED_k={negative_GED_k}\")\n",
    "\n",
    "        if negative_GED_k in ged_negative_examples_cache_map:\n",
    "            ged_negative_examples = ged_negative_examples_cache_map[negative_GED_k]\n",
    "        else:\n",
    "\n",
    "            # prepare negative pairs dataset\n",
    "            with tqdm_joblib(tqdm(desc=\"My calculation\", total=len(NEGATIVE_EXAMPLES_k_subgraphs))) as progress_bar:\n",
    "                ged_negative_examples = Parallel(n_jobs=int(cpu_count()), prefer='processes')(\n",
    "                    delayed(generate_random_ged_paris)(annotated_subgraph=annotated_subgraph, ged_dist=negative_GED_k, pairs_n=pairs_n, is_negative_example=True, force_exactly_pairs_n=False)\n",
    "                    for annotated_subgraph in NEGATIVE_EXAMPLES_k_subgraphs\n",
    "                )\n",
    "\n",
    "            ged_negative_examples = [elem for lst in ged_negative_examples for elem in lst]\n",
    "            ged_negative_examples_cache_map[negative_GED_k] = ged_negative_examples\n",
    "        print(f\"#neg examples = {len(ged_negative_examples)}\")\n",
    "\n",
    "        # combine examples to one dataset\n",
    "        ged_examples = ged_positive_examples + ged_negative_examples\n",
    "        random.shuffle(ged_examples)\n",
    "\n",
    "        train_ratio = 0.7\n",
    "        train_ged_examples_amount = int(len(ged_examples) * train_ratio)\n",
    "        train_ged_examples = ged_examples[:train_ged_examples_amount]\n",
    "        eval_ged_examples = ged_examples[train_ged_examples_amount:]\n",
    "\n",
    "        print(f\"#train set examples = {len(train_ged_examples)}\")\n",
    "\n",
    "        # train\n",
    "        trainer, graph_metric_nn, best_val_loss = train_model_with_hyperparams(train_ged_examples, solver_params, problem_params, processes_device_ids, hidden_dim=64, trainer=None)\n",
    "        negative_GED_k_to_val_loss_map[negative_GED_k] = best_val_loss\n",
    "        print(f\"negative K={negative_GED_k}: val_loss={best_val_loss}\")\n",
    "\n",
    "        # more performance metrics\n",
    "        _ = graph_metric_nn.eval()\n",
    "\n",
    "        train_positive_distances, train_negative_distances = get_examples_distances(trainer, graph_metric_nn, train_ged_examples)\n",
    "        _, _ = calc_performance_metrics(graph_metric_nn, train_ged_examples, train_positive_distances, train_negative_distances, solver_params, device)\n",
    "\n",
    "        eval_positive_distances, eval_negative_distances = get_examples_distances(trainer, graph_metric_nn, eval_ged_examples)\n",
    "        _, _ = calc_performance_metrics(graph_metric_nn, eval_ged_examples, eval_positive_distances, eval_negative_distances, solver_params, device)\n",
    "        calc_margin_loss(torch.tensor(eval_positive_distances+eval_negative_distances), torch.cat((torch.ones(len(eval_positive_distances)), torch.zeros(len(eval_negative_distances)))), margin = solver_params['margin_loss_margin_value'])\n",
    "\n",
    "        plot_histogram(train_positive_distances, \"train positive examples\", min_range=0, max_range=2)\n",
    "        plot_histogram(train_negative_distances, \"train negative examples\", min_range=0, max_range=2)\n",
    "        plot_histogram(eval_positive_distances, \"eval positive examples\", min_range=0, max_range=2)\n",
    "        plot_histogram(eval_negative_distances, \"eval negative examples\", min_range=0, max_range=2)"
   ]
  },
  {
   "cell_type": "code",
   "execution_count": null,
   "metadata": {
    "pycharm": {
     "name": "#%%\n"
    }
   },
   "outputs": [],
   "source": [
    "GED_experiments_map = {}\n",
    "for positive_GED_k, negative_GED_k_to_val_loss_map in positive_GED_k_to_negative_GED_k_to_val_loss_map.items():\n",
    "    for negative_GED_k, val_loss in negative_GED_k_to_val_loss_map.items():\n",
    "        GED_experiments_map[f\"{positive_GED_k}_{negative_GED_k}\"] = val_loss\n",
    "\n",
    "chart_bar_plot(GED_experiments_map, \"positive-GED-K_negative-GED-K\", \"validation loss\", \"model expressivity analysis\")"
   ]
  },
  {
   "cell_type": "markdown",
   "metadata": {
    "collapsed": false,
    "jupyter": {
     "outputs_hidden": false
    },
    "pycharm": {
     "name": "#%% md\n"
    }
   },
   "source": [
    "test of 2D features space to illustrate the GED - apply MDS to separate the pairs (show the separation of the two areas) show we get a smooth wrap function using a higher dimensional embedding"
   ]
  },
  {
   "cell_type": "code",
   "execution_count": null,
   "metadata": {
    "collapsed": false,
    "jupyter": {
     "outputs_hidden": false
    },
    "pycharm": {
     "name": "#%%\n"
    }
   },
   "outputs": [],
   "source": [
    "# choose reference graph s.\n",
    "reference_graph_for_GED_visualization = random_k_subgraphs[0]\n",
    "\n",
    "# generate 50 s+GED-1 graphs for positive examples (remember label)\n",
    "# generate 50 s+GED-4 graphs for negative examples (remember label)\n",
    "negative_ged_pairs, positive_ged_pairs = create_ged_visulaization_graphs(reference_graph_for_GED_visualization, label_class_examples_amount=500, positive_GED=3, negative_GED=6)"
   ]
  },
  {
   "cell_type": "code",
   "execution_count": null,
   "metadata": {},
   "outputs": [],
   "source": [
    "# load trained pairs, and visualize some reference graphs and their pairs\n",
    "trained_pairs_path = f\".{os.sep}ged_train_subset{os.sep}1705968201.9176743.p\"\n",
    "trained_pairs_map = pickle.load(open(trained_pairs_path, 'rb'))"
   ]
  },
  {
   "cell_type": "code",
   "execution_count": null,
   "metadata": {},
   "outputs": [],
   "source": [
    "ctr = 0\n",
    "for ref_graph_label, ref_graph_pairs in trained_pairs_map.items():\n",
    "    if len(ref_graph_pairs) > 35:\n",
    "        neg_pairs_ctr = 0\n",
    "        for pair in ref_graph_pairs:\n",
    "            if pair.is_negative_sample:\n",
    "                neg_pairs_ctr += 1\n",
    "        print(f\"reference graph label: {ref_graph_label}, negative pairs amount = {neg_pairs_ctr}\")\n",
    "        ctr += 1\n",
    "\n",
    "print(ctr)"
   ]
  },
  {
   "cell_type": "code",
   "execution_count": null,
   "metadata": {},
   "outputs": [],
   "source": [
    "def visualize_embeddings_for_trained_model(ref_graph, positive_pairs, negative_pairs, solver_params, problem_params, input_dim, num_classes):\n",
    "    for hidden_dim in [16, 32, 64, 128, 256, 512, 1024, 2048]:\n",
    "        print(hidden_dim)\n",
    "        model_dump_path = get_model_dump_path(hidden_dim)\n",
    "\n",
    "        model_factory_func = lambda device: GraphCNN(num_layers=5, num_mlp_layers = 2, input_dim=input_dim, hidden_dim=hidden_dim, output_dim=num_classes, final_dropout=0.5, learn_eps=False, graph_pooling_type=\"sum\", neighbor_pooling_type=\"sum\", device=device)\n",
    "\n",
    "        _, graph_metric_nn, _ = init_embedding_net_and_trainer(model_factory_func, solver_params, problem_params, graph_metric_nn_checkpoint_path=model_dump_path)\n",
    "\n",
    "        # calc embeddings of all pairs, apply MDS and plot\n",
    "        visualize_embeddings(graph_metric_nn, ref_graph, positive_pairs, negative_pairs, device=device)"
   ]
  },
  {
   "cell_type": "code",
   "execution_count": null,
   "metadata": {},
   "outputs": [],
   "source": [
    "selected_train_reference_graph_pairs = trained_pairs_map[1799]\n",
    "selected_train_reference_graph = selected_train_reference_graph_pairs[0].subgraph\n",
    "selected_train_reference_graph_positive_pairs = [pair for pair in selected_train_reference_graph_pairs if pair.is_negative_sample == False]\n",
    "selected_train_reference_graph_negative_pairs = [pair for pair in selected_train_reference_graph_pairs if pair.is_negative_sample == True]\n",
    "\n",
    "visualize_embeddings_for_trained_model(selected_train_reference_graph, selected_train_reference_graph_positive_pairs, selected_train_reference_graph_negative_pairs, solver_params, problem_params, input_dim=1, num_classes=1, device=device)"
   ]
  },
  {
   "cell_type": "code",
   "execution_count": null,
   "metadata": {},
   "outputs": [],
   "source": [
    "visualize_embeddings_for_trained_model(reference_graph_for_GED_visualization, positive_ged_pairs, negative_ged_pairs, solver_params, problem_params, input_dim=1, num_classes=1, device=device)"
   ]
  },
  {
   "cell_type": "code",
   "execution_count": null,
   "metadata": {},
   "outputs": [],
   "source": [
    "gt_labels = [0] + [0 for pair in positive_ged_pairs] + [1 for pair in negative_ged_pairs]\n",
    "hid_dim_to_clustering_score_maps_map = {}\n",
    "\n",
    "for hidden_dim in [16, 32, 64, 128, 256, 512, 1024, 2048]:\n",
    "    model_dump_path = get_model_dump_path(hidden_dim)\n",
    "    model_factory_func = lambda device: GraphCNN(num_layers=5, num_mlp_layers = 2, input_dim=1, hidden_dim=hidden_dim, output_dim=1, final_dropout=0.5, learn_eps=False, graph_pooling_type=\"sum\", neighbor_pooling_type=\"sum\", device=device)\n",
    "\n",
    "    _, graph_metric_nn, _ = init_embedding_net_and_trainer(model_factory_func, model_dump_path)\n",
    "\n",
    "    # calc embeddings of all pairs\n",
    "    all_embeddings = get_embeddings(graph_metric_nn, reference_graph_for_GED_visualization, positive_ged_pairs, negative_ged_pairs)\\\n",
    "    .detach().cpu().numpy()\n",
    "\n",
    "    # cluster and measure clustering quality\n",
    "    hid_dim_to_clustering_score_maps_map[hidden_dim] = measure_clustering(all_embeddings, gt_labels)"
   ]
  },
  {
   "cell_type": "code",
   "execution_count": null,
   "metadata": {},
   "outputs": [],
   "source": [
    "hid_dim_to_clustering_score_maps_map"
   ]
  },
  {
   "cell_type": "code",
   "execution_count": null,
   "metadata": {},
   "outputs": [],
   "source": [
    "show_score_plot(hid_dim_to_clustering_score_maps_map, 'sil', 'silhouette')"
   ]
  },
  {
   "cell_type": "code",
   "execution_count": null,
   "metadata": {},
   "outputs": [],
   "source": [
    "show_score_plot(hid_dim_to_clustering_score_maps_map, 'dav', 'davies-bouldin')"
   ]
  },
  {
   "cell_type": "code",
   "execution_count": null,
   "metadata": {},
   "outputs": [],
   "source": [
    "show_score_plot(hid_dim_to_clustering_score_maps_map, 'nmi', 'nmi')"
   ]
  },
  {
   "cell_type": "code",
   "execution_count": null,
   "metadata": {},
   "outputs": [],
   "source": [
    "# metric vs GED 3D plot\n",
    "# \tfor the X and Y, use radius-s of GED, e.g. for radius =1, all GED-1 examples (against a fixed reference graph)\n",
    "\n",
    "# interactive mode may cause issues, see: https://stackoverflow.com/questions/51922480/javascript-error-ipython-is-not-defined-in-jupyterlab\n",
    "\n",
    "%matplotlib notebook"
   ]
  },
  {
   "cell_type": "code",
   "execution_count": null,
   "metadata": {},
   "outputs": [],
   "source": [
    "#TODO:\n",
    "# \twhat about the sampled graphs in the space, are they random? or they are sampled real subgraphs from the full graph?\n",
    "# \t\tallow both configurations:\n",
    "# \t\t\tall GED\n",
    "# \t\t\tjust existing sampled subgraphs GED (we can color them among all GED actually)"
   ]
  },
  {
   "cell_type": "code",
   "execution_count": null,
   "metadata": {},
   "outputs": [],
   "source": [
    "visualize_reference_graph_model_loss_space(solver_params, problem_params, 1024, random_k_subgraphs[10], GED_dists = [1, 4], max_samples_per_radius = 50)"
   ]
  },
  {
   "cell_type": "code",
   "execution_count": null,
   "metadata": {},
   "outputs": [],
   "source": [
    "multiple_ged_radiuses_graphs_map = visualize_reference_graph_model_loss_space(solver_params, problem_params, 1024, random_k_subgraphs[15], GED_dists = [1, 4, 9], max_samples_per_radius = 500)"
   ]
  },
  {
   "cell_type": "code",
   "execution_count": null,
   "metadata": {},
   "outputs": [],
   "source": [
    "multiple_ged_radiuses_graphs_map = visualize_reference_graph_model_loss_space(solver_params, problem_params, 1024, random_k_subgraphs[15], GED_dists = [1, 4, 9], max_samples_per_radius = 500)"
   ]
  },
  {
   "cell_type": "code",
   "execution_count": null,
   "metadata": {},
   "outputs": [],
   "source": [
    "visualize_reference_graph_model_loss_space(solver_params, problem_params, 1024, reference_graph_for_GED_visualization, GED_dists = [3, 6], max_samples_per_radius = 50)"
   ]
  },
  {
   "cell_type": "code",
   "execution_count": null,
   "metadata": {},
   "outputs": [],
   "source": [
    "train_ged_dist_to_pairs_map = {1: selected_train_reference_graph_positive_pairs, 4: selected_train_reference_graph_negative_pairs}\n",
    "visualize_reference_graph_model_loss_space(solver_params, problem_params, 1024, selected_train_reference_graph, GED_dists = train_ged_dist_to_pairs_map, max_samples_per_radius = 50)"
   ]
  },
  {
   "cell_type": "code",
   "execution_count": null,
   "metadata": {},
   "outputs": [],
   "source": [
    "train_positive_distances, train_negative_distances = calc_margin_loss_for_pairs(trainer, graph_metric_nn, solver_params, selected_train_reference_graph_positive_pairs + selected_train_reference_graph_negative_pairs)"
   ]
  },
  {
   "cell_type": "code",
   "execution_count": null,
   "metadata": {},
   "outputs": [],
   "source": [
    "max(train_positive_distances)"
   ]
  },
  {
   "cell_type": "code",
   "execution_count": null,
   "metadata": {},
   "outputs": [],
   "source": [
    "min(train_negative_distances)"
   ]
  },
  {
   "cell_type": "code",
   "execution_count": null,
   "metadata": {},
   "outputs": [],
   "source": [
    "trainer, graph_metric_nn = create_metric_and_trainer(hidden_dim=1024, solver_params=solver_params, problem_params=problem_params)\n",
    "_ = graph_metric_nn.eval()\n",
    "epoch_val_loss = 0\n",
    "val_samples_list = positive_ged_pairs + negative_ged_pairs\n",
    "stub_train_samples_list = val_samples_list[:1]\n",
    "train_loaders, val_loaders = trainer.get_data_loaders(stub_train_samples_list, val_samples_list, 0, ['cpu'])\n",
    "val_loader = val_loaders[0]\n",
    "\n",
    "for val_batch in val_loader:\n",
    "    val_loss = trainer.calculate_loss_for_batch(val_batch, is_train=False)\n",
    "    epoch_val_loss += val_loss.item()"
   ]
  },
  {
   "cell_type": "code",
   "execution_count": null,
   "metadata": {},
   "outputs": [],
   "source": [
    "epoch_val_loss"
   ]
  },
  {
   "cell_type": "code",
   "execution_count": null,
   "metadata": {},
   "outputs": [],
   "source": [
    "# all_train_reference_graph_pairs = [pair for _, train_reference_graph_pairs in trained_pairs_map.items() for pair in train_reference_graph_pairs]\n",
    "train_positive_distances, train_negative_distances = get_examples_distances(trainer, graph_metric_nn, ged_examples1 + ged_examples2)\n",
    "\n",
    "calc_margin_loss(torch.tensor(train_positive_distances+train_negative_distances), torch.cat((torch.ones(len(train_positive_distances)), torch.zeros(len(train_negative_distances)))), margin = solver_params['margin_loss_margin_value'])"
   ]
  },
  {
   "cell_type": "code",
   "execution_count": null,
   "metadata": {},
   "outputs": [],
   "source": [
    "plot_histogram(train_positive_distances, \"positive pair distances\", min_range=0, max_range=1)\n",
    "plot_histogram(train_negative_distances, \"negative pair distances\", min_range=0, max_range=7)"
   ]
  },
  {
   "cell_type": "code",
   "execution_count": null,
   "metadata": {},
   "outputs": [],
   "source": [
    "plot_histogram_for_ged_pairs(trainer, graph_metric_nn, 1, multiple_ged_radiuses_graphs_map[1])"
   ]
  },
  {
   "cell_type": "code",
   "execution_count": null,
   "metadata": {},
   "outputs": [],
   "source": [
    "plot_histogram_for_ged_pairs(trainer, graph_metric_nn, 4, multiple_ged_radiuses_graphs_map[4], max_range=0.2)"
   ]
  },
  {
   "cell_type": "code",
   "execution_count": null,
   "metadata": {},
   "outputs": [],
   "source": [
    "plot_histogram_for_ged_pairs(trainer, graph_metric_nn, 4, multiple_ged_radiuses_graphs_map[4], max_range=1)"
   ]
  },
  {
   "cell_type": "code",
   "execution_count": null,
   "metadata": {},
   "outputs": [],
   "source": [
    "plot_histogram_for_ged_pairs(trainer, graph_metric_nn, 4, multiple_ged_radiuses_graphs_map[4])"
   ]
  },
  {
   "cell_type": "code",
   "execution_count": null,
   "metadata": {},
   "outputs": [],
   "source": [
    "plot_histogram_for_ged_pairs(trainer, graph_metric_nn, 9, multiple_ged_radiuses_graphs_map[9])"
   ]
  },
  {
   "cell_type": "code",
   "execution_count": null,
   "metadata": {},
   "outputs": [],
   "source": [
    "plot_histogram_for_ged_pairs(trainer, graph_metric_nn, 9, multiple_ged_radiuses_graphs_map[9], max_range=3)"
   ]
  },
  {
   "cell_type": "code",
   "execution_count": null,
   "metadata": {},
   "outputs": [],
   "source": [
    "# plt.close('all')"
   ]
  },
  {
   "cell_type": "markdown",
   "metadata": {},
   "source": [
    "# Brute force training"
   ]
  },
  {
   "cell_type": "code",
   "execution_count": 15,
   "metadata": {},
   "outputs": [
    {
     "name": "stdout",
     "output_type": "stream",
     "text": [
      "enter generate_pairs_data_set\n",
      "full graph has 16 nodes, subgraph has 8 nodes, removing 4 non subgraph nodes from full graph\n",
      "starting generating subgraphs\n",
      "start generate_k_subgraphs\n",
      "enter generate_k_subgraphs\n",
      "total time for finished all_connected_subgraphs (total of 420 graphs):0s\n",
      "total time for finished generating subgraphs:2s\n",
      "total time for end generate_k_subgraphs:2s\n",
      "enter generate_pairs_data_set_based_on_graphs\n"
     ]
    },
    {
     "name": "stderr",
     "output_type": "stream",
     "text": [
      "Pairs dataset construction: 100%|██████████| 8/8 [01:54<00:00, 14.29s/it]"
     ]
    },
    {
     "name": "stdout",
     "output_type": "stream",
     "text": [
      "total time for finished generate_pairs_data_set_based_on_graphs:114s\n",
      "total time for finished generate_pairs_data_set:117s\n"
     ]
    },
    {
     "name": "stderr",
     "output_type": "stream",
     "text": [
      "\n"
     ]
    }
   ],
   "source": [
    "brute_force_k_subgraph_annotated_graphs, brute_force_k_subgraphs, G_perturbed, G_sub = generate_pairs_data_set(circuit_base_dir=circuit_base_dir, circuit_file_name = 'comp1_2')"
   ]
  },
  {
   "cell_type": "code",
   "execution_count": 16,
   "metadata": {},
   "outputs": [
    {
     "name": "stdout",
     "output_type": "stream",
     "text": [
      "20829\n",
      "18020\n",
      "15211\n",
      "12402\n",
      "9593\n",
      "6784\n",
      "3975\n",
      "1176\n"
     ]
    }
   ],
   "source": [
    "def load_dump_file_pairs_dataset(path, n_partitions=8): #88\n",
    "    samples_list = []\n",
    "    for chunk_index in range(0, n_partitions):\n",
    "        with open(f'{path}{os.sep}{chunk_index}.p', 'rb') as file:\n",
    "            tmp_samples_list = pickle.load(file)\n",
    "        print(len(tmp_samples_list))\n",
    "        samples_list += tmp_samples_list\n",
    "    return samples_list\n",
    "\n",
    "brute_force_train_samples_list = load_dump_file_pairs_dataset(\"brute_force_pairs\", n_partitions=8) #n_partitions=88"
   ]
  },
  {
   "cell_type": "code",
   "execution_count": 17,
   "outputs": [
    {
     "data": {
      "text/plain": "420"
     },
     "execution_count": 17,
     "metadata": {},
     "output_type": "execute_result"
    }
   ],
   "source": [
    "len(brute_force_k_subgraph_annotated_graphs)"
   ],
   "metadata": {
    "collapsed": false,
    "pycharm": {
     "name": "#%%\n"
    }
   }
  },
  {
   "cell_type": "code",
   "execution_count": 18,
   "metadata": {},
   "outputs": [],
   "source": [
    "used_train_samples_list = brute_force_train_samples_list"
   ]
  },
  {
   "cell_type": "code",
   "execution_count": 19,
   "metadata": {},
   "outputs": [
    {
     "data": {
      "text/plain": "87990"
     },
     "execution_count": 19,
     "metadata": {},
     "output_type": "execute_result"
    }
   ],
   "source": [
    "len(used_train_samples_list)"
   ]
  },
  {
   "cell_type": "code",
   "execution_count": 20,
   "outputs": [],
   "source": [
    "positive_examples = [pair for pair in used_train_samples_list if pair.is_negative_sample==False]\n",
    "positive_examples_graphs_labels = set([pair.subgraph.label for pair in positive_examples] + [pair.masked_graph.label for pair in positive_examples])\n",
    "positive_examples_graphs = [g for g in brute_force_k_subgraph_annotated_graphs if g.label in positive_examples_graphs_labels ]"
   ],
   "metadata": {
    "collapsed": false,
    "pycharm": {
     "name": "#%%\n"
    }
   }
  },
  {
   "cell_type": "code",
   "execution_count": 21,
   "outputs": [],
   "source": [
    "# why 372 choose 2 does not produce 2916? (if g1 is isomorphic to g2, and g2 to g3, then g1 should be to g3)\n",
    "# -> since each g1 has its own set of isomorphic graphs\n",
    "total_isomorphic_pairs_amount = 0\n",
    "for i, candidate_isomorphic_graph in enumerate(positive_examples_graphs):\n",
    "    candidate_g = candidate_isomorphic_graph.g.copy()\n",
    "    remove_isolated_nodes_from_graph(candidate_g)\n",
    "    for j in range(i+1, len(positive_examples_graphs)):\n",
    "        candidate_g2 = positive_examples_graphs[j].g.copy()\n",
    "        remove_isolated_nodes_from_graph(candidate_g2)\n",
    "        if nx.is_isomorphic(candidate_g2, candidate_g):\n",
    "            total_isomorphic_pairs_amount += 1"
   ],
   "metadata": {
    "collapsed": false,
    "pycharm": {
     "name": "#%%\n"
    }
   }
  },
  {
   "cell_type": "code",
   "execution_count": 22,
   "outputs": [
    {
     "data": {
      "text/plain": "2916"
     },
     "execution_count": 22,
     "metadata": {},
     "output_type": "execute_result"
    }
   ],
   "source": [
    "total_isomorphic_pairs_amount"
   ],
   "metadata": {
    "collapsed": false,
    "pycharm": {
     "name": "#%%\n"
    }
   }
  },
  {
   "cell_type": "code",
   "execution_count": 23,
   "outputs": [],
   "source": [
    "# histogram of isomorphic pairs per k_subgraph\n",
    "\n",
    "k_subgraph_label_to_total_isomorphic_pairs_amount_map = {}\n",
    "k_subgraph_label_to_isomorphic_pairs_labels_map = {}\n",
    "\n",
    "for target_label, k_subgraph in enumerate(brute_force_k_subgraph_annotated_graphs):\n",
    "    if target_label in k_subgraph_label_to_total_isomorphic_pairs_amount_map:\n",
    "        # already counted by the isomorphic graph label\n",
    "        continue\n",
    "\n",
    "    isomorphic_pairs_amount = 0\n",
    "    target_k_subgraph = k_subgraph.g.copy()\n",
    "    remove_isolated_nodes_from_graph(target_k_subgraph)\n",
    "\n",
    "    isomorphic_graph_labels = []\n",
    "\n",
    "    for candidate_label, candidate_isomorphic_graph in enumerate(brute_force_k_subgraph_annotated_graphs):\n",
    "        if target_label == candidate_label:\n",
    "            continue\n",
    "\n",
    "        candidate_g = candidate_isomorphic_graph.g.copy()\n",
    "        remove_isolated_nodes_from_graph(candidate_g)\n",
    "        if nx.is_isomorphic(target_k_subgraph, candidate_g):\n",
    "            isomorphic_pairs_amount += 1\n",
    "            isomorphic_graph_labels.append(candidate_label)\n",
    "\n",
    "            # mark candidate in order to skip its future loop processing\n",
    "            k_subgraph_label_to_total_isomorphic_pairs_amount_map[candidate_label] = None\n",
    "\n",
    "    k_subgraph_label_to_total_isomorphic_pairs_amount_map[target_label] = isomorphic_pairs_amount\n",
    "    k_subgraph_label_to_isomorphic_pairs_labels_map[target_label] = isomorphic_graph_labels"
   ],
   "metadata": {
    "collapsed": false,
    "pycharm": {
     "name": "#%%\n"
    }
   }
  },
  {
   "cell_type": "code",
   "execution_count": 24,
   "outputs": [],
   "source": [
    "k_subgraph_label_to_total_isomorphic_pairs_amount_map_for_plot = {k:v for k, v in k_subgraph_label_to_total_isomorphic_pairs_amount_map.items() if v is not None}"
   ],
   "metadata": {
    "collapsed": false,
    "pycharm": {
     "name": "#%%\n"
    }
   }
  },
  {
   "cell_type": "code",
   "execution_count": 25,
   "outputs": [
    {
     "data": {
      "text/plain": "{0: 1,\n 1: 20,\n 7: 11,\n 8: 5,\n 9: 8,\n 13: 7,\n 16: 11,\n 18: 17,\n 29: 11,\n 30: 5,\n 32: 5,\n 35: 23,\n 36: 11,\n 37: 14,\n 47: 35,\n 48: 19,\n 49: 10,\n 65: 10,\n 96: 1,\n 97: 0,\n 120: 1,\n 126: 8,\n 128: 8,\n 137: 11,\n 138: 2,\n 142: 5,\n 144: 5,\n 147: 23,\n 148: 5,\n 154: 5,\n 155: 0,\n 156: 2,\n 158: 4,\n 159: 19,\n 164: 9,\n 189: 0,\n 218: 2,\n 223: 8,\n 224: 2,\n 247: 3,\n 248: 0,\n 319: 5,\n 332: 2,\n 342: 5,\n 348: 5,\n 370: 0,\n 398: 0,\n 404: 9}"
     },
     "execution_count": 25,
     "metadata": {},
     "output_type": "execute_result"
    }
   ],
   "source": [
    "k_subgraph_label_to_total_isomorphic_pairs_amount_map_for_plot"
   ],
   "metadata": {
    "collapsed": false,
    "pycharm": {
     "name": "#%%\n"
    }
   }
  },
  {
   "cell_type": "code",
   "execution_count": 26,
   "outputs": [
    {
     "data": {
      "text/plain": "<Figure size 1080x360 with 1 Axes>",
      "image/png": "[encoded data removed]"
     },
     "metadata": {
      "needs_background": "light"
     },
     "output_type": "display_data"
    }
   ],
   "source": [
    "plot_map(k_subgraph_label_to_total_isomorphic_pairs_amount_map_for_plot, 'label', 'count', 'isomorphic graphs count per k_subgraph')\n",
    "# 6 k_subgraphs with no isomophic examples"
   ],
   "metadata": {
    "collapsed": false,
    "pycharm": {
     "name": "#%%\n"
    }
   }
  },
  {
   "cell_type": "code",
   "execution_count": 27,
   "outputs": [],
   "source": [
    "def get_map_keys_with_value_of(map, target_val):\n",
    "    for key, val in map.items():\n",
    "        if val == target_val:\n",
    "            print(key)"
   ],
   "metadata": {
    "collapsed": false,
    "pycharm": {
     "name": "#%%\n"
    }
   }
  },
  {
   "cell_type": "code",
   "execution_count": 28,
   "outputs": [
    {
     "name": "stdout",
     "output_type": "stream",
     "text": [
      "97\n",
      "155\n",
      "189\n",
      "248\n",
      "370\n",
      "398\n"
     ]
    }
   ],
   "source": [
    "get_map_keys_with_value_of(k_subgraph_label_to_total_isomorphic_pairs_amount_map, 0)"
   ],
   "metadata": {
    "collapsed": false,
    "pycharm": {
     "name": "#%%\n"
    }
   }
  },
  {
   "cell_type": "code",
   "execution_count": 29,
   "outputs": [
    {
     "data": {
      "text/plain": "NodeView((0, 1, 2, 3, 4, 5, 6, 7))"
     },
     "execution_count": 29,
     "metadata": {},
     "output_type": "execute_result"
    }
   ],
   "source": [
    "target_k_subgraph_label = 97\n",
    "target_graph = positive_examples_graphs[target_k_subgraph_label].g.copy() #G_sub.copy()\n",
    "remove_isolated_nodes_from_graph(target_graph)\n",
    "target_graph.nodes"
   ],
   "metadata": {
    "collapsed": false,
    "pycharm": {
     "name": "#%%\n"
    }
   }
  },
  {
   "cell_type": "code",
   "execution_count": 30,
   "metadata": {},
   "outputs": [],
   "source": [
    "hidden_dim = 16\n",
    "num_layers = 5\n",
    "num_mlp_layers = 2\n",
    "model_factory_func = lambda device: GraphCNN(num_layers=num_layers, num_mlp_layers = num_mlp_layers, input_dim=input_dim, hidden_dim=hidden_dim, output_dim=1, final_dropout=0.5, learn_eps=False, graph_pooling_type=\"sum\", neighbor_pooling_type=\"sum\", device=device)\n",
    "solver_params[\"batch_size\"] = 512 * 8\n",
    "solver_params[\"k_update_plot\"] = 1\n",
    "solver_params[\"lr\"] = 1e-1\n",
    "solver_params[\"max_epochs\"] = 200"
   ]
  },
  {
   "cell_type": "code",
   "execution_count": 31,
   "outputs": [],
   "source": [
    "current_trainer, graph_metric_nn, model = init_embedding_net_and_trainer(model_factory_func, solver_params, problem_params, graph_metric_nn_checkpoint_path=None)"
   ],
   "metadata": {
    "collapsed": false,
    "pycharm": {
     "name": "#%%\n"
    }
   }
  },
  {
   "cell_type": "code",
   "execution_count": null,
   "metadata": {},
   "outputs": [],
   "source": [
    "current_trainer.train(processes_device_ids=processes_device_ids, use_existing_data_loaders=False, train_samples_list=used_train_samples_list, val_samples_list=[])"
   ]
  },
  {
   "cell_type": "code",
   "execution_count": 32,
   "outputs": [],
   "source": [
    "trainer, graph_metric_nn, model = init_embedding_net_and_trainer(model_factory_func, solver_params, problem_params, graph_metric_nn_checkpoint_path=\".\\\\mp\\\\1707569240.828771\\\\best_model_state_dict.pt\")"
   ],
   "metadata": {
    "collapsed": false,
    "pycharm": {
     "name": "#%%\n"
    }
   }
  },
  {
   "cell_type": "code",
   "execution_count": 33,
   "outputs": [],
   "source": [
    "# +take one of the inference sampling algorithms we have (greedy)\n",
    "# \tapply metric on all k-subgraphs, and show the min is achieved on the target graph\n",
    "# \t\tif not, use also the harmonic mean distance for tie breaking"
   ],
   "metadata": {
    "collapsed": false,
    "pycharm": {
     "name": "#%%\n"
    }
   }
  },
  {
   "cell_type": "code",
   "execution_count": 34,
   "outputs": [],
   "source": [
    "# extract pairs for target_graph.label masked_graph\n",
    "target_graph_pairs = [pair for pair in brute_force_train_samples_list if target_k_subgraph_label in [pair.masked_graph.label, pair.subgraph.label]]"
   ],
   "metadata": {
    "collapsed": false,
    "pycharm": {
     "name": "#%%\n"
    }
   }
  },
  {
   "cell_type": "code",
   "execution_count": 35,
   "outputs": [
    {
     "data": {
      "text/plain": "419"
     },
     "execution_count": 35,
     "metadata": {},
     "output_type": "execute_result"
    }
   ],
   "source": [
    "len(target_graph_pairs)"
   ],
   "metadata": {
    "collapsed": false,
    "pycharm": {
     "name": "#%%\n"
    }
   }
  },
  {
   "cell_type": "code",
   "execution_count": 36,
   "outputs": [],
   "source": [
    "graph_metric_nn.eval()\n",
    "train_positive_distances, train_negative_distances, self_pair = get_pairs_distances_for_target_graph(trainer, graph_metric_nn, target_k_subgraph_label = target_k_subgraph_label, all_pairs=brute_force_train_samples_list, all_graphs=brute_force_k_subgraph_annotated_graphs)"
   ],
   "metadata": {
    "collapsed": false,
    "pycharm": {
     "name": "#%%\n"
    }
   }
  },
  {
   "cell_type": "code",
   "execution_count": 37,
   "outputs": [],
   "source": [
    "# plot_histogram_for_ged_pairs(trainer, graph_metric_nn, None, target_graph_pairs, max_range=None)"
   ],
   "metadata": {
    "collapsed": false,
    "pycharm": {
     "name": "#%%\n"
    }
   }
  },
  {
   "cell_type": "code",
   "execution_count": 38,
   "outputs": [],
   "source": [
    "self_pair_distance = get_examples_distances(trainer, graph_metric_nn, [self_pair])[0][0]"
   ],
   "metadata": {
    "collapsed": false,
    "pycharm": {
     "name": "#%%\n"
    }
   }
  },
  {
   "cell_type": "code",
   "execution_count": 39,
   "outputs": [
    {
     "data": {
      "text/plain": "0.0"
     },
     "execution_count": 39,
     "metadata": {},
     "output_type": "execute_result"
    }
   ],
   "source": [
    "self_pair_distance"
   ],
   "metadata": {
    "collapsed": false,
    "pycharm": {
     "name": "#%%\n"
    }
   }
  },
  {
   "cell_type": "code",
   "execution_count": 40,
   "outputs": [
    {
     "data": {
      "text/plain": "[0.0]"
     },
     "execution_count": 40,
     "metadata": {},
     "output_type": "execute_result"
    }
   ],
   "source": [
    "train_positive_distances"
   ],
   "metadata": {
    "collapsed": false,
    "pycharm": {
     "name": "#%%\n"
    }
   }
  },
  {
   "cell_type": "code",
   "execution_count": 41,
   "outputs": [
    {
     "data": {
      "text/plain": "[10.703161239624023,\n 10.703161239624023,\n 10.703166007995605,\n 10.703170776367188,\n 10.703170776367188,\n 10.703170776367188,\n 10.703170776367188,\n 10.703170776367188,\n 10.703170776367188,\n 16.148950576782227,\n 17.471580505371094,\n 17.471580505371094,\n 17.471580505371094,\n 17.471580505371094,\n 17.471580505371094,\n 17.47158432006836,\n 30.01300048828125,\n 30.01300048828125,\n 30.01300048828125,\n 30.01300048828125,\n 30.01300048828125,\n 30.01300048828125,\n 30.01300048828125,\n 30.01300048828125,\n 30.01300048828125,\n 30.01300048828125,\n 30.01300048828125,\n 30.260583877563477,\n 30.260587692260742,\n 30.260587692260742,\n 30.260587692260742,\n 30.260587692260742,\n 30.260587692260742,\n 30.260591506958008,\n 30.260591506958008,\n 30.26059341430664,\n 30.26059341430664,\n 30.26059341430664,\n 30.26059341430664,\n 40.23685073852539,\n 46.62874984741211,\n 46.628753662109375,\n 46.628753662109375,\n 46.628753662109375,\n 46.628753662109375,\n 46.628753662109375,\n 46.628753662109375,\n 46.628753662109375,\n 46.628753662109375,\n 46.628753662109375,\n 46.628753662109375,\n 48.565879821777344,\n 48.565887451171875,\n 48.565887451171875,\n 48.565887451171875,\n 48.565887451171875,\n 48.565887451171875,\n 68.42951965332031,\n 68.42951965332031,\n 68.42951965332031,\n 68.42951965332031,\n 68.42951965332031,\n 68.42951965332031,\n 68.42951965332031,\n 68.42951965332031,\n 68.42951965332031,\n 68.42951965332031,\n 68.42951965332031,\n 68.42951965332031,\n 68.42951965332031,\n 68.42951965332031,\n 68.42951965332031,\n 68.42951965332031,\n 68.4295425415039,\n 68.4295425415039,\n 68.4295425415039,\n 68.4295425415039,\n 68.4295425415039,\n 68.4295425415039,\n 68.4295425415039,\n 68.4295425415039,\n 69.69479370117188,\n 69.69479370117188,\n 74.61589813232422,\n 74.61589813232422,\n 74.61589813232422,\n 74.61589813232422,\n 74.61589813232422,\n 74.61589813232422,\n 74.61590576171875,\n 74.61590576171875,\n 74.61590576171875,\n 74.61590576171875,\n 74.61590576171875,\n 74.61590576171875,\n 77.0698471069336,\n 77.0698471069336,\n 77.0698471069336,\n 77.0698471069336,\n 77.0698471069336,\n 77.0698471069336,\n 77.0698471069336,\n 77.0698471069336,\n 77.0698471069336,\n 77.0698471069336,\n 77.0698471069336,\n 77.0698471069336,\n 77.0698471069336,\n 77.0698471069336,\n 77.0698471069336,\n 77.0698471069336,\n 77.0698471069336,\n 77.0698471069336,\n 77.0698471069336,\n 77.0698471069336,\n 77.14125061035156,\n 77.14125061035156,\n 77.45306396484375,\n 77.45306396484375,\n 77.45306396484375,\n 77.45306396484375,\n 77.45306396484375,\n 77.45306396484375,\n 77.45307159423828,\n 77.45307159423828,\n 77.45307159423828,\n 77.45307159423828,\n 77.45308685302734,\n 77.45308685302734,\n 77.45308685302734,\n 77.45308685302734,\n 77.45308685302734,\n 77.45308685302734,\n 77.45308685302734,\n 77.45308685302734,\n 79.31372833251953,\n 79.31372833251953,\n 79.31372833251953,\n 79.31372833251953,\n 79.31372833251953,\n 79.31372833251953,\n 81.73583984375,\n 81.73584747314453,\n 81.73584747314453,\n 81.73587036132812,\n 81.73587036132812,\n 81.73587036132812,\n 91.26071166992188,\n 91.26071166992188,\n 91.26071166992188,\n 91.26071166992188,\n 91.26071166992188,\n 91.26071166992188,\n 92.71959686279297,\n 92.71959686279297,\n 92.71959686279297,\n 92.71959686279297,\n 92.71959686279297,\n 92.71959686279297,\n 92.71959686279297,\n 92.71959686279297,\n 92.71959686279297,\n 92.71959686279297,\n 92.71959686279297,\n 92.71959686279297,\n 92.71959686279297,\n 92.71959686279297,\n 92.71959686279297,\n 92.72216033935547,\n 92.72216033935547,\n 92.72216033935547,\n 92.72216033935547,\n 92.72216033935547,\n 92.72216033935547,\n 92.72216033935547,\n 92.72216033935547,\n 92.72216033935547,\n 97.76753234863281,\n 97.76753234863281,\n 97.76753997802734,\n 100.70108032226562,\n 100.70108032226562,\n 100.70108032226562,\n 100.70108032226562,\n 112.6973876953125,\n 112.6973876953125,\n 112.69740295410156,\n 112.69740295410156,\n 112.69740295410156,\n 112.69740295410156,\n 112.69740295410156,\n 112.69740295410156,\n 112.69740295410156,\n 134.1333465576172,\n 134.1333465576172,\n 134.1333465576172,\n 140.1822509765625,\n 140.1822509765625,\n 140.1822509765625,\n 140.1822509765625,\n 140.1822509765625,\n 140.1822509765625,\n 140.1822509765625,\n 140.1822509765625,\n 140.1822509765625,\n 140.1822509765625,\n 140.18226623535156,\n 140.18226623535156,\n 148.85659790039062,\n 148.85659790039062,\n 148.85659790039062,\n 148.85659790039062,\n 148.85659790039062,\n 148.85659790039062,\n 150.91700744628906,\n 150.91700744628906,\n 150.91700744628906,\n 150.91702270507812,\n 150.91702270507812,\n 150.91702270507812,\n 160.16958618164062,\n 160.16958618164062,\n 160.16958618164062,\n 160.16958618164062,\n 160.16958618164062,\n 160.16958618164062,\n 160.16958618164062,\n 160.16958618164062,\n 160.16958618164062,\n 161.42095947265625,\n 161.42095947265625,\n 161.42095947265625,\n 161.42095947265625,\n 161.42095947265625,\n 161.42095947265625,\n 161.42095947265625,\n 161.42095947265625,\n 161.42095947265625,\n 161.42095947265625,\n 161.42095947265625,\n 161.42095947265625,\n 173.4930877685547,\n 173.4930877685547,\n 173.49310302734375,\n 173.49310302734375,\n 173.49310302734375,\n 173.49310302734375,\n 178.01263427734375,\n 205.12582397460938,\n 205.12582397460938,\n 205.12582397460938,\n 205.12582397460938,\n 205.12582397460938,\n 205.12582397460938,\n 205.12582397460938,\n 205.12582397460938,\n 205.12582397460938,\n 205.12582397460938,\n 205.7897491455078,\n 205.78976440429688,\n 205.78976440429688,\n 205.78976440429688,\n 205.78976440429688,\n 205.78976440429688,\n 205.78976440429688,\n 205.78976440429688,\n 205.78976440429688,\n 205.78976440429688,\n 205.789794921875,\n 205.789794921875,\n 205.789794921875,\n 205.789794921875,\n 205.789794921875,\n 205.789794921875,\n 205.789794921875,\n 205.789794921875,\n 205.789794921875,\n 205.789794921875,\n 205.789794921875,\n 213.2622528076172,\n 213.2622528076172,\n 213.2622528076172,\n 213.2622528076172,\n 213.2622528076172,\n 214.7720947265625,\n 214.7720947265625,\n 214.7720947265625,\n 236.56460571289062,\n 236.56460571289062,\n 236.56463623046875,\n 236.56463623046875,\n 236.56463623046875,\n 236.56463623046875,\n 236.56463623046875,\n 236.56463623046875,\n 236.56463623046875,\n 236.56463623046875,\n 236.56463623046875,\n 236.56463623046875,\n 236.56463623046875,\n 236.56463623046875,\n 236.56463623046875,\n 236.56463623046875,\n 236.56463623046875,\n 236.56463623046875,\n 236.56463623046875,\n 236.5646514892578,\n 236.5646514892578,\n 236.5646514892578,\n 236.5646514892578,\n 236.5646514892578,\n 236.5646514892578,\n 236.5646514892578,\n 236.5646514892578,\n 236.5646514892578,\n 236.5646514892578,\n 236.5646514892578,\n 236.5646514892578,\n 236.5646514892578,\n 236.5646514892578,\n 236.5646514892578,\n 236.5646514892578,\n 236.56468200683594,\n 239.774658203125,\n 239.774658203125,\n 239.774658203125,\n 239.774658203125,\n 239.774658203125,\n 239.774658203125,\n 239.774658203125,\n 239.774658203125,\n 239.774658203125,\n 239.774658203125,\n 239.774658203125,\n 239.774658203125,\n 239.774658203125,\n 239.774658203125,\n 239.774658203125,\n 239.774658203125,\n 239.774658203125,\n 239.774658203125,\n 239.774658203125,\n 239.774658203125,\n 239.774658203125,\n 239.774658203125,\n 239.774658203125,\n 239.774658203125,\n 258.0924072265625,\n 258.0924072265625,\n 258.0924072265625,\n 258.0924072265625,\n 258.0924072265625,\n 258.0924072265625,\n 258.0924072265625,\n 258.0924072265625,\n 258.0924072265625,\n 258.0924072265625,\n 258.0924072265625,\n 258.0924072265625,\n 258.0924072265625,\n 258.0924072265625,\n 258.0924072265625,\n 258.0924072265625,\n 258.0924072265625,\n 258.0924072265625,\n 258.0924072265625,\n 258.0924072265625,\n 261.4972229003906,\n 271.29974365234375,\n 271.29974365234375,\n 271.29974365234375,\n 271.99365234375,\n 271.99365234375,\n 271.99365234375,\n 275.3479309082031,\n 275.3479309082031,\n 275.34796142578125,\n 275.34796142578125,\n 275.34796142578125,\n 275.3479919433594,\n 275.3479919433594,\n 275.3479919433594,\n 275.3479919433594,\n 275.3479919433594,\n 275.3480224609375,\n 275.3480224609375,\n 321.9955749511719,\n 321.9955749511719,\n 321.9955749511719,\n 321.9955749511719,\n 321.9955749511719,\n 321.9955749511719,\n 321.9955749511719,\n 321.9955749511719,\n 321.9955749511719,\n 321.9955749511719,\n 346.560791015625,\n 346.5608215332031,\n 346.5608215332031,\n 346.5608215332031,\n 346.5608215332031,\n 346.5608215332031,\n 385.1990051269531,\n 385.19903564453125,\n 385.19903564453125,\n 385.19903564453125,\n 385.19903564453125,\n 385.1990661621094,\n 411.9693603515625,\n 617.7876586914062,\n 617.7877197265625,\n 617.7877197265625,\n 617.7877197265625,\n 617.7877197265625,\n 617.7877197265625,\n 617.7877197265625,\n 617.7877197265625,\n 714.9306640625,\n 714.9307250976562]"
     },
     "execution_count": 41,
     "metadata": {},
     "output_type": "execute_result"
    }
   ],
   "source": [
    "sorted(train_negative_distances)"
   ],
   "metadata": {
    "collapsed": false,
    "pycharm": {
     "name": "#%%\n"
    }
   }
  },
  {
   "cell_type": "code",
   "execution_count": 42,
   "outputs": [
    {
     "name": "stdout",
     "output_type": "stream",
     "text": [
      "0\n",
      "217\n"
     ]
    }
   ],
   "source": [
    "# show isomorphic graphs compared to the reference graph\n",
    "for annotated_g in brute_force_k_subgraph_annotated_graphs:\n",
    "    g = annotated_g.g.copy()\n",
    "    remove_isolated_nodes_from_graph(g)\n",
    "    if nx.is_isomorphic(G_sub, g):\n",
    "        print(annotated_g.label)"
   ],
   "metadata": {
    "collapsed": false,
    "pycharm": {
     "name": "#%%\n"
    }
   }
  },
  {
   "cell_type": "code",
   "execution_count": 43,
   "outputs": [],
   "source": [
    "train_positive_distances, train_negative_distances, self_pair = get_pairs_distances_for_target_graph(trainer, graph_metric_nn, target_k_subgraph_label = 0, all_pairs=brute_force_train_samples_list, all_graphs=brute_force_k_subgraph_annotated_graphs)"
   ],
   "metadata": {
    "collapsed": false,
    "pycharm": {
     "name": "#%%\n"
    }
   }
  },
  {
   "cell_type": "code",
   "execution_count": 44,
   "outputs": [
    {
     "data": {
      "text/plain": "[9.686473845249566e-12, 0.0]"
     },
     "execution_count": 44,
     "metadata": {},
     "output_type": "execute_result"
    }
   ],
   "source": [
    "train_positive_distances"
   ],
   "metadata": {
    "collapsed": false,
    "pycharm": {
     "name": "#%%\n"
    }
   }
  },
  {
   "cell_type": "code",
   "execution_count": 45,
   "outputs": [],
   "source": [
    "self_pair_distance = get_examples_distances(trainer, graph_metric_nn, [self_pair])[0][0]"
   ],
   "metadata": {
    "collapsed": false,
    "pycharm": {
     "name": "#%%\n"
    }
   }
  },
  {
   "cell_type": "code",
   "execution_count": 46,
   "outputs": [
    {
     "data": {
      "text/plain": "0.0"
     },
     "execution_count": 46,
     "metadata": {},
     "output_type": "execute_result"
    }
   ],
   "source": [
    "self_pair_distance"
   ],
   "metadata": {
    "collapsed": false,
    "pycharm": {
     "name": "#%%\n"
    }
   }
  },
  {
   "cell_type": "code",
   "execution_count": 47,
   "outputs": [
    {
     "data": {
      "text/plain": "[10.032857894897461,\n 10.032857894897461,\n 10.032857894897461,\n 10.032857894897461,\n 10.032861709594727,\n 10.03286361694336,\n 10.03286361694336,\n 10.032869338989258,\n 59.15463638305664,\n 82.713623046875,\n 82.713623046875,\n 82.713623046875,\n 82.713623046875,\n 82.713623046875,\n 82.71363067626953,\n 220.48788452148438,\n 220.48793029785156,\n 220.48793029785156,\n 257.8414306640625,\n 257.8414306640625,\n 257.8414306640625,\n 257.8414611816406,\n 257.8414611816406,\n 257.8414611816406,\n 257.8414611816406,\n 257.8414611816406,\n 257.8414611816406,\n 257.84149169921875,\n 257.84149169921875,\n 257.84149169921875,\n 257.84149169921875,\n 257.84149169921875,\n 257.84149169921875,\n 257.84149169921875,\n 257.84149169921875,\n 257.84149169921875,\n 257.84149169921875,\n 257.84149169921875,\n 257.8415222167969,\n 263.910888671875,\n 263.910888671875,\n 263.910888671875,\n 263.910888671875,\n 263.910888671875,\n 263.9109191894531,\n 263.9109191894531,\n 263.9109191894531,\n 263.9109191894531,\n 263.91094970703125,\n 263.91094970703125,\n 263.91094970703125,\n 316.8141784667969,\n 316.8141784667969,\n 316.8141784667969,\n 316.8141784667969,\n 316.814208984375,\n 316.814208984375,\n 319.3125,\n 341.2923889160156,\n 341.2923889160156,\n 341.2923889160156,\n 341.2923889160156,\n 341.2923889160156,\n 341.2923889160156,\n 341.2923889160156,\n 341.2923889160156,\n 341.2923889160156,\n 341.2923889160156,\n 341.2924499511719,\n 341.2924499511719,\n 341.2924499511719,\n 341.2924499511719,\n 341.2924499511719,\n 341.2924499511719,\n 341.2924499511719,\n 341.2924499511719,\n 341.2924499511719,\n 341.2924499511719,\n 341.2924499511719,\n 341.2924499511719,\n 341.2924499511719,\n 341.2924499511719,\n 353.11767578125,\n 353.11767578125,\n 353.11767578125,\n 354.3358154296875,\n 354.3358154296875,\n 354.3358154296875,\n 354.3358154296875,\n 354.3358154296875,\n 354.3358154296875,\n 354.3358154296875,\n 354.3358154296875,\n 354.3358154296875,\n 354.3358154296875,\n 354.3358154296875,\n 354.3358154296875,\n 365.1923522949219,\n 365.1923522949219,\n 365.1923522949219,\n 365.1923522949219,\n 365.1923522949219,\n 365.1923522949219,\n 365.1923522949219,\n 365.1923522949219,\n 365.1923522949219,\n 365.1923522949219,\n 365.1923522949219,\n 365.1923522949219,\n 365.1923522949219,\n 365.1923522949219,\n 365.1923522949219,\n 365.1923522949219,\n 365.1923522949219,\n 365.1923522949219,\n 365.1923522949219,\n 365.1923522949219,\n 371.03369140625,\n 371.03369140625,\n 371.03369140625,\n 422.0101318359375,\n 422.0101318359375,\n 422.0101318359375,\n 422.0101318359375,\n 422.0101318359375,\n 445.822509765625,\n 445.822509765625,\n 445.822509765625,\n 445.822509765625,\n 445.82257080078125,\n 445.82257080078125,\n 493.68646240234375,\n 514.5147705078125,\n 514.5147705078125,\n 514.5147705078125,\n 514.5147705078125,\n 514.5147705078125,\n 514.5147705078125,\n 514.5147705078125,\n 514.5147705078125,\n 514.5147705078125,\n 514.5147705078125,\n 539.5712890625,\n 539.5712890625,\n 539.5712890625,\n 539.5712890625,\n 572.416748046875,\n 572.416748046875,\n 572.416748046875,\n 572.416748046875,\n 572.416748046875,\n 572.416748046875,\n 572.416748046875,\n 572.416748046875,\n 572.416748046875,\n 572.416748046875,\n 572.416748046875,\n 572.416748046875,\n 572.416748046875,\n 572.416748046875,\n 572.416748046875,\n 578.8984375,\n 578.8984375,\n 578.8984985351562,\n 580.46484375,\n 580.46484375,\n 580.46484375,\n 580.46484375,\n 580.46484375,\n 580.46484375,\n 580.46484375,\n 580.46484375,\n 580.46484375,\n 580.46484375,\n 591.5728759765625,\n 591.5728759765625,\n 591.5728759765625,\n 591.5728759765625,\n 591.5728759765625,\n 591.5728759765625,\n 599.5824584960938,\n 599.5824584960938,\n 599.5824584960938,\n 599.5824584960938,\n 599.5824584960938,\n 599.5824584960938,\n 599.5824584960938,\n 599.5824584960938,\n 599.5824584960938,\n 599.5824584960938,\n 599.5824584960938,\n 599.5824584960938,\n 599.5824584960938,\n 599.5824584960938,\n 599.5824584960938,\n 599.5824584960938,\n 599.5824584960938,\n 599.5824584960938,\n 599.5824584960938,\n 599.5824584960938,\n 599.5824584960938,\n 599.5824584960938,\n 599.5824584960938,\n 599.5824584960938,\n 599.5824584960938,\n 599.5824584960938,\n 599.5824584960938,\n 599.5824584960938,\n 599.5824584960938,\n 599.5824584960938,\n 599.5824584960938,\n 599.5824584960938,\n 599.5824584960938,\n 599.5824584960938,\n 599.5824584960938,\n 599.5824584960938,\n 627.6637573242188,\n 627.663818359375,\n 627.663818359375,\n 627.663818359375,\n 627.663818359375,\n 627.663818359375,\n 627.663818359375,\n 627.663818359375,\n 627.663818359375,\n 628.6201171875,\n 650.9761962890625,\n 650.9761962890625,\n 650.9762573242188,\n 650.9762573242188,\n 650.9762573242188,\n 650.9762573242188,\n 650.9762573242188,\n 650.9762573242188,\n 650.976318359375,\n 650.976318359375,\n 650.976318359375,\n 650.976318359375,\n 652.2164306640625,\n 652.216552734375,\n 652.216552734375,\n 652.216552734375,\n 652.2166137695312,\n 652.2166137695312,\n 661.670654296875,\n 661.670654296875,\n 661.670654296875,\n 661.670654296875,\n 661.670654296875,\n 661.670654296875,\n 661.670654296875,\n 661.670654296875,\n 661.670654296875,\n 665.38134765625,\n 665.38134765625,\n 665.38134765625,\n 665.38134765625,\n 665.38134765625,\n 665.38134765625,\n 665.9114990234375,\n 665.9114990234375,\n 665.9114990234375,\n 665.9114990234375,\n 665.9114990234375,\n 665.9114990234375,\n 665.9114990234375,\n 665.9114990234375,\n 665.9114990234375,\n 665.9114990234375,\n 665.9114990234375,\n 665.9114990234375,\n 665.9114990234375,\n 665.9114990234375,\n 665.9114990234375,\n 665.9114990234375,\n 665.9114990234375,\n 665.9114990234375,\n 665.9114990234375,\n 665.9114990234375,\n 665.9115600585938,\n 665.9115600585938,\n 665.9115600585938,\n 665.9115600585938,\n 673.800048828125,\n 673.800048828125,\n 673.800048828125,\n 682.4800415039062,\n 682.4800415039062,\n 682.4800415039062,\n 682.4800415039062,\n 682.4800415039062,\n 682.4800415039062,\n 682.4800415039062,\n 682.4800415039062,\n 682.4800415039062,\n 682.4800415039062,\n 682.4800415039062,\n 682.4800415039062,\n 682.4800415039062,\n 682.4800415039062,\n 682.4800415039062,\n 682.4800415039062,\n 682.4800415039062,\n 682.4800415039062,\n 682.4800415039062,\n 682.4800415039062,\n 683.96728515625,\n 684.3467407226562,\n 684.3467407226562,\n 684.3467407226562,\n 684.3467407226562,\n 684.3467407226562,\n 684.3467407226562,\n 691.7922973632812,\n 691.7922973632812,\n 691.7922973632812,\n 691.7922973632812,\n 691.7922973632812,\n 691.7922973632812,\n 691.7922973632812,\n 691.7922973632812,\n 691.7922973632812,\n 691.7922973632812,\n 691.7924194335938,\n 691.7924194335938,\n 691.7924194335938,\n 691.7924194335938,\n 691.7924194335938,\n 691.7924194335938,\n 691.7924194335938,\n 691.7924194335938,\n 694.5234375,\n 694.5234375,\n 694.5234375,\n 694.5234985351562,\n 694.5234985351562,\n 694.5234985351562,\n 694.5234985351562,\n 694.5234985351562,\n 694.5234985351562,\n 697.1187744140625,\n 697.1187744140625,\n 697.1187744140625,\n 697.1187744140625,\n 697.1187744140625,\n 697.1187744140625,\n 699.5851440429688,\n 699.5851440429688,\n 699.5851440429688,\n 699.5851440429688,\n 699.5851440429688,\n 699.5851440429688,\n 699.5851440429688,\n 699.585205078125,\n 699.585205078125,\n 699.585205078125,\n 699.585205078125,\n 699.585205078125,\n 700.9176635742188,\n 700.9176635742188,\n 700.9176635742188,\n 700.9176635742188,\n 700.9176635742188,\n 700.9176635742188,\n 700.9176635742188,\n 700.9176635742188,\n 700.9176635742188,\n 700.9176635742188,\n 700.9176635742188,\n 713.3142700195312,\n 713.3142700195312,\n 713.3142700195312,\n 713.3142700195312,\n 713.3142700195312,\n 713.3142700195312,\n 713.3142700195312,\n 713.3143310546875,\n 713.3143310546875,\n 714.9306640625,\n 732.127197265625,\n 732.1272583007812,\n 732.1272583007812,\n 732.1272583007812,\n 732.1272583007812,\n 732.1272583007812,\n 755.3335571289062,\n 755.3335571289062,\n 755.3335571289062,\n 755.3335571289062,\n 755.3335571289062,\n 755.3335571289062,\n 755.3335571289062,\n 755.3335571289062,\n 755.3335571289062,\n 755.3335571289062,\n 755.3335571289062,\n 767.2168579101562,\n 767.2168579101562,\n 767.2168579101562,\n 767.2169799804688,\n 767.2169799804688,\n 767.2169799804688,\n 849.1459350585938,\n 849.1459350585938,\n 881.1436767578125,\n 881.1436767578125,\n 974.318359375,\n 974.318359375,\n 974.318359375,\n 974.318359375,\n 974.318359375,\n 974.318359375,\n 974.318359375,\n 974.318359375,\n 974.318359375,\n 974.318359375,\n 974.318359375,\n 974.318359375]"
     },
     "execution_count": 47,
     "metadata": {},
     "output_type": "execute_result"
    }
   ],
   "source": [
    "sorted(train_negative_distances)"
   ],
   "metadata": {
    "collapsed": false,
    "pycharm": {
     "name": "#%%\n"
    }
   }
  },
  {
   "cell_type": "code",
   "execution_count": 48,
   "outputs": [
    {
     "name": "stdout",
     "output_type": "stream",
     "text": [
      "49\n",
      "65\n"
     ]
    }
   ],
   "source": [
    "# Select a target graph with several isomorphic matches, and check their similarities\n",
    "get_map_keys_with_value_of(k_subgraph_label_to_total_isomorphic_pairs_amount_map, 10)"
   ],
   "metadata": {
    "collapsed": false,
    "pycharm": {
     "name": "#%%\n"
    }
   }
  },
  {
   "cell_type": "code",
   "execution_count": 49,
   "outputs": [],
   "source": [
    "target_graph_with_multiple_isomorphic_graphs_label = 49\n",
    "target_graph_with_multiple_isomorphic_graphs = brute_force_k_subgraph_annotated_graphs[target_graph_with_multiple_isomorphic_graphs_label]\n",
    "\n",
    "chosen_graph_isomorphic_pairs = [pair for pair in brute_force_train_samples_list if (pair.is_negative_sample==False) and (target_graph_with_multiple_isomorphic_graphs_label in [pair.masked_graph.label, pair.subgraph.label])]\n",
    "\n",
    "#each k subgraph should have its own original nodes\n",
    "chosen_graph_isomorphic_graphs = [brute_force_k_subgraphs[p.masked_graph.label].copy() for p in chosen_graph_isomorphic_pairs]\n",
    "for g in chosen_graph_isomorphic_graphs:\n",
    "    remove_isolated_nodes_from_graph(g)"
   ],
   "metadata": {
    "collapsed": false,
    "pycharm": {
     "name": "#%%\n"
    }
   }
  },
  {
   "cell_type": "code",
   "execution_count": 50,
   "outputs": [
    {
     "data": {
      "text/plain": "10"
     },
     "execution_count": 50,
     "metadata": {},
     "output_type": "execute_result"
    }
   ],
   "source": [
    "k_subgraph_label_to_total_isomorphic_pairs_amount_map[target_graph_with_multiple_isomorphic_graphs.label]"
   ],
   "metadata": {
    "collapsed": false,
    "pycharm": {
     "name": "#%%\n"
    }
   }
  },
  {
   "cell_type": "code",
   "execution_count": 51,
   "outputs": [
    {
     "data": {
      "text/plain": "10"
     },
     "execution_count": 51,
     "metadata": {},
     "output_type": "execute_result"
    }
   ],
   "source": [
    "len(chosen_graph_isomorphic_pairs)"
   ],
   "metadata": {
    "collapsed": false,
    "pycharm": {
     "name": "#%%\n"
    }
   }
  },
  {
   "cell_type": "code",
   "execution_count": 52,
   "outputs": [],
   "source": [
    "train_positive_distances, train_negative_distances, self_pair = get_pairs_distances_for_target_graph(trainer, graph_metric_nn, target_k_subgraph_label = target_graph_with_multiple_isomorphic_graphs_label, all_pairs=brute_force_train_samples_list, all_graphs=brute_force_k_subgraph_annotated_graphs)"
   ],
   "metadata": {
    "collapsed": false,
    "pycharm": {
     "name": "#%%\n"
    }
   }
  },
  {
   "cell_type": "code",
   "execution_count": 53,
   "outputs": [
    {
     "data": {
      "text/plain": "[0.0, 0.0, 0.0, 0.0, 0.0, 0.0, 0.0, 0.0, 0.0, 0.0, 0.0]"
     },
     "execution_count": 53,
     "metadata": {},
     "output_type": "execute_result"
    }
   ],
   "source": [
    "train_positive_distances"
   ],
   "metadata": {
    "collapsed": false,
    "pycharm": {
     "name": "#%%\n"
    }
   }
  },
  {
   "cell_type": "code",
   "execution_count": 54,
   "outputs": [],
   "source": [
    "assert len(train_positive_distances) == 1 + len(chosen_graph_isomorphic_graphs) # including self pair"
   ],
   "metadata": {
    "collapsed": false,
    "pycharm": {
     "name": "#%%\n"
    }
   }
  },
  {
   "cell_type": "code",
   "execution_count": 55,
   "outputs": [],
   "source": [
    "# out sources metric\n",
    "\n",
    "from subgraph_matching_via_nn.utils.utils import get_graph_adj_mat_as_tensor\n",
    "from torch import nn\n",
    "import torch\n",
    "import numpy as np\n",
    "from torch.autograd import Variable as V\n",
    "\n",
    "REALLY_BIG_NUM = float(\"inf\")\n",
    "\n",
    "def build_param_graph(G, device):\n",
    "    parameter_graph = []\n",
    "    parameters = []\n",
    "    for i in range(len(G)):\n",
    "        edges = []\n",
    "        parameter_graph.append(edges)\n",
    "        for j in range(len(G)):\n",
    "            if G[i][j] != 0:\n",
    "                d = G[i][j]\n",
    "                param = nn.Parameter(torch.ones(1, device=device))\n",
    "                parameters.append(param)\n",
    "                edges.append((j, param, d))\n",
    "    return parameter_graph, parameters\n",
    "\n",
    "def torch_dijsktra(gr, device):\n",
    "    graph_dim = len(gr)\n",
    "    graph_copy = torch.ones((graph_dim, graph_dim), device=device) * REALLY_BIG_NUM\n",
    "\n",
    "    distances = np.empty(graph_dim, dtype=np.float32)\n",
    "    for i, edges in enumerate(gr):\n",
    "        distances.fill(REALLY_BIG_NUM)\n",
    "        distances[i] = 0\n",
    "        torch_dist = graph_copy[i]\n",
    "        torch_dist[i] = V(torch.zeros(1, device=device))\n",
    "        for _ in range(graph_dim):\n",
    "            v = distances.argmin()\n",
    "            v_dist = torch_dist[v]\n",
    "            distances[v] = np.inf  # won't be selected by argmin , i.e. removed from the pool\n",
    "            for neighbor, d, min_d in gr[v]:\n",
    "                new_d = v_dist + d.clamp(min=0, max=1) * min_d\n",
    "                existing_d = torch_dist[neighbor]\n",
    "                if existing_d is None or (new_d < existing_d):\n",
    "                    torch_dist[neighbor] = new_d\n",
    "                    distances[neighbor] = new_d.detach().cpu().numpy()[0]\n",
    "\n",
    "    return graph_copy\n",
    "\n",
    "def get_out_sources_mean_distance(target_graph, full_graph_adj, source_graphs, graph_node_to_adj_node_map):\n",
    "    parameter_graph, parameters = build_param_graph(full_graph_adj, device)\n",
    "\n",
    "    dijkstra_distances = torch_dijsktra(parameter_graph, device)\n",
    "    target_graph_nodes_as_sources_dijkstra_distances = torch.stack([dijkstra_distances[graph_node_to_adj_node_map[node]] for node in target_graph.nodes]).T\n",
    "    shortest_paths_to_target_graph_nodes = torch.min(target_graph_nodes_as_sources_dijkstra_distances, dim=1).values\n",
    "\n",
    "    # access adj_matrix via node -> adj_node map passed as a parameter\n",
    "    subgraphs_mean_distances = [\n",
    "        torch.max(torch.stack([shortest_paths_to_target_graph_nodes[graph_node_to_adj_node_map[node]] for node in subgraph.nodes]))\n",
    "        for subgraph in source_graphs]\n",
    "\n",
    "    return subgraphs_mean_distances\n",
    "#\n",
    "#\n",
    "# from torch import optim\n",
    "# device = 'cuda'\n",
    "# parameter_graph, parameters = build_param_graph(sub_graph.A_sub\n",
    "#                                                 , device)\n",
    "#\n",
    "# optimizer = optim.SGD(parameters,\n",
    "#                       lr=0.01, momentum=0.5)\n",
    "#\n",
    "# for epoch in range(100):\n",
    "#     dijkstra_distances = torch_dijsktra(parameter_graph, device)\n",
    "#     loss = torch.stack([e for lst in dijkstra_distances for e in lst]).sum()\n",
    "#\n",
    "#     print(loss)\n",
    "#     epoch_loss = loss.item()\n",
    "#\n",
    "#     optimizer.zero_grad()\n",
    "#     loss.backward()\n",
    "#     optimizer.step()"
   ],
   "metadata": {
    "collapsed": false,
    "pycharm": {
     "name": "#%%\n"
    }
   }
  },
  {
   "cell_type": "code",
   "execution_count": 56,
   "outputs": [
    {
     "data": {
      "text/plain": "NodeView((0, 2, 3, 4, 5, 12, 14, 15, 1, 6, 7, 13))"
     },
     "execution_count": 56,
     "metadata": {},
     "output_type": "execute_result"
    }
   ],
   "source": [
    "# adj matrix has size of 12, but the subgraphs have node numbers in the range [0,15], need to preserve node mapping!\n",
    "brute_force_k_subgraphs[target_graph_with_multiple_isomorphic_graphs_label].nodes"
   ],
   "metadata": {
    "collapsed": false,
    "pycharm": {
     "name": "#%%\n"
    }
   }
  },
  {
   "cell_type": "code",
   "execution_count": 57,
   "outputs": [],
   "source": [
    "def generate_adj_matrix_with_nodes_mapping(graph: nx.Graph):\n",
    "    nodelist = graph.nodes\n",
    "\n",
    "    graph_node_to_adj_node_map = {node:i for i, node in enumerate(nodelist)}\n",
    "\n",
    "    return torch.from_numpy((nx.adjacency_matrix(graph, nodelist=nodelist)).toarray()), graph_node_to_adj_node_map"
   ],
   "metadata": {
    "collapsed": false,
    "pycharm": {
     "name": "#%%\n"
    }
   }
  },
  {
   "cell_type": "code",
   "execution_count": 58,
   "outputs": [],
   "source": [
    "full_graph_with_multiple_isomorphic_graphs_adj_mat, graph_node_to_adj_node_map = generate_adj_matrix_with_nodes_mapping(G_perturbed)"
   ],
   "metadata": {
    "collapsed": false,
    "pycharm": {
     "name": "#%%\n"
    }
   }
  },
  {
   "cell_type": "code",
   "execution_count": 59,
   "outputs": [
    {
     "data": {
      "text/plain": "{0: 0, 1: 1, 2: 2, 3: 3, 4: 4, 5: 5, 6: 6, 7: 7, 12: 8, 13: 9, 14: 10, 15: 11}"
     },
     "execution_count": 59,
     "metadata": {},
     "output_type": "execute_result"
    }
   ],
   "source": [
    "graph_node_to_adj_node_map"
   ],
   "metadata": {
    "collapsed": false,
    "pycharm": {
     "name": "#%%\n"
    }
   }
  },
  {
   "cell_type": "code",
   "execution_count": 60,
   "outputs": [],
   "source": [
    "# make sure no isomorphic graphs, if there are make some manipulation\n",
    "# show tie breaking using out source distance term\n",
    "\n",
    "self_graph = brute_force_k_subgraphs[target_graph_with_multiple_isomorphic_graphs_label].copy()\n",
    "remove_isolated_nodes_from_graph(self_graph)\n",
    "\n",
    "out_source_distances = get_out_sources_mean_distance(target_graph=self_graph, full_graph_adj=full_graph_with_multiple_isomorphic_graphs_adj_mat, source_graphs=[self_graph] + chosen_graph_isomorphic_graphs, graph_node_to_adj_node_map=graph_node_to_adj_node_map)"
   ],
   "metadata": {
    "collapsed": false,
    "pycharm": {
     "name": "#%%\n"
    }
   }
  },
  {
   "cell_type": "code",
   "execution_count": 61,
   "outputs": [
    {
     "data": {
      "text/plain": "[tensor(0., grad_fn=<MaxBackward1>),\n tensor(1., grad_fn=<MaxBackward1>),\n tensor(1., grad_fn=<MaxBackward1>),\n tensor(1., grad_fn=<MaxBackward1>),\n tensor(1., grad_fn=<MaxBackward1>),\n tensor(1., grad_fn=<MaxBackward1>),\n tensor(1., grad_fn=<MaxBackward1>),\n tensor(1., grad_fn=<MaxBackward1>),\n tensor(1., grad_fn=<MaxBackward1>),\n tensor(1., grad_fn=<MaxBackward1>),\n tensor(1., grad_fn=<MaxBackward1>)]"
     },
     "execution_count": 61,
     "metadata": {},
     "output_type": "execute_result"
    }
   ],
   "source": [
    "out_source_distances"
   ],
   "metadata": {
    "collapsed": false,
    "pycharm": {
     "name": "#%%\n"
    }
   }
  },
  {
   "cell_type": "code",
   "execution_count": 62,
   "outputs": [
    {
     "data": {
      "text/plain": "[13.536992073059082,\n 13.536993980407715,\n 13.536993980407715,\n 13.536993980407715,\n 13.536993980407715,\n 13.536993980407715,\n 16.349098205566406,\n 16.349098205566406,\n 16.349098205566406,\n 16.349098205566406,\n 16.349098205566406,\n 16.349098205566406,\n 16.349098205566406,\n 16.349098205566406,\n 16.349098205566406,\n 16.349098205566406,\n 16.349098205566406,\n 16.349098205566406,\n 16.349098205566406,\n 16.349098205566406,\n 16.349098205566406,\n 16.349098205566406,\n 16.349103927612305,\n 16.349103927612305,\n 16.349103927612305,\n 16.349103927612305,\n 16.349103927612305,\n 16.349103927612305,\n 16.349103927612305,\n 16.349103927612305,\n 17.089088439941406,\n 17.089088439941406,\n 17.08909034729004,\n 17.08909034729004,\n 17.08909034729004,\n 17.08909034729004,\n 17.08909034729004,\n 17.08909034729004,\n 17.089094161987305,\n 17.089094161987305,\n 17.089094161987305,\n 17.089094161987305,\n 18.254261016845703,\n 18.93629264831543,\n 18.93629264831543,\n 18.936298370361328,\n 18.936311721801758,\n 18.936311721801758,\n 18.936311721801758,\n 18.936311721801758,\n 18.936317443847656,\n 18.936317443847656,\n 30.01300048828125,\n 40.82678985595703,\n 40.82678985595703,\n 40.82678985595703,\n 40.82678985595703,\n 40.82678985595703,\n 40.82678985595703,\n 40.82678985595703,\n 40.82678985595703,\n 40.82678985595703,\n 40.82678985595703,\n 40.82678985595703,\n 40.82678985595703,\n 40.82678985595703,\n 40.82678985595703,\n 40.82678985595703,\n 43.36185836791992,\n 43.36186218261719,\n 43.36186218261719,\n 43.36186218261719,\n 43.36186218261719,\n 43.36186218261719,\n 43.46611022949219,\n 44.01122283935547,\n 44.01122283935547,\n 44.01122283935547,\n 44.01122283935547,\n 44.01122283935547,\n 44.01122283935547,\n 44.01122283935547,\n 44.01122283935547,\n 44.01122283935547,\n 44.01122283935547,\n 44.011226654052734,\n 44.011226654052734,\n 44.011226654052734,\n 44.011226654052734,\n 44.011226654052734,\n 44.011226654052734,\n 44.011226654052734,\n 44.011226654052734,\n 44.17880630493164,\n 44.17880630493164,\n 44.17880630493164,\n 44.17880630493164,\n 44.17880630493164,\n 44.17880630493164,\n 44.17880630493164,\n 44.17880630493164,\n 44.17881774902344,\n 45.72795867919922,\n 45.72796630859375,\n 45.72796630859375,\n 45.72796630859375,\n 45.72796630859375,\n 45.72796630859375,\n 48.550758361816406,\n 48.550758361816406,\n 48.550758361816406,\n 48.550758361816406,\n 48.550758361816406,\n 48.550758361816406,\n 48.550758361816406,\n 48.550758361816406,\n 48.550758361816406,\n 48.550758361816406,\n 48.550758361816406,\n 48.550758361816406,\n 48.550758361816406,\n 48.550758361816406,\n 48.550758361816406,\n 48.550758361816406,\n 48.550758361816406,\n 48.550758361816406,\n 48.550758361816406,\n 48.550758361816406,\n 49.15766143798828,\n 49.15766143798828,\n 49.15766143798828,\n 49.15766143798828,\n 49.15766906738281,\n 49.15766906738281,\n 49.15766906738281,\n 49.15766906738281,\n 49.15767288208008,\n 49.15767288208008,\n 49.15767288208008,\n 49.157676696777344,\n 53.70737838745117,\n 53.7073860168457,\n 53.7073860168457,\n 62.87925720214844,\n 62.87925720214844,\n 62.87925720214844,\n 62.87928771972656,\n 62.87928771972656,\n 62.87928771972656,\n 65.3515853881836,\n 65.3515853881836,\n 65.3515853881836,\n 65.3515853881836,\n 65.3515853881836,\n 65.3515853881836,\n 65.35159301757812,\n 65.35159301757812,\n 65.35159301757812,\n 74.44579315185547,\n 74.44579315185547,\n 74.44579315185547,\n 74.44579315185547,\n 75.99394989013672,\n 75.99394989013672,\n 75.99394989013672,\n 75.99394989013672,\n 75.99394989013672,\n 75.99394989013672,\n 80.25102996826172,\n 80.25102996826172,\n 80.25102996826172,\n 80.25102996826172,\n 80.25102996826172,\n 80.25102996826172,\n 87.30780792236328,\n 87.30780792236328,\n 87.30780792236328,\n 87.30780792236328,\n 87.30780792236328,\n 87.30780792236328,\n 87.30780792236328,\n 87.30780792236328,\n 87.30780792236328,\n 87.30780792236328,\n 87.30780792236328,\n 98.48745727539062,\n 98.48745727539062,\n 98.48745727539062,\n 98.48745727539062,\n 98.48746490478516,\n 98.48746490478516,\n 106.1182632446289,\n 106.1182632446289,\n 106.1182632446289,\n 106.1182632446289,\n 106.1182632446289,\n 106.1182632446289,\n 106.1182632446289,\n 106.1182632446289,\n 106.1182632446289,\n 113.9909439086914,\n 114.49208068847656,\n 114.49208068847656,\n 114.49208068847656,\n 123.97921752929688,\n 123.97921752929688,\n 123.97921752929688,\n 123.97921752929688,\n 123.97921752929688,\n 123.97921752929688,\n 123.97921752929688,\n 123.97921752929688,\n 123.97921752929688,\n 123.97921752929688,\n 136.9561309814453,\n 136.9561309814453,\n 136.9561309814453,\n 136.9561309814453,\n 136.9561309814453,\n 136.9561309814453,\n 136.9561309814453,\n 136.9561309814453,\n 136.9561309814453,\n 136.9561309814453,\n 136.9561309814453,\n 136.9561309814453,\n 141.88681030273438,\n 141.88681030273438,\n 141.8868408203125,\n 141.8868408203125,\n 141.8868408203125,\n 141.8868408203125,\n 145.51138305664062,\n 145.51138305664062,\n 145.5113983154297,\n 145.5113983154297,\n 145.5113983154297,\n 145.5113983154297,\n 145.5113983154297,\n 145.5113983154297,\n 145.5113983154297,\n 145.5113983154297,\n 145.5113983154297,\n 145.5113983154297,\n 145.5113983154297,\n 145.5113983154297,\n 145.5113983154297,\n 145.5113983154297,\n 145.5113983154297,\n 145.5113983154297,\n 145.5113983154297,\n 145.5113983154297,\n 145.5113983154297,\n 145.5113983154297,\n 145.5113983154297,\n 145.5113983154297,\n 145.5113983154297,\n 145.5113983154297,\n 145.5113983154297,\n 145.5113983154297,\n 145.5113983154297,\n 145.5113983154297,\n 145.5113983154297,\n 145.5113983154297,\n 145.5113983154297,\n 145.5113983154297,\n 145.5113983154297,\n 145.5114288330078,\n 157.50228881835938,\n 157.50228881835938,\n 157.50228881835938,\n 157.50228881835938,\n 157.50228881835938,\n 161.6647186279297,\n 161.6647186279297,\n 162.5961456298828,\n 162.5961456298828,\n 172.4266815185547,\n 172.4266815185547,\n 172.4266815185547,\n 178.79124450683594,\n 178.79124450683594,\n 178.79124450683594,\n 178.79124450683594,\n 178.79124450683594,\n 178.79124450683594,\n 178.79124450683594,\n 178.79124450683594,\n 178.79124450683594,\n 178.79124450683594,\n 178.79124450683594,\n 178.79124450683594,\n 178.79124450683594,\n 178.79124450683594,\n 178.79124450683594,\n 178.79124450683594,\n 178.79124450683594,\n 178.79124450683594,\n 178.79124450683594,\n 178.79124450683594,\n 178.791259765625,\n 178.791259765625,\n 178.791259765625,\n 178.791259765625,\n 192.0802001953125,\n 192.0802001953125,\n 192.08021545410156,\n 192.08023071289062,\n 192.08023071289062,\n 192.08023071289062,\n 192.08023071289062,\n 192.08023071289062,\n 192.08023071289062,\n 192.08023071289062,\n 192.08023071289062,\n 192.08023071289062,\n 192.08023071289062,\n 192.08023071289062,\n 192.08023071289062,\n 192.08023071289062,\n 192.08023071289062,\n 192.08023071289062,\n 192.08026123046875,\n 192.08026123046875,\n 192.08026123046875,\n 212.41908264160156,\n 212.41908264160156,\n 212.41908264160156,\n 212.41908264160156,\n 212.41908264160156,\n 212.41908264160156,\n 212.41908264160156,\n 212.41908264160156,\n 212.41908264160156,\n 212.41908264160156,\n 212.41908264160156,\n 212.41908264160156,\n 212.41908264160156,\n 212.41908264160156,\n 212.41908264160156,\n 212.41908264160156,\n 212.41908264160156,\n 212.41908264160156,\n 212.41908264160156,\n 212.41908264160156,\n 223.177001953125,\n 223.177001953125,\n 223.17701721191406,\n 223.17701721191406,\n 223.17701721191406,\n 223.17703247070312,\n 223.17703247070312,\n 223.17703247070312,\n 223.17703247070312,\n 223.17703247070312,\n 223.17706298828125,\n 223.17706298828125,\n 235.45277404785156,\n 235.45277404785156,\n 235.45281982421875,\n 235.93533325195312,\n 238.16644287109375,\n 238.16644287109375,\n 238.16644287109375,\n 245.66873168945312,\n 245.66873168945312,\n 245.66873168945312,\n 245.66873168945312,\n 245.66873168945312,\n 245.66873168945312,\n 245.66873168945312,\n 245.66873168945312,\n 245.66873168945312,\n 245.66873168945312,\n 245.6687469482422,\n 245.6687469482422,\n 246.08583068847656,\n 246.08584594726562,\n 246.08584594726562,\n 246.08584594726562,\n 246.08584594726562,\n 246.0858612060547,\n 254.4529266357422,\n 254.4529266357422,\n 254.4529266357422,\n 254.4529266357422,\n 254.4529266357422,\n 254.4529266357422,\n 254.4529266357422,\n 254.4529266357422,\n 254.4529266357422,\n 254.4529266357422,\n 362.22711181640625,\n 362.2271423339844,\n 362.2271423339844,\n 362.2271423339844,\n 362.2271423339844,\n 362.2271423339844,\n 395.1556091308594,\n 598.7824096679688,\n 598.782470703125,\n 598.782470703125,\n 598.782470703125,\n 598.782470703125,\n 598.782470703125,\n 598.782470703125,\n 598.7825317382812,\n 700.9176635742188,\n 700.917724609375]"
     },
     "execution_count": 62,
     "metadata": {},
     "output_type": "execute_result"
    }
   ],
   "source": [
    "sorted(train_negative_distances)"
   ],
   "metadata": {
    "collapsed": false,
    "pycharm": {
     "name": "#%%\n"
    }
   }
  },
  {
   "cell_type": "code",
   "execution_count": 64,
   "outputs": [],
   "source": [
    "# train on sample of the dataset, not all pairs, eval on the other set\n",
    "\n",
    "# Split all graphs first, and then generate the pairs datasets (keep isomorphic graphs together in the same dataset)\n",
    "#   split graphs by using k_subgraph_label_to_isomorphic_pairs_labels_map"
   ],
   "metadata": {
    "collapsed": false,
    "pycharm": {
     "name": "#%%\n"
    }
   }
  },
  {
   "cell_type": "code",
   "execution_count": 63,
   "outputs": [
    {
     "data": {
      "text/plain": "48"
     },
     "execution_count": 63,
     "metadata": {},
     "output_type": "execute_result"
    }
   ],
   "source": [
    "len(k_subgraph_label_to_isomorphic_pairs_labels_map)"
   ],
   "metadata": {
    "collapsed": false,
    "pycharm": {
     "name": "#%%\n"
    }
   }
  },
  {
   "cell_type": "code",
   "execution_count": 64,
   "outputs": [],
   "source": [
    "from sklearn.model_selection import train_test_split\n",
    "\n",
    "def generate_pairs_datasets_for_model_generalization(k_subgraph_label_to_isomorphic_pairs_labels_map, k_subgraph_annotated_graphs, train_size=0.7):\n",
    "    graph_isomorphic_group_labels_train, graph_isomorphic_group_labels_test = train_test_split(list(k_subgraph_label_to_isomorphic_pairs_labels_map.keys()), shuffle=True, train_size=train_size)\n",
    "\n",
    "    graph_isomorphic_group_labels_train_graphs = [[label] + k_subgraph_label_to_isomorphic_pairs_labels_map[label] for label in graph_isomorphic_group_labels_train]\n",
    "    graph_isomorphic_group_labels_test_graphs = [[label] + k_subgraph_label_to_isomorphic_pairs_labels_map[label] for label in graph_isomorphic_group_labels_test]\n",
    "\n",
    "    graph_isomorphic_group_labels_train_graphs = [elem for lst in graph_isomorphic_group_labels_train_graphs for elem in lst]\n",
    "    graph_isomorphic_group_labels_test_graphs = [elem for lst in graph_isomorphic_group_labels_test_graphs for elem in lst]\n",
    "\n",
    "    train_k_subgraph_annotated_graphs = [k_subgraph_annotated_graphs[label] for label in graph_isomorphic_group_labels_train_graphs]\n",
    "    test_k_subgraph_annotated_graphs = [k_subgraph_annotated_graphs[label] for label in graph_isomorphic_group_labels_test_graphs]\n",
    "\n",
    "    train_pairs_dump_folder_path = \"generalization_train_pairs\"\n",
    "    test_pairs_dump_folder_path = \"generalization_test_pairs\"\n",
    "\n",
    "    generate_pairs_data_set_based_on_graphs(train_k_subgraph_annotated_graphs, train_pairs_dump_folder_path)\n",
    "    generate_pairs_data_set_based_on_graphs(test_k_subgraph_annotated_graphs, test_pairs_dump_folder_path)\n",
    "\n",
    "    train_pairs = load_dump_file_pairs_dataset(train_pairs_dump_folder_path)\n",
    "    test_pairs = load_dump_file_pairs_dataset(test_pairs_dump_folder_path)\n",
    "\n",
    "    return train_pairs, test_pairs"
   ],
   "metadata": {
    "collapsed": false,
    "pycharm": {
     "name": "#%%\n"
    }
   }
  },
  {
   "cell_type": "code",
   "execution_count": 65,
   "outputs": [
    {
     "name": "stdout",
     "output_type": "stream",
     "text": [
      "enter generate_pairs_data_set_based_on_graphs\n"
     ]
    },
    {
     "name": "stderr",
     "output_type": "stream",
     "text": [
      "Pairs dataset construction: 100%|██████████| 8/8 [01:24<00:00, 10.61s/it]\n"
     ]
    },
    {
     "name": "stdout",
     "output_type": "stream",
     "text": [
      "total time for finished generate_pairs_data_set_based_on_graphs:84s\n",
      "enter generate_pairs_data_set_based_on_graphs\n"
     ]
    },
    {
     "name": "stderr",
     "output_type": "stream",
     "text": [
      "Pairs dataset construction: 100%|██████████| 8/8 [01:20<00:00, 10.03s/it]\n"
     ]
    },
    {
     "name": "stdout",
     "output_type": "stream",
     "text": [
      "total time for finished generate_pairs_data_set_based_on_graphs:80s\n",
      "4650\n",
      "4025\n",
      "3400\n",
      "2775\n",
      "2150\n",
      "1525\n",
      "900\n",
      "276\n",
      "5782\n",
      "4998\n",
      "4214\n",
      "3430\n",
      "2646\n",
      "1862\n",
      "1078\n",
      "300\n"
     ]
    }
   ],
   "source": [
    "train_pairs, test_pairs = generate_pairs_datasets_for_model_generalization(k_subgraph_label_to_isomorphic_pairs_labels_map, brute_force_k_subgraph_annotated_graphs, train_size=0.5)"
   ],
   "metadata": {
    "collapsed": false,
    "pycharm": {
     "name": "#%%\n"
    }
   }
  },
  {
   "cell_type": "code",
   "execution_count": 66,
   "outputs": [
    {
     "data": {
      "text/plain": "19701"
     },
     "execution_count": 66,
     "metadata": {},
     "output_type": "execute_result"
    }
   ],
   "source": [
    "len(train_pairs)"
   ],
   "metadata": {
    "collapsed": false,
    "pycharm": {
     "name": "#%%\n"
    }
   }
  },
  {
   "cell_type": "code",
   "execution_count": 67,
   "outputs": [
    {
     "data": {
      "text/plain": "24310"
     },
     "execution_count": 67,
     "metadata": {},
     "output_type": "execute_result"
    }
   ],
   "source": [
    "len(test_pairs)"
   ],
   "metadata": {
    "collapsed": false,
    "pycharm": {
     "name": "#%%\n"
    }
   }
  },
  {
   "cell_type": "code",
   "execution_count": 79,
   "outputs": [
    {
     "data": {
      "text/plain": "<Figure size 864x576 with 2 Axes>",
      "image/png": "[encoded data removed]"
     },
     "metadata": {
      "needs_background": "light"
     },
     "output_type": "display_data"
    },
    {
     "name": "stdout",
     "output_type": "stream",
     "text": [
      "epoch train loss\n",
      "\tepoch train loss \t (min:    0.000, max: 1001.070, cur:    0.000)\n",
      "training worker process #0 finished\n",
      "finished monitoring training\n"
     ]
    },
    {
     "data": {
      "text/plain": "43.06141394376755"
     },
     "execution_count": 79,
     "metadata": {},
     "output_type": "execute_result"
    }
   ],
   "source": [
    "current_trainer, graph_metric_nn, model = init_embedding_net_and_trainer(model_factory_func, solver_params, problem_params, graph_metric_nn_checkpoint_path=None)\n",
    "\n",
    "current_trainer.train(processes_device_ids=processes_device_ids, use_existing_data_loaders=False, train_samples_list=train_pairs, val_samples_list=test_pairs)"
   ],
   "metadata": {
    "collapsed": false,
    "pycharm": {
     "name": "#%%\n"
    }
   }
  },
  {
   "cell_type": "code",
   "execution_count": 68,
   "outputs": [],
   "source": [
    "solver_params[\"max_epochs\"] = 50\n",
    "trainer, graph_metric_nn, model = init_embedding_net_and_trainer(model_factory_func, solver_params, problem_params, graph_metric_nn_checkpoint_path=None)"
   ],
   "metadata": {
    "collapsed": false,
    "pycharm": {
     "name": "#%%\n"
    }
   }
  },
  {
   "cell_type": "code",
   "execution_count": 69,
   "outputs": [
    {
     "data": {
      "text/plain": "<Figure size 864x576 with 2 Axes>",
      "image/png": "[encoded data removed]"
     },
     "metadata": {
      "needs_background": "light"
     },
     "output_type": "display_data"
    },
    {
     "name": "stdout",
     "output_type": "stream",
     "text": [
      "epoch train loss\n",
      "\tepoch train loss \t (min:    0.000, max:  246.246, cur:    0.000)\n",
      "epoch val loss\n",
      "\tepoch val loss   \t (min:    6.363, max: 1820.932, cur:  906.086)\n",
      "training worker process #0 finished\n",
      "finished monitoring training\n"
     ]
    }
   ],
   "source": [
    "model.eval()\n",
    "val_loss = trainer.train(processes_device_ids=processes_device_ids, use_existing_data_loaders=False, train_samples_list=train_pairs, val_samples_list=test_pairs)"
   ],
   "metadata": {
    "collapsed": false,
    "pycharm": {
     "name": "#%%\n"
    }
   }
  },
  {
   "cell_type": "code",
   "execution_count": 70,
   "outputs": [
    {
     "data": {
      "text/plain": "6.362881522625685"
     },
     "execution_count": 70,
     "metadata": {},
     "output_type": "execute_result"
    }
   ],
   "source": [
    "val_loss"
   ],
   "metadata": {
    "collapsed": false,
    "pycharm": {
     "name": "#%%\n"
    }
   }
  },
  {
   "cell_type": "code",
   "execution_count": 76,
   "outputs": [
    {
     "data": {
      "text/plain": "6.362881522625685"
     },
     "execution_count": 76,
     "metadata": {},
     "output_type": "execute_result"
    }
   ],
   "source": [
    "val_loss"
   ],
   "metadata": {
    "collapsed": false,
    "pycharm": {
     "name": "#%%\n"
    }
   }
  },
  {
   "cell_type": "code",
   "execution_count": 76,
   "outputs": [],
   "source": [
    "trainer, graph_metric_nn, model = init_embedding_net_and_trainer(model_factory_func, solver_params, problem_params, graph_metric_nn_checkpoint_path=\".\\\\mp\\\\1707824192.5829558\\\\best_model_state_dict.pt\")"
   ],
   "metadata": {
    "collapsed": false,
    "pycharm": {
     "name": "#%%\n"
    }
   }
  },
  {
   "cell_type": "code",
   "execution_count": 77,
   "outputs": [],
   "source": [
    "# check greedy inference result, for speficic target graph's pairs\n",
    "train_positive_distances, train_negative_distances, self_pair = get_pairs_distances_for_target_graph(trainer, graph_metric_nn, target_k_subgraph_label = target_graph_with_multiple_isomorphic_graphs_label, all_pairs=brute_force_train_samples_list, all_graphs=brute_force_k_subgraph_annotated_graphs)"
   ],
   "metadata": {
    "collapsed": false,
    "pycharm": {
     "name": "#%%\n"
    }
   }
  },
  {
   "cell_type": "code",
   "execution_count": 78,
   "outputs": [
    {
     "data": {
      "text/plain": "[0.0, 0.0, 0.0, 0.0, 0.0, 0.0, 0.0, 0.0, 0.0, 0.0, 0.0]"
     },
     "execution_count": 78,
     "metadata": {},
     "output_type": "execute_result"
    }
   ],
   "source": [
    "train_positive_distances"
   ],
   "metadata": {
    "collapsed": false,
    "pycharm": {
     "name": "#%%\n"
    }
   }
  },
  {
   "cell_type": "code",
   "execution_count": 79,
   "outputs": [
    {
     "data": {
      "text/plain": "[6.958282947540283,\n 6.958282947540283,\n 6.958285808563232,\n 6.958287239074707,\n 6.958287239074707,\n 6.958287239074707,\n 15.711825370788574,\n 15.711827278137207,\n 15.711827278137207,\n 15.711827278137207,\n 15.711827278137207,\n 15.711827278137207,\n 22.350427627563477,\n 22.350427627563477,\n 22.350427627563477,\n 22.350427627563477,\n 22.350431442260742,\n 22.350431442260742,\n 22.350433349609375,\n 22.350433349609375,\n 22.350433349609375,\n 22.350433349609375,\n 22.350433349609375,\n 22.35043716430664,\n 31.87480354309082,\n 31.87480354309082,\n 31.87480354309082,\n 31.87480354309082,\n 31.87480354309082,\n 31.87480354309082,\n 35.878787994384766,\n 35.878787994384766,\n 35.878787994384766,\n 35.878787994384766,\n 35.878787994384766,\n 35.878787994384766,\n 35.878787994384766,\n 35.878787994384766,\n 35.878787994384766,\n 35.878787994384766,\n 35.878787994384766,\n 35.878787994384766,\n 35.878787994384766,\n 35.878787994384766,\n 35.878787994384766,\n 35.878787994384766,\n 35.87879180908203,\n 35.87879180908203,\n 35.87879180908203,\n 35.87879180908203,\n 35.87879180908203,\n 35.87879180908203,\n 35.87879180908203,\n 35.87879180908203,\n 48.79867935180664,\n 48.79867935180664,\n 48.798683166503906,\n 48.798683166503906,\n 48.798683166503906,\n 48.79869079589844,\n 48.79869079589844,\n 48.79869079589844,\n 48.79869079589844,\n 61.461585998535156,\n 61.461585998535156,\n 61.461585998535156,\n 61.461585998535156,\n 61.461585998535156,\n 61.461585998535156,\n 61.461585998535156,\n 61.461585998535156,\n 61.461585998535156,\n 61.461585998535156,\n 61.461585998535156,\n 61.461585998535156,\n 61.461585998535156,\n 61.461585998535156,\n 61.461585998535156,\n 61.461585998535156,\n 61.461585998535156,\n 61.461585998535156,\n 61.461585998535156,\n 61.461585998535156,\n 62.58156204223633,\n 62.58156204223633,\n 62.58156204223633,\n 62.58156204223633,\n 62.58156204223633,\n 62.581565856933594,\n 70.7003402709961,\n 70.7003402709961,\n 70.7003402709961,\n 70.70035552978516,\n 70.70035552978516,\n 70.70035552978516,\n 70.70035552978516,\n 70.70035552978516,\n 70.70035552978516,\n 85.91448211669922,\n 85.91448211669922,\n 85.91448211669922,\n 85.91448211669922,\n 88.6136703491211,\n 88.6136703491211,\n 88.61370849609375,\n 113.9754867553711,\n 113.9754867553711,\n 113.9754867553711,\n 113.9754867553711,\n 113.9754867553711,\n 113.9754867553711,\n 113.9754867553711,\n 113.9754867553711,\n 113.9754867553711,\n 113.9754867553711,\n 113.9754867553711,\n 113.9754867553711,\n 113.9754867553711,\n 113.9754867553711,\n 113.9754867553711,\n 113.9754867553711,\n 113.97551727294922,\n 113.97551727294922,\n 114.04563903808594,\n 114.04563903808594,\n 114.04563903808594,\n 114.04563903808594,\n 114.04563903808594,\n 114.04563903808594,\n 114.04563903808594,\n 114.04563903808594,\n 114.04563903808594,\n 114.04563903808594,\n 114.04563903808594,\n 114.04563903808594,\n 114.04563903808594,\n 114.04563903808594,\n 114.04563903808594,\n 122.85443878173828,\n 122.85443878173828,\n 122.85443878173828,\n 122.85443878173828,\n 122.85443878173828,\n 122.85443878173828,\n 127.32110595703125,\n 127.32110595703125,\n 130.64407348632812,\n 136.96327209472656,\n 136.96327209472656,\n 136.96327209472656,\n 136.9633026123047,\n 136.9633026123047,\n 136.9633331298828,\n 145.72410583496094,\n 145.72410583496094,\n 145.72410583496094,\n 145.81944274902344,\n 145.81944274902344,\n 145.81944274902344,\n 145.81944274902344,\n 145.81944274902344,\n 145.81944274902344,\n 157.73345947265625,\n 157.73345947265625,\n 157.73345947265625,\n 157.73345947265625,\n 157.73345947265625,\n 157.73345947265625,\n 157.73345947265625,\n 157.73345947265625,\n 157.73345947265625,\n 157.73345947265625,\n 157.73345947265625,\n 157.73345947265625,\n 157.73345947265625,\n 157.73345947265625,\n 157.73345947265625,\n 157.73345947265625,\n 157.73345947265625,\n 157.73345947265625,\n 157.73345947265625,\n 157.73345947265625,\n 157.73345947265625,\n 157.73345947265625,\n 157.7334747314453,\n 157.7334747314453,\n 157.7334747314453,\n 157.7334747314453,\n 157.7334747314453,\n 157.7334747314453,\n 157.7334747314453,\n 157.7334747314453,\n 157.7334747314453,\n 157.7334747314453,\n 157.7334747314453,\n 157.7334747314453,\n 157.7334747314453,\n 157.73348999023438,\n 161.11865234375,\n 161.11865234375,\n 161.11865234375,\n 161.11865234375,\n 161.11865234375,\n 161.11865234375,\n 161.11866760253906,\n 161.11866760253906,\n 161.11866760253906,\n 185.98460388183594,\n 185.98460388183594,\n 185.98460388183594,\n 185.98460388183594,\n 185.98460388183594,\n 185.98460388183594,\n 185.98460388183594,\n 185.98460388183594,\n 185.98460388183594,\n 185.98460388183594,\n 185.9846649169922,\n 185.9846649169922,\n 197.87844848632812,\n 212.62738037109375,\n 212.62738037109375,\n 212.62738037109375,\n 212.62738037109375,\n 212.6273956298828,\n 212.6273956298828,\n 218.91746520996094,\n 218.91746520996094,\n 218.91746520996094,\n 218.91746520996094,\n 218.91749572753906,\n 218.91749572753906,\n 218.91749572753906,\n 218.91749572753906,\n 218.91749572753906,\n 218.91749572753906,\n 218.91749572753906,\n 218.91749572753906,\n 248.5336151123047,\n 251.12103271484375,\n 251.12103271484375,\n 251.12103271484375,\n 251.12103271484375,\n 251.12103271484375,\n 251.12103271484375,\n 251.12103271484375,\n 251.12103271484375,\n 251.12103271484375,\n 251.12103271484375,\n 251.12103271484375,\n 251.1210479736328,\n 251.1210479736328,\n 251.1210479736328,\n 251.1210479736328,\n 251.1210479736328,\n 251.12106323242188,\n 251.12106323242188,\n 251.12106323242188,\n 251.12106323242188,\n 251.12106323242188,\n 256.33587646484375,\n 256.3359069824219,\n 256.3359069824219,\n 256.3359069824219,\n 256.3359069824219,\n 256.3359069824219,\n 256.3359375,\n 256.3359375,\n 256.3359375,\n 256.3359375,\n 256.3359375,\n 256.3359375,\n 261.23626708984375,\n 261.23626708984375,\n 261.23626708984375,\n 261.23626708984375,\n 261.23626708984375,\n 261.23626708984375,\n 261.23626708984375,\n 261.23626708984375,\n 261.23626708984375,\n 261.23626708984375,\n 261.23626708984375,\n 261.23626708984375,\n 261.23626708984375,\n 261.23626708984375,\n 261.23626708984375,\n 261.23626708984375,\n 261.23626708984375,\n 261.23626708984375,\n 261.23626708984375,\n 261.23626708984375,\n 261.23626708984375,\n 261.23626708984375,\n 261.23626708984375,\n 261.23626708984375,\n 272.061279296875,\n 272.061279296875,\n 272.061279296875,\n 272.061279296875,\n 272.0613098144531,\n 272.0613098144531,\n 272.0613098144531,\n 272.0613098144531,\n 272.0613098144531,\n 272.0613098144531,\n 272.0613098144531,\n 272.0613098144531,\n 280.9595947265625,\n 280.9595947265625,\n 280.9597473144531,\n 302.3932189941406,\n 302.3932189941406,\n 302.3932189941406,\n 302.3932189941406,\n 302.3932189941406,\n 302.3932189941406,\n 302.3932189941406,\n 302.3932189941406,\n 302.3932189941406,\n 302.3932189941406,\n 434.1182556152344,\n 460.968017578125,\n 460.968017578125,\n 460.968017578125,\n 460.968017578125,\n 460.968017578125,\n 460.968017578125,\n 460.968017578125,\n 460.968017578125,\n 460.968017578125,\n 460.968017578125,\n 464.1251220703125,\n 464.1251220703125,\n 464.1251220703125,\n 464.1251220703125,\n 464.1251220703125,\n 464.1251220703125,\n 464.1251220703125,\n 464.1251220703125,\n 464.1251220703125,\n 464.1251220703125,\n 464.12518310546875,\n 488.9830017089844,\n 488.9830017089844,\n 488.9830017089844,\n 488.9830017089844,\n 488.9830017089844,\n 488.9830017089844,\n 488.9830322265625,\n 488.9830322265625,\n 488.9830322265625,\n 546.5418090820312,\n 546.5418090820312,\n 546.5418090820312,\n 546.5418090820312,\n 546.5418090820312,\n 552.8742065429688,\n 552.8742065429688,\n 552.8742065429688,\n 552.8742065429688,\n 552.8742065429688,\n 552.8742065429688,\n 552.8742065429688,\n 552.8742065429688,\n 552.8742065429688,\n 552.8742065429688,\n 552.8742065429688,\n 552.8742065429688,\n 552.8742065429688,\n 552.8742065429688,\n 552.8742065429688,\n 552.8742065429688,\n 552.8742065429688,\n 552.8742065429688,\n 552.8742065429688,\n 552.8742065429688,\n 612.4586181640625,\n 612.4586181640625,\n 612.4586181640625,\n 612.4586181640625,\n 612.4586181640625,\n 612.4586181640625,\n 691.036376953125,\n 691.036376953125,\n 691.036376953125,\n 691.036376953125,\n 691.036376953125,\n 691.036376953125,\n 691.0364379882812,\n 691.0364379882812,\n 718.30029296875,\n 718.30029296875,\n 718.30029296875,\n 718.30029296875,\n 718.30029296875,\n 718.30029296875,\n 829.119873046875,\n 829.1201782226562,\n 858.9623413085938,\n 858.9623413085938,\n 858.9623413085938,\n 875.40087890625,\n 1319.8939208984375,\n 1319.8939208984375,\n 1319.8939208984375,\n 1505.940185546875,\n 1505.940185546875,\n 1823.1444091796875]"
     },
     "execution_count": 79,
     "metadata": {},
     "output_type": "execute_result"
    }
   ],
   "source": [
    "sorted(train_negative_distances)"
   ],
   "metadata": {
    "collapsed": false,
    "pycharm": {
     "name": "#%%\n"
    }
   }
  },
  {
   "cell_type": "code",
   "execution_count": 80,
   "outputs": [
    {
     "data": {
      "text/plain": "11"
     },
     "execution_count": 80,
     "metadata": {},
     "output_type": "execute_result"
    }
   ],
   "source": [
    "len(train_positive_distances)"
   ],
   "metadata": {
    "collapsed": false,
    "pycharm": {
     "name": "#%%\n"
    }
   }
  },
  {
   "cell_type": "code",
   "execution_count": 81,
   "outputs": [
    {
     "data": {
      "text/plain": "409"
     },
     "execution_count": 81,
     "metadata": {},
     "output_type": "execute_result"
    }
   ],
   "source": [
    "len(train_negative_distances)"
   ],
   "metadata": {
    "collapsed": false,
    "pycharm": {
     "name": "#%%\n"
    }
   }
  },
  {
   "cell_type": "code",
   "execution_count": 91,
   "outputs": [],
   "source": [
    "def analyze_model_distances(trainer, graph_metric_nn, pairs, plot_range_max=20):\n",
    "    train_positive_distances, train_negative_distances = get_examples_distances(trainer, graph_metric_nn, pairs)\n",
    "    print(f\"positive pairs distances= {len(train_positive_distances)}\")\n",
    "    print(f\"negative pairs distances= {len(train_negative_distances)}\")\n",
    "    print(f\"max positive pairs distance = {max(train_positive_distances)}\")\n",
    "    print(f\"min negative pairs distance = {min(train_negative_distances)}\")\n",
    "    plot_histogram(train_positive_distances, \"positive pair distances\", min_range=0, max_range=plot_range_max)\n",
    "    plot_histogram(train_negative_distances, \"negative pair distances\", min_range=0, max_range=plot_range_max)\n",
    "    calc_margin_loss(torch.tensor(train_positive_distances+train_negative_distances), torch.cat((torch.ones(len(train_positive_distances)), torch.zeros(len(train_negative_distances)))), margin = solver_params['margin_loss_margin_value'])"
   ],
   "metadata": {
    "collapsed": false,
    "pycharm": {
     "name": "#%%\n"
    }
   }
  },
  {
   "cell_type": "code",
   "execution_count": 92,
   "outputs": [
    {
     "name": "stdout",
     "output_type": "stream",
     "text": [
      "positive pairs distances= 2916\n",
      "negative pairs distances= 85074\n",
      "max positive pairs distance = 7.46279149588247e-11\n",
      "min negative pairs distance = 3.2498598098754883\n",
      "0\n",
      "20\n"
     ]
    },
    {
     "data": {
      "text/plain": "<Figure size 432x288 with 1 Axes>",
      "image/png": "[encoded data removed]"
     },
     "metadata": {
      "needs_background": "light"
     },
     "output_type": "display_data"
    },
    {
     "name": "stdout",
     "output_type": "stream",
     "text": [
      "0\n",
      "20\n"
     ]
    },
    {
     "data": {
      "text/plain": "<Figure size 432x288 with 1 Axes>",
      "image/png": "[encoded data removed]"
     },
     "metadata": {
      "needs_background": "light"
     },
     "output_type": "display_data"
    },
    {
     "name": "stdout",
     "output_type": "stream",
     "text": [
      "6.247120154512231e-09\n",
      "187.58218383789062\n"
     ]
    }
   ],
   "source": [
    "# Analyze all dataset pairs\n",
    "analyze_model_distances(trainer, graph_metric_nn, brute_force_train_samples_list)"
   ],
   "metadata": {
    "collapsed": false,
    "pycharm": {
     "name": "#%%\n"
    }
   }
  },
  {
   "cell_type": "code",
   "execution_count": 93,
   "outputs": [
    {
     "name": "stdout",
     "output_type": "stream",
     "text": [
      "positive pairs distances= 1422\n",
      "negative pairs distances= 18279\n",
      "max positive pairs distance = 1.964028939482887e-10\n",
      "min negative pairs distance = 7.533687591552734\n",
      "0\n",
      "20\n"
     ]
    },
    {
     "data": {
      "text/plain": "<Figure size 432x288 with 1 Axes>",
      "image/png": "[encoded data removed]"
     },
     "metadata": {
      "needs_background": "light"
     },
     "output_type": "display_data"
    },
    {
     "name": "stdout",
     "output_type": "stream",
     "text": [
      "0\n",
      "20\n"
     ]
    },
    {
     "data": {
      "text/plain": "<Figure size 432x288 with 1 Axes>",
      "image/png": "[encoded data removed]"
     },
     "metadata": {
      "needs_background": "light"
     },
     "output_type": "display_data"
    },
    {
     "name": "stdout",
     "output_type": "stream",
     "text": [
      "4.153124955053045e-09\n",
      "0.0\n"
     ]
    }
   ],
   "source": [
    "# Analyze just training pairs\n",
    "analyze_model_distances(trainer, graph_metric_nn, train_pairs)"
   ],
   "metadata": {
    "collapsed": false,
    "pycharm": {
     "name": "#%%\n"
    }
   }
  },
  {
   "cell_type": "code",
   "execution_count": 94,
   "outputs": [
    {
     "name": "stdout",
     "output_type": "stream",
     "text": [
      "positive pairs distances= 1494\n",
      "negative pairs distances= 22816\n",
      "max positive pairs distance = 2.7696955839928705e-11\n",
      "min negative pairs distance = 2.322439670562744\n",
      "0\n",
      "20\n"
     ]
    },
    {
     "data": {
      "text/plain": "<Figure size 432x288 with 1 Axes>",
      "image/png": "[encoded data removed]"
     },
     "metadata": {
      "needs_background": "light"
     },
     "output_type": "display_data"
    },
    {
     "name": "stdout",
     "output_type": "stream",
     "text": [
      "0\n",
      "20\n"
     ]
    },
    {
     "data": {
      "text/plain": "<Figure size 432x288 with 1 Axes>",
      "image/png": "[encoded data removed]"
     },
     "metadata": {
      "needs_background": "light"
     },
     "output_type": "display_data"
    },
    {
     "name": "stdout",
     "output_type": "stream",
     "text": [
      "1.735354526744004e-09\n",
      "795.1192016601562\n"
     ]
    }
   ],
   "source": [
    "# Analyze just validation pairs\n",
    "analyze_model_distances(trainer, graph_metric_nn, test_pairs)"
   ],
   "metadata": {
    "collapsed": false,
    "pycharm": {
     "name": "#%%\n"
    }
   }
  },
  {
   "cell_type": "code",
   "execution_count": null,
   "outputs": [],
   "source": [],
   "metadata": {
    "collapsed": false,
    "pycharm": {
     "name": "#%%\n"
    }
   }
  }
 ],
 "metadata": {
  "kernelspec": {
   "display_name": "Python 3 (ipykernel)",
   "language": "python",
   "name": "python3"
  },
  "language_info": {
   "codemirror_mode": {
    "name": "ipython",
    "version": 3
   },
   "file_extension": ".py",
   "mimetype": "text/x-python",
   "name": "python",
   "nbconvert_exporter": "python",
   "pygments_lexer": "ipython3",
   "version": "3.8.10"
  }
 },
 "nbformat": 4,
 "nbformat_minor": 4
}