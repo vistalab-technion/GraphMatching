{
 "cells": [
  {
   "cell_type": "markdown",
   "metadata": {
    "collapsed": false,
    "jupyter": {
     "outputs_hidden": false
    }
   },
   "source": [
    "Imports"
   ]
  },
  {
   "cell_type": "code",
   "execution_count": 1,
   "metadata": {},
   "outputs": [],
   "source": [
    "import sys\n",
    "sys.path.append(\"/home/sanketh/DANI/GraphMatching/\")\n",
    "import torch.multiprocessing as mp\n",
    "mp.set_start_method(\"spawn\")"
   ]
  },
  {
   "cell_type": "code",
   "execution_count": 2,
   "metadata": {
    "collapsed": false,
    "jupyter": {
     "outputs_hidden": false
    },
    "pycharm": {
     "name": "#%%\n"
    }
   },
   "outputs": [],
   "source": [
    "import pathlib\n",
    "import os\n",
    "import numpy as np\n",
    "import torch\n",
    "from torch import optim\n",
    "from subgraph_matching_via_nn.data.data_loaders import load_graph\n",
    "from powerful_gnns.util import S2VGraph\n",
    "from powerful_gnns.util import load_data_given_graph_list_and_label_map\n",
    "from powerful_gnns.models.graphcnn import GraphCNN\n",
    "from powerful_gnns.util import separate_data\n",
    "from powerful_gnns.classifier_training import train, test\n",
    "from common.EmbeddingCalculationsService import pairwise_l2_distance, show_distance_matrix, \\\n",
    "    calculate_energy_based_hidden_rep\n",
    "from subgraph_matching_via_nn.training.PairSampleInfo import Pair_Sample_Info\n",
    "from subgraph_matching_via_nn.data.annotated_graph import AnnotatedGraph\n",
    "from subgraph_matching_via_nn.graph_metric_networks.graph_metric_nn import MLPGraphMetricNetwork\n",
    "from subgraph_matching_via_nn.graph_metric_networks.embedding_metric_nn import EmbeddingMetricNetwork\n",
    "from subgraph_matching_via_nn.graph_embedding_networks.gnn_embedding_network import GNNEmbeddingNetwork\n",
    "from subgraph_matching_via_nn.training.trainer.S2VGraphEmbeddingSimilarityMetricTrainer import \\\n",
    "    S2VGraphEmbeddingSimilarityMetricTrainer\n",
    "from subgraph_matching_via_nn.graph_metric_networks.graph_metric_nn import SingleEmbeddingGraphMetricNetwork\n",
    "from subgraph_matching_via_nn.graph_metric_networks.graph_metric_nn import S2VGraphEmbeddingGraphMetricNetwork\n",
    "from networkx import NetworkXError\n",
    "import itertools\n",
    "import networkx as nx\n",
    "import contextlib\n",
    "import joblib\n",
    "from tqdm import tqdm\n",
    "from joblib import Parallel, delayed\n",
    "from os import cpu_count\n",
    "import pickle\n",
    "from common.graph_utils import GED_graph_generator"
   ]
  },
  {
   "cell_type": "code",
   "execution_count": 3,
   "metadata": {
    "collapsed": false,
    "jupyter": {
     "outputs_hidden": false
    },
    "pycharm": {
     "name": "#%%\n"
    }
   },
   "outputs": [],
   "source": [
    "@contextlib.contextmanager\n",
    "def tqdm_joblib(tqdm_object):\n",
    "    \"\"\"Context manager to patch joblib to report into tqdm progress bar given as argument\"\"\"\n",
    "    class TqdmBatchCompletionCallback(joblib.parallel.BatchCompletionCallBack):\n",
    "        def __call__(self, *args, **kwargs):\n",
    "            tqdm_object.update(n=self.batch_size)\n",
    "            return super().__call__(*args, **kwargs)\n",
    "\n",
    "    old_batch_callback = joblib.parallel.BatchCompletionCallBack\n",
    "    joblib.parallel.BatchCompletionCallBack = TqdmBatchCompletionCallback\n",
    "    try:\n",
    "        yield tqdm_object\n",
    "    finally:\n",
    "        joblib.parallel.BatchCompletionCallBack = old_batch_callback\n",
    "        tqdm_object.close()"
   ]
  },
  {
   "cell_type": "code",
   "execution_count": 4,
   "metadata": {},
   "outputs": [],
   "source": [
    "def generate_s2v_graphs(networkx_graphs, print_stats=True):\n",
    "    g_list = []\n",
    "    label_dict = {}\n",
    "    for networkx_graph in networkx_graphs:\n",
    "        g_list.append(S2VGraph(networkx_graph, label=None))\n",
    "\n",
    "        if not label in label_dict:\n",
    "            mapped = len(label_dict)\n",
    "            label_dict[label] = mapped\n",
    "\n",
    "    graphs, _ = load_data_given_graph_list_and_label_map(g_list, label_dict, degree_as_tag=True, device=device, print_stats=print_stats)\n",
    "    for s2v_graph in graphs:\n",
    "        # convert graph features here, not only in trainer! (heatmap is probably wrong)\n",
    "        annotated_graph = AnnotatedGraph(s2v_graph.g)\n",
    "        s2v_graph.node_features = annotated_graph.node_indicator.to(device=device)\n",
    "\n",
    "    return graphs"
   ]
  },
  {
   "cell_type": "code",
   "execution_count": 5,
   "metadata": {
    "collapsed": false,
    "jupyter": {
     "outputs_hidden": false
    },
    "pycharm": {
     "name": "#%%\n"
    }
   },
   "outputs": [],
   "source": [
    "goal_subcircuit_name = 'alu'\n",
    "DATA_PATH = 'C:/Users/kogan/OneDrive/Desktop/Research/AMIT/GraphMatching/subgraph_matching_via_nn/data/subcircuits/'\n",
    "DATA_PATH = '../subgraph_matching_via_nn/data/subcircuits/'\n",
    "\n",
    "desktop = pathlib.Path(DATA_PATH)\n",
    "subgraphs = []\n",
    "labels = []\n",
    "for circuit_dir in desktop.iterdir():\n",
    "    if circuit_dir.is_dir():\n",
    "        for subcircuit_file in circuit_dir.iterdir():\n",
    "            if subcircuit_file.is_file():\n",
    "                file_name = subcircuit_file.name\n",
    "                if file_name == 'full_graph.p':\n",
    "                    file_rel_path = f\"{os.sep}{file_name}\"\n",
    "                    loader_params = {\n",
    "                     'data_path' : str(circuit_dir),\n",
    "                     'g_full_path': file_rel_path,\n",
    "                     'g_sub_path': file_rel_path}\n",
    "\n",
    "                    sub_graph = \\\n",
    "                        load_graph(type='subcircuit',\n",
    "                                   loader_params=loader_params)\n",
    "\n",
    "                    if goal_subcircuit_name in circuit_dir.name:\n",
    "                        labels.append(1)\n",
    "                    else:\n",
    "                        # continue #TODO?\n",
    "                        labels.append(0)\n",
    "                    subgraphs.append(sub_graph)\n",
    "\n",
    "labels = np.array(labels, dtype='float32')\n",
    "N = len(subgraphs)\n",
    "N_training = int(2 / 3 * N)"
   ]
  },
  {
   "cell_type": "code",
   "execution_count": 6,
   "metadata": {
    "collapsed": false,
    "jupyter": {
     "outputs_hidden": false
    },
    "pycharm": {
     "name": "#%%\n"
    }
   },
   "outputs": [],
   "source": [
    "subgraphs = []\n",
    "labels = []\n",
    "\n",
    "circuit_base_dir = 'C:\\\\Users\\\\kogan\\\\OneDrive\\\\Desktop\\\\Research\\\\AMIT\\\\GraphMatching\\\\subgraph_matching_via_nn\\\\data\\\\subcircuits\\\\'\n",
    "circuit_base_dir = '/home/sanketh/DANI/GraphMatching/subgraph_matching_via_nn/data/subcircuits/'\n",
    "\n",
    "\n",
    "for circuit_file_name in ['adder_4', 'alu_4', 'alu_8', 'alu_16', 'alu_32', 'mul_4_4', 'mul_4_8', 'mul_8_8', 'mul_16_16', 'mul_16_32']:\n",
    "    file_rel_path = 'full_graph.p'\n",
    "    circuit_dir = f\"{circuit_base_dir}{circuit_file_name}{os.sep}\"\n",
    "    loader_params = {\n",
    "     'data_path' : str(circuit_dir),\n",
    "     'g_full_path': file_rel_path,\n",
    "     'g_sub_path': file_rel_path}\n",
    "\n",
    "    sub_graph = \\\n",
    "        load_graph(type='subcircuit',\n",
    "                   loader_params=loader_params)\n",
    "    subgraphs.append(sub_graph)\n",
    "    labels.append(0)\n",
    "labels[0] = 1\n",
    "\n",
    "N = len(subgraphs)\n",
    "N_training = int(2 / 3 * N)"
   ]
  },
  {
   "cell_type": "markdown",
   "metadata": {
    "collapsed": false,
    "jupyter": {
     "outputs_hidden": false
    }
   },
   "source": [
    "Transform graphs into S2VGraph-s"
   ]
  },
  {
   "cell_type": "code",
   "execution_count": 7,
   "metadata": {
    "collapsed": false,
    "jupyter": {
     "outputs_hidden": false
    },
    "pycharm": {
     "name": "#%%\n"
    }
   },
   "outputs": [],
   "source": [
    "g_list = []\n",
    "label_dict = {}\n",
    "for subgraph, label in zip(subgraphs, labels):\n",
    "    g_list.append(S2VGraph(subgraph.G, label))\n",
    "\n",
    "    if not label in label_dict:\n",
    "        mapped = len(label_dict)\n",
    "        label_dict[label] = mapped"
   ]
  },
  {
   "cell_type": "markdown",
   "metadata": {
    "collapsed": false,
    "jupyter": {
     "outputs_hidden": false
    }
   },
   "source": [
    "Process graph features"
   ]
  },
  {
   "cell_type": "code",
   "execution_count": 8,
   "metadata": {
    "collapsed": false,
    "jupyter": {
     "outputs_hidden": false
    },
    "pycharm": {
     "name": "#%%\n"
    }
   },
   "outputs": [
    {
     "name": "stdout",
     "output_type": "stream",
     "text": [
      "# classes: 2\n",
      "# maximum node tag: 48\n",
      "# data: 10\n"
     ]
    }
   ],
   "source": [
    "device = 'cpu' if torch.cuda.is_available() else 'cpu'\n",
    "\n",
    "graphs, num_classes = load_data_given_graph_list_and_label_map(g_list, label_dict, degree_as_tag=True, device=device)"
   ]
  },
  {
   "cell_type": "markdown",
   "metadata": {
    "collapsed": false,
    "jupyter": {
     "outputs_hidden": false
    }
   },
   "source": [
    "Setup model and training"
   ]
  },
  {
   "cell_type": "code",
   "execution_count": 9,
   "metadata": {
    "collapsed": false,
    "jupyter": {
     "outputs_hidden": false
    },
    "pycharm": {
     "name": "#%%\n"
    }
   },
   "outputs": [],
   "source": [
    "#set up seeds and gpu device\n",
    "torch.manual_seed(0)\n",
    "np.random.seed(0)\n",
    "if torch.cuda.is_available():\n",
    "    torch.cuda.manual_seed_all(0)\n",
    "\n",
    "##k-fold cross validation. Conduct an experiment on the fold specified by args.fold_idx.\n",
    "# train_graphs, test_graphs = separate_data(graphs, seed=0, fold_idx=0, n_splits=1)\n",
    "# train_graphs = graphs[:4]\n",
    "# test_graphs = graphs[4:]\n",
    "train_graphs = test_graphs = graphs\n",
    "\n",
    "model = GraphCNN(num_layers=5, num_mlp_layers = 2, input_dim=train_graphs[0].node_features.shape[1], hidden_dim=64, output_dim=num_classes, final_dropout=0.5, learn_eps=False, graph_pooling_type=\"sum\", neighbor_pooling_type=\"sum\", device=device)\n",
    "\n",
    "optimizer = optim.Adam(model.parameters(), lr=0.01)\n",
    "scheduler = optim.lr_scheduler.StepLR(optimizer, step_size=50, gamma=0.5)"
   ]
  },
  {
   "cell_type": "markdown",
   "metadata": {
    "collapsed": false,
    "jupyter": {
     "outputs_hidden": false
    }
   },
   "source": [
    "Train and Test"
   ]
  },
  {
   "cell_type": "code",
   "execution_count": 10,
   "metadata": {
    "collapsed": false,
    "jupyter": {
     "outputs_hidden": false
    },
    "pycharm": {
     "name": "#%%\n"
    }
   },
   "outputs": [
    {
     "name": "stderr",
     "output_type": "stream",
     "text": [
      "/home/sanketh/.local/share/virtualenvs/GraphMatching-_Kt3QSDD/lib/python3.11/site-packages/torch/optim/lr_scheduler.py:136: UserWarning: Detected call of `lr_scheduler.step()` before `optimizer.step()`. In PyTorch 1.1.0 and later, you should call them in the opposite order: `optimizer.step()` before `lr_scheduler.step()`.  Failure to do this will result in PyTorch skipping the first value of the learning rate schedule. See more details at https://pytorch.org/docs/stable/optim.html#how-to-adjust-learning-rate\n",
      "  warnings.warn(\"Detected call of `lr_scheduler.step()` before `optimizer.step()`. \"\n",
      "  0%|                                                                                                              | 0/50 [00:00<?, ?batch/s]/home/sanketh/DANI/GraphMatching/powerful_gnns/models/graphcnn.py:150: UserWarning: torch.sparse.SparseTensor(indices, values, shape, *, device=) is deprecated.  Please use torch.sparse_coo_tensor(indices, values, shape, dtype=, device=). (Triggered internally at ../torch/csrc/utils/tensor_new.cpp:605.)\n",
      "  graph_pool = torch.sparse.FloatTensor(idx, elem, torch.Size([len(batch_graph), start_idx[-1]]))\n",
      "epoch: 1: 100%|███████████████████████████████████████████████████████████████████████████████████████████| 50/50 [00:01<00:00, 48.78batch/s]\n"
     ]
    },
    {
     "name": "stdout",
     "output_type": "stream",
     "text": [
      "loss training: 1.023500\n",
      "accuracy train: 1.000000 test: 1.000000\n",
      "\n",
      "Parameter containing:\n",
      "tensor([0., 0., 0., 0.], requires_grad=True)\n"
     ]
    },
    {
     "name": "stderr",
     "output_type": "stream",
     "text": [
      "epoch: 2: 100%|███████████████████████████████████████████████████████████████████████████████████████████| 50/50 [00:00<00:00, 50.61batch/s]\n"
     ]
    },
    {
     "name": "stdout",
     "output_type": "stream",
     "text": [
      "loss training: 0.161671\n",
      "accuracy train: 1.000000 test: 1.000000\n",
      "\n",
      "Parameter containing:\n",
      "tensor([0., 0., 0., 0.], requires_grad=True)\n"
     ]
    },
    {
     "name": "stderr",
     "output_type": "stream",
     "text": [
      "epoch: 3: 100%|███████████████████████████████████████████████████████████████████████████████████████████| 50/50 [00:00<00:00, 50.49batch/s]\n"
     ]
    },
    {
     "name": "stdout",
     "output_type": "stream",
     "text": [
      "loss training: 0.043936\n",
      "accuracy train: 0.900000 test: 0.900000\n",
      "\n",
      "Parameter containing:\n",
      "tensor([0., 0., 0., 0.], requires_grad=True)\n"
     ]
    }
   ],
   "source": [
    "from livelossplot import PlotLosses\n",
    "\n",
    "liveloss = PlotLosses(mode='notebook')\n",
    "\n",
    "filename = \"\"\n",
    "epochs = 3\n",
    "k_update_plot = 25\n",
    "\n",
    "for epoch in range(1, epochs + 1):\n",
    "    scheduler.step()\n",
    "\n",
    "    avg_loss = train(iters_per_epoch=50, batch_size=len(train_graphs), model=model, device=device, train_graphs=train_graphs, optimizer=optimizer, epoch=epoch)\n",
    "    acc_train, acc_test = test(model, device, train_graphs, test_graphs, epoch)\n",
    "\n",
    "    if not filename == \"\":\n",
    "        with open(filename, 'w') as f:\n",
    "            f.write(\"%f %f %f\" % (avg_loss, acc_train, acc_test))\n",
    "            f.write(\"\\n\")\n",
    "    print(\"\")\n",
    "\n",
    "    print(model.eps)\n",
    "\n",
    "    if epoch % k_update_plot == 0:\n",
    "        liveloss.update({'train error': avg_loss.item()})\n",
    "        liveloss.send()"
   ]
  },
  {
   "cell_type": "markdown",
   "metadata": {
    "collapsed": false,
    "jupyter": {
     "outputs_hidden": false
    }
   },
   "source": [
    "Show predictions"
   ]
  },
  {
   "cell_type": "code",
   "execution_count": 11,
   "metadata": {
    "collapsed": false,
    "jupyter": {
     "outputs_hidden": false
    },
    "pycharm": {
     "name": "#%%\n"
    }
   },
   "outputs": [
    {
     "name": "stdout",
     "output_type": "stream",
     "text": [
      "tensor([[0],\n",
      "        [1],\n",
      "        [1],\n",
      "        [1],\n",
      "        [1],\n",
      "        [1],\n",
      "        [1],\n",
      "        [1],\n",
      "        [1],\n",
      "        [0]])\n"
     ]
    }
   ],
   "source": [
    "model.eval()\n",
    "pred = model(train_graphs).max(1, keepdim=True)[1]\n",
    "print(pred)"
   ]
  },
  {
   "cell_type": "code",
   "execution_count": 12,
   "metadata": {
    "collapsed": false,
    "jupyter": {
     "outputs_hidden": false
    },
    "pycharm": {
     "name": "#%%\n"
    }
   },
   "outputs": [
    {
     "name": "stdout",
     "output_type": "stream",
     "text": [
      "tensor([[0],\n",
      "        [1],\n",
      "        [1],\n",
      "        [1],\n",
      "        [1],\n",
      "        [1],\n",
      "        [1],\n",
      "        [1],\n",
      "        [1],\n",
      "        [0]])\n"
     ]
    }
   ],
   "source": [
    "pred = model(test_graphs).max(1, keepdim=True)[1]\n",
    "print(pred)"
   ]
  },
  {
   "cell_type": "markdown",
   "metadata": {
    "collapsed": false,
    "jupyter": {
     "outputs_hidden": false
    }
   },
   "source": [
    "show all distances matrix (margin)"
   ]
  },
  {
   "cell_type": "code",
   "execution_count": 13,
   "metadata": {
    "collapsed": false,
    "jupyter": {
     "outputs_hidden": false
    },
    "pycharm": {
     "name": "#%%\n"
    }
   },
   "outputs": [],
   "source": [
    "all_embeddings = model.get_embedding(graphs)"
   ]
  },
  {
   "cell_type": "code",
   "execution_count": 14,
   "metadata": {
    "collapsed": false,
    "jupyter": {
     "outputs_hidden": false
    },
    "pycharm": {
     "name": "#%%\n"
    }
   },
   "outputs": [
    {
     "data": {
      "image/png": "[encoded data removed]",
      "text/plain": [
       "<Figure size 640x480 with 2 Axes>"
      ]
     },
     "metadata": {},
     "output_type": "display_data"
    },
    {
     "data": {
      "image/png": "[encoded data removed]",
      "text/plain": [
       "<Figure size 640x480 with 2 Axes>"
      ]
     },
     "metadata": {},
     "output_type": "display_data"
    }
   ],
   "source": [
    "l2_dists = pairwise_l2_distance(all_embeddings)\n",
    "\n",
    "rounding_constant = 10 ** 3\n",
    "cos_dists = torch.round(calculate_energy_based_hidden_rep(all_embeddings, threshold=-1) * rounding_constant) / rounding_constant\n",
    "\n",
    "show_distance_matrix(l2_dists, \"l2-distances\")\n",
    "show_distance_matrix(cos_dists, \"cosine-distances\")"
   ]
  },
  {
   "cell_type": "markdown",
   "metadata": {
    "collapsed": false,
    "jupyter": {
     "outputs_hidden": false
    }
   },
   "source": [
    "what is the smallest margin?"
   ]
  },
  {
   "cell_type": "code",
   "execution_count": 15,
   "metadata": {
    "collapsed": false,
    "jupyter": {
     "outputs_hidden": false
    },
    "pycharm": {
     "name": "#%%\n"
    }
   },
   "outputs": [
    {
     "name": "stdout",
     "output_type": "stream",
     "text": [
      "0.001544448547065258\n",
      "0.0\n"
     ]
    }
   ],
   "source": [
    "def get_min_non_diagonal_entry(tensor_):\n",
    "    tensor_with_inf_diag = tensor_ + torch.diag_embed(torch.ones(tensor_.shape[0], device=device) * float(\"inf\"))\n",
    "    return torch.min(tensor_with_inf_diag).item()\n",
    "\n",
    "print(get_min_non_diagonal_entry(l2_dists))\n",
    "print(get_min_non_diagonal_entry(cos_dists))"
   ]
  },
  {
   "cell_type": "markdown",
   "metadata": {
    "collapsed": false,
    "jupyter": {
     "outputs_hidden": false
    }
   },
   "source": [
    "Contrastive loss training"
   ]
  },
  {
   "cell_type": "markdown",
   "metadata": {
    "collapsed": false,
    "jupyter": {
     "outputs_hidden": false
    }
   },
   "source": [
    "Assemble graph pairs data"
   ]
  },
  {
   "cell_type": "code",
   "execution_count": 16,
   "metadata": {
    "collapsed": false,
    "jupyter": {
     "outputs_hidden": false
    },
    "pycharm": {
     "name": "#%%\n"
    }
   },
   "outputs": [],
   "source": [
    "train_samples_list = []\n",
    "reference_subgraph_index = 0\n",
    "reference_subgraph = subgraphs[reference_subgraph_index]\n",
    "negative_examples_subgraphs = subgraphs[1:]\n",
    "\n",
    "for subgraph in subgraphs:\n",
    "    if subgraph == reference_subgraph:\n",
    "        is_negative_example = False\n",
    "    else:\n",
    "        is_negative_example = True\n",
    "\n",
    "    G1_annotated = AnnotatedGraph(subgraph.G)\n",
    "    G2_annotated = AnnotatedGraph(reference_subgraph.G)\n",
    "    train_samples_list.append(Pair_Sample_Info(\n",
    "        subgraph=G1_annotated,\n",
    "        masked_graph=G2_annotated,\n",
    "        is_negative_sample=torch.tensor(is_negative_example)))\n",
    "\n",
    "val_samples_list = train_samples_list"
   ]
  },
  {
   "cell_type": "markdown",
   "metadata": {
    "collapsed": false,
    "jupyter": {
     "outputs_hidden": false
    }
   },
   "source": [
    "Define GNN model"
   ]
  },
  {
   "cell_type": "code",
   "execution_count": 17,
   "metadata": {
    "collapsed": false,
    "jupyter": {
     "outputs_hidden": false
    },
    "pycharm": {
     "name": "#%%\n"
    }
   },
   "outputs": [],
   "source": [
    "# input dim matches the node mask (w) shape\n",
    "input_dim = S2VGraphEmbeddingSimilarityMetricTrainer.get_model_expected_input_dim(train_samples_list[0])\n",
    "model_factory_func = lambda device: GraphCNN(num_layers=5, num_mlp_layers = 2, input_dim=input_dim, hidden_dim=64, output_dim=num_classes, final_dropout=0.5, learn_eps=False, graph_pooling_type=\"sum\", neighbor_pooling_type=\"sum\", device=device)"
   ]
  },
  {
   "cell_type": "markdown",
   "metadata": {
    "collapsed": false,
    "jupyter": {
     "outputs_hidden": false
    }
   },
   "source": [
    "Define graph metric to train, and the trainer"
   ]
  },
  {
   "cell_type": "code",
   "execution_count": 18,
   "metadata": {
    "collapsed": false,
    "jupyter": {
     "outputs_hidden": false
    },
    "pycharm": {
     "name": "#%%\n"
    }
   },
   "outputs": [],
   "source": [
    "solver_params = {\n",
    "    \"device\": device,\n",
    "    \"lr\": 1e-3, \"weight_decay\": 1e-3,\n",
    "    \"max_epochs\": 50,\n",
    "    \"cycle_patience\": 5, \"step_size_up\": 10, \"step_size_down\": 10,\n",
    "    \"loss_convergence_threshold\": None,\n",
    "    \"train_loss_convergence_threshold\": 1e-3,\n",
    "    \"successive_convergence_min_iterations_amount\": 5,\n",
    "    \"margin_loss_margin_value\": 5,\n",
    "    \"max_grad_norm\": 0.1,\n",
    "    \"k_update_plot\": 1,\n",
    "    \"train_monitoring_epochs_pace\": 5,\n",
    "    \"batch_size\": len(subgraphs),\n",
    "    \"num_workers\": 0,\n",
    "    \"is_use_model_compliation\": False, #Only supported for Pytorch > 2.0\n",
    "    \"model_checkpoint_epochs_pace\": 10,\n",
    "}\n",
    "\n",
    "problem_params = {\"input_dim\": input_dim}\n",
    "\n",
    "dump_base_path = f\".{os.sep}runlogs\"\n",
    "\n",
    "def create_graph_metric_net(model_factory_func, device):\n",
    "    model = model_factory_func(device=device)\n",
    "\n",
    "    loss_fun = torch.nn.MSELoss()\n",
    "    embedding_metric_network = EmbeddingMetricNetwork(loss_fun=loss_fun)\n",
    "\n",
    "    gnn_embedding_nn = GNNEmbeddingNetwork(gnn_model=model)\n",
    "\n",
    "    # embedding_nns = \\\n",
    "    #     [\n",
    "    #         GNNEmbeddingNetwork(gnn_model=model),\n",
    "    #     ]\n",
    "\n",
    "    graph_metric_nn = S2VGraphEmbeddingGraphMetricNetwork(embedding_network=gnn_embedding_nn,\n",
    "                                           embdding_metric_network=embedding_metric_network,\n",
    "                                           device=device)\n",
    "\n",
    "    # graph_metric_nn = SingleEmbeddingGraphMetricNetwork(embedding_network=embedding_nns[0],\n",
    "    #                                        embdding_metric_network=embedding_metric_network,\n",
    "    #                                        device=device)\n",
    "\n",
    "    # graph_metric_nn = MLPGraphMetricNetwork(embedding_networks=embedding_nns,\n",
    "    #                                         embdding_metric_network=embedding_metric_network,\n",
    "    #                                         device=device)\n",
    "\n",
    "    return graph_metric_nn, model\n",
    "\n",
    "def init_embedding_net_and_trainer(model_factory_func, graph_metric_nn_checkpoint_path=None):\n",
    "\n",
    "    # must start on CPU to allow moving model to GPU, due to existing pytorch bug\n",
    "    device = 'cpu'\n",
    "    graph_metric_nn, model = create_graph_metric_net(model_factory_func, device)\n",
    "\n",
    "    if graph_metric_nn_checkpoint_path is not None:\n",
    "        graph_metric_nn.load_state_dict(torch.load(graph_metric_nn_checkpoint_path, map_location=device))\n",
    "        model = graph_metric_nn.embedding_networks[0].gnn_model\n",
    "\n",
    "    if solver_params['is_use_model_compliation']:\n",
    "        graph_metric_nn = torch.compile(graph_metric_nn)\n",
    "        model = graph_metric_nn.embedding_networks[0].gnn_model\n",
    "\n",
    "    trainer = S2VGraphEmbeddingSimilarityMetricTrainer(graph_metric_nn, dump_base_path,\n",
    "                                      problem_params, solver_params)\n",
    "\n",
    "    return trainer, graph_metric_nn, model\n",
    "\n",
    "trainer, graph_metric_nn, model = init_embedding_net_and_trainer(model_factory_func)"
   ]
  },
  {
   "cell_type": "markdown",
   "metadata": {
    "collapsed": false,
    "jupyter": {
     "outputs_hidden": false
    }
   },
   "source": [
    "Train"
   ]
  },
  {
   "cell_type": "code",
   "execution_count": 19,
   "metadata": {
    "collapsed": false,
    "jupyter": {
     "outputs_hidden": false
    },
    "pycharm": {
     "name": "#%%\n"
    }
   },
   "outputs": [
    {
     "name": "stdout",
     "output_type": "stream",
     "text": [
      "# classes: 1\n",
      "# maximum node tag: 48\n",
      "# data: 10\n"
     ]
    },
    {
     "data": {
      "image/png": "[encoded data removed]",
      "text/plain": [
       "<Figure size 640x480 with 2 Axes>"
      ]
     },
     "metadata": {},
     "output_type": "display_data"
    },
    {
     "data": {
      "image/png": "[encoded data removed]",
      "text/plain": [
       "<Figure size 640x480 with 2 Axes>"
      ]
     },
     "metadata": {},
     "output_type": "display_data"
    },
    {
     "name": "stdout",
     "output_type": "stream",
     "text": [
      "Off matrix diagonal margin: 33.157623291015625\n",
      "Off matrix diagonal margin: 0.0010000000474974513\n"
     ]
    }
   ],
   "source": [
    "def show_distances_heatmap(graphs, model):\n",
    "\n",
    "    model.eval()\n",
    "    all_embeddings = model.get_embedding(graphs)\n",
    "\n",
    "    l2_dists = pairwise_l2_distance(all_embeddings)\n",
    "\n",
    "    rounding_constant = 10 ** 3\n",
    "    cos_dists = torch.round(calculate_energy_based_hidden_rep(all_embeddings, threshold=-1) * rounding_constant) / rounding_constant\n",
    "\n",
    "    show_distance_matrix(l2_dists, \"l2-distances\")\n",
    "    show_distance_matrix(cos_dists, \"cosine-distances\")\n",
    "    print(f\"Off matrix diagonal margin: {get_min_non_diagonal_entry(l2_dists)}\")\n",
    "    print(f\"Off matrix diagonal margin: {get_min_non_diagonal_entry(cos_dists)}\")\n",
    "\n",
    "show_distances_heatmap(generate_s2v_graphs([graph.g for graph in graphs]), model)"
   ]
  },
  {
   "cell_type": "code",
   "execution_count": 20,
   "metadata": {
    "collapsed": false,
    "jupyter": {
     "outputs_hidden": false
    },
    "pycharm": {
     "name": "#%%\n"
    }
   },
   "outputs": [
    {
     "data": {
      "text/plain": [
       "10"
      ]
     },
     "execution_count": 20,
     "metadata": {},
     "output_type": "execute_result"
    }
   ],
   "source": [
    "len(train_samples_list)"
   ]
  },
  {
   "cell_type": "code",
   "execution_count": 21,
   "metadata": {
    "collapsed": false,
    "jupyter": {
     "outputs_hidden": false
    },
    "pycharm": {
     "name": "#%%\n"
    }
   },
   "outputs": [
    {
     "data": {
      "image/png": "[encoded data removed]",
      "text/plain": [
       "<Figure size 1200x800 with 2 Axes>"
      ]
     },
     "metadata": {},
     "output_type": "display_data"
    },
    {
     "name": "stdout",
     "output_type": "stream",
     "text": [
      "epoch train loss\n",
      "\tepoch train loss \t (min:    0.000, max:   13.510, cur:    0.000)\n",
      "training worker process #0 finished\n",
      "finished monitoring training\n"
     ]
    }
   ],
   "source": [
    "trainer.train(processes_device_ids=[0], use_existing_data_loaders=False, train_samples_list=train_samples_list, val_samples_list=val_samples_list)"
   ]
  },
  {
   "cell_type": "markdown",
   "metadata": {
    "collapsed": false,
    "jupyter": {
     "outputs_hidden": false
    }
   },
   "source": [
    "Add ged=1 examples as positive examples"
   ]
  },
  {
   "cell_type": "code",
   "execution_count": 22,
   "metadata": {
    "collapsed": false,
    "jupyter": {
     "outputs_hidden": false
    },
    "pycharm": {
     "is_executing": true,
     "name": "#%%\n"
    }
   },
   "outputs": [],
   "source": [
    "def generate_perturbed_graphs(reference_graph: nx.Graph):\n",
    "    # assumption: there are no self loops, and no duplicate edges of opposite directions\n",
    "\n",
    "    # graphs generated by removing an existing edge\n",
    "    for edge in reference_graph.edges:\n",
    "        copy_graph = reference_graph.copy()\n",
    "        copy_graph.remove_edge(*edge)\n",
    "        yield copy_graph\n",
    "\n",
    "    # graphs generated by adding a missing edge\n",
    "    sorted_nodes = sorted(reference_graph.nodes, reverse=False)\n",
    "    for i, node_i in enumerate(sorted_nodes):\n",
    "        if i == len(sorted_nodes) - 1:\n",
    "            break\n",
    "\n",
    "        for node_j in sorted_nodes[i+1:]:\n",
    "            edge = (node_i, node_j)\n",
    "            if reference_graph.has_edge(*edge):\n",
    "                continue\n",
    "            copy_graph = reference_graph.copy()\n",
    "            copy_graph.add_edge(*edge)\n",
    "            yield copy_graph\n",
    "\n",
    "# generate subgraphs for which ged(subgraph, reference_subgraph)==1\n",
    "perturbed_graphs = list(generate_perturbed_graphs(reference_subgraph.G_sub))\n",
    "for perturbed_graph in perturbed_graphs:\n",
    "    is_negative_example = False\n",
    "\n",
    "    G1_annotated = AnnotatedGraph(perturbed_graph)\n",
    "    G2_annotated = AnnotatedGraph(reference_subgraph.G)\n",
    "    train_samples_list.append(Pair_Sample_Info(\n",
    "        subgraph=G1_annotated,\n",
    "        masked_graph=G2_annotated,\n",
    "        is_negative_sample=torch.tensor(is_negative_example)))"
   ]
  },
  {
   "cell_type": "code",
   "execution_count": 23,
   "metadata": {
    "collapsed": false,
    "jupyter": {
     "outputs_hidden": false
    },
    "pycharm": {
     "is_executing": true,
     "name": "#%%\n"
    }
   },
   "outputs": [
    {
     "data": {
      "text/plain": [
       "101"
      ]
     },
     "execution_count": 23,
     "metadata": {},
     "output_type": "execute_result"
    }
   ],
   "source": [
    "len(train_samples_list)"
   ]
  },
  {
   "cell_type": "code",
   "execution_count": 24,
   "metadata": {
    "collapsed": false,
    "jupyter": {
     "outputs_hidden": false
    },
    "pycharm": {
     "is_executing": true,
     "name": "#%%\n"
    }
   },
   "outputs": [
    {
     "data": {
      "image/png": "[encoded data removed]",
      "text/plain": [
       "<Figure size 1200x800 with 2 Axes>"
      ]
     },
     "metadata": {},
     "output_type": "display_data"
    },
    {
     "name": "stdout",
     "output_type": "stream",
     "text": [
      "epoch train loss\n",
      "\tepoch train loss \t (min:    0.045, max:   20.626, cur:    0.045)\n",
      "Monitoring process is exiting, epochs=50\n",
      "training worker process #0 finished\n",
      "finished monitoring training\n"
     ]
    }
   ],
   "source": [
    "val_samples_list = train_samples_list\n",
    "model_factory_func = lambda device: GraphCNN(num_layers=5, num_mlp_layers = 2, input_dim=input_dim, hidden_dim=64, output_dim=num_classes, final_dropout=0.5, learn_eps=False, graph_pooling_type=\"sum\", neighbor_pooling_type=\"sum\", device=device)\n",
    "solver_params[\"batch_size\"] = len(train_samples_list)\n",
    "\n",
    "trainer, graph_metric_nn, model = init_embedding_net_and_trainer(model_factory_func)\n",
    "\n",
    "trainer.train(processes_device_ids=[0], use_existing_data_loaders=False, train_samples_list=train_samples_list, val_samples_list=val_samples_list)"
   ]
  },
  {
   "cell_type": "code",
   "execution_count": 25,
   "metadata": {
    "collapsed": false,
    "jupyter": {
     "outputs_hidden": false
    },
    "pycharm": {
     "is_executing": true,
     "name": "#%%\n"
    }
   },
   "outputs": [
    {
     "name": "stdout",
     "output_type": "stream",
     "text": [
      "# classes: 1\n",
      "# maximum node tag: 49\n",
      "# data: 101\n"
     ]
    },
    {
     "data": {
      "image/png": "[encoded data removed]",
      "text/plain": [
       "<Figure size 640x480 with 2 Axes>"
      ]
     },
     "metadata": {},
     "output_type": "display_data"
    },
    {
     "data": {
      "image/png": "[encoded data removed]",
      "text/plain": [
       "<Figure size 640x480 with 2 Axes>"
      ]
     },
     "metadata": {},
     "output_type": "display_data"
    },
    {
     "name": "stdout",
     "output_type": "stream",
     "text": [
      "Off matrix diagonal margin: 9.094947017729282e-13\n",
      "Off matrix diagonal margin: 0.0\n"
     ]
    }
   ],
   "source": [
    "all_s2v_graphs = generate_s2v_graphs([subgraph.G for subgraph in subgraphs] + perturbed_graphs)\n",
    "show_distances_heatmap(all_s2v_graphs, model)"
   ]
  },
  {
   "cell_type": "code",
   "execution_count": 26,
   "metadata": {
    "collapsed": false,
    "jupyter": {
     "outputs_hidden": false
    },
    "pycharm": {
     "is_executing": true,
     "name": "#%%\n"
    }
   },
   "outputs": [
    {
     "data": {
      "image/png": "[encoded data removed]",
      "text/plain": [
       "<Figure size 640x480 with 2 Axes>"
      ]
     },
     "metadata": {},
     "output_type": "display_data"
    },
    {
     "data": {
      "image/png": "[encoded data removed]",
      "text/plain": [
       "<Figure size 640x480 with 2 Axes>"
      ]
     },
     "metadata": {},
     "output_type": "display_data"
    },
    {
     "name": "stdout",
     "output_type": "stream",
     "text": [
      "Off matrix diagonal margin: 9.094947017729282e-13\n",
      "Off matrix diagonal margin: 0.0\n"
     ]
    }
   ],
   "source": [
    "show_distances_heatmap(all_s2v_graphs, model)"
   ]
  },
  {
   "cell_type": "code",
   "execution_count": 27,
   "metadata": {
    "collapsed": false,
    "jupyter": {
     "outputs_hidden": false
    },
    "pycharm": {
     "is_executing": true,
     "name": "#%%\n"
    }
   },
   "outputs": [
    {
     "data": {
      "image/png": "[encoded data removed]",
      "text/plain": [
       "<Figure size 640x480 with 2 Axes>"
      ]
     },
     "metadata": {},
     "output_type": "display_data"
    },
    {
     "data": {
      "image/png": "[encoded data removed]",
      "text/plain": [
       "<Figure size 640x480 with 2 Axes>"
      ]
     },
     "metadata": {},
     "output_type": "display_data"
    },
    {
     "name": "stdout",
     "output_type": "stream",
     "text": [
      "Off matrix diagonal margin: 1292.691650390625\n",
      "Off matrix diagonal margin: 0.0\n"
     ]
    }
   ],
   "source": [
    "show_distances_heatmap(all_s2v_graphs[:len(subgraphs)], model)"
   ]
  },
  {
   "cell_type": "code",
   "execution_count": 28,
   "metadata": {
    "collapsed": false,
    "jupyter": {
     "outputs_hidden": false
    },
    "pycharm": {
     "is_executing": true,
     "name": "#%%\n"
    }
   },
   "outputs": [
    {
     "data": {
      "image/png": "[encoded data removed]",
      "text/plain": [
       "<Figure size 640x480 with 2 Axes>"
      ]
     },
     "metadata": {},
     "output_type": "display_data"
    },
    {
     "data": {
      "image/png": "[encoded data removed]",
      "text/plain": [
       "<Figure size 640x480 with 2 Axes>"
      ]
     },
     "metadata": {},
     "output_type": "display_data"
    },
    {
     "name": "stdout",
     "output_type": "stream",
     "text": [
      "Off matrix diagonal margin: 9.094947017729282e-13\n",
      "Off matrix diagonal margin: 0.0\n"
     ]
    }
   ],
   "source": [
    "reference_s2v_graph = all_s2v_graphs[reference_subgraph_index]\n",
    "reference_graph_with_positive_examples = [reference_s2v_graph] + all_s2v_graphs[len(subgraphs):]\n",
    "reference_graph_with_negative_examples = [all_s2v_graphs[i] for i in range(len(all_s2v_graphs[:len(subgraphs)])) if i != reference_subgraph_index]\n",
    "\n",
    "show_distances_heatmap(reference_graph_with_positive_examples, model)"
   ]
  },
  {
   "cell_type": "code",
   "execution_count": 29,
   "metadata": {
    "collapsed": false,
    "jupyter": {
     "outputs_hidden": false
    },
    "pycharm": {
     "is_executing": true,
     "name": "#%%\n"
    }
   },
   "outputs": [],
   "source": [
    "all_embeddings = model.get_embedding(reference_graph_with_positive_examples)\n",
    "l2_dists = pairwise_l2_distance(all_embeddings)"
   ]
  },
  {
   "cell_type": "code",
   "execution_count": 34,
   "metadata": {
    "collapsed": false,
    "jupyter": {
     "outputs_hidden": false
    },
    "pycharm": {
     "is_executing": true,
     "name": "#%%\n"
    }
   },
   "outputs": [],
   "source": [
    "_ = graph_metric_nn.eval()"
   ]
  },
  {
   "cell_type": "code",
   "execution_count": 32,
   "metadata": {
    "collapsed": false,
    "jupyter": {
     "outputs_hidden": false
    },
    "pycharm": {
     "is_executing": true,
     "name": "#%%\n"
    }
   },
   "outputs": [],
   "source": [
    "positive_distances = []\n",
    "for positive_example_second_graph in reference_graph_with_positive_examples:\n",
    "    distance = graph_metric_nn.forward([(reference_s2v_graph, positive_example_second_graph)]).item()\n",
    "    positive_distances.append(distance)\n",
    "    if distance > solver_params['margin_loss_margin_value']:\n",
    "        print(f\"positive loss term not zero, as distance for this positive example pair is {distance}\")\n",
    "\n",
    "negative_distances = []\n",
    "for negative_example_second_graph in reference_graph_with_negative_examples:\n",
    "    distance = graph_metric_nn.forward([(reference_s2v_graph, negative_example_second_graph)]).item()\n",
    "    negative_distances.append(distance)\n",
    "    if distance < solver_params['margin_loss_margin_value']:\n",
    "        print(f\"negative loss term not zero, as distance for this negative example pair is {distance}\")"
   ]
  },
  {
   "cell_type": "code",
   "execution_count": 33,
   "metadata": {
    "collapsed": false,
    "jupyter": {
     "outputs_hidden": false
    },
    "pycharm": {
     "is_executing": true,
     "name": "#%%\n"
    }
   },
   "outputs": [
    {
     "data": {
      "text/plain": [
       "1.6487637758255005"
      ]
     },
     "execution_count": 33,
     "metadata": {},
     "output_type": "execute_result"
    }
   ],
   "source": [
    "max(positive_distances)"
   ]
  },
  {
   "cell_type": "code",
   "execution_count": null,
   "metadata": {
    "collapsed": false,
    "jupyter": {
     "outputs_hidden": false
    },
    "pycharm": {
     "is_executing": true,
     "name": "#%%\n"
    }
   },
   "outputs": [],
   "source": [
    "min(negative_distances)"
   ]
  },
  {
   "cell_type": "markdown",
   "metadata": {
    "collapsed": false,
    "jupyter": {
     "outputs_hidden": false
    }
   },
   "source": [
    "k-subgraphs experiment"
   ]
  },
  {
   "cell_type": "code",
   "execution_count": 35,
   "metadata": {
    "collapsed": false,
    "jupyter": {
     "outputs_hidden": false
    },
    "pycharm": {
     "is_executing": true,
     "name": "#%%\n"
    }
   },
   "outputs": [],
   "source": [
    "def generate_pair_example(G1_annotated, G2_annotated, is_negative_example):\n",
    "    return Pair_Sample_Info(\n",
    "        subgraph=G1_annotated,\n",
    "        masked_graph=G2_annotated,\n",
    "        is_negative_sample=torch.tensor(is_negative_example))\n",
    "\n",
    "def compare_graphs_and_generate_pair_example(G1_annotated, G2_annotated):\n",
    "    SG1 = G1_annotated.g\n",
    "    SG2 = G2_annotated.g\n",
    "\n",
    "    if nx.is_isomorphic(SG1, SG2):\n",
    "        isomorphic_pairs.append((SG1, SG2))\n",
    "        return generate_pair_example(G1_annotated, G2_annotated, is_negative_example = False)\n",
    "    else:\n",
    "        return generate_pair_example(G1_annotated, G2_annotated, is_negative_example = True)\n",
    "    \n",
    "    # try:\n",
    "    #     diff_graph = nx.symmetric_difference(SG1, SG2)\n",
    "    # except NetworkXError:\n",
    "    #     # node sets are different\n",
    "    #     if nx.is_empty(SG1) and nx.is_empty(SG2) and (len(SG1) == len(SG2)):\n",
    "    #         # positive example\n",
    "    #         print(\"node sets are different, but isomorphic graphs\")\n",
    "    #         return generate_pair_example(G1_annotated, G2_annotated, is_negative_example = False)\n",
    "    #     else:\n",
    "    #         # negative example\n",
    "    #         print(\"node sets are different, and not isomorphic graphs\")\n",
    "    #         return generate_pair_example(G1_annotated, G2_annotated, is_negative_example = True)\n",
    "\n",
    "    # if nx.is_empty(diff_graph):\n",
    "    #     # print(\"isomorphic graphs\")\n",
    "    #     isomorphic_pairs.append((SG1, SG2))\n",
    "    #     # positive example\n",
    "    #     return generate_pair_example(G1_annotated, G2_annotated, is_negative_example = False)\n",
    "    # else:\n",
    "    #     # negative example\n",
    "    #     return generate_pair_example(G1_annotated, G2_annotated, is_negative_example = True)\n",
    "\n",
    "K = 11\n",
    "full_graph = reference_subgraph.G\n",
    "\n",
    "subgraphs_iterator = itertools.combinations(full_graph, K)\n",
    "k_subgraphs = [full_graph.subgraph(s) for s in subgraphs_iterator]\n",
    "k_subgraph_annotated_graphs = [AnnotatedGraph(g) for g in k_subgraphs]\n",
    "\n",
    "train_samples_list = []\n",
    "isomorphic_pairs = []\n",
    "train_sample_indices_tuple_list = []"
   ]
  },
  {
   "cell_type": "code",
   "execution_count": 36,
   "metadata": {
    "collapsed": false,
    "jupyter": {
     "outputs_hidden": false
    },
    "pycharm": {
     "is_executing": true,
     "name": "#%%\n"
    }
   },
   "outputs": [],
   "source": [
    "for subgraph_counter1, SG_annotated_1 in enumerate(k_subgraph_annotated_graphs):\n",
    "    for subgraph_counter2 in range(subgraph_counter1+1, len(k_subgraph_annotated_graphs)):\n",
    "        SG_annotated_2 = k_subgraph_annotated_graphs[subgraph_counter2]\n",
    "        train_samples_list.append(compare_graphs_and_generate_pair_example(SG_annotated_1, SG_annotated_2))\n",
    "        train_sample_indices_tuple_list.append((subgraph_counter1, subgraph_counter2))\n",
    "        # if train_samples_list[-1].is_negative_sample == False:\n",
    "        #     print(f\"{subgraph_counter1} vs {subgraph_counter2}\")"
   ]
  },
  {
   "cell_type": "code",
   "execution_count": 37,
   "metadata": {
    "collapsed": false,
    "jupyter": {
     "outputs_hidden": false
    },
    "pycharm": {
     "is_executing": true,
     "name": "#%%\n"
    }
   },
   "outputs": [],
   "source": [
    "# ged_pairs_dump_base_path = f\".{os.sep}ged_pairs\n",
    "\n",
    "# loaded_ged_examples = []\n",
    "# for i, doc_path in enumerate(pathlib.Path(ged_pairs_dump_base_path).rglob(\"*.p*\")):\n",
    "#     k_subgraph_ged_pairs_list = pickle.load(open(doc_path, 'rb'))\n",
    "#     loaded_ged_examples += k_subgraph_ged_pairs_list\n",
    "#     print(i)\n",
    "\n",
    "# if not os.path.exists(ged_pairs_dump_base_path):\n",
    "#     os.makedirs(ged_pairs_dump_base_path)\n",
    "#\n",
    "# # k_subgraph_to_perturbed_graphs_map = {}\n",
    "# def generate_ged_paris(subgraph_counter1):\n",
    "#     train_samples_list = []\n",
    "#     SG1 = k_subgraph_annotated_graphs[subgraph_counter1]\n",
    "#     ged1_perturbed_graphs = list(generate_perturbed_graphs(SG1.g))\n",
    "#     for ged1_perturbed_graph in ged1_perturbed_graphs:\n",
    "#         # positive example\n",
    "#         train_samples_list.append(generate_pair_example(SG1, AnnotatedGraph(ged1_perturbed_graph), is_negative_example = False))\n",
    "#\n",
    "#         ged2_perturbed_graphs = list(generate_perturbed_graphs(ged1_perturbed_graph))\n",
    "#         for ged2_perturbed_graph in ged2_perturbed_graphs:\n",
    "#             # could be positive or negative example\n",
    "#             train_samples_list.append(compare_graphs_and_generate_pair_example(k_subgraph_annotated_graphs[subgraph_counter1], AnnotatedGraph(ged2_perturbed_graph)))\n",
    "#\n",
    "#     path = os.path.join(ged_pairs_dump_base_path, f\"subgraph_{subgraph_counter1}.p\")\n",
    "#     with open(path, 'wb') as f:\n",
    "#         pickle.dump(train_samples_list, f)\n",
    "#     return train_samples_list\n",
    "#\n",
    "# total_tasks = len(k_subgraphs)\n",
    "# with tqdm_joblib(tqdm(desc=\"My calculation\", total=total_tasks)) as progress_bar:\n",
    "#     #Parallel(n_jobs=16)(delayed(long_task)() for i in range(10))\n",
    "#\n",
    "#     ged_examples = Parallel(n_jobs=int(cpu_count()), prefer='processes')(\n",
    "#         delayed(generate_ged_paris)(subgraph_counter1=subgraph_counter1)\n",
    "#         for subgraph_counter1 in range(total_tasks)\n",
    "#     )\n",
    "#\n",
    "# # generate subgraphs for which GED==1\n",
    "# for subgraph_counter1, SG1 in enumerate(k_subgraphs):\n",
    "#     print(subgraph_counter1)\n",
    "#     ged1_perturbed_graphs = list(generate_perturbed_graphs(SG1))\n",
    "#     for ged1_perturbed_graph in ged1_perturbed_graphs:\n",
    "#         # positive example\n",
    "#         train_samples_list.append(generate_pair_example(SG1, ged1_perturbed_graph, is_negative_example = False))\n",
    "#         #\n",
    "#         # ged2_perturbed_graphs = list(generate_perturbed_graphs(ged1_perturbed_graph))\n",
    "#         # for ged2_perturbed_graph in ged2_perturbed_graphs:\n",
    "#         #     # could be positive or negative example\n",
    "#         #     train_samples_list.append(compare_graphs_and_generate_pair_example(k_subgraph_annotated_graphs[subgraph_counter1], AnnotatedGraph(ged2_perturbed_graph)))\n",
    "#     # k_subgraph_to_perturbed_graphs_map[SG1] = perturbed_graphs\n",
    "\n",
    "#\n",
    "#\n",
    "# # generate all pairs examples\n",
    "# for SG1, SG1_perturbed_graphs in k_subgraph_to_perturbed_graphs_map.items():\n",
    "#     for SG2, SG2_perturbed_graphs in k_subgraph_to_perturbed_graphs_map.items():\n",
    "#\n",
    "#         if SG1 == SG2:\n",
    "#             continue # trivial pairs, or pairs already considered\n",
    "#\n",
    "#         for SG2_perturbed_graph in SG2_perturbed_graphs:\n",
    "#             train_samples_list.append(compare_graphs_and_generate_pair_example(SG1, SG2_perturbed_graph))\n",
    "#\n",
    "#         for SG1_perturbed_graph in SG1_perturbed_graphs:\n",
    "#             train_samples_list.append(compare_graphs_and_generate_pair_example(SG1_perturbed_graph, SG2))"
   ]
  },
  {
   "cell_type": "code",
   "execution_count": 38,
   "metadata": {
    "collapsed": false,
    "jupyter": {
     "outputs_hidden": false
    },
    "pycharm": {
     "is_executing": true,
     "name": "#%%\n"
    }
   },
   "outputs": [],
   "source": [
    "def generate_random_ged_paris(annotated_subgraph: AnnotatedGraph, ged_dist: int, pairs_n: int, is_negative_example: bool):\n",
    "    train_samples_list = []\n",
    "    SG1 = annotated_subgraph\n",
    "\n",
    "    ged_graph_generator = GED_graph_generator(SG1.g, ged_dist)\n",
    "\n",
    "    # generate pairs\n",
    "\n",
    "    for i, ged_perturbed_graph in enumerate(ged_graph_generator.generate()):\n",
    "        if i == pairs_n:\n",
    "            break\n",
    "\n",
    "        # positive example\n",
    "        train_samples_list.append(generate_pair_example(SG1, AnnotatedGraph(ged_perturbed_graph), is_negative_example = is_negative_example))\n",
    "\n",
    "    sys.stdout.flush()\n",
    "    return train_samples_list"
   ]
  },
  {
   "cell_type": "code",
   "execution_count": 39,
   "metadata": {
    "collapsed": false,
    "jupyter": {
     "outputs_hidden": false
    },
    "pycharm": {
     "is_executing": true,
     "name": "#%%\n"
    }
   },
   "outputs": [
    {
     "name": "stderr",
     "output_type": "stream",
     "text": [
      "My calculation: 100%|████████████████████████████████████████████████████████████████████████████████████████| 10/10 [00:11<00:00,  1.10s/it]\n",
      "My calculation:   1%|▋                                                                                       | 3/364 [00:00<01:16,  4.71it/s]"
     ]
    },
    {
     "name": "stdout",
     "output_type": "stream",
     "text": [
      "finished generation\n",
      "finished generation\n",
      "finished generation\n",
      "finished generation\n",
      "finished generation\n",
      "finished generation\n",
      "finished generation\n",
      "finished generation\n",
      "finished generation\n",
      "finished generation\n",
      "finished generation\n",
      "finished generation\n",
      "finished generation\n"
     ]
    },
    {
     "name": "stderr",
     "output_type": "stream",
     "text": [
      "My calculation:   3%|██▊                                                                                    | 12/364 [00:00<00:18, 19.05it/s]"
     ]
    },
    {
     "name": "stdout",
     "output_type": "stream",
     "text": [
      "finished generation\n",
      "finished generation\n",
      "finished generation\n",
      "finished generation\n",
      "finished generation\n",
      "finished generation\n",
      "finished generation\n",
      "finished generation\n",
      "finished generation\n",
      "finished generation\n",
      "finished generation\n"
     ]
    },
    {
     "name": "stderr",
     "output_type": "stream",
     "text": [
      "My calculation:   4%|███▌                                                                                   | 15/364 [00:01<00:16, 21.54it/s]"
     ]
    },
    {
     "name": "stdout",
     "output_type": "stream",
     "text": [
      "finished generation\n",
      "finished generation\n",
      "finished generation\n"
     ]
    },
    {
     "name": "stderr",
     "output_type": "stream",
     "text": [
      "My calculation:   6%|█████▎                                                                                 | 22/364 [00:02<00:43,  7.79it/s]"
     ]
    },
    {
     "name": "stdout",
     "output_type": "stream",
     "text": [
      "finished generation\n",
      "finished generation\n",
      "finished generation\n",
      "finished generation\n",
      "finished generation\n",
      "finished generation\n",
      "finished generation\n",
      "finished generation\n"
     ]
    },
    {
     "name": "stderr",
     "output_type": "stream",
     "text": [
      "My calculation:   9%|███████▍                                                                               | 31/364 [00:02<00:22, 14.56it/s]"
     ]
    },
    {
     "name": "stdout",
     "output_type": "stream",
     "text": [
      "finished generation\n",
      "finished generation\n",
      "finished generation\n",
      "finished generation\n",
      "finished generation\n",
      "finished generation\n",
      "finished generation\n"
     ]
    },
    {
     "name": "stderr",
     "output_type": "stream",
     "text": [
      "My calculation:  11%|█████████▎                                                                             | 39/364 [00:03<00:15, 20.48it/s]"
     ]
    },
    {
     "name": "stdout",
     "output_type": "stream",
     "text": [
      "finished generation\n",
      "finished generation\n",
      "finished generation\n",
      "finished generation\n",
      "finished generation\n",
      "finished generation\n",
      "finished generation\n"
     ]
    },
    {
     "name": "stderr",
     "output_type": "stream",
     "text": [
      "My calculation:  12%|██████████▎                                                                            | 43/364 [00:03<00:13, 23.02it/s]"
     ]
    },
    {
     "name": "stdout",
     "output_type": "stream",
     "text": [
      "finished generation\n",
      "finished generation\n",
      "finished generation\n",
      "finished generation\n",
      "finished generation\n",
      "finished generation\n",
      "finished generation\n"
     ]
    },
    {
     "name": "stderr",
     "output_type": "stream",
     "text": [
      "My calculation:  14%|███████████▉                                                                           | 50/364 [00:03<00:12, 24.64it/s]"
     ]
    },
    {
     "name": "stdout",
     "output_type": "stream",
     "text": [
      "finished generation\n",
      "finished generation\n",
      "finished generation\n",
      "finished generation\n",
      "finished generation\n",
      "finished generation\n",
      "finished generation\n"
     ]
    },
    {
     "name": "stderr",
     "output_type": "stream",
     "text": [
      "My calculation:  16%|█████████████▊                                                                         | 58/364 [00:03<00:10, 29.49it/s]"
     ]
    },
    {
     "name": "stdout",
     "output_type": "stream",
     "text": [
      "finished generation\n",
      "finished generation\n",
      "finished generation\n",
      "finished generation\n",
      "finished generation\n",
      "finished generation\n",
      "finished generation\n",
      "finished generation\n"
     ]
    },
    {
     "name": "stderr",
     "output_type": "stream",
     "text": [
      "My calculation:  18%|████████████████                                                                       | 67/364 [00:04<00:09, 30.25it/s]"
     ]
    },
    {
     "name": "stdout",
     "output_type": "stream",
     "text": [
      "finished generation\n",
      "finished generation\n",
      "finished generation\n",
      "finished generation\n",
      "finished generation\n",
      "finished generation\n",
      "finished generation\n",
      "finished generation\n"
     ]
    },
    {
     "name": "stderr",
     "output_type": "stream",
     "text": [
      "My calculation:  21%|██████████████████▍                                                                    | 77/364 [00:04<00:07, 37.40it/s]"
     ]
    },
    {
     "name": "stdout",
     "output_type": "stream",
     "text": [
      "finished generation\n",
      "finished generation\n",
      "finished generation\n",
      "finished generation\n",
      "finished generation\n",
      "finished generation\n",
      "finished generation\n",
      "finished generation\n",
      "finished generation\n"
     ]
    },
    {
     "name": "stderr",
     "output_type": "stream",
     "text": [
      "My calculation:  24%|████████████████████▌                                                                  | 86/364 [00:04<00:07, 39.01it/s]"
     ]
    },
    {
     "name": "stdout",
     "output_type": "stream",
     "text": [
      "finished generation\n",
      "finished generation\n",
      "finished generation\n",
      "finished generation\n",
      "finished generation\n",
      "finished generation\n",
      "finished generation\n",
      "finished generation\n",
      "finished generation\n",
      "finished generation\n",
      "finished generation\n"
     ]
    },
    {
     "name": "stderr",
     "output_type": "stream",
     "text": [
      "My calculation:  27%|███████████████████████▍                                                               | 98/364 [00:04<00:05, 46.64it/s]"
     ]
    },
    {
     "name": "stdout",
     "output_type": "stream",
     "text": [
      "finished generation\n",
      "finished generation\n",
      "finished generation\n",
      "finished generation\n",
      "finished generation\n",
      "finished generation\n",
      "finished generation\n",
      "finished generation\n",
      "finished generation\n",
      "finished generation\n",
      "finished generation\n"
     ]
    },
    {
     "name": "stderr",
     "output_type": "stream",
     "text": [
      "My calculation:  30%|█████████████████████████▌                                                            | 108/364 [00:04<00:05, 46.51it/s]"
     ]
    },
    {
     "name": "stdout",
     "output_type": "stream",
     "text": [
      "finished generation\n",
      "finished generation\n",
      "finished generation\n",
      "finished generation\n",
      "finished generation\n",
      "finished generation\n",
      "finished generation\n",
      "finished generation\n",
      "finished generation\n",
      "finished generation\n",
      "finished generation\n",
      "finished generation\n"
     ]
    },
    {
     "name": "stderr",
     "output_type": "stream",
     "text": [
      "My calculation:  32%|███████████████████████████▉                                                          | 118/364 [00:05<00:05, 46.52it/s]"
     ]
    },
    {
     "name": "stdout",
     "output_type": "stream",
     "text": [
      "finished generation\n",
      "finished generation\n",
      "finished generation\n",
      "finished generation\n",
      "finished generation\n",
      "finished generation\n",
      "finished generation\n",
      "finished generation\n",
      "finished generation\n",
      "finished generation\n",
      "finished generation\n",
      "finished generation\n"
     ]
    },
    {
     "name": "stderr",
     "output_type": "stream",
     "text": [
      "My calculation:  35%|██████████████████████████████▍                                                       | 129/364 [00:05<00:05, 46.82it/s]"
     ]
    },
    {
     "name": "stdout",
     "output_type": "stream",
     "text": [
      "finished generation\n",
      "finished generation\n",
      "finished generation\n",
      "finished generation\n",
      "finished generation\n",
      "finished generation\n",
      "finished generation\n",
      "finished generation\n",
      "finished generation\n",
      "finished generation\n",
      "finished generation\n"
     ]
    },
    {
     "name": "stderr",
     "output_type": "stream",
     "text": [
      "My calculation:  37%|████████████████████████████████▏                                                     | 136/364 [00:05<00:04, 51.79it/s]"
     ]
    },
    {
     "name": "stdout",
     "output_type": "stream",
     "text": [
      "finished generation\n",
      "finished generation\n",
      "finished generation\n",
      "finished generation\n",
      "finished generation\n",
      "finished generation\n",
      "finished generation\n",
      "finished generation\n",
      "finished generation\n",
      "finished generation\n",
      "finished generation\n",
      "finished generation\n",
      "finished generation\n"
     ]
    },
    {
     "name": "stderr",
     "output_type": "stream",
     "text": [
      "My calculation:  40%|██████████████████████████████████▋                                                   | 147/364 [00:05<00:04, 46.54it/s]"
     ]
    },
    {
     "name": "stdout",
     "output_type": "stream",
     "text": [
      "finished generation\n",
      "finished generation\n",
      "finished generation\n",
      "finished generation\n",
      "finished generation\n",
      "finished generation\n",
      "finished generation\n",
      "finished generation\n",
      "finished generation\n"
     ]
    },
    {
     "name": "stderr",
     "output_type": "stream",
     "text": [
      "My calculation:  43%|█████████████████████████████████████                                                 | 157/364 [00:06<00:04, 43.00it/s]"
     ]
    },
    {
     "name": "stdout",
     "output_type": "stream",
     "text": [
      "finished generation\n",
      "finished generation\n",
      "finished generation\n",
      "finished generation\n",
      "finished generation\n",
      "finished generation\n",
      "finished generation\n",
      "finished generation\n",
      "finished generation\n",
      "finished generation\n",
      "finished generation\n"
     ]
    },
    {
     "name": "stderr",
     "output_type": "stream",
     "text": [
      "My calculation:  46%|███████████████████████████████████████▍                                              | 167/364 [00:06<00:04, 43.96it/s]"
     ]
    },
    {
     "name": "stdout",
     "output_type": "stream",
     "text": [
      "finished generation\n",
      "finished generation\n",
      "finished generation\n",
      "finished generation\n",
      "finished generation\n",
      "finished generation\n",
      "finished generation\n",
      "finished generation\n",
      "finished generation\n",
      "finished generation\n",
      "finished generation\n"
     ]
    },
    {
     "name": "stderr",
     "output_type": "stream",
     "text": [
      "My calculation:  49%|█████████████████████████████████████████▊                                            | 177/364 [00:06<00:04, 41.18it/s]"
     ]
    },
    {
     "name": "stdout",
     "output_type": "stream",
     "text": [
      "finished generation\n",
      "finished generation\n",
      "finished generation\n",
      "finished generation\n",
      "finished generation\n",
      "finished generation\n",
      "finished generation\n",
      "finished generation\n",
      "finished generation\n"
     ]
    },
    {
     "name": "stderr",
     "output_type": "stream",
     "text": [
      "My calculation:  50%|███████████████████████████████████████████                                           | 182/364 [00:06<00:04, 40.39it/s]"
     ]
    },
    {
     "name": "stdout",
     "output_type": "stream",
     "text": [
      "finished generation\n",
      "finished generation\n",
      "finished generation\n",
      "finished generation\n",
      "finished generation\n",
      "finished generation\n",
      "finished generation\n",
      "finished generation\n",
      "finished generation\n",
      "finished generation\n",
      "finished generation\n",
      "finished generation\n",
      "finished generation\n",
      "finished generation\n",
      "finished generation\n",
      "finished generation\n",
      "finished generation\n",
      "finished generation\n",
      "finished generation\n",
      "finished generation\n"
     ]
    },
    {
     "name": "stderr",
     "output_type": "stream",
     "text": [
      "My calculation:  53%|█████████████████████████████████████████████▊                                        | 194/364 [00:06<00:03, 45.81it/s]"
     ]
    },
    {
     "name": "stdout",
     "output_type": "stream",
     "text": [
      "finished generation\n",
      "finished generation\n",
      "finished generation\n",
      "finished generation\n",
      "finished generation\n",
      "finished generation\n",
      "finished generation\n",
      "finished generation\n",
      "finished generation\n",
      "finished generation\n",
      "finished generation\n",
      "finished generation\n",
      "finished generation\n",
      "finished generation\n",
      "finished generation\n",
      "finished generation\n",
      "finished generation\n",
      "finished generation\n",
      "finished generation\n",
      "finished generation\n",
      "finished generation\n",
      "finished generation\n",
      "finished generation\n",
      "finished generation\n",
      "finished generation\n",
      "finished generation\n",
      "finished generation\n",
      "finished generation\n"
     ]
    },
    {
     "name": "stderr",
     "output_type": "stream",
     "text": [
      "My calculation:  57%|█████████████████████████████████████████████████▍                                    | 209/364 [00:07<00:02, 57.39it/s]"
     ]
    },
    {
     "name": "stdout",
     "output_type": "stream",
     "text": [
      "finished generation\n",
      "finished generation\n",
      "finished generation\n",
      "finished generation\n",
      "finished generation\n",
      "finished generation\n",
      "finished generation\n",
      "finished generation\n",
      "finished generation\n",
      "finished generation\n",
      "finished generation\n",
      "finished generation\n",
      "finished generation\n",
      "finished generation\n",
      "finished generation\n",
      "finished generation\n",
      "finished generation\n",
      "finished generation\n",
      "finished generation\n",
      "finished generation\n",
      "finished generation\n",
      "finished generation\n",
      "finished generation\n",
      "finished generation\n",
      "finished generation\n",
      "finished generation\n",
      "finished generation\n"
     ]
    },
    {
     "name": "stderr",
     "output_type": "stream",
     "text": [
      "My calculation:  63%|█████████████████████████████████████████████████████▊                                | 228/364 [00:08<00:05, 24.37it/s]"
     ]
    },
    {
     "name": "stdout",
     "output_type": "stream",
     "text": [
      "finished generation\n",
      "finished generation\n",
      "finished generation\n",
      "finished generation\n",
      "finished generation\n",
      "finished generation\n",
      "finished generation\n",
      "finished generation\n",
      "finished generation\n",
      "finished generation\n",
      "finished generation\n",
      "finished generation\n",
      "finished generation\n",
      "finished generation\n",
      "finished generation\n",
      "finished generation\n",
      "finished generation\n",
      "finished generation\n",
      "finished generation\n",
      "finished generation\n",
      "finished generation\n",
      "finished generation\n",
      "finished generation\n",
      "finished generation\n",
      "finished generation\n",
      "finished generation\n",
      "finished generation\n",
      "finished generation\n",
      "finished generation\n",
      "finished generation\n",
      "finished generation\n",
      "finished generation\n"
     ]
    },
    {
     "name": "stderr",
     "output_type": "stream",
     "text": [
      "My calculation:  66%|█████████████████████████████████████████████████████████▏                            | 242/364 [00:08<00:03, 34.28it/s]"
     ]
    },
    {
     "name": "stdout",
     "output_type": "stream",
     "text": [
      "finished generation\n",
      "finished generation\n",
      "finished generation\n",
      "finished generation\n",
      "finished generation\n",
      "finished generation\n",
      "finished generation\n",
      "finished generation\n",
      "finished generation\n",
      "finished generation\n",
      "finished generation\n",
      "finished generation\n",
      "finished generation\n",
      "finished generation\n",
      "finished generation\n",
      "finished generation\n",
      "finished generation\n",
      "finished generation\n"
     ]
    },
    {
     "name": "stderr",
     "output_type": "stream",
     "text": [
      "My calculation:  72%|█████████████████████████████████████████████████████████████▋                        | 261/364 [00:08<00:01, 52.39it/s]"
     ]
    },
    {
     "name": "stdout",
     "output_type": "stream",
     "text": [
      "finished generation\n",
      "finished generation\n",
      "finished generation\n",
      "finished generation\n",
      "finished generation\n",
      "finished generation\n",
      "finished generation\n",
      "finished generation\n",
      "finished generation\n",
      "finished generation\n",
      "finished generation\n",
      "finished generation\n",
      "finished generation\n"
     ]
    },
    {
     "name": "stderr",
     "output_type": "stream",
     "text": [
      "My calculation:  77%|█████████████████████████████████████████████████████████████████▉                    | 279/364 [00:09<00:01, 66.72it/s]"
     ]
    },
    {
     "name": "stdout",
     "output_type": "stream",
     "text": [
      "finished generation\n",
      "finished generation\n",
      "finished generation\n",
      "finished generation\n",
      "finished generation\n",
      "finished generation\n",
      "finished generation\n",
      "finished generation\n",
      "finished generation\n",
      "finished generation\n",
      "finished generation\n",
      "finished generation\n",
      "finished generation\n",
      "finished generation\n",
      "finished generation\n",
      "finished generation\n",
      "finished generation\n"
     ]
    },
    {
     "name": "stderr",
     "output_type": "stream",
     "text": [
      "My calculation:  83%|███████████████████████████████████████████████████████████████████████▎              | 302/364 [00:09<00:00, 85.03it/s]"
     ]
    },
    {
     "name": "stdout",
     "output_type": "stream",
     "text": [
      "finished generation\n",
      "finished generation\n",
      "finished generation\n",
      "finished generation\n",
      "finished generation\n",
      "finished generation\n",
      "finished generation\n",
      "finished generation\n",
      "finished generation\n",
      "finished generation\n",
      "finished generation\n"
     ]
    },
    {
     "name": "stderr",
     "output_type": "stream",
     "text": [
      "My calculation: 100%|██████████████████████████████████████████████████████████████████████████████████████| 364/364 [00:09<00:00, 37.39it/s]\n"
     ]
    }
   ],
   "source": [
    "import random\n",
    "\n",
    "random_k_subgraphs = k_subgraph_annotated_graphs.copy()\n",
    "random.shuffle(random_k_subgraphs)\n",
    "\n",
    "POSITIVE_EXAMPLES_GED_DIST_pairs_n = -1 #2000\n",
    "POSITIVE_EXAMPLES_GED_DIST = 1\n",
    "POSITIVE_EXAMPLES_k_subgraphs = random_k_subgraphs\n",
    "\n",
    "NEGATIVE_EXAMPLES_GED_DIST_pairs_n = 3000\n",
    "NEGATIVE_EXAMPLES_GED_DIST = 4 #4\n",
    "NEGATIVE_EXAMPLES_k_subgraphs = random_k_subgraphs[:10]\n",
    "\n",
    "with tqdm_joblib(tqdm(desc=\"My calculation\", total=len(NEGATIVE_EXAMPLES_k_subgraphs))) as progress_bar:\n",
    "    ged_2_examples = Parallel(n_jobs=int(cpu_count()), prefer='processes')(\n",
    "        delayed(generate_random_ged_paris)(annotated_subgraph=annotated_subgraph, ged_dist=NEGATIVE_EXAMPLES_GED_DIST, pairs_n=NEGATIVE_EXAMPLES_GED_DIST_pairs_n, is_negative_example=True)\n",
    "        for annotated_subgraph in NEGATIVE_EXAMPLES_k_subgraphs\n",
    "    )\n",
    "\n",
    "with tqdm_joblib(tqdm(desc=\"My calculation\", total=len(random_k_subgraphs))) as progress_bar:\n",
    "    ged_1_examples = Parallel(n_jobs=int(cpu_count()), prefer='processes')(\n",
    "        delayed(generate_random_ged_paris)(annotated_subgraph=annotated_subgraph, ged_dist=POSITIVE_EXAMPLES_GED_DIST, pairs_n=POSITIVE_EXAMPLES_GED_DIST_pairs_n, is_negative_example=False)\n",
    "        for annotated_subgraph in POSITIVE_EXAMPLES_k_subgraphs\n",
    "    )"
   ]
  },
  {
   "cell_type": "code",
   "execution_count": 40,
   "metadata": {
    "collapsed": false,
    "jupyter": {
     "outputs_hidden": false
    },
    "pycharm": {
     "is_executing": true,
     "name": "#%%\n"
    }
   },
   "outputs": [],
   "source": [
    "# debug_ged_res = generate_random_ged_paris(annotated_subgraph=random_k_subgraphs[0], ged_dist=2, pairs_n=pairs_n, is_negative_example=True)"
   ]
  },
  {
   "cell_type": "code",
   "execution_count": 41,
   "metadata": {
    "collapsed": false,
    "jupyter": {
     "outputs_hidden": false
    },
    "pycharm": {
     "is_executing": true,
     "name": "#%%\n"
    }
   },
   "outputs": [],
   "source": [
    "ged_examples1 = [elem for lst in ged_1_examples for elem in lst]\n",
    "ged_examples2 = [elem for lst in ged_2_examples for elem in lst]\n",
    "ged_examples = ged_examples1 + ged_examples2"
   ]
  },
  {
   "cell_type": "code",
   "execution_count": 42,
   "metadata": {
    "collapsed": false,
    "jupyter": {
     "outputs_hidden": false
    },
    "pycharm": {
     "is_executing": true,
     "name": "#%%\n"
    }
   },
   "outputs": [],
   "source": [
    "train_samples_list = ged_examples"
   ]
  },
  {
   "cell_type": "code",
   "execution_count": 43,
   "metadata": {},
   "outputs": [
    {
     "data": {
      "text/plain": [
       "30000"
      ]
     },
     "execution_count": 43,
     "metadata": {},
     "output_type": "execute_result"
    }
   ],
   "source": [
    "len(ged_examples2)"
   ]
  },
  {
   "cell_type": "code",
   "execution_count": 44,
   "metadata": {
    "collapsed": false,
    "jupyter": {
     "outputs_hidden": false
    },
    "pycharm": {
     "is_executing": true,
     "name": "#%%\n"
    }
   },
   "outputs": [
    {
     "data": {
      "text/plain": [
       "20020"
      ]
     },
     "execution_count": 44,
     "metadata": {},
     "output_type": "execute_result"
    }
   ],
   "source": [
    "len(ged_examples1)"
   ]
  },
  {
   "cell_type": "code",
   "execution_count": 45,
   "metadata": {
    "collapsed": false,
    "jupyter": {
     "outputs_hidden": false
    },
    "pycharm": {
     "is_executing": true,
     "name": "#%%\n"
    }
   },
   "outputs": [
    {
     "name": "stdout",
     "output_type": "stream",
     "text": [
      "yes\n"
     ]
    }
   ],
   "source": [
    "for k_subgraph in k_subgraphs:\n",
    "    if k_subgraphs[0].nodes == k_subgraph.nodes:\n",
    "        print(\"yes\")"
   ]
  },
  {
   "cell_type": "code",
   "execution_count": 46,
   "metadata": {
    "collapsed": false,
    "jupyter": {
     "outputs_hidden": false
    },
    "pycharm": {
     "is_executing": true,
     "name": "#%%\n"
    }
   },
   "outputs": [
    {
     "data": {
      "text/plain": [
       "364"
      ]
     },
     "execution_count": 46,
     "metadata": {},
     "output_type": "execute_result"
    }
   ],
   "source": [
    "len(k_subgraphs)"
   ]
  },
  {
   "cell_type": "code",
   "execution_count": 47,
   "metadata": {
    "collapsed": false,
    "jupyter": {
     "outputs_hidden": false
    },
    "pycharm": {
     "is_executing": true,
     "name": "#%%\n"
    }
   },
   "outputs": [
    {
     "data": {
      "text/plain": [
       "50020"
      ]
     },
     "execution_count": 47,
     "metadata": {},
     "output_type": "execute_result"
    }
   ],
   "source": [
    "len(train_samples_list)"
   ]
  },
  {
   "cell_type": "code",
   "execution_count": null,
   "metadata": {
    "collapsed": false,
    "jupyter": {
     "outputs_hidden": false
    },
    "pycharm": {
     "is_executing": true,
     "name": "#%%\n"
    }
   },
   "outputs": [],
   "source": [
    "import wwl\n",
    "from wwl import WL_metric\n",
    "from igraph import Graph\n",
    "from sklearn.metrics.pairwise import laplacian_kernel\n",
    "\n",
    "def get_graph_wl_distances(graphs, node_label):\n",
    "    igraphs = [Graph() for i in range(len(graphs))]\n",
    "    igraphs = [igraph.from_networkx(graph) for igraph, graph in zip(igraphs, graphs)]\n",
    "    kernel_values = wwl.pairwise_wasserstein_distance(igraphs, [len(igraphs)-1], enforce_continuous=True, num_iterations=10)\n",
    "    kernel_values = laplacian_kernel(kernel_values) #normalize energey\n",
    "\n",
    "    # gk_wl = WL_metric.GK_WL()\n",
    "    # kernel_values = gk_wl.compare_list(graphs, h=5, node_label=node_label)\n",
    "    return 1- kernel_values\n",
    "    #return np.round(1 - kernel_values, decimals=4)\n",
    "\n",
    "def generate_wl_dist_for_ged_pairs(ged_examples_list):\n",
    "    pairs_index_to_dist_map = {}\n",
    "\n",
    "    all_ged_example_list_graphs = []\n",
    "    for ged_example_list in ged_examples_list:\n",
    "        ged_example_list_graphs = [ged_example_list[0].subgraph.g] + [pair.masked_graph.g for pair in ged_example_list]\n",
    "        all_ged_example_list_graphs += ged_example_list_graphs\n",
    "\n",
    "    wl_dist_matrix = get_graph_wl_distances(all_ged_example_list_graphs, node_label=False)\n",
    "\n",
    "    base_graph_index = 0\n",
    "    pairs_index = 0\n",
    "    for ged_example_list_index, ged_example_list in enumerate(ged_examples_list):\n",
    "        for relative_index, pair in enumerate(ged_example_list):\n",
    "            wl_dist = wl_dist_matrix[base_graph_index][base_graph_index + relative_index + 1]\n",
    "            pairs_index_to_dist_map[pairs_index] = wl_dist\n",
    "\n",
    "            pairs_index += 1\n",
    "        base_graph_index += 1 + (relative_index + 1)\n",
    "\n",
    "    return pairs_index_to_dist_map\n",
    "\n",
    "# go over pairs in ged_examples1/2, and for their subgraphs generate wl+dist\n",
    "# only take into account their wl_dist from the all pairs vs all pairs matrix\n",
    "\n",
    "ged_1_examples_pairs_index_to_dist_map = {}\n",
    "ged_2_examples_pairs_index_to_dist_map = {}\n",
    "\n",
    "max_examples_amount = 1000\n",
    "\n",
    "ged_examples_pairs_index_to_dist_map = generate_wl_dist_for_ged_pairs(ged_1_examples[:max_examples_amount] + ged_2_examples[:1000])\n",
    "for pair_index, wl_dist in ged_examples_pairs_index_to_dist_map.items():\n",
    "    if pair_index < len(ged_1_examples):\n",
    "        ged_1_examples_pairs_index_to_dist_map[pair_index] = wl_dist\n",
    "    else:\n",
    "        ged_2_examples_pairs_index_to_dist_map[pair_index] = wl_dist\n",
    "# ged_1_examples_pairs_index_to_dist_map = generate_wl_dist_for_ged_pairs(ged_1_examples)\n",
    "# ged_2_examples_pairs_index_to_dist_map = generate_wl_dist_for_ged_pairs(ged_2_examples)"
   ]
  },
  {
   "cell_type": "code",
   "execution_count": null,
   "metadata": {
    "collapsed": false,
    "jupyter": {
     "outputs_hidden": false
    },
    "pycharm": {
     "is_executing": true,
     "name": "#%%\n"
    }
   },
   "outputs": [],
   "source": [
    "max(ged_1_examples_pairs_index_to_dist_map.values())"
   ]
  },
  {
   "cell_type": "code",
   "execution_count": null,
   "metadata": {
    "collapsed": false,
    "jupyter": {
     "outputs_hidden": false
    },
    "pycharm": {
     "is_executing": true,
     "name": "#%%\n"
    }
   },
   "outputs": [],
   "source": [
    "min(ged_2_examples_pairs_index_to_dist_map.values())"
   ]
  },
  {
   "cell_type": "code",
   "execution_count": 48,
   "metadata": {
    "collapsed": false,
    "jupyter": {
     "outputs_hidden": false
    },
    "pycharm": {
     "is_executing": true,
     "name": "#%%\n"
    }
   },
   "outputs": [],
   "source": [
    "from scipy.stats import norm\n",
    "import seaborn as sns\n",
    "import matplotlib.pyplot as plt\n",
    "\n",
    "def plot_histogram(sequence, x_title=\"\", min_range=None, max_range=None):\n",
    "    # Fit a distribution to the data\n",
    "    if min_range is None:\n",
    "        min_range = min(sequence)\n",
    "    if max_range is None:\n",
    "        max_range = max(sequence)\n",
    "\n",
    "    print(min_range)\n",
    "    print(max_range)\n",
    "    sequence = [item for item in sequence if ((item >= min_range) and (item <= max_range))]\n",
    "\n",
    "    fig, ax = plt.subplots(1)\n",
    "    sns.histplot(sequence, bins='auto', stat='density',\n",
    "                 label='Normalized Histogram', ax=ax)\n",
    "    \n",
    "    mu, std = norm.fit(sequence)\n",
    "    x = np.linspace(min_range, max_range, 100)\n",
    "    if not np.all(x == x[0]):\n",
    "        y = norm.pdf(x, mu, std)\n",
    "    else:\n",
    "        y = np.ones_like(x)\n",
    "    sns.lineplot(x=x, y=y, color='red', label='Fitted Normal Distribution', ax=ax)\n",
    "\n",
    "    # Plot the KDE\n",
    "    sns.kdeplot(sequence, label='KDE', bw_adjust=0.5, ax=ax)\n",
    "\n",
    "    ax.set_xlabel(x_title)\n",
    "    ax.set_ylabel('Density')\n",
    "    ax.set_title(f'{x_title} Distribution')\n",
    "    ax.legend(loc='upper left')\n",
    "    ax.grid(True)\n",
    "    plt.show()"
   ]
  },
  {
   "cell_type": "code",
   "execution_count": null,
   "metadata": {
    "collapsed": false,
    "jupyter": {
     "outputs_hidden": false
    },
    "pycharm": {
     "is_executing": true,
     "name": "#%%\n"
    }
   },
   "outputs": [],
   "source": [
    "# set(ged_2_examples[0][1].masked_graph.g.edges).symmetric_difference(set(ged_2_examples[0][1].subgraph.g.edges))"
   ]
  },
  {
   "cell_type": "code",
   "execution_count": null,
   "metadata": {
    "collapsed": false,
    "jupyter": {
     "outputs_hidden": false
    },
    "pycharm": {
     "is_executing": true,
     "name": "#%%\n"
    }
   },
   "outputs": [],
   "source": [
    "plot_histogram(list(ged_1_examples_pairs_index_to_dist_map.values()), \"GED positive examples WL distance\")"
   ]
  },
  {
   "cell_type": "code",
   "execution_count": null,
   "metadata": {
    "collapsed": false,
    "jupyter": {
     "outputs_hidden": false
    },
    "pycharm": {
     "is_executing": true,
     "name": "#%%\n"
    }
   },
   "outputs": [],
   "source": [
    "plot_histogram(list(ged_2_examples_pairs_index_to_dist_map.values()), \"GED negative examples WL distance\")"
   ]
  },
  {
   "cell_type": "markdown",
   "metadata": {},
   "source": [
    "check 1-WL distance"
   ]
  },
  {
   "cell_type": "code",
   "execution_count": null,
   "metadata": {
    "pycharm": {
     "is_executing": true
    }
   },
   "outputs": [],
   "source": [
    "# optimized single call for WL distance calculation\n",
    "### NOTE: Wl dist is not stable (depends which batch of graph you applied it with) ###\n",
    "# wl_dist_matrix = get_graph_wl_distances(k_subgraphs, node_label=False)"
   ]
  },
  {
   "cell_type": "code",
   "execution_count": null,
   "metadata": {
    "pycharm": {
     "is_executing": true
    }
   },
   "outputs": [],
   "source": [
    "# negative_pairs_wl_distances = []\n",
    "# positive_pairs_wl_distances = []\n",
    "#\n",
    "# positive_pairs_index_to_dist_map = {}\n",
    "# negative_pairs_index_to_dist_map = {}\n",
    "#\n",
    "# for i, train_sample in enumerate(train_samples_list):\n",
    "#     is_negative_sample = train_sample.is_negative_sample\n",
    "#     graph1 = train_sample.subgraph\n",
    "#     graph2 = train_sample.masked_graph\n",
    "#\n",
    "#     # s2v_graphs = generate_s2v_graphs([graph1.g, graph2.g], print_stats=False)\n",
    "#\n",
    "#     # distance = graph_metric_nn.forward([(s2v_graphs[0], s2v_graphs[1])]).item()\n",
    "#\n",
    "#     # wl_dist = get_graph_wl_distances([graph1.g, graph2.g], node_label=False)[0][1]\n",
    "#\n",
    "#     graph1_index, graph2_index = train_sample_indices_tuple_list[i]\n",
    "#     wl_dist = wl_dist_matrix[graph1_index][graph2_index]\n",
    "#     wl_dist = round(wl_dist, 6)\n",
    "#\n",
    "#     if is_negative_sample:\n",
    "#         negative_pairs_wl_distances.append(wl_dist)\n",
    "#         negative_pairs_index_to_dist_map[i] = wl_dist\n",
    "#     else:\n",
    "#         positive_pairs_wl_distances.append(wl_dist)\n",
    "#         positive_pairs_index_to_dist_map[i] = wl_dist"
   ]
  },
  {
   "cell_type": "code",
   "execution_count": null,
   "metadata": {
    "pycharm": {
     "is_executing": true
    }
   },
   "outputs": [],
   "source": [
    "# len(positive_pairs_wl_distances)"
   ]
  },
  {
   "cell_type": "code",
   "execution_count": null,
   "metadata": {
    "pycharm": {
     "is_executing": true
    }
   },
   "outputs": [],
   "source": [
    "# plot_histogram(positive_pairs_wl_distances, \"positive WL distance\")"
   ]
  },
  {
   "cell_type": "code",
   "execution_count": null,
   "metadata": {
    "pycharm": {
     "is_executing": true
    }
   },
   "outputs": [],
   "source": [
    "# plot_histogram(negative_pairs_wl_distances, \"negative WL distance\")"
   ]
  },
  {
   "cell_type": "code",
   "execution_count": null,
   "metadata": {
    "pycharm": {
     "is_executing": true
    }
   },
   "outputs": [],
   "source": [
    "# cnt = 0\n",
    "# for i, dist in negative_pairs_index_to_dist_map.items():\n",
    "#     if dist < 0.13:\n",
    "#         print(i)"
   ]
  },
  {
   "cell_type": "code",
   "execution_count": 49,
   "metadata": {
    "pycharm": {
     "is_executing": true
    }
   },
   "outputs": [],
   "source": [
    "from subgraph_matching_via_nn.training.MarginLoss import MarginLoss\n",
    "def calc_margin_loss(distances, pos_labels, margin):\n",
    "    negative_labels = 1 - pos_labels\n",
    "    lossCriterion = MarginLoss(margin)\n",
    "    pos_loss, neg_loss = lossCriterion.get_loss(distances, pos_labels, negative_labels)\n",
    "    print(pos_loss.sum().item())\n",
    "    print(neg_loss.sum().item())\n",
    "\n",
    "# margin = 0.001\n",
    "# calc_margin_loss(torch.tensor(positive_pairs_wl_distances+negative_pairs_wl_distances), torch.cat((torch.ones(len(positive_pairs_wl_distances)), torch.zeros(len(negative_pairs_wl_distances)))), margin)"
   ]
  },
  {
   "cell_type": "markdown",
   "metadata": {},
   "source": [
    "Fit GNN on k subgraph pairs"
   ]
  },
  {
   "cell_type": "code",
   "execution_count": 50,
   "metadata": {
    "collapsed": false,
    "jupyter": {
     "outputs_hidden": false
    },
    "pycharm": {
     "is_executing": true,
     "name": "#%%\n"
    }
   },
   "outputs": [
    {
     "data": {
      "text/plain": [
       "<torch.autograd.anomaly_mode.set_detect_anomaly at 0x7f14457469d0>"
      ]
     },
     "execution_count": 50,
     "metadata": {},
     "output_type": "execute_result"
    }
   ],
   "source": [
    "# disable debugging overhead operations\n",
    "torch.autograd.set_detect_anomaly(mode=False)"
   ]
  },
  {
   "cell_type": "code",
   "execution_count": 51,
   "metadata": {
    "pycharm": {
     "is_executing": true
    }
   },
   "outputs": [],
   "source": [
    "solver_params['margin_loss_margin_value'] = 0.5 #0.25 #0.01"
   ]
  },
  {
   "cell_type": "code",
   "execution_count": 52,
   "metadata": {
    "pycharm": {
     "is_executing": true
    }
   },
   "outputs": [],
   "source": [
    "used_train_samples_list = train_samples_list[:50_000] #Needed due to performance issues\n",
    "processes_device_ids = [0, 1, 2, 3]"
   ]
  },
  {
   "cell_type": "code",
   "execution_count": 53,
   "metadata": {
    "collapsed": false,
    "jupyter": {
     "outputs_hidden": false
    },
    "pycharm": {
     "is_executing": true,
     "name": "#%%\n"
    }
   },
   "outputs": [
    {
     "data": {
      "text/plain": [
       "50000"
      ]
     },
     "execution_count": 53,
     "metadata": {},
     "output_type": "execute_result"
    }
   ],
   "source": [
    "len(used_train_samples_list)"
   ]
  },
  {
   "cell_type": "code",
   "execution_count": 54,
   "metadata": {},
   "outputs": [],
   "source": [
    "last_checkpoint_model_path = None\n",
    "\n",
    "val_samples_list = used_train_samples_list\n",
    "model_factory_func = lambda device: GraphCNN(num_layers=5, num_mlp_layers = 2, input_dim=input_dim, hidden_dim=128, output_dim=num_classes, final_dropout=0.5, learn_eps=False, graph_pooling_type=\"sum\", neighbor_pooling_type=\"sum\", device=device)\n",
    "solver_params[\"batch_size\"] = 512 * 8 #32 #2048 #1024 #512\n",
    "solver_params[\"k_update_plot\"] = 1\n",
    "solver_params[\"lr\"] = 1e-1\n",
    "solver_params[\"max_epochs\"] = 2000 #480--\n",
    "trainer, graph_metric_nn, model = init_embedding_net_and_trainer(model_factory_func, last_checkpoint_model_path)\n",
    "\n",
    "# trainer.set_existing_data_loader_paths(\n",
    "#     ['./dataloaders/1702148493.0283618.p',\n",
    "#  './dataloaders/1702148497.9922142.p',\n",
    "#  './dataloaders/1702148502.9499629.p',\n",
    "#  './dataloaders/1702148511.1819935.p'],\n",
    "# []\n",
    "# )"
   ]
  },
  {
   "cell_type": "code",
   "execution_count": 55,
   "metadata": {
    "scrolled": true
   },
   "outputs": [
    {
     "data": {
      "image/png": "[encoded data removed]",
      "text/plain": [
       "<Figure size 1200x800 with 2 Axes>"
      ]
     },
     "metadata": {},
     "output_type": "display_data"
    },
    {
     "name": "stdout",
     "output_type": "stream",
     "text": [
      "epoch train loss\n",
      "\tepoch train loss \t (min:   81.927, max: 64141.701, cur:  146.965)\n"
     ]
    },
    {
     "name": "stderr",
     "output_type": "stream",
     "text": [
      "Process Process-85:\n",
      "Process Process-84:\n",
      "Traceback (most recent call last):\n",
      "Traceback (most recent call last):\n",
      "  File \"/home/sanketh/miniconda3/lib/python3.11/multiprocessing/process.py\", line 314, in _bootstrap\n",
      "    self.run()\n",
      "  File \"/home/sanketh/miniconda3/lib/python3.11/multiprocessing/process.py\", line 108, in run\n",
      "    self._target(*self._args, **self._kwargs)\n",
      "  File \"/home/sanketh/DANI/GraphMatching/subgraph_matching_via_nn/training/trainer/SimilarityMetricTrainerBase.py\", line 44, in init_process\n",
      "    fn(device_id, q, train_loader, val_loader)\n",
      "  File \"/home/sanketh/DANI/GraphMatching/subgraph_matching_via_nn/training/trainer/SimilarityMetricTrainerBase.py\", line 84, in _training_worker_run_func\n",
      "    return self._train_loop(self.graph_similarity_module, train_loader, val_loader, q)\n",
      "           ^^^^^^^^^^^^^^^^^^^^^^^^^^^^^^^^^^^^^^^^^^^^^^^^^^^^^^^^^^^^^^^^^^^^^^^^^^^\n",
      "  File \"/home/sanketh/DANI/GraphMatching/subgraph_matching_via_nn/training/trainer/SimilarityMetricTrainerBase.py\", line 441, in _train_loop\n",
      "    train_loss = self.calculate_loss_for_batch(train_batch, is_train=True)\n",
      "                 ^^^^^^^^^^^^^^^^^^^^^^^^^^^^^^^^^^^^^^^^^^^^^^^^^^^^^^^^^\n",
      "  File \"/home/sanketh/DANI/GraphMatching/subgraph_matching_via_nn/training/trainer/SimilarityMetricTrainerBase.py\", line 573, in calculate_loss_for_batch\n",
      "    batch_loss = self._get_pairs_list_loss(batch)\n",
      "                 ^^^^^^^^^^^^^^^^^^^^^^^^^^^^^^^^\n",
      "  File \"/home/sanketh/DANI/GraphMatching/subgraph_matching_via_nn/training/trainer/S2VGraphEmbeddingSimilarityMetricTrainer.py\", line 74, in _get_pairs_list_loss\n",
      "    embeddings_metric_loss = self.graph_similarity_module.forward(\n",
      "                             ^^^^^^^^^^^^^^^^^^^^^^^^^^^^^^^^^^^^^\n",
      "  File \"/home/sanketh/DANI/GraphMatching/subgraph_matching_via_nn/graph_metric_networks/graph_metric_nn.py\", line 49, in forward\n",
      "    embeddings = embedding_network.forward_graphs(all_graphs)\n",
      "                 ^^^^^^^^^^^^^^^^^^^^^^^^^^^^^^^^^^^^^^^^^^^^\n",
      "  File \"/home/sanketh/DANI/GraphMatching/subgraph_matching_via_nn/graph_embedding_networks/gnn_embedding_network.py\", line 14, in forward_graphs\n",
      "    embeddings = self.gnn_model.get_embedding(batch_graph)\n",
      "                 ^^^^^^^^^^^^^^^^^^^^^^^^^^^^^^^^^^^^^^^^^\n",
      "  File \"/home/sanketh/DANI/GraphMatching/powerful_gnns/models/graphcnn.py\", line 238, in get_embedding\n",
      "    graph_pool, hidden_rep = self.get_hidden_rep_over_layers(batch_graph)\n",
      "                             ^^^^^^^^^^^^^^^^^^^^^^^^^^^^^^^^^^^^^^^^^^^^\n",
      "  File \"/home/sanketh/DANI/GraphMatching/powerful_gnns/models/graphcnn.py\", line 217, in get_hidden_rep_over_layers\n",
      "    Adj_block = self.__preprocess_neighbors_sumavepool(batch_graph)\n",
      "                ^^^^^^^^^^^^^^^^^^^^^^^^^^^^^^^^^^^^^^^^^^^^^^^^^^^\n",
      "  File \"/home/sanketh/DANI/GraphMatching/powerful_gnns/models/graphcnn.py\", line 117, in __preprocess_neighbors_sumavepool\n",
      "    self_loop_edge = torch.tensor(([range(num_node), range(num_node)]), dtype=torch.long, device=self.get_device())\n",
      "                     ^^^^^^^^^^^^^^^^^^^^^^^^^^^^^^^^^^^^^^^^^^^^^^^^^^^^^^^^^^^^^^^^^^^^^^^^^^^^^^^^^^^^^^^^^^^^^^\n",
      "KeyboardInterrupt\n",
      "  File \"/home/sanketh/miniconda3/lib/python3.11/multiprocessing/process.py\", line 314, in _bootstrap\n",
      "    self.run()\n",
      "  File \"/home/sanketh/miniconda3/lib/python3.11/multiprocessing/process.py\", line 108, in run\n",
      "    self._target(*self._args, **self._kwargs)\n",
      "  File \"/home/sanketh/DANI/GraphMatching/subgraph_matching_via_nn/training/trainer/SimilarityMetricTrainerBase.py\", line 44, in init_process\n",
      "    fn(device_id, q, train_loader, val_loader)\n",
      "  File \"/home/sanketh/DANI/GraphMatching/subgraph_matching_via_nn/training/trainer/SimilarityMetricTrainerBase.py\", line 84, in _training_worker_run_func\n",
      "    return self._train_loop(self.graph_similarity_module, train_loader, val_loader, q)\n",
      "           ^^^^^^^^^^^^^^^^^^^^^^^^^^^^^^^^^^^^^^^^^^^^^^^^^^^^^^^^^^^^^^^^^^^^^^^^^^^\n",
      "  File \"/home/sanketh/DANI/GraphMatching/subgraph_matching_via_nn/training/trainer/SimilarityMetricTrainerBase.py\", line 441, in _train_loop\n",
      "    train_loss = self.calculate_loss_for_batch(train_batch, is_train=True)\n",
      "                 ^^^^^^^^^^^^^^^^^^^^^^^^^^^^^^^^^^^^^^^^^^^^^^^^^^^^^^^^^\n",
      "  File \"/home/sanketh/DANI/GraphMatching/subgraph_matching_via_nn/training/trainer/SimilarityMetricTrainerBase.py\", line 573, in calculate_loss_for_batch\n",
      "    batch_loss = self._get_pairs_list_loss(batch)\n",
      "                 ^^^^^^^^^^^^^^^^^^^^^^^^^^^^^^^^\n",
      "  File \"/home/sanketh/DANI/GraphMatching/subgraph_matching_via_nn/training/trainer/S2VGraphEmbeddingSimilarityMetricTrainer.py\", line 74, in _get_pairs_list_loss\n",
      "    embeddings_metric_loss = self.graph_similarity_module.forward(\n",
      "                             ^^^^^^^^^^^^^^^^^^^^^^^^^^^^^^^^^^^^^\n",
      "  File \"/home/sanketh/DANI/GraphMatching/subgraph_matching_via_nn/graph_metric_networks/graph_metric_nn.py\", line 49, in forward\n",
      "    embeddings = embedding_network.forward_graphs(all_graphs)\n",
      "                 ^^^^^^^^^^^^^^^^^^^^^^^^^^^^^^^^^^^^^^^^^^^^\n",
      "  File \"/home/sanketh/DANI/GraphMatching/subgraph_matching_via_nn/graph_embedding_networks/gnn_embedding_network.py\", line 14, in forward_graphs\n",
      "    embeddings = self.gnn_model.get_embedding(batch_graph)\n",
      "                 ^^^^^^^^^^^^^^^^^^^^^^^^^^^^^^^^^^^^^^^^^\n",
      "  File \"/home/sanketh/DANI/GraphMatching/powerful_gnns/models/graphcnn.py\", line 238, in get_embedding\n",
      "    graph_pool, hidden_rep = self.get_hidden_rep_over_layers(batch_graph)\n",
      "                             ^^^^^^^^^^^^^^^^^^^^^^^^^^^^^^^^^^^^^^^^^^^^\n",
      "  File \"/home/sanketh/DANI/GraphMatching/powerful_gnns/models/graphcnn.py\", line 217, in get_hidden_rep_over_layers\n",
      "    Adj_block = self.__preprocess_neighbors_sumavepool(batch_graph)\n",
      "                ^^^^^^^^^^^^^^^^^^^^^^^^^^^^^^^^^^^^^^^^^^^^^^^^^^^\n",
      "  File \"/home/sanketh/DANI/GraphMatching/powerful_gnns/models/graphcnn.py\", line 117, in __preprocess_neighbors_sumavepool\n",
      "    self_loop_edge = torch.tensor(([range(num_node), range(num_node)]), dtype=torch.long, device=self.get_device())\n",
      "                     ^^^^^^^^^^^^^^^^^^^^^^^^^^^^^^^^^^^^^^^^^^^^^^^^^^^^^^^^^^^^^^^^^^^^^^^^^^^^^^^^^^^^^^^^^^^^^^\n",
      "KeyboardInterrupt\n",
      "Process Process-86:\n",
      "Process Process-83:\n",
      "Traceback (most recent call last):\n",
      "Traceback (most recent call last):\n",
      "  File \"/home/sanketh/miniconda3/lib/python3.11/multiprocessing/process.py\", line 314, in _bootstrap\n",
      "    self.run()\n",
      "  File \"/home/sanketh/miniconda3/lib/python3.11/multiprocessing/process.py\", line 108, in run\n",
      "    self._target(*self._args, **self._kwargs)\n",
      "  File \"/home/sanketh/DANI/GraphMatching/subgraph_matching_via_nn/training/trainer/SimilarityMetricTrainerBase.py\", line 44, in init_process\n",
      "    fn(device_id, q, train_loader, val_loader)\n",
      "  File \"/home/sanketh/DANI/GraphMatching/subgraph_matching_via_nn/training/trainer/SimilarityMetricTrainerBase.py\", line 84, in _training_worker_run_func\n",
      "    return self._train_loop(self.graph_similarity_module, train_loader, val_loader, q)\n",
      "           ^^^^^^^^^^^^^^^^^^^^^^^^^^^^^^^^^^^^^^^^^^^^^^^^^^^^^^^^^^^^^^^^^^^^^^^^^^^\n",
      "  File \"/home/sanketh/DANI/GraphMatching/subgraph_matching_via_nn/training/trainer/SimilarityMetricTrainerBase.py\", line 441, in _train_loop\n",
      "    train_loss = self.calculate_loss_for_batch(train_batch, is_train=True)\n",
      "                 ^^^^^^^^^^^^^^^^^^^^^^^^^^^^^^^^^^^^^^^^^^^^^^^^^^^^^^^^^\n",
      "  File \"/home/sanketh/DANI/GraphMatching/subgraph_matching_via_nn/training/trainer/SimilarityMetricTrainerBase.py\", line 573, in calculate_loss_for_batch\n",
      "    batch_loss = self._get_pairs_list_loss(batch)\n",
      "                 ^^^^^^^^^^^^^^^^^^^^^^^^^^^^^^^^\n",
      "  File \"/home/sanketh/DANI/GraphMatching/subgraph_matching_via_nn/training/trainer/S2VGraphEmbeddingSimilarityMetricTrainer.py\", line 74, in _get_pairs_list_loss\n",
      "    embeddings_metric_loss = self.graph_similarity_module.forward(\n",
      "                             ^^^^^^^^^^^^^^^^^^^^^^^^^^^^^^^^^^^^^\n",
      "  File \"/home/sanketh/DANI/GraphMatching/subgraph_matching_via_nn/graph_metric_networks/graph_metric_nn.py\", line 49, in forward\n",
      "    embeddings = embedding_network.forward_graphs(all_graphs)\n",
      "                 ^^^^^^^^^^^^^^^^^^^^^^^^^^^^^^^^^^^^^^^^^^^^\n",
      "  File \"/home/sanketh/DANI/GraphMatching/subgraph_matching_via_nn/graph_embedding_networks/gnn_embedding_network.py\", line 14, in forward_graphs\n",
      "    embeddings = self.gnn_model.get_embedding(batch_graph)\n",
      "                 ^^^^^^^^^^^^^^^^^^^^^^^^^^^^^^^^^^^^^^^^^\n",
      "  File \"/home/sanketh/DANI/GraphMatching/powerful_gnns/models/graphcnn.py\", line 238, in get_embedding\n",
      "    graph_pool, hidden_rep = self.get_hidden_rep_over_layers(batch_graph)\n",
      "                             ^^^^^^^^^^^^^^^^^^^^^^^^^^^^^^^^^^^^^^^^^^^^\n",
      "  File \"/home/sanketh/DANI/GraphMatching/powerful_gnns/models/graphcnn.py\", line 217, in get_hidden_rep_over_layers\n",
      "    Adj_block = self.__preprocess_neighbors_sumavepool(batch_graph)\n",
      "                ^^^^^^^^^^^^^^^^^^^^^^^^^^^^^^^^^^^^^^^^^^^^^^^^^^^\n",
      "  File \"/home/sanketh/DANI/GraphMatching/powerful_gnns/models/graphcnn.py\", line 117, in __preprocess_neighbors_sumavepool\n",
      "    self_loop_edge = torch.tensor(([range(num_node), range(num_node)]), dtype=torch.long, device=self.get_device())\n",
      "                     ^^^^^^^^^^^^^^^^^^^^^^^^^^^^^^^^^^^^^^^^^^^^^^^^^^^^^^^^^^^^^^^^^^^^^^^^^^^^^^^^^^^^^^^^^^^^^^\n",
      "KeyboardInterrupt\n",
      "  File \"/home/sanketh/miniconda3/lib/python3.11/multiprocessing/process.py\", line 314, in _bootstrap\n",
      "    self.run()\n",
      "  File \"/home/sanketh/miniconda3/lib/python3.11/multiprocessing/process.py\", line 108, in run\n",
      "    self._target(*self._args, **self._kwargs)\n",
      "  File \"/home/sanketh/DANI/GraphMatching/subgraph_matching_via_nn/training/trainer/SimilarityMetricTrainerBase.py\", line 44, in init_process\n",
      "    fn(device_id, q, train_loader, val_loader)\n",
      "  File \"/home/sanketh/DANI/GraphMatching/subgraph_matching_via_nn/training/trainer/SimilarityMetricTrainerBase.py\", line 84, in _training_worker_run_func\n",
      "    return self._train_loop(self.graph_similarity_module, train_loader, val_loader, q)\n",
      "           ^^^^^^^^^^^^^^^^^^^^^^^^^^^^^^^^^^^^^^^^^^^^^^^^^^^^^^^^^^^^^^^^^^^^^^^^^^^\n",
      "  File \"/home/sanketh/DANI/GraphMatching/subgraph_matching_via_nn/training/trainer/SimilarityMetricTrainerBase.py\", line 441, in _train_loop\n",
      "    train_loss = self.calculate_loss_for_batch(train_batch, is_train=True)\n",
      "                 ^^^^^^^^^^^^^^^^^^^^^^^^^^^^^^^^^^^^^^^^^^^^^^^^^^^^^^^^^\n",
      "  File \"/home/sanketh/DANI/GraphMatching/subgraph_matching_via_nn/training/trainer/SimilarityMetricTrainerBase.py\", line 573, in calculate_loss_for_batch\n",
      "    batch_loss = self._get_pairs_list_loss(batch)\n",
      "                 ^^^^^^^^^^^^^^^^^^^^^^^^^^^^^^^^\n",
      "  File \"/home/sanketh/DANI/GraphMatching/subgraph_matching_via_nn/training/trainer/S2VGraphEmbeddingSimilarityMetricTrainer.py\", line 74, in _get_pairs_list_loss\n",
      "    embeddings_metric_loss = self.graph_similarity_module.forward(\n",
      "                             ^^^^^^^^^^^^^^^^^^^^^^^^^^^^^^^^^^^^^\n",
      "  File \"/home/sanketh/DANI/GraphMatching/subgraph_matching_via_nn/graph_metric_networks/graph_metric_nn.py\", line 49, in forward\n",
      "    embeddings = embedding_network.forward_graphs(all_graphs)\n",
      "                 ^^^^^^^^^^^^^^^^^^^^^^^^^^^^^^^^^^^^^^^^^^^^\n",
      "  File \"/home/sanketh/DANI/GraphMatching/subgraph_matching_via_nn/graph_embedding_networks/gnn_embedding_network.py\", line 14, in forward_graphs\n",
      "    embeddings = self.gnn_model.get_embedding(batch_graph)\n",
      "                 ^^^^^^^^^^^^^^^^^^^^^^^^^^^^^^^^^^^^^^^^^\n",
      "  File \"/home/sanketh/DANI/GraphMatching/powerful_gnns/models/graphcnn.py\", line 238, in get_embedding\n",
      "    graph_pool, hidden_rep = self.get_hidden_rep_over_layers(batch_graph)\n",
      "                             ^^^^^^^^^^^^^^^^^^^^^^^^^^^^^^^^^^^^^^^^^^^^\n",
      "  File \"/home/sanketh/DANI/GraphMatching/powerful_gnns/models/graphcnn.py\", line 217, in get_hidden_rep_over_layers\n",
      "    Adj_block = self.__preprocess_neighbors_sumavepool(batch_graph)\n",
      "                ^^^^^^^^^^^^^^^^^^^^^^^^^^^^^^^^^^^^^^^^^^^^^^^^^^^\n",
      "  File \"/home/sanketh/DANI/GraphMatching/powerful_gnns/models/graphcnn.py\", line 117, in __preprocess_neighbors_sumavepool\n",
      "    self_loop_edge = torch.tensor(([range(num_node), range(num_node)]), dtype=torch.long, device=self.get_device())\n",
      "                     ^^^^^^^^^^^^^^^^^^^^^^^^^^^^^^^^^^^^^^^^^^^^^^^^^^^^^^^^^^^^^^^^^^^^^^^^^^^^^^^^^^^^^^^^^^^^^^\n",
      "KeyboardInterrupt\n",
      "\n",
      "KeyboardInterrupt\n",
      "\n"
     ]
    }
   ],
   "source": [
    "trainer.train(processes_device_ids=processes_device_ids, use_existing_data_loaders=False, train_samples_list=used_train_samples_list, val_samples_list=[])"
   ]
  },
  {
   "cell_type": "code",
   "execution_count": null,
   "metadata": {},
   "outputs": [],
   "source": [
    "# GED2 -> \"./mp/1703271648.8009052/best_model_state_dict.pt\", not seperable well\n",
    "# GED4 - > \"\"./mp/1703279923.1549501/best_model_state_dict.pt\", seperable well (not perfect but close)"
   ]
  },
  {
   "cell_type": "code",
   "execution_count": 56,
   "metadata": {},
   "outputs": [],
   "source": [
    "trainer, graph_metric_nn, model = init_embedding_net_and_trainer(model_factory_func, \"./mp/1703288987.126234/best_model_state_dict.pt\")\n",
    "_ = graph_metric_nn.eval()"
   ]
  },
  {
   "cell_type": "code",
   "execution_count": 57,
   "metadata": {},
   "outputs": [],
   "source": [
    "train_loaders, val_loaders = trainer.get_data_loaders(used_train_samples_list, [], new_samples_amount=0, device_ids=[0])"
   ]
  },
  {
   "cell_type": "code",
   "execution_count": 58,
   "metadata": {},
   "outputs": [],
   "source": [
    "positive_distances = []\n",
    "negative_distances = []\n",
    "\n",
    "# max_pair_batches_to_test = 10\n",
    "\n",
    "i = 0\n",
    "\n",
    "for pairs_batch in train_loaders[0]:\n",
    "    # if i >= max_pair_batches_to_test:\n",
    "    #     break\n",
    "    i += 1\n",
    "\n",
    "    with torch.no_grad():\n",
    "        distances = graph_metric_nn.forward(\n",
    "            [sample.s2v_graphs for sample in pairs_batch]\n",
    "        )\n",
    "    \n",
    "    for pair, distance in zip(pairs_batch, distances):\n",
    "        distance = distance.item()\n",
    "        is_negative_example = pair.pair_sample_info.is_negative_sample\n",
    "        # print(f\"{i} : {distance}\")\n",
    "        \n",
    "        if is_negative_example==False:\n",
    "            positive_distances.append(distance)\n",
    "            # if distance > solver_params['margin_loss_margin_value']:\n",
    "            #     print(f\"positive loss term not zero, as distance for this positive example pair is {distance}\")\n",
    "        else:\n",
    "            negative_distances.append(distance)\n",
    "            # if distance < solver_params['margin_loss_margin_value']:\n",
    "            #     print(f\"negative loss term not zero, as distance for this negative example pair is {distance}\")"
   ]
  },
  {
   "cell_type": "code",
   "execution_count": 59,
   "metadata": {},
   "outputs": [
    {
     "data": {
      "text/plain": [
       "[0.007757403422147036,\n",
       " 0.0007036758470349014,\n",
       " 0.025718165561556816,\n",
       " 0.015958724543452263,\n",
       " 0.001097292173653841,\n",
       " 0.0020568373147398233,\n",
       " 0.005287806503474712,\n",
       " 0.0054832263849675655,\n",
       " 0.009491066448390484,\n",
       " 0.007895075716078281,\n",
       " 0.035606399178504944,\n",
       " 0.00017322818166576326,\n",
       " 1.4287053318184917e-08,\n",
       " 0.012668859213590622,\n",
       " 0.0005159272695891559,\n",
       " 0.002466662786900997,\n",
       " 0.03166154399514198,\n",
       " 0.0010733603266999125,\n",
       " 0.04212130233645439,\n",
       " 2.157684684789274e-05,\n",
       " 0.0010417873272672296,\n",
       " 0.0018687036354094744,\n",
       " 0.020536907017230988,\n",
       " 0.0011977923568338156,\n",
       " 8.632177923573181e-06,\n",
       " 0.0004420735640451312,\n",
       " 0.00010790741362143308,\n",
       " 0.0024868492037057877,\n",
       " 0.0006149253458715975,\n",
       " 0.0013411884428933263,\n",
       " 8.798907401796896e-06,\n",
       " 0.006982584483921528,\n",
       " 7.270941569004208e-05,\n",
       " 0.00031443656189367175,\n",
       " 0.004617499187588692,\n",
       " 6.5985595938400365e-06,\n",
       " 9.308072185376659e-05,\n",
       " 0.0013860852923244238,\n",
       " 0.007038468029350042,\n",
       " 0.004487938713282347,\n",
       " 0.006982598453760147,\n",
       " 0.0013689470943063498,\n",
       " 0.00021160249889362603,\n",
       " 0.003465741639956832,\n",
       " 0.04871825501322746,\n",
       " 0.012837310321629047,\n",
       " 0.011315913870930672,\n",
       " 0.00974776316434145,\n",
       " 0.0022453488782048225,\n",
       " 0.0007130986195988953,\n",
       " 0.0018709927098825574,\n",
       " 0.004303178749978542,\n",
       " 0.0012613002909347415,\n",
       " 0.00032540623215027153,\n",
       " 0.0006143234786577523,\n",
       " 0.006145933642983437,\n",
       " 0.007019259966909885,\n",
       " 0.0011496027000248432,\n",
       " 0.018896250054240227,\n",
       " 0.00020450699958018959,\n",
       " 0.008893449790775776,\n",
       " 0.031661514192819595,\n",
       " 0.011873506009578705,\n",
       " 0.0001824678183766082,\n",
       " 0.006982584483921528,\n",
       " 0.007291311863809824,\n",
       " 0.001724011730402708,\n",
       " 0.006571396719664335,\n",
       " 0.003372057806700468,\n",
       " 7.97627872088924e-05,\n",
       " 0.005360482260584831,\n",
       " 0.0006885440088808537,\n",
       " 0.0010747913038358092,\n",
       " 0.0015413046348839998,\n",
       " 9.062485332833603e-05,\n",
       " 0.018745314329862595,\n",
       " 0.00715288519859314,\n",
       " 0.0003547764790710062,\n",
       " 0.011873506009578705,\n",
       " 0.0001853255380410701,\n",
       " 0.006513402331620455,\n",
       " 0.018745223060250282,\n",
       " 0.0010662195272743702,\n",
       " 0.006798548623919487,\n",
       " 0.00044559684465639293,\n",
       " 1.1656088645395357e-06,\n",
       " 0.0007130986195988953,\n",
       " 8.451352186966687e-06,\n",
       " 0.010363510809838772,\n",
       " 0.00018533012189436704,\n",
       " 0.007187288720160723,\n",
       " 0.02738039195537567,\n",
       " 0.006683470215648413,\n",
       " 0.010202812030911446,\n",
       " 0.00033617750159464777,\n",
       " 0.0006885440088808537,\n",
       " 0.002761329524219036,\n",
       " 1.9042754502152093e-05,\n",
       " 0.007752445060759783,\n",
       " 0.00019816563872154802,\n",
       " 1.2401822459651157e-05,\n",
       " 0.004406005144119263,\n",
       " 0.005585881415754557,\n",
       " 0.012123801745474339,\n",
       " 0.0008227988728322089,\n",
       " 0.011873506009578705,\n",
       " 0.0001194323122035712,\n",
       " 0.009090817533433437,\n",
       " 0.005808917339891195,\n",
       " 9.919773583533242e-05,\n",
       " 0.006890364456921816,\n",
       " 0.00015959299344103783,\n",
       " 5.506445450009778e-05,\n",
       " 0.003440904663875699,\n",
       " 0.0013860914623364806,\n",
       " 0.0043662795796990395,\n",
       " 0.009721466340124607,\n",
       " 3.579877102311002e-06,\n",
       " 6.371134804794565e-05,\n",
       " 0.0009038048447109759,\n",
       " 0.0006836071261204779,\n",
       " 0.014446081593632698,\n",
       " 0.0006975267897360027,\n",
       " 2.9254089895403013e-05,\n",
       " 0.0008756900788284838,\n",
       " 0.00033425449510104954,\n",
       " 0.00017212715465575457,\n",
       " 8.053100373217603e-07,\n",
       " 0.002758300630375743,\n",
       " 0.009860188700258732,\n",
       " 0.003096718806773424,\n",
       " 0.004149602726101875,\n",
       " 0.004772610031068325,\n",
       " 0.0006857024854980409,\n",
       " 0.012668859213590622,\n",
       " 0.003115943167358637,\n",
       " 8.053100373217603e-07,\n",
       " 0.008536772802472115,\n",
       " 0.0002777570334728807,\n",
       " 0.0001732326199999079,\n",
       " 0.0035349621903151274,\n",
       " 0.0012612883001565933,\n",
       " 0.002225493546575308,\n",
       " 0.006683456711471081,\n",
       " 0.00021289441792760044,\n",
       " 0.005680234637111425,\n",
       " 0.0015432245563715696,\n",
       " 0.006343820132315159,\n",
       " 3.1694071367383003e-06,\n",
       " 0.00043743522837758064,\n",
       " 0.005435592494904995,\n",
       " 0.0013833876000717282,\n",
       " 0.00688045984134078,\n",
       " 0.0070890942588448524,\n",
       " 3.714418562594801e-05,\n",
       " 0.0006856936379335821,\n",
       " 0.0032340921461582184,\n",
       " 5.190605406824034e-06,\n",
       " 0.0029905263800174,\n",
       " 0.0030268493574112654,\n",
       " 0.00022570039436686784,\n",
       " 0.0019087656401097775,\n",
       " 0.0024379021488130093,\n",
       " 0.0045154704712331295,\n",
       " 0.0025388221256434917,\n",
       " 0.0029010591097176075,\n",
       " 4.1887690827024926e-07,\n",
       " 0.00039366394048556685,\n",
       " 0.005892529617995024,\n",
       " 0.00039566674968227744,\n",
       " 0.016591375693678856,\n",
       " 0.0003690024896059185,\n",
       " 0.0008902376284822822,\n",
       " 0.0026368952821940184,\n",
       " 0.0007746065966784954,\n",
       " 0.0032748898956924677,\n",
       " 0.03166154399514198,\n",
       " 2.3088139187166234e-06,\n",
       " 0.02484292909502983,\n",
       " 0.0018379312241449952,\n",
       " 0.001505921594798565,\n",
       " 0.014983867295086384,\n",
       " 0.0044122738763689995,\n",
       " 0.02307174727320671,\n",
       " 2.157684684789274e-05,\n",
       " 0.0001194323122035712,\n",
       " 0.007322843186557293,\n",
       " 4.2279218178009614e-05,\n",
       " 0.008087783120572567,\n",
       " 0.00010916848259512335,\n",
       " 0.0011326544918119907,\n",
       " 1.5056009942782111e-05,\n",
       " 0.0018379456596449018,\n",
       " 0.008078870363533497,\n",
       " 0.0013076290488243103,\n",
       " 0.012794254347682,\n",
       " 3.579877102311002e-06,\n",
       " 0.007152914069592953,\n",
       " 0.007187260314822197,\n",
       " 0.0001120103697758168,\n",
       " 1.1205564078409225e-05,\n",
       " 0.006294128019362688,\n",
       " 0.0029905263800174,\n",
       " 0.0001824678183766082,\n",
       " 0.005435567814856768,\n",
       " 0.0002593352401163429,\n",
       " 0.00020450699958018959,\n",
       " 8.053100373217603e-07,\n",
       " 0.0009204029920510948,\n",
       " 0.0009815336670726538,\n",
       " 0.015958724543452263,\n",
       " 0.0007917135371826589,\n",
       " 0.0001853255380410701,\n",
       " 0.0004385625070426613,\n",
       " 0.04261687397956848,\n",
       " 0.0002256902662338689,\n",
       " 0.00477263331413269,\n",
       " 0.004156806040555239,\n",
       " 0.020464275032281876,\n",
       " 0.0025165982078760862,\n",
       " 0.013794331811368465,\n",
       " 0.0008702556951902807,\n",
       " 1.4287053318184917e-08,\n",
       " 0.0006885440088808537,\n",
       " 0.006571396719664335,\n",
       " 0.002299150452017784,\n",
       " 0.00445325393229723,\n",
       " 0.010500676929950714,\n",
       " 0.021885542199015617,\n",
       " 0.004578722640872002,\n",
       " 3.90240311389789e-05,\n",
       " 1.8851225831895135e-05,\n",
       " 0.0025771744549274445,\n",
       " 0.005439496133476496,\n",
       " 0.0004502137308008969,\n",
       " 0.02324245311319828,\n",
       " 0.0030433537904173136,\n",
       " 7.655995432287455e-05,\n",
       " 3.579877102311002e-06,\n",
       " 0.00029996762168593705,\n",
       " 0.0026369125116616488,\n",
       " 2.449227758916095e-05,\n",
       " 0.004094908945262432,\n",
       " 0.029443366453051567,\n",
       " 1.885415258584544e-05,\n",
       " 0.014095059596002102,\n",
       " 0.0012943849433213472,\n",
       " 8.384743068745593e-07,\n",
       " 3.297155899417703e-07,\n",
       " 0.03100164607167244,\n",
       " 0.00018244959937874228,\n",
       " 0.01197990495711565,\n",
       " 5.55107144464273e-05,\n",
       " 9.876500553218648e-05,\n",
       " 0.00900825671851635,\n",
       " 0.005435567814856768,\n",
       " 0.00026982929557561874,\n",
       " 0.002126987325027585,\n",
       " 0.00701923156157136,\n",
       " 0.007895075716078281,\n",
       " 0.0012877881526947021,\n",
       " 0.005429541226476431,\n",
       " 0.002338767983019352,\n",
       " 0.0023688673973083496,\n",
       " 0.00021289441792760044,\n",
       " 0.018896250054240227,\n",
       " 0.02183656208217144,\n",
       " 0.00218130461871624,\n",
       " 0.00028310404741205275,\n",
       " 0.0002310402487637475,\n",
       " 0.02974376454949379,\n",
       " 0.0032748705707490444,\n",
       " 0.006204808130860329,\n",
       " 0.003918765112757683,\n",
       " 0.0005159272695891559,\n",
       " 0.00738587835803628,\n",
       " 0.0053671495988965034,\n",
       " 0.007225844543427229,\n",
       " 0.0003209994174540043,\n",
       " 0.0025317256804555655,\n",
       " 2.9255003028083593e-05,\n",
       " 0.0011719341855496168,\n",
       " 0.00995942298322916,\n",
       " 0.0034408848732709885,\n",
       " 0.00027178795426152647,\n",
       " 0.00023123504070099443,\n",
       " 0.0020113997161388397,\n",
       " 0.005278346594423056,\n",
       " 0.003719290252774954,\n",
       " 0.004075287375599146,\n",
       " 0.00015959511802066118,\n",
       " 0.004633964505046606,\n",
       " 0.006683470215648413,\n",
       " 0.0005844882107339799,\n",
       " 0.02974376454949379,\n",
       " 1.0332184501748998e-05,\n",
       " 0.005808917339891195,\n",
       " 0.007446186617016792,\n",
       " 0.0011977807153016329,\n",
       " 0.00831754133105278,\n",
       " 0.026015307754278183,\n",
       " 0.001475453027524054,\n",
       " 0.011724918149411678,\n",
       " 3.016430127900094e-06,\n",
       " 0.0006381206912919879,\n",
       " 0.0009819562546908855,\n",
       " 8.943633292801678e-05,\n",
       " 1.3614067029266153e-06,\n",
       " 0.0023396078031510115,\n",
       " 0.000985033344477415,\n",
       " 0.0009038048447109759,\n",
       " 0.0009485303307883441,\n",
       " 0.007152899634093046,\n",
       " 0.0001691212528385222,\n",
       " 0.0018011840293183923,\n",
       " 3.902508251485415e-05,\n",
       " 0.0010968956630676985,\n",
       " 0.04871821776032448,\n",
       " 0.015263193286955357,\n",
       " 0.009681729599833488,\n",
       " 5.5234722822206095e-05,\n",
       " 0.00011010759772034362,\n",
       " 0.004149602726101875,\n",
       " 0.00011943600111408159,\n",
       " 0.023242557421326637,\n",
       " 0.0003992866550106555,\n",
       " 0.0009636108297854662,\n",
       " 0.0003209994174540043,\n",
       " 0.001271835877560079,\n",
       " 0.011488533578813076,\n",
       " 0.002516615204513073,\n",
       " 0.002488968428224325,\n",
       " 0.011855822056531906,\n",
       " 8.508696191711351e-05,\n",
       " 0.00874693226069212,\n",
       " 0.00040994820301420987,\n",
       " 0.021814918145537376,\n",
       " 0.0002999646821990609,\n",
       " 5.506445450009778e-05,\n",
       " 0.0004260020796209574,\n",
       " 0.003174201585352421,\n",
       " 0.00580893037840724,\n",
       " 0.00015528414223808795,\n",
       " 0.0014157419791445136,\n",
       " 0.00011307271779514849,\n",
       " 0.001842820318415761,\n",
       " 0.005516658537089825,\n",
       " 0.004954639356583357,\n",
       " 0.006204834673553705,\n",
       " 1.0248875241813948e-06,\n",
       " 0.0044879610650241375,\n",
       " 0.0022453488782048225,\n",
       " 0.0096817621961236,\n",
       " 0.021299012005329132,\n",
       " 0.004515447653830051,\n",
       " 0.000803798611741513,\n",
       " 0.0035469704307615757,\n",
       " 0.001340219285339117,\n",
       " 0.0006929304799996316,\n",
       " 0.005958649795502424,\n",
       " 0.00906450767070055,\n",
       " 0.0001112320096581243,\n",
       " 0.00015644174709450454,\n",
       " 0.00015478875138796866,\n",
       " 0.004156806040555239,\n",
       " 0.00079170404933393,\n",
       " 0.010363510809838772,\n",
       " 0.009860188700258732,\n",
       " 0.003174201585352421,\n",
       " 0.004405960440635681,\n",
       " 0.003549571381881833,\n",
       " 2.4493945602444e-05,\n",
       " 0.014452404342591763,\n",
       " 0.007771010976284742,\n",
       " 0.003372057806700468,\n",
       " 0.04212130233645439,\n",
       " 0.00016462204803247005,\n",
       " 0.0009689824073575437,\n",
       " 0.0002786483964882791,\n",
       " 0.0032366716768592596,\n",
       " 0.011281901970505714,\n",
       " 0.0008875284693203866,\n",
       " 0.031001556664705276,\n",
       " 0.0015884939348325133,\n",
       " 0.0007836699369363487,\n",
       " 0.0016648535383865237,\n",
       " 0.0004502137308008969,\n",
       " 0.001366409589536488,\n",
       " 0.0057563940063118935,\n",
       " 0.014613570645451546,\n",
       " 0.0001824678183766082,\n",
       " 0.003869089297950268,\n",
       " 1.9043489373871125e-05,\n",
       " 0.0006856847903691232,\n",
       " 0.03166160359978676,\n",
       " 0.002527036936953664,\n",
       " 0.00016461987979710102,\n",
       " 0.002386228647083044,\n",
       " 0.0013664220459759235,\n",
       " 3.714623744599521e-05,\n",
       " 0.0029040381778031588,\n",
       " 1.7411687167623313e-06,\n",
       " 0.005785978864878416,\n",
       " 0.005680183880031109,\n",
       " 0.037196092307567596,\n",
       " 0.0001824678183766082,\n",
       " 0.011315913870930672,\n",
       " 0.002473097527399659,\n",
       " 0.00044594923383556306,\n",
       " 0.000706012244336307,\n",
       " 0.0011223856126889586,\n",
       " 0.013240639120340347,\n",
       " 0.0011651741806417704,\n",
       " 0.021211683750152588,\n",
       " 0.012933416292071342,\n",
       " 0.0006836071261204779,\n",
       " 0.0018333806656301022,\n",
       " 0.00743449479341507,\n",
       " 0.0007435253937728703,\n",
       " 0.002466662786900997,\n",
       " 0.0006508489022962749,\n",
       " 0.0022224404383450747,\n",
       " 0.0010747802443802357,\n",
       " 0.0002108527405653149,\n",
       " 0.006982598453760147,\n",
       " 0.010486170649528503,\n",
       " 0.0009017583797685802,\n",
       " 0.005457265768200159,\n",
       " 0.006539735943078995,\n",
       " 0.012022050097584724,\n",
       " 0.00043856428237631917,\n",
       " 0.0002999646821990609,\n",
       " 0.00397321954369545,\n",
       " 5.123989012645325e-06,\n",
       " 0.0013076228788122535,\n",
       " 0.00021289441792760044,\n",
       " 0.015143086202442646,\n",
       " 0.00974776316434145,\n",
       " 0.005278359167277813,\n",
       " 0.010486205108463764,\n",
       " 0.001728137256577611,\n",
       " 0.0006857024854980409,\n",
       " 8.507452002959326e-05,\n",
       " 0.0011029564775526524,\n",
       " 0.0034286726731806993,\n",
       " 0.000720039417501539,\n",
       " 0.0013847047230228782,\n",
       " 0.0033109746873378754,\n",
       " 0.003184981644153595,\n",
       " 0.0009636108297854662,\n",
       " 0.004789816215634346,\n",
       " 0.0024868492037057877,\n",
       " 0.023297874256968498,\n",
       " 0.009397908113896847,\n",
       " 1.2065135706507135e-05,\n",
       " 0.0012094549601897597,\n",
       " 0.01011535245925188,\n",
       " 1.885415258584544e-05,\n",
       " 0.011049074120819569,\n",
       " 0.021441953256726265,\n",
       " 9.541291774439742e-07,\n",
       " 0.00819389522075653,\n",
       " 0.0024379021488130093,\n",
       " 0.0008875284693203866,\n",
       " 0.0017281301552429795,\n",
       " 9.30814985622419e-06,\n",
       " 0.020464275032281876,\n",
       " 0.003465741639956832,\n",
       " 0.011729627847671509,\n",
       " 0.01363870594650507,\n",
       " 0.00592418760061264,\n",
       " 8.759014599490911e-05,\n",
       " 0.029443366453051567,\n",
       " 0.00974776316434145,\n",
       " 0.003465741639956832,\n",
       " 0.0006975267897360027,\n",
       " 0.0005818459903821349,\n",
       " 0.0032559307292103767,\n",
       " 0.0015413046348839998,\n",
       " 0.0012665506219491363,\n",
       " 0.011488552205264568,\n",
       " 0.0013206402072682977,\n",
       " 0.00743449479341507,\n",
       " 0.0002830926969181746,\n",
       " 0.00016912564751692116,\n",
       " 0.0003209994174540043,\n",
       " 0.007895075716078281,\n",
       " 0.00031247257720679045,\n",
       " 0.003036465961486101,\n",
       " 0.0005159272695891559,\n",
       " 0.016205506399273872,\n",
       " 0.0008198130526579916,\n",
       " 0.00033617750159464777,\n",
       " 0.0010576053755357862,\n",
       " 0.00974776316434145,\n",
       " 0.006723402533680201,\n",
       " 0.00028310404741205275,\n",
       " 0.0023688345681875944,\n",
       " 0.003439550055190921,\n",
       " 0.005657767411321402,\n",
       " 0.0019069910049438477,\n",
       " 0.00013314381067175418,\n",
       " 0.00042989416397176683,\n",
       " 0.00010916848259512335,\n",
       " 0.003015988739207387,\n",
       " 0.019883306697010994,\n",
       " 1.4980223568272777e-05,\n",
       " 0.0011024695122614503,\n",
       " 0.00016462204803247005,\n",
       " 0.00020958902314305305,\n",
       " 0.0001112320096581243,\n",
       " 5.506445450009778e-05,\n",
       " 0.0009689824073575437,\n",
       " 2.2488411559606902e-05,\n",
       " 0.0025166235864162445,\n",
       " 0.0029162249993532896,\n",
       " 0.015205242671072483,\n",
       " 0.0018687109695747495,\n",
       " 0.00047774400445632637,\n",
       " 0.0005871935863979161,\n",
       " 0.016591375693678856,\n",
       " 0.0025166235864162445,\n",
       " 0.00020450699958018959,\n",
       " 0.0001112320096581243,\n",
       " 3.5792390917777084e-06,\n",
       " 0.003372057806700468,\n",
       " 0.002209108555689454,\n",
       " 0.000664158898871392,\n",
       " 0.008285008370876312,\n",
       " 0.0016717256512492895,\n",
       " 0.0053981454111635685,\n",
       " 0.0257180854678154,\n",
       " 0.005706311669200659,\n",
       " 0.0016180332750082016,\n",
       " 0.025300489738583565,\n",
       " 8.36628987599397e-06,\n",
       " 0.006723402533680201,\n",
       " 0.009004960767924786,\n",
       " 0.021298961713910103,\n",
       " 0.0070890942588448524,\n",
       " 0.0013678307877853513,\n",
       " 0.005680183880031109,\n",
       " 0.00011601185542531312,\n",
       " 0.0008227892103604972,\n",
       " 0.0006381164421327412,\n",
       " 0.00045022089034318924,\n",
       " 3.579877102311002e-06,\n",
       " 0.00900825671851635,\n",
       " 0.0026310463435947895,\n",
       " 0.01197990495711565,\n",
       " 0.0030635036528110504,\n",
       " 0.0030635318253189325,\n",
       " 0.008413094095885754,\n",
       " 0.009124057367444038,\n",
       " 0.02974376454949379,\n",
       " 0.02371455542743206,\n",
       " 0.00047773661208339036,\n",
       " 3.714418562594801e-05,\n",
       " 0.01980588585138321,\n",
       " 0.0007396964356303215,\n",
       " 0.003918765112757683,\n",
       " 0.0027254438027739525,\n",
       " 0.001938051893375814,\n",
       " 0.0329943522810936,\n",
       " 0.0026310549583286047,\n",
       " 0.0002446682774461806,\n",
       " 0.007152914069592953,\n",
       " 0.0008227988728322089,\n",
       " 0.0006856936379335821,\n",
       " 0.004705506376922131,\n",
       " 0.006343806628137827,\n",
       " 2.0269801552785793e-06,\n",
       " 0.0005159311112947762,\n",
       " 0.0032748705707490444,\n",
       " 0.010324554517865181,\n",
       " 0.02541987970471382,\n",
       " 0.0009979967726394534,\n",
       " 2.3088139187166234e-06,\n",
       " 5.854300979990512e-06,\n",
       " 9.308072185376659e-05,\n",
       " 0.0034286826848983765,\n",
       " 4.7795540012884885e-05,\n",
       " 0.013241414912045002,\n",
       " 0.004345583729445934,\n",
       " 1.8851225831895135e-05,\n",
       " 0.004303189925849438,\n",
       " 0.0009636108297854662,\n",
       " 0.0019069836707785726,\n",
       " 0.0004459456540644169,\n",
       " 0.000523263297509402,\n",
       " 0.0059586758725345135,\n",
       " 5.550820424105041e-05,\n",
       " 0.0047693378292024136,\n",
       " 0.0009071530075743794,\n",
       " 2.4834707801346667e-05,\n",
       " 0.02371450513601303,\n",
       " 1.3614067029266153e-06,\n",
       " 0.00027864560252055526,\n",
       " 0.00013314381067175418,\n",
       " 0.011855803430080414,\n",
       " 0.00028310122434049845,\n",
       " 0.0014721134211868048,\n",
       " 0.007322843186557293,\n",
       " 0.0032748705707490444,\n",
       " 0.0018709927098825574,\n",
       " 0.0034657614305615425,\n",
       " 0.0024731142912060022,\n",
       " 8.966606401372701e-05,\n",
       " 0.0018687036354094744,\n",
       " 2.1575280698016286e-05,\n",
       " 0.0035469704307615757,\n",
       " 0.020381035283207893,\n",
       " 0.008087783120572567,\n",
       " 0.0009991794358938932,\n",
       " 0.009681729599833488,\n",
       " 2.0269801552785793e-06,\n",
       " 0.0023172448854893446,\n",
       " 0.009080388583242893,\n",
       " 3.295220096788398e-07,\n",
       " 0.0060856821946799755,\n",
       " 1.3614067029266153e-06,\n",
       " 0.028300421312451363,\n",
       " 0.005278346594423056,\n",
       " 0.0024379021488130093,\n",
       " 0.0032748705707490444,\n",
       " 0.0020627747289836407,\n",
       " 0.02545599266886711,\n",
       " 0.003174201585352421,\n",
       " 0.02974376454949379,\n",
       " 0.025455938652157784,\n",
       " 0.006638491526246071,\n",
       " 0.02974376454949379,\n",
       " 1.8726994312601164e-05,\n",
       " 0.0034408848732709885,\n",
       " 0.0025270453188568354,\n",
       " 0.004711035639047623,\n",
       " 0.0022453488782048225,\n",
       " 0.005585881415754557,\n",
       " 0.02324245311319828,\n",
       " 0.006694211158901453,\n",
       " 0.0011271067196503282,\n",
       " 0.00044594923383556306,\n",
       " 0.004036538768559694,\n",
       " 0.007895075716078281,\n",
       " 0.03573337942361832,\n",
       " 0.010707787238061428,\n",
       " 0.02887813188135624,\n",
       " 0.019296113401651382,\n",
       " 2.3088139187166234e-06,\n",
       " 0.00580088933929801,\n",
       " 0.0007060032803565264,\n",
       " 0.00027475878596305847,\n",
       " 0.005113350227475166,\n",
       " 0.007019259966909885,\n",
       " 0.009384870529174805,\n",
       " 0.002516615204513073,\n",
       " 0.01293343584984541,\n",
       " 0.010363510809838772,\n",
       " 0.009860222227871418,\n",
       " 0.004500336479395628,\n",
       " 0.04105016961693764,\n",
       " 0.0018063894240185618,\n",
       " 0.0006856892141513526,\n",
       " 0.002842804417014122,\n",
       " 0.0024379189126193523,\n",
       " 0.003492540679872036,\n",
       " 0.007152899634093046,\n",
       " 0.0043662795796990395,\n",
       " 0.00013225046859588474,\n",
       " 0.0025165982078760862,\n",
       " 0.013225745409727097,\n",
       " 0.00029156552045606077,\n",
       " 0.0026369125116616488,\n",
       " 0.001448175054974854,\n",
       " 0.002466662786900997,\n",
       " 3.4360508038844273e-07,\n",
       " 0.0007770296069793403,\n",
       " 0.00015959299344103783,\n",
       " 0.0005038181552663445,\n",
       " 0.00017466676945332438,\n",
       " 0.00016422428598161787,\n",
       " 8.798907401796896e-06,\n",
       " 0.0007060212083160877,\n",
       " 0.00011307271779514849,\n",
       " 0.016591375693678856,\n",
       " 0.011337121948599815,\n",
       " 0.0013076290488243103,\n",
       " 0.00015588240057695657,\n",
       " 0.0018687036354094744,\n",
       " 0.00016912564751692116,\n",
       " 0.00024467354523949325,\n",
       " 0.021814867854118347,\n",
       " 0.0009103344054892659,\n",
       " 0.0019152233144268394,\n",
       " 0.0034591348376125097,\n",
       " 2.9732926122960635e-05,\n",
       " 0.02307179942727089,\n",
       " 0.003036465961486101,\n",
       " 0.008536772802472115,\n",
       " 0.0012612763093784451,\n",
       " 0.002527036936953664,\n",
       " 0.0018379312241449952,\n",
       " 0.0033109746873378754,\n",
       " 0.004500325303524733,\n",
       " 0.00013163853145670146,\n",
       " 0.017855072394013405,\n",
       " 0.00988568365573883,\n",
       " 0.0004169790190644562,\n",
       " 0.020536907017230988,\n",
       " 0.0022746578324586153,\n",
       " 0.0001112320096581243,\n",
       " 0.006683484185487032,\n",
       " 0.0036855002399533987,\n",
       " 0.0448656901717186,\n",
       " 0.0019219135865569115,\n",
       " 0.0007130986195988953,\n",
       " 0.00011601185542531312,\n",
       " 0.0001824678183766082,\n",
       " 0.0003952342667616904,\n",
       " 0.028300421312451363,\n",
       " 8.450372661172878e-06,\n",
       " 0.0011024695122614503,\n",
       " 0.002916206605732441,\n",
       " 0.0006856936379335821,\n",
       " 0.0024379021488130093,\n",
       " 0.003499069483950734,\n",
       " 0.011873506009578705,\n",
       " 0.0009689824073575437,\n",
       " 0.0018333806656301022,\n",
       " 0.0030635131988674402,\n",
       " 0.00010790741362143308,\n",
       " 0.0031639328226447105,\n",
       " 0.01958245225250721,\n",
       " 0.001190998824313283,\n",
       " 0.0004954374744556844,\n",
       " 0.00018533012189436704,\n",
       " 0.009004960767924786,\n",
       " 0.0006975267897360027,\n",
       " 0.0007662865682505071,\n",
       " 0.00029452942544594407,\n",
       " 0.003869089297950268,\n",
       " 0.0018379312241449952,\n",
       " 0.0013860977487638593,\n",
       " 3.16880687023513e-06,\n",
       " 0.0005159272695891559,\n",
       " 0.0015432245563715696,\n",
       " 0.00568051403388381,\n",
       " 0.04689481481909752,\n",
       " 0.0008756900788284838,\n",
       " 0.0009636108297854662,\n",
       " 0.04212130233645439,\n",
       " 0.00018247692787554115,\n",
       " 0.00010172557085752487,\n",
       " 0.004987719468772411,\n",
       " 0.021814867854118347,\n",
       " 0.0009017533157020807,\n",
       " 0.009090881794691086,\n",
       " 0.0013347504427656531,\n",
       " 0.0003372261708136648,\n",
       " 0.000211607402889058,\n",
       " 0.0006975223659537733,\n",
       " 0.0029905077535659075,\n",
       " 0.00398040609434247,\n",
       " 0.0008875384810380638,\n",
       " 0.025718165561556816,\n",
       " 0.004588310141116381,\n",
       " 0.030132336542010307,\n",
       " 0.002466662786900997,\n",
       " 0.0035349822137504816,\n",
       " 0.006137002259492874,\n",
       " 0.0059586758725345135,\n",
       " 0.0025771744549274445,\n",
       " 8.943633292801678e-05,\n",
       " 0.0009979967726394534,\n",
       " 0.020536907017230988,\n",
       " 0.0007059943163767457,\n",
       " 0.012933416292071342,\n",
       " 0.0020113997161388397,\n",
       " 0.0009636108297854662,\n",
       " 0.0012551647378131747,\n",
       " 0.0017499312525615096,\n",
       " 0.0034657614305615425,\n",
       " 0.007152899634093046,\n",
       " 0.00580893037840724,\n",
       " 0.012022068724036217,\n",
       " 0.0012305887648835778,\n",
       " 0.0032540839165449142,\n",
       " 0.00020450699958018959,\n",
       " 0.030275903642177582,\n",
       " 0.002456073882058263,\n",
       " 0.0022224565036594868,\n",
       " 0.0044879610650241375,\n",
       " 0.009240759536623955,\n",
       " 0.008416388183832169,\n",
       " 0.0010845963843166828,\n",
       " 0.0022224404383450747,\n",
       " 0.0002310402487637475,\n",
       " 4.984981205780059e-05,\n",
       " 0.0009991794358938932,\n",
       " 0.0008875284693203866,\n",
       " 0.0008404075051657856,\n",
       " 0.0005468981107696891,\n",
       " 0.0012918084394186735,\n",
       " 8.943633292801678e-05,\n",
       " 0.00013163853145670146,\n",
       " 0.013225745409727097,\n",
       " 0.0003076220746152103,\n",
       " 2.2939961127121933e-05,\n",
       " 0.0034925604704767466,\n",
       " 0.0029162249993532896,\n",
       " 0.030132336542010307,\n",
       " 0.0025771744549274445,\n",
       " 0.0009692448074929416,\n",
       " 0.0018011698266491294,\n",
       " 0.002516615204513073,\n",
       " 0.002181289019063115,\n",
       " 0.003174201585352421,\n",
       " 0.0002941765415016562,\n",
       " 0.0031639423687011003,\n",
       " 6.37140401522629e-05,\n",
       " 0.007895075716078281,\n",
       " 0.018536776304244995,\n",
       " 0.000706012244336307,\n",
       " 0.0044879610650241375,\n",
       " 0.0002310453710379079,\n",
       " 0.029743794351816177,\n",
       " 0.00031443656189367175,\n",
       " 0.00013973031309433281,\n",
       " 0.006683470215648413,\n",
       " 0.00697516230866313,\n",
       " 0.004220930859446526,\n",
       " 0.002188759623095393,\n",
       " 3.579877102311002e-06,\n",
       " 0.0023675383999943733,\n",
       " 0.0400664284825325,\n",
       " 0.0018063751049339771,\n",
       " 0.0019069836707785726,\n",
       " 0.0018988572992384434,\n",
       " 8.450372661172878e-06,\n",
       " 0.02047225832939148,\n",
       " 0.04894218593835831,\n",
       " 0.0019219283713027835,\n",
       " 0.002466662786900997,\n",
       " 0.019606120884418488,\n",
       " 0.009681729599833488,\n",
       " 7.655700028408319e-05,\n",
       " 3.7977667943778215e-06,\n",
       " 0.0009819457773119211,\n",
       " 0.0008227892103604972,\n",
       " 0.01050071232020855,\n",
       " 2.9732926122960635e-05,\n",
       " 0.011979942210018635,\n",
       " 0.00042990114889107645,\n",
       " 0.011488533578813076,\n",
       " 0.0013847047230228782,\n",
       " 0.002710484666749835,\n",
       " 1.9042017811443657e-05,\n",
       " 0.00974776316434145,\n",
       " 0.0001316424022661522,\n",
       " 0.00580893037840724,\n",
       " 0.003869089297950268,\n",
       " 0.0011024695122614503,\n",
       " 1.623748175916262e-05,\n",
       " 0.0052331252954900265,\n",
       " 0.0018063751049339771,\n",
       " 0.0022363148164004087,\n",
       " 0.01882600411772728,\n",
       " 0.0016648604068905115,\n",
       " 8.451352186966687e-06,\n",
       " 0.025300437584519386,\n",
       " 0.00011307271779514849,\n",
       " 0.0004041862557642162,\n",
       " 0.015515518374741077,\n",
       " 0.0003209994174540043,\n",
       " 0.012668782845139503,\n",
       " 0.021814918145537376,\n",
       " 0.01903594844043255,\n",
       " 0.00010790741362143308,\n",
       " 0.0007435253937728703,\n",
       " 0.006723402533680201,\n",
       " 0.0053671495988965034,\n",
       " 0.0008118965197354555,\n",
       " 0.0004954374744556844,\n",
       " 0.00010790741362143308,\n",
       " 0.00017322818166576326,\n",
       " 0.00743449479341507,\n",
       " 0.006137002259492874,\n",
       " 0.014892936684191227,\n",
       " 0.00974776316434145,\n",
       " 0.002367480890825391,\n",
       " 0.0003209994174540043,\n",
       " 0.015887267887592316,\n",
       " 0.002274649916216731,\n",
       " 0.003096718806773424,\n",
       " 3.798095349338837e-06,\n",
       " 0.002438401570543647,\n",
       " 0.00031443656189367175,\n",
       " 0.005516658537089825,\n",
       " 0.00038707212661392987,\n",
       " 0.0005818459903821349,\n",
       " 0.0012179830810055137,\n",
       " 0.02571811154484749,\n",
       " 0.0059586758725345135,\n",
       " 0.0019219135865569115,\n",
       " 0.0006835894891992211,\n",
       " 0.006890336517244577,\n",
       " 0.003668223973363638,\n",
       " 1.964257171493955e-05,\n",
       " 0.004949668422341347,\n",
       " 0.01980593241751194,\n",
       " 0.019180646166205406,\n",
       " 4.756091584567912e-06,\n",
       " 0.00039366394048556685,\n",
       " 0.0005159311112947762,\n",
       " 0.03027593344449997,\n",
       " 0.00016462204803247005,\n",
       " 8.36628987599397e-06,\n",
       " 0.0029905263800174,\n",
       " 0.005287806503474712,\n",
       " 0.0002786483964882791,\n",
       " 0.02974376454949379,\n",
       " 0.002473097527399659,\n",
       " 0.006204808130860329,\n",
       " 0.033510081470012665,\n",
       " 0.023422716185450554,\n",
       " 0.025455884635448456,\n",
       " 0.0011977923568338156,\n",
       " 0.011488569900393486,\n",
       " 0.0024248426780104637,\n",
       " 0.004149592015892267,\n",
       " 0.003465741639956832,\n",
       " 0.011049074120819569,\n",
       " 0.0016861007316038013,\n",
       " 0.00020418888016138226,\n",
       " 0.00010172557085752487,\n",
       " 0.0009636212489567697,\n",
       " 0.0012179830810055137,\n",
       " 2.2939961127121933e-05,\n",
       " 0.0018428057665005326,\n",
       " 1.0331642442906741e-05,\n",
       " 0.0024379021488130093,\n",
       " 0.0003076220746152103,\n",
       " 0.0018379312241449952,\n",
       " 0.006564032752066851,\n",
       " 0.00011601004371186718,\n",
       " 0.00028731778729707,\n",
       " 0.0008052139892242849,\n",
       " 0.001184665597975254,\n",
       " 0.00011010759772034362,\n",
       " 0.0029905263800174,\n",
       " 0.0078034428879618645,\n",
       " 0.00580893037840724,\n",
       " 0.002438401570543647,\n",
       " 1.6234764188993722e-05,\n",
       " 9.191170829581097e-05,\n",
       " 0.0023172448854893446,\n",
       " 0.0006857024854980409,\n",
       " 1.125909989241336e-06,\n",
       " 0.025300463661551476,\n",
       " 0.00580893037840724,\n",
       " 0.0002786512195598334,\n",
       " 0.0008468515006825328,\n",
       " 0.007089065853506327,\n",
       " 0.0006149211549200118,\n",
       " 0.008413063362240791,\n",
       " 0.0016717256512492895,\n",
       " 0.0029111469630151987,\n",
       " 0.0002698237367440015,\n",
       " 0.003052792511880398,\n",
       " 0.0018110570963472128,\n",
       " 0.004075308796018362,\n",
       " 1.9042754502152093e-05,\n",
       " 0.0008902476984076202,\n",
       " 0.005457265768200159,\n",
       " 0.00029417077894322574,\n",
       " 0.010363510809838772,\n",
       " 3.297155899417703e-07,\n",
       " 0.00445325393229723,\n",
       " 0.0018333806656301022,\n",
       " 1.1180746696481947e-05,\n",
       " 0.021441929042339325,\n",
       " 0.012837310321629047,\n",
       " 0.008828368969261646,\n",
       " 0.009860222227871418,\n",
       " 0.00018533012189436704,\n",
       " 0.003174201585352421,\n",
       " 0.01073498371988535,\n",
       " 0.0001981632667593658,\n",
       " 0.011049074120819569,\n",
       " 0.0001824678183766082,\n",
       " 0.0002786483964882791,\n",
       " 7.655995432287455e-05,\n",
       " 2.2488411559606902e-05,\n",
       " 0.0008149641798809171,\n",
       " 0.0002945178421214223,\n",
       " 0.018896250054240227,\n",
       " 7.976429333211854e-05,\n",
       " 0.00445325393229723,\n",
       " 0.0006856936379335821,\n",
       " 3.7977667943778215e-06,\n",
       " ...]"
      ]
     },
     "execution_count": 59,
     "metadata": {},
     "output_type": "execute_result"
    }
   ],
   "source": [
    "positive_distances"
   ]
  },
  {
   "cell_type": "code",
   "execution_count": 67,
   "metadata": {},
   "outputs": [
    {
     "data": {
      "text/plain": [
       "0.07812459766864777"
      ]
     },
     "execution_count": 67,
     "metadata": {},
     "output_type": "execute_result"
    }
   ],
   "source": [
    "max(positive_distances)"
   ]
  },
  {
   "cell_type": "code",
   "execution_count": 60,
   "metadata": {},
   "outputs": [
    {
     "data": {
      "text/plain": [
       "[4.591302871704102,\n",
       " 2.6250131130218506,\n",
       " 1.7232911586761475,\n",
       " 1.0552434921264648,\n",
       " 1.262101411819458,\n",
       " 16.191181182861328,\n",
       " 6.254695892333984,\n",
       " 0.7257727980613708,\n",
       " 1.7924362421035767,\n",
       " 0.732338011264801,\n",
       " 1.7620600461959839,\n",
       " 0.8613216876983643,\n",
       " 0.9213910102844238,\n",
       " 1.507730484008789,\n",
       " 1.0158188343048096,\n",
       " 0.7966001629829407,\n",
       " 1.5002634525299072,\n",
       " 0.9542543292045593,\n",
       " 3.932859182357788,\n",
       " 0.5838152170181274,\n",
       " 0.4314191937446594,\n",
       " 1.1070983409881592,\n",
       " 1.2713234424591064,\n",
       " 0.3825564682483673,\n",
       " 0.49367034435272217,\n",
       " 0.6174985766410828,\n",
       " 1.324424147605896,\n",
       " 0.206100732088089,\n",
       " 0.35057273507118225,\n",
       " 0.41929328441619873,\n",
       " 1.3633520603179932,\n",
       " 0.3083721995353699,\n",
       " 1.5933990478515625,\n",
       " 1.6354894638061523,\n",
       " 0.6328287124633789,\n",
       " 1.4191181659698486,\n",
       " 0.15530750155448914,\n",
       " 0.6599475741386414,\n",
       " 0.8580633401870728,\n",
       " 0.5497269630432129,\n",
       " 0.6340718865394592,\n",
       " 0.21796704828739166,\n",
       " 0.9269333481788635,\n",
       " 0.6699608564376831,\n",
       " 0.593553364276886,\n",
       " 1.122790813446045,\n",
       " 1.520068883895874,\n",
       " 0.782289981842041,\n",
       " 4.008608341217041,\n",
       " 1.8087413311004639,\n",
       " 0.9022290110588074,\n",
       " 6.940169811248779,\n",
       " 2.2604634761810303,\n",
       " 0.920211136341095,\n",
       " 1.9076615571975708,\n",
       " 23.369335174560547,\n",
       " 1.176314115524292,\n",
       " 1.3395243883132935,\n",
       " 1.0161255598068237,\n",
       " 0.7221714854240417,\n",
       " 1.7324085235595703,\n",
       " 0.7122978568077087,\n",
       " 2.7652440071105957,\n",
       " 0.8320891857147217,\n",
       " 0.5489328503608704,\n",
       " 6.050683975219727,\n",
       " 0.5761976838111877,\n",
       " 0.9796925783157349,\n",
       " 1.7166316509246826,\n",
       " 1.365032434463501,\n",
       " 1.4441851377487183,\n",
       " 0.0489204078912735,\n",
       " 1.8491507768630981,\n",
       " 1.8721688985824585,\n",
       " 1.8721693754196167,\n",
       " 0.47465071082115173,\n",
       " 2.1854307651519775,\n",
       " 0.944962203502655,\n",
       " 3.595456600189209,\n",
       " 1.0962923765182495,\n",
       " 0.6810779571533203,\n",
       " 1.195980429649353,\n",
       " 0.9771173596382141,\n",
       " 6.239465713500977,\n",
       " 0.9657230377197266,\n",
       " 1.4039291143417358,\n",
       " 1.2011932134628296,\n",
       " 0.8169479370117188,\n",
       " 1.219196081161499,\n",
       " 0.9513789415359497,\n",
       " 10.334806442260742,\n",
       " 2.124828338623047,\n",
       " 1.6312625408172607,\n",
       " 6.027328968048096,\n",
       " 2.7540886402130127,\n",
       " 4.1697611808776855,\n",
       " 10.301663398742676,\n",
       " 0.7729060053825378,\n",
       " 1.3465052843093872,\n",
       " 0.8854011297225952,\n",
       " 1.1108744144439697,\n",
       " 1.3259470462799072,\n",
       " 1.3118555545806885,\n",
       " 0.5095385313034058,\n",
       " 0.3549177348613739,\n",
       " 1.841394066810608,\n",
       " 1.1596583127975464,\n",
       " 1.0477463006973267,\n",
       " 6.261054039001465,\n",
       " 1.5114563703536987,\n",
       " 11.433073997497559,\n",
       " 1.5904349088668823,\n",
       " 0.8165876269340515,\n",
       " 0.9818097352981567,\n",
       " 2.089078426361084,\n",
       " 0.7013258337974548,\n",
       " 1.5929762125015259,\n",
       " 0.4960194528102875,\n",
       " 1.5689607858657837,\n",
       " 1.0298724174499512,\n",
       " 1.2850158214569092,\n",
       " 0.9131640195846558,\n",
       " 1.0144917964935303,\n",
       " 0.41064906120300293,\n",
       " 1.1551868915557861,\n",
       " 0.5770556926727295,\n",
       " 1.1202855110168457,\n",
       " 2.2699389457702637,\n",
       " 1.285040020942688,\n",
       " 2.5273525714874268,\n",
       " 0.7594009637832642,\n",
       " 0.6843329071998596,\n",
       " 0.4116162061691284,\n",
       " 0.30038982629776,\n",
       " 0.7323381304740906,\n",
       " 1.417622447013855,\n",
       " 0.19933094084262848,\n",
       " 0.4420110881328583,\n",
       " 15.340826988220215,\n",
       " 0.6780343055725098,\n",
       " 0.945022702217102,\n",
       " 0.7426926493644714,\n",
       " 1.412688136100769,\n",
       " 1.0167113542556763,\n",
       " 1.7846295833587646,\n",
       " 0.5023095011711121,\n",
       " 0.5929377675056458,\n",
       " 2.2745842933654785,\n",
       " 1.7724586725234985,\n",
       " 0.7938820123672485,\n",
       " 0.9636374115943909,\n",
       " 1.2662142515182495,\n",
       " 0.7315992116928101,\n",
       " 1.2896521091461182,\n",
       " 3.169862747192383,\n",
       " 0.8215917348861694,\n",
       " 0.47203391790390015,\n",
       " 0.34150081872940063,\n",
       " 1.2757019996643066,\n",
       " 1.78129243850708,\n",
       " 1.6746418476104736,\n",
       " 0.7883815169334412,\n",
       " 0.5298610329627991,\n",
       " 1.7564728260040283,\n",
       " 0.947607696056366,\n",
       " 7.950411796569824,\n",
       " 1.5169246196746826,\n",
       " 0.5453630089759827,\n",
       " 0.820334255695343,\n",
       " 0.7628483772277832,\n",
       " 1.5267480611801147,\n",
       " 4.183814525604248,\n",
       " 1.26449453830719,\n",
       " 4.508368015289307,\n",
       " 0.8399835228919983,\n",
       " 1.6160356998443604,\n",
       " 1.2091230154037476,\n",
       " 0.6587960124015808,\n",
       " 0.9707687497138977,\n",
       " 0.7660055160522461,\n",
       " 1.441389560699463,\n",
       " 1.4342811107635498,\n",
       " 0.7452749013900757,\n",
       " 0.603164553642273,\n",
       " 1.8109490871429443,\n",
       " 1.4297893047332764,\n",
       " 1.65235435962677,\n",
       " 4.539902210235596,\n",
       " 1.26449453830719,\n",
       " 0.8040827512741089,\n",
       " 0.8653702139854431,\n",
       " 1.3102798461914062,\n",
       " 0.9613256454467773,\n",
       " 0.885979413986206,\n",
       " 7.012256145477295,\n",
       " 0.7553724050521851,\n",
       " 0.4412447512149811,\n",
       " 1.038104772567749,\n",
       " 0.9975104928016663,\n",
       " 1.453541874885559,\n",
       " 0.4682055115699768,\n",
       " 0.9010831117630005,\n",
       " 3.138093948364258,\n",
       " 1.7729811668395996,\n",
       " 0.7550442218780518,\n",
       " 1.5239373445510864,\n",
       " 2.4165444374084473,\n",
       " 0.3423038423061371,\n",
       " 1.0651503801345825,\n",
       " 1.0824073553085327,\n",
       " 3.900322437286377,\n",
       " 1.5403915643692017,\n",
       " 0.805941641330719,\n",
       " 1.5316672325134277,\n",
       " 1.6340622901916504,\n",
       " 0.8543024659156799,\n",
       " 5.214968204498291,\n",
       " 0.7907765507698059,\n",
       " 2.457775592803955,\n",
       " 0.997644305229187,\n",
       " 1.5213342905044556,\n",
       " 1.1144838333129883,\n",
       " 0.9807511568069458,\n",
       " 1.8261770009994507,\n",
       " 7.92561674118042,\n",
       " 0.6294218897819519,\n",
       " 0.8129861950874329,\n",
       " 1.714276909828186,\n",
       " 1.5236790180206299,\n",
       " 1.0254554748535156,\n",
       " 1.9876455068588257,\n",
       " 0.3579446077346802,\n",
       " 0.2753570079803467,\n",
       " 0.9836384057998657,\n",
       " 3.9031760692596436,\n",
       " 0.8504801392555237,\n",
       " 1.4118101596832275,\n",
       " 8.588126182556152,\n",
       " 0.8854217529296875,\n",
       " 3.0647408962249756,\n",
       " 0.6174702644348145,\n",
       " 0.7172905206680298,\n",
       " 1.0262904167175293,\n",
       " 1.7051376104354858,\n",
       " 1.7926372289657593,\n",
       " 3.5284006595611572,\n",
       " 1.1035220623016357,\n",
       " 0.5009019374847412,\n",
       " 2.544973373413086,\n",
       " 0.38891035318374634,\n",
       " 0.4138224422931671,\n",
       " 2.646874189376831,\n",
       " 0.7075300812721252,\n",
       " 0.7097795009613037,\n",
       " 0.782294750213623,\n",
       " 1.0254101753234863,\n",
       " 1.1379096508026123,\n",
       " 0.7806015014648438,\n",
       " 1.246177077293396,\n",
       " 0.6276223063468933,\n",
       " 1.2985808849334717,\n",
       " 0.88002610206604,\n",
       " 1.7359780073165894,\n",
       " 4.811258316040039,\n",
       " 0.44980332255363464,\n",
       " 1.3595858812332153,\n",
       " 0.6102166771888733,\n",
       " 0.9054452180862427,\n",
       " 0.7394656538963318,\n",
       " 2.635925054550171,\n",
       " 1.0009862184524536,\n",
       " 1.9182758331298828,\n",
       " 0.8078718185424805,\n",
       " 3.642852544784546,\n",
       " 8.571986198425293,\n",
       " 1.8721691370010376,\n",
       " 9.291159629821777,\n",
       " 0.7892977595329285,\n",
       " 0.8539050221443176,\n",
       " 1.8910359144210815,\n",
       " 2.2859864234924316,\n",
       " 1.3395121097564697,\n",
       " 1.783031702041626,\n",
       " 1.3940623998641968,\n",
       " 0.27460917830467224,\n",
       " 4.908923625946045,\n",
       " 9.467612266540527,\n",
       " 1.5772666931152344,\n",
       " 0.362877756357193,\n",
       " 0.6388075351715088,\n",
       " 0.8644431233406067,\n",
       " 1.134503960609436,\n",
       " 1.2495759725570679,\n",
       " 1.589926838874817,\n",
       " 0.4426399767398834,\n",
       " 2.6373791694641113,\n",
       " 1.261344075202942,\n",
       " 1.5077306032180786,\n",
       " 2.8597543239593506,\n",
       " 0.8390892744064331,\n",
       " 1.7186334133148193,\n",
       " 0.6512635350227356,\n",
       " 0.43422237038612366,\n",
       " 1.5486290454864502,\n",
       " 0.4433792233467102,\n",
       " 2.2699384689331055,\n",
       " 0.7854377627372742,\n",
       " 0.6557696461677551,\n",
       " 2.3249101638793945,\n",
       " 1.963657259941101,\n",
       " 0.6249908208847046,\n",
       " 1.1533232927322388,\n",
       " 2.3249106407165527,\n",
       " 0.9849772453308105,\n",
       " 6.198580741882324,\n",
       " 0.45999929308891296,\n",
       " 1.038437008857727,\n",
       " 5.451927185058594,\n",
       " 0.3373076915740967,\n",
       " 0.4761633574962616,\n",
       " 0.6158956289291382,\n",
       " 6.16681432723999,\n",
       " 0.7040258646011353,\n",
       " 1.0099570751190186,\n",
       " 0.857819139957428,\n",
       " 0.6272940039634705,\n",
       " 0.8802173137664795,\n",
       " 2.761390447616577,\n",
       " 3.6080918312072754,\n",
       " 0.7457908391952515,\n",
       " 0.5558487176895142,\n",
       " 1.1823500394821167,\n",
       " 20.426525115966797,\n",
       " 0.7660588622093201,\n",
       " 0.3372616767883301,\n",
       " 0.9444000124931335,\n",
       " 1.1719504594802856,\n",
       " 2.0298562049865723,\n",
       " 0.25158795714378357,\n",
       " 0.9040147066116333,\n",
       " 3.9718801975250244,\n",
       " 0.5031712055206299,\n",
       " 0.6323574185371399,\n",
       " 0.9149279594421387,\n",
       " 0.6716493964195251,\n",
       " 1.2443608045578003,\n",
       " 4.59759521484375,\n",
       " 0.6750043034553528,\n",
       " 0.3985218405723572,\n",
       " 2.7855467796325684,\n",
       " 2.5413880348205566,\n",
       " 0.9779894351959229,\n",
       " 0.6200129985809326,\n",
       " 2.520020008087158,\n",
       " 0.5085828900337219,\n",
       " 1.9605326652526855,\n",
       " 7.866694450378418,\n",
       " 2.0276763439178467,\n",
       " 0.5339757204055786,\n",
       " 0.8807482123374939,\n",
       " 2.1081314086914062,\n",
       " 1.2465322017669678,\n",
       " 1.3608719110488892,\n",
       " 1.3633520603179932,\n",
       " 1.2791104316711426,\n",
       " 8.250936508178711,\n",
       " 1.6334844827651978,\n",
       " 0.9039838314056396,\n",
       " 1.9589990377426147,\n",
       " 0.6730338335037231,\n",
       " 1.3034489154815674,\n",
       " 0.9919701814651489,\n",
       " 5.868277549743652,\n",
       " 0.9445953369140625,\n",
       " 1.0247622728347778,\n",
       " 2.1538071632385254,\n",
       " 0.67878258228302,\n",
       " 1.3500940799713135,\n",
       " 0.4240873456001282,\n",
       " 6.959648132324219,\n",
       " 3.4341251850128174,\n",
       " 2.2164456844329834,\n",
       " 1.2898240089416504,\n",
       " 2.6105599403381348,\n",
       " 0.8090435266494751,\n",
       " 0.5616394877433777,\n",
       " 0.5439445972442627,\n",
       " 1.3052403926849365,\n",
       " 0.4745434522628784,\n",
       " 0.7821810245513916,\n",
       " 0.8026314377784729,\n",
       " 0.9043484926223755,\n",
       " 8.660426139831543,\n",
       " 0.6676451563835144,\n",
       " 0.9347459077835083,\n",
       " 3.6832730770111084,\n",
       " 3.3279411792755127,\n",
       " 1.5678904056549072,\n",
       " 0.571552574634552,\n",
       " 14.805001258850098,\n",
       " 7.227822780609131,\n",
       " 1.0777742862701416,\n",
       " 3.5383918285369873,\n",
       " 1.619463562965393,\n",
       " 0.7095317244529724,\n",
       " 0.5922661423683167,\n",
       " 14.91539478302002,\n",
       " 1.2443608045578003,\n",
       " 0.528947651386261,\n",
       " 0.49522995948791504,\n",
       " 1.0048593282699585,\n",
       " 3.699650764465332,\n",
       " 13.873863220214844,\n",
       " 2.9986822605133057,\n",
       " 0.8399844765663147,\n",
       " 1.1512116193771362,\n",
       " 1.286864995956421,\n",
       " 0.6473449468612671,\n",
       " 1.0678638219833374,\n",
       " 0.7019796371459961,\n",
       " 11.421581268310547,\n",
       " 0.9002587199211121,\n",
       " 0.8123811483383179,\n",
       " 0.8057998418807983,\n",
       " 0.9449896216392517,\n",
       " 0.9415757060050964,\n",
       " 2.4165444374084473,\n",
       " 0.6749007105827332,\n",
       " 2.293290853500366,\n",
       " 2.359901189804077,\n",
       " 1.1661150455474854,\n",
       " 0.6395007371902466,\n",
       " 0.9807514548301697,\n",
       " 1.783031702041626,\n",
       " 1.3952076435089111,\n",
       " 1.023816466331482,\n",
       " 1.5434703826904297,\n",
       " 1.3407549858093262,\n",
       " 1.6340625286102295,\n",
       " 1.76991868019104,\n",
       " 1.3395123481750488,\n",
       " 1.2348811626434326,\n",
       " 5.162650108337402,\n",
       " 0.838042140007019,\n",
       " 0.977435827255249,\n",
       " 1.0969617366790771,\n",
       " 0.8581365346908569,\n",
       " 1.5567951202392578,\n",
       " 0.943303644657135,\n",
       " 0.5581877827644348,\n",
       " 1.0003066062927246,\n",
       " 1.9416604042053223,\n",
       " 0.9462080001831055,\n",
       " 2.173574924468994,\n",
       " 1.6682212352752686,\n",
       " 1.377859115600586,\n",
       " 0.6665895581245422,\n",
       " 0.4794788360595703,\n",
       " 1.7118903398513794,\n",
       " 0.4585292339324951,\n",
       " 0.8221765756607056,\n",
       " 14.170083045959473,\n",
       " 0.27586644887924194,\n",
       " 0.42622044682502747,\n",
       " 1.3395121097564697,\n",
       " 0.4426397681236267,\n",
       " 2.6084606647491455,\n",
       " 1.239863395690918,\n",
       " 1.945824146270752,\n",
       " 0.6135379076004028,\n",
       " 1.4639561176300049,\n",
       " 0.8538646697998047,\n",
       " 2.385476589202881,\n",
       " 1.9339642524719238,\n",
       " 9.218608856201172,\n",
       " 1.1679918766021729,\n",
       " 2.5287234783172607,\n",
       " 2.8367977142333984,\n",
       " 2.2165966033935547,\n",
       " 0.7890229225158691,\n",
       " 14.424078941345215,\n",
       " 2.544973373413086,\n",
       " 1.8574665784835815,\n",
       " 0.6450783610343933,\n",
       " 3.4941201210021973,\n",
       " 10.342644691467285,\n",
       " 2.1430728435516357,\n",
       " 1.7321738004684448,\n",
       " 0.7897661328315735,\n",
       " 4.099414348602295,\n",
       " 9.896413803100586,\n",
       " 0.5676060318946838,\n",
       " 0.8857279419898987,\n",
       " 1.0906600952148438,\n",
       " 1.6886541843414307,\n",
       " 1.6812266111373901,\n",
       " 1.6734683513641357,\n",
       " 1.6960690021514893,\n",
       " 1.2443606853485107,\n",
       " 1.8109493255615234,\n",
       " 1.4066548347473145,\n",
       " 1.3293198347091675,\n",
       " 0.8173162937164307,\n",
       " 2.3726656436920166,\n",
       " 0.7840619683265686,\n",
       " 1.7462685108184814,\n",
       " 1.508239984512329,\n",
       " 0.5927338600158691,\n",
       " 0.6326987743377686,\n",
       " 4.413352012634277,\n",
       " 1.321872591972351,\n",
       " 1.374306321144104,\n",
       " 0.8515070080757141,\n",
       " 1.7826082706451416,\n",
       " 2.1650354862213135,\n",
       " 0.745180606842041,\n",
       " 0.752794623374939,\n",
       " 5.816778659820557,\n",
       " 0.8827422261238098,\n",
       " 1.760291337966919,\n",
       " 1.1709940433502197,\n",
       " 1.5377124547958374,\n",
       " 0.9176417589187622,\n",
       " 0.6605331897735596,\n",
       " 1.395303726196289,\n",
       " 1.2034531831741333,\n",
       " 2.447598457336426,\n",
       " 1.2004749774932861,\n",
       " 0.3114479184150696,\n",
       " 11.631819725036621,\n",
       " 0.695095419883728,\n",
       " 3.762669801712036,\n",
       " 11.938141822814941,\n",
       " 0.9320658445358276,\n",
       " 6.18297004699707,\n",
       " 0.7122978568077087,\n",
       " 0.8274762034416199,\n",
       " 0.7229317426681519,\n",
       " 1.6614720821380615,\n",
       " 1.2591400146484375,\n",
       " 1.3646447658538818,\n",
       " 0.46879494190216064,\n",
       " 0.5384172797203064,\n",
       " 1.6373015642166138,\n",
       " 8.588128089904785,\n",
       " 1.5673097372055054,\n",
       " 1.595795750617981,\n",
       " 0.8854217529296875,\n",
       " 6.8678131103515625,\n",
       " 0.6747809648513794,\n",
       " 2.9452121257781982,\n",
       " 0.8510591387748718,\n",
       " 2.0276763439178467,\n",
       " 1.038104772567749,\n",
       " 3.6764464378356934,\n",
       " 9.495627403259277,\n",
       " 0.6613669395446777,\n",
       " 0.8854217529296875,\n",
       " 1.443727731704712,\n",
       " 1.1452360153198242,\n",
       " 0.5739301443099976,\n",
       " 2.3185763359069824,\n",
       " 1.747920274734497,\n",
       " 0.786302924156189,\n",
       " 0.4270750880241394,\n",
       " 0.5895305871963501,\n",
       " 1.6086907386779785,\n",
       " 2.216445207595825,\n",
       " 0.8315931558609009,\n",
       " 0.8669878840446472,\n",
       " 11.214667320251465,\n",
       " 6.518435955047607,\n",
       " 1.0378199815750122,\n",
       " 1.684585690498352,\n",
       " 1.7374374866485596,\n",
       " 0.7791849970817566,\n",
       " 0.4709204137325287,\n",
       " 1.3068112134933472,\n",
       " 0.8748496770858765,\n",
       " 0.6293042302131653,\n",
       " 1.404768943786621,\n",
       " 1.421390414237976,\n",
       " 1.841394066810608,\n",
       " 2.6423757076263428,\n",
       " 1.7109260559082031,\n",
       " 1.733945608139038,\n",
       " 1.956671953201294,\n",
       " 0.5724266767501831,\n",
       " 0.7229179739952087,\n",
       " 1.4191181659698486,\n",
       " 0.837803840637207,\n",
       " 0.5364090800285339,\n",
       " 11.01883316040039,\n",
       " 1.5487457513809204,\n",
       " 1.3705525398254395,\n",
       " 1.7266932725906372,\n",
       " 0.5255193710327148,\n",
       " 0.7821808457374573,\n",
       " 3.5482065677642822,\n",
       " 0.7887139916419983,\n",
       " 3.0198609828948975,\n",
       " 2.8551764488220215,\n",
       " 0.7017456293106079,\n",
       " 1.7232913970947266,\n",
       " 0.7095320224761963,\n",
       " 0.6076375842094421,\n",
       " 1.6709251403808594,\n",
       " 17.339258193969727,\n",
       " 1.1761960983276367,\n",
       " 0.5799949765205383,\n",
       " 1.3075754642486572,\n",
       " 1.5211338996887207,\n",
       " 1.9612748622894287,\n",
       " 0.9763338565826416,\n",
       " 3.900747537612915,\n",
       " 0.2665053606033325,\n",
       " 1.9487690925598145,\n",
       " 0.7234150171279907,\n",
       " 4.171143531799316,\n",
       " 0.720443606376648,\n",
       " 0.7910365462303162,\n",
       " 1.0559959411621094,\n",
       " 1.44482421875,\n",
       " 1.8285475969314575,\n",
       " 1.295609712600708,\n",
       " 0.6749005913734436,\n",
       " 0.8501685857772827,\n",
       " 0.9969067573547363,\n",
       " 0.17391535639762878,\n",
       " 2.651451826095581,\n",
       " 0.7581124901771545,\n",
       " 1.5224313735961914,\n",
       " 9.936052322387695,\n",
       " 0.8215917944908142,\n",
       " 1.240081787109375,\n",
       " 1.4171041250228882,\n",
       " 0.8359636068344116,\n",
       " 0.5310628414154053,\n",
       " 0.4148268401622772,\n",
       " 0.7920255661010742,\n",
       " 0.8553778529167175,\n",
       " 0.9065454006195068,\n",
       " 0.7115071415901184,\n",
       " 1.0631002187728882,\n",
       " 10.379051208496094,\n",
       " 0.8353853821754456,\n",
       " 1.7445809841156006,\n",
       " 0.6022902727127075,\n",
       " 1.2394509315490723,\n",
       " 1.2138302326202393,\n",
       " 1.1570061445236206,\n",
       " 0.7344013452529907,\n",
       " 1.287556529045105,\n",
       " 0.5890832543373108,\n",
       " 0.4804719090461731,\n",
       " 0.9945536255836487,\n",
       " 0.6244751214981079,\n",
       " 0.5005943179130554,\n",
       " 0.9060885310173035,\n",
       " 0.6474151015281677,\n",
       " 0.8614789843559265,\n",
       " 0.9008989930152893,\n",
       " 1.7186331748962402,\n",
       " 0.6497089266777039,\n",
       " 1.6682212352752686,\n",
       " 1.8721691370010376,\n",
       " 1.567080020904541,\n",
       " 1.3619484901428223,\n",
       " 1.334317684173584,\n",
       " 2.272014617919922,\n",
       " 1.145914912223816,\n",
       " 1.1446956396102905,\n",
       " 2.6819944381713867,\n",
       " 0.6683428883552551,\n",
       " 2.5423967838287354,\n",
       " 0.3649282157421112,\n",
       " 1.1771353483200073,\n",
       " 0.7862341403961182,\n",
       " 0.6564602255821228,\n",
       " 2.1193928718566895,\n",
       " 0.08096691966056824,\n",
       " 1.0712361335754395,\n",
       " 0.382271945476532,\n",
       " 0.5473493337631226,\n",
       " 1.0187592506408691,\n",
       " 2.4271645545959473,\n",
       " 1.4999595880508423,\n",
       " 2.5925304889678955,\n",
       " 0.7854468822479248,\n",
       " 2.372666120529175,\n",
       " 24.195228576660156,\n",
       " 0.9469881057739258,\n",
       " 0.3941726088523865,\n",
       " 0.7658523917198181,\n",
       " 1.0940239429473877,\n",
       " 1.0621891021728516,\n",
       " 0.9905768036842346,\n",
       " 0.12720812857151031,\n",
       " 0.5988149046897888,\n",
       " 1.2761738300323486,\n",
       " 0.6730339527130127,\n",
       " 1.1224428415298462,\n",
       " 0.23069943487644196,\n",
       " 0.4876243472099304,\n",
       " 1.3130518198013306,\n",
       " 0.4621884524822235,\n",
       " 2.0276763439178467,\n",
       " 0.9101479649543762,\n",
       " 1.4796088933944702,\n",
       " 0.9913558959960938,\n",
       " 2.534745693206787,\n",
       " 2.457449436187744,\n",
       " 1.4414608478546143,\n",
       " 1.3019344806671143,\n",
       " 10.664240837097168,\n",
       " 1.6866317987442017,\n",
       " 1.0035738945007324,\n",
       " 1.1950408220291138,\n",
       " 1.6411882638931274,\n",
       " 0.12958325445652008,\n",
       " 0.9089490175247192,\n",
       " 10.622119903564453,\n",
       " 0.6529262661933899,\n",
       " 2.319751739501953,\n",
       " 0.8749778866767883,\n",
       " 0.4815533459186554,\n",
       " 1.2443606853485107,\n",
       " 1.115471601486206,\n",
       " 0.9368521571159363,\n",
       " 1.7258477210998535,\n",
       " 1.6961612701416016,\n",
       " 0.26215824484825134,\n",
       " 1.8213696479797363,\n",
       " 1.7632648944854736,\n",
       " 1.6139588356018066,\n",
       " 0.6084105372428894,\n",
       " 1.6465568542480469,\n",
       " 0.658870279788971,\n",
       " 1.7051376104354858,\n",
       " 2.214085340499878,\n",
       " 1.7935304641723633,\n",
       " 0.7197673916816711,\n",
       " 1.4136238098144531,\n",
       " 8.054122924804688,\n",
       " 0.5956842303276062,\n",
       " 0.5809793472290039,\n",
       " 0.7363709807395935,\n",
       " 2.053790330886841,\n",
       " 2.3249101638793945,\n",
       " 9.502077102661133,\n",
       " 0.5383961200714111,\n",
       " 1.0801092386245728,\n",
       " 0.5749604105949402,\n",
       " 1.033869981765747,\n",
       " 5.668855667114258,\n",
       " 2.151125431060791,\n",
       " 1.3608719110488892,\n",
       " 1.8913867473602295,\n",
       " 0.8814842104911804,\n",
       " 0.8498128056526184,\n",
       " 1.1761958599090576,\n",
       " 0.743442714214325,\n",
       " 1.0648279190063477,\n",
       " 1.7042135000228882,\n",
       " 0.6843340396881104,\n",
       " 0.7325520515441895,\n",
       " 1.4639561176300049,\n",
       " 9.26067066192627,\n",
       " 1.5921846628189087,\n",
       " 1.11815345287323,\n",
       " 0.8883517980575562,\n",
       " 1.0355490446090698,\n",
       " 1.5001401901245117,\n",
       " 3.808758497238159,\n",
       " 0.5392762422561646,\n",
       " 0.43087390065193176,\n",
       " 0.5585078597068787,\n",
       " 1.0145643949508667,\n",
       " 0.7259813547134399,\n",
       " 1.0675221681594849,\n",
       " 1.4850692749023438,\n",
       " 0.982357382774353,\n",
       " 1.8721693754196167,\n",
       " 10.565840721130371,\n",
       " 2.1509997844696045,\n",
       " 1.6682212352752686,\n",
       " 1.1198474168777466,\n",
       " 0.7911354899406433,\n",
       " 1.091606616973877,\n",
       " 8.379680633544922,\n",
       " 0.9532579779624939,\n",
       " 1.4191181659698486,\n",
       " 1.609940528869629,\n",
       " 1.8721691370010376,\n",
       " 0.9808561205863953,\n",
       " 0.6294218897819519,\n",
       " 7.423686504364014,\n",
       " 0.963097870349884,\n",
       " 2.4271655082702637,\n",
       " 0.7214592099189758,\n",
       " 0.9195600152015686,\n",
       " 0.22471769154071808,\n",
       " 0.40711739659309387,\n",
       " 11.824407577514648,\n",
       " 1.0005238056182861,\n",
       " 0.7067529559135437,\n",
       " 0.20656609535217285,\n",
       " 1.0443542003631592,\n",
       " 0.6198354959487915,\n",
       " 1.0338703393936157,\n",
       " 0.5576009750366211,\n",
       " 0.9807509779930115,\n",
       " 1.7050611972808838,\n",
       " 0.2958930730819702,\n",
       " 4.927967548370361,\n",
       " 1.2543224096298218,\n",
       " 4.614009857177734,\n",
       " 0.20656609535217285,\n",
       " 0.709999680519104,\n",
       " 0.6749017238616943,\n",
       " 0.764376699924469,\n",
       " 21.229019165039062,\n",
       " 1.2436347007751465,\n",
       " 0.8292553424835205,\n",
       " 1.8629482984542847,\n",
       " 0.7510049939155579,\n",
       " 1.2120885848999023,\n",
       " 0.40674614906311035,\n",
       " 0.5493713617324829,\n",
       " 0.9968113899230957,\n",
       " 0.2480381727218628,\n",
       " 0.09835941344499588,\n",
       " 1.2421717643737793,\n",
       " 1.8426721096038818,\n",
       " 2.3249106407165527,\n",
       " 0.7780718207359314,\n",
       " 0.9131637215614319,\n",
       " 2.1318347454071045,\n",
       " 2.6527674198150635,\n",
       " 2.0314884185791016,\n",
       " 0.22471769154071808,\n",
       " 1.6164556741714478,\n",
       " 0.3407692313194275,\n",
       " 2.0089850425720215,\n",
       " 1.5878651142120361,\n",
       " 6.22524881362915,\n",
       " 1.0040509700775146,\n",
       " 3.0301380157470703,\n",
       " 1.1569945812225342,\n",
       " 1.3613905906677246,\n",
       " 0.6506316661834717,\n",
       " 0.2708679735660553,\n",
       " 14.076461791992188,\n",
       " 2.051996946334839,\n",
       " 0.81076979637146,\n",
       " 1.445670485496521,\n",
       " 0.6891946792602539,\n",
       " 0.812076210975647,\n",
       " 3.0969886779785156,\n",
       " 3.4129486083984375,\n",
       " 1.5180068016052246,\n",
       " 0.50736403465271,\n",
       " 1.465878963470459,\n",
       " 3.404998779296875,\n",
       " 0.4905773401260376,\n",
       " 0.7045193314552307,\n",
       " 0.7608077526092529,\n",
       " 5.436113357543945,\n",
       " 0.7423186898231506,\n",
       " 0.6630760431289673,\n",
       " 0.5740936398506165,\n",
       " 2.53615665435791,\n",
       " 0.8112127780914307,\n",
       " 3.901031255722046,\n",
       " 0.4620550572872162,\n",
       " 1.5224311351776123,\n",
       " 1.3293507099151611,\n",
       " 2.525435209274292,\n",
       " 2.115903377532959,\n",
       " 1.139457106590271,\n",
       " 0.3301207423210144,\n",
       " 7.213455677032471,\n",
       " 0.7080259323120117,\n",
       " 1.4628431797027588,\n",
       " 6.868590354919434,\n",
       " 0.9039836525917053,\n",
       " 0.6591419577598572,\n",
       " 0.7631019949913025,\n",
       " 2.4193670749664307,\n",
       " 1.14262855052948,\n",
       " 1.259140133857727,\n",
       " 1.4049805402755737,\n",
       " 0.7123614549636841,\n",
       " 0.67878258228302,\n",
       " 0.33484938740730286,\n",
       " 1.662095069885254,\n",
       " 0.675347626209259,\n",
       " 0.9913556575775146,\n",
       " 1.1593469381332397,\n",
       " 1.7183523178100586,\n",
       " 6.474061489105225,\n",
       " 6.847825050354004,\n",
       " 5.614219665527344,\n",
       " 1.3174134492874146,\n",
       " 1.2554025650024414,\n",
       " 1.0350933074951172,\n",
       " 0.7733432054519653,\n",
       " 4.775678634643555,\n",
       " 2.5492732524871826,\n",
       " 1.043613076210022,\n",
       " 0.3083721101284027,\n",
       " 6.19738245010376,\n",
       " 1.6860160827636719,\n",
       " 8.308144569396973,\n",
       " 1.0147509574890137,\n",
       " 0.6184418201446533,\n",
       " 4.58467435836792,\n",
       " 0.46879494190216064,\n",
       " 0.8925600647926331,\n",
       " 0.8937588930130005,\n",
       " 7.866486549377441,\n",
       " 1.1792521476745605,\n",
       " 0.8956176042556763,\n",
       " 2.0276763439178467,\n",
       " 0.7773459553718567,\n",
       " 0.5898924469947815,\n",
       " 3.1839146614074707,\n",
       " 1.0145646333694458,\n",
       " 1.9477618932724,\n",
       " 1.4728549718856812,\n",
       " 0.22776395082473755,\n",
       " 7.19038724899292,\n",
       " 1.2647241353988647,\n",
       " 2.655019998550415,\n",
       " 2.1081228256225586,\n",
       " 2.065746784210205,\n",
       " 0.9290132522583008,\n",
       " 1.2791104316711426,\n",
       " 0.7821808457374573,\n",
       " 0.7155195474624634,\n",
       " 1.477363109588623,\n",
       " 0.8169479370117188,\n",
       " 1.3667267560958862,\n",
       " 2.0723724365234375,\n",
       " 1.119480848312378,\n",
       " 1.6160356998443604,\n",
       " 0.8639485239982605,\n",
       " 0.35885345935821533,\n",
       " 0.29028165340423584,\n",
       " 1.277637004852295,\n",
       " 2.083195447921753,\n",
       " 8.203204154968262,\n",
       " 1.2647241353988647,\n",
       " 1.0913678407669067,\n",
       " 0.41398489475250244,\n",
       " 0.4887602925300598,\n",
       " 2.0276763439178467,\n",
       " 2.6574034690856934,\n",
       " 1.6454623937606812,\n",
       " 1.830153465270996,\n",
       " 22.731048583984375,\n",
       " 4.3585004806518555,\n",
       " 1.4422883987426758,\n",
       " 0.3872300982475281,\n",
       " 0.5836398005485535,\n",
       " 0.49827420711517334,\n",
       " 0.786302924156189,\n",
       " 0.8920990228652954,\n",
       " 1.122442603111267,\n",
       " 0.7726633548736572,\n",
       " 4.590196132659912,\n",
       " 0.8578697443008423,\n",
       " 0.5683916211128235,\n",
       " 0.6945601105690002,\n",
       " 1.6734685897827148,\n",
       " 4.30763578414917,\n",
       " 3.886279582977295,\n",
       " 1.3178972005844116,\n",
       " 1.0917600393295288,\n",
       " 0.6780343055725098,\n",
       " 0.9667344689369202,\n",
       " 0.6636693477630615,\n",
       " 0.5836923718452454,\n",
       " 2.3726656436920166,\n",
       " 0.7165202498435974,\n",
       " 0.7654261589050293,\n",
       " 0.9807512760162354,\n",
       " 1.4668331146240234,\n",
       " 1.4388633966445923,\n",
       " 0.7914981842041016,\n",
       " 1.6451178789138794,\n",
       " 1.8116991519927979,\n",
       " 1.1459704637527466,\n",
       " 0.5168623328208923,\n",
       " 0.7977471351623535,\n",
       " 0.6910668015480042,\n",
       " 0.6183646321296692,\n",
       " 10.301663398742676,\n",
       " 1.5205351114273071,\n",
       " 0.24763807654380798,\n",
       " ...]"
      ]
     },
     "execution_count": 60,
     "metadata": {},
     "output_type": "execute_result"
    }
   ],
   "source": [
    "negative_distances"
   ]
  },
  {
   "cell_type": "code",
   "execution_count": 68,
   "metadata": {},
   "outputs": [
    {
     "data": {
      "text/plain": [
       "0.02250039204955101"
      ]
     },
     "execution_count": 68,
     "metadata": {},
     "output_type": "execute_result"
    }
   ],
   "source": [
    "min(negative_distances)"
   ]
  },
  {
   "cell_type": "code",
   "execution_count": 76,
   "metadata": {},
   "outputs": [
    {
     "data": {
      "text/plain": [
       "1.4975024975024975"
      ]
     },
     "execution_count": 76,
     "metadata": {},
     "output_type": "execute_result"
    }
   ],
   "source": [
    "len(negative_distances) / len(positive_distances)"
   ]
  },
  {
   "cell_type": "code",
   "execution_count": 69,
   "metadata": {},
   "outputs": [
    {
     "name": "stdout",
     "output_type": "stream",
     "text": [
      "1.921307557495311e-11\n",
      "0.07812459766864777\n"
     ]
    },
    {
     "data": {
      "image/png": "[encoded data removed]",
      "text/plain": [
       "<Figure size 640x480 with 1 Axes>"
      ]
     },
     "metadata": {},
     "output_type": "display_data"
    }
   ],
   "source": [
    "plot_histogram(positive_distances, \"positive examples\", max_range=None)"
   ]
  },
  {
   "cell_type": "code",
   "execution_count": 75,
   "metadata": {
    "scrolled": true
   },
   "outputs": [
    {
     "name": "stdout",
     "output_type": "stream",
     "text": [
      "0.02250039204955101\n",
      "1\n"
     ]
    },
    {
     "data": {
      "image/png": "[encoded data removed]",
      "text/plain": [
       "<Figure size 640x480 with 1 Axes>"
      ]
     },
     "metadata": {},
     "output_type": "display_data"
    }
   ],
   "source": [
    "plot_histogram(negative_distances, \"negative examples\", max_range=1)"
   ]
  },
  {
   "cell_type": "code",
   "execution_count": 77,
   "metadata": {},
   "outputs": [
    {
     "name": "stdout",
     "output_type": "stream",
     "text": [
      "107.23774719238281\n",
      "45.82807540893555\n"
     ]
    }
   ],
   "source": [
    "calc_margin_loss(torch.tensor(positive_distances+negative_distances), torch.cat((torch.ones(len(positive_distances)), torch.zeros(len(negative_distances)))), margin = solver_params['margin_loss_margin_value'])"
   ]
  },
  {
   "cell_type": "markdown",
   "metadata": {},
   "source": [
    "Train again without rebuilding data loaders, and without the val_loader"
   ]
  },
  {
   "cell_type": "code",
   "execution_count": null,
   "metadata": {},
   "outputs": [],
   "source": [
    "# model_factory_func = lambda device: GraphCNN(num_layers=5, num_mlp_layers = 2, input_dim=input_dim, hidden_dim=64, output_dim=num_classes, final_dropout=0.5, learn_eps=False, graph_pooling_type=\"sum\", neighbor_pooling_type=\"sum\", device=device)\n",
    "# new_trainer, graph_metric_nn, model = init_embedding_net_and_trainer(model_factory_func)\n",
    "\n",
    "# new_trainer.previous_train_loader_paths = trainer.previous_train_loader_paths\n",
    "# new_trainer.previous_val_loader_paths = [None for device_id in processes_device_ids] #trainer.previous_val_loader_paths\n",
    "# new_trainer.train(processes_device_ids=processes_device_ids, use_existing_data_loaders=True)"
   ]
  },
  {
   "cell_type": "code",
   "execution_count": 83,
   "metadata": {
    "collapsed": false,
    "jupyter": {
     "outputs_hidden": false
    },
    "pycharm": {
     "name": "#%%\n"
    }
   },
   "outputs": [
    {
     "name": "stdout",
     "output_type": "stream",
     "text": [
      "post iteration 0\n",
      "post iteration 5000\n",
      "post iteration 10000\n",
      "post iteration 15000\n",
      "post iteration 20000\n",
      "post iteration 25000\n",
      "post iteration 30000\n",
      "post iteration 35000\n",
      "post iteration 40000\n",
      "post iteration 45000\n"
     ]
    }
   ],
   "source": [
    "_ = graph_metric_nn.eval()\n",
    "\n",
    "FP = 0\n",
    "FN = 0\n",
    "for i in range(0, len(used_train_samples_list)):\n",
    "    if i % 5_000 == 0:\n",
    "        print(f\"post iteration {i}\")\n",
    "    is_negative_sample = used_train_samples_list[i].is_negative_sample\n",
    "    graph1 = train_samples_list[i].subgraph\n",
    "    graph2 = train_samples_list[i].masked_graph\n",
    "\n",
    "    s2v_graphs = generate_s2v_graphs([graph1.g, graph2.g], print_stats=False)\n",
    "\n",
    "    distance = graph_metric_nn.forward([(s2v_graphs[0], s2v_graphs[1])]).item()\n",
    "\n",
    "    if is_negative_sample and (distance < solver_params['margin_loss_margin_value']):\n",
    "        FP += 1\n",
    "        # print(f\"negative loss term not zero, as distance for this negative example pair is {distance}\")\n",
    "    if (not is_negative_sample) and (distance > solver_params['margin_loss_margin_value']):\n",
    "        FN += 1\n",
    "        # print(f\"negative loss term not zero, as distance for this positive example pair is {distance}\")"
   ]
  },
  {
   "cell_type": "code",
   "execution_count": 86,
   "metadata": {},
   "outputs": [
    {
     "name": "stdout",
     "output_type": "stream",
     "text": [
      "FP=2731 out of 29980 negative examples\n",
      "FN=0 out of 20020 positive examples\n"
     ]
    }
   ],
   "source": [
    "print(f\"FP={FP} out of {len(negative_distances)} negative examples\")\n",
    "print(f\"FN={FN} out of {len(positive_distances)} positive examples\")"
   ]
  },
  {
   "cell_type": "markdown",
   "metadata": {
    "collapsed": false,
    "jupyter": {
     "outputs_hidden": false
    }
   },
   "source": [
    "Execution time profiling"
   ]
  },
  {
   "cell_type": "code",
   "execution_count": null,
   "metadata": {
    "collapsed": false,
    "jupyter": {
     "outputs_hidden": false
    },
    "pycharm": {
     "name": "#%%\n"
    }
   },
   "outputs": [],
   "source": [
    "# from cProfile import Profile\n",
    "# from pstats import SortKey, Stats\n",
    "\n",
    "# with Profile() as profile:\n",
    "#     new_trainer.train(processes_device_ids=processes_device_ids, use_existing_data_loaders=True)\n",
    "#     (\n",
    "#     Stats(profile)\n",
    "#         .strip_dirs()\n",
    "#         .sort_stats(SortKey.CUMULATIVE)\n",
    "#         .print_stats()\n",
    "#     )"
   ]
  }
 ],
 "metadata": {
  "kernelspec": {
   "display_name": "Python 3 (ipykernel)",
   "language": "python",
   "name": "python3"
  },
  "language_info": {
   "codemirror_mode": {
    "name": "ipython",
    "version": 3
   },
   "file_extension": ".py",
   "mimetype": "text/x-python",
   "name": "python",
   "nbconvert_exporter": "python",
   "pygments_lexer": "ipython3",
   "version": "3.11.4"
  }
 },
 "nbformat": 4,
 "nbformat_minor": 4
}
