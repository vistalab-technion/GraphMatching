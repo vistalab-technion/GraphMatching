{
 "cells": [
  {
   "cell_type": "markdown",
   "metadata": {
    "collapsed": false,
    "jupyter": {
     "outputs_hidden": false
    }
   },
   "source": [
    "Imports"
   ]
  },
  {
   "cell_type": "code",
   "execution_count": 1,
   "metadata": {},
   "outputs": [],
   "source": [
    "import sys\n",
    "sys.path.append(\"/home/sanketh/DANI/GraphMatching/\")\n",
    "\n",
    "import torch.multiprocessing as mp\n",
    "mp.set_start_method(\"spawn\")"
   ]
  },
  {
   "cell_type": "code",
   "execution_count": 2,
   "metadata": {
    "collapsed": false,
    "jupyter": {
     "outputs_hidden": false
    },
    "pycharm": {
     "name": "#%%\n"
    }
   },
   "outputs": [
    {
     "name": "stdout",
     "output_type": "stream",
     "text": [
      "!!! WARNING: COULD NOT IMPORT rpy2, check R_HOME path exists: C:\\Program Files\\R\\R-4.3.2 !!!\n"
     ]
    }
   ],
   "source": [
    "import pathlib\n",
    "import os\n",
    "import numpy as np\n",
    "import torch\n",
    "from torch import optim\n",
    "import itertools\n",
    "from common.parallel_computation import tqdm_joblib\n",
    "import random\n",
    "from tqdm import tqdm\n",
    "from joblib import Parallel, delayed\n",
    "from os import cpu_count\n",
    "import pickle\n",
    "from livelossplot import PlotLosses\n",
    "import time\n",
    "from common.logger import TimeLogging\n",
    "from subgraph_matching_via_nn.data.data_loaders import load_graph\n",
    "from powerful_gnns.models.graphcnn import GraphCNN\n",
    "from powerful_gnns.util import separate_data\n",
    "from powerful_gnns.classifier_training import train, test\n",
    "from common.EmbeddingCalculationsService import pairwise_l2_distance, show_distance_matrix, \\\n",
    "    calculate_energy_based_hidden_rep\n",
    "from subgraph_matching_via_nn.training.PairSampleInfo import Pair_Sample_Info\n",
    "from subgraph_matching_via_nn.data.annotated_graph import AnnotatedGraph\n",
    "from subgraph_matching_via_nn.training.trainer.S2VGraphEmbeddingSimilarityMetricTrainer import \\\n",
    "    S2VGraphEmbeddingSimilarityMetricTrainer\n",
    "from common.graph_data_experiments_utils import *"
   ]
  },
  {
   "cell_type": "code",
   "execution_count": 3,
   "metadata": {},
   "outputs": [],
   "source": [
    "processes_device_ids = ['cpu'] #[0, 2, 3, 4, 5, 6, 7]"
   ]
  },
  {
   "cell_type": "code",
   "execution_count": 4,
   "metadata": {
    "collapsed": false,
    "jupyter": {
     "outputs_hidden": false
    },
    "pycharm": {
     "name": "#%%\n"
    }
   },
   "outputs": [],
   "source": [
    "goal_subcircuit_name = 'alu'\n",
    "DATA_PATH = 'C:/Users/kogan/OneDrive/Desktop/Research/AMIT/GraphMatching/subgraph_matching_via_nn/data/subcircuits/'\n",
    "DATA_PATH = '../subgraph_matching_via_nn/data/subcircuits/'\n",
    "\n",
    "desktop = pathlib.Path(DATA_PATH)\n",
    "subgraphs = []\n",
    "labels = []\n",
    "for circuit_dir in desktop.iterdir():\n",
    "    if circuit_dir.is_dir():\n",
    "        for subcircuit_file in circuit_dir.iterdir():\n",
    "            if subcircuit_file.is_file():\n",
    "                file_name = subcircuit_file.name\n",
    "                if file_name == 'full_graph.p':\n",
    "                    file_rel_path = f\"{os.sep}{file_name}\"\n",
    "                    loader_params = {\n",
    "                     'data_path' : str(circuit_dir),\n",
    "                     'g_full_path': file_rel_path,\n",
    "                     'g_sub_path': file_rel_path}\n",
    "\n",
    "                    sub_graph = \\\n",
    "                        load_graph(type='subcircuit',\n",
    "                                   loader_params=loader_params)\n",
    "\n",
    "                    if goal_subcircuit_name in circuit_dir.name:\n",
    "                        labels.append(1)\n",
    "                    else:\n",
    "                        # continue #TODO?\n",
    "                        labels.append(0)\n",
    "                    subgraphs.append(sub_graph)\n",
    "\n",
    "labels = np.array(labels, dtype='float32')\n",
    "N = len(subgraphs)\n",
    "N_training = int(2 / 3 * N)"
   ]
  },
  {
   "cell_type": "code",
   "execution_count": 5,
   "metadata": {
    "collapsed": false,
    "jupyter": {
     "outputs_hidden": false
    },
    "pycharm": {
     "name": "#%%\n"
    }
   },
   "outputs": [],
   "source": [
    "subgraphs = []\n",
    "labels = []\n",
    "\n",
    "subgraphs_for_classification = []\n",
    "\n",
    "circuit_base_dir = 'C:\\\\Users\\\\kogan\\\\OneDrive\\\\Desktop\\\\Research\\\\AMIT\\\\GraphMatching\\\\subgraph_matching_via_nn\\\\data\\\\subcircuits\\\\'\n",
    "circuit_base_dir = '/home/sanketh/DANI/GraphMatching/subgraph_matching_via_nn/data/subcircuits/'\n",
    "CIRCUIT_DUPLICATES_AMOUNT = 5\n",
    "REFERENCE_GRAPH_ORIGINAL_LABEL = 1\n",
    "REFERENCE_GRAPH_ORIGINAL_INDEX = 0\n",
    "\n",
    "for circuit_file_name in ['adder_4', 'alu_4', 'alu_8', 'alu_16', 'alu_32', 'mul_4_4', 'mul_4_8', 'mul_8_8', 'mul_16_16', 'mul_16_32']:\n",
    "    file_rel_path = 'full_graph.p'\n",
    "    circuit_dir = f\"{circuit_base_dir}{circuit_file_name}{os.sep}\"\n",
    "    loader_params = {\n",
    "     'data_path' : str(circuit_dir),\n",
    "     'g_full_path': file_rel_path,\n",
    "     'g_sub_path': file_rel_path}\n",
    "\n",
    "    sub_graph = \\\n",
    "        load_graph(type='subcircuit',\n",
    "                   loader_params=loader_params)\n",
    "    subgraphs.append(sub_graph)\n",
    "    for i in range(CIRCUIT_DUPLICATES_AMOUNT):\n",
    "        subgraphs_for_classification.append(sub_graph)\n",
    "        labels.append(0)\n",
    "for i in range(CIRCUIT_DUPLICATES_AMOUNT):\n",
    "    labels[REFERENCE_GRAPH_ORIGINAL_INDEX * CIRCUIT_DUPLICATES_AMOUNT + i] = REFERENCE_GRAPH_ORIGINAL_LABEL\n",
    "\n",
    "zipped_graphs_and_labels = list(zip(subgraphs_for_classification, labels))\n",
    "random.shuffle(zipped_graphs_and_labels)\n",
    "unzipped_graphs_and_labels = list(zip(*zipped_graphs_and_labels))\n",
    "subgraphs_for_classification = unzipped_graphs_and_labels[0]\n",
    "labels = unzipped_graphs_and_labels[1]\n",
    "\n",
    "N = len(subgraphs_for_classification)\n",
    "N_training = int(2 / 3 * N)"
   ]
  },
  {
   "cell_type": "markdown",
   "metadata": {
    "collapsed": false,
    "jupyter": {
     "outputs_hidden": false
    }
   },
   "source": [
    "Transform graphs into S2VGraph-s"
   ]
  },
  {
   "cell_type": "code",
   "execution_count": 6,
   "metadata": {
    "collapsed": false,
    "jupyter": {
     "outputs_hidden": false
    },
    "pycharm": {
     "name": "#%%\n"
    }
   },
   "outputs": [],
   "source": [
    "device = 'cpu' if torch.cuda.is_available() else 'cpu'"
   ]
  },
  {
   "cell_type": "code",
   "execution_count": 7,
   "metadata": {
    "collapsed": false,
    "jupyter": {
     "outputs_hidden": false
    },
    "pycharm": {
     "name": "#%%\n"
    }
   },
   "outputs": [
    {
     "name": "stdout",
     "output_type": "stream",
     "text": [
      "# classes: 2\n",
      "# maximum node tag: 48\n",
      "# data: 50\n"
     ]
    }
   ],
   "source": [
    "graphs, num_classes = transform_into_s2vgraphs(subgraphs_for_classification, labels, device)"
   ]
  },
  {
   "cell_type": "markdown",
   "metadata": {
    "collapsed": false,
    "jupyter": {
     "outputs_hidden": false
    }
   },
   "source": [
    "Setup model and training"
   ]
  },
  {
   "cell_type": "code",
   "execution_count": 8,
   "metadata": {
    "collapsed": false,
    "jupyter": {
     "outputs_hidden": false
    },
    "pycharm": {
     "name": "#%%\n"
    }
   },
   "outputs": [],
   "source": [
    "#set up seeds and gpu device\n",
    "torch.manual_seed(0)\n",
    "np.random.seed(0)\n",
    "if torch.cuda.is_available():\n",
    "    torch.cuda.manual_seed_all(0)\n",
    "\n",
    "##k-fold cross validation. Conduct an experiment on the fold specified by args.fold_idx.\n",
    "# train_graphs, test_graphs = separate_data(graphs, seed=0, fold_idx=0, n_splits=1)\n",
    "# train_graphs = graphs[:4]\n",
    "# test_graphs = graphs[4:]\n",
    "train_graphs = graphs[:N_training]\n",
    "test_graphs = graphs[N_training:]\n",
    "\n",
    "model = GraphCNN(num_layers=5, num_mlp_layers = 2, input_dim=train_graphs[0].node_features.shape[1], hidden_dim=64, output_dim=num_classes, final_dropout=0.5, learn_eps=False, graph_pooling_type=\"sum\", neighbor_pooling_type=\"sum\", device=device)\n",
    "\n",
    "optimizer = optim.Adam(model.parameters(), lr=0.01)\n",
    "scheduler = optim.lr_scheduler.StepLR(optimizer, step_size=50, gamma=0.5)"
   ]
  },
  {
   "cell_type": "markdown",
   "metadata": {
    "collapsed": false,
    "jupyter": {
     "outputs_hidden": false
    }
   },
   "source": [
    "Train and Test"
   ]
  },
  {
   "cell_type": "code",
   "execution_count": 9,
   "metadata": {
    "collapsed": false,
    "jupyter": {
     "outputs_hidden": false
    },
    "pycharm": {
     "name": "#%%\n"
    }
   },
   "outputs": [
    {
     "name": "stderr",
     "output_type": "stream",
     "text": [
      "/home/sanketh/.local/share/virtualenvs/GraphMatching-_Kt3QSDD/lib/python3.8/site-packages/torch/optim/lr_scheduler.py:136: UserWarning: Detected call of `lr_scheduler.step()` before `optimizer.step()`. In PyTorch 1.1.0 and later, you should call them in the opposite order: `optimizer.step()` before `lr_scheduler.step()`.  Failure to do this will result in PyTorch skipping the first value of the learning rate schedule. See more details at https://pytorch.org/docs/stable/optim.html#how-to-adjust-learning-rate\n",
      "  warnings.warn(\"Detected call of `lr_scheduler.step()` before `optimizer.step()`. \"\n",
      "  0%|                                                                                                                         | 0/50 [00:00<?, ?batch/s]/home/sanketh/DANI/GraphMatching/powerful_gnns/models/graphcnn.py:150: UserWarning: torch.sparse.SparseTensor(indices, values, shape, *, device=) is deprecated.  Please use torch.sparse_coo_tensor(indices, values, shape, dtype=, device=). (Triggered internally at ../torch/csrc/utils/tensor_new.cpp:605.)\n",
      "  graph_pool = torch.sparse.FloatTensor(idx, elem, torch.Size([len(batch_graph), start_idx[-1]]))\n",
      "epoch: 1:   6%|██████▏                                                                                                | 3/50 [00:04<01:04,  1.38s/batch]\n",
      "\n",
      "KeyboardInterrupt\n",
      "\n"
     ]
    }
   ],
   "source": [
    "liveloss = PlotLosses(mode='notebook')\n",
    "\n",
    "filename = \"\"\n",
    "epochs = 20\n",
    "k_update_plot = 1\n",
    "\n",
    "for epoch in range(1, epochs + 1):\n",
    "    scheduler.step()\n",
    "\n",
    "    avg_loss = train(iters_per_epoch=50, batch_size=len(train_graphs), model=model, device=device, train_graphs=train_graphs, optimizer=optimizer, epoch=epoch)\n",
    "    acc_train, acc_test = test(model, device, train_graphs, test_graphs, epoch)\n",
    "\n",
    "    if not filename == \"\":\n",
    "        with open(filename, 'w') as f:\n",
    "            f.write(\"%f %f %f\" % (avg_loss, acc_train, acc_test))\n",
    "            f.write(\"\\n\")\n",
    "    print(\"\")\n",
    "\n",
    "    print(model.eps)\n",
    "\n",
    "    if epoch % k_update_plot == 0:\n",
    "        liveloss.update({'train error': avg_loss.item()})\n",
    "        liveloss.send()"
   ]
  },
  {
   "cell_type": "code",
   "execution_count": 10,
   "metadata": {
    "pycharm": {
     "name": "#%%\n"
    }
   },
   "outputs": [
    {
     "ename": "NameError",
     "evalue": "name 'acc_train' is not defined",
     "output_type": "error",
     "traceback": [
      "\u001b[0;31m---------------------------------------------------------------------------\u001b[0m",
      "\u001b[0;31mNameError\u001b[0m                                 Traceback (most recent call last)",
      "Cell \u001b[0;32mIn[10], line 1\u001b[0m\n\u001b[0;32m----> 1\u001b[0m \u001b[43macc_train\u001b[49m\n",
      "\u001b[0;31mNameError\u001b[0m: name 'acc_train' is not defined"
     ]
    }
   ],
   "source": [
    "acc_train"
   ]
  },
  {
   "cell_type": "code",
   "execution_count": 11,
   "metadata": {
    "pycharm": {
     "name": "#%%\n"
    }
   },
   "outputs": [
    {
     "ename": "NameError",
     "evalue": "name 'acc_test' is not defined",
     "output_type": "error",
     "traceback": [
      "\u001b[0;31m---------------------------------------------------------------------------\u001b[0m",
      "\u001b[0;31mNameError\u001b[0m                                 Traceback (most recent call last)",
      "Cell \u001b[0;32mIn[11], line 1\u001b[0m\n\u001b[0;32m----> 1\u001b[0m \u001b[43macc_test\u001b[49m\n",
      "\u001b[0;31mNameError\u001b[0m: name 'acc_test' is not defined"
     ]
    }
   ],
   "source": [
    "acc_test"
   ]
  },
  {
   "cell_type": "markdown",
   "metadata": {
    "collapsed": false,
    "jupyter": {
     "outputs_hidden": false
    }
   },
   "source": [
    "Show predictions"
   ]
  },
  {
   "cell_type": "code",
   "execution_count": 9,
   "metadata": {
    "collapsed": false,
    "jupyter": {
     "outputs_hidden": false
    },
    "pycharm": {
     "name": "#%%\n"
    }
   },
   "outputs": [
    {
     "name": "stderr",
     "output_type": "stream",
     "text": [
      "/home/sanketh/DANI/GraphMatching/powerful_gnns/models/graphcnn.py:150: UserWarning: torch.sparse.SparseTensor(indices, values, shape, *, device=) is deprecated.  Please use torch.sparse_coo_tensor(indices, values, shape, dtype=, device=). (Triggered internally at ../torch/csrc/utils/tensor_new.cpp:605.)\n",
      "  graph_pool = torch.sparse.FloatTensor(idx, elem, torch.Size([len(batch_graph), start_idx[-1]]))\n"
     ]
    },
    {
     "name": "stdout",
     "output_type": "stream",
     "text": [
      "tensor([[1],\n",
      "        [1],\n",
      "        [1],\n",
      "        [1],\n",
      "        [1],\n",
      "        [1],\n",
      "        [1],\n",
      "        [1],\n",
      "        [1],\n",
      "        [1],\n",
      "        [1],\n",
      "        [1],\n",
      "        [1],\n",
      "        [1],\n",
      "        [1],\n",
      "        [1],\n",
      "        [1],\n",
      "        [1],\n",
      "        [1],\n",
      "        [1],\n",
      "        [1],\n",
      "        [1],\n",
      "        [1],\n",
      "        [1],\n",
      "        [1],\n",
      "        [1],\n",
      "        [1],\n",
      "        [1],\n",
      "        [1],\n",
      "        [1],\n",
      "        [1],\n",
      "        [1],\n",
      "        [1]])\n"
     ]
    }
   ],
   "source": [
    "model.eval()\n",
    "pred = model(train_graphs).max(1, keepdim=True)[1]\n",
    "print(pred)"
   ]
  },
  {
   "cell_type": "code",
   "execution_count": 10,
   "metadata": {
    "collapsed": false,
    "jupyter": {
     "outputs_hidden": false
    },
    "pycharm": {
     "name": "#%%\n"
    }
   },
   "outputs": [
    {
     "name": "stdout",
     "output_type": "stream",
     "text": [
      "tensor([[1],\n",
      "        [1],\n",
      "        [1],\n",
      "        [1],\n",
      "        [1],\n",
      "        [1],\n",
      "        [1],\n",
      "        [1],\n",
      "        [1],\n",
      "        [1],\n",
      "        [1],\n",
      "        [1],\n",
      "        [1],\n",
      "        [1],\n",
      "        [1],\n",
      "        [1],\n",
      "        [1]])\n"
     ]
    }
   ],
   "source": [
    "pred = model(test_graphs).max(1, keepdim=True)[1]\n",
    "print(pred)"
   ]
  },
  {
   "cell_type": "markdown",
   "metadata": {
    "collapsed": false,
    "jupyter": {
     "outputs_hidden": false
    }
   },
   "source": [
    "show all distances matrix (margin)"
   ]
  },
  {
   "cell_type": "code",
   "execution_count": 11,
   "metadata": {
    "collapsed": false,
    "jupyter": {
     "outputs_hidden": false
    },
    "pycharm": {
     "name": "#%%\n"
    }
   },
   "outputs": [
    {
     "name": "stdout",
     "output_type": "stream",
     "text": [
      "# classes: 1\n",
      "# maximum node tag: 48\n",
      "# data: 10\n"
     ]
    }
   ],
   "source": [
    "# keep only one instance of each graph\n",
    "graphs, num_classes = transform_into_s2vgraphs(subgraphs, labels, device)\n",
    "\n",
    "all_embeddings = model.get_embedding(graphs)"
   ]
  },
  {
   "cell_type": "code",
   "execution_count": 12,
   "metadata": {
    "collapsed": false,
    "jupyter": {
     "outputs_hidden": false
    },
    "pycharm": {
     "name": "#%%\n"
    }
   },
   "outputs": [
    {
     "data": {
      "image/png": "[encoded data removed]",
      "text/plain": [
       "<Figure size 640x480 with 2 Axes>"
      ]
     },
     "metadata": {},
     "output_type": "display_data"
    },
    {
     "data": {
      "image/png": "[encoded data removed]",
      "text/plain": [
       "<Figure size 640x480 with 2 Axes>"
      ]
     },
     "metadata": {},
     "output_type": "display_data"
    }
   ],
   "source": [
    "l2_dists = pairwise_l2_distance(all_embeddings)[REFERENCE_GRAPH_ORIGINAL_INDEX].reshape(-1, 1)\n",
    "\n",
    "rounding_constant = 10 ** 3\n",
    "cos_dists = (torch.round(calculate_energy_based_hidden_rep(all_embeddings, threshold=-1) * rounding_constant) / rounding_constant)[REFERENCE_GRAPH_ORIGINAL_INDEX].reshape(-1, 1)\n",
    "\n",
    "show_distance_matrix(l2_dists, \"l2-distances\")\n",
    "show_distance_matrix(cos_dists, \"cosine-distances\")"
   ]
  },
  {
   "cell_type": "markdown",
   "metadata": {
    "collapsed": false,
    "jupyter": {
     "outputs_hidden": false
    }
   },
   "source": [
    "what is the smallest margin?"
   ]
  },
  {
   "cell_type": "code",
   "execution_count": 13,
   "metadata": {
    "collapsed": false,
    "jupyter": {
     "outputs_hidden": false
    },
    "pycharm": {
     "name": "#%%\n"
    }
   },
   "outputs": [
    {
     "name": "stdout",
     "output_type": "stream",
     "text": [
      "469.466552734375\n",
      "0.07100000232458115\n"
     ]
    }
   ],
   "source": [
    "print(get_min_non_diagonal_entry(l2_dists, device, REFERENCE_GRAPH_ORIGINAL_INDEX))\n",
    "print(get_min_non_diagonal_entry(cos_dists, device, REFERENCE_GRAPH_ORIGINAL_INDEX))"
   ]
  },
  {
   "cell_type": "markdown",
   "metadata": {
    "collapsed": false,
    "jupyter": {
     "outputs_hidden": false
    }
   },
   "source": [
    "Contrastive loss training"
   ]
  },
  {
   "cell_type": "markdown",
   "metadata": {
    "collapsed": false,
    "jupyter": {
     "outputs_hidden": false
    }
   },
   "source": [
    "Assemble graph pairs data"
   ]
  },
  {
   "cell_type": "code",
   "execution_count": 14,
   "metadata": {
    "pycharm": {
     "name": "#%%\n"
    }
   },
   "outputs": [],
   "source": [
    "train_samples_list = []\n",
    "reference_subgraph = subgraphs[REFERENCE_GRAPH_ORIGINAL_INDEX]\n",
    "negative_examples_subgraphs = subgraphs[:REFERENCE_GRAPH_ORIGINAL_INDEX] + subgraphs[REFERENCE_GRAPH_ORIGINAL_INDEX+1:]\n",
    "\n",
    "for subgraph in subgraphs:\n",
    "    if subgraph == reference_subgraph:\n",
    "        is_negative_example = False\n",
    "    else:\n",
    "        is_negative_example = True\n",
    "\n",
    "    G1_annotated = AnnotatedGraph(subgraph.G)\n",
    "    G2_annotated = AnnotatedGraph(reference_subgraph.G)\n",
    "    train_samples_list.append(Pair_Sample_Info(\n",
    "        subgraph=G1_annotated,\n",
    "        masked_graph=G2_annotated,\n",
    "        is_negative_sample=torch.tensor(is_negative_example)))\n",
    "\n",
    "val_samples_list = train_samples_list"
   ]
  },
  {
   "cell_type": "markdown",
   "metadata": {
    "collapsed": false,
    "jupyter": {
     "outputs_hidden": false
    }
   },
   "source": [
    "Define GNN model"
   ]
  },
  {
   "cell_type": "code",
   "execution_count": 15,
   "metadata": {
    "collapsed": false,
    "jupyter": {
     "outputs_hidden": false
    },
    "pycharm": {
     "name": "#%%\n"
    }
   },
   "outputs": [],
   "source": [
    "# input dim matches the node mask (w) shape\n",
    "input_dim = S2VGraphEmbeddingSimilarityMetricTrainer.get_model_expected_input_dim(train_samples_list[0])\n",
    "model_factory_func = lambda device: GraphCNN(num_layers=5, num_mlp_layers = 2, input_dim=input_dim, hidden_dim=64, output_dim=num_classes, final_dropout=0.5, learn_eps=False, graph_pooling_type=\"sum\", neighbor_pooling_type=\"sum\", device=device)"
   ]
  },
  {
   "cell_type": "markdown",
   "metadata": {
    "collapsed": false,
    "jupyter": {
     "outputs_hidden": false
    }
   },
   "source": [
    "Define graph metric to train, and the trainer"
   ]
  },
  {
   "cell_type": "code",
   "execution_count": 16,
   "metadata": {
    "collapsed": false,
    "jupyter": {
     "outputs_hidden": false
    },
    "pycharm": {
     "name": "#%%\n"
    }
   },
   "outputs": [],
   "source": [
    "solver_params = {\n",
    "    \"device\": device,\n",
    "    \"lr\": 1e-3, \"weight_decay\": 1e-3,\n",
    "    \"max_epochs\": 50,\n",
    "    \"cycle_patience\": 5, \"step_size_up\": 10, \"step_size_down\": 10,\n",
    "    \"loss_convergence_threshold\": None,\n",
    "    \"train_loss_convergence_threshold\": 1e-3,\n",
    "    \"successive_convergence_min_iterations_amount\": 5,\n",
    "    \"margin_loss_margin_value\": 5,\n",
    "    \"max_grad_norm\": 0.1,\n",
    "    \"k_update_plot\": 1,\n",
    "    \"train_monitoring_epochs_pace\": 5,\n",
    "    \"batch_size\": len(subgraphs),\n",
    "    \"num_workers\": 0,\n",
    "    \"is_use_model_compliation\": False, #Only supported for Pytorch > 2.0\n",
    "    \"model_checkpoint_epochs_pace\": 10,\n",
    "}\n",
    "\n",
    "problem_params = {\"input_dim\": input_dim}\n",
    "\n",
    "trainer, graph_metric_nn, model = init_embedding_net_and_trainer(model_factory_func, solver_params, problem_params)"
   ]
  },
  {
   "cell_type": "markdown",
   "metadata": {
    "collapsed": false,
    "jupyter": {
     "outputs_hidden": false
    }
   },
   "source": [
    "Train"
   ]
  },
  {
   "cell_type": "code",
   "execution_count": null,
   "metadata": {
    "collapsed": false,
    "jupyter": {
     "outputs_hidden": false
    },
    "pycharm": {
     "name": "#%%\n"
    }
   },
   "outputs": [],
   "source": [
    "# show_distances_heatmap(generate_s2v_graphs([graph.g for graph in graphs], device), model, device)"
   ]
  },
  {
   "cell_type": "code",
   "execution_count": null,
   "metadata": {
    "collapsed": false,
    "jupyter": {
     "outputs_hidden": false
    },
    "pycharm": {
     "name": "#%%\n"
    }
   },
   "outputs": [],
   "source": [
    "trainer.train(processes_device_ids=['cpu'], use_existing_data_loaders=False, train_samples_list=train_samples_list, val_samples_list=val_samples_list)"
   ]
  },
  {
   "cell_type": "code",
   "execution_count": null,
   "metadata": {
    "pycharm": {
     "name": "#%%\n"
    }
   },
   "outputs": [],
   "source": [
    "show_distances_heatmap(generate_s2v_graphs([graph.g for graph in graphs], device), model, device)"
   ]
  },
  {
   "cell_type": "markdown",
   "metadata": {
    "collapsed": false,
    "jupyter": {
     "outputs_hidden": false
    }
   },
   "source": [
    "Add ged=1 examples as positive examples"
   ]
  },
  {
   "cell_type": "code",
   "execution_count": null,
   "metadata": {
    "collapsed": false,
    "jupyter": {
     "outputs_hidden": false
    },
    "pycharm": {
     "name": "#%%\n"
    }
   },
   "outputs": [],
   "source": [
    "# generate subgraphs for which ged(subgraph, reference_subgraph)==1\n",
    "perturbed_graphs = list(generate_perturbed_graphs(reference_subgraph.G_sub))\n",
    "for perturbed_graph in perturbed_graphs:\n",
    "    is_negative_example = False\n",
    "\n",
    "    G1_annotated = AnnotatedGraph(perturbed_graph)\n",
    "    G2_annotated = AnnotatedGraph(reference_subgraph.G)\n",
    "    train_samples_list.append(Pair_Sample_Info(\n",
    "        subgraph=G1_annotated,\n",
    "        masked_graph=G2_annotated,\n",
    "        is_negative_sample=torch.tensor(is_negative_example)))"
   ]
  },
  {
   "cell_type": "code",
   "execution_count": null,
   "metadata": {
    "collapsed": false,
    "jupyter": {
     "outputs_hidden": false
    },
    "pycharm": {
     "name": "#%%\n"
    }
   },
   "outputs": [],
   "source": [
    "len(train_samples_list)"
   ]
  },
  {
   "cell_type": "code",
   "execution_count": null,
   "metadata": {
    "collapsed": false,
    "jupyter": {
     "outputs_hidden": false
    },
    "pycharm": {
     "name": "#%%\n"
    }
   },
   "outputs": [],
   "source": [
    "val_samples_list = train_samples_list\n",
    "model_factory_func = lambda device: GraphCNN(num_layers=5, num_mlp_layers = 2, input_dim=input_dim, hidden_dim=64, output_dim=num_classes, final_dropout=0.5, learn_eps=False, graph_pooling_type=\"sum\", neighbor_pooling_type=\"sum\", device=device)\n",
    "solver_params[\"batch_size\"] = len(train_samples_list)\n",
    "\n",
    "trainer, graph_metric_nn, model = init_embedding_net_and_trainer(model_factory_func, solver_params, problem_params)\n",
    "\n",
    "trainer.train(processes_device_ids=['cpu'], use_existing_data_loaders=False, train_samples_list=train_samples_list, val_samples_list=val_samples_list)"
   ]
  },
  {
   "cell_type": "code",
   "execution_count": null,
   "metadata": {
    "collapsed": false,
    "jupyter": {
     "outputs_hidden": false
    },
    "pycharm": {
     "name": "#%%\n"
    }
   },
   "outputs": [],
   "source": [
    "all_s2v_graphs = generate_s2v_graphs([subgraph.G for subgraph in subgraphs] + perturbed_graphs, device)\n",
    "# show_distances_heatmap(all_s2v_graphs, model, device)"
   ]
  },
  {
   "cell_type": "code",
   "execution_count": null,
   "metadata": {
    "collapsed": false,
    "jupyter": {
     "outputs_hidden": false
    },
    "pycharm": {
     "name": "#%%\n"
    }
   },
   "outputs": [],
   "source": [
    "show_distances_heatmap(all_s2v_graphs[:len(subgraphs)], model, device)"
   ]
  },
  {
   "cell_type": "code",
   "execution_count": null,
   "metadata": {
    "collapsed": false,
    "jupyter": {
     "outputs_hidden": false
    },
    "pycharm": {
     "name": "#%%\n"
    }
   },
   "outputs": [],
   "source": [
    "reference_s2v_graph = all_s2v_graphs[REFERENCE_GRAPH_ORIGINAL_INDEX]\n",
    "reference_graph_with_positive_examples = [reference_s2v_graph] + all_s2v_graphs[len(subgraphs):]\n",
    "reference_graph_with_negative_examples = [all_s2v_graphs[i] for i in range(len(all_s2v_graphs[:len(subgraphs)]))]"
   ]
  },
  {
   "cell_type": "code",
   "execution_count": null,
   "metadata": {
    "pycharm": {
     "name": "#%%\n"
    }
   },
   "outputs": [],
   "source": [
    "show_distances_heatmap(reference_graph_with_positive_examples, model, device, show_min_off_diagonal=False)"
   ]
  },
  {
   "cell_type": "code",
   "execution_count": null,
   "metadata": {
    "pycharm": {
     "name": "#%%\n"
    }
   },
   "outputs": [],
   "source": [
    "show_distances_heatmap(reference_graph_with_negative_examples, model, device, show_min_off_diagonal=True)"
   ]
  },
  {
   "cell_type": "code",
   "execution_count": null,
   "metadata": {
    "collapsed": false,
    "jupyter": {
     "outputs_hidden": false
    },
    "pycharm": {
     "name": "#%%\n"
    }
   },
   "outputs": [],
   "source": [
    "_ = graph_metric_nn.eval()"
   ]
  },
  {
   "cell_type": "code",
   "execution_count": null,
   "metadata": {
    "collapsed": false,
    "jupyter": {
     "outputs_hidden": false
    },
    "pycharm": {
     "name": "#%%\n"
    }
   },
   "outputs": [],
   "source": [
    "positive_distances = []\n",
    "for positive_example_second_graph in reference_graph_with_positive_examples:\n",
    "    distance = graph_metric_nn.forward([(reference_s2v_graph, positive_example_second_graph)]).item()\n",
    "    positive_distances.append(distance)\n",
    "    if distance > solver_params['margin_loss_margin_value']:\n",
    "        print(f\"positive loss term not zero, as distance for this positive example pair is {distance}\")\n",
    "\n",
    "negative_distances = []\n",
    "for negative_example_second_graph in reference_graph_with_negative_examples:\n",
    "    if negative_example_second_graph == reference_s2v_graph:\n",
    "        continue #ignore the same graph with itself\n",
    "    distance = graph_metric_nn.forward([(reference_s2v_graph, negative_example_second_graph)]).item()\n",
    "    negative_distances.append(distance)\n",
    "    if distance < solver_params['margin_loss_margin_value']:\n",
    "        print(f\"negative loss term not zero, as distance for this negative example pair is {distance}\")"
   ]
  },
  {
   "cell_type": "code",
   "execution_count": null,
   "metadata": {
    "collapsed": false,
    "jupyter": {
     "outputs_hidden": false
    },
    "pycharm": {
     "name": "#%%\n"
    }
   },
   "outputs": [],
   "source": [
    "max(positive_distances)"
   ]
  },
  {
   "cell_type": "code",
   "execution_count": null,
   "metadata": {
    "collapsed": false,
    "jupyter": {
     "outputs_hidden": false
    },
    "pycharm": {
     "name": "#%%\n"
    }
   },
   "outputs": [],
   "source": [
    "min(negative_distances)"
   ]
  },
  {
   "cell_type": "markdown",
   "metadata": {
    "collapsed": false,
    "jupyter": {
     "outputs_hidden": false
    }
   },
   "source": [
    "k-subgraphs experiment"
   ]
  },
  {
   "cell_type": "code",
   "execution_count": null,
   "metadata": {
    "collapsed": false,
    "jupyter": {
     "outputs_hidden": false
    },
    "pycharm": {
     "name": "#%%\n"
    }
   },
   "outputs": [],
   "source": [
    "K = 11\n",
    "full_graph = reference_subgraph.G\n",
    "\n",
    "subgraphs_iterator = itertools.combinations(full_graph, K)\n",
    "k_subgraphs = [full_graph.subgraph(s) for s in subgraphs_iterator]\n",
    "k_subgraph_annotated_graphs = [AnnotatedGraph(g, label=i) for i, g in enumerate(k_subgraphs)]\n",
    "\n",
    "train_samples_list = []\n",
    "isomorphic_pairs = []\n",
    "train_sample_indices_tuple_list = []"
   ]
  },
  {
   "cell_type": "code",
   "execution_count": null,
   "metadata": {
    "collapsed": false,
    "jupyter": {
     "outputs_hidden": false
    },
    "pycharm": {
     "name": "#%%\n"
    }
   },
   "outputs": [],
   "source": [
    "for subgraph_counter1, SG_annotated_1 in enumerate(k_subgraph_annotated_graphs):\n",
    "    for subgraph_counter2 in range(subgraph_counter1+1, len(k_subgraph_annotated_graphs)):\n",
    "        SG_annotated_2 = k_subgraph_annotated_graphs[subgraph_counter2]\n",
    "        train_samples_list.append(compare_graphs_and_generate_pair_example(SG_annotated_1, SG_annotated_2, isomorphic_pairs))\n",
    "        train_sample_indices_tuple_list.append((subgraph_counter1, subgraph_counter2))\n",
    "        # if train_samples_list[-1].is_negative_sample == False:\n",
    "        #     print(f\"{subgraph_counter1} vs {subgraph_counter2}\")"
   ]
  },
  {
   "cell_type": "code",
   "execution_count": null,
   "metadata": {
    "pycharm": {
     "name": "#%%\n"
    }
   },
   "outputs": [],
   "source": [
    "used_train_samples_list = train_samples_list[:10_000]"
   ]
  },
  {
   "cell_type": "code",
   "execution_count": null,
   "metadata": {
    "pycharm": {
     "name": "#%%\n"
    }
   },
   "outputs": [],
   "source": [
    "model_factory_func = lambda device: GraphCNN(num_layers=5, num_mlp_layers = 2, input_dim=input_dim, hidden_dim=128, output_dim=num_classes, final_dropout=0.5, learn_eps=False, graph_pooling_type=\"sum\", neighbor_pooling_type=\"sum\", device=device)\n",
    "solver_params[\"batch_size\"] = 512\n",
    "solver_params[\"k_update_plot\"] = 1\n",
    "solver_params[\"lr\"] = 1e-1\n",
    "solver_params[\"max_epochs\"] = 50\n",
    "trainer, graph_metric_nn, model = init_embedding_net_and_trainer(model_factory_func, solver_params, problem_params, graph_metric_nn_checkpoint_path=None)\n",
    "\n",
    "trainer.train(processes_device_ids=[0], use_existing_data_loaders=False, train_samples_list=used_train_samples_list, val_samples_list=[])"
   ]
  },
  {
   "cell_type": "code",
   "execution_count": null,
   "metadata": {
    "pycharm": {
     "name": "#%%\n"
    }
   },
   "outputs": [],
   "source": [
    "trainer, graph_metric_nn, model = init_embedding_net_and_trainer(model_factory_func, solver_params, problem_params, graph_metric_nn_checkpoint_path=\"./mp/1704585490.4369323/best_model_state_dict.pt\")\n",
    "_ = graph_metric_nn.eval()"
   ]
  },
  {
   "cell_type": "code",
   "execution_count": null,
   "metadata": {
    "pycharm": {
     "name": "#%%\n"
    }
   },
   "outputs": [],
   "source": [
    "train_positive_distances, train_negative_distances = get_examples_distances(trainer, graph_metric_nn, used_train_samples_list)\n",
    "plot_histogram(train_positive_distances, \"positive pair distances\", min_range=0, max_range=20)\n",
    "plot_histogram(train_negative_distances, \"negative pair distances\", min_range=0, max_range=20)\n",
    "calc_margin_loss(torch.tensor(train_positive_distances+train_negative_distances), torch.cat((torch.ones(len(train_positive_distances)), torch.zeros(len(train_negative_distances)))), margin = solver_params['margin_loss_margin_value'])"
   ]
  },
  {
   "cell_type": "code",
   "execution_count": null,
   "metadata": {
    "collapsed": false,
    "jupyter": {
     "outputs_hidden": false
    },
    "pycharm": {
     "name": "#%%\n"
    }
   },
   "outputs": [],
   "source": [
    "# ged_pairs_dump_base_path = f\".{os.sep}ged_pairs\n",
    "\n",
    "# loaded_ged_examples = []\n",
    "# for i, doc_path in enumerate(pathlib.Path(ged_pairs_dump_base_path).rglob(\"*.p*\")):\n",
    "#     k_subgraph_ged_pairs_list = pickle.load(open(doc_path, 'rb'))\n",
    "#     loaded_ged_examples += k_subgraph_ged_pairs_list\n",
    "#     print(i)\n",
    "\n",
    "# if not os.path.exists(ged_pairs_dump_base_path):\n",
    "#     os.makedirs(ged_pairs_dump_base_path)\n",
    "#\n",
    "# # k_subgraph_to_perturbed_graphs_map = {}\n",
    "# def generate_ged_paris(subgraph_counter1):\n",
    "#     train_samples_list = []\n",
    "#     SG1 = k_subgraph_annotated_graphs[subgraph_counter1]\n",
    "#     ged1_perturbed_graphs = list(generate_perturbed_graphs(SG1.g))\n",
    "#     for ged1_perturbed_graph in ged1_perturbed_graphs:\n",
    "#         # positive example\n",
    "#         train_samples_list.append(generate_pair_example(SG1, AnnotatedGraph(ged1_perturbed_graph), is_negative_example = False))\n",
    "#\n",
    "#         ged2_perturbed_graphs = list(generate_perturbed_graphs(ged1_perturbed_graph))\n",
    "#         for ged2_perturbed_graph in ged2_perturbed_graphs:\n",
    "#             # could be positive or negative example\n",
    "#             train_samples_list.append(compare_graphs_and_generate_pair_example(k_subgraph_annotated_graphs[subgraph_counter1], AnnotatedGraph(ged2_perturbed_graph)))\n",
    "#\n",
    "#     path = os.path.join(ged_pairs_dump_base_path, f\"subgraph_{subgraph_counter1}.p\")\n",
    "#     with open(path, 'wb') as f:\n",
    "#         pickle.dump(train_samples_list, f)\n",
    "#     return train_samples_list\n",
    "#\n",
    "# total_tasks = len(k_subgraphs)\n",
    "# with tqdm_joblib(tqdm(desc=\"My calculation\", total=total_tasks)) as progress_bar:\n",
    "#     #Parallel(n_jobs=16)(delayed(long_task)() for i in range(10))\n",
    "#\n",
    "#     ged_examples = Parallel(n_jobs=int(cpu_count()), prefer='processes')(\n",
    "#         delayed(generate_ged_paris)(subgraph_counter1=subgraph_counter1)\n",
    "#         for subgraph_counter1 in range(total_tasks)\n",
    "#     )\n",
    "#\n",
    "# # generate subgraphs for which GED==1\n",
    "# for subgraph_counter1, SG1 in enumerate(k_subgraphs):\n",
    "#     print(subgraph_counter1)\n",
    "#     ged1_perturbed_graphs = list(generate_perturbed_graphs(SG1))\n",
    "#     for ged1_perturbed_graph in ged1_perturbed_graphs:\n",
    "#         # positive example\n",
    "#         train_samples_list.append(generate_pair_example(SG1, ged1_perturbed_graph, is_negative_example = False))\n",
    "#         #\n",
    "#         # ged2_perturbed_graphs = list(generate_perturbed_graphs(ged1_perturbed_graph))\n",
    "#         # for ged2_perturbed_graph in ged2_perturbed_graphs:\n",
    "#         #     # could be positive or negative example\n",
    "#         #     train_samples_list.append(compare_graphs_and_generate_pair_example(k_subgraph_annotated_graphs[subgraph_counter1], AnnotatedGraph(ged2_perturbed_graph)))\n",
    "#     # k_subgraph_to_perturbed_graphs_map[SG1] = perturbed_graphs\n",
    "\n",
    "#\n",
    "#\n",
    "# # generate all pairs examples\n",
    "# for SG1, SG1_perturbed_graphs in k_subgraph_to_perturbed_graphs_map.items():\n",
    "#     for SG2, SG2_perturbed_graphs in k_subgraph_to_perturbed_graphs_map.items():\n",
    "#\n",
    "#         if SG1 == SG2:\n",
    "#             continue # trivial pairs, or pairs already considered\n",
    "#\n",
    "#         for SG2_perturbed_graph in SG2_perturbed_graphs:\n",
    "#             train_samples_list.append(compare_graphs_and_generate_pair_example(SG1, SG2_perturbed_graph))\n",
    "#\n",
    "#         for SG1_perturbed_graph in SG1_perturbed_graphs:\n",
    "#             train_samples_list.append(compare_graphs_and_generate_pair_example(SG1_perturbed_graph, SG2))"
   ]
  },
  {
   "cell_type": "code",
   "execution_count": null,
   "metadata": {
    "collapsed": false,
    "jupyter": {
     "outputs_hidden": false
    },
    "pycharm": {
     "name": "#%%\n"
    }
   },
   "outputs": [],
   "source": [
    "random_k_subgraphs = generate_k_subgraph(reference_subgraph, k=9)"
   ]
  },
  {
   "cell_type": "code",
   "execution_count": null,
   "metadata": {},
   "outputs": [],
   "source": [
    "len(random_k_subgraphs)"
   ]
  },
  {
   "cell_type": "code",
   "execution_count": null,
   "metadata": {
    "collapsed": false,
    "jupyter": {
     "outputs_hidden": false
    },
    "pycharm": {
     "name": "#%%\n"
    }
   },
   "outputs": [],
   "source": [
    "POSITIVE_EXAMPLES_GED_DIST_pairs_n = 20 #2000\n",
    "POSITIVE_EXAMPLES_GED_DIST = 1\n",
    "POSITIVE_EXAMPLES_k_subgraphs = random_k_subgraphs\n",
    "\n",
    "NEGATIVE_EXAMPLES_GED_DIST_pairs_n = 20\n",
    "NEGATIVE_EXAMPLES_GED_DIST = 4 #4\n",
    "NEGATIVE_EXAMPLES_k_subgraphs = random_k_subgraphs#[:20]\n",
    "\n",
    "ged_examples1, ged_examples2 = generate_positive_and_negative_ged_pairs(POSITIVE_EXAMPLES_k_subgraphs, POSITIVE_EXAMPLES_GED_DIST, POSITIVE_EXAMPLES_GED_DIST_pairs_n, NEGATIVE_EXAMPLES_k_subgraphs, NEGATIVE_EXAMPLES_GED_DIST, NEGATIVE_EXAMPLES_GED_DIST_pairs_n)\n",
    "\n",
    "ged_examples = ged_examples1 + ged_examples2\n",
    "random.shuffle(ged_examples)\n",
    "\n",
    "train_ratio = 0.7\n",
    "train_ged_examples_amount = int(len(ged_examples) * train_ratio)\n",
    "train_ged_examples = ged_examples[:train_ged_examples_amount]\n",
    "eval_ged_examples = ged_examples[train_ged_examples_amount:]"
   ]
  },
  {
   "cell_type": "code",
   "execution_count": null,
   "metadata": {
    "collapsed": false,
    "jupyter": {
     "outputs_hidden": false
    },
    "pycharm": {
     "name": "#%%\n"
    }
   },
   "outputs": [],
   "source": [
    "len(train_ged_examples)"
   ]
  },
  {
   "cell_type": "code",
   "execution_count": null,
   "metadata": {},
   "outputs": [],
   "source": [
    "len(ged_examples2)"
   ]
  },
  {
   "cell_type": "code",
   "execution_count": null,
   "metadata": {
    "collapsed": false,
    "jupyter": {
     "outputs_hidden": false
    },
    "pycharm": {
     "name": "#%%\n"
    }
   },
   "outputs": [],
   "source": [
    "len(ged_examples1)"
   ]
  },
  {
   "cell_type": "code",
   "execution_count": null,
   "metadata": {
    "collapsed": false,
    "jupyter": {
     "outputs_hidden": false
    },
    "pycharm": {
     "name": "#%%\n"
    }
   },
   "outputs": [],
   "source": [
    "for k_subgraph in k_subgraphs:\n",
    "    if k_subgraphs[0].nodes == k_subgraph.nodes:\n",
    "        print(\"yes\")"
   ]
  },
  {
   "cell_type": "code",
   "execution_count": null,
   "metadata": {
    "collapsed": false,
    "jupyter": {
     "outputs_hidden": false
    },
    "pycharm": {
     "name": "#%%\n"
    }
   },
   "outputs": [],
   "source": [
    "len(k_subgraphs)"
   ]
  },
  {
   "cell_type": "code",
   "execution_count": null,
   "metadata": {
    "collapsed": false,
    "jupyter": {
     "outputs_hidden": false
    },
    "pycharm": {
     "name": "#%%\n"
    }
   },
   "outputs": [],
   "source": [
    "len(train_ged_examples)"
   ]
  },
  {
   "cell_type": "markdown",
   "metadata": {},
   "source": [
    "check 1-WL distance"
   ]
  },
  {
   "cell_type": "code",
   "execution_count": null,
   "metadata": {},
   "outputs": [],
   "source": [
    "# optimized single call for WL distance calculation\n",
    "### NOTE: Wl dist is not stable (depends which batch of graph you applied it with) ###\n",
    "# wl_dist_matrix = get_graph_wl_distances(k_subgraphs, node_label=False)\n",
    "\n",
    "# negative_pairs_wl_distances = []\n",
    "# positive_pairs_wl_distances = []\n",
    "#\n",
    "# positive_pairs_index_to_dist_map = {}\n",
    "# negative_pairs_index_to_dist_map = {}\n",
    "#\n",
    "# for i, train_sample in enumerate(train_samples_list):\n",
    "#     is_negative_sample = train_sample.is_negative_sample\n",
    "#     graph1 = train_sample.subgraph\n",
    "#     graph2 = train_sample.masked_graph\n",
    "#\n",
    "#     # s2v_graphs = generate_s2v_graphs([graph1.g, graph2.g], device, print_stats=False)\n",
    "#\n",
    "#     # distance = graph_metric_nn.forward([(s2v_graphs[0], s2v_graphs[1])]).item()\n",
    "#\n",
    "#     # wl_dist = get_graph_wl_distances([graph1.g, graph2.g], node_label=False)[0][1]\n",
    "#\n",
    "#     graph1_index, graph2_index = train_sample_indices_tuple_list[i]\n",
    "#     wl_dist = wl_dist_matrix[graph1_index][graph2_index]\n",
    "#     wl_dist = round(wl_dist, 6)\n",
    "#\n",
    "#     if is_negative_sample:\n",
    "#         negative_pairs_wl_distances.append(wl_dist)\n",
    "#         negative_pairs_index_to_dist_map[i] = wl_dist\n",
    "#     else:\n",
    "#         positive_pairs_wl_distances.append(wl_dist)\n",
    "#         positive_pairs_index_to_dist_map[i] = wl_dist"
   ]
  },
  {
   "cell_type": "code",
   "execution_count": null,
   "metadata": {},
   "outputs": [],
   "source": [
    "# _, _ = show_wl_dist_histograms(ged_1_examples, ged_2_examples, max_examples_amount = 1_000)"
   ]
  },
  {
   "cell_type": "code",
   "execution_count": null,
   "metadata": {},
   "outputs": [],
   "source": [
    "# margin = 0.001\n",
    "# calc_margin_loss(torch.tensor(positive_pairs_wl_distances+negative_pairs_wl_distances), torch.cat((torch.ones(len(positive_pairs_wl_distances)), torch.zeros(len(negative_pairs_wl_distances)))), margin)"
   ]
  },
  {
   "cell_type": "markdown",
   "metadata": {},
   "source": [
    "Fit GNN on k subgraph GED pairs"
   ]
  },
  {
   "cell_type": "code",
   "execution_count": null,
   "metadata": {
    "collapsed": false,
    "jupyter": {
     "outputs_hidden": false
    },
    "pycharm": {
     "name": "#%%\n"
    }
   },
   "outputs": [],
   "source": [
    "# disable debugging overhead operations\n",
    "torch.autograd.set_detect_anomaly(mode=False)"
   ]
  },
  {
   "cell_type": "code",
   "execution_count": null,
   "metadata": {},
   "outputs": [],
   "source": [
    "solver_params['margin_loss_margin_value'] = 0.5 #0.25 #0.01"
   ]
  },
  {
   "cell_type": "code",
   "execution_count": null,
   "metadata": {},
   "outputs": [],
   "source": [
    "# used_train_samples_amount = 50_000\n",
    "used_train_samples_list = train_ged_examples#[:used_train_samples_amount] #Needed due to performance issues"
   ]
  },
  {
   "cell_type": "code",
   "execution_count": null,
   "metadata": {
    "collapsed": false,
    "jupyter": {
     "outputs_hidden": false
    },
    "pycharm": {
     "name": "#%%\n"
    }
   },
   "outputs": [],
   "source": [
    "len(used_train_samples_list)"
   ]
  },
  {
   "cell_type": "code",
   "execution_count": null,
   "metadata": {},
   "outputs": [],
   "source": [
    "last_checkpoint_model_path = None\n",
    "\n",
    "# val_samples_list = used_train_samples_list\n",
    "model_factory_func = lambda device: GraphCNN(num_layers=5, num_mlp_layers = 2, input_dim=input_dim, hidden_dim=128, output_dim=num_classes, final_dropout=0.5, learn_eps=False, graph_pooling_type=\"sum\", neighbor_pooling_type=\"sum\", device=device)\n",
    "solver_params[\"batch_size\"] = 512 * 8 #32 #2048 #1024 #512\n",
    "solver_params[\"k_update_plot\"] = 1\n",
    "solver_params[\"lr\"] = 1e-1\n",
    "solver_params[\"max_epochs\"] = 200 #480--\n",
    "trainer, graph_metric_nn, model = init_embedding_net_and_trainer(model_factory_func, solver_params, problem_params, graph_metric_nn_checkpoint_path=last_checkpoint_model_path)\n",
    "\n",
    "# trainer.set_existing_data_loader_paths(\n",
    "#     ['./dataloaders/1702148493.0283618.p',\n",
    "#  './dataloaders/1702148497.9922142.p',\n",
    "#  './dataloaders/1702148502.9499629.p',\n",
    "#  './dataloaders/1702148511.1819935.p'],\n",
    "# []\n",
    "# )"
   ]
  },
  {
   "cell_type": "code",
   "execution_count": null,
   "metadata": {
    "scrolled": true
   },
   "outputs": [],
   "source": [
    "trainer.train(processes_device_ids=processes_device_ids, use_existing_data_loaders=False, train_samples_list=used_train_samples_list, val_samples_list=[])"
   ]
  },
  {
   "cell_type": "code",
   "execution_count": null,
   "metadata": {},
   "outputs": [],
   "source": [
    "# GED2 -> \"./mp/1703271648.8009052/best_model_state_dict.pt\", not seperable well\n",
    "# GED4 - > \"\"./mp/1703279923.1549501/best_model_state_dict.pt\", seperable well (not perfect but close)"
   ]
  },
  {
   "cell_type": "code",
   "execution_count": null,
   "metadata": {},
   "outputs": [],
   "source": [
    "trainer, graph_metric_nn, model = init_embedding_net_and_trainer(model_factory_func, solver_params, problem_params, graph_metric_nn_checkpoint_path=\"./mp/1703411975.73806/best_model_state_dict.pt\")\n",
    "_ = graph_metric_nn.eval()"
   ]
  },
  {
   "cell_type": "code",
   "execution_count": null,
   "metadata": {},
   "outputs": [],
   "source": [
    "train_positive_distances, train_negative_distances = get_examples_distances(trainer, graph_metric_nn, used_train_samples_list)"
   ]
  },
  {
   "cell_type": "code",
   "execution_count": null,
   "metadata": {},
   "outputs": [],
   "source": [
    "len(train_negative_distances) / len(train_positive_distances)"
   ]
  },
  {
   "cell_type": "code",
   "execution_count": null,
   "metadata": {},
   "outputs": [],
   "source": [
    "plot_histogram(train_positive_distances, \"train positive examples\", min_range=0, max_range=1)"
   ]
  },
  {
   "cell_type": "code",
   "execution_count": null,
   "metadata": {
    "scrolled": true
   },
   "outputs": [],
   "source": [
    "plot_histogram(train_negative_distances, \"train negative examples\", min_range=0, max_range=10)"
   ]
  },
  {
   "cell_type": "code",
   "execution_count": null,
   "metadata": {},
   "outputs": [],
   "source": [
    "calc_margin_loss(torch.tensor(train_positive_distances+train_negative_distances), torch.cat((torch.ones(len(train_positive_distances)), torch.zeros(len(train_negative_distances)))), margin = solver_params['margin_loss_margin_value'])"
   ]
  },
  {
   "cell_type": "markdown",
   "metadata": {},
   "source": [
    "Train again without rebuilding data loaders, and without the val_loader"
   ]
  },
  {
   "cell_type": "code",
   "execution_count": null,
   "metadata": {},
   "outputs": [],
   "source": [
    "# model_factory_func = lambda device: GraphCNN(num_layers=5, num_mlp_layers = 2, input_dim=input_dim, hidden_dim=64, output_dim=num_classes, final_dropout=0.5, learn_eps=False, graph_pooling_type=\"sum\", neighbor_pooling_type=\"sum\", device=device)\n",
    "# new_trainer, graph_metric_nn, model = init_embedding_net_and_trainer(model_factory_func, solver_params, problem_params)\n",
    "\n",
    "# new_trainer.previous_train_loader_paths = trainer.previous_train_loader_paths\n",
    "# new_trainer.previous_val_loader_paths = [None for device_id in processes_device_ids] #trainer.previous_val_loader_paths\n",
    "# new_trainer.train(processes_device_ids=processes_device_ids, use_existing_data_loaders=True)"
   ]
  },
  {
   "cell_type": "code",
   "execution_count": null,
   "metadata": {},
   "outputs": [],
   "source": [
    "_, _ = calc_performance_metrics(graph_metric_nn, used_train_samples_list, train_positive_distances, train_negative_distances, solver_params, device)"
   ]
  },
  {
   "cell_type": "markdown",
   "metadata": {},
   "source": [
    "Generalization error"
   ]
  },
  {
   "cell_type": "code",
   "execution_count": null,
   "metadata": {},
   "outputs": [],
   "source": [
    "eval_positive_distances, eval_negative_distances = get_examples_distances(trainer, graph_metric_nn, eval_ged_examples)"
   ]
  },
  {
   "cell_type": "code",
   "execution_count": null,
   "metadata": {},
   "outputs": [],
   "source": [
    "plot_histogram(eval_positive_distances, \"eval positive examples\", max_range=10)"
   ]
  },
  {
   "cell_type": "code",
   "execution_count": null,
   "metadata": {},
   "outputs": [],
   "source": [
    "plot_histogram(eval_negative_distances, \"eval negative examples\", max_range=10)"
   ]
  },
  {
   "cell_type": "code",
   "execution_count": null,
   "metadata": {},
   "outputs": [],
   "source": [
    "calc_margin_loss(torch.tensor(eval_positive_distances+eval_negative_distances), torch.cat((torch.ones(len(eval_positive_distances)), torch.zeros(len(eval_negative_distances)))), margin = solver_params['margin_loss_margin_value'])"
   ]
  },
  {
   "cell_type": "code",
   "execution_count": null,
   "metadata": {},
   "outputs": [],
   "source": [
    "_, _ = calc_performance_metrics(graph_metric_nn, eval_ged_examples, eval_positive_distances, eval_negative_distances, solver_params, device)"
   ]
  },
  {
   "cell_type": "markdown",
   "metadata": {
    "collapsed": false,
    "jupyter": {
     "outputs_hidden": false
    }
   },
   "source": [
    "Execution time profiling"
   ]
  },
  {
   "cell_type": "code",
   "execution_count": null,
   "metadata": {
    "collapsed": false,
    "jupyter": {
     "outputs_hidden": false
    },
    "pycharm": {
     "name": "#%%\n"
    }
   },
   "outputs": [],
   "source": [
    "# from cProfile import Profile\n",
    "# from pstats import SortKey, Stats\n",
    "\n",
    "# with Profile() as profile:\n",
    "#     new_trainer.train(processes_device_ids=processes_device_ids, use_existing_data_loaders=True)\n",
    "#     (\n",
    "#     Stats(profile)\n",
    "#         .strip_dirs()\n",
    "#         .sort_stats(SortKey.CUMULATIVE)\n",
    "#         .print_stats()\n",
    "#     )"
   ]
  },
  {
   "cell_type": "markdown",
   "metadata": {},
   "source": [
    "## save used_train_samples_list"
   ]
  },
  {
   "cell_type": "code",
   "execution_count": null,
   "metadata": {},
   "outputs": [],
   "source": [
    "ref_graphs_with_negative_eaxmples = set([annotated_graph.label for annotated_graph in NEGATIVE_EXAMPLES_k_subgraphs])\n",
    "ref_graphs_with_positive_eaxmples = set([annotated_graph.label for annotated_graph in POSITIVE_EXAMPLES_k_subgraphs])\n",
    "reg_graphs_with_negative_and_positive_examples = ref_graphs_with_negative_eaxmples.intersection(ref_graphs_with_positive_eaxmples)\n",
    "\n",
    "reference_graph_to_pairs_for_training_list_map = {}\n",
    "\n",
    "for pair in used_train_samples_list:\n",
    "    ref_graph = pair.subgraph\n",
    "    ref_graph_label = pair.subgraph.label\n",
    "\n",
    "    if ref_graph_label not in reg_graphs_with_negative_and_positive_examples:\n",
    "        continue\n",
    "    \n",
    "    paired_graph = pair.masked_graph\n",
    "\n",
    "    lst = []\n",
    "    if ref_graph_label in reference_graph_to_pairs_for_training_list_map:\n",
    "        lst = reference_graph_to_pairs_for_training_list_map[ref_graph_label]\n",
    "    lst.append(pair)\n",
    "    reference_graph_to_pairs_for_training_list_map[ref_graph_label] = lst"
   ]
  },
  {
   "cell_type": "code",
   "execution_count": null,
   "metadata": {},
   "outputs": [],
   "source": [
    "dump_base_path = f\".{os.sep}ged_train_subset\"\n",
    "if not os.path.exists(dump_base_path):\n",
    "    os.makedirs(dump_base_path)\n",
    "\n",
    "dump_path = os.path.join(dump_base_path, f\"{str(time.time())}.p\")\n",
    "with open(dump_path, 'wb') as f:\n",
    "    pickle.dump(reference_graph_to_pairs_for_training_list_map, f)"
   ]
  },
  {
   "cell_type": "code",
   "execution_count": null,
   "metadata": {},
   "outputs": [],
   "source": [
    "p_ctr = 0\n",
    "n_ctr = 0\n",
    "for k, v in reference_graph_to_pairs_for_training_list_map.items():\n",
    "    for example in v:\n",
    "        if example.is_negative_sample:\n",
    "            n_ctr += 1\n",
    "        else:\n",
    "            p_ctr += 1"
   ]
  },
  {
   "cell_type": "code",
   "execution_count": null,
   "metadata": {},
   "outputs": [],
   "source": [
    "p_ctr"
   ]
  },
  {
   "cell_type": "code",
   "execution_count": null,
   "metadata": {},
   "outputs": [],
   "source": [
    "n_ctr"
   ]
  },
  {
   "cell_type": "markdown",
   "metadata": {},
   "source": [
    "Capacity test"
   ]
  },
  {
   "cell_type": "code",
   "execution_count": null,
   "metadata": {},
   "outputs": [],
   "source": [
    "hidden_dim = 16\n",
    "num_layers = 5\n",
    "num_mlp_layers = 2\n",
    "model_factory_func = lambda device: GraphCNN(num_layers=num_layers, num_mlp_layers = num_mlp_layers, input_dim=input_dim, hidden_dim=hidden_dim, output_dim=1, final_dropout=0.5, learn_eps=False, graph_pooling_type=\"sum\", neighbor_pooling_type=\"sum\", device=device)\n",
    "solver_params[\"batch_size\"] = 512 * 8\n",
    "solver_params[\"k_update_plot\"] = 10\n",
    "solver_params[\"lr\"] = 1e-1\n",
    "solver_params[\"max_epochs\"] = 200\n",
    "current_trainer, graph_metric_nn, model = init_embedding_net_and_trainer(model_factory_func, solver_params, problem_params, graph_metric_nn_checkpoint_path=\"./mp/1705969912.0095499/best_model_state_dict.pt\")"
   ]
  },
  {
   "cell_type": "code",
   "execution_count": null,
   "metadata": {},
   "outputs": [],
   "source": [
    "trainer = None\n",
    "hid_dim_to_val_loss_map = {}\n",
    "for hid_dim in [16, 32, 64, 128, 256, 512, 1024, 2048]:\n",
    "    trainer, graph_metric_nn, best_val_loss = train_model_with_hyperparams(used_train_samples_list, solver_params, problem_params, processes_device_ids, hidden_dim=hid_dim, trainer=trainer)\n",
    "    hid_dim_to_val_loss_map[hid_dim] = best_val_loss\n",
    "    print(f\"{hid_dim}: {best_val_loss}\")"
   ]
  },
  {
   "cell_type": "code",
   "execution_count": null,
   "metadata": {},
   "outputs": [],
   "source": [
    "print(hid_dim_to_val_loss_map)\n",
    "plot_map(hid_dim_to_val_loss_map, \"hidden_dim\", \"val loss\", \"model performance vs model capacity\")"
   ]
  },
  {
   "cell_type": "markdown",
   "metadata": {},
   "source": [
    "Expressivity test"
   ]
  },
  {
   "cell_type": "code",
   "execution_count": null,
   "metadata": {},
   "outputs": [],
   "source": [
    "positive_GED_k_to_negative_GED_k_to_val_loss_map = {}\n",
    "pairs_n = 800\n",
    "positive_examples_k_subgraphs = random_k_subgraphs[:20]\n",
    "ged_positive_examples_cache_map = {}\n",
    "ged_negative_examples_cache_map = {}\n",
    "\n",
    "for positive_GED_k in [2, 3, 4, 5, 6, 7]:\n",
    "    negative_GED_k_to_val_loss_map = {}\n",
    "    positive_GED_k_to_negative_GED_k_to_val_loss_map[positive_GED_k] = negative_GED_k_to_val_loss_map\n",
    "\n",
    "    # prepare positive pairs dataset\n",
    "    with tqdm_joblib(tqdm(desc=\"My calculation\", total=len(positive_examples_k_subgraphs))) as progress_bar:\n",
    "        ged_positive_examples = Parallel(n_jobs=int(cpu_count()), prefer='processes')(\n",
    "            delayed(generate_random_ged_paris)(annotated_subgraph=annotated_subgraph, ged_dist=positive_GED_k, pairs_n=pairs_n, is_negative_example=False, force_exactly_pairs_n=False)\n",
    "            for annotated_subgraph in positive_examples_k_subgraphs\n",
    "        )\n",
    "    ged_positive_examples = [elem for lst in ged_positive_examples for elem in lst]\n",
    "    ged_positive_examples_cache_map[positive_GED_k] = ged_positive_examples\n",
    "    print(f\"#pos examples = {len(ged_positive_examples)}\")\n",
    "\n",
    "    for negative_GED_k in range(positive_GED_k + 1, 9):\n",
    "        print(f\"expressivity test for positive_GED_k={positive_GED_k} & negative_GED_k={negative_GED_k}\")\n",
    "\n",
    "        if negative_GED_k in ged_negative_examples_cache_map:\n",
    "            ged_negative_examples = ged_negative_examples_cache_map[negative_GED_k]\n",
    "        else:\n",
    "\n",
    "            # prepare negative pairs dataset\n",
    "            with tqdm_joblib(tqdm(desc=\"My calculation\", total=len(NEGATIVE_EXAMPLES_k_subgraphs))) as progress_bar:\n",
    "                ged_negative_examples = Parallel(n_jobs=int(cpu_count()), prefer='processes')(\n",
    "                    delayed(generate_random_ged_paris)(annotated_subgraph=annotated_subgraph, ged_dist=negative_GED_k, pairs_n=pairs_n, is_negative_example=True, force_exactly_pairs_n=False)\n",
    "                    for annotated_subgraph in NEGATIVE_EXAMPLES_k_subgraphs\n",
    "                )\n",
    "\n",
    "            ged_negative_examples = [elem for lst in ged_negative_examples for elem in lst]\n",
    "            ged_negative_examples_cache_map[negative_GED_k] = ged_negative_examples\n",
    "        print(f\"#neg examples = {len(ged_negative_examples)}\")\n",
    "\n",
    "        # combine examples to one dataset\n",
    "        ged_examples = ged_positive_examples + ged_negative_examples\n",
    "        random.shuffle(ged_examples)\n",
    "\n",
    "        train_ratio = 0.7\n",
    "        train_ged_examples_amount = int(len(ged_examples) * train_ratio)\n",
    "        train_ged_examples = ged_examples[:train_ged_examples_amount]\n",
    "        eval_ged_examples = ged_examples[train_ged_examples_amount:]\n",
    "\n",
    "        print(f\"#train set examples = {len(train_ged_examples)}\")\n",
    "\n",
    "        # train\n",
    "        trainer, graph_metric_nn, best_val_loss = train_model_with_hyperparams(train_ged_examples, solver_params, problem_params, processes_device_ids, hidden_dim=64, trainer=None)\n",
    "        negative_GED_k_to_val_loss_map[negative_GED_k] = best_val_loss\n",
    "        print(f\"negative K={negative_GED_k}: val_loss={best_val_loss}\")\n",
    "\n",
    "        # more performance metrics\n",
    "        _ = graph_metric_nn.eval()\n",
    "\n",
    "        train_positive_distances, train_negative_distances = get_examples_distances(trainer, graph_metric_nn, train_ged_examples)\n",
    "        _, _ = calc_performance_metrics(graph_metric_nn, train_ged_examples, train_positive_distances, train_negative_distances, solver_params, device)\n",
    "\n",
    "        eval_positive_distances, eval_negative_distances = get_examples_distances(trainer, graph_metric_nn, eval_ged_examples)\n",
    "        _, _ = calc_performance_metrics(graph_metric_nn, eval_ged_examples, eval_positive_distances, eval_negative_distances, solver_params, device)\n",
    "        calc_margin_loss(torch.tensor(eval_positive_distances+eval_negative_distances), torch.cat((torch.ones(len(eval_positive_distances)), torch.zeros(len(eval_negative_distances)))), margin = solver_params['margin_loss_margin_value'])\n",
    "\n",
    "        plot_histogram(train_positive_distances, \"train positive examples\", min_range=0, max_range=2)\n",
    "        plot_histogram(train_negative_distances, \"train negative examples\", min_range=0, max_range=2)\n",
    "        plot_histogram(eval_positive_distances, \"eval positive examples\", min_range=0, max_range=2)\n",
    "        plot_histogram(eval_negative_distances, \"eval negative examples\", min_range=0, max_range=2)"
   ]
  },
  {
   "cell_type": "code",
   "execution_count": null,
   "metadata": {
    "pycharm": {
     "name": "#%%\n"
    }
   },
   "outputs": [],
   "source": [
    "GED_experiments_map = {}\n",
    "for positive_GED_k, negative_GED_k_to_val_loss_map in positive_GED_k_to_negative_GED_k_to_val_loss_map.items():\n",
    "    for negative_GED_k, val_loss in negative_GED_k_to_val_loss_map.items():\n",
    "        GED_experiments_map[f\"{positive_GED_k}_{negative_GED_k}\"] = val_loss\n",
    "\n",
    "chart_bar_plot(GED_experiments_map, \"positive-GED-K_negative-GED-K\", \"validation loss\", \"model expressivity analysis\")"
   ]
  },
  {
   "cell_type": "markdown",
   "metadata": {
    "collapsed": false,
    "jupyter": {
     "outputs_hidden": false
    },
    "pycharm": {
     "name": "#%% md\n"
    }
   },
   "source": [
    "test of 2D features space to illustrate the GED - apply MDS to separate the pairs (show the separation of the two areas) show we get a smooth wrap function using a higher dimensional embedding"
   ]
  },
  {
   "cell_type": "code",
   "execution_count": null,
   "metadata": {
    "collapsed": false,
    "jupyter": {
     "outputs_hidden": false
    },
    "pycharm": {
     "name": "#%%\n"
    }
   },
   "outputs": [],
   "source": [
    "# choose reference graph s.\n",
    "reference_graph_for_GED_visualization = random_k_subgraphs[0]\n",
    "\n",
    "# generate 50 s+GED-1 graphs for positive examples (remember label)\n",
    "# generate 50 s+GED-4 graphs for negative examples (remember label)\n",
    "negative_ged_pairs, positive_ged_pairs = create_ged_visulaization_graphs(reference_graph_for_GED_visualization, label_class_examples_amount=500, positive_GED=3, negative_GED=6)"
   ]
  },
  {
   "cell_type": "code",
   "execution_count": null,
   "metadata": {},
   "outputs": [],
   "source": [
    "# load trained pairs, and visualize some reference graphs and their pairs\n",
    "trained_pairs_path = f\".{os.sep}ged_train_subset{os.sep}1705968201.9176743.p\"\n",
    "trained_pairs_map = pickle.load(open(trained_pairs_path, 'rb'))"
   ]
  },
  {
   "cell_type": "code",
   "execution_count": null,
   "metadata": {},
   "outputs": [],
   "source": [
    "ctr = 0\n",
    "for ref_graph_label, ref_graph_pairs in trained_pairs_map.items():\n",
    "    if len(ref_graph_pairs) > 35:\n",
    "        neg_pairs_ctr = 0\n",
    "        for pair in ref_graph_pairs:\n",
    "            if pair.is_negative_sample:\n",
    "                neg_pairs_ctr += 1\n",
    "        print(f\"reference graph label: {ref_graph_label}, negative pairs amount = {neg_pairs_ctr}\")\n",
    "        ctr += 1\n",
    "\n",
    "print(ctr)"
   ]
  },
  {
   "cell_type": "code",
   "execution_count": null,
   "metadata": {},
   "outputs": [],
   "source": [
    "def visualize_embeddings_for_trained_model(ref_graph, positive_pairs, negative_pairs, solver_params, problem_params, input_dim, num_classes):\n",
    "    for hidden_dim in [16, 32, 64, 128, 256, 512, 1024, 2048]:\n",
    "        print(hidden_dim)\n",
    "        model_dump_path = get_model_dump_path(hidden_dim)\n",
    "\n",
    "        model_factory_func = lambda device: GraphCNN(num_layers=5, num_mlp_layers = 2, input_dim=input_dim, hidden_dim=hidden_dim, output_dim=num_classes, final_dropout=0.5, learn_eps=False, graph_pooling_type=\"sum\", neighbor_pooling_type=\"sum\", device=device)\n",
    "\n",
    "        _, graph_metric_nn, _ = init_embedding_net_and_trainer(model_factory_func, solver_params, problem_params, graph_metric_nn_checkpoint_path=model_dump_path)\n",
    "\n",
    "        # calc embeddings of all pairs, apply MDS and plot\n",
    "        visualize_embeddings(graph_metric_nn, ref_graph, positive_pairs, negative_pairs, device=device)"
   ]
  },
  {
   "cell_type": "code",
   "execution_count": null,
   "metadata": {},
   "outputs": [],
   "source": [
    "selected_train_reference_graph_pairs = trained_pairs_map[1799]\n",
    "selected_train_reference_graph = selected_train_reference_graph_pairs[0].subgraph\n",
    "selected_train_reference_graph_positive_pairs = [pair for pair in selected_train_reference_graph_pairs if pair.is_negative_sample == False]\n",
    "selected_train_reference_graph_negative_pairs = [pair for pair in selected_train_reference_graph_pairs if pair.is_negative_sample == True]\n",
    "\n",
    "visualize_embeddings_for_trained_model(selected_train_reference_graph, selected_train_reference_graph_positive_pairs, selected_train_reference_graph_negative_pairs, solver_params, problem_params, input_dim=1, num_classes=1, device=device)"
   ]
  },
  {
   "cell_type": "code",
   "execution_count": null,
   "metadata": {},
   "outputs": [],
   "source": [
    "visualize_embeddings_for_trained_model(reference_graph_for_GED_visualization, positive_ged_pairs, negative_ged_pairs, solver_params, problem_params, input_dim=1, num_classes=1, device=device)"
   ]
  },
  {
   "cell_type": "code",
   "execution_count": null,
   "metadata": {},
   "outputs": [],
   "source": [
    "gt_labels = [0] + [0 for pair in positive_ged_pairs] + [1 for pair in negative_ged_pairs]\n",
    "hid_dim_to_clustering_score_maps_map = {}\n",
    "\n",
    "for hidden_dim in [16, 32, 64, 128, 256, 512, 1024, 2048]:\n",
    "    model_dump_path = get_model_dump_path(hidden_dim)\n",
    "    model_factory_func = lambda device: GraphCNN(num_layers=5, num_mlp_layers = 2, input_dim=1, hidden_dim=hidden_dim, output_dim=1, final_dropout=0.5, learn_eps=False, graph_pooling_type=\"sum\", neighbor_pooling_type=\"sum\", device=device)\n",
    "\n",
    "    _, graph_metric_nn, _ = init_embedding_net_and_trainer(model_factory_func, model_dump_path)\n",
    "\n",
    "    # calc embeddings of all pairs\n",
    "    all_embeddings = get_embeddings(graph_metric_nn, reference_graph_for_GED_visualization, positive_ged_pairs, negative_ged_pairs)\\\n",
    "    .detach().cpu().numpy()\n",
    "\n",
    "    # cluster and measure clustering quality\n",
    "    hid_dim_to_clustering_score_maps_map[hidden_dim] = measure_clustering(all_embeddings, gt_labels)"
   ]
  },
  {
   "cell_type": "code",
   "execution_count": null,
   "metadata": {},
   "outputs": [],
   "source": [
    "hid_dim_to_clustering_score_maps_map"
   ]
  },
  {
   "cell_type": "code",
   "execution_count": null,
   "metadata": {},
   "outputs": [],
   "source": [
    "show_score_plot(hid_dim_to_clustering_score_maps_map, 'sil', 'silhouette')"
   ]
  },
  {
   "cell_type": "code",
   "execution_count": null,
   "metadata": {},
   "outputs": [],
   "source": [
    "show_score_plot(hid_dim_to_clustering_score_maps_map, 'dav', 'davies-bouldin')"
   ]
  },
  {
   "cell_type": "code",
   "execution_count": null,
   "metadata": {},
   "outputs": [],
   "source": [
    "show_score_plot(hid_dim_to_clustering_score_maps_map, 'nmi', 'nmi')"
   ]
  },
  {
   "cell_type": "code",
   "execution_count": null,
   "metadata": {},
   "outputs": [],
   "source": [
    "# metric vs GED 3D plot\n",
    "# \tfor the X and Y, use radius-s of GED, e.g. for radius =1, all GED-1 examples (against a fixed reference graph)\n",
    "\n",
    "# interactive mode may cause issues, see: https://stackoverflow.com/questions/51922480/javascript-error-ipython-is-not-defined-in-jupyterlab\n",
    "\n",
    "%matplotlib notebook"
   ]
  },
  {
   "cell_type": "code",
   "execution_count": null,
   "metadata": {},
   "outputs": [],
   "source": [
    "#TODO:\n",
    "# \twhat about the sampled graphs in the space, are they random? or they are sampled real subgraphs from the full graph?\n",
    "# \t\tallow both configurations:\n",
    "# \t\t\tall GED\n",
    "# \t\t\tjust existing sampled subgraphs GED (we can color them among all GED actually)"
   ]
  },
  {
   "cell_type": "code",
   "execution_count": null,
   "metadata": {},
   "outputs": [],
   "source": [
    "visualize_reference_graph_model_loss_space(solver_params, problem_params, 1024, random_k_subgraphs[10], GED_dists = [1, 4], max_samples_per_radius = 50)"
   ]
  },
  {
   "cell_type": "code",
   "execution_count": null,
   "metadata": {},
   "outputs": [],
   "source": [
    "multiple_ged_radiuses_graphs_map = visualize_reference_graph_model_loss_space(solver_params, problem_params, 1024, random_k_subgraphs[15], GED_dists = [1, 4, 9], max_samples_per_radius = 500)"
   ]
  },
  {
   "cell_type": "code",
   "execution_count": null,
   "metadata": {},
   "outputs": [],
   "source": [
    "multiple_ged_radiuses_graphs_map = visualize_reference_graph_model_loss_space(solver_params, problem_params, 1024, random_k_subgraphs[15], GED_dists = [1, 4, 9], max_samples_per_radius = 500)"
   ]
  },
  {
   "cell_type": "code",
   "execution_count": null,
   "metadata": {},
   "outputs": [],
   "source": [
    "visualize_reference_graph_model_loss_space(solver_params, problem_params, 1024, reference_graph_for_GED_visualization, GED_dists = [3, 6], max_samples_per_radius = 50)"
   ]
  },
  {
   "cell_type": "code",
   "execution_count": null,
   "metadata": {},
   "outputs": [],
   "source": [
    "train_ged_dist_to_pairs_map = {1: selected_train_reference_graph_positive_pairs, 4: selected_train_reference_graph_negative_pairs}\n",
    "visualize_reference_graph_model_loss_space(solver_params, problem_params, 1024, selected_train_reference_graph, GED_dists = train_ged_dist_to_pairs_map, max_samples_per_radius = 50)"
   ]
  },
  {
   "cell_type": "code",
   "execution_count": null,
   "metadata": {},
   "outputs": [],
   "source": [
    "train_positive_distances, train_negative_distances = calc_margin_loss_for_pairs(trainer, graph_metric_nn, solver_params, selected_train_reference_graph_positive_pairs + selected_train_reference_graph_negative_pairs)"
   ]
  },
  {
   "cell_type": "code",
   "execution_count": null,
   "metadata": {},
   "outputs": [],
   "source": [
    "max(train_positive_distances)"
   ]
  },
  {
   "cell_type": "code",
   "execution_count": null,
   "metadata": {},
   "outputs": [],
   "source": [
    "min(train_negative_distances)"
   ]
  },
  {
   "cell_type": "code",
   "execution_count": null,
   "metadata": {},
   "outputs": [],
   "source": [
    "trainer, graph_metric_nn = create_metric_and_trainer(hidden_dim=1024, solver_params=solver_params, problem_params=problem_params)\n",
    "_ = graph_metric_nn.eval()\n",
    "epoch_val_loss = 0\n",
    "val_samples_list = positive_ged_pairs + negative_ged_pairs\n",
    "stub_train_samples_list = val_samples_list[:1]\n",
    "train_loaders, val_loaders = trainer.get_data_loaders(stub_train_samples_list, val_samples_list, 0, ['cpu'])\n",
    "val_loader = val_loaders[0]\n",
    "\n",
    "for val_batch in val_loader:\n",
    "    val_loss = trainer.calculate_loss_for_batch(val_batch, is_train=False)\n",
    "    epoch_val_loss += val_loss.item()"
   ]
  },
  {
   "cell_type": "code",
   "execution_count": null,
   "metadata": {},
   "outputs": [],
   "source": [
    "epoch_val_loss"
   ]
  },
  {
   "cell_type": "code",
   "execution_count": null,
   "metadata": {},
   "outputs": [],
   "source": [
    "# all_train_reference_graph_pairs = [pair for _, train_reference_graph_pairs in trained_pairs_map.items() for pair in train_reference_graph_pairs]\n",
    "train_positive_distances, train_negative_distances = get_examples_distances(trainer, graph_metric_nn, ged_examples1 + ged_examples2)\n",
    "\n",
    "calc_margin_loss(torch.tensor(train_positive_distances+train_negative_distances), torch.cat((torch.ones(len(train_positive_distances)), torch.zeros(len(train_negative_distances)))), margin = solver_params['margin_loss_margin_value'])"
   ]
  },
  {
   "cell_type": "code",
   "execution_count": null,
   "metadata": {},
   "outputs": [],
   "source": [
    "plot_histogram(train_positive_distances, \"positive pair distances\", min_range=0, max_range=1)\n",
    "plot_histogram(train_negative_distances, \"negative pair distances\", min_range=0, max_range=7)"
   ]
  },
  {
   "cell_type": "code",
   "execution_count": null,
   "metadata": {},
   "outputs": [],
   "source": [
    "plot_histogram_for_ged_pairs(trainer, graph_metric_nn, 1, multiple_ged_radiuses_graphs_map[1])"
   ]
  },
  {
   "cell_type": "code",
   "execution_count": null,
   "metadata": {},
   "outputs": [],
   "source": [
    "plot_histogram_for_ged_pairs(trainer, graph_metric_nn, 4, multiple_ged_radiuses_graphs_map[4], max_range=0.2)"
   ]
  },
  {
   "cell_type": "code",
   "execution_count": null,
   "metadata": {},
   "outputs": [],
   "source": [
    "plot_histogram_for_ged_pairs(trainer, graph_metric_nn, 4, multiple_ged_radiuses_graphs_map[4], max_range=1)"
   ]
  },
  {
   "cell_type": "code",
   "execution_count": null,
   "metadata": {},
   "outputs": [],
   "source": [
    "plot_histogram_for_ged_pairs(trainer, graph_metric_nn, 4, multiple_ged_radiuses_graphs_map[4])"
   ]
  },
  {
   "cell_type": "code",
   "execution_count": null,
   "metadata": {},
   "outputs": [],
   "source": [
    "plot_histogram_for_ged_pairs(trainer, graph_metric_nn, 9, multiple_ged_radiuses_graphs_map[9])"
   ]
  },
  {
   "cell_type": "code",
   "execution_count": null,
   "metadata": {},
   "outputs": [],
   "source": [
    "plot_histogram_for_ged_pairs(trainer, graph_metric_nn, 9, multiple_ged_radiuses_graphs_map[9], max_range=3)"
   ]
  },
  {
   "cell_type": "code",
   "execution_count": null,
   "metadata": {},
   "outputs": [],
   "source": [
    "# plt.close('all')"
   ]
  },
  {
   "cell_type": "markdown",
   "metadata": {},
   "source": [
    "# Brute force training"
   ]
  },
  {
   "cell_type": "code",
   "execution_count": 18,
   "metadata": {},
   "outputs": [
    {
     "name": "stdout",
     "output_type": "stream",
     "text": [
      "enter generate_pairs_data_set\n",
      "full graph has 16 nodes, subgraph has 8 nodes, removing 4 non subgraph nodes from full graph\n",
      "starting generating subgraphs\n",
      "start generate_k_subgraphs\n",
      "enter generate_k_subgraphs\n",
      "total time for finished all_connected_subgraphs (total of 420 graphs):0s\n",
      "enter generate_k_subgraphs_for_chunk\n",
      "total time for Chunk #4 finished, chunk size=5:0s\n",
      "enter generate_k_subgraphs_for_chunk\n",
      "total time for Chunk #73 finished, chunk size=5:0s\n",
      "enter generate_k_subgraphs_for_chunk\n",
      "total time for Chunk #5 finished, chunk size=5:0s\n",
      "enter generate_k_subgraphs_for_chunk\n",
      "total time for Chunk #8 finished, chunk size=5:0s\n",
      "enter generate_k_subgraphs_for_chunk\n",
      "total time for Chunk #30 finished, chunk size=5:0s\n",
      "enter generate_k_subgraphs_for_chunk\n",
      "total time for Chunk #43 finished, chunk size=5:0s\n",
      "enter generate_k_subgraphs_for_chunk\n",
      "total time for Chunk #12 finished, chunk size=5:0s\n",
      "enter generate_k_subgraphs_for_chunk\n",
      "total time for Chunk #13 finished, chunk size=5:0s\n",
      "enter generate_k_subgraphs_for_chunk\n",
      "total time for Chunk #22 finished, chunk size=5:0s\n",
      "enter generate_k_subgraphs_for_chunk\n",
      "total time for Chunk #6 finished, chunk size=5:0s\n",
      "enter generate_k_subgraphs_for_chunk\n",
      "total time for Chunk #42 finished, chunk size=5:0s\n",
      "enter generate_k_subgraphs_for_chunk\n",
      "total time for Chunk #51 finished, chunk size=5:0s\n",
      "enter generate_k_subgraphs_for_chunk\n",
      "total time for Chunk #55 finished, chunk size=5:0s\n",
      "enter generate_k_subgraphs_for_chunk\n",
      "total time for Chunk #20 finished, chunk size=5:0s\n",
      "enter generate_k_subgraphs_for_chunk\n",
      "total time for Chunk #34 finished, chunk size=5:0s\n",
      "enter generate_k_subgraphs_for_chunk\n",
      "total time for Chunk #76 finished, chunk size=5:0s\n",
      "enter generate_k_subgraphs_for_chunk\n",
      "total time for Chunk #48 finished, chunk size=5:0s\n",
      "enter generate_k_subgraphs_for_chunk\n",
      "total time for Chunk #58 finished, chunk size=5:0s\n",
      "enter generate_k_subgraphs_for_chunk\n",
      "total time for Chunk #26 finished, chunk size=5:0s\n",
      "enter generate_k_subgraphs_for_chunk\n",
      "total time for Chunk #27 finished, chunk size=5:0s\n",
      "enter generate_k_subgraphs_for_chunk\n",
      "total time for Chunk #11 finished, chunk size=5:0s\n",
      "enter generate_k_subgraphs_for_chunk\n",
      "total time for Chunk #44 finished, chunk size=5:0s\n",
      "enter generate_k_subgraphs_for_chunk\n",
      "total time for Chunk #54 finished, chunk size=5:0s\n",
      "enter generate_k_subgraphs_for_chunk\n",
      "total time for Chunk #56 finished, chunk size=5:0s\n",
      "enter generate_k_subgraphs_for_chunk\n",
      "total time for Chunk #21 finished, chunk size=5:0s\n",
      "enter generate_k_subgraphs_for_chunk\n",
      "total time for Chunk #81 finished, chunk size=5:0s\n",
      "enter generate_k_subgraphs_for_chunk\n",
      "total time for Chunk #7 finished, chunk size=5:0s\n",
      "enter generate_k_subgraphs_for_chunk\n",
      "total time for Chunk #9 finished, chunk size=5:0s\n",
      "enter generate_k_subgraphs_for_chunk\n",
      "total time for Chunk #67 finished, chunk size=5:0s\n",
      "enter generate_k_subgraphs_for_chunk\n",
      "total time for Chunk #0 finished, chunk size=5:0s\n",
      "enter generate_k_subgraphs_for_chunk\n",
      "total time for Chunk #37 finished, chunk size=5:0s\n",
      "enter generate_k_subgraphs_for_chunk\n",
      "total time for Chunk #32 finished, chunk size=5:0s\n",
      "enter generate_k_subgraphs_for_chunk\n",
      "total time for Chunk #53 finished, chunk size=5:0s\n",
      "enter generate_k_subgraphs_for_chunk\n",
      "total time for Chunk #40 finished, chunk size=5:0s\n",
      "enter generate_k_subgraphs_for_chunk\n",
      "total time for Chunk #79 finished, chunk size=5:0s\n",
      "enter generate_k_subgraphs_for_chunk\n",
      "total time for Chunk #23 finished, chunk size=5:0s\n",
      "enter generate_k_subgraphs_for_chunk\n",
      "total time for Chunk #72 finished, chunk size=5:0s\n",
      "enter generate_k_subgraphs_for_chunk\n",
      "total time for Chunk #63 finished, chunk size=5:0s\n",
      "enter generate_k_subgraphs_for_chunk\n",
      "total time for Chunk #16 finished, chunk size=5:0s\n",
      "enter generate_k_subgraphs_for_chunk\n",
      "total time for Chunk #25 finished, chunk size=5:0s\n",
      "enter generate_k_subgraphs_for_chunk\n",
      "total time for Chunk #3 finished, chunk size=5:0s\n",
      "enter generate_k_subgraphs_for_chunk\n",
      "total time for Chunk #17 finished, chunk size=5:0s\n",
      "enter generate_k_subgraphs_for_chunk\n",
      "total time for Chunk #39 finished, chunk size=5:0s\n",
      "enter generate_k_subgraphs_for_chunk\n",
      "total time for Chunk #74 finished, chunk size=5:0s\n",
      "enter generate_k_subgraphs_for_chunk\n",
      "total time for Chunk #68 finished, chunk size=5:0s\n",
      "enter generate_k_subgraphs_for_chunk\n",
      "total time for Chunk #50 finished, chunk size=5:0s\n",
      "enter generate_k_subgraphs_for_chunk\n",
      "total time for Chunk #28 finished, chunk size=5:0s\n",
      "enter generate_k_subgraphs_for_chunk\n",
      "total time for Chunk #29 finished, chunk size=5:0s\n",
      "enter generate_k_subgraphs_for_chunk\n",
      "total time for Chunk #84 finished, chunk size=0:0s\n",
      "enter generate_k_subgraphs_for_chunk\n",
      "total time for Chunk #71 finished, chunk size=5:0s\n",
      "enter generate_k_subgraphs_for_chunk\n",
      "total time for Chunk #15 finished, chunk size=5:0s\n",
      "enter generate_k_subgraphs_for_chunk\n",
      "total time for Chunk #61 finished, chunk size=5:0s\n",
      "enter generate_k_subgraphs_for_chunk\n",
      "total time for Chunk #77 finished, chunk size=5:0s\n",
      "enter generate_k_subgraphs_for_chunk\n",
      "total time for Chunk #59 finished, chunk size=5:0s\n",
      "enter generate_k_subgraphs_for_chunk\n",
      "total time for Chunk #65 finished, chunk size=5:0s\n",
      "enter generate_k_subgraphs_for_chunk\n",
      "total time for Chunk #87 finished, chunk size=0:0s\n",
      "enter generate_k_subgraphs_for_chunk\n",
      "total time for Chunk #47 finished, chunk size=5:0s\n",
      "enter generate_k_subgraphs_for_chunk\n",
      "total time for Chunk #86 finished, chunk size=0:0s\n",
      "enter generate_k_subgraphs_for_chunk\n",
      "total time for Chunk #2 finished, chunk size=5:0s\n",
      "enter generate_k_subgraphs_for_chunk\n",
      "total time for Chunk #64 finished, chunk size=5:0s\n",
      "enter generate_k_subgraphs_for_chunk\n",
      "total time for Chunk #80 finished, chunk size=5:0s\n",
      "enter generate_k_subgraphs_for_chunk\n",
      "total time for Chunk #57 finished, chunk size=5:0s\n",
      "enter generate_k_subgraphs_for_chunk\n",
      "total time for Chunk #60 finished, chunk size=5:0s\n",
      "enter generate_k_subgraphs_for_chunk\n",
      "total time for Chunk #14 finished, chunk size=5:0s\n",
      "enter generate_k_subgraphs_for_chunk\n",
      "total time for Chunk #35 finished, chunk size=5:0s\n",
      "enter generate_k_subgraphs_for_chunk\n",
      "total time for Chunk #78 finished, chunk size=5:0s\n",
      "enter generate_k_subgraphs_for_chunk\n",
      "total time for Chunk #46 finished, chunk size=5:0s\n",
      "enter generate_k_subgraphs_for_chunk\n",
      "total time for Chunk #62 finished, chunk size=5:0s\n",
      "enter generate_k_subgraphs_for_chunk\n",
      "total time for Chunk #49 finished, chunk size=5:0s\n",
      "enter generate_k_subgraphs_for_chunk\n",
      "total time for Chunk #69 finished, chunk size=5:0s\n",
      "enter generate_k_subgraphs_for_chunk\n",
      "total time for Chunk #41 finished, chunk size=5:0s\n",
      "enter generate_k_subgraphs_for_chunk\n",
      "total time for Chunk #19 finished, chunk size=5:0s\n",
      "enter generate_k_subgraphs_for_chunk\n",
      "total time for Chunk #75 finished, chunk size=5:0s\n",
      "enter generate_k_subgraphs_for_chunk\n",
      "total time for Chunk #70 finished, chunk size=5:0s\n",
      "enter generate_k_subgraphs_for_chunk\n",
      "total time for Chunk #36 finished, chunk size=5:0s\n",
      "enter generate_k_subgraphs_for_chunk\n",
      "total time for Chunk #85 finished, chunk size=0:0s\n",
      "enter generate_k_subgraphs_for_chunk\n",
      "total time for Chunk #38 finished, chunk size=5:0s\n",
      "enter generate_k_subgraphs_for_chunk\n",
      "total time for Chunk #18 finished, chunk size=5:0s\n",
      "enter generate_k_subgraphs_for_chunk\n",
      "total time for Chunk #82 finished, chunk size=5:0s\n",
      "enter generate_k_subgraphs_for_chunk\n",
      "total time for Chunk #24 finished, chunk size=5:0s\n",
      "enter generate_k_subgraphs_for_chunk\n",
      "total time for Chunk #31 finished, chunk size=5:0s\n",
      "enter generate_k_subgraphs_for_chunk\n",
      "total time for Chunk #45 finished, chunk size=5:0s\n",
      "enter generate_k_subgraphs_for_chunk\n",
      "total time for Chunk #1 finished, chunk size=5:0s\n",
      "enter generate_k_subgraphs_for_chunk\n",
      "total time for Chunk #66 finished, chunk size=5:0s\n",
      "enter generate_k_subgraphs_for_chunk\n",
      "total time for Chunk #83 finished, chunk size=5:0s\n",
      "enter generate_k_subgraphs_for_chunk\n",
      "total time for Chunk #52 finished, chunk size=5:0s\n",
      "enter generate_k_subgraphs_for_chunk\n",
      "total time for Chunk #33 finished, chunk size=5:0s\n",
      "enter generate_k_subgraphs_for_chunk\n",
      "total time for Chunk #10 finished, chunk size=5:0s\n",
      "total time for finished generating subgraphs:2s\n",
      "total time for end generate_k_subgraphs:2s\n"
     ]
    },
    {
     "name": "stderr",
     "output_type": "stream",
     "text": [
      "Pairs dataset construction:   1%|█                                                                                       | 1/88 [00:09<14:19,  9.88s/it]"
     ]
    },
    {
     "name": "stdout",
     "output_type": "stream",
     "text": [
      "!!! WARNING: COULD NOT IMPORT rpy2, check R_HOME path exists: C:\\Program Files\\R\\R-4.3.2 !!!\n",
      "enter loading k-subgraphs file\n",
      "total time for finished loading k-subgraphs file:0s\n",
      "finished chunk #0 of 2085 pairs\n"
     ]
    },
    {
     "name": "stderr",
     "output_type": "stream",
     "text": [
      "Pairs dataset construction:   2%|██                                                                                      | 2/88 [00:15<10:20,  7.21s/it]"
     ]
    },
    {
     "name": "stdout",
     "output_type": "stream",
     "text": [
      "!!! WARNING: COULD NOT IMPORT rpy2, check R_HOME path exists: C:\\Program Files\\R\\R-4.3.2 !!!\n",
      "enter loading k-subgraphs file\n",
      "total time for finished loading k-subgraphs file:0s\n",
      "finished chunk #1 of 2060 pairs\n"
     ]
    },
    {
     "name": "stderr",
     "output_type": "stream",
     "text": [
      "Pairs dataset construction:   3%|███                                                                                     | 3/88 [00:20<08:59,  6.34s/it]"
     ]
    },
    {
     "name": "stdout",
     "output_type": "stream",
     "text": [
      "!!! WARNING: COULD NOT IMPORT rpy2, check R_HOME path exists: C:\\Program Files\\R\\R-4.3.2 !!!\n",
      "enter loading k-subgraphs file\n",
      "total time for finished loading k-subgraphs file:0s\n",
      "finished chunk #2 of 2035 pairs\n"
     ]
    },
    {
     "name": "stderr",
     "output_type": "stream",
     "text": [
      "Pairs dataset construction:   5%|████                                                                                    | 4/88 [00:25<08:14,  5.88s/it]"
     ]
    },
    {
     "name": "stdout",
     "output_type": "stream",
     "text": [
      "!!! WARNING: COULD NOT IMPORT rpy2, check R_HOME path exists: C:\\Program Files\\R\\R-4.3.2 !!!\n",
      "enter loading k-subgraphs file\n",
      "total time for finished loading k-subgraphs file:0s\n",
      "finished chunk #3 of 2010 pairs\n"
     ]
    },
    {
     "name": "stderr",
     "output_type": "stream",
     "text": [
      "Pairs dataset construction:   6%|█████                                                                                   | 5/88 [00:31<07:54,  5.71s/it]"
     ]
    },
    {
     "name": "stdout",
     "output_type": "stream",
     "text": [
      "!!! WARNING: COULD NOT IMPORT rpy2, check R_HOME path exists: C:\\Program Files\\R\\R-4.3.2 !!!\n",
      "enter loading k-subgraphs file\n",
      "total time for finished loading k-subgraphs file:0s\n",
      "finished chunk #4 of 1985 pairs\n"
     ]
    },
    {
     "name": "stderr",
     "output_type": "stream",
     "text": [
      "Pairs dataset construction:   7%|██████                                                                                  | 6/88 [00:36<07:46,  5.69s/it]"
     ]
    },
    {
     "name": "stdout",
     "output_type": "stream",
     "text": [
      "!!! WARNING: COULD NOT IMPORT rpy2, check R_HOME path exists: C:\\Program Files\\R\\R-4.3.2 !!!\n",
      "enter loading k-subgraphs file\n",
      "total time for finished loading k-subgraphs file:0s\n",
      "finished chunk #5 of 1960 pairs\n"
     ]
    },
    {
     "name": "stderr",
     "output_type": "stream",
     "text": [
      "Pairs dataset construction:   8%|███████                                                                                 | 7/88 [00:42<07:36,  5.63s/it]"
     ]
    },
    {
     "name": "stdout",
     "output_type": "stream",
     "text": [
      "!!! WARNING: COULD NOT IMPORT rpy2, check R_HOME path exists: C:\\Program Files\\R\\R-4.3.2 !!!\n",
      "enter loading k-subgraphs file\n",
      "total time for finished loading k-subgraphs file:0s\n",
      "finished chunk #6 of 1935 pairs\n"
     ]
    },
    {
     "name": "stderr",
     "output_type": "stream",
     "text": [
      "Pairs dataset construction:   9%|████████                                                                                | 8/88 [00:47<07:26,  5.58s/it]"
     ]
    },
    {
     "name": "stdout",
     "output_type": "stream",
     "text": [
      "!!! WARNING: COULD NOT IMPORT rpy2, check R_HOME path exists: C:\\Program Files\\R\\R-4.3.2 !!!\n",
      "enter loading k-subgraphs file\n",
      "total time for finished loading k-subgraphs file:0s\n",
      "finished chunk #7 of 1910 pairs\n"
     ]
    },
    {
     "name": "stderr",
     "output_type": "stream",
     "text": [
      "Pairs dataset construction:  10%|█████████                                                                               | 9/88 [00:53<07:26,  5.66s/it]"
     ]
    },
    {
     "name": "stdout",
     "output_type": "stream",
     "text": [
      "!!! WARNING: COULD NOT IMPORT rpy2, check R_HOME path exists: C:\\Program Files\\R\\R-4.3.2 !!!\n",
      "enter loading k-subgraphs file\n",
      "total time for finished loading k-subgraphs file:0s\n",
      "finished chunk #8 of 1885 pairs\n"
     ]
    },
    {
     "name": "stderr",
     "output_type": "stream",
     "text": [
      "Pairs dataset construction:  11%|█████████▉                                                                             | 10/88 [00:59<07:19,  5.63s/it]"
     ]
    },
    {
     "name": "stdout",
     "output_type": "stream",
     "text": [
      "!!! WARNING: COULD NOT IMPORT rpy2, check R_HOME path exists: C:\\Program Files\\R\\R-4.3.2 !!!\n",
      "enter loading k-subgraphs file\n",
      "total time for finished loading k-subgraphs file:0s\n",
      "finished chunk #9 of 1860 pairs\n"
     ]
    },
    {
     "name": "stderr",
     "output_type": "stream",
     "text": [
      "Pairs dataset construction:  12%|██████████▉                                                                            | 11/88 [01:04<06:59,  5.44s/it]"
     ]
    },
    {
     "name": "stdout",
     "output_type": "stream",
     "text": [
      "!!! WARNING: COULD NOT IMPORT rpy2, check R_HOME path exists: C:\\Program Files\\R\\R-4.3.2 !!!\n",
      "enter loading k-subgraphs file\n",
      "total time for finished loading k-subgraphs file:0s\n",
      "finished chunk #10 of 1835 pairs\n"
     ]
    },
    {
     "name": "stderr",
     "output_type": "stream",
     "text": [
      "Pairs dataset construction:  14%|███████████▊                                                                           | 12/88 [01:09<06:58,  5.51s/it]"
     ]
    },
    {
     "name": "stdout",
     "output_type": "stream",
     "text": [
      "!!! WARNING: COULD NOT IMPORT rpy2, check R_HOME path exists: C:\\Program Files\\R\\R-4.3.2 !!!\n",
      "enter loading k-subgraphs file\n",
      "total time for finished loading k-subgraphs file:0s\n",
      "finished chunk #11 of 1810 pairs\n"
     ]
    },
    {
     "name": "stderr",
     "output_type": "stream",
     "text": [
      "Pairs dataset construction:  15%|████████████▊                                                                          | 13/88 [01:15<06:45,  5.41s/it]"
     ]
    },
    {
     "name": "stdout",
     "output_type": "stream",
     "text": [
      "!!! WARNING: COULD NOT IMPORT rpy2, check R_HOME path exists: C:\\Program Files\\R\\R-4.3.2 !!!\n",
      "enter loading k-subgraphs file\n",
      "total time for finished loading k-subgraphs file:0s\n",
      "finished chunk #12 of 1785 pairs\n"
     ]
    },
    {
     "name": "stderr",
     "output_type": "stream",
     "text": [
      "Pairs dataset construction:  16%|█████████████▊                                                                         | 14/88 [01:19<06:22,  5.17s/it]"
     ]
    },
    {
     "name": "stdout",
     "output_type": "stream",
     "text": [
      "!!! WARNING: COULD NOT IMPORT rpy2, check R_HOME path exists: C:\\Program Files\\R\\R-4.3.2 !!!\n",
      "enter loading k-subgraphs file\n",
      "total time for finished loading k-subgraphs file:0s\n",
      "finished chunk #13 of 1760 pairs\n"
     ]
    },
    {
     "name": "stderr",
     "output_type": "stream",
     "text": [
      "Pairs dataset construction:  17%|██████████████▊                                                                        | 15/88 [01:24<06:20,  5.21s/it]"
     ]
    },
    {
     "name": "stdout",
     "output_type": "stream",
     "text": [
      "!!! WARNING: COULD NOT IMPORT rpy2, check R_HOME path exists: C:\\Program Files\\R\\R-4.3.2 !!!\n",
      "enter loading k-subgraphs file\n",
      "total time for finished loading k-subgraphs file:0s\n",
      "finished chunk #14 of 1735 pairs\n"
     ]
    },
    {
     "name": "stderr",
     "output_type": "stream",
     "text": [
      "Pairs dataset construction:  18%|███████████████▊                                                                       | 16/88 [01:30<06:18,  5.26s/it]"
     ]
    },
    {
     "name": "stdout",
     "output_type": "stream",
     "text": [
      "!!! WARNING: COULD NOT IMPORT rpy2, check R_HOME path exists: C:\\Program Files\\R\\R-4.3.2 !!!\n",
      "enter loading k-subgraphs file\n",
      "total time for finished loading k-subgraphs file:0s\n",
      "finished chunk #15 of 1710 pairs\n"
     ]
    },
    {
     "name": "stderr",
     "output_type": "stream",
     "text": [
      "Pairs dataset construction:  19%|████████████████▊                                                                      | 17/88 [01:35<06:05,  5.15s/it]"
     ]
    },
    {
     "name": "stdout",
     "output_type": "stream",
     "text": [
      "!!! WARNING: COULD NOT IMPORT rpy2, check R_HOME path exists: C:\\Program Files\\R\\R-4.3.2 !!!\n",
      "enter loading k-subgraphs file\n",
      "total time for finished loading k-subgraphs file:0s\n",
      "finished chunk #16 of 1685 pairs\n"
     ]
    },
    {
     "name": "stderr",
     "output_type": "stream",
     "text": [
      "Pairs dataset construction:  20%|█████████████████▊                                                                     | 18/88 [01:40<06:10,  5.30s/it]"
     ]
    },
    {
     "name": "stdout",
     "output_type": "stream",
     "text": [
      "!!! WARNING: COULD NOT IMPORT rpy2, check R_HOME path exists: C:\\Program Files\\R\\R-4.3.2 !!!\n",
      "enter loading k-subgraphs file\n",
      "total time for finished loading k-subgraphs file:0s\n",
      "finished chunk #17 of 1660 pairs\n"
     ]
    },
    {
     "name": "stderr",
     "output_type": "stream",
     "text": [
      "Pairs dataset construction:  22%|██████████████████▊                                                                    | 19/88 [01:46<06:04,  5.28s/it]"
     ]
    },
    {
     "name": "stdout",
     "output_type": "stream",
     "text": [
      "!!! WARNING: COULD NOT IMPORT rpy2, check R_HOME path exists: C:\\Program Files\\R\\R-4.3.2 !!!\n",
      "enter loading k-subgraphs file\n",
      "total time for finished loading k-subgraphs file:0s\n",
      "finished chunk #18 of 1635 pairs\n"
     ]
    },
    {
     "name": "stderr",
     "output_type": "stream",
     "text": [
      "Pairs dataset construction:  23%|███████████████████▊                                                                   | 20/88 [01:51<06:09,  5.43s/it]"
     ]
    },
    {
     "name": "stdout",
     "output_type": "stream",
     "text": [
      "!!! WARNING: COULD NOT IMPORT rpy2, check R_HOME path exists: C:\\Program Files\\R\\R-4.3.2 !!!\n",
      "enter loading k-subgraphs file\n",
      "total time for finished loading k-subgraphs file:0s\n",
      "finished chunk #19 of 1610 pairs\n"
     ]
    },
    {
     "name": "stderr",
     "output_type": "stream",
     "text": [
      "Pairs dataset construction:  24%|████████████████████▊                                                                  | 21/88 [01:57<06:09,  5.51s/it]"
     ]
    },
    {
     "name": "stdout",
     "output_type": "stream",
     "text": [
      "!!! WARNING: COULD NOT IMPORT rpy2, check R_HOME path exists: C:\\Program Files\\R\\R-4.3.2 !!!\n",
      "enter loading k-subgraphs file\n",
      "total time for finished loading k-subgraphs file:0s\n",
      "finished chunk #20 of 1585 pairs\n"
     ]
    },
    {
     "name": "stderr",
     "output_type": "stream",
     "text": [
      "Pairs dataset construction:  25%|█████████████████████▊                                                                 | 22/88 [02:03<06:08,  5.59s/it]"
     ]
    },
    {
     "name": "stdout",
     "output_type": "stream",
     "text": [
      "!!! WARNING: COULD NOT IMPORT rpy2, check R_HOME path exists: C:\\Program Files\\R\\R-4.3.2 !!!\n",
      "enter loading k-subgraphs file\n",
      "total time for finished loading k-subgraphs file:0s\n",
      "finished chunk #21 of 1560 pairs\n"
     ]
    },
    {
     "name": "stderr",
     "output_type": "stream",
     "text": [
      "Pairs dataset construction:  26%|██████████████████████▋                                                                | 23/88 [02:08<05:54,  5.45s/it]"
     ]
    },
    {
     "name": "stdout",
     "output_type": "stream",
     "text": [
      "!!! WARNING: COULD NOT IMPORT rpy2, check R_HOME path exists: C:\\Program Files\\R\\R-4.3.2 !!!\n",
      "enter loading k-subgraphs file\n",
      "total time for finished loading k-subgraphs file:0s\n",
      "finished chunk #22 of 1535 pairs\n"
     ]
    },
    {
     "name": "stderr",
     "output_type": "stream",
     "text": [
      "Pairs dataset construction:  27%|███████████████████████▋                                                               | 24/88 [02:13<05:50,  5.47s/it]"
     ]
    },
    {
     "name": "stdout",
     "output_type": "stream",
     "text": [
      "!!! WARNING: COULD NOT IMPORT rpy2, check R_HOME path exists: C:\\Program Files\\R\\R-4.3.2 !!!\n",
      "enter loading k-subgraphs file\n",
      "total time for finished loading k-subgraphs file:0s\n",
      "finished chunk #23 of 1510 pairs\n"
     ]
    },
    {
     "name": "stderr",
     "output_type": "stream",
     "text": [
      "Pairs dataset construction:  28%|████████████████████████▋                                                              | 25/88 [02:19<05:40,  5.40s/it]"
     ]
    },
    {
     "name": "stdout",
     "output_type": "stream",
     "text": [
      "!!! WARNING: COULD NOT IMPORT rpy2, check R_HOME path exists: C:\\Program Files\\R\\R-4.3.2 !!!\n",
      "enter loading k-subgraphs file\n",
      "total time for finished loading k-subgraphs file:0s\n",
      "finished chunk #24 of 1485 pairs\n"
     ]
    },
    {
     "name": "stderr",
     "output_type": "stream",
     "text": [
      "Pairs dataset construction:  30%|█████████████████████████▋                                                             | 26/88 [02:24<05:37,  5.45s/it]"
     ]
    },
    {
     "name": "stdout",
     "output_type": "stream",
     "text": [
      "!!! WARNING: COULD NOT IMPORT rpy2, check R_HOME path exists: C:\\Program Files\\R\\R-4.3.2 !!!\n",
      "enter loading k-subgraphs file\n",
      "total time for finished loading k-subgraphs file:0s\n",
      "finished chunk #25 of 1460 pairs\n"
     ]
    },
    {
     "name": "stderr",
     "output_type": "stream",
     "text": [
      "Pairs dataset construction:  31%|██████████████████████████▋                                                            | 27/88 [02:30<05:30,  5.42s/it]"
     ]
    },
    {
     "name": "stdout",
     "output_type": "stream",
     "text": [
      "!!! WARNING: COULD NOT IMPORT rpy2, check R_HOME path exists: C:\\Program Files\\R\\R-4.3.2 !!!\n",
      "enter loading k-subgraphs file\n",
      "total time for finished loading k-subgraphs file:0s\n",
      "finished chunk #26 of 1435 pairs\n"
     ]
    },
    {
     "name": "stderr",
     "output_type": "stream",
     "text": [
      "Pairs dataset construction:  32%|███████████████████████████▋                                                           | 28/88 [02:35<05:18,  5.31s/it]"
     ]
    },
    {
     "name": "stdout",
     "output_type": "stream",
     "text": [
      "!!! WARNING: COULD NOT IMPORT rpy2, check R_HOME path exists: C:\\Program Files\\R\\R-4.3.2 !!!\n",
      "enter loading k-subgraphs file\n",
      "total time for finished loading k-subgraphs file:0s\n",
      "finished chunk #27 of 1410 pairs\n"
     ]
    },
    {
     "name": "stderr",
     "output_type": "stream",
     "text": [
      "Pairs dataset construction:  33%|████████████████████████████▋                                                          | 29/88 [02:40<05:19,  5.41s/it]"
     ]
    },
    {
     "name": "stdout",
     "output_type": "stream",
     "text": [
      "!!! WARNING: COULD NOT IMPORT rpy2, check R_HOME path exists: C:\\Program Files\\R\\R-4.3.2 !!!\n",
      "enter loading k-subgraphs file\n",
      "total time for finished loading k-subgraphs file:0s\n",
      "finished chunk #28 of 1385 pairs\n"
     ]
    },
    {
     "name": "stderr",
     "output_type": "stream",
     "text": [
      "Pairs dataset construction:  34%|█████████████████████████████▋                                                         | 30/88 [02:46<05:09,  5.34s/it]"
     ]
    },
    {
     "name": "stdout",
     "output_type": "stream",
     "text": [
      "!!! WARNING: COULD NOT IMPORT rpy2, check R_HOME path exists: C:\\Program Files\\R\\R-4.3.2 !!!\n",
      "enter loading k-subgraphs file\n",
      "total time for finished loading k-subgraphs file:0s\n",
      "finished chunk #29 of 1360 pairs\n"
     ]
    },
    {
     "name": "stderr",
     "output_type": "stream",
     "text": [
      "Pairs dataset construction:  35%|██████████████████████████████▋                                                        | 31/88 [02:51<05:12,  5.48s/it]"
     ]
    },
    {
     "name": "stdout",
     "output_type": "stream",
     "text": [
      "!!! WARNING: COULD NOT IMPORT rpy2, check R_HOME path exists: C:\\Program Files\\R\\R-4.3.2 !!!\n",
      "enter loading k-subgraphs file\n",
      "total time for finished loading k-subgraphs file:0s\n",
      "finished chunk #30 of 1335 pairs\n"
     ]
    },
    {
     "name": "stderr",
     "output_type": "stream",
     "text": [
      "Pairs dataset construction:  36%|███████████████████████████████▋                                                       | 32/88 [02:56<05:01,  5.38s/it]"
     ]
    },
    {
     "name": "stdout",
     "output_type": "stream",
     "text": [
      "!!! WARNING: COULD NOT IMPORT rpy2, check R_HOME path exists: C:\\Program Files\\R\\R-4.3.2 !!!\n",
      "enter loading k-subgraphs file\n",
      "total time for finished loading k-subgraphs file:0s\n",
      "finished chunk #31 of 1310 pairs\n"
     ]
    },
    {
     "name": "stderr",
     "output_type": "stream",
     "text": [
      "Pairs dataset construction:  38%|████████████████████████████████▋                                                      | 33/88 [03:02<05:00,  5.47s/it]"
     ]
    },
    {
     "name": "stdout",
     "output_type": "stream",
     "text": [
      "!!! WARNING: COULD NOT IMPORT rpy2, check R_HOME path exists: C:\\Program Files\\R\\R-4.3.2 !!!\n",
      "enter loading k-subgraphs file\n",
      "total time for finished loading k-subgraphs file:0s\n",
      "finished chunk #32 of 1285 pairs\n"
     ]
    },
    {
     "name": "stderr",
     "output_type": "stream",
     "text": [
      "Pairs dataset construction:  39%|█████████████████████████████████▌                                                     | 34/88 [03:08<04:58,  5.52s/it]"
     ]
    },
    {
     "name": "stdout",
     "output_type": "stream",
     "text": [
      "!!! WARNING: COULD NOT IMPORT rpy2, check R_HOME path exists: C:\\Program Files\\R\\R-4.3.2 !!!\n",
      "enter loading k-subgraphs file\n",
      "total time for finished loading k-subgraphs file:0s\n",
      "finished chunk #33 of 1260 pairs\n"
     ]
    },
    {
     "name": "stderr",
     "output_type": "stream",
     "text": [
      "Pairs dataset construction:  40%|██████████████████████████████████▌                                                    | 35/88 [03:13<04:47,  5.43s/it]"
     ]
    },
    {
     "name": "stdout",
     "output_type": "stream",
     "text": [
      "!!! WARNING: COULD NOT IMPORT rpy2, check R_HOME path exists: C:\\Program Files\\R\\R-4.3.2 !!!\n",
      "enter loading k-subgraphs file\n",
      "total time for finished loading k-subgraphs file:0s\n",
      "finished chunk #34 of 1235 pairs\n"
     ]
    },
    {
     "name": "stderr",
     "output_type": "stream",
     "text": [
      "Pairs dataset construction:  41%|███████████████████████████████████▌                                                   | 36/88 [03:19<04:48,  5.55s/it]"
     ]
    },
    {
     "name": "stdout",
     "output_type": "stream",
     "text": [
      "!!! WARNING: COULD NOT IMPORT rpy2, check R_HOME path exists: C:\\Program Files\\R\\R-4.3.2 !!!\n",
      "enter loading k-subgraphs file\n",
      "total time for finished loading k-subgraphs file:0s\n",
      "finished chunk #35 of 1210 pairs\n"
     ]
    },
    {
     "name": "stderr",
     "output_type": "stream",
     "text": [
      "Pairs dataset construction:  42%|████████████████████████████████████▌                                                  | 37/88 [03:24<04:37,  5.45s/it]"
     ]
    },
    {
     "name": "stdout",
     "output_type": "stream",
     "text": [
      "!!! WARNING: COULD NOT IMPORT rpy2, check R_HOME path exists: C:\\Program Files\\R\\R-4.3.2 !!!\n",
      "enter loading k-subgraphs file\n",
      "total time for finished loading k-subgraphs file:0s\n",
      "finished chunk #36 of 1185 pairs\n"
     ]
    },
    {
     "name": "stderr",
     "output_type": "stream",
     "text": [
      "Pairs dataset construction:  43%|█████████████████████████████████████▌                                                 | 38/88 [03:29<04:31,  5.44s/it]"
     ]
    },
    {
     "name": "stdout",
     "output_type": "stream",
     "text": [
      "!!! WARNING: COULD NOT IMPORT rpy2, check R_HOME path exists: C:\\Program Files\\R\\R-4.3.2 !!!\n",
      "enter loading k-subgraphs file\n",
      "total time for finished loading k-subgraphs file:0s\n",
      "finished chunk #37 of 1160 pairs\n"
     ]
    },
    {
     "name": "stderr",
     "output_type": "stream",
     "text": [
      "Pairs dataset construction:  44%|██████████████████████████████████████▌                                                | 39/88 [03:34<04:20,  5.32s/it]"
     ]
    },
    {
     "name": "stdout",
     "output_type": "stream",
     "text": [
      "!!! WARNING: COULD NOT IMPORT rpy2, check R_HOME path exists: C:\\Program Files\\R\\R-4.3.2 !!!\n",
      "enter loading k-subgraphs file\n",
      "total time for finished loading k-subgraphs file:0s\n",
      "finished chunk #38 of 1135 pairs\n"
     ]
    },
    {
     "name": "stderr",
     "output_type": "stream",
     "text": [
      "Pairs dataset construction:  45%|███████████████████████████████████████▌                                               | 40/88 [03:40<04:20,  5.43s/it]"
     ]
    },
    {
     "name": "stdout",
     "output_type": "stream",
     "text": [
      "!!! WARNING: COULD NOT IMPORT rpy2, check R_HOME path exists: C:\\Program Files\\R\\R-4.3.2 !!!\n",
      "enter loading k-subgraphs file\n",
      "total time for finished loading k-subgraphs file:0s\n",
      "finished chunk #39 of 1110 pairs\n"
     ]
    },
    {
     "name": "stderr",
     "output_type": "stream",
     "text": [
      "Pairs dataset construction:  47%|████████████████████████████████████████▌                                              | 41/88 [03:45<04:12,  5.37s/it]"
     ]
    },
    {
     "name": "stdout",
     "output_type": "stream",
     "text": [
      "!!! WARNING: COULD NOT IMPORT rpy2, check R_HOME path exists: C:\\Program Files\\R\\R-4.3.2 !!!\n",
      "enter loading k-subgraphs file\n",
      "total time for finished loading k-subgraphs file:0s\n",
      "finished chunk #40 of 1085 pairs\n"
     ]
    },
    {
     "name": "stderr",
     "output_type": "stream",
     "text": [
      "Pairs dataset construction:  48%|█████████████████████████████████████████▌                                             | 42/88 [03:51<04:05,  5.35s/it]"
     ]
    },
    {
     "name": "stdout",
     "output_type": "stream",
     "text": [
      "!!! WARNING: COULD NOT IMPORT rpy2, check R_HOME path exists: C:\\Program Files\\R\\R-4.3.2 !!!\n",
      "enter loading k-subgraphs file\n",
      "total time for finished loading k-subgraphs file:0s\n",
      "finished chunk #41 of 1060 pairs\n"
     ]
    },
    {
     "name": "stderr",
     "output_type": "stream",
     "text": [
      "Pairs dataset construction:  49%|██████████████████████████████████████████▌                                            | 43/88 [03:56<04:03,  5.42s/it]"
     ]
    },
    {
     "name": "stdout",
     "output_type": "stream",
     "text": [
      "!!! WARNING: COULD NOT IMPORT rpy2, check R_HOME path exists: C:\\Program Files\\R\\R-4.3.2 !!!\n",
      "enter loading k-subgraphs file\n",
      "total time for finished loading k-subgraphs file:0s\n",
      "finished chunk #42 of 1035 pairs\n"
     ]
    },
    {
     "name": "stderr",
     "output_type": "stream",
     "text": [
      "Pairs dataset construction:  50%|███████████████████████████████████████████▌                                           | 44/88 [04:02<03:59,  5.45s/it]"
     ]
    },
    {
     "name": "stdout",
     "output_type": "stream",
     "text": [
      "!!! WARNING: COULD NOT IMPORT rpy2, check R_HOME path exists: C:\\Program Files\\R\\R-4.3.2 !!!\n",
      "enter loading k-subgraphs file\n",
      "total time for finished loading k-subgraphs file:0s\n",
      "finished chunk #43 of 1010 pairs\n"
     ]
    },
    {
     "name": "stderr",
     "output_type": "stream",
     "text": [
      "Pairs dataset construction:  51%|████████████████████████████████████████████▍                                          | 45/88 [04:07<03:56,  5.50s/it]"
     ]
    },
    {
     "name": "stdout",
     "output_type": "stream",
     "text": [
      "!!! WARNING: COULD NOT IMPORT rpy2, check R_HOME path exists: C:\\Program Files\\R\\R-4.3.2 !!!\n",
      "enter loading k-subgraphs file\n",
      "total time for finished loading k-subgraphs file:0s\n",
      "finished chunk #44 of 985 pairs\n"
     ]
    },
    {
     "name": "stderr",
     "output_type": "stream",
     "text": [
      "Pairs dataset construction:  52%|█████████████████████████████████████████████▍                                         | 46/88 [04:13<03:54,  5.58s/it]"
     ]
    },
    {
     "name": "stdout",
     "output_type": "stream",
     "text": [
      "!!! WARNING: COULD NOT IMPORT rpy2, check R_HOME path exists: C:\\Program Files\\R\\R-4.3.2 !!!\n",
      "enter loading k-subgraphs file\n",
      "total time for finished loading k-subgraphs file:0s\n",
      "finished chunk #45 of 960 pairs\n"
     ]
    },
    {
     "name": "stderr",
     "output_type": "stream",
     "text": [
      "Pairs dataset construction:  53%|██████████████████████████████████████████████▍                                        | 47/88 [04:19<03:45,  5.50s/it]"
     ]
    },
    {
     "name": "stdout",
     "output_type": "stream",
     "text": [
      "!!! WARNING: COULD NOT IMPORT rpy2, check R_HOME path exists: C:\\Program Files\\R\\R-4.3.2 !!!\n",
      "enter loading k-subgraphs file\n",
      "total time for finished loading k-subgraphs file:0s\n",
      "finished chunk #46 of 935 pairs\n"
     ]
    },
    {
     "name": "stderr",
     "output_type": "stream",
     "text": [
      "Pairs dataset construction:  55%|███████████████████████████████████████████████▍                                       | 48/88 [04:24<03:39,  5.49s/it]"
     ]
    },
    {
     "name": "stdout",
     "output_type": "stream",
     "text": [
      "!!! WARNING: COULD NOT IMPORT rpy2, check R_HOME path exists: C:\\Program Files\\R\\R-4.3.2 !!!\n",
      "enter loading k-subgraphs file\n",
      "total time for finished loading k-subgraphs file:0s\n",
      "finished chunk #47 of 910 pairs\n"
     ]
    },
    {
     "name": "stderr",
     "output_type": "stream",
     "text": [
      "Pairs dataset construction:  56%|████████████████████████████████████████████████▍                                      | 49/88 [04:30<03:36,  5.55s/it]"
     ]
    },
    {
     "name": "stdout",
     "output_type": "stream",
     "text": [
      "!!! WARNING: COULD NOT IMPORT rpy2, check R_HOME path exists: C:\\Program Files\\R\\R-4.3.2 !!!\n",
      "enter loading k-subgraphs file\n",
      "total time for finished loading k-subgraphs file:0s\n",
      "finished chunk #48 of 885 pairs\n"
     ]
    },
    {
     "name": "stderr",
     "output_type": "stream",
     "text": [
      "Pairs dataset construction:  57%|█████████████████████████████████████████████████▍                                     | 50/88 [04:35<03:29,  5.52s/it]"
     ]
    },
    {
     "name": "stdout",
     "output_type": "stream",
     "text": [
      "!!! WARNING: COULD NOT IMPORT rpy2, check R_HOME path exists: C:\\Program Files\\R\\R-4.3.2 !!!\n",
      "enter loading k-subgraphs file\n",
      "total time for finished loading k-subgraphs file:0s\n",
      "finished chunk #49 of 860 pairs\n"
     ]
    },
    {
     "name": "stderr",
     "output_type": "stream",
     "text": [
      "Pairs dataset construction:  58%|██████████████████████████████████████████████████▍                                    | 51/88 [04:41<03:25,  5.55s/it]"
     ]
    },
    {
     "name": "stdout",
     "output_type": "stream",
     "text": [
      "!!! WARNING: COULD NOT IMPORT rpy2, check R_HOME path exists: C:\\Program Files\\R\\R-4.3.2 !!!\n",
      "enter loading k-subgraphs file\n",
      "total time for finished loading k-subgraphs file:0s\n",
      "finished chunk #50 of 835 pairs\n"
     ]
    },
    {
     "name": "stderr",
     "output_type": "stream",
     "text": [
      "Pairs dataset construction:  59%|███████████████████████████████████████████████████▍                                   | 52/88 [04:46<03:22,  5.62s/it]"
     ]
    },
    {
     "name": "stdout",
     "output_type": "stream",
     "text": [
      "!!! WARNING: COULD NOT IMPORT rpy2, check R_HOME path exists: C:\\Program Files\\R\\R-4.3.2 !!!\n",
      "enter loading k-subgraphs file\n",
      "total time for finished loading k-subgraphs file:0s\n",
      "finished chunk #51 of 810 pairs\n"
     ]
    },
    {
     "name": "stderr",
     "output_type": "stream",
     "text": [
      "Pairs dataset construction:  60%|████████████████████████████████████████████████████▍                                  | 53/88 [04:52<03:18,  5.67s/it]"
     ]
    },
    {
     "name": "stdout",
     "output_type": "stream",
     "text": [
      "!!! WARNING: COULD NOT IMPORT rpy2, check R_HOME path exists: C:\\Program Files\\R\\R-4.3.2 !!!\n",
      "enter loading k-subgraphs file\n",
      "total time for finished loading k-subgraphs file:0s\n",
      "finished chunk #52 of 785 pairs\n"
     ]
    },
    {
     "name": "stderr",
     "output_type": "stream",
     "text": [
      "Pairs dataset construction:  61%|█████████████████████████████████████████████████████▍                                 | 54/88 [04:58<03:11,  5.64s/it]"
     ]
    },
    {
     "name": "stdout",
     "output_type": "stream",
     "text": [
      "!!! WARNING: COULD NOT IMPORT rpy2, check R_HOME path exists: C:\\Program Files\\R\\R-4.3.2 !!!\n",
      "enter loading k-subgraphs file\n",
      "total time for finished loading k-subgraphs file:0s\n",
      "finished chunk #53 of 760 pairs\n"
     ]
    },
    {
     "name": "stderr",
     "output_type": "stream",
     "text": [
      "Pairs dataset construction:  62%|██████████████████████████████████████████████████████▍                                | 55/88 [05:03<03:02,  5.52s/it]"
     ]
    },
    {
     "name": "stdout",
     "output_type": "stream",
     "text": [
      "!!! WARNING: COULD NOT IMPORT rpy2, check R_HOME path exists: C:\\Program Files\\R\\R-4.3.2 !!!\n",
      "enter loading k-subgraphs file\n",
      "total time for finished loading k-subgraphs file:0s\n",
      "finished chunk #54 of 735 pairs\n"
     ]
    },
    {
     "name": "stderr",
     "output_type": "stream",
     "text": [
      "Pairs dataset construction:  64%|███████████████████████████████████████████████████████▎                               | 56/88 [05:09<02:57,  5.55s/it]"
     ]
    },
    {
     "name": "stdout",
     "output_type": "stream",
     "text": [
      "!!! WARNING: COULD NOT IMPORT rpy2, check R_HOME path exists: C:\\Program Files\\R\\R-4.3.2 !!!\n",
      "enter loading k-subgraphs file\n",
      "total time for finished loading k-subgraphs file:0s\n",
      "finished chunk #55 of 710 pairs\n"
     ]
    },
    {
     "name": "stderr",
     "output_type": "stream",
     "text": [
      "Pairs dataset construction:  65%|████████████████████████████████████████████████████████▎                              | 57/88 [05:14<02:48,  5.44s/it]"
     ]
    },
    {
     "name": "stdout",
     "output_type": "stream",
     "text": [
      "!!! WARNING: COULD NOT IMPORT rpy2, check R_HOME path exists: C:\\Program Files\\R\\R-4.3.2 !!!\n",
      "enter loading k-subgraphs file\n",
      "total time for finished loading k-subgraphs file:0s\n",
      "finished chunk #56 of 685 pairs\n"
     ]
    },
    {
     "name": "stderr",
     "output_type": "stream",
     "text": [
      "Pairs dataset construction:  66%|█████████████████████████████████████████████████████████▎                             | 58/88 [05:19<02:40,  5.35s/it]"
     ]
    },
    {
     "name": "stdout",
     "output_type": "stream",
     "text": [
      "!!! WARNING: COULD NOT IMPORT rpy2, check R_HOME path exists: C:\\Program Files\\R\\R-4.3.2 !!!\n",
      "enter loading k-subgraphs file\n",
      "total time for finished loading k-subgraphs file:0s\n",
      "finished chunk #57 of 660 pairs\n"
     ]
    },
    {
     "name": "stderr",
     "output_type": "stream",
     "text": [
      "Pairs dataset construction:  67%|██████████████████████████████████████████████████████████▎                            | 59/88 [05:25<02:36,  5.40s/it]"
     ]
    },
    {
     "name": "stdout",
     "output_type": "stream",
     "text": [
      "!!! WARNING: COULD NOT IMPORT rpy2, check R_HOME path exists: C:\\Program Files\\R\\R-4.3.2 !!!\n",
      "enter loading k-subgraphs file\n",
      "total time for finished loading k-subgraphs file:0s\n",
      "finished chunk #58 of 635 pairs\n"
     ]
    },
    {
     "name": "stderr",
     "output_type": "stream",
     "text": [
      "Pairs dataset construction:  68%|███████████████████████████████████████████████████████████▎                           | 60/88 [05:30<02:30,  5.38s/it]"
     ]
    },
    {
     "name": "stdout",
     "output_type": "stream",
     "text": [
      "!!! WARNING: COULD NOT IMPORT rpy2, check R_HOME path exists: C:\\Program Files\\R\\R-4.3.2 !!!\n",
      "enter loading k-subgraphs file\n",
      "total time for finished loading k-subgraphs file:0s\n",
      "finished chunk #59 of 610 pairs\n"
     ]
    },
    {
     "name": "stderr",
     "output_type": "stream",
     "text": [
      "Pairs dataset construction:  69%|████████████████████████████████████████████████████████████▎                          | 61/88 [05:36<02:27,  5.45s/it]"
     ]
    },
    {
     "name": "stdout",
     "output_type": "stream",
     "text": [
      "!!! WARNING: COULD NOT IMPORT rpy2, check R_HOME path exists: C:\\Program Files\\R\\R-4.3.2 !!!\n",
      "enter loading k-subgraphs file\n",
      "total time for finished loading k-subgraphs file:0s\n",
      "finished chunk #60 of 585 pairs\n"
     ]
    },
    {
     "name": "stderr",
     "output_type": "stream",
     "text": [
      "Pairs dataset construction:  70%|█████████████████████████████████████████████████████████████▎                         | 62/88 [05:41<02:22,  5.47s/it]"
     ]
    },
    {
     "name": "stdout",
     "output_type": "stream",
     "text": [
      "!!! WARNING: COULD NOT IMPORT rpy2, check R_HOME path exists: C:\\Program Files\\R\\R-4.3.2 !!!\n",
      "enter loading k-subgraphs file\n",
      "total time for finished loading k-subgraphs file:0s\n",
      "finished chunk #61 of 560 pairs\n"
     ]
    },
    {
     "name": "stderr",
     "output_type": "stream",
     "text": [
      "Pairs dataset construction:  72%|██████████████████████████████████████████████████████████████▎                        | 63/88 [05:46<02:12,  5.31s/it]"
     ]
    },
    {
     "name": "stdout",
     "output_type": "stream",
     "text": [
      "!!! WARNING: COULD NOT IMPORT rpy2, check R_HOME path exists: C:\\Program Files\\R\\R-4.3.2 !!!\n",
      "enter loading k-subgraphs file\n",
      "total time for finished loading k-subgraphs file:0s\n",
      "finished chunk #62 of 535 pairs\n"
     ]
    },
    {
     "name": "stderr",
     "output_type": "stream",
     "text": [
      "Pairs dataset construction:  73%|███████████████████████████████████████████████████████████████▎                       | 64/88 [05:51<02:07,  5.31s/it]"
     ]
    },
    {
     "name": "stdout",
     "output_type": "stream",
     "text": [
      "!!! WARNING: COULD NOT IMPORT rpy2, check R_HOME path exists: C:\\Program Files\\R\\R-4.3.2 !!!\n",
      "enter loading k-subgraphs file\n",
      "total time for finished loading k-subgraphs file:0s\n",
      "finished chunk #63 of 510 pairs\n"
     ]
    },
    {
     "name": "stderr",
     "output_type": "stream",
     "text": [
      "Pairs dataset construction:  74%|████████████████████████████████████████████████████████████████▎                      | 65/88 [05:57<02:04,  5.42s/it]"
     ]
    },
    {
     "name": "stdout",
     "output_type": "stream",
     "text": [
      "!!! WARNING: COULD NOT IMPORT rpy2, check R_HOME path exists: C:\\Program Files\\R\\R-4.3.2 !!!\n",
      "enter loading k-subgraphs file\n",
      "total time for finished loading k-subgraphs file:0s\n",
      "finished chunk #64 of 485 pairs\n"
     ]
    },
    {
     "name": "stderr",
     "output_type": "stream",
     "text": [
      "Pairs dataset construction:  75%|█████████████████████████████████████████████████████████████████▎                     | 66/88 [06:02<01:58,  5.39s/it]"
     ]
    },
    {
     "name": "stdout",
     "output_type": "stream",
     "text": [
      "!!! WARNING: COULD NOT IMPORT rpy2, check R_HOME path exists: C:\\Program Files\\R\\R-4.3.2 !!!\n",
      "enter loading k-subgraphs file\n",
      "total time for finished loading k-subgraphs file:0s\n",
      "finished chunk #65 of 460 pairs\n"
     ]
    },
    {
     "name": "stderr",
     "output_type": "stream",
     "text": [
      "Pairs dataset construction:  76%|██████████████████████████████████████████████████████████████████▏                    | 67/88 [06:08<01:52,  5.37s/it]"
     ]
    },
    {
     "name": "stdout",
     "output_type": "stream",
     "text": [
      "!!! WARNING: COULD NOT IMPORT rpy2, check R_HOME path exists: C:\\Program Files\\R\\R-4.3.2 !!!\n",
      "enter loading k-subgraphs file\n",
      "total time for finished loading k-subgraphs file:0s\n",
      "finished chunk #66 of 435 pairs\n"
     ]
    },
    {
     "name": "stderr",
     "output_type": "stream",
     "text": [
      "Pairs dataset construction:  77%|███████████████████████████████████████████████████████████████████▏                   | 68/88 [06:13<01:45,  5.30s/it]"
     ]
    },
    {
     "name": "stdout",
     "output_type": "stream",
     "text": [
      "!!! WARNING: COULD NOT IMPORT rpy2, check R_HOME path exists: C:\\Program Files\\R\\R-4.3.2 !!!\n",
      "enter loading k-subgraphs file\n",
      "total time for finished loading k-subgraphs file:0s\n",
      "finished chunk #67 of 410 pairs\n"
     ]
    },
    {
     "name": "stderr",
     "output_type": "stream",
     "text": [
      "Pairs dataset construction:  78%|████████████████████████████████████████████████████████████████████▏                  | 69/88 [06:18<01:40,  5.28s/it]"
     ]
    },
    {
     "name": "stdout",
     "output_type": "stream",
     "text": [
      "!!! WARNING: COULD NOT IMPORT rpy2, check R_HOME path exists: C:\\Program Files\\R\\R-4.3.2 !!!\n",
      "enter loading k-subgraphs file\n",
      "total time for finished loading k-subgraphs file:0s\n",
      "finished chunk #68 of 385 pairs\n"
     ]
    },
    {
     "name": "stderr",
     "output_type": "stream",
     "text": [
      "Pairs dataset construction:  80%|█████████████████████████████████████████████████████████████████████▏                 | 70/88 [06:23<01:36,  5.34s/it]"
     ]
    },
    {
     "name": "stdout",
     "output_type": "stream",
     "text": [
      "!!! WARNING: COULD NOT IMPORT rpy2, check R_HOME path exists: C:\\Program Files\\R\\R-4.3.2 !!!\n",
      "enter loading k-subgraphs file\n",
      "total time for finished loading k-subgraphs file:0s\n",
      "finished chunk #69 of 360 pairs\n"
     ]
    },
    {
     "name": "stderr",
     "output_type": "stream",
     "text": [
      "Pairs dataset construction:  81%|██████████████████████████████████████████████████████████████████████▏                | 71/88 [06:29<01:30,  5.35s/it]"
     ]
    },
    {
     "name": "stdout",
     "output_type": "stream",
     "text": [
      "!!! WARNING: COULD NOT IMPORT rpy2, check R_HOME path exists: C:\\Program Files\\R\\R-4.3.2 !!!\n",
      "enter loading k-subgraphs file\n",
      "total time for finished loading k-subgraphs file:0s\n",
      "finished chunk #70 of 335 pairs\n"
     ]
    },
    {
     "name": "stderr",
     "output_type": "stream",
     "text": [
      "Pairs dataset construction:  82%|███████████████████████████████████████████████████████████████████████▏               | 72/88 [06:34<01:25,  5.31s/it]"
     ]
    },
    {
     "name": "stdout",
     "output_type": "stream",
     "text": [
      "!!! WARNING: COULD NOT IMPORT rpy2, check R_HOME path exists: C:\\Program Files\\R\\R-4.3.2 !!!\n",
      "enter loading k-subgraphs file\n",
      "total time for finished loading k-subgraphs file:0s\n",
      "finished chunk #71 of 310 pairs\n"
     ]
    },
    {
     "name": "stderr",
     "output_type": "stream",
     "text": [
      "Pairs dataset construction:  83%|████████████████████████████████████████████████████████████████████████▏              | 73/88 [06:40<01:20,  5.39s/it]"
     ]
    },
    {
     "name": "stdout",
     "output_type": "stream",
     "text": [
      "!!! WARNING: COULD NOT IMPORT rpy2, check R_HOME path exists: C:\\Program Files\\R\\R-4.3.2 !!!\n",
      "enter loading k-subgraphs file\n",
      "total time for finished loading k-subgraphs file:0s\n",
      "finished chunk #72 of 285 pairs\n"
     ]
    },
    {
     "name": "stderr",
     "output_type": "stream",
     "text": [
      "Pairs dataset construction:  84%|█████████████████████████████████████████████████████████████████████████▏             | 74/88 [06:45<01:14,  5.34s/it]"
     ]
    },
    {
     "name": "stdout",
     "output_type": "stream",
     "text": [
      "!!! WARNING: COULD NOT IMPORT rpy2, check R_HOME path exists: C:\\Program Files\\R\\R-4.3.2 !!!\n",
      "enter loading k-subgraphs file\n",
      "total time for finished loading k-subgraphs file:0s\n",
      "finished chunk #73 of 260 pairs\n"
     ]
    },
    {
     "name": "stderr",
     "output_type": "stream",
     "text": [
      "Pairs dataset construction:  85%|██████████████████████████████████████████████████████████████████████████▏            | 75/88 [06:50<01:09,  5.36s/it]"
     ]
    },
    {
     "name": "stdout",
     "output_type": "stream",
     "text": [
      "!!! WARNING: COULD NOT IMPORT rpy2, check R_HOME path exists: C:\\Program Files\\R\\R-4.3.2 !!!\n",
      "enter loading k-subgraphs file\n",
      "total time for finished loading k-subgraphs file:0s\n",
      "finished chunk #74 of 235 pairs\n"
     ]
    },
    {
     "name": "stderr",
     "output_type": "stream",
     "text": [
      "Pairs dataset construction:  86%|███████████████████████████████████████████████████████████████████████████▏           | 76/88 [06:56<01:05,  5.44s/it]"
     ]
    },
    {
     "name": "stdout",
     "output_type": "stream",
     "text": [
      "!!! WARNING: COULD NOT IMPORT rpy2, check R_HOME path exists: C:\\Program Files\\R\\R-4.3.2 !!!\n",
      "enter loading k-subgraphs file\n",
      "total time for finished loading k-subgraphs file:0s\n",
      "finished chunk #75 of 210 pairs\n"
     ]
    },
    {
     "name": "stderr",
     "output_type": "stream",
     "text": [
      "Pairs dataset construction:  88%|████████████████████████████████████████████████████████████████████████████▏          | 77/88 [07:01<00:59,  5.43s/it]"
     ]
    },
    {
     "name": "stdout",
     "output_type": "stream",
     "text": [
      "!!! WARNING: COULD NOT IMPORT rpy2, check R_HOME path exists: C:\\Program Files\\R\\R-4.3.2 !!!\n",
      "enter loading k-subgraphs file\n",
      "total time for finished loading k-subgraphs file:0s\n",
      "finished chunk #76 of 185 pairs\n"
     ]
    },
    {
     "name": "stderr",
     "output_type": "stream",
     "text": [
      "Pairs dataset construction:  89%|█████████████████████████████████████████████████████████████████████████████          | 78/88 [07:06<00:53,  5.33s/it]"
     ]
    },
    {
     "name": "stdout",
     "output_type": "stream",
     "text": [
      "!!! WARNING: COULD NOT IMPORT rpy2, check R_HOME path exists: C:\\Program Files\\R\\R-4.3.2 !!!\n",
      "enter loading k-subgraphs file\n",
      "total time for finished loading k-subgraphs file:0s\n",
      "finished chunk #77 of 160 pairs\n"
     ]
    },
    {
     "name": "stderr",
     "output_type": "stream",
     "text": [
      "Pairs dataset construction:  90%|██████████████████████████████████████████████████████████████████████████████         | 79/88 [07:12<00:47,  5.32s/it]"
     ]
    },
    {
     "name": "stdout",
     "output_type": "stream",
     "text": [
      "!!! WARNING: COULD NOT IMPORT rpy2, check R_HOME path exists: C:\\Program Files\\R\\R-4.3.2 !!!\n",
      "enter loading k-subgraphs file\n",
      "total time for finished loading k-subgraphs file:0s\n",
      "finished chunk #78 of 135 pairs\n"
     ]
    },
    {
     "name": "stderr",
     "output_type": "stream",
     "text": [
      "Pairs dataset construction:  91%|███████████████████████████████████████████████████████████████████████████████        | 80/88 [07:17<00:42,  5.35s/it]"
     ]
    },
    {
     "name": "stdout",
     "output_type": "stream",
     "text": [
      "!!! WARNING: COULD NOT IMPORT rpy2, check R_HOME path exists: C:\\Program Files\\R\\R-4.3.2 !!!\n",
      "enter loading k-subgraphs file\n",
      "total time for finished loading k-subgraphs file:0s\n",
      "finished chunk #79 of 110 pairs\n"
     ]
    },
    {
     "name": "stderr",
     "output_type": "stream",
     "text": [
      "Pairs dataset construction:  92%|████████████████████████████████████████████████████████████████████████████████       | 81/88 [07:22<00:37,  5.36s/it]"
     ]
    },
    {
     "name": "stdout",
     "output_type": "stream",
     "text": [
      "!!! WARNING: COULD NOT IMPORT rpy2, check R_HOME path exists: C:\\Program Files\\R\\R-4.3.2 !!!\n",
      "enter loading k-subgraphs file\n",
      "total time for finished loading k-subgraphs file:0s\n",
      "finished chunk #80 of 85 pairs\n"
     ]
    },
    {
     "name": "stderr",
     "output_type": "stream",
     "text": [
      "Pairs dataset construction:  93%|█████████████████████████████████████████████████████████████████████████████████      | 82/88 [07:28<00:32,  5.48s/it]"
     ]
    },
    {
     "name": "stdout",
     "output_type": "stream",
     "text": [
      "!!! WARNING: COULD NOT IMPORT rpy2, check R_HOME path exists: C:\\Program Files\\R\\R-4.3.2 !!!\n",
      "enter loading k-subgraphs file\n",
      "total time for finished loading k-subgraphs file:0s\n",
      "finished chunk #81 of 60 pairs\n"
     ]
    },
    {
     "name": "stderr",
     "output_type": "stream",
     "text": [
      "Pairs dataset construction:  94%|██████████████████████████████████████████████████████████████████████████████████     | 83/88 [07:34<00:27,  5.44s/it]"
     ]
    },
    {
     "name": "stdout",
     "output_type": "stream",
     "text": [
      "!!! WARNING: COULD NOT IMPORT rpy2, check R_HOME path exists: C:\\Program Files\\R\\R-4.3.2 !!!\n",
      "enter loading k-subgraphs file\n",
      "total time for finished loading k-subgraphs file:0s\n",
      "finished chunk #82 of 35 pairs\n"
     ]
    },
    {
     "name": "stderr",
     "output_type": "stream",
     "text": [
      "Pairs dataset construction:  95%|███████████████████████████████████████████████████████████████████████████████████    | 84/88 [07:39<00:21,  5.47s/it]"
     ]
    },
    {
     "name": "stdout",
     "output_type": "stream",
     "text": [
      "!!! WARNING: COULD NOT IMPORT rpy2, check R_HOME path exists: C:\\Program Files\\R\\R-4.3.2 !!!\n",
      "enter loading k-subgraphs file\n",
      "total time for finished loading k-subgraphs file:0s\n",
      "finished chunk #83 of 10 pairs\n"
     ]
    },
    {
     "name": "stderr",
     "output_type": "stream",
     "text": [
      "Pairs dataset construction:  97%|████████████████████████████████████████████████████████████████████████████████████   | 85/88 [07:44<00:16,  5.37s/it]"
     ]
    },
    {
     "name": "stdout",
     "output_type": "stream",
     "text": [
      "!!! WARNING: COULD NOT IMPORT rpy2, check R_HOME path exists: C:\\Program Files\\R\\R-4.3.2 !!!\n",
      "enter loading k-subgraphs file\n",
      "total time for finished loading k-subgraphs file:0s\n",
      "finished chunk #84 of 0 pairs\n"
     ]
    },
    {
     "name": "stderr",
     "output_type": "stream",
     "text": [
      "Pairs dataset construction:  98%|█████████████████████████████████████████████████████████████████████████████████████  | 86/88 [07:49<00:10,  5.33s/it]"
     ]
    },
    {
     "name": "stdout",
     "output_type": "stream",
     "text": [
      "!!! WARNING: COULD NOT IMPORT rpy2, check R_HOME path exists: C:\\Program Files\\R\\R-4.3.2 !!!\n",
      "enter loading k-subgraphs file\n",
      "total time for finished loading k-subgraphs file:0s\n",
      "finished chunk #85 of 0 pairs\n"
     ]
    },
    {
     "name": "stderr",
     "output_type": "stream",
     "text": [
      "Pairs dataset construction:  99%|██████████████████████████████████████████████████████████████████████████████████████ | 87/88 [07:55<00:05,  5.37s/it]"
     ]
    },
    {
     "name": "stdout",
     "output_type": "stream",
     "text": [
      "!!! WARNING: COULD NOT IMPORT rpy2, check R_HOME path exists: C:\\Program Files\\R\\R-4.3.2 !!!\n",
      "enter loading k-subgraphs file\n",
      "total time for finished loading k-subgraphs file:0s\n",
      "finished chunk #86 of 0 pairs\n"
     ]
    },
    {
     "name": "stderr",
     "output_type": "stream",
     "text": [
      "Pairs dataset construction: 100%|███████████████████████████████████████████████████████████████████████████████████████| 88/88 [08:00<00:00,  5.30s/it]"
     ]
    },
    {
     "name": "stdout",
     "output_type": "stream",
     "text": [
      "!!! WARNING: COULD NOT IMPORT rpy2, check R_HOME path exists: C:\\Program Files\\R\\R-4.3.2 !!!\n",
      "enter loading k-subgraphs file\n",
      "total time for finished loading k-subgraphs file:0s\n",
      "finished chunk #87 of 0 pairs\n"
     ]
    },
    {
     "name": "stderr",
     "output_type": "stream",
     "text": [
      "Pairs dataset construction: 100%|███████████████████████████████████████████████████████████████████████████████████████| 88/88 [08:01<00:00,  5.47s/it]"
     ]
    },
    {
     "name": "stdout",
     "output_type": "stream",
     "text": [
      "total time for finished generate_pairs_data_set:484s\n"
     ]
    },
    {
     "name": "stderr",
     "output_type": "stream",
     "text": [
      "\n"
     ]
    }
   ],
   "source": [
    "brute_force_k_subgraph_annotated_graphs, G_perturbed, G_sub = generate_pairs_data_set(circuit_base_dir=circuit_base_dir, circuit_file_name = 'comp1_2')"
   ]
  },
  {
   "cell_type": "code",
   "execution_count": 19,
   "metadata": {},
   "outputs": [
    {
     "data": {
      "text/plain": [
       "420"
      ]
     },
     "execution_count": 19,
     "metadata": {},
     "output_type": "execute_result"
    }
   ],
   "source": [
    "len(brute_force_k_subgraph_annotated_graphs)"
   ]
  },
  {
   "cell_type": "code",
   "execution_count": 20,
   "metadata": {},
   "outputs": [
    {
     "data": {
      "text/plain": [
       "12"
      ]
     },
     "execution_count": 20,
     "metadata": {},
     "output_type": "execute_result"
    }
   ],
   "source": [
    "len(G_perturbed)"
   ]
  },
  {
   "cell_type": "code",
   "execution_count": 21,
   "metadata": {},
   "outputs": [
    {
     "name": "stdout",
     "output_type": "stream",
     "text": [
      "2085\n",
      "2060\n",
      "2035\n",
      "2010\n",
      "1985\n",
      "1960\n",
      "1935\n",
      "1910\n",
      "1885\n",
      "1860\n",
      "1835\n",
      "1810\n",
      "1785\n",
      "1760\n",
      "1735\n",
      "1710\n",
      "1685\n",
      "1660\n",
      "1635\n",
      "1610\n",
      "1585\n",
      "1560\n",
      "1535\n",
      "1510\n",
      "1485\n",
      "1460\n",
      "1435\n",
      "1410\n",
      "1385\n",
      "1360\n",
      "1335\n",
      "1310\n",
      "1285\n",
      "1260\n",
      "1235\n",
      "1210\n",
      "1185\n",
      "1160\n",
      "1135\n",
      "1110\n",
      "1085\n",
      "1060\n",
      "1035\n",
      "1010\n",
      "985\n",
      "960\n",
      "935\n",
      "910\n",
      "885\n",
      "860\n",
      "835\n",
      "810\n",
      "785\n",
      "760\n",
      "735\n",
      "710\n",
      "685\n",
      "660\n",
      "635\n",
      "610\n",
      "585\n",
      "560\n",
      "535\n",
      "510\n",
      "485\n",
      "460\n",
      "435\n",
      "410\n",
      "385\n",
      "360\n",
      "335\n",
      "310\n",
      "285\n",
      "260\n",
      "235\n",
      "210\n",
      "185\n",
      "160\n",
      "135\n",
      "110\n",
      "85\n",
      "60\n",
      "35\n",
      "10\n",
      "0\n",
      "0\n",
      "0\n",
      "0\n"
     ]
    }
   ],
   "source": [
    "brute_force_train_samples_list = []\n",
    "for chunk_index in range(0, 88):\n",
    "    with open(f'brute_force_pairs{os.sep}{chunk_index}.p', 'rb') as file:\n",
    "        tmp_brute_force_train_samples_list = pickle.load(file)\n",
    "    print(len(tmp_brute_force_train_samples_list))\n",
    "    brute_force_train_samples_list += tmp_brute_force_train_samples_list"
   ]
  },
  {
   "cell_type": "code",
   "execution_count": null,
   "metadata": {},
   "outputs": [],
   "source": [
    "#TODO - make sure no ismorphic graphs, if there are make some manipulation"
   ]
  },
  {
   "cell_type": "code",
   "execution_count": 22,
   "metadata": {},
   "outputs": [],
   "source": [
    "used_train_samples_list = brute_force_train_samples_list"
   ]
  },
  {
   "cell_type": "code",
   "execution_count": 23,
   "metadata": {
    "scrolled": true
   },
   "outputs": [
    {
     "data": {
      "text/plain": [
       "87990"
      ]
     },
     "execution_count": 23,
     "metadata": {},
     "output_type": "execute_result"
    }
   ],
   "source": [
    "len(used_train_samples_list)"
   ]
  },
  {
   "cell_type": "code",
   "execution_count": 48,
   "metadata": {},
   "outputs": [],
   "source": [
    "positive_examples = [pair for pair in used_train_samples_list if pair.is_negative_sample==False ]"
   ]
  },
  {
   "cell_type": "code",
   "execution_count": 50,
   "metadata": {},
   "outputs": [],
   "source": [
    "positive_examples_amount = len(positive_examples)"
   ]
  },
  {
   "cell_type": "code",
   "execution_count": 86,
   "metadata": {},
   "outputs": [
    {
     "data": {
      "text/plain": [
       "2916"
      ]
     },
     "execution_count": 86,
     "metadata": {},
     "output_type": "execute_result"
    }
   ],
   "source": [
    "positive_examples_amount"
   ]
  },
  {
   "cell_type": "code",
   "execution_count": 101,
   "metadata": {},
   "outputs": [],
   "source": [
    "positive_examples_graphs_labels = set([pair.subgraph.label for pair in positive_examples] + [pair.masked_graph.label for pair in positive_examples])"
   ]
  },
  {
   "cell_type": "code",
   "execution_count": 102,
   "metadata": {},
   "outputs": [],
   "source": [
    "positive_examples_graphs = [g for g in brute_force_k_subgraph_annotated_graphs if g.label in positive_examples_graphs_labels ]"
   ]
  },
  {
   "cell_type": "code",
   "execution_count": 103,
   "metadata": {},
   "outputs": [
    {
     "data": {
      "text/plain": [
       "414"
      ]
     },
     "execution_count": 103,
     "metadata": {},
     "output_type": "execute_result"
    }
   ],
   "source": [
    "len(positive_examples_graphs)"
   ]
  },
  {
   "cell_type": "code",
   "execution_count": 104,
   "metadata": {},
   "outputs": [
    {
     "data": {
      "text/plain": [
       "12"
      ]
     },
     "execution_count": 104,
     "metadata": {},
     "output_type": "execute_result"
    }
   ],
   "source": [
    "len(positive_examples_graphs[0].g)"
   ]
  },
  {
   "cell_type": "code",
   "execution_count": 105,
   "metadata": {},
   "outputs": [
    {
     "data": {
      "text/plain": [
       "NodeView((0, 1, 2, 3, 4, 5, 6, 7, 8, 9, 10, 11))"
      ]
     },
     "execution_count": 105,
     "metadata": {},
     "output_type": "execute_result"
    }
   ],
   "source": [
    "positive_examples_graphs[0].g.nodes"
   ]
  },
  {
   "cell_type": "code",
   "execution_count": 106,
   "metadata": {},
   "outputs": [
    {
     "data": {
      "text/plain": [
       "[8, 9, 10, 11]"
      ]
     },
     "execution_count": 106,
     "metadata": {},
     "output_type": "execute_result"
    }
   ],
   "source": [
    "list(nx.isolates(positive_examples_graphs[0].g))"
   ]
  },
  {
   "cell_type": "code",
   "execution_count": 110,
   "metadata": {},
   "outputs": [],
   "source": [
    "# why 372 choose 2 does not produce 2916? (if g1 is isomorphic to g2, and g2 to g3, then g1 should be to g3)\n",
    "# -> since each g1 has its own set of isomorphic graphs\n",
    "total_isomorphic_pairs_amount = 0\n",
    "for i, candidate_isomorphic_graph in enumerate(positive_examples_graphs):\n",
    "    candidate_g = candidate_isomorphic_graph.g.copy()\n",
    "    remove_isolated_nodes_from_graph(candidate_g)\n",
    "    for j in range(i+1, len(positive_examples_graphs)):\n",
    "        candidate_g2 = positive_examples_graphs[j].g.copy()\n",
    "        remove_isolated_nodes_from_graph(candidate_g2)\n",
    "        if nx.is_isomorphic(candidate_g2, candidate_g):\n",
    "            total_isomorphic_pairs_amount += 1"
   ]
  },
  {
   "cell_type": "code",
   "execution_count": 111,
   "metadata": {},
   "outputs": [
    {
     "data": {
      "text/plain": [
       "2916"
      ]
     },
     "execution_count": 111,
     "metadata": {},
     "output_type": "execute_result"
    }
   ],
   "source": [
    "total_isomorphic_pairs_amount "
   ]
  },
  {
   "cell_type": "code",
   "execution_count": 124,
   "metadata": {},
   "outputs": [],
   "source": [
    "# histogram of isomorphic pairs per k_subgraph\n",
    "\n",
    "k_subgraph_label_to_total_isomorphic_pairs_amount_map = {}\n",
    "\n",
    "for target_label, k_subgraph in enumerate(brute_force_k_subgraph_annotated_graphs):\n",
    "    isomorphic_pairs_amount = 0\n",
    "    target_k_subgraph = k_subgraph.g.copy()\n",
    "    remove_isolated_nodes_from_graph(target_k_subgraph)\n",
    "    \n",
    "    for candidate_label, candidate_isomorphic_graph in enumerate(brute_force_k_subgraph_annotated_graphs):\n",
    "        if target_label == candidate_label:\n",
    "            continue\n",
    "        candidate_g = candidate_isomorphic_graph.g.copy()\n",
    "        remove_isolated_nodes_from_graph(candidate_g)\n",
    "        if nx.is_isomorphic(target_k_subgraph, candidate_g):\n",
    "            isomorphic_pairs_amount += 1\n",
    "    k_subgraph_label_to_total_isomorphic_pairs_amount_map[target_label] = isomorphic_pairs_amount"
   ]
  },
  {
   "cell_type": "code",
   "execution_count": 126,
   "metadata": {},
   "outputs": [
    {
     "data": {
      "image/png": "[encoded data removed]",
      "text/plain": [
       "<Figure size 1500x500 with 1 Axes>"
      ]
     },
     "metadata": {},
     "output_type": "display_data"
    }
   ],
   "source": [
    "plot_map(k_subgraph_label_to_total_isomorphic_pairs_amount_map, 'label', 'count', 'isomorphic graphs count per k_subgraph')\n",
    "# 6 k_subgraphs with no isomophic examples"
   ]
  },
  {
   "cell_type": "code",
   "execution_count": 127,
   "metadata": {},
   "outputs": [
    {
     "name": "stdout",
     "output_type": "stream",
     "text": [
      "97\n",
      "155\n",
      "189\n",
      "248\n",
      "370\n",
      "398\n"
     ]
    }
   ],
   "source": [
    "for label, isomorphic_pairs_count in k_subgraph_label_to_total_isomorphic_pairs_amount_map.items():\n",
    "    if isomorphic_pairs_count == 0:\n",
    "        print(label)"
   ]
  },
  {
   "cell_type": "code",
   "execution_count": 128,
   "metadata": {},
   "outputs": [
    {
     "data": {
      "text/plain": [
       "NodeView((0, 1, 2, 3, 4, 5, 6, 7))"
      ]
     },
     "execution_count": 128,
     "metadata": {},
     "output_type": "execute_result"
    }
   ],
   "source": [
    "target_k_subgraph_label = 97\n",
    "target_graph = positive_examples_graphs[target_k_subgraph_label].g.copy() #G_sub.copy()\n",
    "remove_isolated_nodes_from_graph(target_graph)\n",
    "target_graph.nodes"
   ]
  },
  {
   "cell_type": "code",
   "execution_count": 129,
   "metadata": {},
   "outputs": [],
   "source": [
    "hidden_dim = 16\n",
    "num_layers = 5\n",
    "num_mlp_layers = 2\n",
    "model_factory_func = lambda device: GraphCNN(num_layers=num_layers, num_mlp_layers = num_mlp_layers, input_dim=input_dim, hidden_dim=hidden_dim, output_dim=1, final_dropout=0.5, learn_eps=False, graph_pooling_type=\"sum\", neighbor_pooling_type=\"sum\", device=device)\n",
    "solver_params[\"batch_size\"] = 512 * 8\n",
    "solver_params[\"k_update_plot\"] = 1\n",
    "solver_params[\"lr\"] = 1e-1\n",
    "solver_params[\"max_epochs\"] = 200\n",
    "current_trainer, graph_metric_nn, model = init_embedding_net_and_trainer(model_factory_func, solver_params, problem_params, graph_metric_nn_checkpoint_path=None)"
   ]
  },
  {
   "cell_type": "code",
   "execution_count": 130,
   "metadata": {},
   "outputs": [
    {
     "name": "stderr",
     "output_type": "stream",
     "text": [
      "\n",
      "KeyboardInterrupt\n",
      "\n"
     ]
    }
   ],
   "source": [
    "current_trainer.train(processes_device_ids=processes_device_ids, use_existing_data_loaders=False, train_samples_list=used_train_samples_list, val_samples_list=[])"
   ]
  }
 ],
 "metadata": {
  "kernelspec": {
   "display_name": "Python 3 (ipykernel)",
   "language": "python",
   "name": "python3"
  },
  "language_info": {
   "codemirror_mode": {
    "name": "ipython",
    "version": 3
   },
   "file_extension": ".py",
   "mimetype": "text/x-python",
   "name": "python",
   "nbconvert_exporter": "python",
   "pygments_lexer": "ipython3",
   "version": "3.8.10"
  }
 },
 "nbformat": 4,
 "nbformat_minor": 4
}
