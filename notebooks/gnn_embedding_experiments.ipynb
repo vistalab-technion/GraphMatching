{
 "cells": [
  {
   "cell_type": "markdown",
   "metadata": {
    "collapsed": false,
    "jupyter": {
     "outputs_hidden": false
    }
   },
   "source": [
    "Imports"
   ]
  },
  {
   "cell_type": "code",
   "execution_count": 1,
   "metadata": {},
   "outputs": [],
   "source": [
    "import sys\n",
    "sys.path.append(\"/home/sanketh/DANI/GraphMatching/\")\n",
    "import torch.multiprocessing as mp\n",
    "mp.set_start_method(\"spawn\")"
   ]
  },
  {
   "cell_type": "code",
   "execution_count": 2,
   "metadata": {
    "collapsed": false,
    "jupyter": {
     "outputs_hidden": false
    },
    "pycharm": {
     "name": "#%%\n"
    }
   },
   "outputs": [],
   "source": [
    "import pathlib\n",
    "import os\n",
    "import numpy as np\n",
    "import torch\n",
    "from torch import optim\n",
    "from subgraph_matching_via_nn.data.data_loaders import load_graph\n",
    "from powerful_gnns.util import S2VGraph\n",
    "from powerful_gnns.util import load_data_given_graph_list_and_label_map\n",
    "from powerful_gnns.models.graphcnn import GraphCNN\n",
    "from powerful_gnns.util import separate_data\n",
    "from powerful_gnns.classifier_training import train, test\n",
    "from common.EmbeddingCalculationsService import pairwise_l2_distance, show_distance_matrix, \\\n",
    "    calculate_energy_based_hidden_rep\n",
    "from subgraph_matching_via_nn.training.PairSampleInfo import Pair_Sample_Info\n",
    "from subgraph_matching_via_nn.data.annotated_graph import AnnotatedGraph\n",
    "from subgraph_matching_via_nn.graph_metric_networks.graph_metric_nn import MLPGraphMetricNetwork\n",
    "from subgraph_matching_via_nn.graph_metric_networks.embedding_metric_nn import EmbeddingMetricNetwork\n",
    "from subgraph_matching_via_nn.graph_embedding_networks.gnn_embedding_network import GNNEmbeddingNetwork\n",
    "from subgraph_matching_via_nn.training.trainer.S2VGraphEmbeddingSimilarityMetricTrainer import \\\n",
    "    S2VGraphEmbeddingSimilarityMetricTrainer\n",
    "from subgraph_matching_via_nn.graph_metric_networks.graph_metric_nn import SingleEmbeddingGraphMetricNetwork\n",
    "from subgraph_matching_via_nn.graph_metric_networks.graph_metric_nn import S2VGraphEmbeddingGraphMetricNetwork\n",
    "from networkx import NetworkXError\n",
    "import itertools\n",
    "import networkx as nx\n",
    "from common.parallel_computation import tqdm_joblib\n",
    "import random\n",
    "from tqdm import tqdm\n",
    "from joblib import Parallel, delayed\n",
    "from os import cpu_count\n",
    "import pickle\n",
    "from common.graph_utils import GED_graph_generator"
   ]
  },
  {
   "cell_type": "code",
   "execution_count": null,
   "outputs": [],
   "source": [
    "import wwl\n",
    "from wwl import laplacian_kernel\n",
    "import networkx as nx\n",
    "from igraph import Graph\n",
    "\n",
    "def get_graph_wl_distances(graphs, node_label):\n",
    "    igraphs = [Graph() for i in range(len(graphs))]\n",
    "    igraphs = [igraph.from_networkx(graph) for igraph, graph in zip(igraphs, graphs)]\n",
    "    kernel_values = wwl.pairwise_wasserstein_distance(igraphs, [len(igraphs)-1], enforce_continuous=True, num_iterations=10)\n",
    "    kernel_values = laplacian_kernel(kernel_values) #normalize energey\n",
    "\n",
    "    # gk_wl = WL_metric.GK_WL()\n",
    "    # kernel_values = gk_wl.compare_list(graphs, h=5, node_label=node_label)\n",
    "    return 1- kernel_values\n",
    "    #return np.round(1 - kernel_values, decimals=4)"
   ],
   "metadata": {
    "collapsed": false,
    "pycharm": {
     "name": "#%%\n"
    }
   }
  },
  {
   "cell_type": "code",
   "execution_count": 4,
   "metadata": {},
   "outputs": [],
   "source": [
    "def generate_s2v_graphs(networkx_graphs, print_stats=True):\n",
    "    g_list = []\n",
    "    label_dict = {}\n",
    "    for networkx_graph in networkx_graphs:\n",
    "        g_list.append(S2VGraph(networkx_graph, label=None))\n",
    "\n",
    "        if not label in label_dict:\n",
    "            mapped = len(label_dict)\n",
    "            label_dict[label] = mapped\n",
    "\n",
    "    graphs, _ = load_data_given_graph_list_and_label_map(g_list, label_dict, degree_as_tag=True, device=device, print_stats=print_stats)\n",
    "    for s2v_graph in graphs:\n",
    "        # convert graph features here, not only in trainer! (heatmap is probably wrong)\n",
    "        annotated_graph = AnnotatedGraph(s2v_graph.g)\n",
    "        s2v_graph.node_features = annotated_graph.node_indicator.to(device=device)\n",
    "\n",
    "    return graphs"
   ]
  },
  {
   "cell_type": "code",
   "execution_count": 5,
   "metadata": {
    "collapsed": false,
    "jupyter": {
     "outputs_hidden": false
    },
    "pycharm": {
     "name": "#%%\n"
    }
   },
   "outputs": [],
   "source": [
    "goal_subcircuit_name = 'alu'\n",
    "DATA_PATH = 'C:/Users/kogan/OneDrive/Desktop/Research/AMIT/GraphMatching/subgraph_matching_via_nn/data/subcircuits/'\n",
    "DATA_PATH = '../subgraph_matching_via_nn/data/subcircuits/'\n",
    "\n",
    "desktop = pathlib.Path(DATA_PATH)\n",
    "subgraphs = []\n",
    "labels = []\n",
    "for circuit_dir in desktop.iterdir():\n",
    "    if circuit_dir.is_dir():\n",
    "        for subcircuit_file in circuit_dir.iterdir():\n",
    "            if subcircuit_file.is_file():\n",
    "                file_name = subcircuit_file.name\n",
    "                if file_name == 'full_graph.p':\n",
    "                    file_rel_path = f\"{os.sep}{file_name}\"\n",
    "                    loader_params = {\n",
    "                     'data_path' : str(circuit_dir),\n",
    "                     'g_full_path': file_rel_path,\n",
    "                     'g_sub_path': file_rel_path}\n",
    "\n",
    "                    sub_graph = \\\n",
    "                        load_graph(type='subcircuit',\n",
    "                                   loader_params=loader_params)\n",
    "\n",
    "                    if goal_subcircuit_name in circuit_dir.name:\n",
    "                        labels.append(1)\n",
    "                    else:\n",
    "                        # continue #TODO?\n",
    "                        labels.append(0)\n",
    "                    subgraphs.append(sub_graph)\n",
    "\n",
    "labels = np.array(labels, dtype='float32')\n",
    "N = len(subgraphs)\n",
    "N_training = int(2 / 3 * N)"
   ]
  },
  {
   "cell_type": "code",
   "execution_count": 6,
   "metadata": {
    "collapsed": false,
    "jupyter": {
     "outputs_hidden": false
    },
    "pycharm": {
     "name": "#%%\n"
    }
   },
   "outputs": [],
   "source": [
    "subgraphs = []\n",
    "labels = []\n",
    "\n",
    "circuit_base_dir = 'C:\\\\Users\\\\kogan\\\\OneDrive\\\\Desktop\\\\Research\\\\AMIT\\\\GraphMatching\\\\subgraph_matching_via_nn\\\\data\\\\subcircuits\\\\'\n",
    "circuit_base_dir = '/home/sanketh/DANI/GraphMatching/subgraph_matching_via_nn/data/subcircuits/'\n",
    "\n",
    "\n",
    "for circuit_file_name in ['adder_4', 'alu_4', 'alu_8', 'alu_16', 'alu_32', 'mul_4_4', 'mul_4_8', 'mul_8_8', 'mul_16_16', 'mul_16_32']:\n",
    "    file_rel_path = 'full_graph.p'\n",
    "    circuit_dir = f\"{circuit_base_dir}{circuit_file_name}{os.sep}\"\n",
    "    loader_params = {\n",
    "     'data_path' : str(circuit_dir),\n",
    "     'g_full_path': file_rel_path,\n",
    "     'g_sub_path': file_rel_path}\n",
    "\n",
    "    sub_graph = \\\n",
    "        load_graph(type='subcircuit',\n",
    "                   loader_params=loader_params)\n",
    "    subgraphs.append(sub_graph)\n",
    "    labels.append(0)\n",
    "labels[0] = 1\n",
    "\n",
    "N = len(subgraphs)\n",
    "N_training = int(2 / 3 * N)"
   ]
  },
  {
   "cell_type": "markdown",
   "metadata": {
    "collapsed": false,
    "jupyter": {
     "outputs_hidden": false
    }
   },
   "source": [
    "Transform graphs into S2VGraph-s"
   ]
  },
  {
   "cell_type": "code",
   "execution_count": 7,
   "metadata": {
    "collapsed": false,
    "jupyter": {
     "outputs_hidden": false
    },
    "pycharm": {
     "name": "#%%\n"
    }
   },
   "outputs": [],
   "source": [
    "g_list = []\n",
    "label_dict = {}\n",
    "for subgraph, label in zip(subgraphs, labels):\n",
    "    g_list.append(S2VGraph(subgraph.G, label))\n",
    "\n",
    "    if not label in label_dict:\n",
    "        mapped = len(label_dict)\n",
    "        label_dict[label] = mapped"
   ]
  },
  {
   "cell_type": "markdown",
   "metadata": {
    "collapsed": false,
    "jupyter": {
     "outputs_hidden": false
    }
   },
   "source": [
    "Process graph features"
   ]
  },
  {
   "cell_type": "code",
   "execution_count": 8,
   "metadata": {
    "collapsed": false,
    "jupyter": {
     "outputs_hidden": false
    },
    "pycharm": {
     "name": "#%%\n"
    }
   },
   "outputs": [
    {
     "name": "stdout",
     "output_type": "stream",
     "text": [
      "# classes: 2\n",
      "# maximum node tag: 48\n",
      "# data: 10\n"
     ]
    }
   ],
   "source": [
    "device = 'cpu' if torch.cuda.is_available() else 'cpu'\n",
    "\n",
    "graphs, num_classes = load_data_given_graph_list_and_label_map(g_list, label_dict, degree_as_tag=True, device=device)"
   ]
  },
  {
   "cell_type": "markdown",
   "metadata": {
    "collapsed": false,
    "jupyter": {
     "outputs_hidden": false
    }
   },
   "source": [
    "Setup model and training"
   ]
  },
  {
   "cell_type": "code",
   "execution_count": 9,
   "metadata": {
    "collapsed": false,
    "jupyter": {
     "outputs_hidden": false
    },
    "pycharm": {
     "name": "#%%\n"
    }
   },
   "outputs": [],
   "source": [
    "#set up seeds and gpu device\n",
    "torch.manual_seed(0)\n",
    "np.random.seed(0)\n",
    "if torch.cuda.is_available():\n",
    "    torch.cuda.manual_seed_all(0)\n",
    "\n",
    "##k-fold cross validation. Conduct an experiment on the fold specified by args.fold_idx.\n",
    "# train_graphs, test_graphs = separate_data(graphs, seed=0, fold_idx=0, n_splits=1)\n",
    "# train_graphs = graphs[:4]\n",
    "# test_graphs = graphs[4:]\n",
    "train_graphs = test_graphs = graphs\n",
    "\n",
    "model = GraphCNN(num_layers=5, num_mlp_layers = 2, input_dim=train_graphs[0].node_features.shape[1], hidden_dim=64, output_dim=num_classes, final_dropout=0.5, learn_eps=False, graph_pooling_type=\"sum\", neighbor_pooling_type=\"sum\", device=device)\n",
    "\n",
    "optimizer = optim.Adam(model.parameters(), lr=0.01)\n",
    "scheduler = optim.lr_scheduler.StepLR(optimizer, step_size=50, gamma=0.5)"
   ]
  },
  {
   "cell_type": "markdown",
   "metadata": {
    "collapsed": false,
    "jupyter": {
     "outputs_hidden": false
    }
   },
   "source": [
    "Train and Test"
   ]
  },
  {
   "cell_type": "code",
   "execution_count": 10,
   "metadata": {
    "collapsed": false,
    "jupyter": {
     "outputs_hidden": false
    },
    "pycharm": {
     "name": "#%%\n"
    }
   },
   "outputs": [
    {
     "name": "stderr",
     "output_type": "stream",
     "text": [
      "/home/sanketh/.local/share/virtualenvs/GraphMatching-_Kt3QSDD/lib/python3.11/site-packages/torch/optim/lr_scheduler.py:136: UserWarning: Detected call of `lr_scheduler.step()` before `optimizer.step()`. In PyTorch 1.1.0 and later, you should call them in the opposite order: `optimizer.step()` before `lr_scheduler.step()`.  Failure to do this will result in PyTorch skipping the first value of the learning rate schedule. See more details at https://pytorch.org/docs/stable/optim.html#how-to-adjust-learning-rate\n",
      "  warnings.warn(\"Detected call of `lr_scheduler.step()` before `optimizer.step()`. \"\n",
      "  0%|                                                                                                              | 0/50 [00:00<?, ?batch/s]/home/sanketh/DANI/GraphMatching/powerful_gnns/models/graphcnn.py:150: UserWarning: torch.sparse.SparseTensor(indices, values, shape, *, device=) is deprecated.  Please use torch.sparse_coo_tensor(indices, values, shape, dtype=, device=). (Triggered internally at ../torch/csrc/utils/tensor_new.cpp:605.)\n",
      "  graph_pool = torch.sparse.FloatTensor(idx, elem, torch.Size([len(batch_graph), start_idx[-1]]))\n",
      "epoch: 1: 100%|███████████████████████████████████████████████████████████████████████████████████████████| 50/50 [00:01<00:00, 48.78batch/s]\n"
     ]
    },
    {
     "name": "stdout",
     "output_type": "stream",
     "text": [
      "loss training: 1.023500\n",
      "accuracy train: 1.000000 test: 1.000000\n",
      "\n",
      "Parameter containing:\n",
      "tensor([0., 0., 0., 0.], requires_grad=True)\n"
     ]
    },
    {
     "name": "stderr",
     "output_type": "stream",
     "text": [
      "epoch: 2: 100%|███████████████████████████████████████████████████████████████████████████████████████████| 50/50 [00:00<00:00, 50.61batch/s]\n"
     ]
    },
    {
     "name": "stdout",
     "output_type": "stream",
     "text": [
      "loss training: 0.161671\n",
      "accuracy train: 1.000000 test: 1.000000\n",
      "\n",
      "Parameter containing:\n",
      "tensor([0., 0., 0., 0.], requires_grad=True)\n"
     ]
    },
    {
     "name": "stderr",
     "output_type": "stream",
     "text": [
      "epoch: 3: 100%|███████████████████████████████████████████████████████████████████████████████████████████| 50/50 [00:00<00:00, 50.49batch/s]\n"
     ]
    },
    {
     "name": "stdout",
     "output_type": "stream",
     "text": [
      "loss training: 0.043936\n",
      "accuracy train: 0.900000 test: 0.900000\n",
      "\n",
      "Parameter containing:\n",
      "tensor([0., 0., 0., 0.], requires_grad=True)\n"
     ]
    }
   ],
   "source": [
    "from livelossplot import PlotLosses\n",
    "\n",
    "liveloss = PlotLosses(mode='notebook')\n",
    "\n",
    "filename = \"\"\n",
    "epochs = 3\n",
    "k_update_plot = 25\n",
    "\n",
    "for epoch in range(1, epochs + 1):\n",
    "    scheduler.step()\n",
    "\n",
    "    avg_loss = train(iters_per_epoch=50, batch_size=len(train_graphs), model=model, device=device, train_graphs=train_graphs, optimizer=optimizer, epoch=epoch)\n",
    "    acc_train, acc_test = test(model, device, train_graphs, test_graphs, epoch)\n",
    "\n",
    "    if not filename == \"\":\n",
    "        with open(filename, 'w') as f:\n",
    "            f.write(\"%f %f %f\" % (avg_loss, acc_train, acc_test))\n",
    "            f.write(\"\\n\")\n",
    "    print(\"\")\n",
    "\n",
    "    print(model.eps)\n",
    "\n",
    "    if epoch % k_update_plot == 0:\n",
    "        liveloss.update({'train error': avg_loss.item()})\n",
    "        liveloss.send()"
   ]
  },
  {
   "cell_type": "markdown",
   "metadata": {
    "collapsed": false,
    "jupyter": {
     "outputs_hidden": false
    }
   },
   "source": [
    "Show predictions"
   ]
  },
  {
   "cell_type": "code",
   "execution_count": 11,
   "metadata": {
    "collapsed": false,
    "jupyter": {
     "outputs_hidden": false
    },
    "pycharm": {
     "name": "#%%\n"
    }
   },
   "outputs": [
    {
     "name": "stdout",
     "output_type": "stream",
     "text": [
      "tensor([[0],\n",
      "        [1],\n",
      "        [1],\n",
      "        [1],\n",
      "        [1],\n",
      "        [1],\n",
      "        [1],\n",
      "        [1],\n",
      "        [1],\n",
      "        [0]])\n"
     ]
    }
   ],
   "source": [
    "model.eval()\n",
    "pred = model(train_graphs).max(1, keepdim=True)[1]\n",
    "print(pred)"
   ]
  },
  {
   "cell_type": "code",
   "execution_count": 12,
   "metadata": {
    "collapsed": false,
    "jupyter": {
     "outputs_hidden": false
    },
    "pycharm": {
     "name": "#%%\n"
    }
   },
   "outputs": [
    {
     "name": "stdout",
     "output_type": "stream",
     "text": [
      "tensor([[0],\n",
      "        [1],\n",
      "        [1],\n",
      "        [1],\n",
      "        [1],\n",
      "        [1],\n",
      "        [1],\n",
      "        [1],\n",
      "        [1],\n",
      "        [0]])\n"
     ]
    }
   ],
   "source": [
    "pred = model(test_graphs).max(1, keepdim=True)[1]\n",
    "print(pred)"
   ]
  },
  {
   "cell_type": "markdown",
   "metadata": {
    "collapsed": false,
    "jupyter": {
     "outputs_hidden": false
    }
   },
   "source": [
    "show all distances matrix (margin)"
   ]
  },
  {
   "cell_type": "code",
   "execution_count": 13,
   "metadata": {
    "collapsed": false,
    "jupyter": {
     "outputs_hidden": false
    },
    "pycharm": {
     "name": "#%%\n"
    }
   },
   "outputs": [],
   "source": [
    "all_embeddings = model.get_embedding(graphs)"
   ]
  },
  {
   "cell_type": "code",
   "execution_count": 14,
   "metadata": {
    "collapsed": false,
    "jupyter": {
     "outputs_hidden": false
    },
    "pycharm": {
     "name": "#%%\n"
    }
   },
   "outputs": [
    {
     "data": {
      "image/png": "[encoded data removed]",
      "text/plain": [
       "<Figure size 640x480 with 2 Axes>"
      ]
     },
     "metadata": {},
     "output_type": "display_data"
    },
    {
     "data": {
      "image/png": "[encoded data removed]",
      "text/plain": [
       "<Figure size 640x480 with 2 Axes>"
      ]
     },
     "metadata": {},
     "output_type": "display_data"
    }
   ],
   "source": [
    "l2_dists = pairwise_l2_distance(all_embeddings)\n",
    "\n",
    "rounding_constant = 10 ** 3\n",
    "cos_dists = torch.round(calculate_energy_based_hidden_rep(all_embeddings, threshold=-1) * rounding_constant) / rounding_constant\n",
    "\n",
    "show_distance_matrix(l2_dists, \"l2-distances\")\n",
    "show_distance_matrix(cos_dists, \"cosine-distances\")"
   ]
  },
  {
   "cell_type": "markdown",
   "metadata": {
    "collapsed": false,
    "jupyter": {
     "outputs_hidden": false
    }
   },
   "source": [
    "what is the smallest margin?"
   ]
  },
  {
   "cell_type": "code",
   "execution_count": 15,
   "metadata": {
    "collapsed": false,
    "jupyter": {
     "outputs_hidden": false
    },
    "pycharm": {
     "name": "#%%\n"
    }
   },
   "outputs": [
    {
     "name": "stdout",
     "output_type": "stream",
     "text": [
      "0.001544448547065258\n",
      "0.0\n"
     ]
    }
   ],
   "source": [
    "def get_min_non_diagonal_entry(tensor_):\n",
    "    tensor_with_inf_diag = tensor_ + torch.diag_embed(torch.ones(tensor_.shape[0], device=device) * float(\"inf\"))\n",
    "    return torch.min(tensor_with_inf_diag).item()\n",
    "\n",
    "print(get_min_non_diagonal_entry(l2_dists))\n",
    "print(get_min_non_diagonal_entry(cos_dists))"
   ]
  },
  {
   "cell_type": "markdown",
   "metadata": {
    "collapsed": false,
    "jupyter": {
     "outputs_hidden": false
    }
   },
   "source": [
    "Contrastive loss training"
   ]
  },
  {
   "cell_type": "markdown",
   "metadata": {
    "collapsed": false,
    "jupyter": {
     "outputs_hidden": false
    }
   },
   "source": [
    "Assemble graph pairs data"
   ]
  },
  {
   "cell_type": "code",
   "execution_count": 16,
   "metadata": {
    "collapsed": false,
    "jupyter": {
     "outputs_hidden": false
    },
    "pycharm": {
     "name": "#%%\n"
    }
   },
   "outputs": [],
   "source": [
    "train_samples_list = []\n",
    "reference_subgraph_index = 0\n",
    "reference_subgraph = subgraphs[reference_subgraph_index]\n",
    "negative_examples_subgraphs = subgraphs[1:]\n",
    "\n",
    "for subgraph in subgraphs:\n",
    "    if subgraph == reference_subgraph:\n",
    "        is_negative_example = False\n",
    "    else:\n",
    "        is_negative_example = True\n",
    "\n",
    "    G1_annotated = AnnotatedGraph(subgraph.G)\n",
    "    G2_annotated = AnnotatedGraph(reference_subgraph.G)\n",
    "    train_samples_list.append(Pair_Sample_Info(\n",
    "        subgraph=G1_annotated,\n",
    "        masked_graph=G2_annotated,\n",
    "        is_negative_sample=torch.tensor(is_negative_example)))\n",
    "\n",
    "val_samples_list = train_samples_list"
   ]
  },
  {
   "cell_type": "markdown",
   "metadata": {
    "collapsed": false,
    "jupyter": {
     "outputs_hidden": false
    }
   },
   "source": [
    "Define GNN model"
   ]
  },
  {
   "cell_type": "code",
   "execution_count": 17,
   "metadata": {
    "collapsed": false,
    "jupyter": {
     "outputs_hidden": false
    },
    "pycharm": {
     "name": "#%%\n"
    }
   },
   "outputs": [],
   "source": [
    "# input dim matches the node mask (w) shape\n",
    "input_dim = S2VGraphEmbeddingSimilarityMetricTrainer.get_model_expected_input_dim(train_samples_list[0])\n",
    "model_factory_func = lambda device: GraphCNN(num_layers=5, num_mlp_layers = 2, input_dim=input_dim, hidden_dim=64, output_dim=num_classes, final_dropout=0.5, learn_eps=False, graph_pooling_type=\"sum\", neighbor_pooling_type=\"sum\", device=device)"
   ]
  },
  {
   "cell_type": "markdown",
   "metadata": {
    "collapsed": false,
    "jupyter": {
     "outputs_hidden": false
    }
   },
   "source": [
    "Define graph metric to train, and the trainer"
   ]
  },
  {
   "cell_type": "code",
   "execution_count": 18,
   "metadata": {
    "collapsed": false,
    "jupyter": {
     "outputs_hidden": false
    },
    "pycharm": {
     "name": "#%%\n"
    }
   },
   "outputs": [],
   "source": [
    "solver_params = {\n",
    "    \"device\": device,\n",
    "    \"lr\": 1e-3, \"weight_decay\": 1e-3,\n",
    "    \"max_epochs\": 50,\n",
    "    \"cycle_patience\": 5, \"step_size_up\": 10, \"step_size_down\": 10,\n",
    "    \"loss_convergence_threshold\": None,\n",
    "    \"train_loss_convergence_threshold\": 1e-3,\n",
    "    \"successive_convergence_min_iterations_amount\": 5,\n",
    "    \"margin_loss_margin_value\": 5,\n",
    "    \"max_grad_norm\": 0.1,\n",
    "    \"k_update_plot\": 1,\n",
    "    \"train_monitoring_epochs_pace\": 5,\n",
    "    \"batch_size\": len(subgraphs),\n",
    "    \"num_workers\": 0,\n",
    "    \"is_use_model_compliation\": False, #Only supported for Pytorch > 2.0\n",
    "    \"model_checkpoint_epochs_pace\": 10,\n",
    "}\n",
    "\n",
    "problem_params = {\"input_dim\": input_dim}\n",
    "\n",
    "dump_base_path = f\".{os.sep}runlogs\"\n",
    "\n",
    "def create_graph_metric_net(model_factory_func, device):\n",
    "    model = model_factory_func(device=device)\n",
    "\n",
    "    loss_fun = torch.nn.MSELoss()\n",
    "    embedding_metric_network = EmbeddingMetricNetwork(loss_fun=loss_fun)\n",
    "\n",
    "    gnn_embedding_nn = GNNEmbeddingNetwork(gnn_model=model)\n",
    "\n",
    "    # embedding_nns = \\\n",
    "    #     [\n",
    "    #         GNNEmbeddingNetwork(gnn_model=model),\n",
    "    #     ]\n",
    "\n",
    "    graph_metric_nn = S2VGraphEmbeddingGraphMetricNetwork(embedding_network=gnn_embedding_nn,\n",
    "                                           embdding_metric_network=embedding_metric_network,\n",
    "                                           device=device)\n",
    "\n",
    "    # graph_metric_nn = SingleEmbeddingGraphMetricNetwork(embedding_network=embedding_nns[0],\n",
    "    #                                        embdding_metric_network=embedding_metric_network,\n",
    "    #                                        device=device)\n",
    "\n",
    "    # graph_metric_nn = MLPGraphMetricNetwork(embedding_networks=embedding_nns,\n",
    "    #                                         embdding_metric_network=embedding_metric_network,\n",
    "    #                                         device=device)\n",
    "\n",
    "    return graph_metric_nn, model\n",
    "\n",
    "def init_embedding_net_and_trainer(model_factory_func, graph_metric_nn_checkpoint_path=None):\n",
    "\n",
    "    # must start on CPU to allow moving model to GPU, due to existing pytorch bug\n",
    "    device = 'cpu'\n",
    "    graph_metric_nn, model = create_graph_metric_net(model_factory_func, device)\n",
    "\n",
    "    if graph_metric_nn_checkpoint_path is not None:\n",
    "        graph_metric_nn.load_state_dict(torch.load(graph_metric_nn_checkpoint_path, map_location=device))\n",
    "        model = graph_metric_nn.embedding_networks[0].gnn_model\n",
    "\n",
    "    if solver_params['is_use_model_compliation']:\n",
    "        graph_metric_nn = torch.compile(graph_metric_nn)\n",
    "        model = graph_metric_nn.embedding_networks[0].gnn_model\n",
    "\n",
    "    trainer = S2VGraphEmbeddingSimilarityMetricTrainer(graph_metric_nn, dump_base_path,\n",
    "                                      problem_params, solver_params)\n",
    "\n",
    "    return trainer, graph_metric_nn, model\n",
    "\n",
    "trainer, graph_metric_nn, model = init_embedding_net_and_trainer(model_factory_func)"
   ]
  },
  {
   "cell_type": "markdown",
   "metadata": {
    "collapsed": false,
    "jupyter": {
     "outputs_hidden": false
    }
   },
   "source": [
    "Train"
   ]
  },
  {
   "cell_type": "code",
   "execution_count": 19,
   "metadata": {
    "collapsed": false,
    "jupyter": {
     "outputs_hidden": false
    },
    "pycharm": {
     "name": "#%%\n"
    }
   },
   "outputs": [
    {
     "name": "stdout",
     "output_type": "stream",
     "text": [
      "# classes: 1\n",
      "# maximum node tag: 48\n",
      "# data: 10\n"
     ]
    },
    {
     "data": {
      "image/png": "[encoded data removed]",
      "text/plain": [
       "<Figure size 640x480 with 2 Axes>"
      ]
     },
     "metadata": {},
     "output_type": "display_data"
    },
    {
     "data": {
      "image/png": "[encoded data removed]",
      "text/plain": [
       "<Figure size 640x480 with 2 Axes>"
      ]
     },
     "metadata": {},
     "output_type": "display_data"
    },
    {
     "name": "stdout",
     "output_type": "stream",
     "text": [
      "Off matrix diagonal margin: 33.157623291015625\n",
      "Off matrix diagonal margin: 0.0010000000474974513\n"
     ]
    }
   ],
   "source": [
    "def show_distances_heatmap(graphs, model):\n",
    "\n",
    "    model.eval()\n",
    "    all_embeddings = model.get_embedding(graphs)\n",
    "\n",
    "    l2_dists = pairwise_l2_distance(all_embeddings)\n",
    "\n",
    "    rounding_constant = 10 ** 3\n",
    "    cos_dists = torch.round(calculate_energy_based_hidden_rep(all_embeddings, threshold=-1) * rounding_constant) / rounding_constant\n",
    "\n",
    "    show_distance_matrix(l2_dists, \"l2-distances\")\n",
    "    show_distance_matrix(cos_dists, \"cosine-distances\")\n",
    "    print(f\"Off matrix diagonal margin: {get_min_non_diagonal_entry(l2_dists)}\")\n",
    "    print(f\"Off matrix diagonal margin: {get_min_non_diagonal_entry(cos_dists)}\")\n",
    "\n",
    "show_distances_heatmap(generate_s2v_graphs([graph.g for graph in graphs]), model)"
   ]
  },
  {
   "cell_type": "code",
   "execution_count": 20,
   "metadata": {
    "collapsed": false,
    "jupyter": {
     "outputs_hidden": false
    },
    "pycharm": {
     "name": "#%%\n"
    }
   },
   "outputs": [
    {
     "data": {
      "text/plain": [
       "10"
      ]
     },
     "execution_count": 20,
     "metadata": {},
     "output_type": "execute_result"
    }
   ],
   "source": [
    "len(train_samples_list)"
   ]
  },
  {
   "cell_type": "code",
   "execution_count": 21,
   "metadata": {
    "collapsed": false,
    "jupyter": {
     "outputs_hidden": false
    },
    "pycharm": {
     "name": "#%%\n"
    }
   },
   "outputs": [
    {
     "data": {
      "image/png": "[encoded data removed]",
      "text/plain": [
       "<Figure size 1200x800 with 2 Axes>"
      ]
     },
     "metadata": {},
     "output_type": "display_data"
    },
    {
     "name": "stdout",
     "output_type": "stream",
     "text": [
      "epoch train loss\n",
      "\tepoch train loss \t (min:    0.000, max:   13.510, cur:    0.000)\n",
      "training worker process #0 finished\n",
      "finished monitoring training\n"
     ]
    }
   ],
   "source": [
    "trainer.train(processes_device_ids=[0], use_existing_data_loaders=False, train_samples_list=train_samples_list, val_samples_list=val_samples_list)"
   ]
  },
  {
   "cell_type": "markdown",
   "metadata": {
    "collapsed": false,
    "jupyter": {
     "outputs_hidden": false
    }
   },
   "source": [
    "Add ged=1 examples as positive examples"
   ]
  },
  {
   "cell_type": "code",
   "execution_count": 22,
   "metadata": {
    "collapsed": false,
    "jupyter": {
     "outputs_hidden": false
    },
    "pycharm": {
     "name": "#%%\n"
    }
   },
   "outputs": [],
   "source": [
    "def generate_perturbed_graphs(reference_graph: nx.Graph):\n",
    "    # assumption: there are no self loops, and no duplicate edges of opposite directions\n",
    "\n",
    "    # graphs generated by removing an existing edge\n",
    "    for edge in reference_graph.edges:\n",
    "        copy_graph = reference_graph.copy()\n",
    "        copy_graph.remove_edge(*edge)\n",
    "        yield copy_graph\n",
    "\n",
    "    # graphs generated by adding a missing edge\n",
    "    sorted_nodes = sorted(reference_graph.nodes, reverse=False)\n",
    "    for i, node_i in enumerate(sorted_nodes):\n",
    "        if i == len(sorted_nodes) - 1:\n",
    "            break\n",
    "\n",
    "        for node_j in sorted_nodes[i+1:]:\n",
    "            edge = (node_i, node_j)\n",
    "            if reference_graph.has_edge(*edge):\n",
    "                continue\n",
    "            copy_graph = reference_graph.copy()\n",
    "            copy_graph.add_edge(*edge)\n",
    "            yield copy_graph\n",
    "\n",
    "# generate subgraphs for which ged(subgraph, reference_subgraph)==1\n",
    "perturbed_graphs = list(generate_perturbed_graphs(reference_subgraph.G_sub))\n",
    "for perturbed_graph in perturbed_graphs:\n",
    "    is_negative_example = False\n",
    "\n",
    "    G1_annotated = AnnotatedGraph(perturbed_graph)\n",
    "    G2_annotated = AnnotatedGraph(reference_subgraph.G)\n",
    "    train_samples_list.append(Pair_Sample_Info(\n",
    "        subgraph=G1_annotated,\n",
    "        masked_graph=G2_annotated,\n",
    "        is_negative_sample=torch.tensor(is_negative_example)))"
   ]
  },
  {
   "cell_type": "code",
   "execution_count": 23,
   "metadata": {
    "collapsed": false,
    "jupyter": {
     "outputs_hidden": false
    },
    "pycharm": {
     "name": "#%%\n"
    }
   },
   "outputs": [
    {
     "data": {
      "text/plain": [
       "101"
      ]
     },
     "execution_count": 23,
     "metadata": {},
     "output_type": "execute_result"
    }
   ],
   "source": [
    "len(train_samples_list)"
   ]
  },
  {
   "cell_type": "code",
   "execution_count": 24,
   "metadata": {
    "collapsed": false,
    "jupyter": {
     "outputs_hidden": false
    },
    "pycharm": {
     "name": "#%%\n"
    }
   },
   "outputs": [
    {
     "data": {
      "image/png": "[encoded data removed]",
      "text/plain": [
       "<Figure size 1200x800 with 2 Axes>"
      ]
     },
     "metadata": {},
     "output_type": "display_data"
    },
    {
     "name": "stdout",
     "output_type": "stream",
     "text": [
      "epoch train loss\n",
      "\tepoch train loss \t (min:    0.045, max:   20.626, cur:    0.045)\n",
      "Monitoring process is exiting, epochs=50\n",
      "training worker process #0 finished\n",
      "finished monitoring training\n"
     ]
    }
   ],
   "source": [
    "val_samples_list = train_samples_list\n",
    "model_factory_func = lambda device: GraphCNN(num_layers=5, num_mlp_layers = 2, input_dim=input_dim, hidden_dim=64, output_dim=num_classes, final_dropout=0.5, learn_eps=False, graph_pooling_type=\"sum\", neighbor_pooling_type=\"sum\", device=device)\n",
    "solver_params[\"batch_size\"] = len(train_samples_list)\n",
    "\n",
    "trainer, graph_metric_nn, model = init_embedding_net_and_trainer(model_factory_func)\n",
    "\n",
    "trainer.train(processes_device_ids=[0], use_existing_data_loaders=False, train_samples_list=train_samples_list, val_samples_list=val_samples_list)"
   ]
  },
  {
   "cell_type": "code",
   "execution_count": 25,
   "metadata": {
    "collapsed": false,
    "jupyter": {
     "outputs_hidden": false
    },
    "pycharm": {
     "name": "#%%\n"
    }
   },
   "outputs": [
    {
     "name": "stdout",
     "output_type": "stream",
     "text": [
      "# classes: 1\n",
      "# maximum node tag: 49\n",
      "# data: 101\n"
     ]
    },
    {
     "data": {
      "image/png": "[encoded data removed]",
      "text/plain": [
       "<Figure size 640x480 with 2 Axes>"
      ]
     },
     "metadata": {},
     "output_type": "display_data"
    },
    {
     "data": {
      "image/png": "[encoded data removed]",
      "text/plain": [
       "<Figure size 640x480 with 2 Axes>"
      ]
     },
     "metadata": {},
     "output_type": "display_data"
    },
    {
     "name": "stdout",
     "output_type": "stream",
     "text": [
      "Off matrix diagonal margin: 9.094947017729282e-13\n",
      "Off matrix diagonal margin: 0.0\n"
     ]
    }
   ],
   "source": [
    "all_s2v_graphs = generate_s2v_graphs([subgraph.G for subgraph in subgraphs] + perturbed_graphs)\n",
    "show_distances_heatmap(all_s2v_graphs, model)"
   ]
  },
  {
   "cell_type": "code",
   "execution_count": 26,
   "metadata": {
    "collapsed": false,
    "jupyter": {
     "outputs_hidden": false
    },
    "pycharm": {
     "name": "#%%\n"
    }
   },
   "outputs": [
    {
     "data": {
      "image/png": "[encoded data removed]",
      "text/plain": [
       "<Figure size 640x480 with 2 Axes>"
      ]
     },
     "metadata": {},
     "output_type": "display_data"
    },
    {
     "data": {
      "image/png": "[encoded data removed]",
      "text/plain": [
       "<Figure size 640x480 with 2 Axes>"
      ]
     },
     "metadata": {},
     "output_type": "display_data"
    },
    {
     "name": "stdout",
     "output_type": "stream",
     "text": [
      "Off matrix diagonal margin: 9.094947017729282e-13\n",
      "Off matrix diagonal margin: 0.0\n"
     ]
    }
   ],
   "source": [
    "show_distances_heatmap(all_s2v_graphs, model)"
   ]
  },
  {
   "cell_type": "code",
   "execution_count": 27,
   "metadata": {
    "collapsed": false,
    "jupyter": {
     "outputs_hidden": false
    },
    "pycharm": {
     "name": "#%%\n"
    }
   },
   "outputs": [
    {
     "data": {
      "image/png": "[encoded data removed]",
      "text/plain": [
       "<Figure size 640x480 with 2 Axes>"
      ]
     },
     "metadata": {},
     "output_type": "display_data"
    },
    {
     "data": {
      "image/png": "[encoded data removed]",
      "text/plain": [
       "<Figure size 640x480 with 2 Axes>"
      ]
     },
     "metadata": {},
     "output_type": "display_data"
    },
    {
     "name": "stdout",
     "output_type": "stream",
     "text": [
      "Off matrix diagonal margin: 1292.691650390625\n",
      "Off matrix diagonal margin: 0.0\n"
     ]
    }
   ],
   "source": [
    "show_distances_heatmap(all_s2v_graphs[:len(subgraphs)], model)"
   ]
  },
  {
   "cell_type": "code",
   "execution_count": 28,
   "metadata": {
    "collapsed": false,
    "jupyter": {
     "outputs_hidden": false
    },
    "pycharm": {
     "name": "#%%\n"
    }
   },
   "outputs": [
    {
     "data": {
      "image/png": "[encoded data removed]",
      "text/plain": [
       "<Figure size 640x480 with 2 Axes>"
      ]
     },
     "metadata": {},
     "output_type": "display_data"
    },
    {
     "data": {
      "image/png": "[encoded data removed]",
      "text/plain": [
       "<Figure size 640x480 with 2 Axes>"
      ]
     },
     "metadata": {},
     "output_type": "display_data"
    },
    {
     "name": "stdout",
     "output_type": "stream",
     "text": [
      "Off matrix diagonal margin: 9.094947017729282e-13\n",
      "Off matrix diagonal margin: 0.0\n"
     ]
    }
   ],
   "source": [
    "reference_s2v_graph = all_s2v_graphs[reference_subgraph_index]\n",
    "reference_graph_with_positive_examples = [reference_s2v_graph] + all_s2v_graphs[len(subgraphs):]\n",
    "reference_graph_with_negative_examples = [all_s2v_graphs[i] for i in range(len(all_s2v_graphs[:len(subgraphs)])) if i != reference_subgraph_index]\n",
    "\n",
    "show_distances_heatmap(reference_graph_with_positive_examples, model)"
   ]
  },
  {
   "cell_type": "code",
   "execution_count": 29,
   "metadata": {
    "collapsed": false,
    "jupyter": {
     "outputs_hidden": false
    },
    "pycharm": {
     "name": "#%%\n"
    }
   },
   "outputs": [],
   "source": [
    "all_embeddings = model.get_embedding(reference_graph_with_positive_examples)\n",
    "l2_dists = pairwise_l2_distance(all_embeddings)"
   ]
  },
  {
   "cell_type": "code",
   "execution_count": 34,
   "metadata": {
    "collapsed": false,
    "jupyter": {
     "outputs_hidden": false
    },
    "pycharm": {
     "name": "#%%\n"
    }
   },
   "outputs": [],
   "source": [
    "_ = graph_metric_nn.eval()"
   ]
  },
  {
   "cell_type": "code",
   "execution_count": 32,
   "metadata": {
    "collapsed": false,
    "jupyter": {
     "outputs_hidden": false
    },
    "pycharm": {
     "name": "#%%\n"
    }
   },
   "outputs": [],
   "source": [
    "positive_distances = []\n",
    "for positive_example_second_graph in reference_graph_with_positive_examples:\n",
    "    distance = graph_metric_nn.forward([(reference_s2v_graph, positive_example_second_graph)]).item()\n",
    "    positive_distances.append(distance)\n",
    "    if distance > solver_params['margin_loss_margin_value']:\n",
    "        print(f\"positive loss term not zero, as distance for this positive example pair is {distance}\")\n",
    "\n",
    "negative_distances = []\n",
    "for negative_example_second_graph in reference_graph_with_negative_examples:\n",
    "    distance = graph_metric_nn.forward([(reference_s2v_graph, negative_example_second_graph)]).item()\n",
    "    negative_distances.append(distance)\n",
    "    if distance < solver_params['margin_loss_margin_value']:\n",
    "        print(f\"negative loss term not zero, as distance for this negative example pair is {distance}\")"
   ]
  },
  {
   "cell_type": "code",
   "execution_count": 33,
   "metadata": {
    "collapsed": false,
    "jupyter": {
     "outputs_hidden": false
    },
    "pycharm": {
     "name": "#%%\n"
    }
   },
   "outputs": [
    {
     "data": {
      "text/plain": [
       "1.6487637758255005"
      ]
     },
     "execution_count": 33,
     "metadata": {},
     "output_type": "execute_result"
    }
   ],
   "source": [
    "max(positive_distances)"
   ]
  },
  {
   "cell_type": "code",
   "execution_count": null,
   "metadata": {
    "collapsed": false,
    "jupyter": {
     "outputs_hidden": false
    },
    "pycharm": {
     "name": "#%%\n"
    }
   },
   "outputs": [],
   "source": [
    "min(negative_distances)"
   ]
  },
  {
   "cell_type": "markdown",
   "metadata": {
    "collapsed": false,
    "jupyter": {
     "outputs_hidden": false
    }
   },
   "source": [
    "k-subgraphs experiment"
   ]
  },
  {
   "cell_type": "code",
   "execution_count": 35,
   "metadata": {
    "collapsed": false,
    "jupyter": {
     "outputs_hidden": false
    },
    "pycharm": {
     "name": "#%%\n"
    }
   },
   "outputs": [],
   "source": [
    "def generate_pair_example(G1_annotated, G2_annotated, is_negative_example):\n",
    "    return Pair_Sample_Info(\n",
    "        subgraph=G1_annotated,\n",
    "        masked_graph=G2_annotated,\n",
    "        is_negative_sample=torch.tensor(is_negative_example))\n",
    "\n",
    "def compare_graphs_and_generate_pair_example(G1_annotated, G2_annotated):\n",
    "    SG1 = G1_annotated.g\n",
    "    SG2 = G2_annotated.g\n",
    "\n",
    "    if nx.is_isomorphic(SG1, SG2):\n",
    "        isomorphic_pairs.append((SG1, SG2))\n",
    "        return generate_pair_example(G1_annotated, G2_annotated, is_negative_example = False)\n",
    "    else:\n",
    "        return generate_pair_example(G1_annotated, G2_annotated, is_negative_example = True)\n",
    "    \n",
    "    # try:\n",
    "    #     diff_graph = nx.symmetric_difference(SG1, SG2)\n",
    "    # except NetworkXError:\n",
    "    #     # node sets are different\n",
    "    #     if nx.is_empty(SG1) and nx.is_empty(SG2) and (len(SG1) == len(SG2)):\n",
    "    #         # positive example\n",
    "    #         print(\"node sets are different, but isomorphic graphs\")\n",
    "    #         return generate_pair_example(G1_annotated, G2_annotated, is_negative_example = False)\n",
    "    #     else:\n",
    "    #         # negative example\n",
    "    #         print(\"node sets are different, and not isomorphic graphs\")\n",
    "    #         return generate_pair_example(G1_annotated, G2_annotated, is_negative_example = True)\n",
    "\n",
    "    # if nx.is_empty(diff_graph):\n",
    "    #     # print(\"isomorphic graphs\")\n",
    "    #     isomorphic_pairs.append((SG1, SG2))\n",
    "    #     # positive example\n",
    "    #     return generate_pair_example(G1_annotated, G2_annotated, is_negative_example = False)\n",
    "    # else:\n",
    "    #     # negative example\n",
    "    #     return generate_pair_example(G1_annotated, G2_annotated, is_negative_example = True)\n",
    "\n",
    "K = 11\n",
    "full_graph = reference_subgraph.G\n",
    "\n",
    "subgraphs_iterator = itertools.combinations(full_graph, K)\n",
    "k_subgraphs = [full_graph.subgraph(s) for s in subgraphs_iterator]\n",
    "k_subgraph_annotated_graphs = [AnnotatedGraph(g) for g in k_subgraphs]\n",
    "\n",
    "train_samples_list = []\n",
    "isomorphic_pairs = []\n",
    "train_sample_indices_tuple_list = []"
   ]
  },
  {
   "cell_type": "code",
   "execution_count": 36,
   "metadata": {
    "collapsed": false,
    "jupyter": {
     "outputs_hidden": false
    },
    "pycharm": {
     "name": "#%%\n"
    }
   },
   "outputs": [],
   "source": [
    "for subgraph_counter1, SG_annotated_1 in enumerate(k_subgraph_annotated_graphs):\n",
    "    for subgraph_counter2 in range(subgraph_counter1+1, len(k_subgraph_annotated_graphs)):\n",
    "        SG_annotated_2 = k_subgraph_annotated_graphs[subgraph_counter2]\n",
    "        train_samples_list.append(compare_graphs_and_generate_pair_example(SG_annotated_1, SG_annotated_2))\n",
    "        train_sample_indices_tuple_list.append((subgraph_counter1, subgraph_counter2))\n",
    "        # if train_samples_list[-1].is_negative_sample == False:\n",
    "        #     print(f\"{subgraph_counter1} vs {subgraph_counter2}\")"
   ]
  },
  {
   "cell_type": "code",
   "execution_count": 37,
   "metadata": {
    "collapsed": false,
    "jupyter": {
     "outputs_hidden": false
    },
    "pycharm": {
     "name": "#%%\n"
    }
   },
   "outputs": [],
   "source": [
    "# ged_pairs_dump_base_path = f\".{os.sep}ged_pairs\n",
    "\n",
    "# loaded_ged_examples = []\n",
    "# for i, doc_path in enumerate(pathlib.Path(ged_pairs_dump_base_path).rglob(\"*.p*\")):\n",
    "#     k_subgraph_ged_pairs_list = pickle.load(open(doc_path, 'rb'))\n",
    "#     loaded_ged_examples += k_subgraph_ged_pairs_list\n",
    "#     print(i)\n",
    "\n",
    "# if not os.path.exists(ged_pairs_dump_base_path):\n",
    "#     os.makedirs(ged_pairs_dump_base_path)\n",
    "#\n",
    "# # k_subgraph_to_perturbed_graphs_map = {}\n",
    "# def generate_ged_paris(subgraph_counter1):\n",
    "#     train_samples_list = []\n",
    "#     SG1 = k_subgraph_annotated_graphs[subgraph_counter1]\n",
    "#     ged1_perturbed_graphs = list(generate_perturbed_graphs(SG1.g))\n",
    "#     for ged1_perturbed_graph in ged1_perturbed_graphs:\n",
    "#         # positive example\n",
    "#         train_samples_list.append(generate_pair_example(SG1, AnnotatedGraph(ged1_perturbed_graph), is_negative_example = False))\n",
    "#\n",
    "#         ged2_perturbed_graphs = list(generate_perturbed_graphs(ged1_perturbed_graph))\n",
    "#         for ged2_perturbed_graph in ged2_perturbed_graphs:\n",
    "#             # could be positive or negative example\n",
    "#             train_samples_list.append(compare_graphs_and_generate_pair_example(k_subgraph_annotated_graphs[subgraph_counter1], AnnotatedGraph(ged2_perturbed_graph)))\n",
    "#\n",
    "#     path = os.path.join(ged_pairs_dump_base_path, f\"subgraph_{subgraph_counter1}.p\")\n",
    "#     with open(path, 'wb') as f:\n",
    "#         pickle.dump(train_samples_list, f)\n",
    "#     return train_samples_list\n",
    "#\n",
    "# total_tasks = len(k_subgraphs)\n",
    "# with tqdm_joblib(tqdm(desc=\"My calculation\", total=total_tasks)) as progress_bar:\n",
    "#     #Parallel(n_jobs=16)(delayed(long_task)() for i in range(10))\n",
    "#\n",
    "#     ged_examples = Parallel(n_jobs=int(cpu_count()), prefer='processes')(\n",
    "#         delayed(generate_ged_paris)(subgraph_counter1=subgraph_counter1)\n",
    "#         for subgraph_counter1 in range(total_tasks)\n",
    "#     )\n",
    "#\n",
    "# # generate subgraphs for which GED==1\n",
    "# for subgraph_counter1, SG1 in enumerate(k_subgraphs):\n",
    "#     print(subgraph_counter1)\n",
    "#     ged1_perturbed_graphs = list(generate_perturbed_graphs(SG1))\n",
    "#     for ged1_perturbed_graph in ged1_perturbed_graphs:\n",
    "#         # positive example\n",
    "#         train_samples_list.append(generate_pair_example(SG1, ged1_perturbed_graph, is_negative_example = False))\n",
    "#         #\n",
    "#         # ged2_perturbed_graphs = list(generate_perturbed_graphs(ged1_perturbed_graph))\n",
    "#         # for ged2_perturbed_graph in ged2_perturbed_graphs:\n",
    "#         #     # could be positive or negative example\n",
    "#         #     train_samples_list.append(compare_graphs_and_generate_pair_example(k_subgraph_annotated_graphs[subgraph_counter1], AnnotatedGraph(ged2_perturbed_graph)))\n",
    "#     # k_subgraph_to_perturbed_graphs_map[SG1] = perturbed_graphs\n",
    "\n",
    "#\n",
    "#\n",
    "# # generate all pairs examples\n",
    "# for SG1, SG1_perturbed_graphs in k_subgraph_to_perturbed_graphs_map.items():\n",
    "#     for SG2, SG2_perturbed_graphs in k_subgraph_to_perturbed_graphs_map.items():\n",
    "#\n",
    "#         if SG1 == SG2:\n",
    "#             continue # trivial pairs, or pairs already considered\n",
    "#\n",
    "#         for SG2_perturbed_graph in SG2_perturbed_graphs:\n",
    "#             train_samples_list.append(compare_graphs_and_generate_pair_example(SG1, SG2_perturbed_graph))\n",
    "#\n",
    "#         for SG1_perturbed_graph in SG1_perturbed_graphs:\n",
    "#             train_samples_list.append(compare_graphs_and_generate_pair_example(SG1_perturbed_graph, SG2))"
   ]
  },
  {
   "cell_type": "code",
   "execution_count": 38,
   "metadata": {
    "collapsed": false,
    "jupyter": {
     "outputs_hidden": false
    },
    "pycharm": {
     "name": "#%%\n"
    }
   },
   "outputs": [],
   "source": [
    "def generate_random_ged_paris(annotated_subgraph: AnnotatedGraph, ged_dist: int, pairs_n: int, is_negative_example: bool):\n",
    "    train_samples_list = []\n",
    "    SG1 = annotated_subgraph\n",
    "\n",
    "    ged_graph_generator = GED_graph_generator(SG1.g, ged_dist)\n",
    "\n",
    "    # generate pairs\n",
    "\n",
    "    for i, ged_perturbed_graph in enumerate(ged_graph_generator.generate()):\n",
    "        if i == pairs_n:\n",
    "            break\n",
    "\n",
    "        # positive example\n",
    "        train_samples_list.append(generate_pair_example(SG1, AnnotatedGraph(ged_perturbed_graph), is_negative_example = is_negative_example))\n",
    "\n",
    "    sys.stdout.flush()\n",
    "    return train_samples_list"
   ]
  },
  {
   "cell_type": "code",
   "execution_count": 111,
   "metadata": {
    "collapsed": false,
    "jupyter": {
     "outputs_hidden": false
    },
    "pycharm": {
     "name": "#%%\n"
    }
   },
   "outputs": [
    {
     "name": "stderr",
     "output_type": "stream",
     "text": [
      "My calculation: 100%|████████████████████████████████████████████████████████████████████████████████████████████████████████████████████████████████████| 20/20 [00:16<00:00,  1.18it/s]\n",
      "My calculation:   0%|▎                                                                                                                                   | 1/364 [00:00<00:46,  7.77it/s]"
     ]
    },
    {
     "name": "stdout",
     "output_type": "stream",
     "text": [
      "finished generation\n",
      "finished generation\n",
      "finished generation\n",
      "finished generation\n",
      "finished generation\n",
      "finished generation\n",
      "finished generation\n",
      "finished generation\n",
      "finished generation\n",
      "finished generation\n",
      "finished generation\n",
      "finished generation\n",
      "finished generation\n",
      "finished generation\n",
      "finished generation\n",
      "finished generation\n",
      "finished generation\n",
      "finished generation\n",
      "finished generation\n",
      "finished generation\n",
      "finished generation\n",
      "finished generation\n",
      "finished generation\n",
      "finished generation\n",
      "finished generation\n",
      "finished generation\n",
      "finished generation\n",
      "finished generation\n",
      "finished generation\n",
      "finished generation\n",
      "finished generation\n",
      "finished generation\n",
      "finished generation\n",
      "finished generation\n",
      "finished generation\n",
      "finished generation\n",
      "finished generation\n",
      "finished generation\n",
      "finished generation\n",
      "finished generation\n",
      "finished generation\n",
      "finished generation\n",
      "finished generation\n",
      "finished generation\n",
      "finished generation\n",
      "finished generation\n",
      "finished generation\n",
      "finished generation\n",
      "finished generation\n",
      "finished generation\n",
      "finished generation\n",
      "finished generation\n",
      "finished generation\n",
      "finished generation\n",
      "finished generation\n",
      "finished generation\n",
      "finished generation\n",
      "finished generation\n",
      "finished generation\n",
      "finished generation\n",
      "finished generation\n",
      "finished generation\n",
      "finished generation\n",
      "finished generation\n",
      "finished generation\n",
      "finished generation\n",
      "finished generation\n",
      "finished generation\n",
      "finished generation\n",
      "finished generation\n",
      "finished generation\n",
      "finished generation\n",
      "finished generation\n"
     ]
    },
    {
     "name": "stderr",
     "output_type": "stream",
     "text": [
      "My calculation:   4%|████▋                                                                                                                              | 13/364 [00:00<00:07, 45.46it/s]"
     ]
    },
    {
     "name": "stdout",
     "output_type": "stream",
     "text": [
      "finished generation\n",
      "finished generation\n",
      "finished generation\n",
      "finished generation\n",
      "finished generation\n",
      "finished generation\n",
      "finished generation\n",
      "finished generation\n",
      "finished generation\n",
      "finished generation\n",
      "finished generation\n",
      "finished generation\n",
      "finished generation\n",
      "finished generation\n",
      "finished generation\n",
      "finished generation\n",
      "finished generation\n",
      "finished generation\n",
      "finished generation\n",
      "finished generation\n",
      "finished generation\n",
      "finished generation\n",
      "finished generation\n",
      "finished generation\n",
      "finished generation\n",
      "finished generation\n",
      "finished generation\n",
      "finished generation\n"
     ]
    },
    {
     "name": "stderr",
     "output_type": "stream",
     "text": [
      "My calculation:  10%|████████████▌                                                                                                                      | 35/364 [00:00<00:04, 79.43it/s]"
     ]
    },
    {
     "name": "stdout",
     "output_type": "stream",
     "text": [
      "finished generation\n",
      "finished generation\n",
      "finished generation\n",
      "finished generation\n",
      "finished generation\n",
      "finished generation\n",
      "finished generation\n",
      "finished generation\n",
      "finished generation\n",
      "finished generation\n",
      "finished generation\n",
      "finished generation\n",
      "finished generation\n",
      "finished generation\n",
      "finished generation\n",
      "finished generation\n",
      "finished generation\n",
      "finished generation\n",
      "finished generation\n",
      "finished generation\n"
     ]
    },
    {
     "name": "stderr",
     "output_type": "stream",
     "text": [
      "My calculation:  15%|███████████████████                                                                                                                | 53/364 [00:00<00:03, 82.78it/s]"
     ]
    },
    {
     "name": "stdout",
     "output_type": "stream",
     "text": [
      "finished generation\n",
      "finished generation\n",
      "finished generation\n",
      "finished generation\n",
      "finished generation\n",
      "finished generation\n",
      "finished generation\n",
      "finished generation\n",
      "finished generation\n",
      "finished generation\n",
      "finished generation\n",
      "finished generation\n",
      "finished generation\n",
      "finished generation\n",
      "finished generation\n",
      "finished generation\n",
      "finished generation\n",
      "finished generation\n"
     ]
    },
    {
     "name": "stderr",
     "output_type": "stream",
     "text": [
      "My calculation:  20%|█████████████████████████▉                                                                                                         | 72/364 [00:01<00:03, 87.20it/s]"
     ]
    },
    {
     "name": "stdout",
     "output_type": "stream",
     "text": [
      "finished generation\n",
      "finished generation\n",
      "finished generation\n",
      "finished generation\n",
      "finished generation\n",
      "finished generation\n",
      "finished generation\n",
      "finished generation\n",
      "finished generation\n",
      "finished generation\n",
      "finished generation\n",
      "finished generation\n",
      "finished generation\n",
      "finished generation\n",
      "finished generation\n",
      "finished generation\n",
      "finished generation\n",
      "finished generation\n",
      "finished generation\n",
      "finished generation\n"
     ]
    },
    {
     "name": "stderr",
     "output_type": "stream",
     "text": [
      "My calculation:  25%|████████████████████████████████▍                                                                                                  | 90/364 [00:01<00:03, 86.22it/s]"
     ]
    },
    {
     "name": "stdout",
     "output_type": "stream",
     "text": [
      "finished generation\n",
      "finished generation\n",
      "finished generation\n",
      "finished generation\n",
      "finished generation\n",
      "finished generation\n",
      "finished generation\n",
      "finished generation\n",
      "finished generation\n",
      "finished generation\n",
      "finished generation\n",
      "finished generation\n",
      "finished generation\n",
      "finished generation\n",
      "finished generation\n",
      "finished generation\n",
      "finished generation\n",
      "finished generation\n",
      "finished generation\n",
      "finished generation\n",
      "finished generation\n",
      "finished generation\n",
      "finished generation\n",
      "finished generation\n",
      "finished generation\n",
      "finished generation\n",
      "finished generation\n",
      "finished generation\n",
      "finished generation\n",
      "finished generation\n",
      "finished generation\n",
      "finished generation\n"
     ]
    },
    {
     "name": "stderr",
     "output_type": "stream",
     "text": [
      "My calculation:  30%|██████████████████████████████████████▌                                                                                           | 108/364 [00:01<00:03, 84.81it/s]"
     ]
    },
    {
     "name": "stdout",
     "output_type": "stream",
     "text": [
      "finished generation\n",
      "finished generation\n",
      "finished generation\n",
      "finished generation\n",
      "finished generation\n",
      "finished generation\n",
      "finished generation\n",
      "finished generation\n",
      "finished generation\n",
      "finished generation\n",
      "finished generation\n",
      "finished generation\n",
      "finished generation\n",
      "finished generation\n",
      "finished generation\n",
      "finished generation\n",
      "finished generation\n",
      "finished generation\n",
      "finished generation\n",
      "finished generation\n",
      "finished generation\n",
      "finished generation\n",
      "finished generation\n",
      "finished generation\n",
      "finished generation\n",
      "finished generation\n",
      "finished generation\n",
      "finished generation\n",
      "finished generation\n",
      "finished generation\n",
      "finished generation\n",
      "finished generation\n",
      "finished generation\n",
      "finished generation\n"
     ]
    },
    {
     "name": "stderr",
     "output_type": "stream",
     "text": [
      "My calculation:  35%|█████████████████████████████████████████████                                                                                     | 126/364 [00:01<00:02, 82.24it/s]"
     ]
    },
    {
     "name": "stdout",
     "output_type": "stream",
     "text": [
      "finished generation\n",
      "finished generation\n",
      "finished generation\n",
      "finished generation\n",
      "finished generation\n",
      "finished generation\n",
      "finished generation\n",
      "finished generation\n",
      "finished generation\n",
      "finished generation\n",
      "finished generation\n",
      "finished generation\n",
      "finished generation\n",
      "finished generation\n",
      "finished generation\n",
      "finished generation\n",
      "finished generation\n",
      "finished generation\n",
      "finished generation\n",
      "finished generation\n",
      "finished generation\n",
      "finished generation\n",
      "finished generation\n",
      "finished generation\n",
      "finished generation\n",
      "finished generation\n",
      "finished generation\n",
      "finished generation\n",
      "finished generation\n",
      "finished generation\n",
      "finished generation\n",
      "finished generation\n",
      "finished generation\n",
      "finished generation\n",
      "finished generation\n"
     ]
    },
    {
     "name": "stderr",
     "output_type": "stream",
     "text": [
      "My calculation:  40%|███████████████████████████████████████████████████▍                                                                              | 144/364 [00:01<00:02, 81.75it/s]"
     ]
    },
    {
     "name": "stdout",
     "output_type": "stream",
     "text": [
      "finished generation\n",
      "finished generation\n",
      "finished generation\n",
      "finished generation\n",
      "finished generation\n",
      "finished generation\n",
      "finished generation\n",
      "finished generation\n",
      "finished generation\n",
      "finished generation\n",
      "finished generation\n",
      "finished generation\n",
      "finished generation\n",
      "finished generation\n",
      "finished generation\n",
      "finished generation\n",
      "finished generation\n",
      "finished generation\n",
      "finished generation\n",
      "finished generation\n",
      "finished generation\n",
      "finished generation\n",
      "finished generation\n",
      "finished generation\n",
      "finished generation\n",
      "finished generation\n",
      "finished generation\n",
      "finished generation\n",
      "finished generation\n",
      "finished generation\n",
      "finished generation\n",
      "finished generation\n"
     ]
    },
    {
     "name": "stderr",
     "output_type": "stream",
     "text": [
      "My calculation:  42%|██████████████████████████████████████████████████████▋                                                                           | 153/364 [00:02<00:02, 72.14it/s]"
     ]
    },
    {
     "name": "stdout",
     "output_type": "stream",
     "text": [
      "finished generation\n",
      "finished generation\n",
      "finished generation\n",
      "finished generation\n",
      "finished generation\n",
      "finished generation\n",
      "finished generation\n",
      "finished generation\n",
      "finished generation\n",
      "finished generation\n",
      "finished generation\n",
      "finished generation\n",
      "finished generation\n",
      "finished generation\n",
      "finished generation\n",
      "finished generation\n",
      "finished generation\n",
      "finished generation\n",
      "finished generation\n",
      "finished generation\n",
      "finished generation\n"
     ]
    },
    {
     "name": "stderr",
     "output_type": "stream",
     "text": [
      "My calculation:  47%|████████████████████████████████████████████████████████████▋                                                                     | 170/364 [00:02<00:02, 66.11it/s]"
     ]
    },
    {
     "name": "stdout",
     "output_type": "stream",
     "text": [
      "finished generation\n",
      "finished generation\n",
      "finished generation\n",
      "finished generation\n",
      "finished generation\n",
      "finished generation\n",
      "finished generation\n",
      "finished generation\n",
      "finished generation\n",
      "finished generation\n",
      "finished generation\n",
      "finished generation\n"
     ]
    },
    {
     "name": "stderr",
     "output_type": "stream",
     "text": [
      "My calculation:  51%|██████████████████████████████████████████████████████████████████▍                                                               | 186/364 [00:02<00:02, 70.24it/s]"
     ]
    },
    {
     "name": "stdout",
     "output_type": "stream",
     "text": [
      "finished generation\n",
      "finished generation\n",
      "finished generation\n",
      "finished generation\n",
      "finished generation\n",
      "finished generation\n",
      "finished generation\n",
      "finished generation\n"
     ]
    },
    {
     "name": "stderr",
     "output_type": "stream",
     "text": [
      "My calculation:  57%|█████████████████████████████████████████████████████████████████████████▌                                                        | 206/364 [00:02<00:01, 81.96it/s]"
     ]
    },
    {
     "name": "stdout",
     "output_type": "stream",
     "text": [
      "finished generation\n",
      "finished generation\n",
      "finished generation\n",
      "finished generation\n",
      "finished generation\n",
      "finished generation\n",
      "finished generation\n",
      "finished generation\n",
      "finished generation\n",
      "finished generation\n"
     ]
    },
    {
     "name": "stderr",
     "output_type": "stream",
     "text": [
      "My calculation:  64%|██████████████████████████████████████████████████████████████████████████████████▏                                              | 232/364 [00:02<00:01, 102.53it/s]"
     ]
    },
    {
     "name": "stdout",
     "output_type": "stream",
     "text": [
      "finished generation\n",
      "finished generation\n",
      "finished generation\n",
      "finished generation\n",
      "finished generation\n",
      "finished generation\n",
      "finished generation\n",
      "finished generation\n",
      "finished generation\n",
      "finished generation\n",
      "finished generation\n",
      "finished generation\n",
      "finished generation\n"
     ]
    },
    {
     "name": "stderr",
     "output_type": "stream",
     "text": [
      "My calculation:  71%|███████████████████████████████████████████████████████████████████████████████████████████▍                                     | 258/364 [00:03<00:00, 115.48it/s]"
     ]
    },
    {
     "name": "stdout",
     "output_type": "stream",
     "text": [
      "finished generation\n",
      "finished generation\n",
      "finished generation\n",
      "finished generation\n",
      "finished generation\n",
      "finished generation\n",
      "finished generation\n",
      "finished generation\n"
     ]
    },
    {
     "name": "stderr",
     "output_type": "stream",
     "text": [
      "My calculation: 100%|██████████████████████████████████████████████████████████████████████████████████████████████████████████████████████████████████| 364/364 [00:03<00:00, 91.90it/s]\n"
     ]
    }
   ],
   "source": [
    "random_k_subgraphs = k_subgraph_annotated_graphs.copy()\n",
    "\n",
    "\n",
    "POSITIVE_EXAMPLES_GED_DIST_pairs_n = -1 #2000\n",
    "POSITIVE_EXAMPLES_GED_DIST = 1\n",
    "POSITIVE_EXAMPLES_k_subgraphs = random_k_subgraphs\n",
    "\n",
    "NEGATIVE_EXAMPLES_GED_DIST_pairs_n = 3000\n",
    "NEGATIVE_EXAMPLES_GED_DIST = 4 #4\n",
    "NEGATIVE_EXAMPLES_k_subgraphs = random_k_subgraphs[:20]\n",
    "\n",
    "with tqdm_joblib(tqdm(desc=\"My calculation\", total=len(NEGATIVE_EXAMPLES_k_subgraphs))) as progress_bar:\n",
    "    ged_2_examples = Parallel(n_jobs=int(cpu_count()), prefer='processes')(\n",
    "        delayed(generate_random_ged_paris)(annotated_subgraph=annotated_subgraph, ged_dist=NEGATIVE_EXAMPLES_GED_DIST, pairs_n=NEGATIVE_EXAMPLES_GED_DIST_pairs_n, is_negative_example=True)\n",
    "        for annotated_subgraph in NEGATIVE_EXAMPLES_k_subgraphs\n",
    "    )\n",
    "\n",
    "with tqdm_joblib(tqdm(desc=\"My calculation\", total=len(random_k_subgraphs))) as progress_bar:\n",
    "    ged_1_examples = Parallel(n_jobs=int(cpu_count()), prefer='processes')(\n",
    "        delayed(generate_random_ged_paris)(annotated_subgraph=annotated_subgraph, ged_dist=POSITIVE_EXAMPLES_GED_DIST, pairs_n=POSITIVE_EXAMPLES_GED_DIST_pairs_n, is_negative_example=False)\n",
    "        for annotated_subgraph in POSITIVE_EXAMPLES_k_subgraphs\n",
    "    )\n",
    "\n",
    "ged_examples1 = [elem for lst in ged_1_examples for elem in lst]\n",
    "ged_examples2 = [elem for lst in ged_2_examples for elem in lst]\n",
    "ged_examples = ged_examples1 + ged_examples2\n",
    "random.shuffle(ged_examples)\n",
    "\n",
    "train_ratio = 0.7\n",
    "train_ged_examples_amount = int(len(ged_examples) * train_ratio)\n",
    "train_ged_examples = ged_examples[:train_ged_examples_amount]\n",
    "eval_ged_examples = ged_examples[train_ged_examples_amount:]"
   ]
  },
  {
   "cell_type": "code",
   "execution_count": 40,
   "metadata": {
    "collapsed": false,
    "jupyter": {
     "outputs_hidden": false
    },
    "pycharm": {
     "name": "#%%\n"
    }
   },
   "outputs": [],
   "source": [
    "# debug_ged_res = generate_random_ged_paris(annotated_subgraph=random_k_subgraphs[0], ged_dist=2, pairs_n=pairs_n, is_negative_example=True)"
   ]
  },
  {
   "cell_type": "code",
   "execution_count": 120,
   "metadata": {
    "collapsed": false,
    "jupyter": {
     "outputs_hidden": false
    },
    "pycharm": {
     "name": "#%%\n"
    }
   },
   "outputs": [
    {
     "data": {
      "text/plain": [
       "56014"
      ]
     },
     "execution_count": 120,
     "metadata": {},
     "output_type": "execute_result"
    }
   ],
   "source": [
    "len(train_ged_examples)"
   ]
  },
  {
   "cell_type": "code",
   "execution_count": 122,
   "metadata": {
    "collapsed": false,
    "jupyter": {
     "outputs_hidden": false
    },
    "pycharm": {
     "name": "#%%\n"
    }
   },
   "outputs": [],
   "source": [
    "train_samples_list = train_ged_examples"
   ]
  },
  {
   "cell_type": "code",
   "execution_count": 116,
   "metadata": {},
   "outputs": [
    {
     "data": {
      "text/plain": [
       "60000"
      ]
     },
     "execution_count": 116,
     "metadata": {},
     "output_type": "execute_result"
    }
   ],
   "source": [
    "len(ged_examples2)"
   ]
  },
  {
   "cell_type": "code",
   "execution_count": 106,
   "metadata": {
    "collapsed": false,
    "jupyter": {
     "outputs_hidden": false
    },
    "pycharm": {
     "name": "#%%\n"
    }
   },
   "outputs": [
    {
     "data": {
      "text/plain": [
       "20020"
      ]
     },
     "execution_count": 106,
     "metadata": {},
     "output_type": "execute_result"
    }
   ],
   "source": [
    "len(ged_examples1)"
   ]
  },
  {
   "cell_type": "code",
   "execution_count": 117,
   "metadata": {
    "collapsed": false,
    "jupyter": {
     "outputs_hidden": false
    },
    "pycharm": {
     "name": "#%%\n"
    }
   },
   "outputs": [
    {
     "name": "stdout",
     "output_type": "stream",
     "text": [
      "yes\n"
     ]
    }
   ],
   "source": [
    "for k_subgraph in k_subgraphs:\n",
    "    if k_subgraphs[0].nodes == k_subgraph.nodes:\n",
    "        print(\"yes\")"
   ]
  },
  {
   "cell_type": "code",
   "execution_count": 118,
   "metadata": {
    "collapsed": false,
    "jupyter": {
     "outputs_hidden": false
    },
    "pycharm": {
     "name": "#%%\n"
    }
   },
   "outputs": [
    {
     "data": {
      "text/plain": [
       "364"
      ]
     },
     "execution_count": 118,
     "metadata": {},
     "output_type": "execute_result"
    }
   ],
   "source": [
    "len(k_subgraphs)"
   ]
  },
  {
   "cell_type": "code",
   "execution_count": 123,
   "metadata": {
    "collapsed": false,
    "jupyter": {
     "outputs_hidden": false
    },
    "pycharm": {
     "name": "#%%\n"
    }
   },
   "outputs": [
    {
     "data": {
      "text/plain": [
       "56014"
      ]
     },
     "execution_count": 123,
     "metadata": {},
     "output_type": "execute_result"
    }
   ],
   "source": [
    "len(train_samples_list)"
   ]
  },
  {
   "cell_type": "code",
   "execution_count": null,
   "metadata": {
    "collapsed": false,
    "jupyter": {
     "outputs_hidden": false
    },
    "pycharm": {
     "name": "#%%\n"
    }
   },
   "outputs": [],
   "source": [
    "def generate_wl_dist_for_ged_pairs(ged_examples_list):\n",
    "    pairs_index_to_dist_map = {}\n",
    "\n",
    "    all_ged_example_list_graphs = []\n",
    "    for ged_example_list in ged_examples_list:\n",
    "        ged_example_list_graphs = [ged_example_list[0].subgraph.g] + [pair.masked_graph.g for pair in ged_example_list]\n",
    "        all_ged_example_list_graphs += ged_example_list_graphs\n",
    "\n",
    "    wl_dist_matrix = get_graph_wl_distances(all_ged_example_list_graphs, node_label=False)\n",
    "\n",
    "    base_graph_index = 0\n",
    "    pairs_index = 0\n",
    "    for ged_example_list_index, ged_example_list in enumerate(ged_examples_list):\n",
    "        for relative_index, pair in enumerate(ged_example_list):\n",
    "            wl_dist = wl_dist_matrix[base_graph_index][base_graph_index + relative_index + 1]\n",
    "            pairs_index_to_dist_map[pairs_index] = wl_dist\n",
    "\n",
    "            pairs_index += 1\n",
    "        base_graph_index += 1 + (relative_index + 1)\n",
    "\n",
    "    return pairs_index_to_dist_map\n",
    "\n",
    "# go over pairs in ged_examples1/2, and for their subgraphs generate wl+dist\n",
    "# only take into account their wl_dist from the all pairs vs all pairs matrix\n",
    "\n",
    "ged_1_examples_pairs_index_to_dist_map = {}\n",
    "ged_2_examples_pairs_index_to_dist_map = {}\n",
    "\n",
    "max_examples_amount = 1000\n",
    "\n",
    "ged_examples_pairs_index_to_dist_map = generate_wl_dist_for_ged_pairs(ged_1_examples[:max_examples_amount] + ged_2_examples[:1000])\n",
    "for pair_index, wl_dist in ged_examples_pairs_index_to_dist_map.items():\n",
    "    if pair_index < len(ged_1_examples):\n",
    "        ged_1_examples_pairs_index_to_dist_map[pair_index] = wl_dist\n",
    "    else:\n",
    "        ged_2_examples_pairs_index_to_dist_map[pair_index] = wl_dist\n",
    "# ged_1_examples_pairs_index_to_dist_map = generate_wl_dist_for_ged_pairs(ged_1_examples)\n",
    "# ged_2_examples_pairs_index_to_dist_map = generate_wl_dist_for_ged_pairs(ged_2_examples)"
   ]
  },
  {
   "cell_type": "code",
   "execution_count": null,
   "metadata": {
    "collapsed": false,
    "jupyter": {
     "outputs_hidden": false
    },
    "pycharm": {
     "name": "#%%\n"
    }
   },
   "outputs": [],
   "source": [
    "max(ged_1_examples_pairs_index_to_dist_map.values())"
   ]
  },
  {
   "cell_type": "code",
   "execution_count": null,
   "metadata": {
    "collapsed": false,
    "jupyter": {
     "outputs_hidden": false
    },
    "pycharm": {
     "name": "#%%\n"
    }
   },
   "outputs": [],
   "source": [
    "min(ged_2_examples_pairs_index_to_dist_map.values())"
   ]
  },
  {
   "cell_type": "code",
   "execution_count": 48,
   "metadata": {
    "collapsed": false,
    "jupyter": {
     "outputs_hidden": false
    },
    "pycharm": {
     "name": "#%%\n"
    }
   },
   "outputs": [],
   "source": [
    "from scipy.stats import norm\n",
    "import seaborn as sns\n",
    "import matplotlib.pyplot as plt\n",
    "\n",
    "def plot_histogram(sequence, x_title=\"\", min_range=None, max_range=None):\n",
    "    # Fit a distribution to the data\n",
    "    if min_range is None:\n",
    "        min_range = min(sequence)\n",
    "    if max_range is None:\n",
    "        max_range = max(sequence)\n",
    "\n",
    "    print(min_range)\n",
    "    print(max_range)\n",
    "    sequence = [item for item in sequence if ((item >= min_range) and (item <= max_range))]\n",
    "\n",
    "    fig, ax = plt.subplots(1)\n",
    "    sns.histplot(sequence, bins='auto', stat='density',\n",
    "                 label='Normalized Histogram', ax=ax)\n",
    "    \n",
    "    mu, std = norm.fit(sequence)\n",
    "    x = np.linspace(min_range, max_range, 100)\n",
    "    if not np.all(x == x[0]):\n",
    "        y = norm.pdf(x, mu, std)\n",
    "    else:\n",
    "        y = np.ones_like(x)\n",
    "    sns.lineplot(x=x, y=y, color='red', label='Fitted Normal Distribution', ax=ax)\n",
    "\n",
    "    # Plot the KDE\n",
    "    sns.kdeplot(sequence, label='KDE', bw_adjust=0.5, ax=ax)\n",
    "\n",
    "    ax.set_xlabel(x_title)\n",
    "    ax.set_ylabel('Density')\n",
    "    ax.set_title(f'{x_title} Distribution')\n",
    "    ax.legend(loc='upper left')\n",
    "    ax.grid(True)\n",
    "    plt.show()"
   ]
  },
  {
   "cell_type": "code",
   "execution_count": null,
   "metadata": {
    "collapsed": false,
    "jupyter": {
     "outputs_hidden": false
    },
    "pycharm": {
     "name": "#%%\n"
    }
   },
   "outputs": [],
   "source": [
    "# set(ged_2_examples[0][1].masked_graph.g.edges).symmetric_difference(set(ged_2_examples[0][1].subgraph.g.edges))"
   ]
  },
  {
   "cell_type": "code",
   "execution_count": null,
   "metadata": {
    "collapsed": false,
    "jupyter": {
     "outputs_hidden": false
    },
    "pycharm": {
     "name": "#%%\n"
    }
   },
   "outputs": [],
   "source": [
    "plot_histogram(list(ged_1_examples_pairs_index_to_dist_map.values()), \"GED positive examples WL distance\")"
   ]
  },
  {
   "cell_type": "code",
   "execution_count": null,
   "metadata": {
    "collapsed": false,
    "jupyter": {
     "outputs_hidden": false
    },
    "pycharm": {
     "name": "#%%\n"
    }
   },
   "outputs": [],
   "source": [
    "plot_histogram(list(ged_2_examples_pairs_index_to_dist_map.values()), \"GED negative examples WL distance\")"
   ]
  },
  {
   "cell_type": "markdown",
   "metadata": {},
   "source": [
    "check 1-WL distance"
   ]
  },
  {
   "cell_type": "code",
   "execution_count": null,
   "metadata": {},
   "outputs": [],
   "source": [
    "# optimized single call for WL distance calculation\n",
    "### NOTE: Wl dist is not stable (depends which batch of graph you applied it with) ###\n",
    "# wl_dist_matrix = get_graph_wl_distances(k_subgraphs, node_label=False)"
   ]
  },
  {
   "cell_type": "code",
   "execution_count": null,
   "metadata": {},
   "outputs": [],
   "source": [
    "# negative_pairs_wl_distances = []\n",
    "# positive_pairs_wl_distances = []\n",
    "#\n",
    "# positive_pairs_index_to_dist_map = {}\n",
    "# negative_pairs_index_to_dist_map = {}\n",
    "#\n",
    "# for i, train_sample in enumerate(train_samples_list):\n",
    "#     is_negative_sample = train_sample.is_negative_sample\n",
    "#     graph1 = train_sample.subgraph\n",
    "#     graph2 = train_sample.masked_graph\n",
    "#\n",
    "#     # s2v_graphs = generate_s2v_graphs([graph1.g, graph2.g], print_stats=False)\n",
    "#\n",
    "#     # distance = graph_metric_nn.forward([(s2v_graphs[0], s2v_graphs[1])]).item()\n",
    "#\n",
    "#     # wl_dist = get_graph_wl_distances([graph1.g, graph2.g], node_label=False)[0][1]\n",
    "#\n",
    "#     graph1_index, graph2_index = train_sample_indices_tuple_list[i]\n",
    "#     wl_dist = wl_dist_matrix[graph1_index][graph2_index]\n",
    "#     wl_dist = round(wl_dist, 6)\n",
    "#\n",
    "#     if is_negative_sample:\n",
    "#         negative_pairs_wl_distances.append(wl_dist)\n",
    "#         negative_pairs_index_to_dist_map[i] = wl_dist\n",
    "#     else:\n",
    "#         positive_pairs_wl_distances.append(wl_dist)\n",
    "#         positive_pairs_index_to_dist_map[i] = wl_dist"
   ]
  },
  {
   "cell_type": "code",
   "execution_count": null,
   "metadata": {},
   "outputs": [],
   "source": [
    "# len(positive_pairs_wl_distances)"
   ]
  },
  {
   "cell_type": "code",
   "execution_count": null,
   "metadata": {},
   "outputs": [],
   "source": [
    "# plot_histogram(positive_pairs_wl_distances, \"positive WL distance\")"
   ]
  },
  {
   "cell_type": "code",
   "execution_count": null,
   "metadata": {},
   "outputs": [],
   "source": [
    "# plot_histogram(negative_pairs_wl_distances, \"negative WL distance\")"
   ]
  },
  {
   "cell_type": "code",
   "execution_count": null,
   "metadata": {},
   "outputs": [],
   "source": [
    "# cnt = 0\n",
    "# for i, dist in negative_pairs_index_to_dist_map.items():\n",
    "#     if dist < 0.13:\n",
    "#         print(i)"
   ]
  },
  {
   "cell_type": "code",
   "execution_count": 49,
   "metadata": {},
   "outputs": [],
   "source": [
    "from subgraph_matching_via_nn.training.MarginLoss import MarginLoss\n",
    "def calc_margin_loss(distances, pos_labels, margin):\n",
    "    negative_labels = 1 - pos_labels\n",
    "    lossCriterion = MarginLoss(margin)\n",
    "    pos_loss, neg_loss = lossCriterion.get_loss(distances, pos_labels, negative_labels)\n",
    "    print(pos_loss.sum().item())\n",
    "    print(neg_loss.sum().item())\n",
    "\n",
    "# margin = 0.001\n",
    "# calc_margin_loss(torch.tensor(positive_pairs_wl_distances+negative_pairs_wl_distances), torch.cat((torch.ones(len(positive_pairs_wl_distances)), torch.zeros(len(negative_pairs_wl_distances)))), margin)"
   ]
  },
  {
   "cell_type": "markdown",
   "metadata": {},
   "source": [
    "Fit GNN on k subgraph pairs"
   ]
  },
  {
   "cell_type": "code",
   "execution_count": 124,
   "metadata": {
    "collapsed": false,
    "jupyter": {
     "outputs_hidden": false
    },
    "pycharm": {
     "name": "#%%\n"
    }
   },
   "outputs": [
    {
     "data": {
      "text/plain": [
       "<torch.autograd.anomaly_mode.set_detect_anomaly at 0x7f1328c024d0>"
      ]
     },
     "execution_count": 124,
     "metadata": {},
     "output_type": "execute_result"
    }
   ],
   "source": [
    "# disable debugging overhead operations\n",
    "torch.autograd.set_detect_anomaly(mode=False)"
   ]
  },
  {
   "cell_type": "code",
   "execution_count": 125,
   "metadata": {},
   "outputs": [],
   "source": [
    "solver_params['margin_loss_margin_value'] = 0.5 #0.25 #0.01"
   ]
  },
  {
   "cell_type": "code",
   "execution_count": 127,
   "metadata": {},
   "outputs": [],
   "source": [
    "# used_train_samples_amount = 50_000\n",
    "used_train_samples_list = train_samples_list#[:used_train_samples_amount] #Needed due to performance issues\n",
    "processes_device_ids = [0, 1, 2, 3]"
   ]
  },
  {
   "cell_type": "code",
   "execution_count": 128,
   "metadata": {
    "collapsed": false,
    "jupyter": {
     "outputs_hidden": false
    },
    "pycharm": {
     "name": "#%%\n"
    }
   },
   "outputs": [
    {
     "data": {
      "text/plain": [
       "56014"
      ]
     },
     "execution_count": 128,
     "metadata": {},
     "output_type": "execute_result"
    }
   ],
   "source": [
    "len(used_train_samples_list)"
   ]
  },
  {
   "cell_type": "code",
   "execution_count": 131,
   "metadata": {},
   "outputs": [],
   "source": [
    "last_checkpoint_model_path = None\n",
    "\n",
    "# val_samples_list = used_train_samples_list\n",
    "model_factory_func = lambda device: GraphCNN(num_layers=5, num_mlp_layers = 2, input_dim=input_dim, hidden_dim=128, output_dim=num_classes, final_dropout=0.5, learn_eps=False, graph_pooling_type=\"sum\", neighbor_pooling_type=\"sum\", device=device)\n",
    "solver_params[\"batch_size\"] = 512 * 8 #32 #2048 #1024 #512\n",
    "solver_params[\"k_update_plot\"] = 1\n",
    "solver_params[\"lr\"] = 1e-1\n",
    "solver_params[\"max_epochs\"] = 2000 #480--\n",
    "trainer, graph_metric_nn, model = init_embedding_net_and_trainer(model_factory_func, last_checkpoint_model_path)\n",
    "\n",
    "# trainer.set_existing_data_loader_paths(\n",
    "#     ['./dataloaders/1702148493.0283618.p',\n",
    "#  './dataloaders/1702148497.9922142.p',\n",
    "#  './dataloaders/1702148502.9499629.p',\n",
    "#  './dataloaders/1702148511.1819935.p'],\n",
    "# []\n",
    "# )"
   ]
  },
  {
   "cell_type": "code",
   "execution_count": 132,
   "metadata": {
    "scrolled": true
   },
   "outputs": [
    {
     "data": {
      "image/png": "[encoded data removed]",
      "text/plain": [
       "<Figure size 1200x800 with 2 Axes>"
      ]
     },
     "metadata": {},
     "output_type": "display_data"
    },
    {
     "name": "stdout",
     "output_type": "stream",
     "text": [
      "epoch train loss\n",
      "\tepoch train loss \t (min:  120.914, max: 47052.246, cur:  132.534)\n",
      "Rank  0 , epoch  46\n",
      "Rank  1 , epoch  46\n",
      "Rank  3 , epoch  46\n",
      "Rank  2 , epoch  46\n"
     ]
    },
    {
     "ename": "KeyboardInterrupt",
     "evalue": "",
     "output_type": "error",
     "traceback": [
      "\u001B[0;31m---------------------------------------------------------------------------\u001B[0m",
      "\u001B[0;31mKeyboardInterrupt\u001B[0m                         Traceback (most recent call last)",
      "Cell \u001B[0;32mIn[132], line 1\u001B[0m\n\u001B[0;32m----> 1\u001B[0m \u001B[43mtrainer\u001B[49m\u001B[38;5;241;43m.\u001B[39;49m\u001B[43mtrain\u001B[49m\u001B[43m(\u001B[49m\u001B[43mprocesses_device_ids\u001B[49m\u001B[38;5;241;43m=\u001B[39;49m\u001B[43mprocesses_device_ids\u001B[49m\u001B[43m,\u001B[49m\u001B[43m \u001B[49m\u001B[43muse_existing_data_loaders\u001B[49m\u001B[38;5;241;43m=\u001B[39;49m\u001B[38;5;28;43;01mFalse\u001B[39;49;00m\u001B[43m,\u001B[49m\u001B[43m \u001B[49m\u001B[43mtrain_samples_list\u001B[49m\u001B[38;5;241;43m=\u001B[39;49m\u001B[43mused_train_samples_list\u001B[49m\u001B[43m,\u001B[49m\u001B[43m \u001B[49m\u001B[43mval_samples_list\u001B[49m\u001B[38;5;241;43m=\u001B[39;49m\u001B[43m[\u001B[49m\u001B[43m]\u001B[49m\u001B[43m)\u001B[49m\n",
      "File \u001B[0;32m~/DANI/GraphMatching/subgraph_matching_via_nn/training/trainer/SimilarityMetricTrainerBase.py:293\u001B[0m, in \u001B[0;36mSimilarityMetricTrainerBase.train\u001B[0;34m(self, processes_device_ids, use_existing_data_loaders, train_samples_list, val_samples_list, new_samples_amount)\u001B[0m\n\u001B[1;32m    289\u001B[0m         processes\u001B[38;5;241m.\u001B[39mappend(p)\n\u001B[1;32m    291\u001B[0m dump_path \u001B[38;5;241m=\u001B[39m \u001B[38;5;28mself\u001B[39m\u001B[38;5;241m.\u001B[39m__create_dump_dir(\u001B[38;5;28mself\u001B[39m\u001B[38;5;241m.\u001B[39mdump_base_path)\n\u001B[0;32m--> 293\u001B[0m \u001B[38;5;28;43mself\u001B[39;49m\u001B[38;5;241;43m.\u001B[39;49m\u001B[43mmonitoring_training\u001B[49m\u001B[43m(\u001B[49m\u001B[43mqueues\u001B[49m\u001B[43m,\u001B[49m\u001B[43m \u001B[49m\u001B[43mdump_path\u001B[49m\u001B[43m)\u001B[49m\n\u001B[1;32m    295\u001B[0m \u001B[38;5;28;01mfor\u001B[39;00m i, p \u001B[38;5;129;01min\u001B[39;00m \u001B[38;5;28menumerate\u001B[39m(processes):\n\u001B[1;32m    296\u001B[0m     p\u001B[38;5;241m.\u001B[39mjoin()\n",
      "File \u001B[0;32m~/DANI/GraphMatching/subgraph_matching_via_nn/training/trainer/SimilarityMetricTrainerBase.py:318\u001B[0m, in \u001B[0;36mSimilarityMetricTrainerBase.monitoring_training\u001B[0;34m(self, queues, dump_path)\u001B[0m\n\u001B[1;32m    315\u001B[0m monitoring_update_lists \u001B[38;5;241m=\u001B[39m []\n\u001B[1;32m    317\u001B[0m \u001B[38;5;28;01mfor\u001B[39;00m q \u001B[38;5;129;01min\u001B[39;00m queues:\n\u001B[0;32m--> 318\u001B[0m     last_monitoring_update_list \u001B[38;5;241m=\u001B[39m \u001B[43mq\u001B[49m\u001B[38;5;241;43m.\u001B[39;49m\u001B[43mget\u001B[49m\u001B[43m(\u001B[49m\u001B[43m)\u001B[49m\n\u001B[1;32m    320\u001B[0m     \u001B[38;5;28;01mif\u001B[39;00m last_monitoring_update_list \u001B[38;5;241m==\u001B[39m SimilarityMetricTrainerBase\u001B[38;5;241m.\u001B[39mSENTINEL:\n\u001B[1;32m    321\u001B[0m         \u001B[38;5;28mprint\u001B[39m(\u001B[38;5;124mf\u001B[39m\u001B[38;5;124m\"\u001B[39m\u001B[38;5;124mMonitoring process is exiting, epochs=\u001B[39m\u001B[38;5;132;01m{\u001B[39;00mepoch_ctr\u001B[38;5;132;01m}\u001B[39;00m\u001B[38;5;124m\"\u001B[39m)\n",
      "File \u001B[0;32m~/miniconda3/lib/python3.11/multiprocessing/queues.py:103\u001B[0m, in \u001B[0;36mQueue.get\u001B[0;34m(self, block, timeout)\u001B[0m\n\u001B[1;32m    101\u001B[0m \u001B[38;5;28;01mif\u001B[39;00m block \u001B[38;5;129;01mand\u001B[39;00m timeout \u001B[38;5;129;01mis\u001B[39;00m \u001B[38;5;28;01mNone\u001B[39;00m:\n\u001B[1;32m    102\u001B[0m     \u001B[38;5;28;01mwith\u001B[39;00m \u001B[38;5;28mself\u001B[39m\u001B[38;5;241m.\u001B[39m_rlock:\n\u001B[0;32m--> 103\u001B[0m         res \u001B[38;5;241m=\u001B[39m \u001B[38;5;28;43mself\u001B[39;49m\u001B[38;5;241;43m.\u001B[39;49m\u001B[43m_recv_bytes\u001B[49m\u001B[43m(\u001B[49m\u001B[43m)\u001B[49m\n\u001B[1;32m    104\u001B[0m     \u001B[38;5;28mself\u001B[39m\u001B[38;5;241m.\u001B[39m_sem\u001B[38;5;241m.\u001B[39mrelease()\n\u001B[1;32m    105\u001B[0m \u001B[38;5;28;01melse\u001B[39;00m:\n",
      "File \u001B[0;32m~/miniconda3/lib/python3.11/multiprocessing/connection.py:215\u001B[0m, in \u001B[0;36m_ConnectionBase.recv_bytes\u001B[0;34m(self, maxlength)\u001B[0m\n\u001B[1;32m    213\u001B[0m \u001B[38;5;28;01mif\u001B[39;00m maxlength \u001B[38;5;129;01mis\u001B[39;00m \u001B[38;5;129;01mnot\u001B[39;00m \u001B[38;5;28;01mNone\u001B[39;00m \u001B[38;5;129;01mand\u001B[39;00m maxlength \u001B[38;5;241m<\u001B[39m \u001B[38;5;241m0\u001B[39m:\n\u001B[1;32m    214\u001B[0m     \u001B[38;5;28;01mraise\u001B[39;00m \u001B[38;5;167;01mValueError\u001B[39;00m(\u001B[38;5;124m\"\u001B[39m\u001B[38;5;124mnegative maxlength\u001B[39m\u001B[38;5;124m\"\u001B[39m)\n\u001B[0;32m--> 215\u001B[0m buf \u001B[38;5;241m=\u001B[39m \u001B[38;5;28;43mself\u001B[39;49m\u001B[38;5;241;43m.\u001B[39;49m\u001B[43m_recv_bytes\u001B[49m\u001B[43m(\u001B[49m\u001B[43mmaxlength\u001B[49m\u001B[43m)\u001B[49m\n\u001B[1;32m    216\u001B[0m \u001B[38;5;28;01mif\u001B[39;00m buf \u001B[38;5;129;01mis\u001B[39;00m \u001B[38;5;28;01mNone\u001B[39;00m:\n\u001B[1;32m    217\u001B[0m     \u001B[38;5;28mself\u001B[39m\u001B[38;5;241m.\u001B[39m_bad_message_length()\n",
      "File \u001B[0;32m~/miniconda3/lib/python3.11/multiprocessing/connection.py:413\u001B[0m, in \u001B[0;36mConnection._recv_bytes\u001B[0;34m(self, maxsize)\u001B[0m\n\u001B[1;32m    412\u001B[0m \u001B[38;5;28;01mdef\u001B[39;00m \u001B[38;5;21m_recv_bytes\u001B[39m(\u001B[38;5;28mself\u001B[39m, maxsize\u001B[38;5;241m=\u001B[39m\u001B[38;5;28;01mNone\u001B[39;00m):\n\u001B[0;32m--> 413\u001B[0m     buf \u001B[38;5;241m=\u001B[39m \u001B[38;5;28;43mself\u001B[39;49m\u001B[38;5;241;43m.\u001B[39;49m\u001B[43m_recv\u001B[49m\u001B[43m(\u001B[49m\u001B[38;5;241;43m4\u001B[39;49m\u001B[43m)\u001B[49m\n\u001B[1;32m    414\u001B[0m     size, \u001B[38;5;241m=\u001B[39m struct\u001B[38;5;241m.\u001B[39munpack(\u001B[38;5;124m\"\u001B[39m\u001B[38;5;124m!i\u001B[39m\u001B[38;5;124m\"\u001B[39m, buf\u001B[38;5;241m.\u001B[39mgetvalue())\n\u001B[1;32m    415\u001B[0m     \u001B[38;5;28;01mif\u001B[39;00m size \u001B[38;5;241m==\u001B[39m \u001B[38;5;241m-\u001B[39m\u001B[38;5;241m1\u001B[39m:\n",
      "File \u001B[0;32m~/miniconda3/lib/python3.11/multiprocessing/connection.py:378\u001B[0m, in \u001B[0;36mConnection._recv\u001B[0;34m(self, size, read)\u001B[0m\n\u001B[1;32m    376\u001B[0m remaining \u001B[38;5;241m=\u001B[39m size\n\u001B[1;32m    377\u001B[0m \u001B[38;5;28;01mwhile\u001B[39;00m remaining \u001B[38;5;241m>\u001B[39m \u001B[38;5;241m0\u001B[39m:\n\u001B[0;32m--> 378\u001B[0m     chunk \u001B[38;5;241m=\u001B[39m read(handle, remaining)\n\u001B[1;32m    379\u001B[0m     n \u001B[38;5;241m=\u001B[39m \u001B[38;5;28mlen\u001B[39m(chunk)\n\u001B[1;32m    380\u001B[0m     \u001B[38;5;28;01mif\u001B[39;00m n \u001B[38;5;241m==\u001B[39m \u001B[38;5;241m0\u001B[39m:\n",
      "\u001B[0;31mKeyboardInterrupt\u001B[0m: "
     ]
    },
    {
     "name": "stderr",
     "output_type": "stream",
     "text": [
      "Process Process-328:\n",
      "Traceback (most recent call last):\n",
      "  File \"/home/sanketh/miniconda3/lib/python3.11/multiprocessing/process.py\", line 314, in _bootstrap\n",
      "    self.run()\n",
      "  File \"/home/sanketh/miniconda3/lib/python3.11/multiprocessing/process.py\", line 108, in run\n",
      "    self._target(*self._args, **self._kwargs)\n",
      "  File \"/home/sanketh/DANI/GraphMatching/subgraph_matching_via_nn/training/trainer/SimilarityMetricTrainerBase.py\", line 44, in init_process\n",
      "    fn(device_id, q, train_loader, val_loader)\n",
      "  File \"/home/sanketh/DANI/GraphMatching/subgraph_matching_via_nn/training/trainer/SimilarityMetricTrainerBase.py\", line 84, in _training_worker_run_func\n",
      "    return self._train_loop(self.graph_similarity_module, train_loader, val_loader, q)\n",
      "           ^^^^^^^^^^^^^^^^^^^^^^^^^^^^^^^^^^^^^^^^^^^^^^^^^^^^^^^^^^^^^^^^^^^^^^^^^^^\n",
      "  File \"/home/sanketh/DANI/GraphMatching/subgraph_matching_via_nn/training/trainer/SimilarityMetricTrainerBase.py\", line 441, in _train_loop\n",
      "    train_loss = self.calculate_loss_for_batch(train_batch, is_train=True)\n",
      "                 ^^^^^^^^^^^^^^^^^^^^^^^^^^^^^^^^^^^^^^^^^^^^^^^^^^^^^^^^^\n",
      "  File \"/home/sanketh/DANI/GraphMatching/subgraph_matching_via_nn/training/trainer/SimilarityMetricTrainerBase.py\", line 573, in calculate_loss_for_batch\n",
      "    batch_loss = self._get_pairs_list_loss(batch)\n",
      "                 ^^^^^^^^^^^^^^^^^^^^^^^^^^^^^^^^\n",
      "  File \"/home/sanketh/DANI/GraphMatching/subgraph_matching_via_nn/training/trainer/S2VGraphEmbeddingSimilarityMetricTrainer.py\", line 74, in _get_pairs_list_loss\n",
      "    embeddings_metric_loss = self.graph_similarity_module.forward(\n",
      "                             ^^^^^^^^^^^^^^^^^^^^^^^^^^^^^^^^^^^^^\n",
      "  File \"/home/sanketh/DANI/GraphMatching/subgraph_matching_via_nn/graph_metric_networks/graph_metric_nn.py\", line 49, in forward\n",
      "    embeddings = embedding_network.forward_graphs(all_graphs)\n",
      "                 ^^^^^^^^^^^^^^^^^^^^^^^^^^^^^^^^^^^^^^^^^^^^\n",
      "  File \"/home/sanketh/DANI/GraphMatching/subgraph_matching_via_nn/graph_embedding_networks/gnn_embedding_network.py\", line 14, in forward_graphs\n",
      "    embeddings = self.gnn_model.get_embedding(batch_graph)\n",
      "                 ^^^^^^^^^^^^^^^^^^^^^^^^^^^^^^^^^^^^^^^^^\n",
      "  File \"/home/sanketh/DANI/GraphMatching/powerful_gnns/models/graphcnn.py\", line 238, in get_embedding\n",
      "    graph_pool, hidden_rep = self.get_hidden_rep_over_layers(batch_graph)\n",
      "                             ^^^^^^^^^^^^^^^^^^^^^^^^^^^^^^^^^^^^^^^^^^^^\n",
      "  File \"/home/sanketh/DANI/GraphMatching/powerful_gnns/models/graphcnn.py\", line 212, in get_hidden_rep_over_layers\n",
      "    graph_pool = self.__preprocess_graphpool(batch_graph)\n",
      "                 ^^^^^^^^^^^^^^^^^^^^^^^^^^^^^^^^^^^^^^^^\n",
      "  File \"/home/sanketh/DANI/GraphMatching/powerful_gnns/models/graphcnn.py\", line 147, in __preprocess_graphpool\n",
      "    idx.extend([[i, j] for j in range(start_idx[i], start_idx[i+1], 1)])\n",
      "               ^^^^^^^^^^^^^^^^^^^^^^^^^^^^^^^^^^^^^^^^^^^^^^^^^^^^^^^^\n",
      "  File \"/home/sanketh/DANI/GraphMatching/powerful_gnns/models/graphcnn.py\", line 147, in <listcomp>\n",
      "    idx.extend([[i, j] for j in range(start_idx[i], start_idx[i+1], 1)])\n",
      "               ^^^^^^^^^^^^^^^^^^^^^^^^^^^^^^^^^^^^^^^^^^^^^^^^^^^^^^^^\n",
      "KeyboardInterrupt\n",
      "Traceback (most recent call last):\n",
      "  File \"<string>\", line 1, in <module>\n",
      "  File \"/home/sanketh/miniconda3/lib/python3.11/multiprocessing/spawn.py\", line 120, in spawn_main\n",
      "    exitcode = _main(fd, parent_sentinel)\n",
      "               ^^^^^^^^^^^^^^^^^^^^^^^^^^\n",
      "  File \"/home/sanketh/miniconda3/lib/python3.11/multiprocessing/spawn.py\", line 133, in _main\n",
      "    return self._bootstrap(parent_sentinel)\n",
      "           ^^^^^^^^^^^^^^^^^^^^^^^^^^^^^^^^\n",
      "  File \"/home/sanketh/miniconda3/lib/python3.11/multiprocessing/process.py\", line 332, in _bootstrap\n",
      "    threading._shutdown()\n",
      "  File \"/home/sanketh/miniconda3/lib/python3.11/threading.py\", line 1534, in _shutdown\n",
      "    def _shutdown():\n",
      "    \n",
      "KeyboardInterrupt\n",
      "Process Process-327:\n",
      "Process Process-329:\n",
      "Traceback (most recent call last):\n",
      "Traceback (most recent call last):\n",
      "  File \"/home/sanketh/.local/share/virtualenvs/GraphMatching-_Kt3QSDD/lib/python3.11/site-packages/torch/distributed/c10d_logger.py\", line 47, in wrapper\n",
      "    return func(*args, **kwargs)\n",
      "           ^^^^^^^^^^^^^^^^^^^^^\n",
      "  File \"/home/sanketh/.local/share/virtualenvs/GraphMatching-_Kt3QSDD/lib/python3.11/site-packages/torch/distributed/distributed_c10d.py\", line 2055, in all_reduce\n",
      "    work.wait()\n",
      "RuntimeError: [../third_party/gloo/gloo/transport/tcp/pair.cc:534] Connection closed by peer [127.0.1.1]:30594\n",
      "  File \"/home/sanketh/.local/share/virtualenvs/GraphMatching-_Kt3QSDD/lib/python3.11/site-packages/torch/distributed/c10d_logger.py\", line 47, in wrapper\n",
      "    return func(*args, **kwargs)\n",
      "           ^^^^^^^^^^^^^^^^^^^^^\n",
      "\n",
      "During handling of the above exception, another exception occurred:\n",
      "\n",
      "  File \"/home/sanketh/.local/share/virtualenvs/GraphMatching-_Kt3QSDD/lib/python3.11/site-packages/torch/distributed/distributed_c10d.py\", line 2055, in all_reduce\n",
      "    work.wait()\n",
      "Traceback (most recent call last):\n",
      "RuntimeError: [../third_party/gloo/gloo/transport/tcp/pair.cc:534] Connection closed by peer [127.0.0.1]:63176\n",
      "\n",
      "During handling of the above exception, another exception occurred:\n",
      "\n",
      "Traceback (most recent call last):\n",
      "  File \"/home/sanketh/miniconda3/lib/python3.11/multiprocessing/process.py\", line 314, in _bootstrap\n",
      "    self.run()\n",
      "  File \"/home/sanketh/miniconda3/lib/python3.11/multiprocessing/process.py\", line 108, in run\n",
      "    self._target(*self._args, **self._kwargs)\n",
      "  File \"/home/sanketh/DANI/GraphMatching/subgraph_matching_via_nn/training/trainer/SimilarityMetricTrainerBase.py\", line 44, in init_process\n",
      "    fn(device_id, q, train_loader, val_loader)\n",
      "  File \"/home/sanketh/DANI/GraphMatching/subgraph_matching_via_nn/training/trainer/SimilarityMetricTrainerBase.py\", line 84, in _training_worker_run_func\n",
      "    return self._train_loop(self.graph_similarity_module, train_loader, val_loader, q)\n",
      "           ^^^^^^^^^^^^^^^^^^^^^^^^^^^^^^^^^^^^^^^^^^^^^^^^^^^^^^^^^^^^^^^^^^^^^^^^^^^\n",
      "  File \"/home/sanketh/DANI/GraphMatching/subgraph_matching_via_nn/training/trainer/SimilarityMetricTrainerBase.py\", line 445, in _train_loop\n",
      "    self.optimization_step(model, train_loss)\n",
      "  File \"/home/sanketh/DANI/GraphMatching/subgraph_matching_via_nn/training/trainer/SimilarityMetricTrainerBase.py\", line 156, in optimization_step\n",
      "    average_gradients(model)\n",
      "  File \"/home/sanketh/DANI/GraphMatching/subgraph_matching_via_nn/training/trainer/dataset_partitioning.py\", line 72, in average_gradients\n",
      "    dist.all_reduce(param.grad.data, op=dist.ReduceOp.SUM)\n",
      "  File \"/home/sanketh/.local/share/virtualenvs/GraphMatching-_Kt3QSDD/lib/python3.11/site-packages/torch/distributed/c10d_logger.py\", line 49, in wrapper\n",
      "    if dist.is_initialized():\n",
      "       ^^^^^^^^^^^^^^^^^^^^^\n",
      "  File \"/home/sanketh/.local/share/virtualenvs/GraphMatching-_Kt3QSDD/lib/python3.11/site-packages/torch/distributed/distributed_c10d.py\", line 908, in is_initialized\n",
      "    def is_initialized() -> bool:\n",
      "    \n",
      "KeyboardInterrupt\n",
      "  File \"/home/sanketh/miniconda3/lib/python3.11/multiprocessing/process.py\", line 314, in _bootstrap\n",
      "    self.run()\n",
      "  File \"/home/sanketh/miniconda3/lib/python3.11/multiprocessing/process.py\", line 108, in run\n",
      "    self._target(*self._args, **self._kwargs)\n",
      "  File \"/home/sanketh/DANI/GraphMatching/subgraph_matching_via_nn/training/trainer/SimilarityMetricTrainerBase.py\", line 44, in init_process\n",
      "    fn(device_id, q, train_loader, val_loader)\n",
      "  File \"/home/sanketh/DANI/GraphMatching/subgraph_matching_via_nn/training/trainer/SimilarityMetricTrainerBase.py\", line 84, in _training_worker_run_func\n",
      "    return self._train_loop(self.graph_similarity_module, train_loader, val_loader, q)\n",
      "           ^^^^^^^^^^^^^^^^^^^^^^^^^^^^^^^^^^^^^^^^^^^^^^^^^^^^^^^^^^^^^^^^^^^^^^^^^^^\n",
      "  File \"/home/sanketh/DANI/GraphMatching/subgraph_matching_via_nn/training/trainer/SimilarityMetricTrainerBase.py\", line 445, in _train_loop\n",
      "    self.optimization_step(model, train_loss)\n",
      "  File \"/home/sanketh/DANI/GraphMatching/subgraph_matching_via_nn/training/trainer/SimilarityMetricTrainerBase.py\", line 156, in optimization_step\n",
      "    average_gradients(model)\n",
      "  File \"/home/sanketh/DANI/GraphMatching/subgraph_matching_via_nn/training/trainer/dataset_partitioning.py\", line 72, in average_gradients\n",
      "    dist.all_reduce(param.grad.data, op=dist.ReduceOp.SUM)\n",
      "  File \"/home/sanketh/.local/share/virtualenvs/GraphMatching-_Kt3QSDD/lib/python3.11/site-packages/torch/distributed/c10d_logger.py\", line 49, in wrapper\n",
      "    if dist.is_initialized():\n",
      "       ^^^^^^^^^^^^^^^^^^^^^\n",
      "  File \"/home/sanketh/.local/share/virtualenvs/GraphMatching-_Kt3QSDD/lib/python3.11/site-packages/torch/distributed/distributed_c10d.py\", line 908, in is_initialized\n",
      "    def is_initialized() -> bool:\n",
      "    \n",
      "KeyboardInterrupt\n",
      "Process Process-330:\n",
      "Traceback (most recent call last):\n",
      "  File \"/home/sanketh/.local/share/virtualenvs/GraphMatching-_Kt3QSDD/lib/python3.11/site-packages/torch/distributed/c10d_logger.py\", line 47, in wrapper\n",
      "    return func(*args, **kwargs)\n",
      "           ^^^^^^^^^^^^^^^^^^^^^\n",
      "  File \"/home/sanketh/.local/share/virtualenvs/GraphMatching-_Kt3QSDD/lib/python3.11/site-packages/torch/distributed/distributed_c10d.py\", line 2055, in all_reduce\n",
      "    work.wait()\n",
      "RuntimeError: [../third_party/gloo/gloo/transport/tcp/pair.cc:534] Connection closed by peer [127.0.1.1]:44939\n",
      "\n",
      "During handling of the above exception, another exception occurred:\n",
      "\n",
      "Traceback (most recent call last):\n",
      "  File \"/home/sanketh/miniconda3/lib/python3.11/multiprocessing/process.py\", line 314, in _bootstrap\n",
      "    self.run()\n",
      "  File \"/home/sanketh/miniconda3/lib/python3.11/multiprocessing/process.py\", line 108, in run\n",
      "    self._target(*self._args, **self._kwargs)\n",
      "  File \"/home/sanketh/DANI/GraphMatching/subgraph_matching_via_nn/training/trainer/SimilarityMetricTrainerBase.py\", line 44, in init_process\n",
      "    fn(device_id, q, train_loader, val_loader)\n",
      "  File \"/home/sanketh/DANI/GraphMatching/subgraph_matching_via_nn/training/trainer/SimilarityMetricTrainerBase.py\", line 84, in _training_worker_run_func\n",
      "    return self._train_loop(self.graph_similarity_module, train_loader, val_loader, q)\n",
      "           ^^^^^^^^^^^^^^^^^^^^^^^^^^^^^^^^^^^^^^^^^^^^^^^^^^^^^^^^^^^^^^^^^^^^^^^^^^^\n",
      "  File \"/home/sanketh/DANI/GraphMatching/subgraph_matching_via_nn/training/trainer/SimilarityMetricTrainerBase.py\", line 445, in _train_loop\n",
      "    self.optimization_step(model, train_loss)\n",
      "  File \"/home/sanketh/DANI/GraphMatching/subgraph_matching_via_nn/training/trainer/SimilarityMetricTrainerBase.py\", line 156, in optimization_step\n",
      "    average_gradients(model)\n",
      "  File \"/home/sanketh/DANI/GraphMatching/subgraph_matching_via_nn/training/trainer/dataset_partitioning.py\", line 72, in average_gradients\n",
      "    dist.all_reduce(param.grad.data, op=dist.ReduceOp.SUM)\n",
      "  File \"/home/sanketh/.local/share/virtualenvs/GraphMatching-_Kt3QSDD/lib/python3.11/site-packages/torch/distributed/c10d_logger.py\", line 49, in wrapper\n",
      "    if dist.is_initialized():\n",
      "       ^^^^^^^^^^^^^^^^^^^^^\n",
      "  File \"/home/sanketh/.local/share/virtualenvs/GraphMatching-_Kt3QSDD/lib/python3.11/site-packages/torch/distributed/distributed_c10d.py\", line 908, in is_initialized\n",
      "    def is_initialized() -> bool:\n",
      "    \n",
      "KeyboardInterrupt\n"
     ]
    }
   ],
   "source": [
    "trainer.train(processes_device_ids=processes_device_ids, use_existing_data_loaders=False, train_samples_list=used_train_samples_list, val_samples_list=[])"
   ]
  },
  {
   "cell_type": "code",
   "execution_count": null,
   "metadata": {},
   "outputs": [],
   "source": [
    "# GED2 -> \"./mp/1703271648.8009052/best_model_state_dict.pt\", not seperable well\n",
    "# GED4 - > \"\"./mp/1703279923.1549501/best_model_state_dict.pt\", seperable well (not perfect but close)"
   ]
  },
  {
   "cell_type": "code",
   "execution_count": 133,
   "metadata": {},
   "outputs": [],
   "source": [
    "trainer, graph_metric_nn, model = init_embedding_net_and_trainer(model_factory_func, \"./mp/1703292608.3179166/best_model_state_dict.pt\")\n",
    "_ = graph_metric_nn.eval()"
   ]
  },
  {
   "cell_type": "code",
   "execution_count": 134,
   "metadata": {},
   "outputs": [],
   "source": [
    "def get_examples_distances(trainer, samples):\n",
    "\n",
    "    train_loaders, val_loaders = trainer.get_data_loaders(samples, [], new_samples_amount=0, device_ids=[0])\n",
    "    \n",
    "    positive_distances = []\n",
    "    negative_distances = []\n",
    "    \n",
    "    # max_pair_batches_to_test = 10\n",
    "    \n",
    "    i = 0\n",
    "    \n",
    "    for pairs_batch in train_loaders[0]:\n",
    "        # if i >= max_pair_batches_to_test:\n",
    "        #     break\n",
    "        i += 1\n",
    "    \n",
    "        with torch.no_grad():\n",
    "            distances = graph_metric_nn.forward(\n",
    "                [sample.s2v_graphs for sample in pairs_batch]\n",
    "            )\n",
    "        \n",
    "        for pair, distance in zip(pairs_batch, distances):\n",
    "            distance = distance.item()\n",
    "            is_negative_example = pair.pair_sample_info.is_negative_sample\n",
    "            # print(f\"{i} : {distance}\")\n",
    "            \n",
    "            if is_negative_example==False:\n",
    "                positive_distances.append(distance)\n",
    "                # if distance > solver_params['margin_loss_margin_value']:\n",
    "                #     print(f\"positive loss term not zero, as distance for this positive example pair is {distance}\")\n",
    "            else:\n",
    "                negative_distances.append(distance)\n",
    "                # if distance < solver_params['margin_loss_margin_value']:\n",
    "                #     print(f\"negative loss term not zero, as distance for this negative example pair is {distance}\")\n",
    "    return positive_distances, negative_distances"
   ]
  },
  {
   "cell_type": "code",
   "execution_count": 135,
   "metadata": {},
   "outputs": [],
   "source": [
    "positive_distances, negative_distances = get_examples_distances(trainer, used_train_samples_list)"
   ]
  },
  {
   "cell_type": "code",
   "execution_count": 136,
   "metadata": {},
   "outputs": [
    {
     "data": {
      "text/plain": [
       "[0.003724995069205761,\n",
       " 0.0011193768586963415,\n",
       " 0.000566187547519803,\n",
       " 0.002779189730063081,\n",
       " 0.000603376014623791,\n",
       " 0.0002910311450250447,\n",
       " 0.0011125414166599512,\n",
       " 0.0002638468286022544,\n",
       " 0.0009379243128933012,\n",
       " 0.0015376063529402018,\n",
       " 0.0023021053057163954,\n",
       " 0.0012744629057124257,\n",
       " 0.0008943018619902432,\n",
       " 0.0004619591636583209,\n",
       " 0.0006734486669301987,\n",
       " 0.0018815554212778807,\n",
       " 0.0002685952349565923,\n",
       " 0.04372359439730644,\n",
       " 0.0017032038886100054,\n",
       " 0.0015666417311877012,\n",
       " 0.004124593921005726,\n",
       " 0.0012141021434217691,\n",
       " 0.005680979695171118,\n",
       " 0.0024385075084865093,\n",
       " 0.0005157350678928196,\n",
       " 0.04512276127934456,\n",
       " 0.0039359936490654945,\n",
       " 0.02481447532773018,\n",
       " 0.01393942255526781,\n",
       " 0.003282413352280855,\n",
       " 0.0006893104873597622,\n",
       " 0.001029432751238346,\n",
       " 0.00694405660033226,\n",
       " 0.002175613073632121,\n",
       " 0.0005495721707120538,\n",
       " 0.0066164713352918625,\n",
       " 0.002750891726464033,\n",
       " 0.01983780413866043,\n",
       " 0.008804762735962868,\n",
       " 0.014224529266357422,\n",
       " 0.00370086170732975,\n",
       " 0.00029644748428836465,\n",
       " 0.0009772996418178082,\n",
       " 0.06455196440219879,\n",
       " 0.002370305825024843,\n",
       " 0.005694995168596506,\n",
       " 0.04340667277574539,\n",
       " 0.007804208435118198,\n",
       " 0.011416994966566563,\n",
       " 0.009491970762610435,\n",
       " 0.048403095453977585,\n",
       " 0.006944368127733469,\n",
       " 0.00026859622448682785,\n",
       " 0.009735877625644207,\n",
       " 0.015598688274621964,\n",
       " 0.00011671504034893587,\n",
       " 0.03239639848470688,\n",
       " 0.006831954699009657,\n",
       " 0.00650940602645278,\n",
       " 0.001729545183479786,\n",
       " 0.000886268971953541,\n",
       " 0.0036810236051678658,\n",
       " 0.001603392418473959,\n",
       " 0.007782024797052145,\n",
       " 0.000121673772810027,\n",
       " 0.0024417517706751823,\n",
       " 0.00048484583385288715,\n",
       " 0.00779189495369792,\n",
       " 0.06177086383104324,\n",
       " 0.00014820460637565702,\n",
       " 0.013470359146595001,\n",
       " 0.0034796176478266716,\n",
       " 0.0002685952640604228,\n",
       " 0.09829189628362656,\n",
       " 0.008684823289513588,\n",
       " 0.001854617614299059,\n",
       " 0.00021835729421582073,\n",
       " 0.01912771910429001,\n",
       " 0.0004047416732646525,\n",
       " 0.00017770679551176727,\n",
       " 0.003535184310749173,\n",
       " 0.006234964821487665,\n",
       " 0.002123564248904586,\n",
       " 0.0015782392583787441,\n",
       " 0.003649716265499592,\n",
       " 0.002825104631483555,\n",
       " 0.04903625696897507,\n",
       " 0.0018001045100390911,\n",
       " 0.0030464609153568745,\n",
       " 0.004369446076452732,\n",
       " 0.0346422977745533,\n",
       " 0.000404738646466285,\n",
       " 0.000728730286937207,\n",
       " 0.0003411401994526386,\n",
       " 0.007323534227907658,\n",
       " 0.006057582329958677,\n",
       " 0.0010993750765919685,\n",
       " 0.004661384038627148,\n",
       " 0.0003411419747862965,\n",
       " 0.0028423818293958902,\n",
       " 8.653151598991826e-05,\n",
       " 0.001468324102461338,\n",
       " 0.0007712638471275568,\n",
       " 0.004369448870420456,\n",
       " 0.00041508875438012183,\n",
       " 0.0025712032802402973,\n",
       " 0.0030464590527117252,\n",
       " 0.0051780459471046925,\n",
       " 0.00026479188818484545,\n",
       " 0.0026500422973185778,\n",
       " 0.00022599505609832704,\n",
       " 0.0012141044717282057,\n",
       " 0.001150675816461444,\n",
       " 0.001695396495051682,\n",
       " 0.04372356832027435,\n",
       " 0.0030231373384594917,\n",
       " 0.004050885327160358,\n",
       " 0.008788086473941803,\n",
       " 0.009491955861449242,\n",
       " 0.00040474365232512355,\n",
       " 0.009491967037320137,\n",
       " 0.002503796946257353,\n",
       " 0.0203956738114357,\n",
       " 0.006662754341959953,\n",
       " 0.002595388563349843,\n",
       " 0.007534882519394159,\n",
       " 0.00026813556905835867,\n",
       " 0.002802877454087138,\n",
       " 0.011811226606369019,\n",
       " 0.00440307566896081,\n",
       " 0.0015376070514321327,\n",
       " 0.0038705612532794476,\n",
       " 0.003587349783629179,\n",
       " 0.0006875183316878974,\n",
       " 0.0030222213827073574,\n",
       " 0.00543473195284605,\n",
       " 0.0007735683466307819,\n",
       " 0.000632721115835011,\n",
       " 0.0005022944533266127,\n",
       " 0.0009721643291413784,\n",
       " 0.0009833236690610647,\n",
       " 0.031747717410326004,\n",
       " 0.0011059429962188005,\n",
       " 0.001081816153600812,\n",
       " 0.02375873550772667,\n",
       " 0.002350738737732172,\n",
       " 0.003587346989661455,\n",
       " 0.003681018715724349,\n",
       " 0.0057877893559634686,\n",
       " 0.00012484662875067443,\n",
       " 0.0012304570991545916,\n",
       " 0.005343325436115265,\n",
       " 0.00023235310800373554,\n",
       " 0.0012750859605148435,\n",
       " 0.03257919102907181,\n",
       " 0.002355816075578332,\n",
       " 0.03174768015742302,\n",
       " 0.00046195840695872903,\n",
       " 0.0013680655974894762,\n",
       " 0.0024708821438252926,\n",
       " 0.0299206729978323,\n",
       " 0.0033714445307850838,\n",
       " 0.0008229794329963624,\n",
       " 0.004739328287541866,\n",
       " 0.0022569289430975914,\n",
       " 0.0367116779088974,\n",
       " 0.003408470656722784,\n",
       " 0.00013053888687863946,\n",
       " 0.0020451850723475218,\n",
       " 0.006944394204765558,\n",
       " 0.012960593216121197,\n",
       " 0.0028574129100888968,\n",
       " 0.004165965598076582,\n",
       " 0.002146985149011016,\n",
       " 0.002630427945405245,\n",
       " 0.0016953969607129693,\n",
       " 0.062151722609996796,\n",
       " 0.00017199848662130535,\n",
       " 0.0016033875290304422,\n",
       " 0.009985003620386124,\n",
       " 0.0005609552608802915,\n",
       " 0.0018174538854509592,\n",
       " 0.004997163079679012,\n",
       " 0.0020465217530727386,\n",
       " 0.003412286750972271,\n",
       " 0.0009379268158227205,\n",
       " 0.00012484632316045463,\n",
       " 0.002889114897698164,\n",
       " 0.024128250777721405,\n",
       " 0.002390570007264614,\n",
       " 0.002291550626978278,\n",
       " 0.006189290434122086,\n",
       " 0.003022211603820324,\n",
       " 0.004522804170846939,\n",
       " 0.0003830855421256274,\n",
       " 0.0008881556568667293,\n",
       " 0.0047393119893968105,\n",
       " 0.01462862640619278,\n",
       " 0.0003411419747862965,\n",
       " 0.0008428094442933798,\n",
       " 0.00113293353933841,\n",
       " 0.007101462222635746,\n",
       " 0.002802877454087138,\n",
       " 0.0030496795661747456,\n",
       " 0.0019237981177866459,\n",
       " 0.005112588871270418,\n",
       " 0.00614186841994524,\n",
       " 0.000515736872330308,\n",
       " 0.0006466511986218393,\n",
       " 0.0040455348789691925,\n",
       " 0.0019881417974829674,\n",
       " 0.00244327075779438,\n",
       " 0.0003411419747862965,\n",
       " 0.01811082474887371,\n",
       " 0.006234961561858654,\n",
       " 0.0012762121623381972,\n",
       " 0.0005543362349271774,\n",
       " 0.05790805444121361,\n",
       " 0.00124223786406219,\n",
       " 0.003665961790829897,\n",
       " 0.005343326833099127,\n",
       " 0.004586596507579088,\n",
       " 0.0016536380862817168,\n",
       " 0.002595395315438509,\n",
       " 0.0017072539776563644,\n",
       " 0.004997154697775841,\n",
       " 0.0018328875303268433,\n",
       " 0.000589060946367681,\n",
       " 0.04903629794716835,\n",
       " 0.012960599735379219,\n",
       " 0.0016650788020342588,\n",
       " 0.007978009060025215,\n",
       " 0.00408406974747777,\n",
       " 0.0016954017337411642,\n",
       " 0.0005022955592721701,\n",
       " 0.002571206074208021,\n",
       " 0.005680980160832405,\n",
       " 0.004832985810935497,\n",
       " 9.977896115742624e-05,\n",
       " 0.0030222088098526,\n",
       " 0.0030297283083200455,\n",
       " 0.0011255716672167182,\n",
       " 0.000263847759924829,\n",
       " 0.0012860286515206099,\n",
       " 4.662798892240971e-05,\n",
       " 0.00521123455837369,\n",
       " 0.0023507429286837578,\n",
       " 0.0006875228136777878,\n",
       " 0.001823777798563242,\n",
       " 0.010835247114300728,\n",
       " 0.004330817144364119,\n",
       " 0.0012859159614890814,\n",
       " 0.003679180983453989,\n",
       " 0.007854187861084938,\n",
       " 0.0006087609799578786,\n",
       " 0.009491967037320137,\n",
       " 0.000361781072570011,\n",
       " 0.03106807917356491,\n",
       " 0.003542273072525859,\n",
       " 0.00017199848662130535,\n",
       " 0.000882141524925828,\n",
       " 0.008433254435658455,\n",
       " 0.0027672655414789915,\n",
       " 0.012718487530946732,\n",
       " 0.004403064027428627,\n",
       " 0.017166033387184143,\n",
       " 0.001195784192532301,\n",
       " 0.034642294049263,\n",
       " 0.015156620182096958,\n",
       " 0.0016743792220950127,\n",
       " 0.003022212302312255,\n",
       " 0.0012189489789307117,\n",
       " 0.0645519569516182,\n",
       " 0.011560258455574512,\n",
       " 0.004997166804969311,\n",
       " 0.0006893091485835612,\n",
       " 0.004522794857621193,\n",
       " 0.0020283618941903114,\n",
       " 0.0028322264552116394,\n",
       " 0.0203956738114357,\n",
       " 0.029920637607574463,\n",
       " 0.03257931023836136,\n",
       " 0.00160339439753443,\n",
       " 0.000711005472112447,\n",
       " 0.00017199762805830687,\n",
       " 0.0310681089758873,\n",
       " 0.001972515368834138,\n",
       " 0.0006875208346173167,\n",
       " 0.00041045877151191235,\n",
       " 0.0005022991099394858,\n",
       " 0.0004047444090247154,\n",
       " 0.014998601749539375,\n",
       " 0.000361781072570011,\n",
       " 0.0003617816255427897,\n",
       " 0.006965159438550472,\n",
       " 0.0002926620072685182,\n",
       " 0.0018768631853163242,\n",
       " 0.007260804995894432,\n",
       " 0.0002964493469335139,\n",
       " 0.0009492344106547534,\n",
       " 0.0007555299671366811,\n",
       " 0.012867644429206848,\n",
       " 0.0024329221341758966,\n",
       " 0.0034796083346009254,\n",
       " 0.004739348776638508,\n",
       " 0.08065702021121979,\n",
       " 0.0011716604931280017,\n",
       " 4.662815263145603e-05,\n",
       " 0.00026859622448682785,\n",
       " 0.0023558218963444233,\n",
       " 0.0009773001074790955,\n",
       " 0.0017072537448257208,\n",
       " 0.0025712051428854465,\n",
       " 0.0007576530333608389,\n",
       " 0.007713587023317814,\n",
       " 0.004403064493089914,\n",
       " 0.002752444241195917,\n",
       " 0.0023558158427476883,\n",
       " 0.0012744648847728968,\n",
       " 0.0012859129346907139,\n",
       " 0.0017032038886100054,\n",
       " 4.6627785195596516e-05,\n",
       " 0.001242241240106523,\n",
       " 0.0005661860341206193,\n",
       " 0.0022569240536540747,\n",
       " 0.008190788328647614,\n",
       " 0.0007913048611953855,\n",
       " 0.004208801779896021,\n",
       " 0.005896741058677435,\n",
       " 0.03748613968491554,\n",
       " 0.00017496653890702873,\n",
       " 0.0004658783436752856,\n",
       " 0.0020659957081079483,\n",
       " 0.011487454175949097,\n",
       " 0.0022669718600809574,\n",
       " 0.0007807891815900803,\n",
       " 0.03367592766880989,\n",
       " 0.00455485749989748,\n",
       " 0.0001305391197092831,\n",
       " 0.0006087609799578786,\n",
       " 0.00017605992616154253,\n",
       " 0.0076402099803090096,\n",
       " 0.0011329308617860079,\n",
       " 0.0368243083357811,\n",
       " 0.004627311136573553,\n",
       " 0.001707258983515203,\n",
       " 0.0001553122274344787,\n",
       " 0.04739924147725105,\n",
       " 0.0004936789046041667,\n",
       " 0.0016593137988820672,\n",
       " 0.08065702021121979,\n",
       " 0.004661388695240021,\n",
       " 0.06483376026153564,\n",
       " 0.012867609038949013,\n",
       " 0.00957246869802475,\n",
       " 0.013131333515048027,\n",
       " 0.0040381187573075294,\n",
       " 0.0012744666310027242,\n",
       " 0.0011098894756287336,\n",
       " 0.00204518623650074,\n",
       " 0.0030464502051472664,\n",
       " 0.0011506802402436733,\n",
       " 0.00949194747954607,\n",
       " 0.00953618437051773,\n",
       " 0.00015531328972429037,\n",
       " 0.01740087941288948,\n",
       " 0.005521236918866634,\n",
       " 0.011620959267020226,\n",
       " 0.03464224934577942,\n",
       " 0.0018174602882936597,\n",
       " 0.00012398933176882565,\n",
       " 0.012892082333564758,\n",
       " 0.0012934828409925103,\n",
       " 0.0018815273651853204,\n",
       " 0.012114722281694412,\n",
       " 0.006234951317310333,\n",
       " 0.05394905433058739,\n",
       " 0.0033772990573197603,\n",
       " 0.0036527998745441437,\n",
       " 0.0024329209700226784,\n",
       " 0.0006124760257080197,\n",
       " 0.0010932022705674171,\n",
       " 0.08405473828315735,\n",
       " 0.004632124677300453,\n",
       " 0.0001364654308417812,\n",
       " 0.0005813384777866304,\n",
       " 0.0028574089519679546,\n",
       " 0.0018546185456216335,\n",
       " 0.005710624158382416,\n",
       " 0.002327756956219673,\n",
       " 0.000589060946367681,\n",
       " 0.03464227914810181,\n",
       " 0.005521273240447044,\n",
       " 0.02493542991578579,\n",
       " 0.0012859096750617027,\n",
       " 0.0025953887961804867,\n",
       " 0.00012167416571173817,\n",
       " 0.001930265105329454,\n",
       " 0.00036177964648231864,\n",
       " 0.0012402785941958427,\n",
       " 0.008684832602739334,\n",
       " 0.0034863795153796673,\n",
       " 0.00041084125405177474,\n",
       " 0.002085702260956168,\n",
       " 0.0011125465389341116,\n",
       " 0.03055550903081894,\n",
       " 0.0009492253302596509,\n",
       " 0.0034410334192216396,\n",
       " 0.007978007197380066,\n",
       " 0.011207972653210163,\n",
       " 0.0013569530565291643,\n",
       " 0.00184336444362998,\n",
       " 0.0005282200290821493,\n",
       " 0.00035687434137798846,\n",
       " 0.0009708665311336517,\n",
       " 0.0009757603984326124,\n",
       " 0.0004104590625502169,\n",
       " 0.007123099640011787,\n",
       " 0.00416596420109272,\n",
       " 9.186885290546343e-05,\n",
       " 0.0002964465238619596,\n",
       " 0.012867646291851997,\n",
       " 0.0015376033261418343,\n",
       " 0.0034084708895534277,\n",
       " 0.0035351868718862534,\n",
       " 0.006013141479343176,\n",
       " 0.0019080678466707468,\n",
       " 0.0003568743704818189,\n",
       " 0.004661384038627148,\n",
       " 0.007123091258108616,\n",
       " 0.0027681507635861635,\n",
       " 0.0005661894101649523,\n",
       " 0.0005110010970383883,\n",
       " 0.003876116592437029,\n",
       " 0.0018370921025052667,\n",
       " 0.001243924954906106,\n",
       " 0.0004104573745280504,\n",
       " 0.0015148194506764412,\n",
       " 0.0018433640943840146,\n",
       " 0.004627307876944542,\n",
       " 0.0068507445976138115,\n",
       " 0.054760489612817764,\n",
       " 0.002571208868175745,\n",
       " 0.0063785105012357235,\n",
       " 0.0009805456502363086,\n",
       " 0.010625218972563744,\n",
       " 0.004369448870420456,\n",
       " 0.0012499114964157343,\n",
       " 0.002967956941574812,\n",
       " 0.0006087576039135456,\n",
       " 0.003772817552089691,\n",
       " 0.00026859642821364105,\n",
       " 0.001907416619360447,\n",
       " 0.0018077159766107798,\n",
       " 0.007323534227907658,\n",
       " 0.003888404928147793,\n",
       " 0.0018448303453624249,\n",
       " 0.0011125338496640325,\n",
       " 0.0015146336518228054,\n",
       " 0.0013680642005056143,\n",
       " 0.011621004901826382,\n",
       " 0.000949227309320122,\n",
       " 0.0018174496944993734,\n",
       " 0.0018174551660194993,\n",
       " 0.0018433565273880959,\n",
       " 0.001881550531834364,\n",
       " 0.023220956325531006,\n",
       " 0.0012859178241342306,\n",
       " 0.004353394266217947,\n",
       " 0.025869984179735184,\n",
       " 0.0010997607605531812,\n",
       " 0.002105122432112694,\n",
       " 0.0015347489388659596,\n",
       " 0.0133571932092309,\n",
       " 0.019312255084514618,\n",
       " 0.00012167430395493284,\n",
       " 0.029920611530542374,\n",
       " 0.004522799514234066,\n",
       " 0.001875435234978795,\n",
       " 0.0346422977745533,\n",
       " 0.0005287410458549857,\n",
       " 0.003842388279736042,\n",
       " 0.0005048689199611545,\n",
       " 0.004369446076452732,\n",
       " 0.001243924256414175,\n",
       " 0.08023744076490402,\n",
       " 5.5118238378781825e-05,\n",
       " 0.0055212597362697124,\n",
       " 0.000797174172475934,\n",
       " 2.048527130682487e-05,\n",
       " 0.00026859622448682785,\n",
       " 0.0057871281169354916,\n",
       " 0.0024708870332688093,\n",
       " 0.017166024073958397,\n",
       " 0.023220952600240707,\n",
       " 0.06483373045921326,\n",
       " 0.03257930651307106,\n",
       " 0.16652289032936096,\n",
       " 0.0015602043131366372,\n",
       " 0.0005543348379433155,\n",
       " 0.0001687694457359612,\n",
       " 0.0021065936889499426,\n",
       " 0.0011193861719220877,\n",
       " 0.0001688728661974892,\n",
       " 0.001022877637296915,\n",
       " 0.00019001917098648846,\n",
       " 0.009788432158529758,\n",
       " 0.0018471360672265291,\n",
       " 0.002432916546240449,\n",
       " 0.03464222699403763,\n",
       " 0.0012189396657049656,\n",
       " 0.036812447011470795,\n",
       " 0.0012303784023970366,\n",
       " 0.00019135110778734088,\n",
       " 0.004895958583801985,\n",
       " 0.008490333333611488,\n",
       " 0.012114756740629673,\n",
       " 0.0018370922189205885,\n",
       " 0.006535631138831377,\n",
       " 0.0005167857161723077,\n",
       " 4.6627785195596516e-05,\n",
       " 0.005481466185301542,\n",
       " 0.016309823840856552,\n",
       " 0.0018077243585139513,\n",
       " 0.0011914516799151897,\n",
       " 0.00026859616627916694,\n",
       " 0.0075240591540932655,\n",
       " 0.0005543318693526089,\n",
       " 0.00025668388116173446,\n",
       " 0.0011098922695964575,\n",
       " 0.0012499100994318724,\n",
       " 0.0006033797981217504,\n",
       " 0.0005256076692603528,\n",
       " 0.0017819207860156894,\n",
       " 0.0017930204048752785,\n",
       " 0.003527597989886999,\n",
       " 0.0015213803853839636,\n",
       " 0.0012744673294946551,\n",
       " 0.00353433471173048,\n",
       " 0.004632130265235901,\n",
       " 0.004992474336177111,\n",
       " 0.013131354935467243,\n",
       " 0.000759628601372242,\n",
       " 0.009465486742556095,\n",
       " 9.834513912210241e-05,\n",
       " 0.004099997691810131,\n",
       " 0.006141886115074158,\n",
       " 0.0015146369114518166,\n",
       " 0.0006968507077544928,\n",
       " 0.0017054358031600714,\n",
       " 0.01952543295919895,\n",
       " 0.007098016329109669,\n",
       " 0.00034113999572582543,\n",
       " 0.002829330274835229,\n",
       " 0.000888154492713511,\n",
       " 0.0024329221341758966,\n",
       " 0.00040474277921020985,\n",
       " 0.041463907808065414,\n",
       " 0.001854618196375668,\n",
       " 0.044459789991378784,\n",
       " 0.022669412195682526,\n",
       " 0.0001749676011968404,\n",
       " 0.004627304617315531,\n",
       " 0.0038850223645567894,\n",
       " 0.007640231866389513,\n",
       " 0.0009721639798954129,\n",
       " 0.0051125879399478436,\n",
       " 0.006145485211163759,\n",
       " 0.0016577786300331354,\n",
       " 0.019525421783328056,\n",
       " 0.007854191586375237,\n",
       " 0.0009492329554632306,\n",
       " 0.0020659868605434895,\n",
       " 0.0007596263894811273,\n",
       " 0.0012859159614890814,\n",
       " 0.0046613784506917,\n",
       " 0.023175567388534546,\n",
       " 0.0002647922665346414,\n",
       " 0.0011125365272164345,\n",
       " 0.00412459671497345,\n",
       " 0.004924856126308441,\n",
       " 0.0174870565533638,\n",
       " 0.0005287481471896172,\n",
       " 0.0005609487998299301,\n",
       " 0.006104414351284504,\n",
       " 0.0040044900961220264,\n",
       " 0.004224790260195732,\n",
       " 0.00014820409705862403,\n",
       " 0.0031043081544339657,\n",
       " 0.0009676010813564062,\n",
       " 0.0009833256481215358,\n",
       " 0.016386795789003372,\n",
       " 0.00011671507672872394,\n",
       " 0.0005609567742794752,\n",
       " 0.0005543332081288099,\n",
       " 0.0012859132839366794,\n",
       " 0.0037008626386523247,\n",
       " 0.007534900214523077,\n",
       " 0.00030946810147725046,\n",
       " 0.002046521520242095,\n",
       " 0.004014565143734217,\n",
       " 0.000714231631718576,\n",
       " 0.0034863781183958054,\n",
       " 0.0023924463894218206,\n",
       " 0.004825047217309475,\n",
       " 0.011716029606759548,\n",
       " 0.004208811558783054,\n",
       " 0.005448495969176292,\n",
       " 0.017085155472159386,\n",
       " 0.006013138685375452,\n",
       " 0.025731904432177544,\n",
       " 0.003870571032166481,\n",
       " 0.00032662408193573356,\n",
       " 0.0035351577680557966,\n",
       " 0.08023694157600403,\n",
       " 0.0008229807135649025,\n",
       " 0.06839748471975327,\n",
       " 0.029920682311058044,\n",
       " 0.0007971670711413026,\n",
       " 0.00408406974747777,\n",
       " 0.011049331165850163,\n",
       " 0.03869418054819107,\n",
       " 0.002106594853103161,\n",
       " 0.004332750104367733,\n",
       " 0.0036791651509702206,\n",
       " 0.00026964765856973827,\n",
       " 0.000980546697974205,\n",
       " 0.0010993783362209797,\n",
       " 0.006831955164670944,\n",
       " 0.004014560021460056,\n",
       " 0.0012880668509751558,\n",
       " 4.6628349082311615e-05,\n",
       " 0.00019406239152885973,\n",
       " 0.001468318048864603,\n",
       " 0.025731896981596947,\n",
       " 0.007524100132286549,\n",
       " 0.00039767110138200223,\n",
       " 0.0035276003181934357,\n",
       " 0.002188085112720728,\n",
       " 0.013862544670701027,\n",
       " 0.0033773002214729786,\n",
       " 0.0003411404031794518,\n",
       " 0.001988142030313611,\n",
       " 0.03869418054819107,\n",
       " 0.00016894255531951785,\n",
       " 0.0017819184577092528,\n",
       " 0.017030850052833557,\n",
       " 0.009491934441030025,\n",
       " 0.00257120537571609,\n",
       " 0.005896724294871092,\n",
       " 0.0010294332168996334,\n",
       " 0.006234964355826378,\n",
       " 0.004403077531605959,\n",
       " 0.004447254352271557,\n",
       " 0.0038072203751653433,\n",
       " 0.0036791651509702206,\n",
       " 0.0024432672653347254,\n",
       " 0.008479392156004906,\n",
       " 0.0027490505017340183,\n",
       " 0.0018670507706701756,\n",
       " 0.0008165313047356904,\n",
       " 0.0024329228326678276,\n",
       " 0.0011098863324150443,\n",
       " 0.0036383080296218395,\n",
       " 0.003938591107726097,\n",
       " 0.0007516701589338481,\n",
       " 0.0024329221341758966,\n",
       " 0.06483381986618042,\n",
       " 0.0036935408134013414,\n",
       " 0.052970655262470245,\n",
       " 0.002700770739465952,\n",
       " 0.0009402629220858216,\n",
       " 0.0003079035959672183,\n",
       " 0.007712523452937603,\n",
       " 0.00843326561152935,\n",
       " 0.005613969638943672,\n",
       " 0.0009833179647102952,\n",
       " 0.004224796779453754,\n",
       " 0.0002487636520527303,\n",
       " 0.03731316328048706,\n",
       " 0.011154387146234512,\n",
       " 6.046919952495955e-05,\n",
       " 0.0009833250660449266,\n",
       " 0.000778320012614131,\n",
       " 0.0010993757750838995,\n",
       " 0.0005661880713887513,\n",
       " 0.0004104596155229956,\n",
       " 9.686882549431175e-05,\n",
       " 0.0016954017337411642,\n",
       " 0.002000633394345641,\n",
       " 0.006662757135927677,\n",
       " 0.0014630926307290792,\n",
       " 0.00029644829919561744,\n",
       " 0.009788431227207184,\n",
       " 0.0007780520245432854,\n",
       " 0.021752219647169113,\n",
       " 0.014363979920744896,\n",
       " 0.00014820080832578242,\n",
       " 0.03504766523838043,\n",
       " 0.02526303008198738,\n",
       " 0.0019881469197571278,\n",
       " 0.0005210263188928366,\n",
       " 0.008040448650717735,\n",
       " 0.0023714061826467514,\n",
       " 0.03303850442171097,\n",
       " 0.0018546190112829208,\n",
       " 0.004403077531605959,\n",
       " 0.004992475267499685,\n",
       " 0.001847133506089449,\n",
       " 0.0016577801434323192,\n",
       " 0.01374498475342989,\n",
       " 0.0015666417311877012,\n",
       " 0.036824263632297516,\n",
       " 0.000972169335000217,\n",
       " 0.0001274632813874632,\n",
       " 0.02945750020444393,\n",
       " 0.007709437981247902,\n",
       " 0.0028028942178934813,\n",
       " 0.005317023955285549,\n",
       " 0.00017466636199969798,\n",
       " 0.0002685960498638451,\n",
       " 0.005481448955833912,\n",
       " 0.00630367174744606,\n",
       " 0.06053180620074272,\n",
       " 0.019837060943245888,\n",
       " 0.0006105858483351767,\n",
       " 0.002064099069684744,\n",
       " 0.005299870856106281,\n",
       " 0.001988143427297473,\n",
       " 0.0004104590625502169,\n",
       " 0.03584962338209152,\n",
       " 0.0002618348225951195,\n",
       " 0.0022915436420589685,\n",
       " 0.0017896716017276049,\n",
       " 0.0002259944740217179,\n",
       " 0.007123091258108616,\n",
       " 0.015156620182096958,\n",
       " 0.0018815440125763416,\n",
       " 0.014822649769484997,\n",
       " 0.00630367174744606,\n",
       " 0.0008150250068865716,\n",
       " 0.00014266089419834316,\n",
       " 0.00029644829919561744,\n",
       " 0.0029351564589887857,\n",
       " 4.662864012061618e-05,\n",
       " 0.0026500422973185778,\n",
       " 0.00035687530180439353,\n",
       " 0.0006299868691712618,\n",
       " 0.0035351524129509926,\n",
       " 0.0037728240713477135,\n",
       " 0.006234957370907068,\n",
       " 0.0009492355166003108,\n",
       " 0.003649727674201131,\n",
       " 0.0005377324996516109,\n",
       " 0.0004619607934728265,\n",
       " 0.003652809886261821,\n",
       " 0.022669460624456406,\n",
       " 0.0020784116350114346,\n",
       " 0.025869986042380333,\n",
       " 0.0011068980675190687,\n",
       " 0.0016954017337411642,\n",
       " 0.0012036528205499053,\n",
       " 0.000528746226336807,\n",
       " 0.03681233525276184,\n",
       " 0.024935442954301834,\n",
       " 0.004924875684082508,\n",
       " 0.0009492316166870296,\n",
       " 0.0016378096770495176,\n",
       " 0.032579198479652405,\n",
       " 0.0003617821494117379,\n",
       " 0.02370954304933548,\n",
       " 0.0007061880896799266,\n",
       " 0.0036935186944901943,\n",
       " 0.00016876957670319825,\n",
       " 0.002441740594804287,\n",
       " 0.0004108402063138783,\n",
       " 0.00026859648642130196,\n",
       " 0.00030946676270104945,\n",
       " 0.0024329263251274824,\n",
       " 0.000760432390961796,\n",
       " 0.006013138685375452,\n",
       " 0.007712499238550663,\n",
       " 0.0012865281896665692,\n",
       " 0.000778322690166533,\n",
       " 0.004825050011277199,\n",
       " 9.432443766854703e-05,\n",
       " 0.00683191604912281,\n",
       " 0.0003411404031794518,\n",
       " 0.007733114995062351,\n",
       " 0.004084095824509859,\n",
       " 0.000797174172475934,\n",
       " 0.0008943044813349843,\n",
       " 0.0019881469197571278,\n",
       " 0.0017072572372853756,\n",
       " 0.0018433587392792106,\n",
       " 0.0063037024810910225,\n",
       " 0.0060576023533940315,\n",
       " 0.00035912232124246657,\n",
       " 0.008817237801849842,\n",
       " 0.04592627286911011,\n",
       " 0.0005813404568471014,\n",
       " 0.004248220473527908,\n",
       " 0.0015347489388659596,\n",
       " 0.0016764405881986022,\n",
       " 0.0006734469207003713,\n",
       " 0.005782745778560638,\n",
       " 0.020152799785137177,\n",
       " 0.0028891153633594513,\n",
       " 0.001203660387545824,\n",
       " 0.0007971670711413026,\n",
       " 0.0012826649472117424,\n",
       " 0.0068319132551550865,\n",
       " 0.004675775766372681,\n",
       " 0.008804794400930405,\n",
       " 0.0005637270514853299,\n",
       " 0.0020086667500436306,\n",
       " 0.002064100233837962,\n",
       " 0.015219517052173615,\n",
       " 0.004096365533769131,\n",
       " 0.006234998814761639,\n",
       " 0.0001305391197092831,\n",
       " 0.03632014989852905,\n",
       " 0.0009402630385011435,\n",
       " 0.0027497485280036926,\n",
       " 0.012892083264887333,\n",
       " 0.0002696475712582469,\n",
       " 0.0900382548570633,\n",
       " 0.0016577832866460085,\n",
       " 4.662837818614207e-05,\n",
       " 0.0012859171256422997,\n",
       " 0.0012141047045588493,\n",
       " 0.0029199093114584684,\n",
       " 0.0007735693361610174,\n",
       " 0.02595607563853264,\n",
       " 0.008745894767343998,\n",
       " 0.0014932798221707344,\n",
       " 0.049319349229335785,\n",
       " 0.004930467344820499,\n",
       " 0.0019237976521253586,\n",
       " 0.016632620245218277,\n",
       " 0.0004104578692931682,\n",
       " 0.0005495622172020376,\n",
       " 0.0060095712542533875,\n",
       " 0.00458659278228879,\n",
       " 0.001907416619360447,\n",
       " 0.007123077288269997,\n",
       " 0.0003617826441768557,\n",
       " 0.0010469106491655111,\n",
       " 0.0005495560471899807,\n",
       " 0.006261972710490227,\n",
       " 0.00169539509806782,\n",
       " 0.06971944123506546,\n",
       " 0.0012860270217061043,\n",
       " 0.0009402614086866379,\n",
       " 0.000106346960819792,\n",
       " 0.0022530006244778633,\n",
       " 0.001312656095251441,\n",
       " 0.00012167410750407726,\n",
       " 0.0013713614316657186,\n",
       " 0.022669464349746704,\n",
       " 0.003864079713821411,\n",
       " 0.0009492338285781443,\n",
       " 0.0024708816781640053,\n",
       " 0.0007971777231432498,\n",
       " 0.0007913006702437997,\n",
       " 0.007175920065492392,\n",
       " 0.0009492316166870296,\n",
       " 0.06455196440219879,\n",
       " 0.0013680625706911087,\n",
       " 0.03573640435934067,\n",
       " 0.0027176346629858017,\n",
       " 0.010143480263650417,\n",
       " 0.0036791651509702206,\n",
       " 0.024935398250818253,\n",
       " 0.0024329249281436205,\n",
       " 0.0009805451845750213,\n",
       " 0.0001305390032939613,\n",
       " 0.0001687681069597602,\n",
       " 0.003446354065090418,\n",
       " 0.002327766502276063,\n",
       " 0.004045527428388596,\n",
       " 0.0005798113998025656,\n",
       " 0.005863674916327,\n",
       " 0.007524073123931885,\n",
       " 0.00040491612162441015,\n",
       " 0.013357250951230526,\n",
       " 0.00024876484530977905,\n",
       " 0.0012499114964157343,\n",
       " 0.0011352070141583681,\n",
       " 0.006303706206381321,\n",
       " 0.05411965027451515,\n",
       " 0.0033772923052310944,\n",
       " 0.01018243283033371,\n",
       " 0.0012338218512013555,\n",
       " 0.08203525841236115,\n",
       " 0.009735839441418648,\n",
       " 0.0016536380862817168,\n",
       " 0.007854238152503967,\n",
       " 0.0009492282406426966,\n",
       " 0.0017072467599064112,\n",
       " 0.004149549175053835,\n",
       " 0.0008943042485043406,\n",
       " 0.06971944123506546,\n",
       " 0.0030464634764939547,\n",
       " 0.00017466626013629138,\n",
       " 0.009442036040127277,\n",
       " 0.006234956439584494,\n",
       " 0.000410506094340235,\n",
       " 0.0009492331300862134,\n",
       " 0.0007780540036037564,\n",
       " 0.0036497297696769238,\n",
       " 0.005196581594645977,\n",
       " 0.007123090792447329,\n",
       " 0.0010469014523550868,\n",
       " 0.001099372049793601,\n",
       " 0.0786505863070488,\n",
       " 0.04903613030910492,\n",
       " 0.014245797879993916,\n",
       " 0.00797148048877716,\n",
       " 0.002342726569622755,\n",
       " 0.00010634705540724099,\n",
       " 0.011620975099503994,\n",
       " 0.00732805673032999,\n",
       " 0.0007780537125654519,\n",
       " 0.0007912972941994667,\n",
       " 0.01559864729642868,\n",
       " 0.0012036697007715702,\n",
       " 0.0016650700708851218,\n",
       " 0.0040145572274923325,\n",
       " 0.0019237921806052327,\n",
       " 0.006303691305220127,\n",
       " 0.001872733235359192,\n",
       " 0.0014073469210416079,\n",
       " 0.010919698514044285,\n",
       " 0.013431351631879807,\n",
       " 0.002470870967954397,\n",
       " 0.015099357813596725,\n",
       " 0.0005167857161723077,\n",
       " 0.005521224811673164,\n",
       " 0.02595607563853264,\n",
       " 0.0017930208705365658,\n",
       " 0.008490333333611488,\n",
       " 0.0010993687901645899,\n",
       " 0.007175912149250507,\n",
       " 0.01343135442584753,\n",
       " 0.00041045801481232047,\n",
       " 0.0006105808424763381,\n",
       " 0.011008305475115776,\n",
       " 9.186870738631114e-05,\n",
       " 0.00011396563786547631,\n",
       " 0.0006940944585949183,\n",
       " 0.004510120023041964,\n",
       " 0.004330815747380257,\n",
       " 0.004330804105848074,\n",
       " 0.0015598199097439647,\n",
       " 0.03584958240389824,\n",
       " 0.0016577790956944227,\n",
       " 0.0003192181757185608,\n",
       " 0.0023588016629219055,\n",
       " 0.013131393119692802,\n",
       " 0.0029679634608328342,\n",
       " 0.008733673952519894,\n",
       " 0.0004047434777021408,\n",
       " 0.013357208110392094,\n",
       " 0.0012762121623381972,\n",
       " 0.0001063473682734184,\n",
       " 0.00023235107073560357,\n",
       " 0.00019135174807161093,\n",
       " 0.0018754294142127037,\n",
       " 0.007123099640011787,\n",
       " 0.004208832047879696,\n",
       " 0.00019135110778734088,\n",
       " 9.686932753538713e-05,\n",
       " 0.0003830858040601015,\n",
       " 0.02945750579237938,\n",
       " 0.0004104573745280504,\n",
       " 0.004627308342605829,\n",
       " 0.015230235643684864,\n",
       " 0.0016953966114670038,\n",
       " 0.002277906285598874,\n",
       " 0.004997154697775841,\n",
       " 0.10621652007102966,\n",
       " 0.0009737423970364034,\n",
       " 0.014822648838162422,\n",
       " 0.00038711188244633377,\n",
       " 9.432548540644348e-05,\n",
       " 0.0040044900961220264,\n",
       " 0.0020857157651335,\n",
       " 0.0625542402267456,\n",
       " 0.0021769669838249683,\n",
       " 0.0003411415673326701,\n",
       " 0.011333325877785683,\n",
       " 0.007978009060025215,\n",
       " 0.00017496879445388913,\n",
       " 0.0020465156994760036,\n",
       " 0.0005661881878040731,\n",
       " 0.0006787674501538277,\n",
       " 0.00157824601046741,\n",
       " 0.0010818098671734333,\n",
       " 9.186818351736292e-05,\n",
       " ...]"
      ]
     },
     "execution_count": 136,
     "metadata": {},
     "output_type": "execute_result"
    }
   ],
   "source": [
    "positive_distances"
   ]
  },
  {
   "cell_type": "code",
   "execution_count": 137,
   "metadata": {},
   "outputs": [
    {
     "data": {
      "text/plain": [
       "0.44470250606536865"
      ]
     },
     "execution_count": 137,
     "metadata": {},
     "output_type": "execute_result"
    }
   ],
   "source": [
    "max(positive_distances)"
   ]
  },
  {
   "cell_type": "code",
   "execution_count": 138,
   "metadata": {},
   "outputs": [
    {
     "data": {
      "text/plain": [
       "[0.8988522887229919,\n",
       " 0.6487501859664917,\n",
       " 0.7713856101036072,\n",
       " 0.7669468522071838,\n",
       " 0.7775292992591858,\n",
       " 0.8230438828468323,\n",
       " 0.594971776008606,\n",
       " 0.9421965479850769,\n",
       " 0.42336395382881165,\n",
       " 0.6073300242424011,\n",
       " 0.975588321685791,\n",
       " 1.620561122894287,\n",
       " 0.3867705762386322,\n",
       " 1.1014844179153442,\n",
       " 0.7910611033439636,\n",
       " 0.7614961862564087,\n",
       " 1.5213427543640137,\n",
       " 0.5078064799308777,\n",
       " 0.6882038116455078,\n",
       " 0.8321179747581482,\n",
       " 0.8634713292121887,\n",
       " 1.0068975687026978,\n",
       " 0.7665591239929199,\n",
       " 1.1235700845718384,\n",
       " 0.6855957508087158,\n",
       " 1.2694514989852905,\n",
       " 0.6220866441726685,\n",
       " 0.715236485004425,\n",
       " 1.1137953996658325,\n",
       " 0.5631263852119446,\n",
       " 1.029784917831421,\n",
       " 1.3254271745681763,\n",
       " 0.4294865131378174,\n",
       " 0.6020743250846863,\n",
       " 0.8798723816871643,\n",
       " 0.861290693283081,\n",
       " 0.9880930781364441,\n",
       " 0.7870948910713196,\n",
       " 0.6487506031990051,\n",
       " 1.0567306280136108,\n",
       " 0.9200924038887024,\n",
       " 0.7041640877723694,\n",
       " 0.8996251821517944,\n",
       " 0.8198707103729248,\n",
       " 0.82513028383255,\n",
       " 1.2369569540023804,\n",
       " 1.0385886430740356,\n",
       " 0.7666186690330505,\n",
       " 0.6370567679405212,\n",
       " 0.6188076138496399,\n",
       " 1.0555393695831299,\n",
       " 0.8396917581558228,\n",
       " 0.5658096075057983,\n",
       " 0.6343328356742859,\n",
       " 0.9492431879043579,\n",
       " 1.1791664361953735,\n",
       " 1.2675577402114868,\n",
       " 0.6690871119499207,\n",
       " 0.7927652597427368,\n",
       " 0.7487087845802307,\n",
       " 0.9788012504577637,\n",
       " 1.0068976879119873,\n",
       " 0.8866599202156067,\n",
       " 0.8955718278884888,\n",
       " 0.9289877414703369,\n",
       " 1.1741985082626343,\n",
       " 0.6308172345161438,\n",
       " 1.0068976879119873,\n",
       " 0.9421975016593933,\n",
       " 0.6333359479904175,\n",
       " 0.8380414247512817,\n",
       " 0.6464315056800842,\n",
       " 0.8184675574302673,\n",
       " 0.7291181683540344,\n",
       " 0.7539768815040588,\n",
       " 0.9859023690223694,\n",
       " 0.4335344731807709,\n",
       " 0.8380409479141235,\n",
       " 1.3452666997909546,\n",
       " 0.6336309909820557,\n",
       " 0.9176924824714661,\n",
       " 0.5023775696754456,\n",
       " 0.7909987568855286,\n",
       " 1.0717449188232422,\n",
       " 0.6215667128562927,\n",
       " 0.6176168918609619,\n",
       " 0.8388307690620422,\n",
       " 1.5269569158554077,\n",
       " 1.4497774839401245,\n",
       " 0.7353192567825317,\n",
       " 0.6388965249061584,\n",
       " 0.8955717086791992,\n",
       " 0.6478367447853088,\n",
       " 0.7539770007133484,\n",
       " 1.1800899505615234,\n",
       " 0.9543508291244507,\n",
       " 1.0161091089248657,\n",
       " 1.0084432363510132,\n",
       " 0.6978664398193359,\n",
       " 0.15851978957653046,\n",
       " 0.7850597500801086,\n",
       " 0.6442482471466064,\n",
       " 1.0068976879119873,\n",
       " 1.0735825300216675,\n",
       " 0.410282164812088,\n",
       " 0.6762643456459045,\n",
       " 0.8955717086791992,\n",
       " 0.9036418199539185,\n",
       " 1.005279302597046,\n",
       " 0.690435528755188,\n",
       " 0.7732289433479309,\n",
       " 0.7483187913894653,\n",
       " 1.3422878980636597,\n",
       " 1.0948717594146729,\n",
       " 0.743711531162262,\n",
       " 0.540887713432312,\n",
       " 1.405125379562378,\n",
       " 0.8612902164459229,\n",
       " 0.5472245812416077,\n",
       " 0.339033305644989,\n",
       " 0.5575228929519653,\n",
       " 1.3343416452407837,\n",
       " 0.6910513639450073,\n",
       " 1.3109914064407349,\n",
       " 0.8955720663070679,\n",
       " 0.8811928033828735,\n",
       " 0.9584171772003174,\n",
       " 0.8745331168174744,\n",
       " 1.2643146514892578,\n",
       " 0.46619513630867004,\n",
       " 1.589430809020996,\n",
       " 0.6788504719734192,\n",
       " 0.78709477186203,\n",
       " 0.6444202661514282,\n",
       " 0.5115172863006592,\n",
       " 1.025200605392456,\n",
       " 0.4640101194381714,\n",
       " 0.657707691192627,\n",
       " 0.9187591075897217,\n",
       " 0.8443087339401245,\n",
       " 1.0038708448410034,\n",
       " 0.8600414395332336,\n",
       " 0.7539770603179932,\n",
       " 1.0176254510879517,\n",
       " 2.4177491664886475,\n",
       " 0.7677079439163208,\n",
       " 0.6189013123512268,\n",
       " 0.8996256589889526,\n",
       " 0.8220463991165161,\n",
       " 0.9913969039916992,\n",
       " 0.9421971440315247,\n",
       " 0.9928584694862366,\n",
       " 0.9710074067115784,\n",
       " 0.7437115907669067,\n",
       " 1.0068984031677246,\n",
       " 0.7665594816207886,\n",
       " 0.6454612016677856,\n",
       " 0.5331000089645386,\n",
       " 0.8172803521156311,\n",
       " 0.5924731492996216,\n",
       " 0.9884833097457886,\n",
       " 0.6659134030342102,\n",
       " 0.7850597500801086,\n",
       " 0.6212392449378967,\n",
       " 0.7792103886604309,\n",
       " 0.5822563171386719,\n",
       " 1.2646868228912354,\n",
       " 0.9098301529884338,\n",
       " 1.101913571357727,\n",
       " 1.0163719654083252,\n",
       " 0.7669468522071838,\n",
       " 1.2945359945297241,\n",
       " 0.9200926423072815,\n",
       " 0.9945374131202698,\n",
       " 0.9835648536682129,\n",
       " 0.4077019989490509,\n",
       " 0.8438010215759277,\n",
       " 0.7205744981765747,\n",
       " 0.547481894493103,\n",
       " 0.6164081692695618,\n",
       " 0.8612014055252075,\n",
       " 1.265574336051941,\n",
       " 0.6708210706710815,\n",
       " 0.7008363008499146,\n",
       " 0.31471481919288635,\n",
       " 0.49060967564582825,\n",
       " 0.5747233033180237,\n",
       " 0.8335458636283875,\n",
       " 0.5785529613494873,\n",
       " 1.3201643228530884,\n",
       " 0.9644556641578674,\n",
       " 0.9088008999824524,\n",
       " 0.8629480600357056,\n",
       " 0.9292852878570557,\n",
       " 0.505440890789032,\n",
       " 0.32986685633659363,\n",
       " 0.8639428019523621,\n",
       " 0.403478741645813,\n",
       " 1.1137953996658325,\n",
       " 1.0127946138381958,\n",
       " 1.010608434677124,\n",
       " 0.8183919191360474,\n",
       " 0.7116994857788086,\n",
       " 0.9578419923782349,\n",
       " 0.974370539188385,\n",
       " 0.7665590047836304,\n",
       " 0.7154715657234192,\n",
       " 0.8107947111129761,\n",
       " 0.8088201880455017,\n",
       " 0.8396914601325989,\n",
       " 0.6475095152854919,\n",
       " 0.8492874503135681,\n",
       " 0.5368054509162903,\n",
       " 1.1333274841308594,\n",
       " 0.7840328216552734,\n",
       " 1.1468143463134766,\n",
       " 1.3858847618103027,\n",
       " 0.662021815776825,\n",
       " 0.8988522887229919,\n",
       " 0.8070124387741089,\n",
       " 0.6952798962593079,\n",
       " 0.8332422375679016,\n",
       " 0.5947359204292297,\n",
       " 0.853725016117096,\n",
       " 0.8996251225471497,\n",
       " 1.0070648193359375,\n",
       " 1.4509276151657104,\n",
       " 0.7824677228927612,\n",
       " 0.8883368372917175,\n",
       " 0.7769720554351807,\n",
       " 0.8798726201057434,\n",
       " 0.4696311354637146,\n",
       " 0.9146357774734497,\n",
       " 0.8649151921272278,\n",
       " 1.3471229076385498,\n",
       " 0.6904360055923462,\n",
       " 0.8223115801811218,\n",
       " 0.5001335144042969,\n",
       " 0.9414958953857422,\n",
       " 0.5854824185371399,\n",
       " 0.5642297267913818,\n",
       " 0.9097962379455566,\n",
       " 0.5969231128692627,\n",
       " 0.6600949168205261,\n",
       " 0.798284113407135,\n",
       " 0.6495348215103149,\n",
       " 0.7008360624313354,\n",
       " 0.7256395220756531,\n",
       " 0.8389866352081299,\n",
       " 0.7980793118476868,\n",
       " 0.6634150743484497,\n",
       " 1.200553297996521,\n",
       " 0.7916163206100464,\n",
       " 0.6896358132362366,\n",
       " 1.09799063205719,\n",
       " 0.8955718278884888,\n",
       " 1.4941619634628296,\n",
       " 0.6600948572158813,\n",
       " 0.5695679783821106,\n",
       " 0.8687151074409485,\n",
       " 0.8858602046966553,\n",
       " 0.4434409439563751,\n",
       " 0.8955719470977783,\n",
       " 0.500410795211792,\n",
       " 0.6776804327964783,\n",
       " 0.6235516667366028,\n",
       " 0.36149609088897705,\n",
       " 1.1763793230056763,\n",
       " 0.5029314756393433,\n",
       " 0.822311520576477,\n",
       " 0.8237094879150391,\n",
       " 1.7467656135559082,\n",
       " 0.6565346717834473,\n",
       " 0.8292015194892883,\n",
       " 0.8957090377807617,\n",
       " 0.9455881118774414,\n",
       " 0.5676267743110657,\n",
       " 1.6048452854156494,\n",
       " 0.3298669457435608,\n",
       " 1.0238412618637085,\n",
       " 1.0611588954925537,\n",
       " 0.7008668184280396,\n",
       " 0.6160318851470947,\n",
       " 0.8893235325813293,\n",
       " 0.48181551694869995,\n",
       " 0.44788408279418945,\n",
       " 1.0510027408599854,\n",
       " 0.20748673379421234,\n",
       " 0.6303907036781311,\n",
       " 1.0643908977508545,\n",
       " 0.8811677098274231,\n",
       " 0.8612899780273438,\n",
       " 1.449676275253296,\n",
       " 1.6073189973831177,\n",
       " 0.5772266983985901,\n",
       " 0.9214141368865967,\n",
       " 0.9644553065299988,\n",
       " 1.1235703229904175,\n",
       " 0.9884833097457886,\n",
       " 0.7419644594192505,\n",
       " 0.8380409479141235,\n",
       " 0.9632816314697266,\n",
       " 0.9525923728942871,\n",
       " 0.9927133321762085,\n",
       " 0.9421972632408142,\n",
       " 0.7732269763946533,\n",
       " 0.9335309267044067,\n",
       " 0.9803014397621155,\n",
       " 1.387147068977356,\n",
       " 0.8629477024078369,\n",
       " 0.5078067779541016,\n",
       " 0.9609696269035339,\n",
       " 0.6755964159965515,\n",
       " 0.9406946301460266,\n",
       " 0.5281509160995483,\n",
       " 1.5685831308364868,\n",
       " 1.1233175992965698,\n",
       " 0.6195775866508484,\n",
       " 0.9578424692153931,\n",
       " 0.6508285403251648,\n",
       " 1.079908013343811,\n",
       " 0.8576337695121765,\n",
       " 0.6565346717834473,\n",
       " 0.5030982494354248,\n",
       " 0.6018384099006653,\n",
       " 1.2332391738891602,\n",
       " 1.2068294286727905,\n",
       " 0.7512215971946716,\n",
       " 1.0907433032989502,\n",
       " 0.9880930781364441,\n",
       " 0.978801429271698,\n",
       " 0.8220461010932922,\n",
       " 1.0521466732025146,\n",
       " 1.1452323198318481,\n",
       " 1.0159279108047485,\n",
       " 0.5896440148353577,\n",
       " 0.6003541946411133,\n",
       " 2.2856571674346924,\n",
       " 0.7870951890945435,\n",
       " 0.8202438950538635,\n",
       " 1.0261270999908447,\n",
       " 0.8130103945732117,\n",
       " 0.648857593536377,\n",
       " 1.2049829959869385,\n",
       " 0.6256497502326965,\n",
       " 1.0323574542999268,\n",
       " 1.499991774559021,\n",
       " 0.5822559595108032,\n",
       " 0.4490307569503784,\n",
       " 0.8931782841682434,\n",
       " 0.885341465473175,\n",
       " 1.0855289697647095,\n",
       " 1.0929218530654907,\n",
       " 1.0297844409942627,\n",
       " 0.7074707746505737,\n",
       " 0.6656898856163025,\n",
       " 1.0643908977508545,\n",
       " 0.9989734888076782,\n",
       " 0.71364426612854,\n",
       " 1.4162700176239014,\n",
       " 0.7656691074371338,\n",
       " 1.4754924774169922,\n",
       " 0.8870962262153625,\n",
       " 0.810667872428894,\n",
       " 0.728460967540741,\n",
       " 0.6875791549682617,\n",
       " 1.4039592742919922,\n",
       " 1.351599097251892,\n",
       " 0.6755964756011963,\n",
       " 0.6340670585632324,\n",
       " 0.37320148944854736,\n",
       " 0.6234070062637329,\n",
       " 0.6429088711738586,\n",
       " 0.7134575843811035,\n",
       " 1.307477355003357,\n",
       " 1.5984492301940918,\n",
       " 1.061424732208252,\n",
       " 0.5192429423332214,\n",
       " 0.7770674824714661,\n",
       " 0.6753617525100708,\n",
       " 0.5192429423332214,\n",
       " 0.5115585923194885,\n",
       " 0.8147852420806885,\n",
       " 0.5187053680419922,\n",
       " 0.7302548885345459,\n",
       " 0.9960370659828186,\n",
       " 0.6948691010475159,\n",
       " 0.6868628859519958,\n",
       " 0.7716097831726074,\n",
       " 0.591907799243927,\n",
       " 0.774459183216095,\n",
       " 0.9492431282997131,\n",
       " 0.7784308195114136,\n",
       " 1.3662832975387573,\n",
       " 0.9176928400993347,\n",
       " 0.478380024433136,\n",
       " 0.5505368113517761,\n",
       " 0.8380413055419922,\n",
       " 0.743711531162262,\n",
       " 0.47403204441070557,\n",
       " 1.2187615633010864,\n",
       " 0.592026948928833,\n",
       " 1.7409480810165405,\n",
       " 0.4586223363876343,\n",
       " 1.0549112558364868,\n",
       " 0.980199933052063,\n",
       " 0.5810772180557251,\n",
       " 0.8955719470977783,\n",
       " 0.807012677192688,\n",
       " 0.6828597784042358,\n",
       " 1.1591835021972656,\n",
       " 1.4956293106079102,\n",
       " 0.7646293640136719,\n",
       " 1.7763828039169312,\n",
       " 1.335348129272461,\n",
       " 0.7813870310783386,\n",
       " 0.7376508116722107,\n",
       " 1.3181638717651367,\n",
       " 0.6823217272758484,\n",
       " 0.8330597281455994,\n",
       " 0.8264873027801514,\n",
       " 1.2295582294464111,\n",
       " 0.833059549331665,\n",
       " 1.0382708311080933,\n",
       " 0.7546206712722778,\n",
       " 0.5793111324310303,\n",
       " 1.0567818880081177,\n",
       " 0.9689094424247742,\n",
       " 0.7473602890968323,\n",
       " 1.0304720401763916,\n",
       " 0.8061537742614746,\n",
       " 0.9172653555870056,\n",
       " 1.4228705167770386,\n",
       " 0.7744585871696472,\n",
       " 1.0092778205871582,\n",
       " 0.7656917572021484,\n",
       " 1.0337163209915161,\n",
       " 0.6835814714431763,\n",
       " 1.7799957990646362,\n",
       " 0.7889395356178284,\n",
       " 0.8612900972366333,\n",
       " 0.7692363262176514,\n",
       " 0.7656919360160828,\n",
       " 0.5133163928985596,\n",
       " 1.0182079076766968,\n",
       " 0.608135998249054,\n",
       " 0.9765686392784119,\n",
       " 0.8877858519554138,\n",
       " 0.6256502270698547,\n",
       " 0.8174078464508057,\n",
       " 0.8955718278884888,\n",
       " 0.8630369901657104,\n",
       " 0.8174790143966675,\n",
       " 0.7008674144744873,\n",
       " 1.2025408744812012,\n",
       " 0.541997492313385,\n",
       " 0.6501995921134949,\n",
       " 0.6136350631713867,\n",
       " 1.4483532905578613,\n",
       " 0.49110594391822815,\n",
       " 1.188169002532959,\n",
       " 0.5333540439605713,\n",
       " 0.8070129156112671,\n",
       " 0.8535019755363464,\n",
       " 0.5507494211196899,\n",
       " 0.7829949259757996,\n",
       " 0.5121582746505737,\n",
       " 0.9223500490188599,\n",
       " 1.452331781387329,\n",
       " 1.606623649597168,\n",
       " 0.7902491092681885,\n",
       " 0.9945372939109802,\n",
       " 0.8137962818145752,\n",
       " 0.5001335740089417,\n",
       " 0.5474818348884583,\n",
       " 0.7747192978858948,\n",
       " 0.6596111059188843,\n",
       " 0.673200786113739,\n",
       " 0.9978762865066528,\n",
       " 1.0405815839767456,\n",
       " 0.6614412665367126,\n",
       " 0.7299410104751587,\n",
       " 1.2216304540634155,\n",
       " 0.6399664878845215,\n",
       " 0.9840408563613892,\n",
       " 0.7252234816551208,\n",
       " 0.9031778573989868,\n",
       " 0.628390371799469,\n",
       " 0.9455880522727966,\n",
       " 0.9811528921127319,\n",
       " 1.0579438209533691,\n",
       " 0.7546132206916809,\n",
       " 0.8380411863327026,\n",
       " 1.026043176651001,\n",
       " 0.8636369109153748,\n",
       " 0.9945369362831116,\n",
       " 0.9215274453163147,\n",
       " 0.5198302865028381,\n",
       " 1.098803997039795,\n",
       " 1.0042704343795776,\n",
       " 0.8202434778213501,\n",
       " 1.097990870475769,\n",
       " 0.5059492588043213,\n",
       " 0.7148978114128113,\n",
       " 1.0131644010543823,\n",
       " 0.7363386154174805,\n",
       " 0.48559123277664185,\n",
       " 1.029476284980774,\n",
       " 0.8538975715637207,\n",
       " 0.6560786962509155,\n",
       " 0.7529523968696594,\n",
       " 1.031766414642334,\n",
       " 0.6189013719558716,\n",
       " 1.1333274841308594,\n",
       " 0.5053626298904419,\n",
       " 0.613869309425354,\n",
       " 0.9596846699714661,\n",
       " 0.9406946301460266,\n",
       " 0.8284516930580139,\n",
       " 0.5084986686706543,\n",
       " 1.0807558298110962,\n",
       " 1.0896246433258057,\n",
       " 0.9286505579948425,\n",
       " 0.32280251383781433,\n",
       " 0.9088008999824524,\n",
       " 1.5207947492599487,\n",
       " 0.5217048525810242,\n",
       " 1.0068979263305664,\n",
       " 1.7043346166610718,\n",
       " 0.809360682964325,\n",
       " 0.8612900972366333,\n",
       " 0.8332417607307434,\n",
       " 1.2382370233535767,\n",
       " 1.0068974494934082,\n",
       " 0.8709476590156555,\n",
       " 0.5380741953849792,\n",
       " 0.861290693283081,\n",
       " 1.006898045539856,\n",
       " 0.5408615469932556,\n",
       " 0.5380743145942688,\n",
       " 1.0100964307785034,\n",
       " 0.5062479972839355,\n",
       " 0.6386554837226868,\n",
       " 0.6713806986808777,\n",
       " 0.6158714294433594,\n",
       " 0.7472172975540161,\n",
       " 0.47299543023109436,\n",
       " 1.1508675813674927,\n",
       " 0.8785938024520874,\n",
       " 0.9802000522613525,\n",
       " 0.7047883868217468,\n",
       " 0.9513364434242249,\n",
       " 0.7060237526893616,\n",
       " 0.9674561619758606,\n",
       " 0.7091382741928101,\n",
       " 0.6454612016677856,\n",
       " 1.3300825357437134,\n",
       " 0.6434515118598938,\n",
       " 0.9406943917274475,\n",
       " 0.636609673500061,\n",
       " 0.861290454864502,\n",
       " 0.5625757575035095,\n",
       " 1.1271251440048218,\n",
       " 0.7827178835868835,\n",
       " 1.1282930374145508,\n",
       " 1.4379154443740845,\n",
       " 0.3418814241886139,\n",
       " 0.9859020113945007,\n",
       " 0.9657406210899353,\n",
       " 0.8893235325813293,\n",
       " 1.6156998872756958,\n",
       " 0.7512212991714478,\n",
       " 1.0345193147659302,\n",
       " 1.5056554079055786,\n",
       " 0.5791094303131104,\n",
       " 0.6644343733787537,\n",
       " 0.5940457582473755,\n",
       " 0.7441236972808838,\n",
       " 0.8339454531669617,\n",
       " 0.39656862616539,\n",
       " 0.7692366242408752,\n",
       " 0.8386837840080261,\n",
       " 0.604416012763977,\n",
       " 0.8465833067893982,\n",
       " 0.6896358132362366,\n",
       " 0.774458646774292,\n",
       " 0.5220612287521362,\n",
       " 0.720665693283081,\n",
       " 0.6350922584533691,\n",
       " 0.8642118573188782,\n",
       " 1.1889830827713013,\n",
       " 0.7834831476211548,\n",
       " 0.8405932784080505,\n",
       " 0.8130106925964355,\n",
       " 0.6562910676002502,\n",
       " 0.7835850119590759,\n",
       " 1.497300624847412,\n",
       " 0.7315379977226257,\n",
       " 0.5388185381889343,\n",
       " 0.6577318906784058,\n",
       " 0.6753613948822021,\n",
       " 0.7157029509544373,\n",
       " 0.7536844611167908,\n",
       " 0.7564980983734131,\n",
       " 0.9341061115264893,\n",
       " 0.43501758575439453,\n",
       " 0.32862335443496704,\n",
       " 1.025200605392456,\n",
       " 0.7789238095283508,\n",
       " 0.9489179253578186,\n",
       " 1.0359619855880737,\n",
       " 0.500004231929779,\n",
       " 0.4311472475528717,\n",
       " 1.6962724924087524,\n",
       " 0.8380413055419922,\n",
       " 0.6948515772819519,\n",
       " 0.8128425478935242,\n",
       " 0.6861670017242432,\n",
       " 1.131921648979187,\n",
       " 0.6560784578323364,\n",
       " 0.4609116315841675,\n",
       " 0.8724167943000793,\n",
       " 1.291496992111206,\n",
       " 0.4864901900291443,\n",
       " 0.6081271171569824,\n",
       " 1.3201640844345093,\n",
       " 1.031814694404602,\n",
       " 1.734971046447754,\n",
       " 1.2321686744689941,\n",
       " 1.424699306488037,\n",
       " 0.817619264125824,\n",
       " 0.7206527590751648,\n",
       " 1.0667824745178223,\n",
       " 0.8380411863327026,\n",
       " 1.0628852844238281,\n",
       " 0.8380411863327026,\n",
       " 1.1155405044555664,\n",
       " 1.1114081144332886,\n",
       " 0.5485072135925293,\n",
       " 1.3241616487503052,\n",
       " 0.47498759627342224,\n",
       " 0.8711696267127991,\n",
       " 1.0503538846969604,\n",
       " 0.4809771180152893,\n",
       " 0.7437116503715515,\n",
       " 0.7118015289306641,\n",
       " 0.5587213039398193,\n",
       " 0.8001914620399475,\n",
       " 0.727406919002533,\n",
       " 0.5374437570571899,\n",
       " 0.8549032211303711,\n",
       " 0.8101127743721008,\n",
       " 0.8867971301078796,\n",
       " 0.7072521448135376,\n",
       " 0.7327616810798645,\n",
       " 1.3985494375228882,\n",
       " 0.8380410671234131,\n",
       " 0.9422333836555481,\n",
       " 0.6916265487670898,\n",
       " 0.6560205817222595,\n",
       " 0.6038464903831482,\n",
       " 1.1956151723861694,\n",
       " 0.17090018093585968,\n",
       " 0.8212218284606934,\n",
       " 1.0768241882324219,\n",
       " 1.1323497295379639,\n",
       " 0.5978267192840576,\n",
       " 0.6711656451225281,\n",
       " 1.7420918941497803,\n",
       " 0.8113760948181152,\n",
       " 0.6905997395515442,\n",
       " 0.8167501091957092,\n",
       " 1.0726591348648071,\n",
       " 0.9803017973899841,\n",
       " 0.809706449508667,\n",
       " 0.6117476224899292,\n",
       " 0.5934339761734009,\n",
       " 0.7453182339668274,\n",
       " 0.6711417436599731,\n",
       " 1.9225839376449585,\n",
       " 1.2819688320159912,\n",
       " 0.7514414191246033,\n",
       " 0.6795849204063416,\n",
       " 1.0534093379974365,\n",
       " 0.8639424443244934,\n",
       " 0.5408614277839661,\n",
       " 0.7164543271064758,\n",
       " 0.8955717086791992,\n",
       " 0.9826654195785522,\n",
       " 0.8988690376281738,\n",
       " 0.981871485710144,\n",
       " 0.6077364087104797,\n",
       " 0.9057306051254272,\n",
       " 0.633621871471405,\n",
       " 0.8955717086791992,\n",
       " 0.8955720663070679,\n",
       " 0.9481457471847534,\n",
       " 0.7910612225532532,\n",
       " 0.5408616662025452,\n",
       " 0.6027341485023499,\n",
       " 0.766559362411499,\n",
       " 0.8336468935012817,\n",
       " 1.0421828031539917,\n",
       " 0.7792100310325623,\n",
       " 0.7769724726676941,\n",
       " 1.0308589935302734,\n",
       " 0.49890029430389404,\n",
       " 0.8845878839492798,\n",
       " 0.6198137998580933,\n",
       " 0.6479549407958984,\n",
       " 0.9406942129135132,\n",
       " 0.800191342830658,\n",
       " 0.7418301105499268,\n",
       " 1.953428030014038,\n",
       " 0.5975812077522278,\n",
       " 0.9568955302238464,\n",
       " 0.9922400712966919,\n",
       " 0.8834644556045532,\n",
       " 0.5934270024299622,\n",
       " 0.7952165603637695,\n",
       " 1.004270315170288,\n",
       " 1.1349927186965942,\n",
       " 0.8955720663070679,\n",
       " 1.0186454057693481,\n",
       " 1.0176249742507935,\n",
       " 0.5923492312431335,\n",
       " 0.5056926012039185,\n",
       " 0.9528152346611023,\n",
       " 0.591002881526947,\n",
       " 0.8109322190284729,\n",
       " 0.5232971906661987,\n",
       " 0.9292851090431213,\n",
       " 1.192354679107666,\n",
       " 0.5945586562156677,\n",
       " 1.7488411664962769,\n",
       " 0.9409080147743225,\n",
       " 1.0747506618499756,\n",
       " 0.8218838572502136,\n",
       " 0.8343457579612732,\n",
       " 0.39206644892692566,\n",
       " 0.628852903842926,\n",
       " 0.5864500999450684,\n",
       " 1.0531502962112427,\n",
       " 0.9867579340934753,\n",
       " 1.0959281921386719,\n",
       " 1.2324299812316895,\n",
       " 0.955381453037262,\n",
       " 1.0046497583389282,\n",
       " 1.0127947330474854,\n",
       " 0.7647055387496948,\n",
       " 0.6896359920501709,\n",
       " 0.6801206469535828,\n",
       " 0.9271698594093323,\n",
       " 0.6966767311096191,\n",
       " 1.004650354385376,\n",
       " 1.084500789642334,\n",
       " 1.168494462966919,\n",
       " 0.9036418199539185,\n",
       " 0.7359204292297363,\n",
       " 0.43896400928497314,\n",
       " 0.796995997428894,\n",
       " 1.0015286207199097,\n",
       " 0.9559826254844666,\n",
       " 0.46195483207702637,\n",
       " 0.9343357086181641,\n",
       " 0.9367690682411194,\n",
       " 1.1970531940460205,\n",
       " 1.7467652559280396,\n",
       " 0.7744585871696472,\n",
       " 0.8545149564743042,\n",
       " 1.3807203769683838,\n",
       " 0.8380411863327026,\n",
       " 0.5542370080947876,\n",
       " 0.5478596091270447,\n",
       " 0.8996253609657288,\n",
       " 1.3584938049316406,\n",
       " 0.7504335045814514,\n",
       " 0.7692365646362305,\n",
       " 0.538818359375,\n",
       " 0.7213815450668335,\n",
       " 0.7652102112770081,\n",
       " 0.5690872669219971,\n",
       " 0.9811527729034424,\n",
       " 0.7096412777900696,\n",
       " 1.2871570587158203,\n",
       " 1.953428864479065,\n",
       " 1.077202320098877,\n",
       " 0.6256394386291504,\n",
       " 1.0989800691604614,\n",
       " 0.9176927208900452,\n",
       " 0.6366095542907715,\n",
       " 0.604416012763977,\n",
       " 0.5934345722198486,\n",
       " 0.7692364454269409,\n",
       " 0.5827571749687195,\n",
       " 0.8352270722389221,\n",
       " 1.0046498775482178,\n",
       " 1.0768243074417114,\n",
       " 0.9089218378067017,\n",
       " 0.8047653436660767,\n",
       " 1.2854865789413452,\n",
       " 1.323677897453308,\n",
       " 0.5793111324310303,\n",
       " 0.7181531190872192,\n",
       " 0.7936326265335083,\n",
       " 0.948258638381958,\n",
       " 0.8716081380844116,\n",
       " 0.5562038421630859,\n",
       " 0.9426485300064087,\n",
       " 0.7504328489303589,\n",
       " 0.8374480605125427,\n",
       " 1.132349967956543,\n",
       " 0.7008671760559082,\n",
       " 0.7827708125114441,\n",
       " 1.2317019701004028,\n",
       " 0.8198708891868591,\n",
       " 1.8207824230194092,\n",
       " 0.8866316676139832,\n",
       " 0.5143396854400635,\n",
       " 0.5734516978263855,\n",
       " 0.6728339791297913,\n",
       " 1.0385886430740356,\n",
       " 0.9292851090431213,\n",
       " 0.71364426612854,\n",
       " 0.49890032410621643,\n",
       " 0.9945371747016907,\n",
       " 0.7352264523506165,\n",
       " 1.085687518119812,\n",
       " 0.7016429305076599,\n",
       " 0.6560782790184021,\n",
       " 0.7234918475151062,\n",
       " 0.6081273555755615,\n",
       " 0.8070124983787537,\n",
       " 0.9859024286270142,\n",
       " 1.0945699214935303,\n",
       " 0.6776805520057678,\n",
       " 1.2748202085494995,\n",
       " 0.9200925230979919,\n",
       " 0.9194421172142029,\n",
       " 0.7223157286643982,\n",
       " 0.8417794108390808,\n",
       " 0.8536261320114136,\n",
       " 0.9735664129257202,\n",
       " 0.890285074710846,\n",
       " 0.6150106191635132,\n",
       " 1.3784986734390259,\n",
       " 0.8665739297866821,\n",
       " 0.6767030954360962,\n",
       " 1.0308585166931152,\n",
       " 1.1105914115905762,\n",
       " 1.2753850221633911,\n",
       " 0.7665592432022095,\n",
       " 1.10598623752594,\n",
       " 0.49512505531311035,\n",
       " 0.5828915238380432,\n",
       " 0.9406946301460266,\n",
       " 0.25578537583351135,\n",
       " 0.7539768815040588,\n",
       " 0.8007254004478455,\n",
       " 0.7276620268821716,\n",
       " 0.8806960582733154,\n",
       " 0.30629217624664307,\n",
       " 0.7276619672775269,\n",
       " 0.8406822681427002,\n",
       " 0.9395220875740051,\n",
       " 0.8576333522796631,\n",
       " 1.5084848403930664,\n",
       " 1.012794017791748,\n",
       " 0.5220613479614258,\n",
       " 1.1824232339859009,\n",
       " 0.9108994603157043,\n",
       " 0.8264874815940857,\n",
       " 0.6267489194869995,\n",
       " 0.9217745065689087,\n",
       " 1.4423010349273682,\n",
       " 0.4882824420928955,\n",
       " 0.9672845602035522,\n",
       " 0.6618064045906067,\n",
       " 0.7302548289299011,\n",
       " 1.4216948747634888,\n",
       " 0.5274087190628052,\n",
       " 0.8107733130455017,\n",
       " 0.5154694318771362,\n",
       " 1.8764674663543701,\n",
       " 0.6983481049537659,\n",
       " 0.7551597356796265,\n",
       " 0.5806617140769958,\n",
       " 0.9158768653869629,\n",
       " 0.7877092361450195,\n",
       " 1.1294492483139038,\n",
       " 0.6876817941665649,\n",
       " 1.1611500978469849,\n",
       " 0.8396912813186646,\n",
       " 1.0069677829742432,\n",
       " 0.8321180939674377,\n",
       " 1.038270115852356,\n",
       " 0.6299548745155334,\n",
       " 1.2438291311264038,\n",
       " 0.733168363571167,\n",
       " 0.9788017868995667,\n",
       " 0.9880930781364441,\n",
       " 0.9777936935424805,\n",
       " 0.8931782841682434,\n",
       " 0.707132875919342,\n",
       " 0.37239769101142883,\n",
       " 0.6368163824081421,\n",
       " 0.7570753693580627,\n",
       " 1.2020217180252075,\n",
       " 0.48559117317199707,\n",
       " 1.3848240375518799,\n",
       " 0.8380409479141235,\n",
       " 1.296486735343933,\n",
       " 0.5152085423469543,\n",
       " 1.4076706171035767,\n",
       " 1.2479735612869263,\n",
       " 0.8955721855163574,\n",
       " 0.7539770007133484,\n",
       " 0.8220228552818298,\n",
       " 0.7012382745742798,\n",
       " 0.9513369202613831,\n",
       " 0.29079151153564453,\n",
       " 0.7470725178718567,\n",
       " 0.7363389134407043,\n",
       " 0.6506401300430298,\n",
       " 0.9386969208717346,\n",
       " 0.7985972762107849,\n",
       " 1.0719233751296997,\n",
       " 1.2878037691116333,\n",
       " 0.7019451856613159,\n",
       " 0.3514755666255951,\n",
       " 0.7280802130699158,\n",
       " 0.6977333426475525,\n",
       " 1.0830079317092896,\n",
       " 1.0418745279312134,\n",
       " 0.5686640739440918,\n",
       " 0.9292852282524109,\n",
       " 0.8955719470977783,\n",
       " 0.5767345428466797,\n",
       " 0.6306444406509399,\n",
       " 0.47919762134552,\n",
       " 1.1541681289672852,\n",
       " 0.8130110502243042,\n",
       " 0.9406943917274475,\n",
       " 1.0135263204574585,\n",
       " 0.8941301107406616,\n",
       " 0.682336688041687,\n",
       " 0.9325211048126221,\n",
       " 1.105986475944519,\n",
       " 0.8612902164459229,\n",
       " 0.6136153936386108,\n",
       " 0.49254941940307617,\n",
       " 0.5686640739440918,\n",
       " 0.8130106329917908,\n",
       " 0.812842607498169,\n",
       " 0.8955720663070679,\n",
       " 0.6115263104438782,\n",
       " 0.6038670539855957,\n",
       " 0.9123714566230774,\n",
       " 1.198874831199646,\n",
       " 0.7946904897689819,\n",
       " 0.9455881118774414,\n",
       " 0.3735926151275635,\n",
       " 0.8070125579833984,\n",
       " 0.9474249482154846,\n",
       " 1.040435791015625,\n",
       " 0.8264874815940857,\n",
       " 0.6141698956489563,\n",
       " 0.7504954934120178,\n",
       " 0.9342074394226074,\n",
       " 0.6282440423965454,\n",
       " 0.7924813628196716,\n",
       " 0.9088007807731628,\n",
       " 1.0456174612045288,\n",
       " 0.5368051528930664,\n",
       " 0.8326854109764099,\n",
       " 1.3422883749008179,\n",
       " 1.320163607597351,\n",
       " 0.6106509566307068,\n",
       " 0.4841873049736023,\n",
       " 0.8055180311203003,\n",
       " 0.5844348073005676,\n",
       " 0.7826992273330688,\n",
       " 1.0253114700317383,\n",
       " 1.3344042301177979,\n",
       " 1.0323574542999268,\n",
       " 0.7916164994239807,\n",
       " 0.6953393220901489,\n",
       " 1.006898045539856,\n",
       " 1.035104513168335,\n",
       " 1.0681955814361572,\n",
       " 0.9273595213890076,\n",
       " 1.2745450735092163,\n",
       " 0.5759455561637878,\n",
       " 0.6508287191390991,\n",
       " 0.9040026068687439,\n",
       " 1.0068986415863037,\n",
       " 0.7487090229988098,\n",
       " 0.946166455745697,\n",
       " 0.802514374256134,\n",
       " 0.7813871502876282,\n",
       " ...]"
      ]
     },
     "execution_count": 138,
     "metadata": {},
     "output_type": "execute_result"
    }
   ],
   "source": [
    "negative_distances"
   ]
  },
  {
   "cell_type": "code",
   "execution_count": 139,
   "metadata": {},
   "outputs": [
    {
     "data": {
      "text/plain": [
       "0.050396885722875595"
      ]
     },
     "execution_count": 139,
     "metadata": {},
     "output_type": "execute_result"
    }
   ],
   "source": [
    "min(negative_distances)"
   ]
  },
  {
   "cell_type": "code",
   "execution_count": 140,
   "metadata": {},
   "outputs": [
    {
     "data": {
      "text/plain": [
       "3.0190858864892016"
      ]
     },
     "execution_count": 140,
     "metadata": {},
     "output_type": "execute_result"
    }
   ],
   "source": [
    "len(negative_distances) / len(positive_distances)"
   ]
  },
  {
   "cell_type": "code",
   "execution_count": 141,
   "metadata": {},
   "outputs": [
    {
     "name": "stdout",
     "output_type": "stream",
     "text": [
      "3.42312409884471e-06\n",
      "0.44470250606536865\n"
     ]
    },
    {
     "data": {
      "image/png": "[encoded data removed]",
      "text/plain": [
       "<Figure size 640x480 with 1 Axes>"
      ]
     },
     "metadata": {},
     "output_type": "display_data"
    }
   ],
   "source": [
    "plot_histogram(positive_distances, \"positive examples\", max_range=None)"
   ]
  },
  {
   "cell_type": "code",
   "execution_count": 142,
   "metadata": {
    "scrolled": true
   },
   "outputs": [
    {
     "name": "stdout",
     "output_type": "stream",
     "text": [
      "0.050396885722875595\n",
      "1\n"
     ]
    },
    {
     "data": {
      "image/png": "[encoded data removed]",
      "text/plain": [
       "<Figure size 640x480 with 1 Axes>"
      ]
     },
     "metadata": {},
     "output_type": "display_data"
    }
   ],
   "source": [
    "plot_histogram(negative_distances, \"negative examples\", max_range=1)"
   ]
  },
  {
   "cell_type": "code",
   "execution_count": 143,
   "metadata": {},
   "outputs": [
    {
     "name": "stdout",
     "output_type": "stream",
     "text": [
      "107.34982299804688\n",
      "15.913150787353516\n"
     ]
    }
   ],
   "source": [
    "calc_margin_loss(torch.tensor(positive_distances+negative_distances), torch.cat((torch.ones(len(positive_distances)), torch.zeros(len(negative_distances)))), margin = solver_params['margin_loss_margin_value'])"
   ]
  },
  {
   "cell_type": "markdown",
   "metadata": {},
   "source": [
    "Train again without rebuilding data loaders, and without the val_loader"
   ]
  },
  {
   "cell_type": "code",
   "execution_count": 144,
   "metadata": {},
   "outputs": [],
   "source": [
    "# model_factory_func = lambda device: GraphCNN(num_layers=5, num_mlp_layers = 2, input_dim=input_dim, hidden_dim=64, output_dim=num_classes, final_dropout=0.5, learn_eps=False, graph_pooling_type=\"sum\", neighbor_pooling_type=\"sum\", device=device)\n",
    "# new_trainer, graph_metric_nn, model = init_embedding_net_and_trainer(model_factory_func)\n",
    "\n",
    "# new_trainer.previous_train_loader_paths = trainer.previous_train_loader_paths\n",
    "# new_trainer.previous_val_loader_paths = [None for device_id in processes_device_ids] #trainer.previous_val_loader_paths\n",
    "# new_trainer.train(processes_device_ids=processes_device_ids, use_existing_data_loaders=True)"
   ]
  },
  {
   "cell_type": "code",
   "execution_count": 145,
   "metadata": {
    "collapsed": false,
    "jupyter": {
     "outputs_hidden": false
    },
    "pycharm": {
     "name": "#%%\n"
    }
   },
   "outputs": [
    {
     "name": "stdout",
     "output_type": "stream",
     "text": [
      "post iteration 0\n",
      "post iteration 5000\n",
      "post iteration 10000\n",
      "post iteration 15000\n",
      "post iteration 20000\n",
      "post iteration 25000\n",
      "post iteration 30000\n",
      "post iteration 35000\n",
      "post iteration 40000\n",
      "post iteration 45000\n",
      "post iteration 50000\n",
      "post iteration 55000\n"
     ]
    }
   ],
   "source": [
    "_ = graph_metric_nn.eval()\n",
    "\n",
    "FP = 0\n",
    "FN = 0\n",
    "for i in range(0, len(used_train_samples_list)):\n",
    "    if i % 5_000 == 0:\n",
    "        print(f\"post iteration {i}\")\n",
    "    is_negative_sample = used_train_samples_list[i].is_negative_sample\n",
    "    graph1 = train_samples_list[i].subgraph\n",
    "    graph2 = train_samples_list[i].masked_graph\n",
    "\n",
    "    s2v_graphs = generate_s2v_graphs([graph1.g, graph2.g], print_stats=False)\n",
    "\n",
    "    distance = graph_metric_nn.forward([(s2v_graphs[0], s2v_graphs[1])]).item()\n",
    "\n",
    "    if is_negative_sample and (distance < solver_params['margin_loss_margin_value']):\n",
    "        FP += 1\n",
    "        # print(f\"negative loss term not zero, as distance for this negative example pair is {distance}\")\n",
    "    if (not is_negative_sample) and (distance > solver_params['margin_loss_margin_value']):\n",
    "        FN += 1\n",
    "        # print(f\"negative loss term not zero, as distance for this positive example pair is {distance}\")"
   ]
  },
  {
   "cell_type": "code",
   "execution_count": 146,
   "metadata": {},
   "outputs": [
    {
     "name": "stdout",
     "output_type": "stream",
     "text": [
      "FP=2713 out of 42077 negative examples\n",
      "FN=0 out of 13937 positive examples\n"
     ]
    }
   ],
   "source": [
    "print(f\"FP={FP} out of {len(negative_distances)} negative examples\")\n",
    "print(f\"FN={FN} out of {len(positive_distances)} positive examples\")"
   ]
  },
  {
   "cell_type": "markdown",
   "metadata": {},
   "source": [
    "Generalization error"
   ]
  },
  {
   "cell_type": "code",
   "execution_count": 148,
   "metadata": {},
   "outputs": [],
   "source": [
    "positive_distances, negative_distances = get_examples_distances(trainer, eval_ged_examples)"
   ]
  },
  {
   "cell_type": "code",
   "execution_count": 149,
   "metadata": {},
   "outputs": [
    {
     "name": "stdout",
     "output_type": "stream",
     "text": [
      "3.423107727940078e-06\n",
      "0.2760123014450073\n"
     ]
    },
    {
     "data": {
      "image/png": "[encoded data removed]",
      "text/plain": [
       "<Figure size 640x480 with 1 Axes>"
      ]
     },
     "metadata": {},
     "output_type": "display_data"
    }
   ],
   "source": [
    "plot_histogram(positive_distances, \"positive examples\", max_range=None)"
   ]
  },
  {
   "cell_type": "code",
   "execution_count": 150,
   "metadata": {},
   "outputs": [
    {
     "name": "stdout",
     "output_type": "stream",
     "text": [
      "0.05039694532752037\n",
      "1\n"
     ]
    },
    {
     "data": {
      "image/png": "[encoded data removed]",
      "text/plain": [
       "<Figure size 640x480 with 1 Axes>"
      ]
     },
     "metadata": {},
     "output_type": "display_data"
    }
   ],
   "source": [
    "plot_histogram(negative_distances, \"negative examples\", max_range=1)"
   ]
  },
  {
   "cell_type": "code",
   "execution_count": 151,
   "metadata": {},
   "outputs": [
    {
     "name": "stdout",
     "output_type": "stream",
     "text": [
      "48.136898040771484\n",
      "7.254316329956055\n"
     ]
    }
   ],
   "source": [
    "calc_margin_loss(torch.tensor(positive_distances+negative_distances), torch.cat((torch.ones(len(positive_distances)), torch.zeros(len(negative_distances)))), margin = solver_params['margin_loss_margin_value'])"
   ]
  },
  {
   "cell_type": "markdown",
   "metadata": {
    "collapsed": false,
    "jupyter": {
     "outputs_hidden": false
    }
   },
   "source": [
    "Execution time profiling"
   ]
  },
  {
   "cell_type": "code",
   "execution_count": null,
   "metadata": {
    "collapsed": false,
    "jupyter": {
     "outputs_hidden": false
    },
    "pycharm": {
     "name": "#%%\n"
    }
   },
   "outputs": [],
   "source": [
    "# from cProfile import Profile\n",
    "# from pstats import SortKey, Stats\n",
    "\n",
    "# with Profile() as profile:\n",
    "#     new_trainer.train(processes_device_ids=processes_device_ids, use_existing_data_loaders=True)\n",
    "#     (\n",
    "#     Stats(profile)\n",
    "#         .strip_dirs()\n",
    "#         .sort_stats(SortKey.CUMULATIVE)\n",
    "#         .print_stats()\n",
    "#     )"
   ]
  }
 ],
 "metadata": {
  "kernelspec": {
   "display_name": "Python 3 (ipykernel)",
   "language": "python",
   "name": "python3"
  },
  "language_info": {
   "codemirror_mode": {
    "name": "ipython",
    "version": 3
   },
   "file_extension": ".py",
   "mimetype": "text/x-python",
   "name": "python",
   "nbconvert_exporter": "python",
   "pygments_lexer": "ipython3",
   "version": "3.11.4"
  }
 },
 "nbformat": 4,
 "nbformat_minor": 4
}