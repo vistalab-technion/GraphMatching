{
 "cells": [
  {
   "cell_type": "markdown",
   "metadata": {
    "jupyter": {
     "outputs_hidden": false
    }
   },
   "source": [
    "Imports"
   ]
  },
  {
   "cell_type": "code",
   "execution_count": 1,
   "metadata": {},
   "outputs": [],
   "source": [
    "import sys\n",
    "sys.path.append(\"/home/sanketh/DANI/GraphMatching/\")\n",
    "import torch.multiprocessing as mp\n",
    "mp.set_start_method(\"spawn\")"
   ]
  },
  {
   "cell_type": "code",
   "execution_count": 2,
   "metadata": {
    "jupyter": {
     "outputs_hidden": false
    },
    "pycharm": {
     "name": "#%%\n"
    }
   },
   "outputs": [],
   "source": [
    "import pathlib\n",
    "import os\n",
    "import numpy as np\n",
    "import torch\n",
    "from torch import optim\n",
    "from subgraph_matching_via_nn.data.data_loaders import load_graph\n",
    "from powerful_gnns.util import S2VGraph\n",
    "from powerful_gnns.util import load_data_given_graph_list_and_label_map\n",
    "from powerful_gnns.models.graphcnn import GraphCNN\n",
    "from powerful_gnns.util import separate_data\n",
    "from powerful_gnns.classifier_training import train, test\n",
    "from common.EmbeddingCalculationsService import pairwise_l2_distance, show_distance_matrix, \\\n",
    "    calculate_energy_based_hidden_rep\n",
    "from subgraph_matching_via_nn.training.PairSampleInfo import Pair_Sample_Info\n",
    "from subgraph_matching_via_nn.data.annotated_graph import AnnotatedGraph\n",
    "from subgraph_matching_via_nn.graph_metric_networks.graph_metric_nn import MLPGraphMetricNetwork\n",
    "from subgraph_matching_via_nn.graph_metric_networks.embedding_metric_nn import EmbeddingMetricNetwork\n",
    "from subgraph_matching_via_nn.graph_embedding_networks.gnn_embedding_network import GNNEmbeddingNetwork\n",
    "from subgraph_matching_via_nn.training.trainer.S2VGraphEmbeddingSimilarityMetricTrainer import \\\n",
    "    S2VGraphEmbeddingSimilarityMetricTrainer\n",
    "from subgraph_matching_via_nn.graph_metric_networks.graph_metric_nn import SingleEmbeddingGraphMetricNetwork\n",
    "from subgraph_matching_via_nn.graph_metric_networks.graph_metric_nn import S2VGraphEmbeddingGraphMetricNetwork\n",
    "from networkx import NetworkXError\n",
    "import itertools\n",
    "import networkx as nx\n",
    "from common.parallel_computation import tqdm_joblib\n",
    "import random\n",
    "from tqdm import tqdm\n",
    "from joblib import Parallel, delayed\n",
    "from os import cpu_count\n",
    "import pickle\n",
    "from common.graph_utils import GED_graph_generator\n",
    "from subgraph_matching_via_nn.training.MarginLoss import MarginLoss\n",
    "import wwl\n",
    "from wwl import laplacian_kernel\n",
    "import networkx as nx\n",
    "from igraph import Graph\n",
    "from scipy.stats import norm\n",
    "import seaborn as sns\n",
    "import matplotlib\n",
    "import matplotlib.pyplot as plt\n",
    "from livelossplot import PlotLosses"
   ]
  },
  {
   "cell_type": "code",
   "execution_count": 3,
   "metadata": {
    "jupyter": {
     "outputs_hidden": false
    },
    "pycharm": {
     "name": "#%%\n"
    }
   },
   "outputs": [],
   "source": [
    "def get_graph_wl_distances(graphs, node_label):\n",
    "    igraphs = [Graph() for i in range(len(graphs))]\n",
    "    igraphs = [igraph.from_networkx(graph) for igraph, graph in zip(igraphs, graphs)]\n",
    "    kernel_values = wwl.pairwise_wasserstein_distance(igraphs, [len(igraphs)-1], enforce_continuous=True, num_iterations=10)\n",
    "    kernel_values = laplacian_kernel(kernel_values) #normalize energey\n",
    "\n",
    "    # gk_wl = WL_metric.GK_WL()\n",
    "    # kernel_values = gk_wl.compare_list(graphs, h=5, node_label=node_label)\n",
    "    return 1- kernel_values\n",
    "    #return np.round(1 - kernel_values, decimals=4)"
   ]
  },
  {
   "cell_type": "code",
   "execution_count": 4,
   "metadata": {},
   "outputs": [],
   "source": [
    "def transform_into_s2vgraphs(graphs, labels):\n",
    "    g_list = []\n",
    "    label_dict = {}\n",
    "    for subgraph, label in zip(graphs, labels):\n",
    "        if type(subgraph) is nx.Graph:\n",
    "            s2v_graph = S2VGraph(subgraph, label)\n",
    "        else:\n",
    "            s2v_graph = S2VGraph(subgraph.G, label)\n",
    "        g_list.append(s2v_graph)\n",
    "        if not label in label_dict:\n",
    "            mapped = len(label_dict)\n",
    "            label_dict[label] = mapped\n",
    "\n",
    "    # Process graph features\n",
    "    graphs, num_classes = load_data_given_graph_list_and_label_map(g_list, label_dict, degree_as_tag=True, device=device)\n",
    "\n",
    "    return graphs, num_classes\n",
    "\n",
    "def generate_s2v_graphs(networkx_graphs, print_stats=True):\n",
    "    graphs, _ = transform_into_s2vgraphs(networkx_graphs, [None for graph in networkx_graphs])\n",
    "\n",
    "    for s2v_graph in graphs:\n",
    "        # convert graph features here, not only in trainer! (heatmap is probably wrong)\n",
    "        annotated_graph = AnnotatedGraph(s2v_graph.g)\n",
    "        s2v_graph.node_features = annotated_graph.node_indicator.to(device=device)\n",
    "\n",
    "    return graphs"
   ]
  },
  {
   "cell_type": "code",
   "execution_count": 5,
   "metadata": {},
   "outputs": [],
   "source": [
    "def plot_map(map, xlabel, ylabel, title):\n",
    "    keys = list(map.keys())\n",
    "    values = list(map.values())\n",
    "      \n",
    "    fig = plt.figure(figsize = (15, 5))\n",
    "\n",
    "    # creating the bar plot\n",
    "    plt.plot(keys, values, color ='maroon')\n",
    "\n",
    "    extraticks = keys\n",
    "    xticks = list(extraticks)\n",
    "    plt.xticks(xticks)\n",
    "\n",
    "    plt.xlabel(xlabel)\n",
    "    ax = matplotlib.pyplot.gca()\n",
    "    plt.setp(ax.get_xticklabels(), rotation=30, horizontalalignment='right')\n",
    "\n",
    "    plt.ylabel(ylabel)\n",
    "    plt.title(title)\n",
    "    plt.show()\n",
    "\n",
    "def chart_bar_plot(data_map, xlabel, ylabel, title):\n",
    "    keys = list(data_map.keys())\n",
    "    values = list(data_map.values())\n",
    "\n",
    "    fig = plt.figure(figsize = (10, 5))\n",
    "\n",
    "    # creating the bar plot\n",
    "    plt.bar(keys, values, color ='maroon',\n",
    "            width = 0.4)\n",
    "\n",
    "    plt.xlabel(xlabel)\n",
    "    plt.ylabel(ylabel)\n",
    "    plt.title(title)\n",
    "    plt.show()\n",
    "\n",
    "def plot_histogram(sequence, x_title=\"\", min_range=None, max_range=None):\n",
    "    # Fit a distribution to the data\n",
    "    if min_range is None:\n",
    "        min_range = min(sequence)\n",
    "    if max_range is None:\n",
    "        max_range = max(sequence)\n",
    "\n",
    "    print(min_range)\n",
    "    print(max_range)\n",
    "    sequence = [item for item in sequence if ((item >= min_range) and (item <= max_range))]\n",
    "\n",
    "    fig, ax = plt.subplots(1)\n",
    "    # sns.histplot(sequence, bins='auto', stat='density',\n",
    "    #              label='Normalized Histogram', ax=ax)\n",
    "\n",
    "    mu, std = norm.fit(sequence)\n",
    "    x = np.linspace(min_range, max_range, 100)\n",
    "    if not np.all(x == x[0]):\n",
    "        y = norm.pdf(x, mu, std)\n",
    "    else:\n",
    "        y = np.ones_like(x)\n",
    "    sns.lineplot(x=x, y=y, color='red', label='Fitted Normal Distribution', ax=ax)\n",
    "\n",
    "    # Plot the KDE\n",
    "    sns.kdeplot(sequence, label='KDE', bw_adjust=0.5, ax=ax)\n",
    "\n",
    "    ax.set_xlabel(x_title)\n",
    "    ax.set_ylabel('Density')\n",
    "    ax.set_title(f'{x_title} Distribution')\n",
    "    ax.legend(loc='upper left')\n",
    "    ax.grid(True)\n",
    "    plt.show()"
   ]
  },
  {
   "cell_type": "code",
   "execution_count": 6,
   "metadata": {
    "pycharm": {
     "name": "#%%\n"
    }
   },
   "outputs": [],
   "source": [
    "# go over pairs in ged_examples1/2, and for their subgraphs generate wl+dist\n",
    "# only take into account their wl_dist from the all pairs vs all pairs matrix\n",
    "def generate_wl_dist_for_ged_pairs(ged_examples_list):\n",
    "    pairs_index_to_dist_map = {}\n",
    "\n",
    "    all_ged_example_list_graphs = []\n",
    "    for ged_example_list in ged_examples_list:\n",
    "        ged_example_list_graphs = [ged_example_list[0].subgraph.g] + [pair.masked_graph.g for pair in ged_example_list]\n",
    "        all_ged_example_list_graphs += ged_example_list_graphs\n",
    "\n",
    "    wl_dist_matrix = get_graph_wl_distances(all_ged_example_list_graphs, node_label=False)\n",
    "\n",
    "    base_graph_index = 0\n",
    "    pairs_index = 0\n",
    "    for ged_example_list_index, ged_example_list in enumerate(ged_examples_list):\n",
    "        for relative_index, pair in enumerate(ged_example_list):\n",
    "            wl_dist = wl_dist_matrix[base_graph_index][base_graph_index + relative_index + 1]\n",
    "            pairs_index_to_dist_map[pairs_index] = wl_dist\n",
    "\n",
    "            pairs_index += 1\n",
    "        base_graph_index += 1 + (relative_index + 1)\n",
    "\n",
    "    return pairs_index_to_dist_map\n",
    "\n",
    "def show_wl_dist_histograms(positive_examples, negative_examples, max_examples_amount = 1000):\n",
    "    positive_examples_pairs_index_to_dist_map = {}\n",
    "    negative_examples_pairs_index_to_dist_map = {}\n",
    "\n",
    "    ged_examples_pairs_index_to_dist_map = generate_wl_dist_for_ged_pairs(positive_examples[:max_examples_amount] + negative_examples[:max_examples_amount])\n",
    "    print(\"finished distances calculation\")\n",
    "\n",
    "    for pair_index, wl_dist in ged_examples_pairs_index_to_dist_map.items():\n",
    "        if pair_index < len(ged_1_examples):\n",
    "            positive_examples_pairs_index_to_dist_map[pair_index] = wl_dist\n",
    "        else:\n",
    "            negative_examples_pairs_index_to_dist_map[pair_index] = wl_dist\n",
    "    print(\"plotting\")\n",
    "\n",
    "    plot_histogram(list(positive_examples_pairs_index_to_dist_map.values()), \"positive examples WL distance\")\n",
    "    plot_histogram(list(negative_examples_pairs_index_to_dist_map.values()), \"negative examples WL distance\")\n",
    "\n",
    "    print(max(positive_examples_pairs_index_to_dist_map.values()))\n",
    "    print(min(negative_examples_pairs_index_to_dist_map.values()))\n",
    "\n",
    "    return positive_examples_pairs_index_to_dist_map, negative_examples_pairs_index_to_dist_map\n",
    "\n",
    "def get_min_non_diagonal_entry(tensor_, single_reference_graph_index=None, show_min_off_diagonal=True):\n",
    "    # show_min_off_diagonal: True for min, False for max\n",
    "    shape = tensor_.shape\n",
    "    assert len(shape) == 2\n",
    "\n",
    "    is_1_vs_all = False\n",
    "\n",
    "    if shape[0] != shape[1]:\n",
    "        assert ((shape[1] == 1) and (single_reference_graph_index is not None))\n",
    "        is_1_vs_all = True\n",
    "\n",
    "    diagonal_stub_value = float(\"inf\")\n",
    "    if not show_min_off_diagonal:\n",
    "        diagonal_stub_value = -diagonal_stub_value\n",
    "\n",
    "    if is_1_vs_all:\n",
    "        tensor_with_inf_diag = tensor_.detach().clone().requires_grad_(False)\n",
    "        tensor_with_inf_diag[single_reference_graph_index] = diagonal_stub_value\n",
    "    else:\n",
    "        tensor_with_inf_diag = tensor_ + torch.diag_embed(torch.ones(tensor_.shape[0], device=device) * diagonal_stub_value)\n",
    "\n",
    "    if show_min_off_diagonal:\n",
    "        return torch.min(tensor_with_inf_diag).item()\n",
    "    else:\n",
    "        return torch.max(tensor_with_inf_diag).item()\n",
    "\n",
    "def show_distances_heatmap(graphs, model, show_min_off_diagonal: bool = True):\n",
    "    # show_min_off_diagonal: True for min, False for max\n",
    "\n",
    "    model.eval()\n",
    "    all_embeddings = model.get_embedding(graphs)\n",
    "\n",
    "    l2_dists = pairwise_l2_distance(all_embeddings)\n",
    "\n",
    "    rounding_constant = 10 ** 3\n",
    "    cos_dists = torch.round(calculate_energy_based_hidden_rep(all_embeddings, threshold=-1) * rounding_constant) / rounding_constant\n",
    "\n",
    "    show_distance_matrix(l2_dists, \"l2-distances\")\n",
    "    show_distance_matrix(cos_dists, \"cosine-distances\")\n",
    "\n",
    "    print(f\"Off matrix diagonal margin: {get_min_non_diagonal_entry(l2_dists, show_min_off_diagonal=show_min_off_diagonal)}\")\n",
    "    print(f\"Off matrix diagonal margin: {get_min_non_diagonal_entry(cos_dists, show_min_off_diagonal=show_min_off_diagonal)}\")"
   ]
  },
  {
   "cell_type": "code",
   "execution_count": 7,
   "metadata": {
    "pycharm": {
     "name": "#%%\n"
    }
   },
   "outputs": [],
   "source": [
    "def get_examples_distances(trainer, graph_metric_nn, samples):\n",
    "\n",
    "    train_loaders, val_loaders = trainer.get_data_loaders(samples, [], new_samples_amount=0, device_ids=[0])\n",
    "\n",
    "    positive_distances = []\n",
    "    negative_distances = []\n",
    "\n",
    "    # max_pair_batches_to_test = 10\n",
    "\n",
    "    i = 0\n",
    "\n",
    "    for pairs_batch in train_loaders[0]:\n",
    "        # if i >= max_pair_batches_to_test:\n",
    "        #     break\n",
    "        i += 1\n",
    "\n",
    "        with torch.no_grad():\n",
    "            distances = graph_metric_nn.forward(\n",
    "                [sample.s2v_graphs for sample in pairs_batch]\n",
    "            )\n",
    "\n",
    "        for pair, distance in zip(pairs_batch, distances):\n",
    "            distance = distance.item()\n",
    "            is_negative_example = pair.pair_sample_info.is_negative_sample\n",
    "            # print(f\"{i} : {distance}\")\n",
    "\n",
    "            if is_negative_example==False:\n",
    "                positive_distances.append(distance)\n",
    "                # if distance > solver_params['margin_loss_margin_value']:\n",
    "                #     print(f\"positive loss term not zero, as distance for this positive example pair is {distance}\")\n",
    "            else:\n",
    "                negative_distances.append(distance)\n",
    "                # if distance < solver_params['margin_loss_margin_value']:\n",
    "                #     print(f\"negative loss term not zero, as distance for this negative example pair is {distance}\")\n",
    "    return positive_distances, negative_distances\n",
    "\n",
    "def calc_margin_loss(distances, pos_labels, margin):\n",
    "    negative_labels = 1 - pos_labels\n",
    "    lossCriterion = MarginLoss(margin)\n",
    "    pos_loss, neg_loss = lossCriterion.get_loss(distances, pos_labels, negative_labels)\n",
    "    print(pos_loss.sum().item())\n",
    "    print(neg_loss.sum().item())"
   ]
  },
  {
   "cell_type": "code",
   "execution_count": null,
   "outputs": [],
   "source": [
    "def generate_perturbed_graphs(reference_graph: nx.Graph):\n",
    "    # assumption: there are no self loops, and no duplicate edges of opposite directions\n",
    "\n",
    "    # graphs generated by removing an existing edge\n",
    "    for edge in reference_graph.edges:\n",
    "        copy_graph = reference_graph.copy()\n",
    "        copy_graph.remove_edge(*edge)\n",
    "        yield copy_graph\n",
    "\n",
    "    # graphs generated by adding a missing edge\n",
    "    sorted_nodes = sorted(reference_graph.nodes, reverse=False)\n",
    "    for i, node_i in enumerate(sorted_nodes):\n",
    "        if i == len(sorted_nodes) - 1:\n",
    "            break\n",
    "\n",
    "        for node_j in sorted_nodes[i+1:]:\n",
    "            edge = (node_i, node_j)\n",
    "            if reference_graph.has_edge(*edge):\n",
    "                continue\n",
    "            copy_graph = reference_graph.copy()\n",
    "            copy_graph.add_edge(*edge)\n",
    "            yield copy_graph\n",
    "\n",
    "def generate_pair_example(G1_annotated, G2_annotated, is_negative_example):\n",
    "    return Pair_Sample_Info(\n",
    "        subgraph=G1_annotated,\n",
    "        masked_graph=G2_annotated,\n",
    "        is_negative_sample=torch.tensor(is_negative_example))\n",
    "\n",
    "def compare_graphs_and_generate_pair_example(G1_annotated, G2_annotated):\n",
    "    SG1 = G1_annotated.g\n",
    "    SG2 = G2_annotated.g\n",
    "\n",
    "    if nx.is_isomorphic(SG1, SG2):\n",
    "        isomorphic_pairs.append((SG1, SG2))\n",
    "        return generate_pair_example(G1_annotated, G2_annotated, is_negative_example = False)\n",
    "    else:\n",
    "        return generate_pair_example(G1_annotated, G2_annotated, is_negative_example = True)\n",
    "\n",
    "    # try:\n",
    "    #     diff_graph = nx.symmetric_difference(SG1, SG2)\n",
    "    # except NetworkXError:\n",
    "    #     # node sets are different\n",
    "    #     if nx.is_empty(SG1) and nx.is_empty(SG2) and (len(SG1) == len(SG2)):\n",
    "    #         # positive example\n",
    "    #         print(\"node sets are different, but isomorphic graphs\")\n",
    "    #         return generate_pair_example(G1_annotated, G2_annotated, is_negative_example = False)\n",
    "    #     else:\n",
    "    #         # negative example\n",
    "    #         print(\"node sets are different, and not isomorphic graphs\")\n",
    "    #         return generate_pair_example(G1_annotated, G2_annotated, is_negative_example = True)\n",
    "\n",
    "    # if nx.is_empty(diff_graph):\n",
    "    #     # print(\"isomorphic graphs\")\n",
    "    #     isomorphic_pairs.append((SG1, SG2))\n",
    "    #     # positive example\n",
    "    #     return generate_pair_example(G1_annotated, G2_annotated, is_negative_example = False)\n",
    "    # else:\n",
    "    #     # negative example\n",
    "    #     return generate_pair_example(G1_annotated, G2_annotated, is_negative_example = True)\n",
    "\n",
    "def generate_random_ged_paris(annotated_subgraph: AnnotatedGraph, ged_dist: int, pairs_n: int, is_negative_example: bool):\n",
    "    train_samples_list = []\n",
    "    SG1 = annotated_subgraph\n",
    "\n",
    "    ged_graph_generator = GED_graph_generator(SG1.g, ged_dist)\n",
    "\n",
    "    # generate pairs\n",
    "\n",
    "    for i, ged_perturbed_graph in enumerate(ged_graph_generator.generate()):\n",
    "        if i == pairs_n:\n",
    "            break\n",
    "\n",
    "        # positive example\n",
    "        train_samples_list.append(generate_pair_example(SG1, AnnotatedGraph(ged_perturbed_graph), is_negative_example = is_negative_example))\n",
    "\n",
    "    sys.stdout.flush()\n",
    "    return train_samples_list"
   ],
   "metadata": {
    "collapsed": false,
    "pycharm": {
     "name": "#%%\n"
    }
   }
  },
  {
   "cell_type": "code",
   "execution_count": null,
   "outputs": [],
   "source": [
    "def calc_performance_metrics(graph_metric_nn, samples, positive_distances, negative_distances):\n",
    "    FP = 0\n",
    "    FN = 0\n",
    "\n",
    "    single_pair_forward_positive_distances = []\n",
    "    single_pair_forward_negative_distances = []\n",
    "    for i in range(0, len(samples)):\n",
    "        if i % 5_000 == 0:\n",
    "            print(f\"post iteration {i}\")\n",
    "        is_negative_sample = samples[i].is_negative_sample\n",
    "        graph1 = samples[i].subgraph\n",
    "        graph2 = samples[i].masked_graph\n",
    "\n",
    "        s2v_graphs = generate_s2v_graphs([graph1.g, graph2.g], print_stats=False)\n",
    "\n",
    "        distance = graph_metric_nn.forward([(s2v_graphs[0], s2v_graphs[1])]).item()\n",
    "\n",
    "        if is_negative_sample:\n",
    "            single_pair_forward_negative_distances.append(distance)\n",
    "            if (distance < solver_params['margin_loss_margin_value']):\n",
    "                FP += 1\n",
    "                #print(f\"negative loss term not zero, as distance for this negative example pair is {distance}\")\n",
    "        if (not is_negative_sample):\n",
    "            single_pair_forward_positive_distances.append(distance)\n",
    "            if (distance > solver_params['margin_loss_margin_value']):\n",
    "                FN += 1\n",
    "                #print(f\"negative loss term not zero, as distance for this positive example pair is {distance}\")\n",
    "    print(f\"FP={FP} out of {len(negative_distances)} negative examples\")\n",
    "    print(f\"FN={FN} out of {len(positive_distances)} positive examples\")\n",
    "\n",
    "    return single_pair_forward_positive_distances, single_pair_forward_negative_distances"
   ],
   "metadata": {
    "collapsed": false,
    "pycharm": {
     "name": "#%%\n"
    }
   }
  },
  {
   "cell_type": "code",
   "execution_count": null,
   "outputs": [],
   "source": [
    "def train_model_with_hyperparams(used_train_samples_list, num_layers=5, num_mlp_layers=2, hidden_dim=128, trainer=None):\n",
    "\n",
    "    last_checkpoint_model_path = None\n",
    "\n",
    "    # val_samples_list = used_train_samples_list\n",
    "    model_factory_func = lambda device: GraphCNN(num_layers=num_layers, num_mlp_layers = num_mlp_layers, input_dim=input_dim, hidden_dim=hidden_dim, output_dim=num_classes, final_dropout=0.5, learn_eps=False, graph_pooling_type=\"sum\", neighbor_pooling_type=\"sum\", device=device)\n",
    "    solver_params[\"batch_size\"] = 512 * 8\n",
    "    solver_params[\"k_update_plot\"] = 10\n",
    "    solver_params[\"lr\"] = 1e-1\n",
    "    solver_params[\"max_epochs\"] = 200\n",
    "    current_trainer, graph_metric_nn, model = init_embedding_net_and_trainer(model_factory_func, last_checkpoint_model_path)\n",
    "\n",
    "    if trainer is None:\n",
    "        best_val_loss = current_trainer.train(processes_device_ids=processes_device_ids, use_existing_data_loaders=False, train_samples_list=used_train_samples_list, val_samples_list=[])\n",
    "    else:\n",
    "        current_trainer.set_existing_data_loader_paths(trainer.previous_train_loader_paths, trainer.previous_val_loader_paths)\n",
    "        best_val_loss = current_trainer.train(processes_device_ids=processes_device_ids, use_existing_data_loaders=True)\n",
    "\n",
    "    return current_trainer, graph_metric_nn, best_val_loss"
   ],
   "metadata": {
    "collapsed": false,
    "pycharm": {
     "name": "#%%\n"
    }
   }
  },
  {
   "cell_type": "code",
   "execution_count": 8,
   "metadata": {
    "jupyter": {
     "outputs_hidden": false
    },
    "pycharm": {
     "name": "#%%\n"
    }
   },
   "outputs": [],
   "source": [
    "goal_subcircuit_name = 'alu'\n",
    "DATA_PATH = 'C:/Users/kogan/OneDrive/Desktop/Research/AMIT/GraphMatching/subgraph_matching_via_nn/data/subcircuits/'\n",
    "DATA_PATH = '../subgraph_matching_via_nn/data/subcircuits/'\n",
    "\n",
    "desktop = pathlib.Path(DATA_PATH)\n",
    "subgraphs = []\n",
    "labels = []\n",
    "for circuit_dir in desktop.iterdir():\n",
    "    if circuit_dir.is_dir():\n",
    "        for subcircuit_file in circuit_dir.iterdir():\n",
    "            if subcircuit_file.is_file():\n",
    "                file_name = subcircuit_file.name\n",
    "                if file_name == 'full_graph.p':\n",
    "                    file_rel_path = f\"{os.sep}{file_name}\"\n",
    "                    loader_params = {\n",
    "                     'data_path' : str(circuit_dir),\n",
    "                     'g_full_path': file_rel_path,\n",
    "                     'g_sub_path': file_rel_path}\n",
    "\n",
    "                    sub_graph = \\\n",
    "                        load_graph(type='subcircuit',\n",
    "                                   loader_params=loader_params)\n",
    "\n",
    "                    if goal_subcircuit_name in circuit_dir.name:\n",
    "                        labels.append(1)\n",
    "                    else:\n",
    "                        # continue #TODO?\n",
    "                        labels.append(0)\n",
    "                    subgraphs.append(sub_graph)\n",
    "\n",
    "labels = np.array(labels, dtype='float32')\n",
    "N = len(subgraphs)\n",
    "N_training = int(2 / 3 * N)"
   ]
  },
  {
   "cell_type": "code",
   "execution_count": 9,
   "metadata": {
    "jupyter": {
     "outputs_hidden": false
    },
    "pycharm": {
     "name": "#%%\n"
    }
   },
   "outputs": [],
   "source": [
    "subgraphs = []\n",
    "labels = []\n",
    "\n",
    "subgraphs_for_classification = []\n",
    "\n",
    "circuit_base_dir = 'C:\\\\Users\\\\kogan\\\\OneDrive\\\\Desktop\\\\Research\\\\AMIT\\\\GraphMatching\\\\subgraph_matching_via_nn\\\\data\\\\subcircuits\\\\'\n",
    "# circuit_base_dir = '/home/sanketh/DANI/GraphMatching/subgraph_matching_via_nn/data/subcircuits/'\n",
    "CIRCUIT_DUPLICATES_AMOUNT = 5\n",
    "REFERENCE_GRAPH_ORIGINAL_LABEL = 1\n",
    "REFERENCE_GRAPH_ORIGINAL_INDEX = 0\n",
    "\n",
    "for circuit_file_name in ['adder_4', 'alu_4', 'alu_8', 'alu_16', 'alu_32', 'mul_4_4', 'mul_4_8', 'mul_8_8', 'mul_16_16', 'mul_16_32']:\n",
    "    file_rel_path = 'full_graph.p'\n",
    "    circuit_dir = f\"{circuit_base_dir}{circuit_file_name}{os.sep}\"\n",
    "    loader_params = {\n",
    "     'data_path' : str(circuit_dir),\n",
    "     'g_full_path': file_rel_path,\n",
    "     'g_sub_path': file_rel_path}\n",
    "\n",
    "    sub_graph = \\\n",
    "        load_graph(type='subcircuit',\n",
    "                   loader_params=loader_params)\n",
    "    subgraphs.append(sub_graph)\n",
    "    for i in range(CIRCUIT_DUPLICATES_AMOUNT):\n",
    "        subgraphs_for_classification.append(sub_graph)\n",
    "        labels.append(0)\n",
    "for i in range(CIRCUIT_DUPLICATES_AMOUNT):\n",
    "    labels[REFERENCE_GRAPH_ORIGINAL_INDEX * CIRCUIT_DUPLICATES_AMOUNT + i] = REFERENCE_GRAPH_ORIGINAL_LABEL\n",
    "\n",
    "zipped_graphs_and_labels = list(zip(subgraphs_for_classification, labels))\n",
    "random.shuffle(zipped_graphs_and_labels)\n",
    "unzipped_graphs_and_labels = list(zip(*zipped_graphs_and_labels))\n",
    "subgraphs_for_classification = unzipped_graphs_and_labels[0]\n",
    "labels = unzipped_graphs_and_labels[1]\n",
    "\n",
    "N = len(subgraphs_for_classification)\n",
    "N_training = int(2 / 3 * N)"
   ]
  },
  {
   "cell_type": "markdown",
   "metadata": {
    "jupyter": {
     "outputs_hidden": false
    }
   },
   "source": [
    "Transform graphs into S2VGraph-s"
   ]
  },
  {
   "cell_type": "code",
   "execution_count": 10,
   "metadata": {
    "jupyter": {
     "outputs_hidden": false
    },
    "pycharm": {
     "name": "#%%\n"
    }
   },
   "outputs": [],
   "source": [
    "device = 'cpu' if torch.cuda.is_available() else 'cpu'"
   ]
  },
  {
   "cell_type": "code",
   "execution_count": 11,
   "metadata": {
    "jupyter": {
     "outputs_hidden": false
    },
    "pycharm": {
     "name": "#%%\n"
    }
   },
   "outputs": [
    {
     "name": "stdout",
     "output_type": "stream",
     "text": [
      "# classes: 2\n",
      "# maximum node tag: 48\n",
      "# data: 50\n"
     ]
    }
   ],
   "source": [
    "graphs, num_classes = transform_into_s2vgraphs(subgraphs_for_classification, labels)"
   ]
  },
  {
   "cell_type": "markdown",
   "metadata": {
    "jupyter": {
     "outputs_hidden": false
    }
   },
   "source": [
    "Setup model and training"
   ]
  },
  {
   "cell_type": "code",
   "execution_count": 12,
   "metadata": {
    "jupyter": {
     "outputs_hidden": false
    },
    "pycharm": {
     "name": "#%%\n"
    }
   },
   "outputs": [],
   "source": [
    "#set up seeds and gpu device\n",
    "torch.manual_seed(0)\n",
    "np.random.seed(0)\n",
    "if torch.cuda.is_available():\n",
    "    torch.cuda.manual_seed_all(0)\n",
    "\n",
    "##k-fold cross validation. Conduct an experiment on the fold specified by args.fold_idx.\n",
    "# train_graphs, test_graphs = separate_data(graphs, seed=0, fold_idx=0, n_splits=1)\n",
    "# train_graphs = graphs[:4]\n",
    "# test_graphs = graphs[4:]\n",
    "train_graphs = graphs[:N_training]\n",
    "test_graphs = graphs[N_training:]\n",
    "\n",
    "model = GraphCNN(num_layers=5, num_mlp_layers = 2, input_dim=train_graphs[0].node_features.shape[1], hidden_dim=64, output_dim=num_classes, final_dropout=0.5, learn_eps=False, graph_pooling_type=\"sum\", neighbor_pooling_type=\"sum\", device=device)\n",
    "\n",
    "optimizer = optim.Adam(model.parameters(), lr=0.01)\n",
    "scheduler = optim.lr_scheduler.StepLR(optimizer, step_size=50, gamma=0.5)"
   ]
  },
  {
   "cell_type": "markdown",
   "metadata": {
    "jupyter": {
     "outputs_hidden": false
    }
   },
   "source": [
    "Train and Test"
   ]
  },
  {
   "cell_type": "code",
   "execution_count": 13,
   "metadata": {
    "jupyter": {
     "outputs_hidden": false
    },
    "pycharm": {
     "name": "#%%\n"
    }
   },
   "outputs": [
    {
     "data": {
      "image/png": "[encoded data removed]",
      "text/plain": [
       "<Figure size 864x576 with 2 Axes>"
      ]
     },
     "metadata": {
      "needs_background": "light"
     },
     "output_type": "display_data"
    },
    {
     "name": "stdout",
     "output_type": "stream",
     "text": [
      "train error\n",
      "\ttrain error      \t (min:    0.001, max:    2.153, cur:    0.004)\n"
     ]
    }
   ],
   "source": [
    "liveloss = PlotLosses(mode='notebook')\n",
    "\n",
    "filename = \"\"\n",
    "epochs = 20\n",
    "k_update_plot = 1\n",
    "\n",
    "for epoch in range(1, epochs + 1):\n",
    "    scheduler.step()\n",
    "\n",
    "    avg_loss = train(iters_per_epoch=50, batch_size=len(train_graphs), model=model, device=device, train_graphs=train_graphs, optimizer=optimizer, epoch=epoch)\n",
    "    acc_train, acc_test = test(model, device, train_graphs, test_graphs, epoch)\n",
    "\n",
    "    if not filename == \"\":\n",
    "        with open(filename, 'w') as f:\n",
    "            f.write(\"%f %f %f\" % (avg_loss, acc_train, acc_test))\n",
    "            f.write(\"\\n\")\n",
    "    print(\"\")\n",
    "\n",
    "    print(model.eps)\n",
    "\n",
    "    if epoch % k_update_plot == 0:\n",
    "        liveloss.update({'train error': avg_loss.item()})\n",
    "        liveloss.send()"
   ]
  },
  {
   "cell_type": "code",
   "execution_count": 14,
   "metadata": {
    "pycharm": {
     "name": "#%%\n"
    }
   },
   "outputs": [
    {
     "data": {
      "text/plain": [
       "1.0"
      ]
     },
     "execution_count": 14,
     "metadata": {},
     "output_type": "execute_result"
    }
   ],
   "source": [
    "acc_train"
   ]
  },
  {
   "cell_type": "code",
   "execution_count": 15,
   "metadata": {
    "pycharm": {
     "name": "#%%\n"
    }
   },
   "outputs": [
    {
     "data": {
      "text/plain": [
       "1.0"
      ]
     },
     "execution_count": 15,
     "metadata": {},
     "output_type": "execute_result"
    }
   ],
   "source": [
    "acc_test"
   ]
  },
  {
   "cell_type": "markdown",
   "metadata": {
    "jupyter": {
     "outputs_hidden": false
    }
   },
   "source": [
    "Show predictions"
   ]
  },
  {
   "cell_type": "code",
   "execution_count": 16,
   "metadata": {
    "jupyter": {
     "outputs_hidden": false
    },
    "pycharm": {
     "name": "#%%\n"
    }
   },
   "outputs": [
    {
     "name": "stdout",
     "output_type": "stream",
     "text": [
      "tensor([[0],\n",
      "        [1],\n",
      "        [0],\n",
      "        [0],\n",
      "        [0],\n",
      "        [0],\n",
      "        [0],\n",
      "        [0],\n",
      "        [0],\n",
      "        [0],\n",
      "        [0],\n",
      "        [0],\n",
      "        [0],\n",
      "        [0],\n",
      "        [0],\n",
      "        [0],\n",
      "        [0],\n",
      "        [0],\n",
      "        [0],\n",
      "        [0],\n",
      "        [0],\n",
      "        [0],\n",
      "        [1],\n",
      "        [0],\n",
      "        [0],\n",
      "        [1],\n",
      "        [0],\n",
      "        [0],\n",
      "        [0],\n",
      "        [0],\n",
      "        [0],\n",
      "        [0],\n",
      "        [0]])\n"
     ]
    }
   ],
   "source": [
    "model.eval()\n",
    "pred = model(train_graphs).max(1, keepdim=True)[1]\n",
    "print(pred)"
   ]
  },
  {
   "cell_type": "code",
   "execution_count": 17,
   "metadata": {
    "jupyter": {
     "outputs_hidden": false
    },
    "pycharm": {
     "name": "#%%\n"
    }
   },
   "outputs": [
    {
     "name": "stdout",
     "output_type": "stream",
     "text": [
      "tensor([[0],\n",
      "        [1],\n",
      "        [0],\n",
      "        [0],\n",
      "        [0],\n",
      "        [0],\n",
      "        [0],\n",
      "        [0],\n",
      "        [0],\n",
      "        [0],\n",
      "        [0],\n",
      "        [0],\n",
      "        [0],\n",
      "        [1],\n",
      "        [0],\n",
      "        [0],\n",
      "        [0]])\n"
     ]
    }
   ],
   "source": [
    "pred = model(test_graphs).max(1, keepdim=True)[1]\n",
    "print(pred)"
   ]
  },
  {
   "cell_type": "markdown",
   "metadata": {
    "jupyter": {
     "outputs_hidden": false
    }
   },
   "source": [
    "show all distances matrix (margin)"
   ]
  },
  {
   "cell_type": "code",
   "execution_count": 18,
   "metadata": {
    "jupyter": {
     "outputs_hidden": false
    },
    "pycharm": {
     "name": "#%%\n"
    }
   },
   "outputs": [
    {
     "name": "stdout",
     "output_type": "stream",
     "text": [
      "# classes: 2\n",
      "# maximum node tag: 48\n",
      "# data: 10\n"
     ]
    }
   ],
   "source": [
    "# keep only one instance of each graph\n",
    "graphs, num_classes = transform_into_s2vgraphs(subgraphs, labels)\n",
    "\n",
    "all_embeddings = model.get_embedding(graphs)"
   ]
  },
  {
   "cell_type": "code",
   "execution_count": 19,
   "metadata": {
    "jupyter": {
     "outputs_hidden": false
    },
    "pycharm": {
     "name": "#%%\n"
    }
   },
   "outputs": [
    {
     "data": {
      "image/png": "[encoded data removed]",
      "text/plain": [
       "<Figure size 432x288 with 2 Axes>"
      ]
     },
     "metadata": {
      "needs_background": "light"
     },
     "output_type": "display_data"
    },
    {
     "data": {
      "image/png": "[encoded data removed]",
      "text/plain": [
       "<Figure size 432x288 with 2 Axes>"
      ]
     },
     "metadata": {
      "needs_background": "light"
     },
     "output_type": "display_data"
    }
   ],
   "source": [
    "l2_dists = pairwise_l2_distance(all_embeddings)[REFERENCE_GRAPH_ORIGINAL_INDEX].reshape(-1, 1)\n",
    "\n",
    "rounding_constant = 10 ** 3\n",
    "cos_dists = (torch.round(calculate_energy_based_hidden_rep(all_embeddings, threshold=-1) * rounding_constant) / rounding_constant)[REFERENCE_GRAPH_ORIGINAL_INDEX].reshape(-1, 1)\n",
    "\n",
    "show_distance_matrix(l2_dists, \"l2-distances\")\n",
    "show_distance_matrix(cos_dists, \"cosine-distances\")"
   ]
  },
  {
   "cell_type": "markdown",
   "metadata": {
    "jupyter": {
     "outputs_hidden": false
    }
   },
   "source": [
    "what is the smallest margin?"
   ]
  },
  {
   "cell_type": "code",
   "execution_count": 20,
   "metadata": {
    "jupyter": {
     "outputs_hidden": false
    },
    "pycharm": {
     "name": "#%%\n"
    }
   },
   "outputs": [
    {
     "name": "stdout",
     "output_type": "stream",
     "text": [
      "17.636625289916992\n",
      "0.003000000026077032\n"
     ]
    }
   ],
   "source": [
    "print(get_min_non_diagonal_entry(l2_dists, REFERENCE_GRAPH_ORIGINAL_INDEX))\n",
    "print(get_min_non_diagonal_entry(cos_dists, REFERENCE_GRAPH_ORIGINAL_INDEX))"
   ]
  },
  {
   "cell_type": "markdown",
   "metadata": {
    "jupyter": {
     "outputs_hidden": false
    }
   },
   "source": [
    "Contrastive loss training"
   ]
  },
  {
   "cell_type": "markdown",
   "metadata": {
    "jupyter": {
     "outputs_hidden": false
    }
   },
   "source": [
    "Assemble graph pairs data"
   ]
  },
  {
   "cell_type": "code",
   "execution_count": 21,
   "metadata": {
    "pycharm": {
     "name": "#%%\n"
    }
   },
   "outputs": [],
   "source": [
    "train_samples_list = []\n",
    "reference_subgraph = subgraphs[REFERENCE_GRAPH_ORIGINAL_INDEX]\n",
    "negative_examples_subgraphs = subgraphs[:REFERENCE_GRAPH_ORIGINAL_INDEX] + subgraphs[REFERENCE_GRAPH_ORIGINAL_INDEX+1:]\n",
    "\n",
    "for subgraph in subgraphs:\n",
    "    if subgraph == reference_subgraph:\n",
    "        is_negative_example = False\n",
    "    else:\n",
    "        is_negative_example = True\n",
    "\n",
    "    G1_annotated = AnnotatedGraph(subgraph.G)\n",
    "    G2_annotated = AnnotatedGraph(reference_subgraph.G)\n",
    "    train_samples_list.append(Pair_Sample_Info(\n",
    "        subgraph=G1_annotated,\n",
    "        masked_graph=G2_annotated,\n",
    "        is_negative_sample=torch.tensor(is_negative_example)))\n",
    "\n",
    "val_samples_list = train_samples_list"
   ]
  },
  {
   "cell_type": "markdown",
   "metadata": {
    "jupyter": {
     "outputs_hidden": false
    }
   },
   "source": [
    "Define GNN model"
   ]
  },
  {
   "cell_type": "code",
   "execution_count": 22,
   "metadata": {
    "jupyter": {
     "outputs_hidden": false
    },
    "pycharm": {
     "name": "#%%\n"
    }
   },
   "outputs": [],
   "source": [
    "# input dim matches the node mask (w) shape\n",
    "input_dim = S2VGraphEmbeddingSimilarityMetricTrainer.get_model_expected_input_dim(train_samples_list[0])\n",
    "model_factory_func = lambda device: GraphCNN(num_layers=5, num_mlp_layers = 2, input_dim=input_dim, hidden_dim=64, output_dim=num_classes, final_dropout=0.5, learn_eps=False, graph_pooling_type=\"sum\", neighbor_pooling_type=\"sum\", device=device)"
   ]
  },
  {
   "cell_type": "markdown",
   "metadata": {
    "jupyter": {
     "outputs_hidden": false
    }
   },
   "source": [
    "Define graph metric to train, and the trainer"
   ]
  },
  {
   "cell_type": "code",
   "execution_count": 23,
   "metadata": {
    "jupyter": {
     "outputs_hidden": false
    },
    "pycharm": {
     "name": "#%%\n"
    }
   },
   "outputs": [],
   "source": [
    "solver_params = {\n",
    "    \"device\": device,\n",
    "    \"lr\": 1e-3, \"weight_decay\": 1e-3,\n",
    "    \"max_epochs\": 50,\n",
    "    \"cycle_patience\": 5, \"step_size_up\": 10, \"step_size_down\": 10,\n",
    "    \"loss_convergence_threshold\": None,\n",
    "    \"train_loss_convergence_threshold\": 1e-3,\n",
    "    \"successive_convergence_min_iterations_amount\": 5,\n",
    "    \"margin_loss_margin_value\": 5,\n",
    "    \"max_grad_norm\": 0.1,\n",
    "    \"k_update_plot\": 1,\n",
    "    \"train_monitoring_epochs_pace\": 5,\n",
    "    \"batch_size\": len(subgraphs),\n",
    "    \"num_workers\": 0,\n",
    "    \"is_use_model_compliation\": False, #Only supported for Pytorch > 2.0\n",
    "    \"model_checkpoint_epochs_pace\": 10,\n",
    "}\n",
    "\n",
    "problem_params = {\"input_dim\": input_dim}\n",
    "\n",
    "dump_base_path = f\".{os.sep}runlogs\"\n",
    "\n",
    "def create_graph_metric_net(model_factory_func, device):\n",
    "    model = model_factory_func(device=device)\n",
    "\n",
    "    loss_fun = torch.nn.MSELoss()\n",
    "    embedding_metric_network = EmbeddingMetricNetwork(loss_fun=loss_fun)\n",
    "\n",
    "    gnn_embedding_nn = GNNEmbeddingNetwork(gnn_model=model)\n",
    "\n",
    "    # embedding_nns = \\\n",
    "    #     [\n",
    "    #         GNNEmbeddingNetwork(gnn_model=model),\n",
    "    #     ]\n",
    "\n",
    "    graph_metric_nn = S2VGraphEmbeddingGraphMetricNetwork(embedding_network=gnn_embedding_nn,\n",
    "                                           embdding_metric_network=embedding_metric_network,\n",
    "                                           device=device)\n",
    "\n",
    "    # graph_metric_nn = SingleEmbeddingGraphMetricNetwork(embedding_network=embedding_nns[0],\n",
    "    #                                        embdding_metric_network=embedding_metric_network,\n",
    "    #                                        device=device)\n",
    "\n",
    "    # graph_metric_nn = MLPGraphMetricNetwork(embedding_networks=embedding_nns,\n",
    "    #                                         embdding_metric_network=embedding_metric_network,\n",
    "    #                                         device=device)\n",
    "\n",
    "    return graph_metric_nn, model\n",
    "\n",
    "def init_embedding_net_and_trainer(model_factory_func, graph_metric_nn_checkpoint_path=None):\n",
    "\n",
    "    # must start on CPU to allow moving model to GPU, due to existing pytorch bug\n",
    "    device = 'cpu'\n",
    "    graph_metric_nn, model = create_graph_metric_net(model_factory_func, device)\n",
    "\n",
    "    if graph_metric_nn_checkpoint_path is not None:\n",
    "        graph_metric_nn.load_state_dict(torch.load(graph_metric_nn_checkpoint_path, map_location=device))\n",
    "        model = graph_metric_nn.embedding_networks[0].gnn_model\n",
    "\n",
    "    if solver_params['is_use_model_compliation']:\n",
    "        graph_metric_nn = torch.compile(graph_metric_nn)\n",
    "        model = graph_metric_nn.embedding_networks[0].gnn_model\n",
    "\n",
    "    trainer = S2VGraphEmbeddingSimilarityMetricTrainer(graph_metric_nn, dump_base_path,\n",
    "                                      problem_params, solver_params)\n",
    "\n",
    "    return trainer, graph_metric_nn, model\n",
    "\n",
    "trainer, graph_metric_nn, model = init_embedding_net_and_trainer(model_factory_func)"
   ]
  },
  {
   "cell_type": "markdown",
   "metadata": {
    "jupyter": {
     "outputs_hidden": false
    }
   },
   "source": [
    "Train"
   ]
  },
  {
   "cell_type": "code",
   "execution_count": 24,
   "metadata": {
    "jupyter": {
     "outputs_hidden": false
    },
    "pycharm": {
     "name": "#%%\n"
    }
   },
   "outputs": [
    {
     "name": "stdout",
     "output_type": "stream",
     "text": [
      "# classes: 1\n",
      "# maximum node tag: 48\n",
      "# data: 10\n"
     ]
    },
    {
     "data": {
      "image/png": "[encoded data removed]",
      "text/plain": [
       "<Figure size 432x288 with 2 Axes>"
      ]
     },
     "metadata": {
      "needs_background": "light"
     },
     "output_type": "display_data"
    },
    {
     "data": {
      "image/png": "[encoded data removed]",
      "text/plain": [
       "<Figure size 432x288 with 2 Axes>"
      ]
     },
     "metadata": {
      "needs_background": "light"
     },
     "output_type": "display_data"
    },
    {
     "name": "stdout",
     "output_type": "stream",
     "text": [
      "Off matrix diagonal margin: 73.08867645263672\n",
      "Off matrix diagonal margin: 0.0\n"
     ]
    }
   ],
   "source": [
    "show_distances_heatmap(generate_s2v_graphs([graph.g for graph in graphs]), model)"
   ]
  },
  {
   "cell_type": "code",
   "execution_count": 25,
   "metadata": {
    "jupyter": {
     "outputs_hidden": false
    },
    "pycharm": {
     "name": "#%%\n"
    }
   },
   "outputs": [
    {
     "data": {
      "image/png": "[encoded data removed]",
      "text/plain": [
       "<Figure size 864x576 with 2 Axes>"
      ]
     },
     "metadata": {
      "needs_background": "light"
     },
     "output_type": "display_data"
    },
    {
     "name": "stdout",
     "output_type": "stream",
     "text": [
      "epoch train loss\n",
      "\tepoch train loss \t (min:    0.000, max:   15.350, cur:    0.000)\n",
      "finished monitoring training\n"
     ]
    },
    {
     "data": {
      "text/plain": [
       "9.999999717180685e-10"
      ]
     },
     "execution_count": 25,
     "metadata": {},
     "output_type": "execute_result"
    }
   ],
   "source": [
    "trainer.train(processes_device_ids=['cpu'], use_existing_data_loaders=False, train_samples_list=train_samples_list, val_samples_list=val_samples_list)"
   ]
  },
  {
   "cell_type": "code",
   "execution_count": 26,
   "metadata": {
    "pycharm": {
     "name": "#%%\n"
    }
   },
   "outputs": [
    {
     "name": "stdout",
     "output_type": "stream",
     "text": [
      "# classes: 1\n",
      "# maximum node tag: 48\n",
      "# data: 10\n"
     ]
    },
    {
     "data": {
      "image/png": "[encoded data removed]",
      "text/plain": [
       "<Figure size 432x288 with 2 Axes>"
      ]
     },
     "metadata": {
      "needs_background": "light"
     },
     "output_type": "display_data"
    },
    {
     "data": {
      "image/png": "[encoded data removed]",
      "text/plain": [
       "<Figure size 432x288 with 2 Axes>"
      ]
     },
     "metadata": {
      "needs_background": "light"
     },
     "output_type": "display_data"
    },
    {
     "name": "stdout",
     "output_type": "stream",
     "text": [
      "Off matrix diagonal margin: 476.2375183105469\n",
      "Off matrix diagonal margin: 0.019999999552965164\n"
     ]
    }
   ],
   "source": [
    "show_distances_heatmap(generate_s2v_graphs([graph.g for graph in graphs]), model)"
   ]
  },
  {
   "cell_type": "markdown",
   "metadata": {
    "jupyter": {
     "outputs_hidden": false
    }
   },
   "source": [
    "Add ged=1 examples as positive examples"
   ]
  },
  {
   "cell_type": "code",
   "execution_count": 27,
   "metadata": {
    "jupyter": {
     "outputs_hidden": false
    },
    "pycharm": {
     "name": "#%%\n"
    }
   },
   "outputs": [],
   "source": [
    "# generate subgraphs for which ged(subgraph, reference_subgraph)==1\n",
    "perturbed_graphs = list(generate_perturbed_graphs(reference_subgraph.G_sub))\n",
    "for perturbed_graph in perturbed_graphs:\n",
    "    is_negative_example = False\n",
    "\n",
    "    G1_annotated = AnnotatedGraph(perturbed_graph)\n",
    "    G2_annotated = AnnotatedGraph(reference_subgraph.G)\n",
    "    train_samples_list.append(Pair_Sample_Info(\n",
    "        subgraph=G1_annotated,\n",
    "        masked_graph=G2_annotated,\n",
    "        is_negative_sample=torch.tensor(is_negative_example)))"
   ]
  },
  {
   "cell_type": "code",
   "execution_count": 28,
   "metadata": {
    "jupyter": {
     "outputs_hidden": false
    },
    "pycharm": {
     "name": "#%%\n"
    }
   },
   "outputs": [
    {
     "data": {
      "text/plain": [
       "101"
      ]
     },
     "execution_count": 28,
     "metadata": {},
     "output_type": "execute_result"
    }
   ],
   "source": [
    "len(train_samples_list)"
   ]
  },
  {
   "cell_type": "code",
   "execution_count": 29,
   "metadata": {
    "jupyter": {
     "outputs_hidden": false
    },
    "pycharm": {
     "name": "#%%\n"
    }
   },
   "outputs": [
    {
     "data": {
      "image/png": "[encoded data removed]",
      "text/plain": [
       "<Figure size 864x576 with 2 Axes>"
      ]
     },
     "metadata": {
      "needs_background": "light"
     },
     "output_type": "display_data"
    },
    {
     "name": "stdout",
     "output_type": "stream",
     "text": [
      "epoch train loss\n",
      "\tepoch train loss \t (min:    0.050, max:   20.065, cur:    0.050)\n",
      "Monitoring process is exiting, epochs=50\n",
      "finished monitoring training\n"
     ]
    },
    {
     "data": {
      "text/plain": [
       "0.0472794733941555"
      ]
     },
     "execution_count": 29,
     "metadata": {},
     "output_type": "execute_result"
    }
   ],
   "source": [
    "val_samples_list = train_samples_list\n",
    "model_factory_func = lambda device: GraphCNN(num_layers=5, num_mlp_layers = 2, input_dim=input_dim, hidden_dim=64, output_dim=num_classes, final_dropout=0.5, learn_eps=False, graph_pooling_type=\"sum\", neighbor_pooling_type=\"sum\", device=device)\n",
    "solver_params[\"batch_size\"] = len(train_samples_list)\n",
    "\n",
    "trainer, graph_metric_nn, model = init_embedding_net_and_trainer(model_factory_func)\n",
    "\n",
    "trainer.train(processes_device_ids=['cpu'], use_existing_data_loaders=False, train_samples_list=train_samples_list, val_samples_list=val_samples_list)"
   ]
  },
  {
   "cell_type": "code",
   "execution_count": 30,
   "metadata": {
    "jupyter": {
     "outputs_hidden": false
    },
    "pycharm": {
     "name": "#%%\n"
    }
   },
   "outputs": [
    {
     "name": "stdout",
     "output_type": "stream",
     "text": [
      "# classes: 1\n",
      "# maximum node tag: 49\n",
      "# data: 101\n"
     ]
    }
   ],
   "source": [
    "all_s2v_graphs = generate_s2v_graphs([subgraph.G for subgraph in subgraphs] + perturbed_graphs)\n",
    "# show_distances_heatmap(all_s2v_graphs, model)"
   ]
  },
  {
   "cell_type": "code",
   "execution_count": 31,
   "metadata": {
    "jupyter": {
     "outputs_hidden": false
    },
    "pycharm": {
     "name": "#%%\n"
    }
   },
   "outputs": [
    {
     "data": {
      "image/png": "[encoded data removed]",
      "text/plain": [
       "<Figure size 432x288 with 2 Axes>"
      ]
     },
     "metadata": {
      "needs_background": "light"
     },
     "output_type": "display_data"
    },
    {
     "data": {
      "image/png": "[encoded data removed]",
      "text/plain": [
       "<Figure size 432x288 with 2 Axes>"
      ]
     },
     "metadata": {
      "needs_background": "light"
     },
     "output_type": "display_data"
    },
    {
     "name": "stdout",
     "output_type": "stream",
     "text": [
      "Off matrix diagonal margin: 38.4167366027832\n",
      "Off matrix diagonal margin: 0.024000000208616257\n"
     ]
    }
   ],
   "source": [
    "show_distances_heatmap(all_s2v_graphs[:len(subgraphs)], model)"
   ]
  },
  {
   "cell_type": "code",
   "execution_count": 32,
   "metadata": {
    "jupyter": {
     "outputs_hidden": false
    },
    "pycharm": {
     "name": "#%%\n"
    }
   },
   "outputs": [],
   "source": [
    "reference_s2v_graph = all_s2v_graphs[REFERENCE_GRAPH_ORIGINAL_INDEX]\n",
    "reference_graph_with_positive_examples = [reference_s2v_graph] + all_s2v_graphs[len(subgraphs):]\n",
    "reference_graph_with_negative_examples = [all_s2v_graphs[i] for i in range(len(all_s2v_graphs[:len(subgraphs)]))]"
   ]
  },
  {
   "cell_type": "code",
   "execution_count": 33,
   "metadata": {
    "pycharm": {
     "name": "#%%\n"
    }
   },
   "outputs": [
    {
     "data": {
      "image/png": "[encoded data removed]",
      "text/plain": [
       "<Figure size 432x288 with 2 Axes>"
      ]
     },
     "metadata": {
      "needs_background": "light"
     },
     "output_type": "display_data"
    },
    {
     "data": {
      "image/png": "[encoded data removed]",
      "text/plain": [
       "<Figure size 432x288 with 2 Axes>"
      ]
     },
     "metadata": {
      "needs_background": "light"
     },
     "output_type": "display_data"
    },
    {
     "name": "stdout",
     "output_type": "stream",
     "text": [
      "Off matrix diagonal margin: 0.3923964202404022\n",
      "Off matrix diagonal margin: 0.0010000000474974513\n"
     ]
    }
   ],
   "source": [
    "show_distances_heatmap(reference_graph_with_positive_examples, model, show_min_off_diagonal=False)"
   ]
  },
  {
   "cell_type": "code",
   "execution_count": 34,
   "metadata": {
    "pycharm": {
     "name": "#%%\n"
    }
   },
   "outputs": [
    {
     "data": {
      "image/png": "[encoded data removed]",
      "text/plain": [
       "<Figure size 432x288 with 2 Axes>"
      ]
     },
     "metadata": {
      "needs_background": "light"
     },
     "output_type": "display_data"
    },
    {
     "data": {
      "image/png": "[encoded data removed]",
      "text/plain": [
       "<Figure size 432x288 with 2 Axes>"
      ]
     },
     "metadata": {
      "needs_background": "light"
     },
     "output_type": "display_data"
    },
    {
     "name": "stdout",
     "output_type": "stream",
     "text": [
      "Off matrix diagonal margin: 38.4167366027832\n",
      "Off matrix diagonal margin: 0.024000000208616257\n"
     ]
    }
   ],
   "source": [
    "show_distances_heatmap(reference_graph_with_negative_examples, model, show_min_off_diagonal=True)"
   ]
  },
  {
   "cell_type": "code",
   "execution_count": 35,
   "metadata": {
    "jupyter": {
     "outputs_hidden": false
    },
    "pycharm": {
     "name": "#%%\n"
    }
   },
   "outputs": [],
   "source": [
    "_ = graph_metric_nn.eval()"
   ]
  },
  {
   "cell_type": "code",
   "execution_count": 36,
   "metadata": {
    "jupyter": {
     "outputs_hidden": false
    },
    "pycharm": {
     "name": "#%%\n"
    }
   },
   "outputs": [
    {
     "name": "stdout",
     "output_type": "stream",
     "text": [
      "negative loss term not zero, as distance for this negative example pair is 4.612793445587158\n"
     ]
    }
   ],
   "source": [
    "positive_distances = []\n",
    "for positive_example_second_graph in reference_graph_with_positive_examples:\n",
    "    distance = graph_metric_nn.forward([(reference_s2v_graph, positive_example_second_graph)]).item()\n",
    "    positive_distances.append(distance)\n",
    "    if distance > solver_params['margin_loss_margin_value']:\n",
    "        print(f\"positive loss term not zero, as distance for this positive example pair is {distance}\")\n",
    "\n",
    "negative_distances = []\n",
    "for negative_example_second_graph in reference_graph_with_negative_examples:\n",
    "    if negative_example_second_graph == reference_s2v_graph:\n",
    "        continue #ignore the same graph with itself\n",
    "    distance = graph_metric_nn.forward([(reference_s2v_graph, negative_example_second_graph)]).item()\n",
    "    negative_distances.append(distance)\n",
    "    if distance < solver_params['margin_loss_margin_value']:\n",
    "        print(f\"negative loss term not zero, as distance for this negative example pair is {distance}\")"
   ]
  },
  {
   "cell_type": "code",
   "execution_count": 37,
   "metadata": {
    "jupyter": {
     "outputs_hidden": false
    },
    "pycharm": {
     "name": "#%%\n"
    }
   },
   "outputs": [
    {
     "data": {
      "text/plain": [
       "0.002778413938358426"
      ]
     },
     "execution_count": 37,
     "metadata": {},
     "output_type": "execute_result"
    }
   ],
   "source": [
    "max(positive_distances)"
   ]
  },
  {
   "cell_type": "code",
   "execution_count": 38,
   "metadata": {
    "jupyter": {
     "outputs_hidden": false
    },
    "pycharm": {
     "name": "#%%\n"
    }
   },
   "outputs": [
    {
     "data": {
      "text/plain": [
       "4.612793445587158"
      ]
     },
     "execution_count": 38,
     "metadata": {},
     "output_type": "execute_result"
    }
   ],
   "source": [
    "min(negative_distances)"
   ]
  },
  {
   "cell_type": "markdown",
   "metadata": {
    "jupyter": {
     "outputs_hidden": false
    }
   },
   "source": [
    "k-subgraphs experiment"
   ]
  },
  {
   "cell_type": "code",
   "execution_count": 39,
   "metadata": {
    "jupyter": {
     "outputs_hidden": false
    },
    "pycharm": {
     "name": "#%%\n"
    }
   },
   "outputs": [],
   "source": [
    "K = 11\n",
    "full_graph = reference_subgraph.G\n",
    "\n",
    "subgraphs_iterator = itertools.combinations(full_graph, K)\n",
    "k_subgraphs = [full_graph.subgraph(s) for s in subgraphs_iterator]\n",
    "k_subgraph_annotated_graphs = [AnnotatedGraph(g) for g in k_subgraphs]\n",
    "\n",
    "train_samples_list = []\n",
    "isomorphic_pairs = []\n",
    "train_sample_indices_tuple_list = []"
   ]
  },
  {
   "cell_type": "code",
   "execution_count": 40,
   "metadata": {
    "jupyter": {
     "outputs_hidden": false
    },
    "pycharm": {
     "name": "#%%\n"
    }
   },
   "outputs": [],
   "source": [
    "for subgraph_counter1, SG_annotated_1 in enumerate(k_subgraph_annotated_graphs):\n",
    "    for subgraph_counter2 in range(subgraph_counter1+1, len(k_subgraph_annotated_graphs)):\n",
    "        SG_annotated_2 = k_subgraph_annotated_graphs[subgraph_counter2]\n",
    "        train_samples_list.append(compare_graphs_and_generate_pair_example(SG_annotated_1, SG_annotated_2))\n",
    "        train_sample_indices_tuple_list.append((subgraph_counter1, subgraph_counter2))\n",
    "        # if train_samples_list[-1].is_negative_sample == False:\n",
    "        #     print(f\"{subgraph_counter1} vs {subgraph_counter2}\")"
   ]
  },
  {
   "cell_type": "code",
   "execution_count": 41,
   "metadata": {
    "pycharm": {
     "name": "#%%\n"
    }
   },
   "outputs": [],
   "source": [
    "used_train_samples_list = train_samples_list[:10_000]"
   ]
  },
  {
   "cell_type": "code",
   "execution_count": 42,
   "metadata": {
    "pycharm": {
     "name": "#%%\n"
    }
   },
   "outputs": [
    {
     "data": {
      "image/png": "[encoded data removed]",
      "text/plain": [
       "<Figure size 864x576 with 2 Axes>"
      ]
     },
     "metadata": {
      "needs_background": "light"
     },
     "output_type": "display_data"
    },
    {
     "name": "stdout",
     "output_type": "stream",
     "text": [
      "epoch train loss\n",
      "\tepoch train loss \t (min:    0.000, max:   31.204, cur:    0.000)\n",
      "training worker process #0 finished\n",
      "finished monitoring training\n"
     ]
    },
    {
     "data": {
      "text/plain": [
       "8.407375162722275e-08"
      ]
     },
     "execution_count": 42,
     "metadata": {},
     "output_type": "execute_result"
    }
   ],
   "source": [
    "model_factory_func = lambda device: GraphCNN(num_layers=5, num_mlp_layers = 2, input_dim=input_dim, hidden_dim=128, output_dim=num_classes, final_dropout=0.5, learn_eps=False, graph_pooling_type=\"sum\", neighbor_pooling_type=\"sum\", device=device)\n",
    "solver_params[\"batch_size\"] = 512\n",
    "solver_params[\"k_update_plot\"] = 1\n",
    "solver_params[\"lr\"] = 1e-1\n",
    "solver_params[\"max_epochs\"] = 50\n",
    "trainer, graph_metric_nn, model = init_embedding_net_and_trainer(model_factory_func, None)\n",
    "\n",
    "trainer.train(processes_device_ids=[0], use_existing_data_loaders=False, train_samples_list=used_train_samples_list, val_samples_list=[])"
   ]
  },
  {
   "cell_type": "code",
   "execution_count": 43,
   "metadata": {
    "pycharm": {
     "name": "#%%\n"
    }
   },
   "outputs": [],
   "source": [
    "trainer, graph_metric_nn, model = init_embedding_net_and_trainer(model_factory_func, \"./mp/1704585490.4369323/best_model_state_dict.pt\")\n",
    "_ = graph_metric_nn.eval()"
   ]
  },
  {
   "cell_type": "code",
   "execution_count": 44,
   "metadata": {
    "pycharm": {
     "name": "#%%\n"
    }
   },
   "outputs": [
    {
     "name": "stdout",
     "output_type": "stream",
     "text": [
      "0\n",
      "20\n"
     ]
    },
    {
     "data": {
      "image/png": "[encoded data removed]",
      "text/plain": [
       "<Figure size 432x288 with 1 Axes>"
      ]
     },
     "metadata": {
      "needs_background": "light"
     },
     "output_type": "display_data"
    },
    {
     "name": "stdout",
     "output_type": "stream",
     "text": [
      "0\n",
      "20\n"
     ]
    },
    {
     "data": {
      "image/png": "[encoded data removed]",
      "text/plain": [
       "<Figure size 432x288 with 1 Axes>"
      ]
     },
     "metadata": {
      "needs_background": "light"
     },
     "output_type": "display_data"
    },
    {
     "name": "stdout",
     "output_type": "stream",
     "text": [
      "1.1481497697030107e-10\n",
      "0.0\n"
     ]
    }
   ],
   "source": [
    "train_positive_distances, train_negative_distances = get_examples_distances(trainer, graph_metric_nn, used_train_samples_list)\n",
    "plot_histogram(train_positive_distances, \"positive pair distances\", min_range=0, max_range=20)\n",
    "plot_histogram(train_negative_distances, \"negative pair distances\", min_range=0, max_range=20)\n",
    "calc_margin_loss(torch.tensor(train_positive_distances+train_negative_distances), torch.cat((torch.ones(len(train_positive_distances)), torch.zeros(len(train_negative_distances)))), margin = solver_params['margin_loss_margin_value'])"
   ]
  },
  {
   "cell_type": "code",
   "execution_count": 45,
   "metadata": {
    "jupyter": {
     "outputs_hidden": false
    },
    "pycharm": {
     "name": "#%%\n"
    }
   },
   "outputs": [],
   "source": [
    "# ged_pairs_dump_base_path = f\".{os.sep}ged_pairs\n",
    "\n",
    "# loaded_ged_examples = []\n",
    "# for i, doc_path in enumerate(pathlib.Path(ged_pairs_dump_base_path).rglob(\"*.p*\")):\n",
    "#     k_subgraph_ged_pairs_list = pickle.load(open(doc_path, 'rb'))\n",
    "#     loaded_ged_examples += k_subgraph_ged_pairs_list\n",
    "#     print(i)\n",
    "\n",
    "# if not os.path.exists(ged_pairs_dump_base_path):\n",
    "#     os.makedirs(ged_pairs_dump_base_path)\n",
    "#\n",
    "# # k_subgraph_to_perturbed_graphs_map = {}\n",
    "# def generate_ged_paris(subgraph_counter1):\n",
    "#     train_samples_list = []\n",
    "#     SG1 = k_subgraph_annotated_graphs[subgraph_counter1]\n",
    "#     ged1_perturbed_graphs = list(generate_perturbed_graphs(SG1.g))\n",
    "#     for ged1_perturbed_graph in ged1_perturbed_graphs:\n",
    "#         # positive example\n",
    "#         train_samples_list.append(generate_pair_example(SG1, AnnotatedGraph(ged1_perturbed_graph), is_negative_example = False))\n",
    "#\n",
    "#         ged2_perturbed_graphs = list(generate_perturbed_graphs(ged1_perturbed_graph))\n",
    "#         for ged2_perturbed_graph in ged2_perturbed_graphs:\n",
    "#             # could be positive or negative example\n",
    "#             train_samples_list.append(compare_graphs_and_generate_pair_example(k_subgraph_annotated_graphs[subgraph_counter1], AnnotatedGraph(ged2_perturbed_graph)))\n",
    "#\n",
    "#     path = os.path.join(ged_pairs_dump_base_path, f\"subgraph_{subgraph_counter1}.p\")\n",
    "#     with open(path, 'wb') as f:\n",
    "#         pickle.dump(train_samples_list, f)\n",
    "#     return train_samples_list\n",
    "#\n",
    "# total_tasks = len(k_subgraphs)\n",
    "# with tqdm_joblib(tqdm(desc=\"My calculation\", total=total_tasks)) as progress_bar:\n",
    "#     #Parallel(n_jobs=16)(delayed(long_task)() for i in range(10))\n",
    "#\n",
    "#     ged_examples = Parallel(n_jobs=int(cpu_count()), prefer='processes')(\n",
    "#         delayed(generate_ged_paris)(subgraph_counter1=subgraph_counter1)\n",
    "#         for subgraph_counter1 in range(total_tasks)\n",
    "#     )\n",
    "#\n",
    "# # generate subgraphs for which GED==1\n",
    "# for subgraph_counter1, SG1 in enumerate(k_subgraphs):\n",
    "#     print(subgraph_counter1)\n",
    "#     ged1_perturbed_graphs = list(generate_perturbed_graphs(SG1))\n",
    "#     for ged1_perturbed_graph in ged1_perturbed_graphs:\n",
    "#         # positive example\n",
    "#         train_samples_list.append(generate_pair_example(SG1, ged1_perturbed_graph, is_negative_example = False))\n",
    "#         #\n",
    "#         # ged2_perturbed_graphs = list(generate_perturbed_graphs(ged1_perturbed_graph))\n",
    "#         # for ged2_perturbed_graph in ged2_perturbed_graphs:\n",
    "#         #     # could be positive or negative example\n",
    "#         #     train_samples_list.append(compare_graphs_and_generate_pair_example(k_subgraph_annotated_graphs[subgraph_counter1], AnnotatedGraph(ged2_perturbed_graph)))\n",
    "#     # k_subgraph_to_perturbed_graphs_map[SG1] = perturbed_graphs\n",
    "\n",
    "#\n",
    "#\n",
    "# # generate all pairs examples\n",
    "# for SG1, SG1_perturbed_graphs in k_subgraph_to_perturbed_graphs_map.items():\n",
    "#     for SG2, SG2_perturbed_graphs in k_subgraph_to_perturbed_graphs_map.items():\n",
    "#\n",
    "#         if SG1 == SG2:\n",
    "#             continue # trivial pairs, or pairs already considered\n",
    "#\n",
    "#         for SG2_perturbed_graph in SG2_perturbed_graphs:\n",
    "#             train_samples_list.append(compare_graphs_and_generate_pair_example(SG1, SG2_perturbed_graph))\n",
    "#\n",
    "#         for SG1_perturbed_graph in SG1_perturbed_graphs:\n",
    "#             train_samples_list.append(compare_graphs_and_generate_pair_example(SG1_perturbed_graph, SG2))"
   ]
  },
  {
   "cell_type": "code",
   "execution_count": 39,
   "metadata": {
    "jupyter": {
     "outputs_hidden": false
    },
    "pycharm": {
     "name": "#%%\n"
    }
   },
   "outputs": [
    {
     "name": "stderr",
     "output_type": "stream",
     "text": [
      "My calculation: 100%|████████████████████████████████████████████████████████████████████████████████████████| 20/20 [00:18<00:00,  1.09it/s]\n",
      "My calculation:   1%|▉                                                                                       | 4/364 [00:00<00:44,  8.11it/s]"
     ]
    },
    {
     "name": "stdout",
     "output_type": "stream",
     "text": [
      "finished generation\n",
      "finished generation\n",
      "finished generation\n",
      "finished generation\n",
      "finished generation\n",
      "finished generation\n",
      "finished generation\n",
      "finished generation\n",
      "finished generation\n",
      "finished generation\n",
      "finished generation\n",
      "finished generation\n",
      "finished generation\n",
      "finished generation\n",
      "finished generation\n",
      "finished generation\n",
      "finished generation\n",
      "finished generation\n"
     ]
    },
    {
     "name": "stderr",
     "output_type": "stream",
     "text": [
      "My calculation:   2%|█▍                                                                                      | 6/364 [00:00<00:35, 10.09it/s]"
     ]
    },
    {
     "name": "stdout",
     "output_type": "stream",
     "text": [
      "finished generation\n",
      "finished generation\n",
      "finished generation\n",
      "finished generation\n",
      "finished generation\n",
      "finished generation\n",
      "finished generation\n",
      "finished generation\n",
      "finished generation\n",
      "finished generation\n",
      "finished generation\n",
      "finished generation\n"
     ]
    },
    {
     "name": "stderr",
     "output_type": "stream",
     "text": [
      "My calculation:   5%|████                                                                                   | 17/364 [00:00<00:12, 27.67it/s]"
     ]
    },
    {
     "name": "stdout",
     "output_type": "stream",
     "text": [
      "finished generation\n",
      "finished generation\n",
      "finished generation\n",
      "finished generation\n",
      "finished generation\n",
      "finished generation\n",
      "finished generation\n",
      "finished generation\n",
      "finished generation\n",
      "finished generation\n"
     ]
    },
    {
     "name": "stderr",
     "output_type": "stream",
     "text": [
      "My calculation:   8%|██████▉                                                                                | 29/364 [00:01<00:08, 40.13it/s]"
     ]
    },
    {
     "name": "stdout",
     "output_type": "stream",
     "text": [
      "finished generation\n",
      "finished generation\n",
      "finished generation\n",
      "finished generation\n",
      "finished generation\n",
      "finished generation\n",
      "finished generation\n",
      "finished generation\n",
      "finished generation\n",
      "finished generation\n",
      "finished generation\n"
     ]
    },
    {
     "name": "stderr",
     "output_type": "stream",
     "text": [
      "My calculation:  11%|█████████▎                                                                             | 39/364 [00:01<00:08, 38.74it/s]"
     ]
    },
    {
     "name": "stdout",
     "output_type": "stream",
     "text": [
      "finished generation\n",
      "finished generation\n",
      "finished generation\n",
      "finished generation\n",
      "finished generation\n",
      "finished generation\n",
      "finished generation\n",
      "finished generation\n"
     ]
    },
    {
     "name": "stderr",
     "output_type": "stream",
     "text": [
      "My calculation:  12%|██████████▌                                                                            | 44/364 [00:01<00:08, 37.47it/s]"
     ]
    },
    {
     "name": "stdout",
     "output_type": "stream",
     "text": [
      "finished generation\n",
      "finished generation\n",
      "finished generation\n",
      "finished generation\n",
      "finished generation\n",
      "finished generation\n",
      "finished generation\n",
      "finished generation\n"
     ]
    },
    {
     "name": "stderr",
     "output_type": "stream",
     "text": [
      "My calculation:  14%|████████████▍                                                                          | 52/364 [00:01<00:08, 36.65it/s]"
     ]
    },
    {
     "name": "stdout",
     "output_type": "stream",
     "text": [
      "finished generation\n",
      "finished generation\n",
      "finished generation\n",
      "finished generation\n",
      "finished generation\n",
      "finished generation\n",
      "finished generation\n",
      "finished generation\n"
     ]
    },
    {
     "name": "stderr",
     "output_type": "stream",
     "text": [
      "My calculation:  16%|██████████████▎                                                                        | 60/364 [00:02<00:08, 37.03it/s]"
     ]
    },
    {
     "name": "stdout",
     "output_type": "stream",
     "text": [
      "finished generation\n",
      "finished generation\n",
      "finished generation\n",
      "finished generation\n",
      "finished generation\n",
      "finished generation\n",
      "finished generation\n",
      "finished generation\n",
      "finished generation\n"
     ]
    },
    {
     "name": "stderr",
     "output_type": "stream",
     "text": [
      "My calculation:  20%|█████████████████▏                                                                     | 72/364 [00:02<00:07, 36.88it/s]"
     ]
    },
    {
     "name": "stdout",
     "output_type": "stream",
     "text": [
      "finished generation\n",
      "finished generation\n",
      "finished generation\n",
      "finished generation\n",
      "finished generation\n",
      "finished generation\n",
      "finished generation\n",
      "finished generation\n"
     ]
    },
    {
     "name": "stderr",
     "output_type": "stream",
     "text": [
      "My calculation:  21%|██████████████████▏                                                                    | 76/364 [00:02<00:07, 37.17it/s]"
     ]
    },
    {
     "name": "stdout",
     "output_type": "stream",
     "text": [
      "finished generation\n",
      "finished generation\n",
      "finished generation\n",
      "finished generation\n",
      "finished generation\n"
     ]
    },
    {
     "name": "stderr",
     "output_type": "stream",
     "text": [
      "My calculation:  24%|█████████████████████                                                                  | 88/364 [00:05<00:36,  7.57it/s]"
     ]
    },
    {
     "name": "stdout",
     "output_type": "stream",
     "text": [
      "finished generation\n",
      "finished generation\n",
      "finished generation\n",
      "finished generation\n",
      "finished generation\n",
      "finished generation\n",
      "finished generation\n",
      "finished generation\n",
      "finished generation\n",
      "finished generation\n",
      "finished generation\n",
      "finished generation\n",
      "finished generation\n",
      "finished generation\n",
      "finished generation\n",
      "finished generation\n",
      "finished generation\n",
      "finished generation\n",
      "finished generation\n",
      "finished generation\n",
      "finished generation\n",
      "finished generation\n",
      "finished generation\n",
      "finished generation\n",
      "finished generation\n",
      "finished generation\n",
      "finished generation\n",
      "finished generation\n",
      "finished generation\n",
      "finished generation\n",
      "finished generation\n",
      "finished generation\n",
      "finished generation\n",
      "finished generation\n",
      "finished generation\n",
      "finished generation\n",
      "finished generation\n",
      "finished generation\n",
      "finished generation\n",
      "finished generation\n",
      "finished generation\n",
      "finished generation\n",
      "finished generation\n",
      "finished generation\n",
      "finished generation\n",
      "finished generation\n",
      "finished generation\n",
      "finished generation\n",
      "finished generation\n",
      "finished generation\n",
      "finished generation\n",
      "finished generation\n",
      "finished generation\n",
      "finished generation\n",
      "finished generation\n",
      "finished generation\n",
      "finished generation\n",
      "finished generation\n",
      "finished generation\n",
      "finished generation\n",
      "finished generation\n",
      "finished generation\n",
      "finished generation\n",
      "finished generation\n",
      "finished generation\n",
      "finished generation\n",
      "finished generation\n",
      "finished generation\n",
      "finished generation\n",
      "finished generation\n",
      "finished generation\n",
      "finished generation\n",
      "finished generation\n"
     ]
    },
    {
     "name": "stderr",
     "output_type": "stream",
     "text": [
      "My calculation:  30%|█████████████████████████▉                                                            | 110/364 [00:05<00:11, 21.34it/s]"
     ]
    },
    {
     "name": "stdout",
     "output_type": "stream",
     "text": [
      "finished generation\n",
      "finished generation\n",
      "finished generation\n",
      "finished generation\n",
      "finished generation\n",
      "finished generation\n",
      "finished generation\n",
      "finished generation\n"
     ]
    },
    {
     "name": "stderr",
     "output_type": "stream",
     "text": [
      "My calculation:  35%|██████████████████████████████▏                                                       | 128/364 [00:05<00:06, 34.04it/s]"
     ]
    },
    {
     "name": "stdout",
     "output_type": "stream",
     "text": [
      "finished generation\n",
      "finished generation\n",
      "finished generation\n",
      "finished generation\n",
      "finished generation\n",
      "finished generation\n",
      "finished generation\n",
      "finished generation\n",
      "finished generation\n",
      "finished generation\n",
      "finished generation\n",
      "finished generation\n",
      "finished generation\n",
      "finished generation\n",
      "finished generation\n",
      "finished generation\n",
      "finished generation\n",
      "finished generation\n",
      "finished generation\n",
      "finished generation\n",
      "finished generation\n",
      "finished generation\n"
     ]
    },
    {
     "name": "stderr",
     "output_type": "stream",
     "text": [
      "My calculation:  40%|██████████████████████████████████                                                    | 144/364 [00:06<00:04, 45.71it/s]"
     ]
    },
    {
     "name": "stdout",
     "output_type": "stream",
     "text": [
      "finished generation\n",
      "finished generation\n",
      "finished generation\n",
      "finished generation\n",
      "finished generation\n",
      "finished generation\n",
      "finished generation\n",
      "finished generation\n",
      "finished generation\n",
      "finished generation\n",
      "finished generation\n",
      "finished generation\n",
      "finished generation\n",
      "finished generation\n",
      "finished generation\n",
      "finished generation\n",
      "finished generation\n"
     ]
    },
    {
     "name": "stderr",
     "output_type": "stream",
     "text": [
      "My calculation:  44%|█████████████████████████████████████▊                                                | 160/364 [00:06<00:03, 56.73it/s]"
     ]
    },
    {
     "name": "stdout",
     "output_type": "stream",
     "text": [
      "finished generation\n",
      "finished generation\n",
      "finished generation\n",
      "finished generation\n",
      "finished generation\n",
      "finished generation\n",
      "finished generation\n",
      "finished generation\n",
      "finished generation\n",
      "finished generation\n",
      "finished generation\n",
      "finished generation\n",
      "finished generation\n",
      "finished generation\n",
      "finished generation\n",
      "finished generation\n"
     ]
    },
    {
     "name": "stderr",
     "output_type": "stream",
     "text": [
      "My calculation:  46%|███████████████████████████████████████▋                                              | 168/364 [00:06<00:03, 57.88it/s]"
     ]
    },
    {
     "name": "stdout",
     "output_type": "stream",
     "text": [
      "finished generation\n",
      "finished generation\n",
      "finished generation\n",
      "finished generation\n",
      "finished generation\n",
      "finished generation\n",
      "finished generation\n",
      "finished generation\n",
      "finished generation\n",
      "finished generation\n",
      "finished generation\n",
      "finished generation\n",
      "finished generation\n",
      "finished generation\n",
      "finished generation\n",
      "finished generation\n",
      "finished generation\n",
      "finished generation\n",
      "finished generation\n"
     ]
    },
    {
     "name": "stderr",
     "output_type": "stream",
     "text": [
      "My calculation:  50%|███████████████████████████████████████████▏                                          | 183/364 [00:06<00:02, 63.62it/s]"
     ]
    },
    {
     "name": "stdout",
     "output_type": "stream",
     "text": [
      "finished generation\n",
      "finished generation\n",
      "finished generation\n",
      "finished generation\n",
      "finished generation\n",
      "finished generation\n",
      "finished generation\n",
      "finished generation\n",
      "finished generation\n",
      "finished generation\n",
      "finished generation\n",
      "finished generation\n",
      "finished generation\n",
      "finished generation\n",
      "finished generation\n",
      "finished generation\n",
      "finished generation\n",
      "finished generation\n"
     ]
    },
    {
     "name": "stderr",
     "output_type": "stream",
     "text": [
      "My calculation:  55%|███████████████████████████████████████████████▍                                      | 201/364 [00:06<00:02, 74.27it/s]"
     ]
    },
    {
     "name": "stdout",
     "output_type": "stream",
     "text": [
      "finished generation\n",
      "finished generation\n",
      "finished generation\n",
      "finished generation\n",
      "finished generation\n",
      "finished generation\n",
      "finished generation\n",
      "finished generation\n",
      "finished generation\n",
      "finished generation\n",
      "finished generation\n",
      "finished generation\n",
      "finished generation\n",
      "finished generation\n",
      "finished generation\n",
      "finished generation\n",
      "finished generation\n",
      "finished generation\n"
     ]
    },
    {
     "name": "stderr",
     "output_type": "stream",
     "text": [
      "My calculation:  60%|███████████████████████████████████████████████████▌                                  | 218/364 [00:07<00:01, 77.05it/s]"
     ]
    },
    {
     "name": "stdout",
     "output_type": "stream",
     "text": [
      "finished generation\n",
      "finished generation\n",
      "finished generation\n",
      "finished generation\n",
      "finished generation\n",
      "finished generation\n",
      "finished generation\n",
      "finished generation\n",
      "finished generation\n",
      "finished generation\n",
      "finished generation\n",
      "finished generation\n",
      "finished generation\n",
      "finished generation\n",
      "finished generation\n",
      "finished generation\n",
      "finished generation\n",
      "finished generation\n"
     ]
    },
    {
     "name": "stderr",
     "output_type": "stream",
     "text": [
      "My calculation:  65%|████████████████████████████████████████████████████████▏                             | 238/364 [00:07<00:01, 84.35it/s]"
     ]
    },
    {
     "name": "stdout",
     "output_type": "stream",
     "text": [
      "finished generation\n",
      "finished generation\n",
      "finished generation\n",
      "finished generation\n",
      "finished generation\n",
      "finished generation\n",
      "finished generation\n",
      "finished generation\n",
      "finished generation\n",
      "finished generation\n",
      "finished generation\n",
      "finished generation\n",
      "finished generation\n",
      "finished generation\n",
      "finished generation\n",
      "finished generation\n",
      "finished generation\n",
      "finished generation\n"
     ]
    },
    {
     "name": "stderr",
     "output_type": "stream",
     "text": [
      "My calculation:  70%|████████████████████████████████████████████████████████████▍                         | 256/364 [00:07<00:01, 84.33it/s]"
     ]
    },
    {
     "name": "stdout",
     "output_type": "stream",
     "text": [
      "finished generation\n",
      "finished generation\n",
      "finished generation\n",
      "finished generation\n",
      "finished generation\n",
      "finished generation\n",
      "finished generation\n",
      "finished generation\n",
      "finished generation\n",
      "finished generation\n",
      "finished generation\n",
      "finished generation\n",
      "finished generation\n",
      "finished generation\n",
      "finished generation\n",
      "finished generation\n",
      "finished generation\n"
     ]
    },
    {
     "name": "stderr",
     "output_type": "stream",
     "text": [
      "My calculation:  76%|█████████████████████████████████████████████████████████████████▋                    | 278/364 [00:07<00:00, 96.93it/s]"
     ]
    },
    {
     "name": "stdout",
     "output_type": "stream",
     "text": [
      "finished generation\n",
      "finished generation\n",
      "finished generation\n",
      "finished generation\n",
      "finished generation\n",
      "finished generation\n",
      "finished generation\n",
      "finished generation\n",
      "finished generation\n",
      "finished generation\n",
      "finished generation\n",
      "finished generation\n",
      "finished generation\n",
      "finished generation\n",
      "finished generation\n",
      "finished generation\n",
      "finished generation\n",
      "finished generation\n",
      "finished generation\n",
      "finished generation\n",
      "finished generation\n",
      "finished generation\n",
      "finished generation\n"
     ]
    },
    {
     "name": "stderr",
     "output_type": "stream",
     "text": [
      "My calculation: 100%|██████████████████████████████████████████████████████████████████████████████████████| 364/364 [00:08<00:00, 43.45it/s]\n"
     ]
    }
   ],
   "source": [
    "random_k_subgraphs = k_subgraph_annotated_graphs.copy()\n",
    "\n",
    "\n",
    "POSITIVE_EXAMPLES_GED_DIST_pairs_n = -1 #2000\n",
    "POSITIVE_EXAMPLES_GED_DIST = 1\n",
    "POSITIVE_EXAMPLES_k_subgraphs = random_k_subgraphs\n",
    "\n",
    "NEGATIVE_EXAMPLES_GED_DIST_pairs_n = 3000\n",
    "NEGATIVE_EXAMPLES_GED_DIST = 4 #4\n",
    "NEGATIVE_EXAMPLES_k_subgraphs = random_k_subgraphs[:20]\n",
    "\n",
    "with tqdm_joblib(tqdm(desc=\"My calculation\", total=len(NEGATIVE_EXAMPLES_k_subgraphs))) as progress_bar:\n",
    "    ged_2_examples = Parallel(n_jobs=int(cpu_count()), prefer='processes')(\n",
    "        delayed(generate_random_ged_paris)(annotated_subgraph=annotated_subgraph, ged_dist=NEGATIVE_EXAMPLES_GED_DIST, pairs_n=NEGATIVE_EXAMPLES_GED_DIST_pairs_n, is_negative_example=True)\n",
    "        for annotated_subgraph in NEGATIVE_EXAMPLES_k_subgraphs\n",
    "    )\n",
    "\n",
    "with tqdm_joblib(tqdm(desc=\"My calculation\", total=len(random_k_subgraphs))) as progress_bar:\n",
    "    ged_1_examples = Parallel(n_jobs=int(cpu_count()), prefer='processes')(\n",
    "        delayed(generate_random_ged_paris)(annotated_subgraph=annotated_subgraph, ged_dist=POSITIVE_EXAMPLES_GED_DIST, pairs_n=POSITIVE_EXAMPLES_GED_DIST_pairs_n, is_negative_example=False)\n",
    "        for annotated_subgraph in POSITIVE_EXAMPLES_k_subgraphs\n",
    "    )\n",
    "\n",
    "ged_examples1 = [elem for lst in ged_1_examples for elem in lst]\n",
    "ged_examples2 = [elem for lst in ged_2_examples for elem in lst]\n",
    "ged_examples = ged_examples1 + ged_examples2\n",
    "random.shuffle(ged_examples)\n",
    "\n",
    "train_ratio = 0.7\n",
    "train_ged_examples_amount = int(len(ged_examples) * train_ratio)\n",
    "train_ged_examples = ged_examples[:train_ged_examples_amount]\n",
    "eval_ged_examples = ged_examples[train_ged_examples_amount:]"
   ]
  },
  {
   "cell_type": "code",
   "execution_count": 40,
   "metadata": {
    "jupyter": {
     "outputs_hidden": false
    },
    "pycharm": {
     "name": "#%%\n"
    }
   },
   "outputs": [
    {
     "data": {
      "text/plain": [
       "56014"
      ]
     },
     "execution_count": 40,
     "metadata": {},
     "output_type": "execute_result"
    }
   ],
   "source": [
    "len(train_ged_examples)"
   ]
  },
  {
   "cell_type": "code",
   "execution_count": 41,
   "metadata": {},
   "outputs": [
    {
     "data": {
      "text/plain": [
       "60000"
      ]
     },
     "execution_count": 41,
     "metadata": {},
     "output_type": "execute_result"
    }
   ],
   "source": [
    "len(ged_examples2)"
   ]
  },
  {
   "cell_type": "code",
   "execution_count": 42,
   "metadata": {
    "jupyter": {
     "outputs_hidden": false
    },
    "pycharm": {
     "name": "#%%\n"
    }
   },
   "outputs": [
    {
     "data": {
      "text/plain": [
       "20020"
      ]
     },
     "execution_count": 42,
     "metadata": {},
     "output_type": "execute_result"
    }
   ],
   "source": [
    "len(ged_examples1)"
   ]
  },
  {
   "cell_type": "code",
   "execution_count": 43,
   "metadata": {
    "jupyter": {
     "outputs_hidden": false
    },
    "pycharm": {
     "name": "#%%\n"
    }
   },
   "outputs": [
    {
     "name": "stdout",
     "output_type": "stream",
     "text": [
      "yes\n"
     ]
    }
   ],
   "source": [
    "for k_subgraph in k_subgraphs:\n",
    "    if k_subgraphs[0].nodes == k_subgraph.nodes:\n",
    "        print(\"yes\")"
   ]
  },
  {
   "cell_type": "code",
   "execution_count": 44,
   "metadata": {
    "jupyter": {
     "outputs_hidden": false
    },
    "pycharm": {
     "name": "#%%\n"
    }
   },
   "outputs": [
    {
     "data": {
      "text/plain": [
       "364"
      ]
     },
     "execution_count": 44,
     "metadata": {},
     "output_type": "execute_result"
    }
   ],
   "source": [
    "len(k_subgraphs)"
   ]
  },
  {
   "cell_type": "code",
   "execution_count": 46,
   "metadata": {
    "jupyter": {
     "outputs_hidden": false
    },
    "pycharm": {
     "name": "#%%\n"
    }
   },
   "outputs": [
    {
     "data": {
      "text/plain": [
       "56014"
      ]
     },
     "execution_count": 46,
     "metadata": {},
     "output_type": "execute_result"
    }
   ],
   "source": [
    "len(train_ged_examples)"
   ]
  },
  {
   "cell_type": "markdown",
   "metadata": {},
   "source": [
    "check 1-WL distance"
   ]
  },
  {
   "cell_type": "code",
   "execution_count": 48,
   "metadata": {},
   "outputs": [],
   "source": [
    "# optimized single call for WL distance calculation\n",
    "### NOTE: Wl dist is not stable (depends which batch of graph you applied it with) ###\n",
    "# wl_dist_matrix = get_graph_wl_distances(k_subgraphs, node_label=False)\n",
    "\n",
    "# negative_pairs_wl_distances = []\n",
    "# positive_pairs_wl_distances = []\n",
    "#\n",
    "# positive_pairs_index_to_dist_map = {}\n",
    "# negative_pairs_index_to_dist_map = {}\n",
    "#\n",
    "# for i, train_sample in enumerate(train_samples_list):\n",
    "#     is_negative_sample = train_sample.is_negative_sample\n",
    "#     graph1 = train_sample.subgraph\n",
    "#     graph2 = train_sample.masked_graph\n",
    "#\n",
    "#     # s2v_graphs = generate_s2v_graphs([graph1.g, graph2.g], print_stats=False)\n",
    "#\n",
    "#     # distance = graph_metric_nn.forward([(s2v_graphs[0], s2v_graphs[1])]).item()\n",
    "#\n",
    "#     # wl_dist = get_graph_wl_distances([graph1.g, graph2.g], node_label=False)[0][1]\n",
    "#\n",
    "#     graph1_index, graph2_index = train_sample_indices_tuple_list[i]\n",
    "#     wl_dist = wl_dist_matrix[graph1_index][graph2_index]\n",
    "#     wl_dist = round(wl_dist, 6)\n",
    "#\n",
    "#     if is_negative_sample:\n",
    "#         negative_pairs_wl_distances.append(wl_dist)\n",
    "#         negative_pairs_index_to_dist_map[i] = wl_dist\n",
    "#     else:\n",
    "#         positive_pairs_wl_distances.append(wl_dist)\n",
    "#         positive_pairs_index_to_dist_map[i] = wl_dist"
   ]
  },
  {
   "cell_type": "code",
   "execution_count": 49,
   "metadata": {},
   "outputs": [],
   "source": [
    "# _, _ = show_wl_dist_histograms(ged_1_examples, ged_2_examples, max_examples_amount = 1_000)"
   ]
  },
  {
   "cell_type": "code",
   "execution_count": 50,
   "metadata": {},
   "outputs": [],
   "source": [
    "# margin = 0.001\n",
    "# calc_margin_loss(torch.tensor(positive_pairs_wl_distances+negative_pairs_wl_distances), torch.cat((torch.ones(len(positive_pairs_wl_distances)), torch.zeros(len(negative_pairs_wl_distances)))), margin)"
   ]
  },
  {
   "cell_type": "markdown",
   "metadata": {},
   "source": [
    "Fit GNN on k subgraph GED pairs"
   ]
  },
  {
   "cell_type": "code",
   "execution_count": 51,
   "metadata": {
    "jupyter": {
     "outputs_hidden": false
    },
    "pycharm": {
     "name": "#%%\n"
    }
   },
   "outputs": [
    {
     "data": {
      "text/plain": [
       "<torch.autograd.anomaly_mode.set_detect_anomaly at 0x7fbd96877410>"
      ]
     },
     "execution_count": 51,
     "metadata": {},
     "output_type": "execute_result"
    }
   ],
   "source": [
    "# disable debugging overhead operations\n",
    "torch.autograd.set_detect_anomaly(mode=False)"
   ]
  },
  {
   "cell_type": "code",
   "execution_count": 52,
   "metadata": {},
   "outputs": [],
   "source": [
    "solver_params['margin_loss_margin_value'] = 0.5 #0.25 #0.01"
   ]
  },
  {
   "cell_type": "code",
   "execution_count": 53,
   "metadata": {},
   "outputs": [],
   "source": [
    "# used_train_samples_amount = 50_000\n",
    "used_train_samples_list = train_ged_examples#[:used_train_samples_amount] #Needed due to performance issues\n",
    "processes_device_ids = [0, 1, 2, 3]"
   ]
  },
  {
   "cell_type": "code",
   "execution_count": 54,
   "metadata": {
    "jupyter": {
     "outputs_hidden": false
    },
    "pycharm": {
     "name": "#%%\n"
    }
   },
   "outputs": [
    {
     "data": {
      "text/plain": [
       "56014"
      ]
     },
     "execution_count": 54,
     "metadata": {},
     "output_type": "execute_result"
    }
   ],
   "source": [
    "len(used_train_samples_list)"
   ]
  },
  {
   "cell_type": "code",
   "execution_count": 55,
   "metadata": {},
   "outputs": [],
   "source": [
    "last_checkpoint_model_path = None\n",
    "\n",
    "# val_samples_list = used_train_samples_list\n",
    "model_factory_func = lambda device: GraphCNN(num_layers=5, num_mlp_layers = 2, input_dim=input_dim, hidden_dim=128, output_dim=num_classes, final_dropout=0.5, learn_eps=False, graph_pooling_type=\"sum\", neighbor_pooling_type=\"sum\", device=device)\n",
    "solver_params[\"batch_size\"] = 512 * 8 #32 #2048 #1024 #512\n",
    "solver_params[\"k_update_plot\"] = 1\n",
    "solver_params[\"lr\"] = 1e-1\n",
    "solver_params[\"max_epochs\"] = 200 #480--\n",
    "trainer, graph_metric_nn, model = init_embedding_net_and_trainer(model_factory_func, last_checkpoint_model_path)\n",
    "\n",
    "# trainer.set_existing_data_loader_paths(\n",
    "#     ['./dataloaders/1702148493.0283618.p',\n",
    "#  './dataloaders/1702148497.9922142.p',\n",
    "#  './dataloaders/1702148502.9499629.p',\n",
    "#  './dataloaders/1702148511.1819935.p'],\n",
    "# []\n",
    "# )"
   ]
  },
  {
   "cell_type": "code",
   "execution_count": null,
   "metadata": {
    "scrolled": true
   },
   "outputs": [],
   "source": [
    "trainer.train(processes_device_ids=processes_device_ids, use_existing_data_loaders=False, train_samples_list=used_train_samples_list, val_samples_list=[])"
   ]
  },
  {
   "cell_type": "code",
   "execution_count": null,
   "metadata": {},
   "outputs": [],
   "source": [
    "# GED2 -> \"./mp/1703271648.8009052/best_model_state_dict.pt\", not seperable well\n",
    "# GED4 - > \"\"./mp/1703279923.1549501/best_model_state_dict.pt\", seperable well (not perfect but close)"
   ]
  },
  {
   "cell_type": "code",
   "execution_count": null,
   "metadata": {},
   "outputs": [],
   "source": [
    "trainer, graph_metric_nn, model = init_embedding_net_and_trainer(model_factory_func, \"./mp/1703411975.73806/best_model_state_dict.pt\")\n",
    "_ = graph_metric_nn.eval()"
   ]
  },
  {
   "cell_type": "code",
   "execution_count": null,
   "metadata": {},
   "outputs": [],
   "source": [
    "train_positive_distances, train_negative_distances = get_examples_distances(trainer, graph_metric_nn, used_train_samples_list)"
   ]
  },
  {
   "cell_type": "code",
   "execution_count": null,
   "metadata": {},
   "outputs": [],
   "source": [
    "len(train_negative_distances) / len(train_positive_distances)"
   ]
  },
  {
   "cell_type": "code",
   "execution_count": null,
   "metadata": {},
   "outputs": [],
   "source": [
    "plot_histogram(train_positive_distances, \"train positive examples\", min_range=0, max_range=0.2)"
   ]
  },
  {
   "cell_type": "code",
   "execution_count": null,
   "metadata": {
    "scrolled": true
   },
   "outputs": [],
   "source": [
    "plot_histogram(train_negative_distances, \"train negative examples\", min_range=0, max_range=0.2)"
   ]
  },
  {
   "cell_type": "code",
   "execution_count": null,
   "metadata": {},
   "outputs": [],
   "source": [
    "calc_margin_loss(torch.tensor(train_positive_distances+train_negative_distances), torch.cat((torch.ones(len(train_positive_distances)), torch.zeros(len(train_negative_distances)))), margin = solver_params['margin_loss_margin_value'])"
   ]
  },
  {
   "cell_type": "markdown",
   "metadata": {},
   "source": [
    "Train again without rebuilding data loaders, and without the val_loader"
   ]
  },
  {
   "cell_type": "code",
   "execution_count": null,
   "metadata": {},
   "outputs": [],
   "source": [
    "# model_factory_func = lambda device: GraphCNN(num_layers=5, num_mlp_layers = 2, input_dim=input_dim, hidden_dim=64, output_dim=num_classes, final_dropout=0.5, learn_eps=False, graph_pooling_type=\"sum\", neighbor_pooling_type=\"sum\", device=device)\n",
    "# new_trainer, graph_metric_nn, model = init_embedding_net_and_trainer(model_factory_func)\n",
    "\n",
    "# new_trainer.previous_train_loader_paths = trainer.previous_train_loader_paths\n",
    "# new_trainer.previous_val_loader_paths = [None for device_id in processes_device_ids] #trainer.previous_val_loader_paths\n",
    "# new_trainer.train(processes_device_ids=processes_device_ids, use_existing_data_loaders=True)"
   ]
  },
  {
   "cell_type": "code",
   "execution_count": null,
   "metadata": {},
   "outputs": [],
   "source": [
    "_, _ = calc_performance_metrics(graph_metric_nn, used_train_samples_list, train_positive_distances, train_negative_distances)"
   ]
  },
  {
   "cell_type": "markdown",
   "metadata": {},
   "source": [
    "Generalization error"
   ]
  },
  {
   "cell_type": "code",
   "execution_count": null,
   "metadata": {},
   "outputs": [],
   "source": [
    "eval_positive_distances, eval_negative_distances = get_examples_distances(trainer, graph_metric_nn, eval_ged_examples)"
   ]
  },
  {
   "cell_type": "code",
   "execution_count": null,
   "metadata": {},
   "outputs": [],
   "source": [
    "plot_histogram(eval_positive_distances, \"eval positive examples\", max_range=2)"
   ]
  },
  {
   "cell_type": "code",
   "execution_count": null,
   "metadata": {},
   "outputs": [],
   "source": [
    "plot_histogram(eval_negative_distances, \"eval negative examples\", max_range=1)"
   ]
  },
  {
   "cell_type": "code",
   "execution_count": null,
   "metadata": {},
   "outputs": [],
   "source": [
    "calc_margin_loss(torch.tensor(eval_positive_distances+eval_negative_distances), torch.cat((torch.ones(len(eval_positive_distances)), torch.zeros(len(eval_negative_distances)))), margin = solver_params['margin_loss_margin_value'])"
   ]
  },
  {
   "cell_type": "code",
   "execution_count": null,
   "metadata": {},
   "outputs": [],
   "source": [
    "_, _ = calc_performance_metrics(graph_metric_nn, eval_ged_examples, eval_positive_distances, eval_negative_distances)"
   ]
  },
  {
   "cell_type": "markdown",
   "metadata": {
    "jupyter": {
     "outputs_hidden": false
    }
   },
   "source": [
    "Execution time profiling"
   ]
  },
  {
   "cell_type": "code",
   "execution_count": null,
   "metadata": {
    "jupyter": {
     "outputs_hidden": false
    },
    "pycharm": {
     "name": "#%%\n"
    }
   },
   "outputs": [],
   "source": [
    "# from cProfile import Profile\n",
    "# from pstats import SortKey, Stats\n",
    "\n",
    "# with Profile() as profile:\n",
    "#     new_trainer.train(processes_device_ids=processes_device_ids, use_existing_data_loaders=True)\n",
    "#     (\n",
    "#     Stats(profile)\n",
    "#         .strip_dirs()\n",
    "#         .sort_stats(SortKey.CUMULATIVE)\n",
    "#         .print_stats()\n",
    "#     )"
   ]
  },
  {
   "cell_type": "markdown",
   "metadata": {},
   "source": [
    "Capacity test"
   ]
  },
  {
   "cell_type": "code",
   "execution_count": 59,
   "metadata": {},
   "outputs": [
    {
     "name": "stdout",
     "output_type": "stream",
     "text": [
      "rank 0 , epochs trained:  200\n",
      "model saved at ./mp/1703523117.599443/best_model_state_dict.pt\n",
      "worker process 0 is terminating at 18:51:57\n"
     ]
    },
    {
     "data": {
      "image/png": "[encoded data removed]",
      "text/plain": [
       "<Figure size 1200x800 with 2 Axes>"
      ]
     },
     "metadata": {},
     "output_type": "display_data"
    },
    {
     "name": "stdout",
     "output_type": "stream",
     "text": [
      "epoch train loss\n",
      "\tepoch train loss \t (min:   45.003, max:  414.590, cur:   45.294)\n",
      "Monitoring process is exiting, epochs=200\n",
      "model saved at ./mp/1703523117.6117768/best_model_state_dict.pt\n",
      "training worker process #0 finished\n",
      "training worker process #1 finished\n",
      "training worker process #2 finished\n",
      "training worker process #3 finished\n",
      "finished monitoring training\n",
      "2048: 40.000513046979904\n"
     ]
    }
   ],
   "source": [
    "trainer = None\n",
    "hid_dim_to_val_loss_map = {}\n",
    "for hid_dim in [16, 32, 64, 128, 256, 512, 1024, 2048]:\n",
    "    trainer, graph_metric_nn, best_val_loss = train_model_with_hyperparams(used_train_samples_list, hidden_dim=hid_dim, trainer=trainer)\n",
    "    hid_dim_to_val_loss_map[hid_dim] = best_val_loss\n",
    "    print(f\"{hid_dim}: {best_val_loss}\")"
   ]
  },
  {
   "cell_type": "code",
   "execution_count": 75,
   "metadata": {},
   "outputs": [
    {
     "name": "stdout",
     "output_type": "stream",
     "text": [
      "{16: 70.74730545282364, 32: 60.387146949768066, 64: 58.27804559469223, 128: 56.14972960948944, 256: 53.67232429981232, 512: 48.58573704957962, 1024: 46.206315875053406, 2048: 40.000513046979904}\n"
     ]
    },
    {
     "data": {
      "image/png": "[encoded data removed]",
      "text/plain": [
       "<Figure size 1000x500 with 1 Axes>"
      ]
     },
     "metadata": {},
     "output_type": "display_data"
    }
   ],
   "source": [
    "print(hid_dim_to_val_loss_map)\n",
    "plot_map(hid_dim_to_val_loss_map, \"hidden_dim\", \"val loss\", \"model performance vs model capacity\")"
   ]
  },
  {
   "cell_type": "markdown",
   "metadata": {},
   "source": [
    "Expressivity test"
   ]
  },
  {
   "cell_type": "code",
   "execution_count": 68,
   "metadata": {},
   "outputs": [
    {
     "name": "stdout",
     "output_type": "stream",
     "text": [
      "rank 0 , epochs trained:  200\n",
      "model saved at ./mp/1703528584.5172565/best_model_state_dict.pt\n",
      "worker process 0 is terminating at 20:23:04\n",
      "model saved at ./mp/1703528584.527301/best_model_state_dict.pt\n"
     ]
    },
    {
     "data": {
      "image/png": "[encoded data removed]",
      "text/plain": [
       "<Figure size 1200x800 with 2 Axes>"
      ]
     },
     "metadata": {},
     "output_type": "display_data"
    },
    {
     "name": "stdout",
     "output_type": "stream",
     "text": [
      "epoch train loss\n",
      "\tepoch train loss \t (min:   20.458, max:  323.814, cur:   22.542)\n",
      "Monitoring process is exiting, epochs=200\n",
      "training worker process #0 finished\n",
      "training worker process #1 finished\n",
      "training worker process #2 finished\n",
      "training worker process #3 finished\n",
      "finished monitoring training\n",
      "negative K=8: val_loss=19.260009042918682\n",
      "post iteration 0\n",
      "post iteration 5000\n",
      "post iteration 10000\n",
      "post iteration 15000\n",
      "post iteration 20000\n",
      "post iteration 25000\n",
      "FP=3173 out of 11213 negative examples\n",
      "FN=0 out of 14001 positive examples\n",
      "post iteration 0\n",
      "post iteration 5000\n",
      "post iteration 10000\n",
      "FP=1353 out of 4787 negative examples\n",
      "FN=0 out of 6019 positive examples\n",
      "92.48161315917969\n",
      "23.83431625366211\n",
      "0\n",
      "2\n"
     ]
    },
    {
     "data": {
      "image/png": "[encoded data removed]",
      "text/plain": [
       "<Figure size 640x480 with 1 Axes>"
      ]
     },
     "metadata": {},
     "output_type": "display_data"
    },
    {
     "name": "stdout",
     "output_type": "stream",
     "text": [
      "0\n",
      "2\n"
     ]
    },
    {
     "data": {
      "image/png": "[encoded data removed]",
      "text/plain": [
       "<Figure size 640x480 with 1 Axes>"
      ]
     },
     "metadata": {},
     "output_type": "display_data"
    },
    {
     "name": "stdout",
     "output_type": "stream",
     "text": [
      "0\n",
      "2\n"
     ]
    },
    {
     "data": {
      "image/png": "[encoded data removed]",
      "text/plain": [
       "<Figure size 640x480 with 1 Axes>"
      ]
     },
     "metadata": {},
     "output_type": "display_data"
    },
    {
     "name": "stdout",
     "output_type": "stream",
     "text": [
      "0\n",
      "2\n"
     ]
    },
    {
     "data": {
      "image/png": "[encoded data removed]",
      "text/plain": [
       "<Figure size 640x480 with 1 Axes>"
      ]
     },
     "metadata": {},
     "output_type": "display_data"
    },
    {
     "name": "stdout",
     "output_type": "stream",
     "text": [
      "expressivity test for negative_GED_k=9\n"
     ]
    },
    {
     "name": "stderr",
     "output_type": "stream",
     "text": [
      "My calculation: 100%|████████████████████████████████████████████████████████████████████████████████████████| 20/20 [03:00<00:00,  9.04s/it]\n"
     ]
    },
    {
     "ename": "TerminatedWorkerError",
     "evalue": "A worker process managed by the executor was unexpectedly terminated. This could be caused by a segmentation fault while calling the function or by an excessive memory usage causing the Operating System to kill the worker.\n\nThe exit codes of the workers are {SIGKILL(-9)}",
     "output_type": "error",
     "traceback": [
      "\u001B[0;31m---------------------------------------------------------------------------\u001B[0m",
      "\u001B[0;31mTerminatedWorkerError\u001B[0m                     Traceback (most recent call last)",
      "Cell \u001B[0;32mIn[68], line 10\u001B[0m\n\u001B[1;32m      7\u001B[0m \u001B[38;5;66;03m# prepare dataset\u001B[39;00m\n\u001B[1;32m      9\u001B[0m \u001B[38;5;28;01mwith\u001B[39;00m tqdm_joblib(tqdm(desc\u001B[38;5;241m=\u001B[39m\u001B[38;5;124m\"\u001B[39m\u001B[38;5;124mMy calculation\u001B[39m\u001B[38;5;124m\"\u001B[39m, total\u001B[38;5;241m=\u001B[39m\u001B[38;5;28mlen\u001B[39m(NEGATIVE_EXAMPLES_k_subgraphs))) \u001B[38;5;28;01mas\u001B[39;00m progress_bar:\n\u001B[0;32m---> 10\u001B[0m     ged_negative_examples \u001B[38;5;241m=\u001B[39m \u001B[43mParallel\u001B[49m\u001B[43m(\u001B[49m\u001B[43mn_jobs\u001B[49m\u001B[38;5;241;43m=\u001B[39;49m\u001B[38;5;28;43mint\u001B[39;49m\u001B[43m(\u001B[49m\u001B[43mcpu_count\u001B[49m\u001B[43m(\u001B[49m\u001B[43m)\u001B[49m\u001B[43m)\u001B[49m\u001B[43m,\u001B[49m\u001B[43m \u001B[49m\u001B[43mprefer\u001B[49m\u001B[38;5;241;43m=\u001B[39;49m\u001B[38;5;124;43m'\u001B[39;49m\u001B[38;5;124;43mprocesses\u001B[39;49m\u001B[38;5;124;43m'\u001B[39;49m\u001B[43m)\u001B[49m\u001B[43m(\u001B[49m\n\u001B[1;32m     11\u001B[0m \u001B[43m        \u001B[49m\u001B[43mdelayed\u001B[49m\u001B[43m(\u001B[49m\u001B[43mgenerate_random_ged_paris\u001B[49m\u001B[43m)\u001B[49m\u001B[43m(\u001B[49m\u001B[43mannotated_subgraph\u001B[49m\u001B[38;5;241;43m=\u001B[39;49m\u001B[43mannotated_subgraph\u001B[49m\u001B[43m,\u001B[49m\u001B[43m \u001B[49m\u001B[43mged_dist\u001B[49m\u001B[38;5;241;43m=\u001B[39;49m\u001B[43mnegative_GED_k\u001B[49m\u001B[43m,\u001B[49m\u001B[43m \u001B[49m\u001B[43mpairs_n\u001B[49m\u001B[38;5;241;43m=\u001B[39;49m\u001B[38;5;241;43m800\u001B[39;49m\u001B[43m,\u001B[49m\u001B[43m \u001B[49m\u001B[43mis_negative_example\u001B[49m\u001B[38;5;241;43m=\u001B[39;49m\u001B[38;5;28;43;01mTrue\u001B[39;49;00m\u001B[43m)\u001B[49m\n\u001B[1;32m     12\u001B[0m \u001B[43m        \u001B[49m\u001B[38;5;28;43;01mfor\u001B[39;49;00m\u001B[43m \u001B[49m\u001B[43mannotated_subgraph\u001B[49m\u001B[43m \u001B[49m\u001B[38;5;129;43;01min\u001B[39;49;00m\u001B[43m \u001B[49m\u001B[43mNEGATIVE_EXAMPLES_k_subgraphs\u001B[49m\n\u001B[1;32m     13\u001B[0m \u001B[43m    \u001B[49m\u001B[43m)\u001B[49m\n\u001B[1;32m     15\u001B[0m ged_negative_examples \u001B[38;5;241m=\u001B[39m [elem \u001B[38;5;28;01mfor\u001B[39;00m lst \u001B[38;5;129;01min\u001B[39;00m ged_negative_examples \u001B[38;5;28;01mfor\u001B[39;00m elem \u001B[38;5;129;01min\u001B[39;00m lst]\n\u001B[1;32m     16\u001B[0m \u001B[38;5;28mprint\u001B[39m(\u001B[38;5;124mf\u001B[39m\u001B[38;5;124m\"\u001B[39m\u001B[38;5;124m#neg examples = \u001B[39m\u001B[38;5;132;01m{\u001B[39;00m\u001B[38;5;28mlen\u001B[39m(ged_negative_examples)\u001B[38;5;132;01m}\u001B[39;00m\u001B[38;5;124m\"\u001B[39m)\n",
      "File \u001B[0;32m~/.local/share/virtualenvs/GraphMatching-_Kt3QSDD/lib/python3.11/site-packages/joblib/parallel.py:1952\u001B[0m, in \u001B[0;36mParallel.__call__\u001B[0;34m(self, iterable)\u001B[0m\n\u001B[1;32m   1946\u001B[0m \u001B[38;5;66;03m# The first item from the output is blank, but it makes the interpreter\u001B[39;00m\n\u001B[1;32m   1947\u001B[0m \u001B[38;5;66;03m# progress until it enters the Try/Except block of the generator and\u001B[39;00m\n\u001B[1;32m   1948\u001B[0m \u001B[38;5;66;03m# reach the first `yield` statement. This starts the aynchronous\u001B[39;00m\n\u001B[1;32m   1949\u001B[0m \u001B[38;5;66;03m# dispatch of the tasks to the workers.\u001B[39;00m\n\u001B[1;32m   1950\u001B[0m \u001B[38;5;28mnext\u001B[39m(output)\n\u001B[0;32m-> 1952\u001B[0m \u001B[38;5;28;01mreturn\u001B[39;00m output \u001B[38;5;28;01mif\u001B[39;00m \u001B[38;5;28mself\u001B[39m\u001B[38;5;241m.\u001B[39mreturn_generator \u001B[38;5;28;01melse\u001B[39;00m \u001B[38;5;28mlist\u001B[39m(output)\n",
      "File \u001B[0;32m~/.local/share/virtualenvs/GraphMatching-_Kt3QSDD/lib/python3.11/site-packages/joblib/parallel.py:1595\u001B[0m, in \u001B[0;36mParallel._get_outputs\u001B[0;34m(self, iterator, pre_dispatch)\u001B[0m\n\u001B[1;32m   1592\u001B[0m     \u001B[38;5;28;01myield\u001B[39;00m\n\u001B[1;32m   1594\u001B[0m     \u001B[38;5;28;01mwith\u001B[39;00m \u001B[38;5;28mself\u001B[39m\u001B[38;5;241m.\u001B[39m_backend\u001B[38;5;241m.\u001B[39mretrieval_context():\n\u001B[0;32m-> 1595\u001B[0m         \u001B[38;5;28;01myield from\u001B[39;00m \u001B[38;5;28mself\u001B[39m\u001B[38;5;241m.\u001B[39m_retrieve()\n\u001B[1;32m   1597\u001B[0m \u001B[38;5;28;01mexcept\u001B[39;00m \u001B[38;5;167;01mGeneratorExit\u001B[39;00m:\n\u001B[1;32m   1598\u001B[0m     \u001B[38;5;66;03m# The generator has been garbage collected before being fully\u001B[39;00m\n\u001B[1;32m   1599\u001B[0m     \u001B[38;5;66;03m# consumed. This aborts the remaining tasks if possible and warn\u001B[39;00m\n\u001B[1;32m   1600\u001B[0m     \u001B[38;5;66;03m# the user if necessary.\u001B[39;00m\n\u001B[1;32m   1601\u001B[0m     \u001B[38;5;28mself\u001B[39m\u001B[38;5;241m.\u001B[39m_exception \u001B[38;5;241m=\u001B[39m \u001B[38;5;28;01mTrue\u001B[39;00m\n",
      "File \u001B[0;32m~/.local/share/virtualenvs/GraphMatching-_Kt3QSDD/lib/python3.11/site-packages/joblib/parallel.py:1699\u001B[0m, in \u001B[0;36mParallel._retrieve\u001B[0;34m(self)\u001B[0m\n\u001B[1;32m   1692\u001B[0m \u001B[38;5;28;01mwhile\u001B[39;00m \u001B[38;5;28mself\u001B[39m\u001B[38;5;241m.\u001B[39m_wait_retrieval():\n\u001B[1;32m   1693\u001B[0m \n\u001B[1;32m   1694\u001B[0m     \u001B[38;5;66;03m# If the callback thread of a worker has signaled that its task\u001B[39;00m\n\u001B[1;32m   1695\u001B[0m     \u001B[38;5;66;03m# triggered an exception, or if the retrieval loop has raised an\u001B[39;00m\n\u001B[1;32m   1696\u001B[0m     \u001B[38;5;66;03m# exception (e.g. `GeneratorExit`), exit the loop and surface the\u001B[39;00m\n\u001B[1;32m   1697\u001B[0m     \u001B[38;5;66;03m# worker traceback.\u001B[39;00m\n\u001B[1;32m   1698\u001B[0m     \u001B[38;5;28;01mif\u001B[39;00m \u001B[38;5;28mself\u001B[39m\u001B[38;5;241m.\u001B[39m_aborting:\n\u001B[0;32m-> 1699\u001B[0m         \u001B[38;5;28;43mself\u001B[39;49m\u001B[38;5;241;43m.\u001B[39;49m\u001B[43m_raise_error_fast\u001B[49m\u001B[43m(\u001B[49m\u001B[43m)\u001B[49m\n\u001B[1;32m   1700\u001B[0m         \u001B[38;5;28;01mbreak\u001B[39;00m\n\u001B[1;32m   1702\u001B[0m     \u001B[38;5;66;03m# If the next job is not ready for retrieval yet, we just wait for\u001B[39;00m\n\u001B[1;32m   1703\u001B[0m     \u001B[38;5;66;03m# async callbacks to progress.\u001B[39;00m\n",
      "File \u001B[0;32m~/.local/share/virtualenvs/GraphMatching-_Kt3QSDD/lib/python3.11/site-packages/joblib/parallel.py:1734\u001B[0m, in \u001B[0;36mParallel._raise_error_fast\u001B[0;34m(self)\u001B[0m\n\u001B[1;32m   1730\u001B[0m \u001B[38;5;66;03m# If this error job exists, immediatly raise the error by\u001B[39;00m\n\u001B[1;32m   1731\u001B[0m \u001B[38;5;66;03m# calling get_result. This job might not exists if abort has been\u001B[39;00m\n\u001B[1;32m   1732\u001B[0m \u001B[38;5;66;03m# called directly or if the generator is gc'ed.\u001B[39;00m\n\u001B[1;32m   1733\u001B[0m \u001B[38;5;28;01mif\u001B[39;00m error_job \u001B[38;5;129;01mis\u001B[39;00m \u001B[38;5;129;01mnot\u001B[39;00m \u001B[38;5;28;01mNone\u001B[39;00m:\n\u001B[0;32m-> 1734\u001B[0m     \u001B[43merror_job\u001B[49m\u001B[38;5;241;43m.\u001B[39;49m\u001B[43mget_result\u001B[49m\u001B[43m(\u001B[49m\u001B[38;5;28;43mself\u001B[39;49m\u001B[38;5;241;43m.\u001B[39;49m\u001B[43mtimeout\u001B[49m\u001B[43m)\u001B[49m\n",
      "File \u001B[0;32m~/.local/share/virtualenvs/GraphMatching-_Kt3QSDD/lib/python3.11/site-packages/joblib/parallel.py:736\u001B[0m, in \u001B[0;36mBatchCompletionCallBack.get_result\u001B[0;34m(self, timeout)\u001B[0m\n\u001B[1;32m    730\u001B[0m backend \u001B[38;5;241m=\u001B[39m \u001B[38;5;28mself\u001B[39m\u001B[38;5;241m.\u001B[39mparallel\u001B[38;5;241m.\u001B[39m_backend\n\u001B[1;32m    732\u001B[0m \u001B[38;5;28;01mif\u001B[39;00m backend\u001B[38;5;241m.\u001B[39msupports_retrieve_callback:\n\u001B[1;32m    733\u001B[0m     \u001B[38;5;66;03m# We assume that the result has already been retrieved by the\u001B[39;00m\n\u001B[1;32m    734\u001B[0m     \u001B[38;5;66;03m# callback thread, and is stored internally. It's just waiting to\u001B[39;00m\n\u001B[1;32m    735\u001B[0m     \u001B[38;5;66;03m# be returned.\u001B[39;00m\n\u001B[0;32m--> 736\u001B[0m     \u001B[38;5;28;01mreturn\u001B[39;00m \u001B[38;5;28;43mself\u001B[39;49m\u001B[38;5;241;43m.\u001B[39;49m\u001B[43m_return_or_raise\u001B[49m\u001B[43m(\u001B[49m\u001B[43m)\u001B[49m\n\u001B[1;32m    738\u001B[0m \u001B[38;5;66;03m# For other backends, the main thread needs to run the retrieval step.\u001B[39;00m\n\u001B[1;32m    739\u001B[0m \u001B[38;5;28;01mtry\u001B[39;00m:\n",
      "File \u001B[0;32m~/.local/share/virtualenvs/GraphMatching-_Kt3QSDD/lib/python3.11/site-packages/joblib/parallel.py:754\u001B[0m, in \u001B[0;36mBatchCompletionCallBack._return_or_raise\u001B[0;34m(self)\u001B[0m\n\u001B[1;32m    752\u001B[0m \u001B[38;5;28;01mtry\u001B[39;00m:\n\u001B[1;32m    753\u001B[0m     \u001B[38;5;28;01mif\u001B[39;00m \u001B[38;5;28mself\u001B[39m\u001B[38;5;241m.\u001B[39mstatus \u001B[38;5;241m==\u001B[39m TASK_ERROR:\n\u001B[0;32m--> 754\u001B[0m         \u001B[38;5;28;01mraise\u001B[39;00m \u001B[38;5;28mself\u001B[39m\u001B[38;5;241m.\u001B[39m_result\n\u001B[1;32m    755\u001B[0m     \u001B[38;5;28;01mreturn\u001B[39;00m \u001B[38;5;28mself\u001B[39m\u001B[38;5;241m.\u001B[39m_result\n\u001B[1;32m    756\u001B[0m \u001B[38;5;28;01mfinally\u001B[39;00m:\n",
      "\u001B[0;31mTerminatedWorkerError\u001B[0m: A worker process managed by the executor was unexpectedly terminated. This could be caused by a segmentation fault while calling the function or by an excessive memory usage causing the Operating System to kill the worker.\n\nThe exit codes of the workers are {SIGKILL(-9)}"
     ]
    }
   ],
   "source": [
    "positive_GED_k_to_negative_GED_k_to_val_loss_map = {}\n",
    "pairs_n = 800\n",
    "positive_examples_k_subgraphs = random_k_subgraphs[:20]\n",
    "ged_positive_examples_cache_map = {}\n",
    "ged_negative_examples_cache_map = {}\n",
    "\n",
    "for positive_GED_k in [2, 3, 4, 5, 6, 7]:\n",
    "    negative_GED_k_to_val_loss_map = {}\n",
    "    positive_GED_k_to_negative_GED_k_to_val_loss_map[positive_GED_k] = negative_GED_k_to_val_loss_map\n",
    "\n",
    "    # prepare positive pairs dataset\n",
    "    with tqdm_joblib(tqdm(desc=\"My calculation\", total=len(positive_examples_k_subgraphs))) as progress_bar:\n",
    "        ged_positive_examples = Parallel(n_jobs=int(cpu_count()), prefer='processes')(\n",
    "            delayed(generate_random_ged_paris)(annotated_subgraph=annotated_subgraph, ged_dist=positive_GED_k, pairs_n=pairs_n, is_negative_example=False)\n",
    "            for annotated_subgraph in positive_examples_k_subgraphs\n",
    "        )\n",
    "    ged_positive_examples = [elem for lst in ged_positive_examples for elem in lst]\n",
    "    ged_positive_examples_cache_map[positive_GED_k] = ged_positive_examples\n",
    "    print(f\"#pos examples = {len(ged_positive_examples)}\")\n",
    "\n",
    "    for negative_GED_k in range(positive_GED_k + 1, 9):\n",
    "        print(f\"expressivity test for positive_GED_k={positive_GED_k} & negative_GED_k={negative_GED_k}\")\n",
    "\n",
    "        if negative_GED_k in ged_negative_examples_cache_map:\n",
    "            ged_negative_examples = ged_negative_examples_cache_map[negative_GED_k]\n",
    "        else:\n",
    "\n",
    "            # prepare negative pairs dataset\n",
    "            with tqdm_joblib(tqdm(desc=\"My calculation\", total=len(NEGATIVE_EXAMPLES_k_subgraphs))) as progress_bar:\n",
    "                ged_negative_examples = Parallel(n_jobs=int(cpu_count()), prefer='processes')(\n",
    "                    delayed(generate_random_ged_paris)(annotated_subgraph=annotated_subgraph, ged_dist=negative_GED_k, pairs_n=pairs_n, is_negative_example=True)\n",
    "                    for annotated_subgraph in NEGATIVE_EXAMPLES_k_subgraphs\n",
    "                )\n",
    "\n",
    "            ged_negative_examples = [elem for lst in ged_negative_examples for elem in lst]\n",
    "            ged_negative_examples_cache_map[negative_GED_k] = ged_negative_examples\n",
    "        print(f\"#neg examples = {len(ged_negative_examples)}\")\n",
    "\n",
    "        # combine examples to one dataset\n",
    "        ged_examples = ged_positive_examples + ged_negative_examples\n",
    "        random.shuffle(ged_examples)\n",
    "\n",
    "        train_ratio = 0.7\n",
    "        train_ged_examples_amount = int(len(ged_examples) * train_ratio)\n",
    "        train_ged_examples = ged_examples[:train_ged_examples_amount]\n",
    "        eval_ged_examples = ged_examples[train_ged_examples_amount:]\n",
    "\n",
    "        print(f\"#train set examples = {len(train_ged_examples)}\")\n",
    "\n",
    "        # train\n",
    "        trainer, graph_metric_nn, best_val_loss = train_model_with_hyperparams(train_ged_examples, hidden_dim=64, trainer=None)\n",
    "        negative_GED_k_to_val_loss_map[negative_GED_k] = best_val_loss\n",
    "        print(f\"negative K={negative_GED_k}: val_loss={best_val_loss}\")\n",
    "\n",
    "        # more performance metrics\n",
    "        _ = graph_metric_nn.eval()\n",
    "\n",
    "        train_positive_distances, train_negative_distances = get_examples_distances(trainer, train_ged_examples)\n",
    "        _, _ = calc_performance_metrics(train_ged_examples, train_positive_distances, train_negative_distances)\n",
    "\n",
    "        eval_positive_distances, eval_negative_distances = get_examples_distances(trainer, eval_ged_examples)\n",
    "        _, _ = calc_performance_metrics(eval_ged_examples, eval_positive_distances, eval_negative_distances)\n",
    "        calc_margin_loss(torch.tensor(eval_positive_distances+eval_negative_distances), torch.cat((torch.ones(len(eval_positive_distances)), torch.zeros(len(eval_negative_distances)))), margin = solver_params['margin_loss_margin_value'])\n",
    "\n",
    "        plot_histogram(train_positive_distances, \"train positive examples\", min_range=0, max_range=2)\n",
    "        plot_histogram(train_negative_distances, \"train negative examples\", min_range=0, max_range=2)\n",
    "        plot_histogram(eval_positive_distances, \"eval positive examples\", min_range=0, max_range=2)\n",
    "        plot_histogram(eval_negative_distances, \"eval negative examples\", min_range=0, max_range=2)"
   ]
  },
  {
   "cell_type": "code",
   "execution_count": 76,
   "metadata": {
    "pycharm": {
     "name": "#%%\n"
    }
   },
   "outputs": [
    {
     "name": "stdout",
     "output_type": "stream",
     "text": [
      "{2: 205.404310464859, 3: 112.63433581590652, 4: 57.314234763383865, 5: 46.141616731882095, 6: 26.308745250105858, 7: 15.861696496605873, 8: 19.260009042918682}\n"
     ]
    },
    {
     "data": {
      "image/png": "[encoded data removed]",
      "text/plain": [
       "<Figure size 1000x500 with 1 Axes>"
      ]
     },
     "metadata": {},
     "output_type": "display_data"
    }
   ],
   "source": [
    "GED_experiments_map = {}\n",
    "for positive_GED_k, negative_GED_k_to_val_loss_map in positive_GED_k_to_negative_GED_k_to_val_loss_map.items():\n",
    "    for negative_GED_k, val_loss in negative_GED_k_to_val_loss_map.items():\n",
    "        GED_experiments_map[f\"{positive_GED_k}_{negative_GED_k}\"] = val_loss\n",
    "\n",
    "chart_bar_plot(GED_experiments_map, \"positive-GED-K_negative-GED-K\", \"validation loss\", \"model expressivity analysis\")"
   ]
  }
 ],
 "metadata": {
  "kernelspec": {
   "display_name": "Python 3",
   "language": "python",
   "name": "python3"
  },
  "language_info": {
   "codemirror_mode": {
    "name": "ipython",
    "version": 3
   },
   "file_extension": ".py",
   "mimetype": "text/x-python",
   "name": "python",
   "nbconvert_exporter": "python",
   "pygments_lexer": "ipython3",
   "version": "3.8.0"
  }
 },
 "nbformat": 4,
 "nbformat_minor": 4
}