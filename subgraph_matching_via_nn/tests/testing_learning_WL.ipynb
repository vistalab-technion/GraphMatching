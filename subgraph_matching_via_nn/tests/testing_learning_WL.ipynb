{
 "cells": [
  {
   "cell_type": "code",
   "execution_count": 236,
   "id": "91d41c3ffd1af183",
   "metadata": {
    "collapsed": true,
    "ExecuteTime": {
     "end_time": "2024-02-01T15:11:58.626141Z",
     "start_time": "2024-02-01T15:11:58.588033Z"
    }
   },
   "outputs": [],
   "source": [
    "import torch.nn as nn\n",
    "import torch.optim as optim\n",
    "import networkx as nx\n",
    "from torch_geometric.data import DataLoader, Data\n",
    "import matplotlib.pyplot as plt\n",
    "from sklearn.manifold import TSNE\n",
    "from sklearn.metrics import mean_squared_error\n",
    "import numpy as np\n",
    "import torch\n",
    "import torch.nn.functional as F\n",
    "from torch_geometric.nn import GCNConv, global_mean_pool\n",
    "from itertools import combinations\n",
    "from livelossplot import PlotLosses\n",
    "from tqdm import tqdm\n",
    "\n",
    "\n",
    "def extract_subgraphs_and_indicators(graph, size_m, embedding_dim=16):\n",
    "    subgraph_embeddings = []\n",
    "    indicators = []\n",
    "    for node_set in combinations(graph.nodes(), size_m):\n",
    "        subgraph = graph.subgraph(node_set)\n",
    "        if len(subgraph.edges()) > 0:  # ensure there's at least one edge in the subgraph\n",
    "\n",
    "            # Compute the WL embedding for the subgraph\n",
    "            #wl_embedding = compute_WL_embedding(subgraph)\n",
    "            # TODO: replace by true WL embedding\n",
    "            wl_embedding = torch.rand(embedding_dim, 1)\n",
    "            subgraph_embeddings.append(wl_embedding)\n",
    "\n",
    "            # Create the indicator for nodes in the subgraph\n",
    "            indicator = [1 if node in node_set else 0 for node in graph.nodes()]\n",
    "            indicators.append(indicator)\n",
    "\n",
    "    return subgraph_embeddings, indicators\n",
    "\n",
    "\n",
    "n = 10\n",
    "m = 5\n",
    "embedding_dim = 5\n",
    "\n",
    "# Step 1: Construct a graph and generate its subgraphs\n",
    "G = nx.erdos_renyi_graph(n=n, p=0.5)\n",
    "\n",
    "# Extract all subgraphs of size m=10\n",
    "subgraph_embeddings, indicators = extract_subgraphs_and_indicators(G, m, embedding_dim)\n"
   ]
  },
  {
   "cell_type": "code",
   "execution_count": 237,
   "outputs": [],
   "source": [
    "# Create a dataset\n",
    "class GraphDataset(torch.utils.data.Dataset):\n",
    "    def __init__(self, graph, indicators, subgraph_embeddings):\n",
    "        super(GraphDataset, self).__init__()\n",
    "        self.graph = graph\n",
    "        self.indicators = indicators\n",
    "        self.subgraph_embeddings = subgraph_embeddings\n",
    "\n",
    "    def __len__(self):\n",
    "        return len(self.indicators)\n",
    "\n",
    "    def __getitem__(self, idx):\n",
    "        # Convert graph to Data object for PyTorch Geometric\n",
    "        edge_index = torch.tensor(list(self.graph.edges)).t().contiguous()\n",
    "\n",
    "        # Assign the indicator as the node feature\n",
    "        x = torch.tensor(self.indicators[idx], dtype=torch.float).view(-1, 1)\n",
    "\n",
    "        # The corresponding WL embedding for the subgraph\n",
    "        y = torch.tensor(self.subgraph_embeddings[idx], dtype=torch.float)\n",
    "\n",
    "        data = Data(x=x, edge_index=edge_index, y=y)\n",
    "        return data\n",
    "\n",
    "\n",
    "batch_size = 8\n",
    "dataset = GraphDataset(G, indicators, subgraph_embeddings)\n",
    "loader = DataLoader(dataset, batch_size=batch_size, shuffle=True)\n"
   ],
   "metadata": {
    "collapsed": false,
    "ExecuteTime": {
     "end_time": "2024-02-01T15:11:58.647062Z",
     "start_time": "2024-02-01T15:11:58.645401Z"
    }
   },
   "id": "f3edb2f6c2e77138"
  },
  {
   "cell_type": "code",
   "execution_count": 238,
   "outputs": [],
   "source": [
    "\n",
    "class GCN(torch.nn.Module):\n",
    "    def __init__(self, input_channels, hidden_channels, output_channels, num_layers):\n",
    "        super(GCN, self).__init__()\n",
    "\n",
    "        self.num_layers = num_layers\n",
    "\n",
    "        # Define the first layer\n",
    "        self.convs = torch.nn.ModuleList()\n",
    "        self.convs.append(GCNConv(input_channels, hidden_channels))\n",
    "\n",
    "        # Define the hidden layers\n",
    "        for _ in range(\n",
    "                num_layers - 2):  # -2 because we manually define the first and last layers\n",
    "            self.convs.append(GCNConv(hidden_channels, hidden_channels))\n",
    "\n",
    "        # Define the output layer\n",
    "        self.convs.append(GCNConv(hidden_channels, output_channels))\n",
    "\n",
    "    def forward(self, data):\n",
    "        x, edge_index = data.x, data.edge_index\n",
    "\n",
    "        # Apply the first layer\n",
    "        x = self.convs[0](x, edge_index)\n",
    "        x = F.relu(x)\n",
    "\n",
    "        # Apply the hidden layers\n",
    "        for i in range(1, self.num_layers - 1):\n",
    "            x = self.convs[i](x, edge_index)\n",
    "            x = F.relu(x)\n",
    "\n",
    "        # Apply the output layer\n",
    "        x = self.convs[self.num_layers - 1](x, edge_index)\n",
    "        x = global_mean_pool(x, data.batch)  # Pool to graph level\n",
    "\n",
    "        return x\n",
    "\n",
    "# Example usage:\n",
    "#model = GCN(input_channels=1, hidden_channels=16, output_channels=16, num_layers=3)\n"
   ],
   "metadata": {
    "collapsed": false,
    "ExecuteTime": {
     "end_time": "2024-02-01T15:11:58.658683Z",
     "start_time": "2024-02-01T15:11:58.653667Z"
    }
   },
   "id": "f11320265ef1b85e"
  },
  {
   "cell_type": "code",
   "execution_count": 239,
   "outputs": [],
   "source": [
    "\n",
    "input_dim = 1\n",
    "hidden_dim = 32\n",
    "output_dim = embedding_dim\n",
    "num_layers = 5\n",
    "kernel_size = n  # for pooling\n",
    "model = GCN(input_dim, hidden_dim, output_dim,\n",
    "            num_layers)  # 1 input feature, 32 hidden features, 16 output features (embedding size)\n"
   ],
   "metadata": {
    "collapsed": false,
    "ExecuteTime": {
     "end_time": "2024-02-01T15:11:58.680475Z",
     "start_time": "2024-02-01T15:11:58.673922Z"
    }
   },
   "id": "64c03e6dfddce898"
  },
  {
   "cell_type": "code",
   "execution_count": 240,
   "outputs": [
    {
     "name": "stderr",
     "output_type": "stream",
     "text": [
      " 51%|█████     | 51/100 [00:13<00:12,  3.89it/s]\n"
     ]
    },
    {
     "ename": "KeyboardInterrupt",
     "evalue": "",
     "output_type": "error",
     "traceback": [
      "\u001B[0;31m---------------------------------------------------------------------------\u001B[0m",
      "\u001B[0;31mKeyboardInterrupt\u001B[0m                         Traceback (most recent call last)",
      "Cell \u001B[0;32mIn[240], line 36\u001B[0m\n\u001B[1;32m     31\u001B[0m             liveloss\u001B[38;5;241m.\u001B[39msend()\n\u001B[1;32m     33\u001B[0m     \u001B[38;5;28mprint\u001B[39m(\u001B[38;5;124m'\u001B[39m\u001B[38;5;124mFinished Training\u001B[39m\u001B[38;5;124m'\u001B[39m)\n\u001B[0;32m---> 36\u001B[0m \u001B[43mtrain\u001B[49m\u001B[43m(\u001B[49m\u001B[43mmodel\u001B[49m\u001B[43m,\u001B[49m\u001B[43m \u001B[49m\u001B[43mepochs\u001B[49m\u001B[38;5;241;43m=\u001B[39;49m\u001B[38;5;241;43m100\u001B[39;49m\u001B[43m,\u001B[49m\u001B[43m \u001B[49m\u001B[43mtrain_loader\u001B[49m\u001B[38;5;241;43m=\u001B[39;49m\u001B[43mloader\u001B[49m\u001B[43m,\u001B[49m\u001B[43m \u001B[49m\u001B[43moptimizer\u001B[49m\u001B[38;5;241;43m=\u001B[39;49m\u001B[43moptimizer\u001B[49m\u001B[43m,\u001B[49m\u001B[43m \u001B[49m\u001B[43mcriterion\u001B[49m\u001B[38;5;241;43m=\u001B[39;49m\u001B[43mcriterion\u001B[49m\u001B[43m,\u001B[49m\n\u001B[1;32m     37\u001B[0m \u001B[43m      \u001B[49m\u001B[43mk_plot\u001B[49m\u001B[38;5;241;43m=\u001B[39;49m\u001B[38;5;241;43m10\u001B[39;49m\u001B[43m)\u001B[49m\n",
      "Cell \u001B[0;32mIn[240], line 31\u001B[0m, in \u001B[0;36mtrain\u001B[0;34m(model, epochs, train_loader, optimizer, criterion, k_plot)\u001B[0m\n\u001B[1;32m     29\u001B[0m     \u001B[38;5;28;01mif\u001B[39;00m np\u001B[38;5;241m.\u001B[39mmod(epoch, k_plot):\n\u001B[1;32m     30\u001B[0m         liveloss\u001B[38;5;241m.\u001B[39mupdate(logs)\n\u001B[0;32m---> 31\u001B[0m         \u001B[43mliveloss\u001B[49m\u001B[38;5;241;43m.\u001B[39;49m\u001B[43msend\u001B[49m\u001B[43m(\u001B[49m\u001B[43m)\u001B[49m\n\u001B[1;32m     33\u001B[0m \u001B[38;5;28mprint\u001B[39m(\u001B[38;5;124m'\u001B[39m\u001B[38;5;124mFinished Training\u001B[39m\u001B[38;5;124m'\u001B[39m)\n",
      "File \u001B[0;32m~/.local/share/virtualenvs/GraphMatching-LGBFh8ro/lib/python3.8/site-packages/livelossplot/plot_losses.py:41\u001B[0m, in \u001B[0;36mPlotLosses.send\u001B[0;34m(self)\u001B[0m\n\u001B[1;32m     39\u001B[0m \u001B[38;5;250m\u001B[39m\u001B[38;5;124;03m\"\"\"Method will send logs to every output class\"\"\"\u001B[39;00m\n\u001B[1;32m     40\u001B[0m \u001B[38;5;28;01mfor\u001B[39;00m output \u001B[38;5;129;01min\u001B[39;00m \u001B[38;5;28mself\u001B[39m\u001B[38;5;241m.\u001B[39moutputs:\n\u001B[0;32m---> 41\u001B[0m     \u001B[43moutput\u001B[49m\u001B[38;5;241;43m.\u001B[39;49m\u001B[43msend\u001B[49m\u001B[43m(\u001B[49m\u001B[38;5;28;43mself\u001B[39;49m\u001B[38;5;241;43m.\u001B[39;49m\u001B[43mlogger\u001B[49m\u001B[43m)\u001B[49m\n",
      "File \u001B[0;32m~/.local/share/virtualenvs/GraphMatching-LGBFh8ro/lib/python3.8/site-packages/livelossplot/outputs/matplotlib_plot.py:70\u001B[0m, in \u001B[0;36mMatplotlibPlot.send\u001B[0;34m(self, logger)\u001B[0m\n\u001B[1;32m     67\u001B[0m     ax \u001B[38;5;241m=\u001B[39m axes[(\u001B[38;5;28mlen\u001B[39m(log_groups) \u001B[38;5;241m+\u001B[39m idx) \u001B[38;5;241m/\u001B[39m\u001B[38;5;241m/\u001B[39m \u001B[38;5;28mself\u001B[39m\u001B[38;5;241m.\u001B[39mmax_cols, (\u001B[38;5;28mlen\u001B[39m(log_groups) \u001B[38;5;241m+\u001B[39m idx) \u001B[38;5;241m%\u001B[39m \u001B[38;5;28mself\u001B[39m\u001B[38;5;241m.\u001B[39mmax_cols]\n\u001B[1;32m     68\u001B[0m     extra_plot(ax, logger)\n\u001B[0;32m---> 70\u001B[0m \u001B[38;5;28;43mself\u001B[39;49m\u001B[38;5;241;43m.\u001B[39;49m\u001B[43m_after_plots\u001B[49m\u001B[43m(\u001B[49m\u001B[43mfig\u001B[49m\u001B[43m)\u001B[49m\n",
      "File \u001B[0;32m~/.local/share/virtualenvs/GraphMatching-LGBFh8ro/lib/python3.8/site-packages/livelossplot/outputs/matplotlib_plot.py:103\u001B[0m, in \u001B[0;36mMatplotlibPlot._default_after_plots\u001B[0;34m(self, fig)\u001B[0m\n\u001B[1;32m     98\u001B[0m \u001B[38;5;28;01mdef\u001B[39;00m \u001B[38;5;21m_default_after_plots\u001B[39m(\u001B[38;5;28mself\u001B[39m, fig: plt\u001B[38;5;241m.\u001B[39mFigure):\n\u001B[1;32m     99\u001B[0m \u001B[38;5;250m    \u001B[39m\u001B[38;5;124;03m\"\"\"Set properties after charts creation\u001B[39;00m\n\u001B[1;32m    100\u001B[0m \u001B[38;5;124;03m    Args:\u001B[39;00m\n\u001B[1;32m    101\u001B[0m \u001B[38;5;124;03m        fig: matplotlib Figure\u001B[39;00m\n\u001B[1;32m    102\u001B[0m \u001B[38;5;124;03m    \"\"\"\u001B[39;00m\n\u001B[0;32m--> 103\u001B[0m     \u001B[43mfig\u001B[49m\u001B[38;5;241;43m.\u001B[39;49m\u001B[43mtight_layout\u001B[49m\u001B[43m(\u001B[49m\u001B[43m)\u001B[49m\n\u001B[1;32m    104\u001B[0m     \u001B[38;5;28;01mif\u001B[39;00m \u001B[38;5;28mself\u001B[39m\u001B[38;5;241m.\u001B[39mfigpath \u001B[38;5;129;01mis\u001B[39;00m \u001B[38;5;129;01mnot\u001B[39;00m \u001B[38;5;28;01mNone\u001B[39;00m:\n\u001B[1;32m    105\u001B[0m         fig\u001B[38;5;241m.\u001B[39msavefig(\u001B[38;5;28mself\u001B[39m\u001B[38;5;241m.\u001B[39mfigpath\u001B[38;5;241m.\u001B[39mformat(i\u001B[38;5;241m=\u001B[39m\u001B[38;5;28mself\u001B[39m\u001B[38;5;241m.\u001B[39mfile_idx))\n",
      "File \u001B[0;32m~/.local/share/virtualenvs/GraphMatching-LGBFh8ro/lib/python3.8/site-packages/matplotlib/figure.py:3543\u001B[0m, in \u001B[0;36mFigure.tight_layout\u001B[0;34m(self, pad, h_pad, w_pad, rect)\u001B[0m\n\u001B[1;32m   3541\u001B[0m previous_engine \u001B[38;5;241m=\u001B[39m \u001B[38;5;28mself\u001B[39m\u001B[38;5;241m.\u001B[39mget_layout_engine()\n\u001B[1;32m   3542\u001B[0m \u001B[38;5;28mself\u001B[39m\u001B[38;5;241m.\u001B[39mset_layout_engine(engine)\n\u001B[0;32m-> 3543\u001B[0m \u001B[43mengine\u001B[49m\u001B[38;5;241;43m.\u001B[39;49m\u001B[43mexecute\u001B[49m\u001B[43m(\u001B[49m\u001B[38;5;28;43mself\u001B[39;49m\u001B[43m)\u001B[49m\n\u001B[1;32m   3544\u001B[0m \u001B[38;5;28;01mif\u001B[39;00m previous_engine \u001B[38;5;129;01mis\u001B[39;00m \u001B[38;5;129;01mnot\u001B[39;00m \u001B[38;5;28;01mNone\u001B[39;00m \u001B[38;5;129;01mand\u001B[39;00m \u001B[38;5;129;01mnot\u001B[39;00m \u001B[38;5;28misinstance\u001B[39m(\n\u001B[1;32m   3545\u001B[0m     previous_engine, (TightLayoutEngine, PlaceHolderLayoutEngine)\n\u001B[1;32m   3546\u001B[0m ):\n\u001B[1;32m   3547\u001B[0m     _api\u001B[38;5;241m.\u001B[39mwarn_external(\u001B[38;5;124m'\u001B[39m\u001B[38;5;124mThe figure layout has changed to tight\u001B[39m\u001B[38;5;124m'\u001B[39m)\n",
      "File \u001B[0;32m~/.local/share/virtualenvs/GraphMatching-LGBFh8ro/lib/python3.8/site-packages/matplotlib/layout_engine.py:184\u001B[0m, in \u001B[0;36mTightLayoutEngine.execute\u001B[0;34m(self, fig)\u001B[0m\n\u001B[1;32m    182\u001B[0m renderer \u001B[38;5;241m=\u001B[39m fig\u001B[38;5;241m.\u001B[39m_get_renderer()\n\u001B[1;32m    183\u001B[0m \u001B[38;5;28;01mwith\u001B[39;00m \u001B[38;5;28mgetattr\u001B[39m(renderer, \u001B[38;5;124m\"\u001B[39m\u001B[38;5;124m_draw_disabled\u001B[39m\u001B[38;5;124m\"\u001B[39m, nullcontext)():\n\u001B[0;32m--> 184\u001B[0m     kwargs \u001B[38;5;241m=\u001B[39m \u001B[43mget_tight_layout_figure\u001B[49m\u001B[43m(\u001B[49m\n\u001B[1;32m    185\u001B[0m \u001B[43m        \u001B[49m\u001B[43mfig\u001B[49m\u001B[43m,\u001B[49m\u001B[43m \u001B[49m\u001B[43mfig\u001B[49m\u001B[38;5;241;43m.\u001B[39;49m\u001B[43maxes\u001B[49m\u001B[43m,\u001B[49m\u001B[43m \u001B[49m\u001B[43mget_subplotspec_list\u001B[49m\u001B[43m(\u001B[49m\u001B[43mfig\u001B[49m\u001B[38;5;241;43m.\u001B[39;49m\u001B[43maxes\u001B[49m\u001B[43m)\u001B[49m\u001B[43m,\u001B[49m\u001B[43m \u001B[49m\u001B[43mrenderer\u001B[49m\u001B[43m,\u001B[49m\n\u001B[1;32m    186\u001B[0m \u001B[43m        \u001B[49m\u001B[43mpad\u001B[49m\u001B[38;5;241;43m=\u001B[39;49m\u001B[43minfo\u001B[49m\u001B[43m[\u001B[49m\u001B[38;5;124;43m'\u001B[39;49m\u001B[38;5;124;43mpad\u001B[39;49m\u001B[38;5;124;43m'\u001B[39;49m\u001B[43m]\u001B[49m\u001B[43m,\u001B[49m\u001B[43m \u001B[49m\u001B[43mh_pad\u001B[49m\u001B[38;5;241;43m=\u001B[39;49m\u001B[43minfo\u001B[49m\u001B[43m[\u001B[49m\u001B[38;5;124;43m'\u001B[39;49m\u001B[38;5;124;43mh_pad\u001B[39;49m\u001B[38;5;124;43m'\u001B[39;49m\u001B[43m]\u001B[49m\u001B[43m,\u001B[49m\u001B[43m \u001B[49m\u001B[43mw_pad\u001B[49m\u001B[38;5;241;43m=\u001B[39;49m\u001B[43minfo\u001B[49m\u001B[43m[\u001B[49m\u001B[38;5;124;43m'\u001B[39;49m\u001B[38;5;124;43mw_pad\u001B[39;49m\u001B[38;5;124;43m'\u001B[39;49m\u001B[43m]\u001B[49m\u001B[43m,\u001B[49m\n\u001B[1;32m    187\u001B[0m \u001B[43m        \u001B[49m\u001B[43mrect\u001B[49m\u001B[38;5;241;43m=\u001B[39;49m\u001B[43minfo\u001B[49m\u001B[43m[\u001B[49m\u001B[38;5;124;43m'\u001B[39;49m\u001B[38;5;124;43mrect\u001B[39;49m\u001B[38;5;124;43m'\u001B[39;49m\u001B[43m]\u001B[49m\u001B[43m)\u001B[49m\n\u001B[1;32m    188\u001B[0m \u001B[38;5;28;01mif\u001B[39;00m kwargs:\n\u001B[1;32m    189\u001B[0m     fig\u001B[38;5;241m.\u001B[39msubplots_adjust(\u001B[38;5;241m*\u001B[39m\u001B[38;5;241m*\u001B[39mkwargs)\n",
      "File \u001B[0;32m~/.local/share/virtualenvs/GraphMatching-LGBFh8ro/lib/python3.8/site-packages/matplotlib/_tight_layout.py:266\u001B[0m, in \u001B[0;36mget_tight_layout_figure\u001B[0;34m(fig, axes_list, subplotspec_list, renderer, pad, h_pad, w_pad, rect)\u001B[0m\n\u001B[1;32m    261\u001B[0m         \u001B[38;5;28;01mreturn\u001B[39;00m {}\n\u001B[1;32m    262\u001B[0m     span_pairs\u001B[38;5;241m.\u001B[39mappend((\n\u001B[1;32m    263\u001B[0m         \u001B[38;5;28mslice\u001B[39m(ss\u001B[38;5;241m.\u001B[39mrowspan\u001B[38;5;241m.\u001B[39mstart \u001B[38;5;241m*\u001B[39m div_row, ss\u001B[38;5;241m.\u001B[39mrowspan\u001B[38;5;241m.\u001B[39mstop \u001B[38;5;241m*\u001B[39m div_row),\n\u001B[1;32m    264\u001B[0m         \u001B[38;5;28mslice\u001B[39m(ss\u001B[38;5;241m.\u001B[39mcolspan\u001B[38;5;241m.\u001B[39mstart \u001B[38;5;241m*\u001B[39m div_col, ss\u001B[38;5;241m.\u001B[39mcolspan\u001B[38;5;241m.\u001B[39mstop \u001B[38;5;241m*\u001B[39m div_col)))\n\u001B[0;32m--> 266\u001B[0m kwargs \u001B[38;5;241m=\u001B[39m \u001B[43m_auto_adjust_subplotpars\u001B[49m\u001B[43m(\u001B[49m\u001B[43mfig\u001B[49m\u001B[43m,\u001B[49m\u001B[43m \u001B[49m\u001B[43mrenderer\u001B[49m\u001B[43m,\u001B[49m\n\u001B[1;32m    267\u001B[0m \u001B[43m                                  \u001B[49m\u001B[43mshape\u001B[49m\u001B[38;5;241;43m=\u001B[39;49m\u001B[43m(\u001B[49m\u001B[43mmax_nrows\u001B[49m\u001B[43m,\u001B[49m\u001B[43m \u001B[49m\u001B[43mmax_ncols\u001B[49m\u001B[43m)\u001B[49m\u001B[43m,\u001B[49m\n\u001B[1;32m    268\u001B[0m \u001B[43m                                  \u001B[49m\u001B[43mspan_pairs\u001B[49m\u001B[38;5;241;43m=\u001B[39;49m\u001B[43mspan_pairs\u001B[49m\u001B[43m,\u001B[49m\n\u001B[1;32m    269\u001B[0m \u001B[43m                                  \u001B[49m\u001B[43msubplot_list\u001B[49m\u001B[38;5;241;43m=\u001B[39;49m\u001B[43msubplot_list\u001B[49m\u001B[43m,\u001B[49m\n\u001B[1;32m    270\u001B[0m \u001B[43m                                  \u001B[49m\u001B[43max_bbox_list\u001B[49m\u001B[38;5;241;43m=\u001B[39;49m\u001B[43max_bbox_list\u001B[49m\u001B[43m,\u001B[49m\n\u001B[1;32m    271\u001B[0m \u001B[43m                                  \u001B[49m\u001B[43mpad\u001B[49m\u001B[38;5;241;43m=\u001B[39;49m\u001B[43mpad\u001B[49m\u001B[43m,\u001B[49m\u001B[43m \u001B[49m\u001B[43mh_pad\u001B[49m\u001B[38;5;241;43m=\u001B[39;49m\u001B[43mh_pad\u001B[49m\u001B[43m,\u001B[49m\u001B[43m \u001B[49m\u001B[43mw_pad\u001B[49m\u001B[38;5;241;43m=\u001B[39;49m\u001B[43mw_pad\u001B[49m\u001B[43m)\u001B[49m\n\u001B[1;32m    273\u001B[0m \u001B[38;5;66;03m# kwargs can be none if tight_layout fails...\u001B[39;00m\n\u001B[1;32m    274\u001B[0m \u001B[38;5;28;01mif\u001B[39;00m rect \u001B[38;5;129;01mis\u001B[39;00m \u001B[38;5;129;01mnot\u001B[39;00m \u001B[38;5;28;01mNone\u001B[39;00m \u001B[38;5;129;01mand\u001B[39;00m kwargs \u001B[38;5;129;01mis\u001B[39;00m \u001B[38;5;129;01mnot\u001B[39;00m \u001B[38;5;28;01mNone\u001B[39;00m:\n\u001B[1;32m    275\u001B[0m     \u001B[38;5;66;03m# if rect is given, the whole subplots area (including\u001B[39;00m\n\u001B[1;32m    276\u001B[0m     \u001B[38;5;66;03m# labels) will fit into the rect instead of the\u001B[39;00m\n\u001B[0;32m   (...)\u001B[0m\n\u001B[1;32m    280\u001B[0m     \u001B[38;5;66;03m# auto_adjust_subplotpars twice, where the second run\u001B[39;00m\n\u001B[1;32m    281\u001B[0m     \u001B[38;5;66;03m# with adjusted rect parameters.\u001B[39;00m\n",
      "File \u001B[0;32m~/.local/share/virtualenvs/GraphMatching-LGBFh8ro/lib/python3.8/site-packages/matplotlib/_tight_layout.py:82\u001B[0m, in \u001B[0;36m_auto_adjust_subplotpars\u001B[0;34m(fig, renderer, shape, span_pairs, subplot_list, ax_bbox_list, pad, h_pad, w_pad, rect)\u001B[0m\n\u001B[1;32m     80\u001B[0m \u001B[38;5;28;01mfor\u001B[39;00m ax \u001B[38;5;129;01min\u001B[39;00m subplots:\n\u001B[1;32m     81\u001B[0m     \u001B[38;5;28;01mif\u001B[39;00m ax\u001B[38;5;241m.\u001B[39mget_visible():\n\u001B[0;32m---> 82\u001B[0m         bb \u001B[38;5;241m+\u001B[39m\u001B[38;5;241m=\u001B[39m [\u001B[43mmartist\u001B[49m\u001B[38;5;241;43m.\u001B[39;49m\u001B[43m_get_tightbbox_for_layout_only\u001B[49m\u001B[43m(\u001B[49m\u001B[43max\u001B[49m\u001B[43m,\u001B[49m\u001B[43m \u001B[49m\u001B[43mrenderer\u001B[49m\u001B[43m)\u001B[49m]\n\u001B[1;32m     84\u001B[0m tight_bbox_raw \u001B[38;5;241m=\u001B[39m Bbox\u001B[38;5;241m.\u001B[39munion(bb)\n\u001B[1;32m     85\u001B[0m tight_bbox \u001B[38;5;241m=\u001B[39m fig\u001B[38;5;241m.\u001B[39mtransFigure\u001B[38;5;241m.\u001B[39minverted()\u001B[38;5;241m.\u001B[39mtransform_bbox(tight_bbox_raw)\n",
      "File \u001B[0;32m~/.local/share/virtualenvs/GraphMatching-LGBFh8ro/lib/python3.8/site-packages/matplotlib/artist.py:1415\u001B[0m, in \u001B[0;36m_get_tightbbox_for_layout_only\u001B[0;34m(obj, *args, **kwargs)\u001B[0m\n\u001B[1;32m   1409\u001B[0m \u001B[38;5;250m\u001B[39m\u001B[38;5;124;03m\"\"\"\u001B[39;00m\n\u001B[1;32m   1410\u001B[0m \u001B[38;5;124;03mMatplotlib's `.Axes.get_tightbbox` and `.Axis.get_tightbbox` support a\u001B[39;00m\n\u001B[1;32m   1411\u001B[0m \u001B[38;5;124;03m*for_layout_only* kwarg; this helper tries to use the kwarg but skips it\u001B[39;00m\n\u001B[1;32m   1412\u001B[0m \u001B[38;5;124;03mwhen encountering third-party subclasses that do not support it.\u001B[39;00m\n\u001B[1;32m   1413\u001B[0m \u001B[38;5;124;03m\"\"\"\u001B[39;00m\n\u001B[1;32m   1414\u001B[0m \u001B[38;5;28;01mtry\u001B[39;00m:\n\u001B[0;32m-> 1415\u001B[0m     \u001B[38;5;28;01mreturn\u001B[39;00m \u001B[43mobj\u001B[49m\u001B[38;5;241;43m.\u001B[39;49m\u001B[43mget_tightbbox\u001B[49m\u001B[43m(\u001B[49m\u001B[38;5;241;43m*\u001B[39;49m\u001B[43margs\u001B[49m\u001B[43m,\u001B[49m\u001B[43m \u001B[49m\u001B[38;5;241;43m*\u001B[39;49m\u001B[38;5;241;43m*\u001B[39;49m\u001B[43m{\u001B[49m\u001B[38;5;241;43m*\u001B[39;49m\u001B[38;5;241;43m*\u001B[39;49m\u001B[43mkwargs\u001B[49m\u001B[43m,\u001B[49m\u001B[43m \u001B[49m\u001B[38;5;124;43m\"\u001B[39;49m\u001B[38;5;124;43mfor_layout_only\u001B[39;49m\u001B[38;5;124;43m\"\u001B[39;49m\u001B[43m:\u001B[49m\u001B[43m \u001B[49m\u001B[38;5;28;43;01mTrue\u001B[39;49;00m\u001B[43m}\u001B[49m\u001B[43m)\u001B[49m\n\u001B[1;32m   1416\u001B[0m \u001B[38;5;28;01mexcept\u001B[39;00m \u001B[38;5;167;01mTypeError\u001B[39;00m:\n\u001B[1;32m   1417\u001B[0m     \u001B[38;5;28;01mreturn\u001B[39;00m obj\u001B[38;5;241m.\u001B[39mget_tightbbox(\u001B[38;5;241m*\u001B[39margs, \u001B[38;5;241m*\u001B[39m\u001B[38;5;241m*\u001B[39mkwargs)\n",
      "File \u001B[0;32m~/.local/share/virtualenvs/GraphMatching-LGBFh8ro/lib/python3.8/site-packages/matplotlib/axes/_base.py:4387\u001B[0m, in \u001B[0;36m_AxesBase.get_tightbbox\u001B[0;34m(self, renderer, call_axes_locator, bbox_extra_artists, for_layout_only)\u001B[0m\n\u001B[1;32m   4385\u001B[0m \u001B[38;5;28;01mfor\u001B[39;00m axis \u001B[38;5;129;01min\u001B[39;00m \u001B[38;5;28mself\u001B[39m\u001B[38;5;241m.\u001B[39m_axis_map\u001B[38;5;241m.\u001B[39mvalues():\n\u001B[1;32m   4386\u001B[0m     \u001B[38;5;28;01mif\u001B[39;00m \u001B[38;5;28mself\u001B[39m\u001B[38;5;241m.\u001B[39maxison \u001B[38;5;129;01mand\u001B[39;00m axis\u001B[38;5;241m.\u001B[39mget_visible():\n\u001B[0;32m-> 4387\u001B[0m         ba \u001B[38;5;241m=\u001B[39m \u001B[43mmartist\u001B[49m\u001B[38;5;241;43m.\u001B[39;49m\u001B[43m_get_tightbbox_for_layout_only\u001B[49m\u001B[43m(\u001B[49m\u001B[43maxis\u001B[49m\u001B[43m,\u001B[49m\u001B[43m \u001B[49m\u001B[43mrenderer\u001B[49m\u001B[43m)\u001B[49m\n\u001B[1;32m   4388\u001B[0m         \u001B[38;5;28;01mif\u001B[39;00m ba:\n\u001B[1;32m   4389\u001B[0m             bb\u001B[38;5;241m.\u001B[39mappend(ba)\n",
      "File \u001B[0;32m~/.local/share/virtualenvs/GraphMatching-LGBFh8ro/lib/python3.8/site-packages/matplotlib/artist.py:1415\u001B[0m, in \u001B[0;36m_get_tightbbox_for_layout_only\u001B[0;34m(obj, *args, **kwargs)\u001B[0m\n\u001B[1;32m   1409\u001B[0m \u001B[38;5;250m\u001B[39m\u001B[38;5;124;03m\"\"\"\u001B[39;00m\n\u001B[1;32m   1410\u001B[0m \u001B[38;5;124;03mMatplotlib's `.Axes.get_tightbbox` and `.Axis.get_tightbbox` support a\u001B[39;00m\n\u001B[1;32m   1411\u001B[0m \u001B[38;5;124;03m*for_layout_only* kwarg; this helper tries to use the kwarg but skips it\u001B[39;00m\n\u001B[1;32m   1412\u001B[0m \u001B[38;5;124;03mwhen encountering third-party subclasses that do not support it.\u001B[39;00m\n\u001B[1;32m   1413\u001B[0m \u001B[38;5;124;03m\"\"\"\u001B[39;00m\n\u001B[1;32m   1414\u001B[0m \u001B[38;5;28;01mtry\u001B[39;00m:\n\u001B[0;32m-> 1415\u001B[0m     \u001B[38;5;28;01mreturn\u001B[39;00m \u001B[43mobj\u001B[49m\u001B[38;5;241;43m.\u001B[39;49m\u001B[43mget_tightbbox\u001B[49m\u001B[43m(\u001B[49m\u001B[38;5;241;43m*\u001B[39;49m\u001B[43margs\u001B[49m\u001B[43m,\u001B[49m\u001B[43m \u001B[49m\u001B[38;5;241;43m*\u001B[39;49m\u001B[38;5;241;43m*\u001B[39;49m\u001B[43m{\u001B[49m\u001B[38;5;241;43m*\u001B[39;49m\u001B[38;5;241;43m*\u001B[39;49m\u001B[43mkwargs\u001B[49m\u001B[43m,\u001B[49m\u001B[43m \u001B[49m\u001B[38;5;124;43m\"\u001B[39;49m\u001B[38;5;124;43mfor_layout_only\u001B[39;49m\u001B[38;5;124;43m\"\u001B[39;49m\u001B[43m:\u001B[49m\u001B[43m \u001B[49m\u001B[38;5;28;43;01mTrue\u001B[39;49;00m\u001B[43m}\u001B[49m\u001B[43m)\u001B[49m\n\u001B[1;32m   1416\u001B[0m \u001B[38;5;28;01mexcept\u001B[39;00m \u001B[38;5;167;01mTypeError\u001B[39;00m:\n\u001B[1;32m   1417\u001B[0m     \u001B[38;5;28;01mreturn\u001B[39;00m obj\u001B[38;5;241m.\u001B[39mget_tightbbox(\u001B[38;5;241m*\u001B[39margs, \u001B[38;5;241m*\u001B[39m\u001B[38;5;241m*\u001B[39mkwargs)\n",
      "File \u001B[0;32m~/.local/share/virtualenvs/GraphMatching-LGBFh8ro/lib/python3.8/site-packages/matplotlib/axis.py:1335\u001B[0m, in \u001B[0;36mAxis.get_tightbbox\u001B[0;34m(self, renderer, for_layout_only)\u001B[0m\n\u001B[1;32m   1333\u001B[0m \u001B[38;5;28;01mif\u001B[39;00m renderer \u001B[38;5;129;01mis\u001B[39;00m \u001B[38;5;28;01mNone\u001B[39;00m:\n\u001B[1;32m   1334\u001B[0m     renderer \u001B[38;5;241m=\u001B[39m \u001B[38;5;28mself\u001B[39m\u001B[38;5;241m.\u001B[39mfigure\u001B[38;5;241m.\u001B[39m_get_renderer()\n\u001B[0;32m-> 1335\u001B[0m ticks_to_draw \u001B[38;5;241m=\u001B[39m \u001B[38;5;28;43mself\u001B[39;49m\u001B[38;5;241;43m.\u001B[39;49m\u001B[43m_update_ticks\u001B[49m\u001B[43m(\u001B[49m\u001B[43m)\u001B[49m\n\u001B[1;32m   1337\u001B[0m \u001B[38;5;28mself\u001B[39m\u001B[38;5;241m.\u001B[39m_update_label_position(renderer)\n\u001B[1;32m   1339\u001B[0m \u001B[38;5;66;03m# go back to just this axis's tick labels\u001B[39;00m\n",
      "File \u001B[0;32m~/.local/share/virtualenvs/GraphMatching-LGBFh8ro/lib/python3.8/site-packages/matplotlib/axis.py:1274\u001B[0m, in \u001B[0;36mAxis._update_ticks\u001B[0;34m(self)\u001B[0m\n\u001B[1;32m   1269\u001B[0m \u001B[38;5;28;01mdef\u001B[39;00m \u001B[38;5;21m_update_ticks\u001B[39m(\u001B[38;5;28mself\u001B[39m):\n\u001B[1;32m   1270\u001B[0m \u001B[38;5;250m    \u001B[39m\u001B[38;5;124;03m\"\"\"\u001B[39;00m\n\u001B[1;32m   1271\u001B[0m \u001B[38;5;124;03m    Update ticks (position and labels) using the current data interval of\u001B[39;00m\n\u001B[1;32m   1272\u001B[0m \u001B[38;5;124;03m    the axes.  Return the list of ticks that will be drawn.\u001B[39;00m\n\u001B[1;32m   1273\u001B[0m \u001B[38;5;124;03m    \"\"\"\u001B[39;00m\n\u001B[0;32m-> 1274\u001B[0m     major_locs \u001B[38;5;241m=\u001B[39m \u001B[38;5;28;43mself\u001B[39;49m\u001B[38;5;241;43m.\u001B[39;49m\u001B[43mget_majorticklocs\u001B[49m\u001B[43m(\u001B[49m\u001B[43m)\u001B[49m\n\u001B[1;32m   1275\u001B[0m     major_labels \u001B[38;5;241m=\u001B[39m \u001B[38;5;28mself\u001B[39m\u001B[38;5;241m.\u001B[39mmajor\u001B[38;5;241m.\u001B[39mformatter\u001B[38;5;241m.\u001B[39mformat_ticks(major_locs)\n\u001B[1;32m   1276\u001B[0m     major_ticks \u001B[38;5;241m=\u001B[39m \u001B[38;5;28mself\u001B[39m\u001B[38;5;241m.\u001B[39mget_major_ticks(\u001B[38;5;28mlen\u001B[39m(major_locs))\n",
      "File \u001B[0;32m~/.local/share/virtualenvs/GraphMatching-LGBFh8ro/lib/python3.8/site-packages/matplotlib/axis.py:1496\u001B[0m, in \u001B[0;36mAxis.get_majorticklocs\u001B[0;34m(self)\u001B[0m\n\u001B[1;32m   1494\u001B[0m \u001B[38;5;28;01mdef\u001B[39;00m \u001B[38;5;21mget_majorticklocs\u001B[39m(\u001B[38;5;28mself\u001B[39m):\n\u001B[1;32m   1495\u001B[0m \u001B[38;5;250m    \u001B[39m\u001B[38;5;124;03m\"\"\"Return this Axis' major tick locations in data coordinates.\"\"\"\u001B[39;00m\n\u001B[0;32m-> 1496\u001B[0m     \u001B[38;5;28;01mreturn\u001B[39;00m \u001B[38;5;28;43mself\u001B[39;49m\u001B[38;5;241;43m.\u001B[39;49m\u001B[43mmajor\u001B[49m\u001B[38;5;241;43m.\u001B[39;49m\u001B[43mlocator\u001B[49m\u001B[43m(\u001B[49m\u001B[43m)\u001B[49m\n",
      "File \u001B[0;32m~/.local/share/virtualenvs/GraphMatching-LGBFh8ro/lib/python3.8/site-packages/matplotlib/ticker.py:2135\u001B[0m, in \u001B[0;36mMaxNLocator.__call__\u001B[0;34m(self)\u001B[0m\n\u001B[1;32m   2134\u001B[0m \u001B[38;5;28;01mdef\u001B[39;00m \u001B[38;5;21m__call__\u001B[39m(\u001B[38;5;28mself\u001B[39m):\n\u001B[0;32m-> 2135\u001B[0m     vmin, vmax \u001B[38;5;241m=\u001B[39m \u001B[38;5;28;43mself\u001B[39;49m\u001B[38;5;241;43m.\u001B[39;49m\u001B[43maxis\u001B[49m\u001B[38;5;241;43m.\u001B[39;49m\u001B[43mget_view_interval\u001B[49m\u001B[43m(\u001B[49m\u001B[43m)\u001B[49m\n\u001B[1;32m   2136\u001B[0m     \u001B[38;5;28;01mreturn\u001B[39;00m \u001B[38;5;28mself\u001B[39m\u001B[38;5;241m.\u001B[39mtick_values(vmin, vmax)\n",
      "File \u001B[0;32m~/.local/share/virtualenvs/GraphMatching-LGBFh8ro/lib/python3.8/site-packages/matplotlib/axis.py:2255\u001B[0m, in \u001B[0;36m_make_getset_interval.<locals>.getter\u001B[0;34m(self)\u001B[0m\n\u001B[1;32m   2253\u001B[0m \u001B[38;5;28;01mdef\u001B[39;00m \u001B[38;5;21mgetter\u001B[39m(\u001B[38;5;28mself\u001B[39m):\n\u001B[1;32m   2254\u001B[0m     \u001B[38;5;66;03m# docstring inherited.\u001B[39;00m\n\u001B[0;32m-> 2255\u001B[0m     \u001B[38;5;28;01mreturn\u001B[39;00m \u001B[38;5;28mgetattr\u001B[39m(\u001B[38;5;28;43mgetattr\u001B[39;49m\u001B[43m(\u001B[49m\u001B[38;5;28;43mself\u001B[39;49m\u001B[38;5;241;43m.\u001B[39;49m\u001B[43maxes\u001B[49m\u001B[43m,\u001B[49m\u001B[43m \u001B[49m\u001B[43mlim_name\u001B[49m\u001B[43m)\u001B[49m, attr_name)\n",
      "File \u001B[0;32m~/.local/share/virtualenvs/GraphMatching-LGBFh8ro/lib/python3.8/site-packages/matplotlib/axes/_base.py:857\u001B[0m, in \u001B[0;36m_AxesBase.viewLim\u001B[0;34m(self)\u001B[0m\n\u001B[1;32m    855\u001B[0m \u001B[38;5;129m@property\u001B[39m\n\u001B[1;32m    856\u001B[0m \u001B[38;5;28;01mdef\u001B[39;00m \u001B[38;5;21mviewLim\u001B[39m(\u001B[38;5;28mself\u001B[39m):\n\u001B[0;32m--> 857\u001B[0m     \u001B[38;5;28;43mself\u001B[39;49m\u001B[38;5;241;43m.\u001B[39;49m\u001B[43m_unstale_viewLim\u001B[49m\u001B[43m(\u001B[49m\u001B[43m)\u001B[49m\n\u001B[1;32m    858\u001B[0m     \u001B[38;5;28;01mreturn\u001B[39;00m \u001B[38;5;28mself\u001B[39m\u001B[38;5;241m.\u001B[39m_viewLim\n",
      "File \u001B[0;32m~/.local/share/virtualenvs/GraphMatching-LGBFh8ro/lib/python3.8/site-packages/matplotlib/axes/_base.py:852\u001B[0m, in \u001B[0;36m_AxesBase._unstale_viewLim\u001B[0;34m(self)\u001B[0m\n\u001B[1;32m    850\u001B[0m     \u001B[38;5;28;01mfor\u001B[39;00m ax \u001B[38;5;129;01min\u001B[39;00m \u001B[38;5;28mself\u001B[39m\u001B[38;5;241m.\u001B[39m_shared_axes[name]\u001B[38;5;241m.\u001B[39mget_siblings(\u001B[38;5;28mself\u001B[39m):\n\u001B[1;32m    851\u001B[0m         ax\u001B[38;5;241m.\u001B[39m_stale_viewlims[name] \u001B[38;5;241m=\u001B[39m \u001B[38;5;28;01mFalse\u001B[39;00m\n\u001B[0;32m--> 852\u001B[0m \u001B[38;5;28;43mself\u001B[39;49m\u001B[38;5;241;43m.\u001B[39;49m\u001B[43mautoscale_view\u001B[49m\u001B[43m(\u001B[49m\u001B[38;5;241;43m*\u001B[39;49m\u001B[38;5;241;43m*\u001B[39;49m\u001B[43m{\u001B[49m\u001B[38;5;124;43mf\u001B[39;49m\u001B[38;5;124;43m\"\u001B[39;49m\u001B[38;5;124;43mscale\u001B[39;49m\u001B[38;5;132;43;01m{\u001B[39;49;00m\u001B[43mname\u001B[49m\u001B[38;5;132;43;01m}\u001B[39;49;00m\u001B[38;5;124;43m\"\u001B[39;49m\u001B[43m:\u001B[49m\u001B[43m \u001B[49m\u001B[43mscale\u001B[49m\n\u001B[1;32m    853\u001B[0m \u001B[43m                       \u001B[49m\u001B[38;5;28;43;01mfor\u001B[39;49;00m\u001B[43m \u001B[49m\u001B[43mname\u001B[49m\u001B[43m,\u001B[49m\u001B[43m \u001B[49m\u001B[43mscale\u001B[49m\u001B[43m \u001B[49m\u001B[38;5;129;43;01min\u001B[39;49;00m\u001B[43m \u001B[49m\u001B[43mneed_scale\u001B[49m\u001B[38;5;241;43m.\u001B[39;49m\u001B[43mitems\u001B[49m\u001B[43m(\u001B[49m\u001B[43m)\u001B[49m\u001B[43m}\u001B[49m\u001B[43m)\u001B[49m\n",
      "File \u001B[0;32m~/.local/share/virtualenvs/GraphMatching-LGBFh8ro/lib/python3.8/site-packages/matplotlib/axes/_base.py:2859\u001B[0m, in \u001B[0;36m_AxesBase.autoscale_view\u001B[0;34m(self, tight, scalex, scaley)\u001B[0m\n\u001B[1;32m   2854\u001B[0m         x_stickies \u001B[38;5;241m=\u001B[39m np\u001B[38;5;241m.\u001B[39msort(np\u001B[38;5;241m.\u001B[39mconcatenate([\n\u001B[1;32m   2855\u001B[0m             artist\u001B[38;5;241m.\u001B[39msticky_edges\u001B[38;5;241m.\u001B[39mx\n\u001B[1;32m   2856\u001B[0m             \u001B[38;5;28;01mfor\u001B[39;00m ax \u001B[38;5;129;01min\u001B[39;00m \u001B[38;5;28mself\u001B[39m\u001B[38;5;241m.\u001B[39m_shared_axes[\u001B[38;5;124m\"\u001B[39m\u001B[38;5;124mx\u001B[39m\u001B[38;5;124m\"\u001B[39m]\u001B[38;5;241m.\u001B[39mget_siblings(\u001B[38;5;28mself\u001B[39m)\n\u001B[1;32m   2857\u001B[0m             \u001B[38;5;28;01mfor\u001B[39;00m artist \u001B[38;5;129;01min\u001B[39;00m ax\u001B[38;5;241m.\u001B[39mget_children()]))\n\u001B[1;32m   2858\u001B[0m     \u001B[38;5;28;01mif\u001B[39;00m \u001B[38;5;28mself\u001B[39m\u001B[38;5;241m.\u001B[39m_ymargin \u001B[38;5;129;01mand\u001B[39;00m scaley \u001B[38;5;129;01mand\u001B[39;00m \u001B[38;5;28mself\u001B[39m\u001B[38;5;241m.\u001B[39mget_autoscaley_on():\n\u001B[0;32m-> 2859\u001B[0m         y_stickies \u001B[38;5;241m=\u001B[39m \u001B[43mnp\u001B[49m\u001B[38;5;241;43m.\u001B[39;49m\u001B[43msort\u001B[49m\u001B[43m(\u001B[49m\u001B[43mnp\u001B[49m\u001B[38;5;241;43m.\u001B[39;49m\u001B[43mconcatenate\u001B[49m\u001B[43m(\u001B[49m\u001B[43m[\u001B[49m\n\u001B[1;32m   2860\u001B[0m \u001B[43m            \u001B[49m\u001B[43martist\u001B[49m\u001B[38;5;241;43m.\u001B[39;49m\u001B[43msticky_edges\u001B[49m\u001B[38;5;241;43m.\u001B[39;49m\u001B[43my\u001B[49m\n\u001B[1;32m   2861\u001B[0m \u001B[43m            \u001B[49m\u001B[38;5;28;43;01mfor\u001B[39;49;00m\u001B[43m \u001B[49m\u001B[43max\u001B[49m\u001B[43m \u001B[49m\u001B[38;5;129;43;01min\u001B[39;49;00m\u001B[43m \u001B[49m\u001B[38;5;28;43mself\u001B[39;49m\u001B[38;5;241;43m.\u001B[39;49m\u001B[43m_shared_axes\u001B[49m\u001B[43m[\u001B[49m\u001B[38;5;124;43m\"\u001B[39;49m\u001B[38;5;124;43my\u001B[39;49m\u001B[38;5;124;43m\"\u001B[39;49m\u001B[43m]\u001B[49m\u001B[38;5;241;43m.\u001B[39;49m\u001B[43mget_siblings\u001B[49m\u001B[43m(\u001B[49m\u001B[38;5;28;43mself\u001B[39;49m\u001B[43m)\u001B[49m\n\u001B[1;32m   2862\u001B[0m \u001B[43m            \u001B[49m\u001B[38;5;28;43;01mfor\u001B[39;49;00m\u001B[43m \u001B[49m\u001B[43martist\u001B[49m\u001B[43m \u001B[49m\u001B[38;5;129;43;01min\u001B[39;49;00m\u001B[43m \u001B[49m\u001B[43max\u001B[49m\u001B[38;5;241;43m.\u001B[39;49m\u001B[43mget_children\u001B[49m\u001B[43m(\u001B[49m\u001B[43m)\u001B[49m\u001B[43m]\u001B[49m\u001B[43m)\u001B[49m\u001B[43m)\u001B[49m\n\u001B[1;32m   2863\u001B[0m \u001B[38;5;28;01mif\u001B[39;00m \u001B[38;5;28mself\u001B[39m\u001B[38;5;241m.\u001B[39mget_xscale() \u001B[38;5;241m==\u001B[39m \u001B[38;5;124m'\u001B[39m\u001B[38;5;124mlog\u001B[39m\u001B[38;5;124m'\u001B[39m:\n\u001B[1;32m   2864\u001B[0m     x_stickies \u001B[38;5;241m=\u001B[39m x_stickies[x_stickies \u001B[38;5;241m>\u001B[39m \u001B[38;5;241m0\u001B[39m]\n",
      "\u001B[0;31mKeyboardInterrupt\u001B[0m: "
     ]
    },
    {
     "data": {
      "text/plain": "<Figure size 1200x800 with 2 Axes>",
      "image/png": "[encoded data removed]"
     },
     "metadata": {},
     "output_type": "display_data"
    }
   ],
   "source": [
    "\n",
    "\n",
    "criterion = nn.MSELoss()\n",
    "optimizer = optim.Adam(model.parameters(), lr=0.001)\n",
    "\n",
    "\n",
    "def train(model, epochs, train_loader, optimizer, criterion, k_plot):\n",
    "    liveloss = PlotLosses()\n",
    "\n",
    "    model.train()\n",
    "    for epoch in tqdm(range(epochs)):\n",
    "        logs = {}\n",
    "        running_loss = 0.0\n",
    "\n",
    "        for batch in train_loader:\n",
    "            optimizer.zero_grad()\n",
    "\n",
    "            # Forward pass\n",
    "            out = model(batch)\n",
    "            loss = criterion(out, batch.y.reshape(out.shape))\n",
    "\n",
    "            # Backward pass\n",
    "            loss.backward()\n",
    "            optimizer.step()\n",
    "\n",
    "            running_loss += loss.item()\n",
    "\n",
    "        average_loss = running_loss / len(train_loader.dataset)\n",
    "        logs['loss'] = average_loss\n",
    "\n",
    "        if np.mod(epoch, k_plot):\n",
    "            liveloss.update(logs)\n",
    "            liveloss.send()\n",
    "\n",
    "    print('Finished Training')\n",
    "\n",
    "\n",
    "train(model, epochs=100, train_loader=loader, optimizer=optimizer, criterion=criterion,\n",
    "      k_plot=10)\n"
   ],
   "metadata": {
    "collapsed": false
   },
   "id": "d88604998b788bca"
  },
  {
   "cell_type": "code",
   "execution_count": null,
   "outputs": [],
   "source": [
    "# Assuming your dataset is defined as 'dataset'\n",
    "eval_loader = DataLoader(dataset, batch_size=32, shuffle=False)\n",
    "\n",
    "# Evaluation\n",
    "with torch.no_grad():\n",
    "    for data in eval_loader:\n",
    "        out = model(data)\n",
    "        print(\"Predicted embedding:\", out)\n",
    "        print(\"Actual embedding:\", data.y.reshape(out.shape))\n",
    "        print(\"error:\", torch.norm(data.y.reshape(out.shape) - out))\n"
   ],
   "metadata": {
    "collapsed": false,
    "ExecuteTime": {
     "end_time": "2024-02-01T15:12:12.311530Z",
     "start_time": "2024-02-01T15:12:12.308556Z"
    }
   },
   "id": "618cc3b4131f2bb2"
  },
  {
   "cell_type": "code",
   "execution_count": null,
   "outputs": [],
   "source": [
    "\n",
    "# Step 5: Visualization and Evaluation\n",
    "\n",
    "# Extract all predicted and actual embeddings\n",
    "predicted_embeddings = []\n",
    "actual_embeddings = []\n",
    "\n",
    "with torch.no_grad():\n",
    "    for data in loader:\n",
    "        out = model(data)\n",
    "        predicted_embeddings.extend(out.tolist())\n",
    "        actual_embeddings.extend(data.y.tolist())\n",
    "\n",
    "# Convert to numpy arrays\n",
    "predicted_embeddings = np.array(predicted_embeddings)\n",
    "actual_embeddings = np.array(actual_embeddings)\n",
    "\n",
    "# Compute the mean squared error between predicted and actual embeddings\n",
    "mse = mean_squared_error(actual_embeddings, predicted_embeddings)\n",
    "print(f\"Mean Squared Error between predicted and actual embeddings: {mse:.4f}\")\n",
    "\n",
    "# Use t-SNE for visualization\n",
    "tsne = TSNE(n_components=2, random_state=42)\n",
    "all_embeddings = np.vstack((actual_embeddings, predicted_embeddings))\n",
    "embedded = tsne.fit_transform(all_embeddings)\n",
    "\n",
    "# Split the t-SNE transformed embeddings\n",
    "actual_tsne = embedded[:len(actual_embeddings)]\n",
    "predicted_tsne = embedded[len(actual_embeddings):]\n",
    "\n",
    "# Plotting\n",
    "plt.figure(figsize=(12, 6))\n",
    "plt.scatter(actual_tsne[:, 0], actual_tsne[:, 1], c='r', label='Actual Embeddings')\n",
    "plt.scatter(predicted_tsne[:, 0], predicted_tsne[:, 1], c='b', marker='x',\n",
    "            label='Predicted Embeddings')\n",
    "plt.legend()\n",
    "plt.title(\"t-SNE visualization of embeddings\")\n",
    "plt.show()\n"
   ],
   "metadata": {
    "collapsed": false,
    "ExecuteTime": {
     "start_time": "2024-02-01T15:12:12.309839Z"
    }
   },
   "id": "initial_id"
  }
 ],
 "metadata": {
  "kernelspec": {
   "display_name": "Python 3",
   "language": "python",
   "name": "python3"
  },
  "language_info": {
   "codemirror_mode": {
    "name": "ipython",
    "version": 2
   },
   "file_extension": ".py",
   "mimetype": "text/x-python",
   "name": "python",
   "nbconvert_exporter": "python",
   "pygments_lexer": "ipython2",
   "version": "2.7.6"
  }
 },
 "nbformat": 4,
 "nbformat_minor": 5
}
